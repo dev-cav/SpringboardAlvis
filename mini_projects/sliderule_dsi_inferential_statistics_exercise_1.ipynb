{
 "cells": [
  {
   "cell_type": "markdown",
   "metadata": {},
   "source": [
    "# What is the True Normal Human Body Temperature? \n",
    "\n",
    "#### Background\n",
    "\n",
    "The mean normal body temperature was held to be 37$^{\\circ}$C or 98.6$^{\\circ}$F for more than 120 years since it was first conceptualized and reported by Carl Wunderlich in a famous 1868 book. But, is this value statistically correct?"
   ]
  },
  {
   "cell_type": "markdown",
   "metadata": {},
   "source": [
    "<h3>Exercises</h3>\n",
    "\n",
    "<p>In this exercise, you will analyze a dataset of human body temperatures and employ the concepts of hypothesis testing, confidence intervals, and statistical significance.</p>\n",
    "\n",
    "<p>Answer the following questions <b>in this notebook below and submit to your Github account</b>.</p> \n",
    "\n",
    "<ol>\n",
    "<li>  Is the distribution of body temperatures normal? \n",
    "    <ul>\n",
    "    <li> Although this is not a requirement for the Central Limit Theorem to hold (read the introduction on Wikipedia's page about the CLT carefully: https://en.wikipedia.org/wiki/Central_limit_theorem), it gives us some peace of mind that the population may also be normally distributed if we assume that this sample is representative of the population.\n",
    "    <li> Think about the way you're going to check for the normality of the distribution. Graphical methods are usually used first, but there are also other ways: https://en.wikipedia.org/wiki/Normality_test\n",
    "    </ul>\n",
    "<li>  Is the sample size large? Are the observations independent?\n",
    "    <ul>\n",
    "    <li> Remember that this is a condition for the Central Limit Theorem, and hence the statistical tests we are using, to apply.\n",
    "    </ul>\n",
    "<li>  Is the true population mean really 98.6 degrees F?\n",
    "    <ul>\n",
    "    <li> First, try a bootstrap hypothesis test.\n",
    "    <li> Now, let's try frequentist statistical testing. Would you use a one-sample or two-sample test? Why?\n",
    "    <li> In this situation, is it appropriate to use the $t$ or $z$ statistic? \n",
    "    <li> Now try using the other test. How is the result be different? Why?\n",
    "    </ul>\n",
    "<li>  Draw a small sample of size 10 from the data and repeat both frequentist tests. \n",
    "    <ul>\n",
    "    <li> Which one is the correct one to use? \n",
    "    <li> What do you notice? What does this tell you about the difference in application of the $t$ and $z$ statistic?\n",
    "    </ul>\n",
    "<li>  At what temperature should we consider someone's temperature to be \"abnormal\"?\n",
    "    <ul>\n",
    "    <li> As in the previous example, try calculating everything using the boostrap approach, as well as the frequentist approach.\n",
    "    <li> Start by computing the margin of error and confidence interval. When calculating the confidence interval, keep in mind that you should use the appropriate formula for one draw, and not N draws.\n",
    "    </ul>\n",
    "<li>  Is there a significant difference between males and females in normal temperature?\n",
    "    <ul>\n",
    "    <li> What testing approach did you use and why?\n",
    "    <li> Write a story with your conclusion in the context of the original problem.\n",
    "    </ul>\n",
    "</ol>\n",
    "\n",
    "You can include written notes in notebook cells using Markdown: \n",
    "   - In the control panel at the top, choose Cell > Cell Type > Markdown\n",
    "   - Markdown syntax: http://nestacms.com/docs/creating-content/markdown-cheat-sheet\n",
    "\n",
    "#### Resources\n",
    "\n",
    "+ Information and data sources: http://www.amstat.org/publications/jse/datasets/normtemp.txt, http://www.amstat.org/publications/jse/jse_data_archive.htm\n",
    "+ Markdown syntax: http://nestacms.com/docs/creating-content/markdown-cheat-sheet\n",
    "\n",
    "****"
   ]
  },
  {
   "cell_type": "code",
   "execution_count": 2,
   "metadata": {},
   "outputs": [],
   "source": [
    "import pandas as pd\n",
    "import numpy as np\n",
    "import matplotlib.pyplot as plt\n",
    "%matplotlib inline\n",
    "\n",
    "df = pd.read_csv('data/human_body_temperature.csv')"
   ]
  },
  {
   "cell_type": "code",
   "execution_count": 3,
   "metadata": {},
   "outputs": [
    {
     "data": {
      "text/html": [
       "<div>\n",
       "<style scoped>\n",
       "    .dataframe tbody tr th:only-of-type {\n",
       "        vertical-align: middle;\n",
       "    }\n",
       "\n",
       "    .dataframe tbody tr th {\n",
       "        vertical-align: top;\n",
       "    }\n",
       "\n",
       "    .dataframe thead th {\n",
       "        text-align: right;\n",
       "    }\n",
       "</style>\n",
       "<table border=\"1\" class=\"dataframe\">\n",
       "  <thead>\n",
       "    <tr style=\"text-align: right;\">\n",
       "      <th></th>\n",
       "      <th>temperature</th>\n",
       "      <th>gender</th>\n",
       "      <th>heart_rate</th>\n",
       "    </tr>\n",
       "  </thead>\n",
       "  <tbody>\n",
       "    <tr>\n",
       "      <th>0</th>\n",
       "      <td>99.3</td>\n",
       "      <td>F</td>\n",
       "      <td>68.0</td>\n",
       "    </tr>\n",
       "    <tr>\n",
       "      <th>1</th>\n",
       "      <td>98.4</td>\n",
       "      <td>F</td>\n",
       "      <td>81.0</td>\n",
       "    </tr>\n",
       "    <tr>\n",
       "      <th>2</th>\n",
       "      <td>97.8</td>\n",
       "      <td>M</td>\n",
       "      <td>73.0</td>\n",
       "    </tr>\n",
       "    <tr>\n",
       "      <th>3</th>\n",
       "      <td>99.2</td>\n",
       "      <td>F</td>\n",
       "      <td>66.0</td>\n",
       "    </tr>\n",
       "    <tr>\n",
       "      <th>4</th>\n",
       "      <td>98.0</td>\n",
       "      <td>F</td>\n",
       "      <td>73.0</td>\n",
       "    </tr>\n",
       "  </tbody>\n",
       "</table>\n",
       "</div>"
      ],
      "text/plain": [
       "   temperature gender  heart_rate\n",
       "0         99.3      F        68.0\n",
       "1         98.4      F        81.0\n",
       "2         97.8      M        73.0\n",
       "3         99.2      F        66.0\n",
       "4         98.0      F        73.0"
      ]
     },
     "execution_count": 3,
     "metadata": {},
     "output_type": "execute_result"
    }
   ],
   "source": [
    "df.head()"
   ]
  },
  {
   "cell_type": "markdown",
   "metadata": {},
   "source": [
    "# 1: Is the distribution of body temperatures normal?"
   ]
  },
  {
   "cell_type": "code",
   "execution_count": 4,
   "metadata": {},
   "outputs": [
    {
     "data": {
      "image/png": "[encoded data removed]",
      "text/plain": [
       "<Figure size 432x288 with 1 Axes>"
      ]
     },
     "metadata": {
      "needs_background": "light"
     },
     "output_type": "display_data"
    }
   ],
   "source": [
    "_ = df.plot.hist(x='temperature', bins=30, title='Distribution of Human Body Temperatures')\n",
    "_ = plt.xlabel('temperature (deg F)')"
   ]
  },
  {
   "cell_type": "markdown",
   "metadata": {},
   "source": [
    "At a first glance, this does not appear to be a normal distribution."
   ]
  },
  {
   "cell_type": "code",
   "execution_count": 5,
   "metadata": {},
   "outputs": [
    {
     "name": "stdout",
     "output_type": "stream",
     "text": [
      "(98.24923076923078, 0.7331831580389454)\n"
     ]
    }
   ],
   "source": [
    "temp_avg = df.temperature.mean()\n",
    "temp_std = df.temperature.std()\n",
    "print(temp_avg, temp_std)"
   ]
  },
  {
   "cell_type": "code",
   "execution_count": 6,
   "metadata": {},
   "outputs": [],
   "source": [
    "temp_percentiles = np.percentile(df.temperature, [0.15, 2.5, 16, 50, 84, 97.5, 99.85])"
   ]
  },
  {
   "cell_type": "code",
   "execution_count": 7,
   "metadata": {},
   "outputs": [
    {
     "name": "stdout",
     "output_type": "stream",
     "text": [
      "('Percentile: 96.31935', 'Expected percentile (assuming normal): 96.0496812951', 'Difference: 0.26966870488605865')\n",
      "('Percentile: 96.7225', 'Expected percentile (assuming normal): 96.7828644532', 'Difference: -0.060364453152890185')\n",
      "('Percentile: 97.564', 'Expected percentile (assuming normal): 97.5160476112', 'Difference: 0.04795238880816077')\n",
      "('Percentile: 98.3', 'Expected percentile (assuming normal): 98.2492307692', 'Difference: 0.050769230769219575')\n",
      "('Percentile: 98.836', 'Expected percentile (assuming normal): 98.9824139273', 'Difference: -0.14641392726972446')\n",
      "('Percentile: 99.4775', 'Expected percentile (assuming normal): 99.7155970853', 'Difference: -0.23809708530866214')\n",
      "('Percentile: 100.6452', 'Expected percentile (assuming normal): 100.448780243', 'Difference: 0.19641975665238887')\n"
     ]
    }
   ],
   "source": [
    "for idx, temp in enumerate(temp_percentiles):\n",
    "    print(\"Percentile: \" + str(temp),\n",
    "          \"Expected percentile (assuming normal): \" + str(temp_avg + temp_std * (idx - 3)),\n",
    "          \"Difference: \" + str(temp - temp_avg - temp_std * (idx - 3)))"
   ]
  },
  {
   "cell_type": "markdown",
   "metadata": {},
   "source": [
    "These differences between the expected percentiles (if the distribution was normal) and the actual percentiles suggest that the normal distribution does not accurately model the data, especially around the tails."
   ]
  },
  {
   "cell_type": "code",
   "execution_count": 8,
   "metadata": {},
   "outputs": [
    {
     "name": "stdout",
     "output_type": "stream",
     "text": [
      "(100.8, 96.3)\n"
     ]
    }
   ],
   "source": [
    "print(df.temperature.max(), df.temperature.min())"
   ]
  },
  {
   "cell_type": "code",
   "execution_count": 9,
   "metadata": {},
   "outputs": [
    {
     "name": "stdout",
     "output_type": "stream",
     "text": [
      "(3.479034130559948, -2.6585863953072972)\n"
     ]
    }
   ],
   "source": [
    "print((df.temperature.max() - temp_avg)/temp_std,\n",
    "      (df.temperature.min() - temp_avg)/temp_std)"
   ]
  },
  {
   "cell_type": "code",
   "execution_count": 10,
   "metadata": {},
   "outputs": [
    {
     "data": {
      "text/plain": [
       "130"
      ]
     },
     "execution_count": 10,
     "metadata": {},
     "output_type": "execute_result"
    }
   ],
   "source": [
    "df.temperature.count()"
   ]
  },
  {
   "cell_type": "markdown",
   "metadata": {},
   "source": [
    "According to the wikipedia article on Normality Tests, this back-of-the-envelope test suggests that because there is a 3 sigma event (the maximum) and there are significantly fewer than 300 events in the data, the normal distribution understates the expected maximum devations in the data. Simply put, the normal distribution is inaccurate."
   ]
  },
  {
   "cell_type": "markdown",
   "metadata": {},
   "source": [
    "# 2: Is the sample size large? Are the observations independent?"
   ]
  },
  {
   "cell_type": "code",
   "execution_count": 11,
   "metadata": {},
   "outputs": [
    {
     "data": {
      "text/plain": [
       "130"
      ]
     },
     "execution_count": 11,
     "metadata": {},
     "output_type": "execute_result"
    }
   ],
   "source": [
    "df.temperature.count()"
   ]
  },
  {
   "cell_type": "markdown",
   "metadata": {},
   "source": [
    "The sample size is above 30, so the Central Limit Theorem should hold."
   ]
  },
  {
   "cell_type": "markdown",
   "metadata": {},
   "source": [
    "The data's description (http://jse.amstat.org/datasets/normtemp.txt) suggests that the data is a random sample, so I assume they made it less than 10% of the original dataset, so that the observations are independent."
   ]
  },
  {
   "cell_type": "markdown",
   "metadata": {},
   "source": [
    "# 3: Is the true population mean really 98.6 degrees F?"
   ]
  },
  {
   "cell_type": "markdown",
   "metadata": {},
   "source": [
    "## Bootstrap Hypothesis Test: Resample the data (with replacement) and calculate the mean. Do this many times."
   ]
  },
  {
   "cell_type": "code",
   "execution_count": 12,
   "metadata": {},
   "outputs": [
    {
     "data": {
      "image/png": "[encoded data removed]",
      "text/plain": [
       "<Figure size 432x288 with 1 Axes>"
      ]
     },
     "metadata": {
      "needs_background": "light"
     },
     "output_type": "display_data"
    }
   ],
   "source": [
    "bootstrap_means = []\n",
    "data = np.array(df.temperature)\n",
    "\n",
    "for i in range(1000):\n",
    "    bootstrap_data = np.random.choice(data, 130)\n",
    "    bootstrap_means.append(np.mean(bootstrap_data))\n",
    "\n",
    "_ = plt.hist(x=bootstrap_means, bins=30)\n",
    "_ = plt.xlabel('Bootstrapped Mean Temperature')\n",
    "_ = plt.ylabel('frequency')"
   ]
  },
  {
   "cell_type": "markdown",
   "metadata": {},
   "source": [
    "It seems highly unlikely that 98.6 is the true population mean. That value didn't occur as the mean ever in 1000 tests."
   ]
  },
  {
   "cell_type": "markdown",
   "metadata": {},
   "source": [
    "## Now, let's try frequentist statistical testing. Would you use a one-sample or two-sample test? Why?"
   ]
  },
  {
   "cell_type": "markdown",
   "metadata": {},
   "source": [
    "I would use a 1-sample test, because the data naturally fits into one group. If I were comparing the means of female vs male temperatures, then I would use a 2-sample test."
   ]
  },
  {
   "cell_type": "markdown",
   "metadata": {},
   "source": [
    "## In this situation, is it appropriate to use the  t  or  z  statistic?"
   ]
  },
  {
   "cell_type": "markdown",
   "metadata": {},
   "source": [
    "I would use the t-statistic, because this is a test about the mean, rather than a proportion."
   ]
  },
  {
   "cell_type": "markdown",
   "metadata": {},
   "source": [
    "H_o: The population has a mean of 98.6 deg F\n",
    "\n",
    "H_a: The population does not have a mean of 98.6 deg F\n",
    "\n",
    "alpha = 0.05\n",
    "\n",
    "We can test this by seeing what the probability is of having a sample with mean 98.24 and std 0.073, given that the true population mean we have is 98.6.\n",
    "\n",
    "We can do a t-test of the mean with 129 degrees of freedom."
   ]
  },
  {
   "cell_type": "code",
   "execution_count": 13,
   "metadata": {},
   "outputs": [],
   "source": [
    "true_mean = 98.6\n",
    "sample_mean = df.temperature.mean()\n",
    "sample_std = df.temperature.std()\n",
    "sample_size = df.temperature.count()"
   ]
  },
  {
   "cell_type": "code",
   "execution_count": 14,
   "metadata": {},
   "outputs": [
    {
     "name": "stdout",
     "output_type": "stream",
     "text": [
      "5.454823292364079\n"
     ]
    }
   ],
   "source": [
    "t_statistic = (true_mean - sample_mean)/(sample_std / np.sqrt(sample_size))\n",
    "print(t_statistic)"
   ]
  },
  {
   "cell_type": "code",
   "execution_count": 15,
   "metadata": {},
   "outputs": [
    {
     "name": "stdout",
     "output_type": "stream",
     "text": [
      "95% Confidence Interval for Temp Mean: 98.120621935555 to 98.37783960290656\n"
     ]
    }
   ],
   "source": [
    "print(\"95% Confidence Interval for Temp Mean: \" + str(sample_mean - 2 * sample_std/np.sqrt(sample_size)) +\n",
    "     \" to \" + str(sample_mean + 2 * sample_std/np.sqrt(sample_size)))"
   ]
  },
  {
   "cell_type": "markdown",
   "metadata": {},
   "source": [
    "T tables say that for 100 degrees of freedom, a t-statistic of 4.05 suggests that there is a p-value of 0.0001. More degrees of freedom decrease the threshold t-statistic for the p-value of 0.0001, so we can reject the null hypothesis."
   ]
  },
  {
   "cell_type": "markdown",
   "metadata": {},
   "source": [
    "## Now try using the other test. How is the result be different? Why?"
   ]
  },
  {
   "cell_type": "markdown",
   "metadata": {},
   "source": [
    "I don't understand this question. Neither using a z-statistic nor a 2 sample t-test are appropriate.\n",
    "\n",
    "The z-statistic is reserved for questions about a population or sample proportion (between 0 and 1). Additionally, unless we know the population's standard deviation, we cannot calculate exact probabilities from it. The z-table will underestimate them.\n",
    "\n",
    "The 2 sample t-test is for comparing data between two independent groups. This could be an option if we were comparing male and female body temperatures, and trying to see if there is a difference between their means, but that is not the question at hand."
   ]
  },
  {
   "cell_type": "markdown",
   "metadata": {},
   "source": [
    "# 4: Draw a small sample of size 10 from the data and repeat both frequentist tests."
   ]
  },
  {
   "cell_type": "markdown",
   "metadata": {},
   "source": [
    "## Which one is the correct one to use?"
   ]
  },
  {
   "cell_type": "markdown",
   "metadata": {},
   "source": [
    "We still should use a 1-sample t-test, because this is a test about the population mean, with only 1 group."
   ]
  },
  {
   "cell_type": "code",
   "execution_count": 16,
   "metadata": {},
   "outputs": [],
   "source": [
    "temp_sample = df.temperature.sample(10, random_state=42)\n",
    "sample_mean_min = temp_sample.mean()\n",
    "sample_std_min = temp_sample.std()\n",
    "sample_size_min = 10"
   ]
  },
  {
   "cell_type": "code",
   "execution_count": 17,
   "metadata": {},
   "outputs": [
    {
     "name": "stdout",
     "output_type": "stream",
     "text": [
      "1.5606191828511506\n"
     ]
    }
   ],
   "source": [
    "t_stat_min = (true_mean - sample_mean_min)/(sample_std_min / np.sqrt(sample_size_min))\n",
    "print(t_stat_min)"
   ]
  },
  {
   "cell_type": "markdown",
   "metadata": {},
   "source": [
    "A t-statistic of 1.56 and 9 degrees of freedom gives a p-value around 0.15 to have a difference in means as extreme as they are. The small sample size of this test prevents us from rejecting the null hypothesis that the population mean is not 98.6 def F."
   ]
  },
  {
   "cell_type": "markdown",
   "metadata": {},
   "source": [
    "## What do you notice? What does this tell you about the difference in application of the  t  and  z  statistic?"
   ]
  },
  {
   "cell_type": "markdown",
   "metadata": {},
   "source": [
    "The t-test lost its hypothesis rejecting power when the sample size became this small."
   ]
  },
  {
   "cell_type": "markdown",
   "metadata": {},
   "source": [
    "# 5: At what temperature should we consider someone's temperature to be \"abnormal\"?"
   ]
  },
  {
   "cell_type": "markdown",
   "metadata": {},
   "source": [
    "## As in the previous example, try calculating everything using the boostrap approach, as well as the frequentist approach."
   ]
  },
  {
   "cell_type": "markdown",
   "metadata": {},
   "source": [
    "## Start by computing the margin of error and confidence interval. When calculating the confidence interval, keep in mind that you should use the appropriate formula for one draw, and not N draws."
   ]
  },
  {
   "cell_type": "markdown",
   "metadata": {},
   "source": [
    "A reasonable definition for 'abnormal' temperature seems to be a temperature that has less than a 5% chance of happening by chance, if temperatures can be approximated by a normal distribution. This 5% level is the normal rejection level, and can also be expressed as any temperature that is 2 sigma away from the mean."
   ]
  },
  {
   "cell_type": "markdown",
   "metadata": {},
   "source": [
    "For the bootstrap approach, I can get bootstrap samples and calculate bootstrap means and standard deviations, then take the average of many of those to use as my std to determine what is 'abnormal'. The confidence interval for one temperature is just the bootstrapped sample's standard deviation, because N=1."
   ]
  },
  {
   "cell_type": "code",
   "execution_count": 18,
   "metadata": {},
   "outputs": [],
   "source": [
    "bootstrap_means = []\n",
    "bootstrap_stds = []\n",
    "\n",
    "for i in range(1000):\n",
    "    bootstrap = np.random.choice(data, 130)\n",
    "    bootstrap_means.append(np.mean(bootstrap))\n",
    "    bootstrap_stds.append(np.std(bootstrap))"
   ]
  },
  {
   "cell_type": "code",
   "execution_count": 19,
   "metadata": {},
   "outputs": [
    {
     "name": "stdout",
     "output_type": "stream",
     "text": [
      "(98.24668692307692, 0.724126259902918)\n"
     ]
    }
   ],
   "source": [
    "print(np.mean(bootstrap_means), np.mean(bootstrap_stds))"
   ]
  },
  {
   "cell_type": "code",
   "execution_count": 20,
   "metadata": {},
   "outputs": [
    {
     "name": "stdout",
     "output_type": "stream",
     "text": [
      "Normal temp range: 96.79843440327109 to 99.69493944288276\n"
     ]
    }
   ],
   "source": [
    "print(\"Normal temp range: \" + str(np.mean(bootstrap_means) - 2*np.mean(bootstrap_stds)) + \" to \" +\n",
    "      str(np.mean(bootstrap_means) + 2*np.mean(bootstrap_stds)))"
   ]
  },
  {
   "cell_type": "markdown",
   "metadata": {},
   "source": [
    "Frequentist approach: take the mean and std of the sample. Then use the same formula."
   ]
  },
  {
   "cell_type": "code",
   "execution_count": 21,
   "metadata": {},
   "outputs": [
    {
     "name": "stdout",
     "output_type": "stream",
     "text": [
      "Normal temp range: 96.7828644532 to 99.7155970853\n"
     ]
    }
   ],
   "source": [
    "print(\"Normal temp range: \" + str(temp_avg - 2 * temp_std) + \" to \" +\n",
    "     str(temp_avg + 2 * temp_std))"
   ]
  },
  {
   "cell_type": "markdown",
   "metadata": {},
   "source": [
    "# 6: Is there a significant difference between males and females in normal temperature?"
   ]
  },
  {
   "cell_type": "markdown",
   "metadata": {},
   "source": [
    "## What testing approach did you use and why?"
   ]
  },
  {
   "cell_type": "markdown",
   "metadata": {},
   "source": [
    "The appropriate test to use is a t-test. We use a t-test because this is a test about the mean, not a proportion. We do a 2-sample test because we are testing if the means of two independent groups are actually different."
   ]
  },
  {
   "cell_type": "code",
   "execution_count": 22,
   "metadata": {},
   "outputs": [],
   "source": [
    "df_male = df[df.gender == 'M']\n",
    "df_female = df[df.gender == 'F']"
   ]
  },
  {
   "cell_type": "code",
   "execution_count": 23,
   "metadata": {},
   "outputs": [],
   "source": [
    "male_avg = df_male.temperature.mean()\n",
    "male_std = df_male.temperature.std()\n",
    "male_count = df_male.temperature.count()\n",
    "\n",
    "female_avg = df_female.temperature.mean()\n",
    "female_std = df_female.temperature.std()\n",
    "female_count = df_female.temperature.count()"
   ]
  },
  {
   "cell_type": "code",
   "execution_count": 24,
   "metadata": {},
   "outputs": [
    {
     "data": {
      "text/plain": [
       "0.289230769230727"
      ]
     },
     "execution_count": 24,
     "metadata": {},
     "output_type": "execute_result"
    }
   ],
   "source": [
    "mean_diff = female_avg - male_avg\n",
    "mean_diff"
   ]
  },
  {
   "cell_type": "code",
   "execution_count": 25,
   "metadata": {},
   "outputs": [
    {
     "name": "stdout",
     "output_type": "stream",
     "text": [
      "(0.7434877527313665, 0.6987557623265908, 0.015697085651539017)\n"
     ]
    }
   ],
   "source": [
    "mean_diff_std = np.sqrt((female_std/np.mean(female_count))**2 + (male_std/np.mean(male_count))**2)\n",
    "print(female_std, male_std, mean_diff_std)"
   ]
  },
  {
   "cell_type": "code",
   "execution_count": 26,
   "metadata": {},
   "outputs": [
    {
     "name": "stdout",
     "output_type": "stream",
     "text": [
      "18.4257623135521\n"
     ]
    }
   ],
   "source": [
    "t_stat_2s = mean_diff / mean_diff_std\n",
    "print(t_stat_2s)"
   ]
  },
  {
   "cell_type": "code",
   "execution_count": 27,
   "metadata": {},
   "outputs": [
    {
     "name": "stdout",
     "output_type": "stream",
     "text": [
      "128\n"
     ]
    }
   ],
   "source": [
    "dof = (female_count - 1) + (male_count - 1)\n",
    "print(dof)"
   ]
  },
  {
   "cell_type": "markdown",
   "metadata": {},
   "source": [
    "The t-statistic for 100 degrees of freedom at the p = 0.001 level is 3.390. Having even more degrees of freedom will lower the t-statistic threshold corresponding to 0.001, and our t-statistic is over 18. Thus, I think it is overwhelmingly likely that there is a difference between male and female body temperatures."
   ]
  },
  {
   "cell_type": "code",
   "execution_count": 28,
   "metadata": {},
   "outputs": [
    {
     "name": "stdout",
     "output_type": "stream",
     "text": [
      "(98.39384615384613, 98.1046153846154)\n"
     ]
    }
   ],
   "source": [
    "print(female_avg, male_avg)"
   ]
  },
  {
   "cell_type": "markdown",
   "metadata": {},
   "source": [
    "## Conclusion"
   ]
  },
  {
   "cell_type": "markdown",
   "metadata": {},
   "source": [
    "The mean human body temperature is very unlikely to be 98.6 deg F. The 95% Confidence Interval for Temp Mean is 98.120621935555 to 98.37783960290656 def F. An interesting note about the mean, however, is that it is the midpoint of the means of the male and female participants' mean temperatures. The gender split in mean temperature is about 0.29 deg F, but is highly unlikely to be a random difference."
   ]
  },
  {
   "cell_type": "code",
   "execution_count": null,
   "metadata": {},
   "outputs": [],
   "source": []
  },
  {
   "cell_type": "code",
   "execution_count": null,
   "metadata": {},
   "outputs": [],
   "source": []
  },
  {
   "cell_type": "code",
   "execution_count": null,
   "metadata": {},
   "outputs": [],
   "source": []
  },
  {
   "cell_type": "code",
   "execution_count": null,
   "metadata": {},
   "outputs": [],
   "source": []
  },
  {
   "cell_type": "code",
   "execution_count": null,
   "metadata": {},
   "outputs": [],
   "source": []
  },
  {
   "cell_type": "code",
   "execution_count": null,
   "metadata": {},
   "outputs": [],
   "source": []
  }
 ],
 "metadata": {
  "kernelspec": {
   "display_name": "Python 2",
   "language": "python",
   "name": "python2"
  },
  "language_info": {
   "codemirror_mode": {
    "name": "ipython",
    "version": 2
   },
   "file_extension": ".py",
   "mimetype": "text/x-python",
   "name": "python",
   "nbconvert_exporter": "python",
   "pygments_lexer": "ipython2",
   "version": "2.7.15"
  }
 },
 "nbformat": 4,
 "nbformat_minor": 1
}
