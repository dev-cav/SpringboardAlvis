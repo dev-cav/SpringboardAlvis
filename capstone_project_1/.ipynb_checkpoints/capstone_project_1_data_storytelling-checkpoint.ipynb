{
 "cells": [
  {
   "cell_type": "markdown",
   "metadata": {},
   "source": [
    "# League of Legends Item Balancing\n",
    "\n",
    "The overarching question: How would a developer for this game know when they need to change an item?\n",
    "\n",
    "This notebook is the data storytelling for this capstone project."
   ]
  },
  {
   "cell_type": "markdown",
   "metadata": {},
   "source": [
    "## Data\n",
    "\n",
    "Champions: This is information on the playable characters in the game. \n",
    "\n",
    "Items: This is information on the purchasable items in the game.\n",
    "\n",
    "Match Data: This is information on games themselves, including played champions, final items bought, when the final items were bought, etc. "
   ]
  },
  {
   "cell_type": "code",
   "execution_count": 2,
   "metadata": {
    "collapsed": true
   },
   "outputs": [],
   "source": [
    "import math\n",
    "import numpy as np\n",
    "import pandas as pd\n",
    "import re\n",
    "import matplotlib.pyplot as plt\n",
    "%matplotlib inline"
   ]
  },
  {
   "cell_type": "markdown",
   "metadata": {},
   "source": [
    "Things to do with Machine Learning:\n",
    "\n",
    "play rate / win rate of items on champions with similar tags\n",
    "\n",
    "correlate win rate / kda with items (does building defensively help you win games that arent going well?)\n",
    "\n",
    "cost efficiencies? can i replicate what the generic lol cost breakdown is?"
   ]
  },
  {
   "cell_type": "code",
   "execution_count": 3,
   "metadata": {
    "collapsed": false,
    "scrolled": true
   },
   "outputs": [
    {
     "data": {
      "text/html": [
       "<div>\n",
       "<table border=\"1\" class=\"dataframe\">\n",
       "  <thead>\n",
       "    <tr style=\"text-align: right;\">\n",
       "      <th></th>\n",
       "      <th>championId</th>\n",
       "      <th>highestAchievedSeasonTier</th>\n",
       "      <th>item0_time</th>\n",
       "      <th>item1_time</th>\n",
       "      <th>item2_time</th>\n",
       "      <th>item3_time</th>\n",
       "      <th>item4_time</th>\n",
       "      <th>item5_time</th>\n",
       "      <th>item6_time</th>\n",
       "      <th>masteries</th>\n",
       "      <th>...</th>\n",
       "      <th>timeline.participantId</th>\n",
       "      <th>timeline.role</th>\n",
       "      <th>timeline.xpDiffPerMinDeltas.0-10</th>\n",
       "      <th>timeline.xpDiffPerMinDeltas.10-20</th>\n",
       "      <th>timeline.xpDiffPerMinDeltas.20-30</th>\n",
       "      <th>timeline.xpDiffPerMinDeltas.30-end</th>\n",
       "      <th>timeline.xpPerMinDeltas.0-10</th>\n",
       "      <th>timeline.xpPerMinDeltas.10-20</th>\n",
       "      <th>timeline.xpPerMinDeltas.20-30</th>\n",
       "      <th>timeline.xpPerMinDeltas.30-end</th>\n",
       "    </tr>\n",
       "  </thead>\n",
       "  <tbody>\n",
       "    <tr>\n",
       "      <th>0</th>\n",
       "      <td>103</td>\n",
       "      <td>SILVER</td>\n",
       "      <td>1442408</td>\n",
       "      <td>1317001</td>\n",
       "      <td>1097684</td>\n",
       "      <td>NaN</td>\n",
       "      <td>1955521</td>\n",
       "      <td>1859933</td>\n",
       "      <td>NaN</td>\n",
       "      <td>NaN</td>\n",
       "      <td>...</td>\n",
       "      <td>1</td>\n",
       "      <td>DUO_CARRY</td>\n",
       "      <td>-19.3</td>\n",
       "      <td>-24.55</td>\n",
       "      <td>-50.25</td>\n",
       "      <td>NaN</td>\n",
       "      <td>332.5</td>\n",
       "      <td>458.8</td>\n",
       "      <td>424.8</td>\n",
       "      <td>NaN</td>\n",
       "    </tr>\n",
       "  </tbody>\n",
       "</table>\n",
       "<p>1 rows × 151 columns</p>\n",
       "</div>"
      ],
      "text/plain": [
       "   championId highestAchievedSeasonTier  item0_time  item1_time  item2_time  \\\n",
       "0         103                    SILVER     1442408     1317001     1097684   \n",
       "\n",
       "   item3_time  item4_time  item5_time  item6_time masteries  \\\n",
       "0         NaN     1955521     1859933         NaN       NaN   \n",
       "\n",
       "                ...                timeline.participantId  timeline.role  \\\n",
       "0               ...                                     1      DUO_CARRY   \n",
       "\n",
       "  timeline.xpDiffPerMinDeltas.0-10  timeline.xpDiffPerMinDeltas.10-20  \\\n",
       "0                            -19.3                             -24.55   \n",
       "\n",
       "   timeline.xpDiffPerMinDeltas.20-30  timeline.xpDiffPerMinDeltas.30-end  \\\n",
       "0                             -50.25                                 NaN   \n",
       "\n",
       "   timeline.xpPerMinDeltas.0-10  timeline.xpPerMinDeltas.10-20  \\\n",
       "0                         332.5                          458.8   \n",
       "\n",
       "   timeline.xpPerMinDeltas.20-30  timeline.xpPerMinDeltas.30-end  \n",
       "0                          424.8                             NaN  \n",
       "\n",
       "[1 rows x 151 columns]"
      ]
     },
     "execution_count": 3,
     "metadata": {},
     "output_type": "execute_result"
    }
   ],
   "source": [
    "matches_df = pd.read_csv('match_data_2.csv', encoding='utf-8', index_col=0)\n",
    "matches_df.head(1)"
   ]
  },
  {
   "cell_type": "markdown",
   "metadata": {},
   "source": [
    "Distribution of item purchase times as a function of item slot. Items naturally go into slots sequentially (except for slot 6), but players can manually swap the slots. I'm unsure if that influences this data."
   ]
  },
  {
   "cell_type": "code",
   "execution_count": 3,
   "metadata": {
    "collapsed": false
   },
   "outputs": [
    {
     "data": {
      "text/plain": [
       "Text(0,0.5,'Purchase Time (ms)')"
      ]
     },
     "execution_count": 3,
     "metadata": {},
     "output_type": "execute_result"
    },
    {
     "data": {
      "image/png": "[encoded data removed]",
      "text/plain": [
       "<Figure size 432x288 with 1 Axes>"
      ]
     },
     "metadata": {
      "needs_background": "light"
     },
     "output_type": "display_data"
    }
   ],
   "source": [
    "matches_df.boxplot(column=['item0_time', 'item1_time', 'item2_time', 'item3_time',\n",
    "                           'item4_time', 'item5_time', 'item6_time'], return_type='axes', rot=45)\n",
    "plt.title('Purchase Time Distribution Per Item Slot')\n",
    "plt.ylabel('Purchase Time (ms)')"
   ]
  },
  {
   "cell_type": "code",
   "execution_count": 5,
   "metadata": {
    "collapsed": false
   },
   "outputs": [
    {
     "name": "stdout",
     "output_type": "stream",
     "text": [
      "The number of matches in the table is 925, and each match has 10 players/champions, so there are 9250 rows in the dataframe.\n"
     ]
    }
   ],
   "source": [
    "print(\"The number of matches in the table is \" + str(len(matches_df)/10) +\n",
    "      \", and each match has 10 players/champions, so there are \" + str(len(matches_df)) +\n",
    "      \" rows in the dataframe.\")"
   ]
  },
  {
   "cell_type": "markdown",
   "metadata": {},
   "source": [
    "Here is a sample of the items bought by 5 players in a game. 0s indicate no item purchased, and numbers are item_ids, which can be joined to the item table for readability. Item slot 6 is always occupied by one of three specific items, so it is unsurprising that all 5 players have the same item here."
   ]
  },
  {
   "cell_type": "code",
   "execution_count": 5,
   "metadata": {
    "collapsed": false
   },
   "outputs": [
    {
     "data": {
      "text/html": [
       "<div>\n",
       "<style scoped>\n",
       "    .dataframe tbody tr th:only-of-type {\n",
       "        vertical-align: middle;\n",
       "    }\n",
       "\n",
       "    .dataframe tbody tr th {\n",
       "        vertical-align: top;\n",
       "    }\n",
       "\n",
       "    .dataframe thead th {\n",
       "        text-align: right;\n",
       "    }\n",
       "</style>\n",
       "<table border=\"1\" class=\"dataframe\">\n",
       "  <thead>\n",
       "    <tr style=\"text-align: right;\">\n",
       "      <th></th>\n",
       "      <th>championId</th>\n",
       "      <th>stats.item0</th>\n",
       "      <th>stats.item1</th>\n",
       "      <th>stats.item2</th>\n",
       "      <th>stats.item3</th>\n",
       "      <th>stats.item4</th>\n",
       "      <th>stats.item5</th>\n",
       "      <th>stats.item6</th>\n",
       "    </tr>\n",
       "  </thead>\n",
       "  <tbody>\n",
       "    <tr>\n",
       "      <th>0</th>\n",
       "      <td>103</td>\n",
       "      <td>3020</td>\n",
       "      <td>3152</td>\n",
       "      <td>3285</td>\n",
       "      <td>0</td>\n",
       "      <td>1026</td>\n",
       "      <td>3157</td>\n",
       "      <td>3340</td>\n",
       "    </tr>\n",
       "    <tr>\n",
       "      <th>1</th>\n",
       "      <td>267</td>\n",
       "      <td>3117</td>\n",
       "      <td>3107</td>\n",
       "      <td>3092</td>\n",
       "      <td>3024</td>\n",
       "      <td>1029</td>\n",
       "      <td>1029</td>\n",
       "      <td>3340</td>\n",
       "    </tr>\n",
       "    <tr>\n",
       "      <th>2</th>\n",
       "      <td>24</td>\n",
       "      <td>1416</td>\n",
       "      <td>3078</td>\n",
       "      <td>3047</td>\n",
       "      <td>3748</td>\n",
       "      <td>0</td>\n",
       "      <td>0</td>\n",
       "      <td>3340</td>\n",
       "    </tr>\n",
       "    <tr>\n",
       "      <th>3</th>\n",
       "      <td>61</td>\n",
       "      <td>3020</td>\n",
       "      <td>3285</td>\n",
       "      <td>3157</td>\n",
       "      <td>3135</td>\n",
       "      <td>3165</td>\n",
       "      <td>2139</td>\n",
       "      <td>3340</td>\n",
       "    </tr>\n",
       "    <tr>\n",
       "      <th>4</th>\n",
       "      <td>41</td>\n",
       "      <td>3078</td>\n",
       "      <td>3047</td>\n",
       "      <td>3053</td>\n",
       "      <td>3133</td>\n",
       "      <td>0</td>\n",
       "      <td>0</td>\n",
       "      <td>3340</td>\n",
       "    </tr>\n",
       "  </tbody>\n",
       "</table>\n",
       "</div>"
      ],
      "text/plain": [
       "   championId  stats.item0  stats.item1  stats.item2  stats.item3  \\\n",
       "0         103         3020         3152         3285            0   \n",
       "1         267         3117         3107         3092         3024   \n",
       "2          24         1416         3078         3047         3748   \n",
       "3          61         3020         3285         3157         3135   \n",
       "4          41         3078         3047         3053         3133   \n",
       "\n",
       "   stats.item4  stats.item5  stats.item6  \n",
       "0         1026         3157         3340  \n",
       "1         1029         1029         3340  \n",
       "2            0            0         3340  \n",
       "3         3165         2139         3340  \n",
       "4            0            0         3340  "
      ]
     },
     "execution_count": 5,
     "metadata": {},
     "output_type": "execute_result"
    }
   ],
   "source": [
    "matches_df[['championId', 'stats.item0', 'stats.item1', 'stats.item2', 'stats.item3',\n",
    "           'stats.item4', 'stats.item5', 'stats.item6']].head()"
   ]
  },
  {
   "cell_type": "markdown",
   "metadata": {},
   "source": [
    "This is the champion table. There are 141 playable champions."
   ]
  },
  {
   "cell_type": "code",
   "execution_count": 89,
   "metadata": {
    "collapsed": false
   },
   "outputs": [
    {
     "data": {
      "text/html": [
       "<div>\n",
       "<table border=\"1\" class=\"dataframe\">\n",
       "  <thead>\n",
       "    <tr style=\"text-align: right;\">\n",
       "      <th></th>\n",
       "      <th>name</th>\n",
       "      <th>id</th>\n",
       "      <th>key</th>\n",
       "      <th>tags</th>\n",
       "      <th>info.attack</th>\n",
       "      <th>info.defense</th>\n",
       "      <th>info.difficulty</th>\n",
       "      <th>info.magic</th>\n",
       "    </tr>\n",
       "    <tr>\n",
       "      <th>champion_name</th>\n",
       "      <th></th>\n",
       "      <th></th>\n",
       "      <th></th>\n",
       "      <th></th>\n",
       "      <th></th>\n",
       "      <th></th>\n",
       "      <th></th>\n",
       "      <th></th>\n",
       "    </tr>\n",
       "  </thead>\n",
       "  <tbody>\n",
       "    <tr>\n",
       "      <th>MonkeyKing</th>\n",
       "      <td>Wukong</td>\n",
       "      <td>MonkeyKing</td>\n",
       "      <td>62</td>\n",
       "      <td>[Fighter, Tank]</td>\n",
       "      <td>8</td>\n",
       "      <td>5</td>\n",
       "      <td>3</td>\n",
       "      <td>2</td>\n",
       "    </tr>\n",
       "    <tr>\n",
       "      <th>Jax</th>\n",
       "      <td>Jax</td>\n",
       "      <td>Jax</td>\n",
       "      <td>24</td>\n",
       "      <td>[Fighter, Assassin]</td>\n",
       "      <td>7</td>\n",
       "      <td>5</td>\n",
       "      <td>5</td>\n",
       "      <td>7</td>\n",
       "    </tr>\n",
       "  </tbody>\n",
       "</table>\n",
       "</div>"
      ],
      "text/plain": [
       "                 name          id  key                 tags  info.attack  \\\n",
       "champion_name                                                              \n",
       "MonkeyKing     Wukong  MonkeyKing   62      [Fighter, Tank]            8   \n",
       "Jax               Jax         Jax   24  [Fighter, Assassin]            7   \n",
       "\n",
       "               info.defense  info.difficulty  info.magic  \n",
       "champion_name                                             \n",
       "MonkeyKing                5                3           2  \n",
       "Jax                       5                5           7  "
      ]
     },
     "execution_count": 89,
     "metadata": {},
     "output_type": "execute_result"
    }
   ],
   "source": [
    "champions_min_df = pd.read_csv('champions_min_8.22.1.csv', encoding='utf-8', index_col=0)\n",
    "champions_min_df.head(2)"
   ]
  },
  {
   "cell_type": "code",
   "execution_count": 90,
   "metadata": {
    "collapsed": false
   },
   "outputs": [
    {
     "data": {
      "text/plain": [
       "u'[Fighter, Assassin]'"
      ]
     },
     "execution_count": 90,
     "metadata": {},
     "output_type": "execute_result"
    }
   ],
   "source": [
    "champions_min_df.loc['Jax', 'tags']"
   ]
  },
  {
   "cell_type": "code",
   "execution_count": 91,
   "metadata": {
    "collapsed": true
   },
   "outputs": [],
   "source": [
    "champions_min_df['tags'] = [re.findall('[A-Za-z]\\w*', champions_min_df.loc[champion, 'tags']) for champion in champions_min_df.index]"
   ]
  },
  {
   "cell_type": "code",
   "execution_count": 92,
   "metadata": {
    "collapsed": false
   },
   "outputs": [
    {
     "data": {
      "text/plain": [
       "[u'Fighter', u'Assassin']"
      ]
     },
     "execution_count": 92,
     "metadata": {},
     "output_type": "execute_result"
    }
   ],
   "source": [
    "champions_min_df.loc['Jax', 'tags']"
   ]
  },
  {
   "cell_type": "code",
   "execution_count": 93,
   "metadata": {
    "collapsed": true
   },
   "outputs": [],
   "source": [
    "champions_min_df.to_csv('champions_min_8.22.1.csv', encoding='utf-8')"
   ]
  },
  {
   "cell_type": "code",
   "execution_count": 94,
   "metadata": {
    "collapsed": false
   },
   "outputs": [
    {
     "data": {
      "text/plain": [
       "141"
      ]
     },
     "execution_count": 94,
     "metadata": {},
     "output_type": "execute_result"
    }
   ],
   "source": [
    "len(champions_min_df)"
   ]
  },
  {
   "cell_type": "code",
   "execution_count": 95,
   "metadata": {
    "collapsed": false
   },
   "outputs": [
    {
     "data": {
      "text/html": [
       "<div>\n",
       "<table border=\"1\" class=\"dataframe\">\n",
       "  <thead>\n",
       "    <tr style=\"text-align: right;\">\n",
       "      <th></th>\n",
       "      <th>name</th>\n",
       "      <th>id</th>\n",
       "      <th>key</th>\n",
       "      <th>tags</th>\n",
       "      <th>info.attack</th>\n",
       "      <th>info.defense</th>\n",
       "      <th>info.difficulty</th>\n",
       "      <th>info.magic</th>\n",
       "    </tr>\n",
       "    <tr>\n",
       "      <th>champion_name</th>\n",
       "      <th></th>\n",
       "      <th></th>\n",
       "      <th></th>\n",
       "      <th></th>\n",
       "      <th></th>\n",
       "      <th></th>\n",
       "      <th></th>\n",
       "      <th></th>\n",
       "    </tr>\n",
       "  </thead>\n",
       "  <tbody>\n",
       "    <tr>\n",
       "      <th>Gangplank</th>\n",
       "      <td>Gangplank</td>\n",
       "      <td>Gangplank</td>\n",
       "      <td>41</td>\n",
       "      <td>[Fighter]</td>\n",
       "      <td>7</td>\n",
       "      <td>6</td>\n",
       "      <td>9</td>\n",
       "      <td>4</td>\n",
       "    </tr>\n",
       "  </tbody>\n",
       "</table>\n",
       "</div>"
      ],
      "text/plain": [
       "                    name         id  key       tags  info.attack  \\\n",
       "champion_name                                                      \n",
       "Gangplank      Gangplank  Gangplank   41  [Fighter]            7   \n",
       "\n",
       "               info.defense  info.difficulty  info.magic  \n",
       "champion_name                                             \n",
       "Gangplank                 6                9           4  "
      ]
     },
     "execution_count": 95,
     "metadata": {},
     "output_type": "execute_result"
    }
   ],
   "source": [
    "champions_min_df[champions_min_df['key'] == 41]"
   ]
  },
  {
   "cell_type": "markdown",
   "metadata": {},
   "source": [
    "This is the item table. There are 237 items in it, but most of them will not be used for this analysis."
   ]
  },
  {
   "cell_type": "code",
   "execution_count": 3,
   "metadata": {
    "collapsed": false
   },
   "outputs": [
    {
     "data": {
      "text/html": [
       "<div>\n",
       "<table border=\"1\" class=\"dataframe\">\n",
       "  <thead>\n",
       "    <tr style=\"text-align: right;\">\n",
       "      <th></th>\n",
       "      <th>name</th>\n",
       "      <th>description</th>\n",
       "      <th>consumed</th>\n",
       "      <th>base_gold</th>\n",
       "      <th>depth</th>\n",
       "      <th>sr</th>\n",
       "      <th>effect1amount</th>\n",
       "      <th>effect2amount</th>\n",
       "      <th>effect3amount</th>\n",
       "      <th>effect4amount</th>\n",
       "      <th>...</th>\n",
       "      <th>flat_hp_regen_mod</th>\n",
       "      <th>flat_magic_dmg_mod</th>\n",
       "      <th>flat_ms_mod</th>\n",
       "      <th>flat_phys_dmg_mod</th>\n",
       "      <th>flat_spellblock_mod</th>\n",
       "      <th>flat_pct_atk_speed_mod</th>\n",
       "      <th>pct_lifesteal_mod</th>\n",
       "      <th>pct_movespeed_mod</th>\n",
       "      <th>tags</th>\n",
       "      <th>full_item</th>\n",
       "    </tr>\n",
       "    <tr>\n",
       "      <th>item_id</th>\n",
       "      <th></th>\n",
       "      <th></th>\n",
       "      <th></th>\n",
       "      <th></th>\n",
       "      <th></th>\n",
       "      <th></th>\n",
       "      <th></th>\n",
       "      <th></th>\n",
       "      <th></th>\n",
       "      <th></th>\n",
       "      <th></th>\n",
       "      <th></th>\n",
       "      <th></th>\n",
       "      <th></th>\n",
       "      <th></th>\n",
       "      <th></th>\n",
       "      <th></th>\n",
       "      <th></th>\n",
       "      <th></th>\n",
       "      <th></th>\n",
       "      <th></th>\n",
       "    </tr>\n",
       "  </thead>\n",
       "  <tbody>\n",
       "    <tr>\n",
       "      <th>1001</th>\n",
       "      <td>Boots of Speed</td>\n",
       "      <td>&lt;groupLimit&gt;Limited to 1 pair of boots.&lt;/group...</td>\n",
       "      <td>0</td>\n",
       "      <td>300</td>\n",
       "      <td>0</td>\n",
       "      <td>True</td>\n",
       "      <td>0</td>\n",
       "      <td>0</td>\n",
       "      <td>0</td>\n",
       "      <td>0</td>\n",
       "      <td>...</td>\n",
       "      <td>0</td>\n",
       "      <td>0</td>\n",
       "      <td>25</td>\n",
       "      <td>0</td>\n",
       "      <td>0</td>\n",
       "      <td>0</td>\n",
       "      <td>0</td>\n",
       "      <td>0</td>\n",
       "      <td>[Boots]</td>\n",
       "      <td>False</td>\n",
       "    </tr>\n",
       "    <tr>\n",
       "      <th>1004</th>\n",
       "      <td>Faerie Charm</td>\n",
       "      <td>&lt;stats&gt;&lt;mana&gt;+25% Base Mana Regen &lt;/mana&gt;&lt;/stats&gt;</td>\n",
       "      <td>0</td>\n",
       "      <td>125</td>\n",
       "      <td>0</td>\n",
       "      <td>True</td>\n",
       "      <td>0</td>\n",
       "      <td>0</td>\n",
       "      <td>0</td>\n",
       "      <td>0</td>\n",
       "      <td>...</td>\n",
       "      <td>0</td>\n",
       "      <td>0</td>\n",
       "      <td>0</td>\n",
       "      <td>0</td>\n",
       "      <td>0</td>\n",
       "      <td>0</td>\n",
       "      <td>0</td>\n",
       "      <td>0</td>\n",
       "      <td>[ManaRegen]</td>\n",
       "      <td>False</td>\n",
       "    </tr>\n",
       "  </tbody>\n",
       "</table>\n",
       "<p>2 rows × 34 columns</p>\n",
       "</div>"
      ],
      "text/plain": [
       "                   name                                        description  \\\n",
       "item_id                                                                      \n",
       "1001     Boots of Speed  <groupLimit>Limited to 1 pair of boots.</group...   \n",
       "1004       Faerie Charm  <stats><mana>+25% Base Mana Regen </mana></stats>   \n",
       "\n",
       "        consumed  base_gold  depth    sr  effect1amount  effect2amount  \\\n",
       "item_id                                                                  \n",
       "1001           0        300      0  True              0              0   \n",
       "1004           0        125      0  True              0              0   \n",
       "\n",
       "         effect3amount  effect4amount    ...      flat_hp_regen_mod  \\\n",
       "item_id                                  ...                          \n",
       "1001                 0              0    ...                      0   \n",
       "1004                 0              0    ...                      0   \n",
       "\n",
       "         flat_magic_dmg_mod  flat_ms_mod  flat_phys_dmg_mod  \\\n",
       "item_id                                                       \n",
       "1001                      0           25                  0   \n",
       "1004                      0            0                  0   \n",
       "\n",
       "        flat_spellblock_mod flat_pct_atk_speed_mod pct_lifesteal_mod  \\\n",
       "item_id                                                                \n",
       "1001                      0                      0                 0   \n",
       "1004                      0                      0                 0   \n",
       "\n",
       "         pct_movespeed_mod         tags  full_item  \n",
       "item_id                                             \n",
       "1001                     0      [Boots]      False  \n",
       "1004                     0  [ManaRegen]      False  \n",
       "\n",
       "[2 rows x 34 columns]"
      ]
     },
     "execution_count": 3,
     "metadata": {},
     "output_type": "execute_result"
    }
   ],
   "source": [
    "items_df = pd.read_csv('items.8.22.1.csv', encoding='utf-8', index_col=0)\n",
    "items_df.head(2)"
   ]
  },
  {
   "cell_type": "code",
   "execution_count": 4,
   "metadata": {
    "collapsed": false
   },
   "outputs": [
    {
     "data": {
      "text/plain": [
       "Index([u'name', u'description', u'consumed', u'base_gold', u'depth', u'sr',\n",
       "       u'effect1amount', u'effect2amount', u'effect3amount', u'effect4amount',\n",
       "       u'effect5amount', u'effect6amount', u'effect7amount', u'effect8amount',\n",
       "       u'from', u'into', u'gold_purchasable', u'total_gold', u'req_champion',\n",
       "       u'special_recipe', u'stacks', u'flat_armor_mod',\n",
       "       u'flat_crit_chance_mod', u'flat_hp_pool_mod', u'flat_hp_regen_mod',\n",
       "       u'flat_magic_dmg_mod', u'flat_ms_mod', u'flat_phys_dmg_mod',\n",
       "       u'flat_spellblock_mod', u'flat_pct_atk_speed_mod', u'pct_lifesteal_mod',\n",
       "       u'pct_movespeed_mod', u'tags', u'full_item'],\n",
       "      dtype='object')"
      ]
     },
     "execution_count": 4,
     "metadata": {},
     "output_type": "execute_result"
    }
   ],
   "source": [
    "items_df.columns"
   ]
  },
  {
   "cell_type": "code",
   "execution_count": 118,
   "metadata": {
    "collapsed": false
   },
   "outputs": [
    {
     "data": {
      "text/plain": [
       "237"
      ]
     },
     "execution_count": 118,
     "metadata": {},
     "output_type": "execute_result"
    }
   ],
   "source": [
    "len(items_df)"
   ]
  },
  {
   "cell_type": "code",
   "execution_count": 5,
   "metadata": {
    "collapsed": false
   },
   "outputs": [
    {
     "data": {
      "text/plain": [
       "0.13037837837837837"
      ]
     },
     "execution_count": 5,
     "metadata": {},
     "output_type": "execute_result"
    }
   ],
   "source": [
    "len(items_df[items_df['gold_purchasable'] == True])*6/9250.0"
   ]
  },
  {
   "cell_type": "code",
   "execution_count": 6,
   "metadata": {
    "collapsed": false
   },
   "outputs": [
    {
     "data": {
      "text/plain": [
       "0.029850746268656716"
      ]
     },
     "execution_count": 6,
     "metadata": {},
     "output_type": "execute_result"
    }
   ],
   "source": [
    "6.0/len(items_df[items_df['gold_purchasable'] == True])"
   ]
  },
  {
   "cell_type": "markdown",
   "metadata": {},
   "source": [
    "Establish boolean column for identification as a final item (does not build into other items). \n",
    "\n",
    "The edge case shown below is the set of Ornn special items. They are built out of some normally finished items, but are generally not available. Abyssal Mask (id 3001) normally does not build into anything, but can be built into Infernal Mask (id 3379) under certain uncommon conditions. Abyssal Mask should still be considered a final item for the purposes on the analysis."
   ]
  },
  {
   "cell_type": "code",
   "execution_count": 7,
   "metadata": {
    "collapsed": false
   },
   "outputs": [
    {
     "data": {
      "text/html": [
       "<div>\n",
       "<table border=\"1\" class=\"dataframe\">\n",
       "  <thead>\n",
       "    <tr style=\"text-align: right;\">\n",
       "      <th></th>\n",
       "      <th>name</th>\n",
       "      <th>base_gold</th>\n",
       "      <th>total_gold</th>\n",
       "      <th>tags</th>\n",
       "    </tr>\n",
       "    <tr>\n",
       "      <th>item_id</th>\n",
       "      <th></th>\n",
       "      <th></th>\n",
       "      <th></th>\n",
       "      <th></th>\n",
       "    </tr>\n",
       "  </thead>\n",
       "  <tbody>\n",
       "    <tr>\n",
       "      <th>3371</th>\n",
       "      <td>Molten Edge</td>\n",
       "      <td>1000</td>\n",
       "      <td>4400</td>\n",
       "      <td>[Damage, CriticalStrike]</td>\n",
       "    </tr>\n",
       "    <tr>\n",
       "      <th>3373</th>\n",
       "      <td>Forgefire Cape</td>\n",
       "      <td>1000</td>\n",
       "      <td>3900</td>\n",
       "      <td>[Health, Armor]</td>\n",
       "    </tr>\n",
       "    <tr>\n",
       "      <th>3374</th>\n",
       "      <td>Rabadon's Deathcrown</td>\n",
       "      <td>1000</td>\n",
       "      <td>4600</td>\n",
       "      <td>[SpellDamage]</td>\n",
       "    </tr>\n",
       "    <tr>\n",
       "      <th>3379</th>\n",
       "      <td>Infernal Mask</td>\n",
       "      <td>1000</td>\n",
       "      <td>4000</td>\n",
       "      <td>[Health, SpellBlock, HealthRegen, Mana, ManaRe...</td>\n",
       "    </tr>\n",
       "    <tr>\n",
       "      <th>3380</th>\n",
       "      <td>The Obsidian Cleaver</td>\n",
       "      <td>1000</td>\n",
       "      <td>4000</td>\n",
       "      <td>[ArmorPenetration, CooldownReduction, Damage, ...</td>\n",
       "    </tr>\n",
       "    <tr>\n",
       "      <th>3382</th>\n",
       "      <td>Salvation</td>\n",
       "      <td>500</td>\n",
       "      <td>2600</td>\n",
       "      <td>[Health, HealthRegen, ManaRegen, CooldownReduc...</td>\n",
       "    </tr>\n",
       "    <tr>\n",
       "      <th>3383</th>\n",
       "      <td>Circlet of the Iron Solari</td>\n",
       "      <td>500</td>\n",
       "      <td>2700</td>\n",
       "      <td>[SpellBlock, Armor, Active]</td>\n",
       "    </tr>\n",
       "    <tr>\n",
       "      <th>3384</th>\n",
       "      <td>Trinity Fusion</td>\n",
       "      <td>1000</td>\n",
       "      <td>4733</td>\n",
       "      <td>[Health, Damage, AttackSpeed, Mana, CooldownRe...</td>\n",
       "    </tr>\n",
       "    <tr>\n",
       "      <th>3386</th>\n",
       "      <td>Zhonya's Paradox</td>\n",
       "      <td>1000</td>\n",
       "      <td>3900</td>\n",
       "      <td>[Armor, SpellDamage, Active, CooldownReduction]</td>\n",
       "    </tr>\n",
       "  </tbody>\n",
       "</table>\n",
       "</div>"
      ],
      "text/plain": [
       "                               name  base_gold  total_gold  \\\n",
       "item_id                                                      \n",
       "3371                    Molten Edge       1000        4400   \n",
       "3373                 Forgefire Cape       1000        3900   \n",
       "3374           Rabadon's Deathcrown       1000        4600   \n",
       "3379                  Infernal Mask       1000        4000   \n",
       "3380           The Obsidian Cleaver       1000        4000   \n",
       "3382                      Salvation        500        2600   \n",
       "3383     Circlet of the Iron Solari        500        2700   \n",
       "3384                 Trinity Fusion       1000        4733   \n",
       "3386               Zhonya's Paradox       1000        3900   \n",
       "\n",
       "                                                      tags  \n",
       "item_id                                                     \n",
       "3371                              [Damage, CriticalStrike]  \n",
       "3373                                       [Health, Armor]  \n",
       "3374                                         [SpellDamage]  \n",
       "3379     [Health, SpellBlock, HealthRegen, Mana, ManaRe...  \n",
       "3380     [ArmorPenetration, CooldownReduction, Damage, ...  \n",
       "3382     [Health, HealthRegen, ManaRegen, CooldownReduc...  \n",
       "3383                           [SpellBlock, Armor, Active]  \n",
       "3384     [Health, Damage, AttackSpeed, Mana, CooldownRe...  \n",
       "3386       [Armor, SpellDamage, Active, CooldownReduction]  "
      ]
     },
     "execution_count": 7,
     "metadata": {},
     "output_type": "execute_result"
    }
   ],
   "source": [
    "items_df[(items_df['full_item'] == True) &\n",
    "         (items_df['total_gold'] != 0)].loc[3371:3390,['name', 'base_gold', 'total_gold', 'tags']]"
   ]
  },
  {
   "cell_type": "code",
   "execution_count": 8,
   "metadata": {
    "collapsed": false
   },
   "outputs": [
    {
     "data": {
      "text/html": [
       "<div>\n",
       "<table border=\"1\" class=\"dataframe\">\n",
       "  <thead>\n",
       "    <tr style=\"text-align: right;\">\n",
       "      <th></th>\n",
       "      <th>name</th>\n",
       "      <th>base_gold</th>\n",
       "      <th>total_gold</th>\n",
       "      <th>into</th>\n",
       "      <th>full_item</th>\n",
       "      <th>tags</th>\n",
       "    </tr>\n",
       "    <tr>\n",
       "      <th>item_id</th>\n",
       "      <th></th>\n",
       "      <th></th>\n",
       "      <th></th>\n",
       "      <th></th>\n",
       "      <th></th>\n",
       "      <th></th>\n",
       "    </tr>\n",
       "  </thead>\n",
       "  <tbody>\n",
       "    <tr>\n",
       "      <th>3001</th>\n",
       "      <td>Abyssal Mask</td>\n",
       "      <td>1180</td>\n",
       "      <td>3000</td>\n",
       "      <td>[3379]</td>\n",
       "      <td>True</td>\n",
       "      <td>[Health, SpellBlock, HealthRegen, Mana, ManaRe...</td>\n",
       "    </tr>\n",
       "    <tr>\n",
       "      <th>3003</th>\n",
       "      <td>Archangel's Staff</td>\n",
       "      <td>1050</td>\n",
       "      <td>3200</td>\n",
       "      <td>0</td>\n",
       "      <td>True</td>\n",
       "      <td>[SpellDamage, Mana, ManaRegen, CooldownReduction]</td>\n",
       "    </tr>\n",
       "    <tr>\n",
       "      <th>3004</th>\n",
       "      <td>Manamune</td>\n",
       "      <td>675</td>\n",
       "      <td>2400</td>\n",
       "      <td>0</td>\n",
       "      <td>True</td>\n",
       "      <td>[Damage, Mana, ManaRegen, OnHit]</td>\n",
       "    </tr>\n",
       "    <tr>\n",
       "      <th>3006</th>\n",
       "      <td>Berserker's Greaves</td>\n",
       "      <td>500</td>\n",
       "      <td>1100</td>\n",
       "      <td>0</td>\n",
       "      <td>True</td>\n",
       "      <td>[AttackSpeed, Boots]</td>\n",
       "    </tr>\n",
       "    <tr>\n",
       "      <th>3007</th>\n",
       "      <td>Archangel's Staff (Quick Charge)</td>\n",
       "      <td>1050</td>\n",
       "      <td>3200</td>\n",
       "      <td>0</td>\n",
       "      <td>True</td>\n",
       "      <td>[SpellDamage, Mana, ManaRegen, CooldownReduction]</td>\n",
       "    </tr>\n",
       "  </tbody>\n",
       "</table>\n",
       "</div>"
      ],
      "text/plain": [
       "                                     name  base_gold  total_gold    into  \\\n",
       "item_id                                                                    \n",
       "3001                         Abyssal Mask       1180        3000  [3379]   \n",
       "3003                    Archangel's Staff       1050        3200       0   \n",
       "3004                             Manamune        675        2400       0   \n",
       "3006                  Berserker's Greaves        500        1100       0   \n",
       "3007     Archangel's Staff (Quick Charge)       1050        3200       0   \n",
       "\n",
       "        full_item                                               tags  \n",
       "item_id                                                               \n",
       "3001         True  [Health, SpellBlock, HealthRegen, Mana, ManaRe...  \n",
       "3003         True  [SpellDamage, Mana, ManaRegen, CooldownReduction]  \n",
       "3004         True                   [Damage, Mana, ManaRegen, OnHit]  \n",
       "3006         True                               [AttackSpeed, Boots]  \n",
       "3007         True  [SpellDamage, Mana, ManaRegen, CooldownReduction]  "
      ]
     },
     "execution_count": 8,
     "metadata": {},
     "output_type": "execute_result"
    }
   ],
   "source": [
    "items_df.loc[3000:,:][['name', 'base_gold', 'total_gold', 'into', 'full_item', 'tags']].head()"
   ]
  },
  {
   "cell_type": "code",
   "execution_count": null,
   "metadata": {
    "collapsed": true
   },
   "outputs": [],
   "source": []
  },
  {
   "cell_type": "code",
   "execution_count": 9,
   "metadata": {
    "collapsed": false
   },
   "outputs": [],
   "source": [
    "final_item = []\n",
    "ornn_items = [3371, 3373, 3374, 3379, 3380, 3382, 3383, 3384, 3386]\n",
    "\n",
    "for into_list in items_df['into']:\n",
    "    if (type(eval(into_list)) == int) and (eval(into_list) == 0) or ((type(eval(into_list)) == list) and eval(into_list)[0] in ornn_items):\n",
    "        final_item.append(True)\n",
    "    else:\n",
    "        final_item.append(False)"
   ]
  },
  {
   "cell_type": "code",
   "execution_count": 10,
   "metadata": {
    "collapsed": true,
    "scrolled": true
   },
   "outputs": [],
   "source": [
    "items_df['full_item'] = final_item"
   ]
  },
  {
   "cell_type": "markdown",
   "metadata": {},
   "source": [
    "Need to convert the tags column into a list of strings"
   ]
  },
  {
   "cell_type": "code",
   "execution_count": 11,
   "metadata": {
    "collapsed": false
   },
   "outputs": [
    {
     "data": {
      "text/plain": [
       "[u'Health',\n",
       " u'HealthRegen',\n",
       " u'Armor',\n",
       " u'Mana',\n",
       " u'Active',\n",
       " u'CooldownReduction',\n",
       " u'Slow',\n",
       " u'NonbootsMovement']"
      ]
     },
     "execution_count": 11,
     "metadata": {},
     "output_type": "execute_result"
    }
   ],
   "source": [
    "re.findall('[A-Za-z]\\w*', items_df.loc[3800, 'tags'])"
   ]
  },
  {
   "cell_type": "code",
   "execution_count": 12,
   "metadata": {
    "collapsed": true
   },
   "outputs": [],
   "source": [
    "items_df['tags'] = [re.findall('[A-Za-z]\\w*', items_df.loc[item_id, 'tags']) for item_id in items_df.index]"
   ]
  },
  {
   "cell_type": "code",
   "execution_count": 13,
   "metadata": {
    "collapsed": false
   },
   "outputs": [
    {
     "data": {
      "text/html": [
       "<div>\n",
       "<table border=\"1\" class=\"dataframe\">\n",
       "  <thead>\n",
       "    <tr style=\"text-align: right;\">\n",
       "      <th></th>\n",
       "      <th>name</th>\n",
       "      <th>base_gold</th>\n",
       "      <th>total_gold</th>\n",
       "      <th>tags</th>\n",
       "    </tr>\n",
       "    <tr>\n",
       "      <th>item_id</th>\n",
       "      <th></th>\n",
       "      <th></th>\n",
       "      <th></th>\n",
       "      <th></th>\n",
       "    </tr>\n",
       "  </thead>\n",
       "  <tbody>\n",
       "    <tr>\n",
       "      <th>3800</th>\n",
       "      <td>Righteous Glory</td>\n",
       "      <td>1100</td>\n",
       "      <td>2650</td>\n",
       "      <td>[Health, HealthRegen, Armor, Mana, Active, Coo...</td>\n",
       "    </tr>\n",
       "    <tr>\n",
       "      <th>3812</th>\n",
       "      <td>Death's Dance</td>\n",
       "      <td>625</td>\n",
       "      <td>3500</td>\n",
       "      <td>[Damage, LifeSteal, CooldownReduction]</td>\n",
       "    </tr>\n",
       "    <tr>\n",
       "      <th>3814</th>\n",
       "      <td>Edge of Night</td>\n",
       "      <td>625</td>\n",
       "      <td>3000</td>\n",
       "      <td>[Health, Damage, Active, ArmorPenetration]</td>\n",
       "    </tr>\n",
       "    <tr>\n",
       "      <th>3905</th>\n",
       "      <td>Twin Shadows</td>\n",
       "      <td>650</td>\n",
       "      <td>2400</td>\n",
       "      <td>[SpellDamage, Active, CooldownReduction, Slow,...</td>\n",
       "    </tr>\n",
       "    <tr>\n",
       "      <th>3907</th>\n",
       "      <td>Spellbinder</td>\n",
       "      <td>800</td>\n",
       "      <td>2900</td>\n",
       "      <td>[SpellDamage, Active, NonbootsMovement]</td>\n",
       "    </tr>\n",
       "  </tbody>\n",
       "</table>\n",
       "</div>"
      ],
      "text/plain": [
       "                    name  base_gold  total_gold  \\\n",
       "item_id                                           \n",
       "3800     Righteous Glory       1100        2650   \n",
       "3812       Death's Dance        625        3500   \n",
       "3814       Edge of Night        625        3000   \n",
       "3905        Twin Shadows        650        2400   \n",
       "3907         Spellbinder        800        2900   \n",
       "\n",
       "                                                      tags  \n",
       "item_id                                                     \n",
       "3800     [Health, HealthRegen, Armor, Mana, Active, Coo...  \n",
       "3812                [Damage, LifeSteal, CooldownReduction]  \n",
       "3814            [Health, Damage, Active, ArmorPenetration]  \n",
       "3905     [SpellDamage, Active, CooldownReduction, Slow,...  \n",
       "3907               [SpellDamage, Active, NonbootsMovement]  "
      ]
     },
     "execution_count": 13,
     "metadata": {},
     "output_type": "execute_result"
    }
   ],
   "source": [
    "items_df[(items_df['full_item'] == True) & (items_df['total_gold'] != 0)][['name', 'base_gold', 'total_gold', 'tags']].tail()"
   ]
  },
  {
   "cell_type": "code",
   "execution_count": 14,
   "metadata": {
    "collapsed": true
   },
   "outputs": [],
   "source": [
    "items_df.to_csv('items.8.22.1.csv', encoding='utf-8')"
   ]
  },
  {
   "cell_type": "markdown",
   "metadata": {},
   "source": [
    "## Build an item-indexed dataframe\n",
    "\n",
    "This dataframe will contain descriptive statistics on the purchase rate, win rate, and unique spread of champions that build each item. It is a set of aggregations on the match data table.\n",
    "\n",
    "### Pick Rate (related to count)"
   ]
  },
  {
   "cell_type": "code",
   "execution_count": 71,
   "metadata": {
    "collapsed": false
   },
   "outputs": [],
   "source": [
    "match_items = pd.DataFrame(matches_df[['stats.item0', 'stats.item1', 'stats.item2', 'stats.item3',\n",
    "                          'stats.item4', 'stats.item5', 'stats.item6']].stack().reset_index(drop=True),\n",
    "                          columns=['item_id'])"
   ]
  },
  {
   "cell_type": "code",
   "execution_count": 72,
   "metadata": {
    "collapsed": false
   },
   "outputs": [],
   "source": [
    "item_occ = pd.DataFrame(match_items.groupby('item_id').size(),\n",
    "                        columns=['count'])"
   ]
  },
  {
   "cell_type": "code",
   "execution_count": 73,
   "metadata": {
    "collapsed": false
   },
   "outputs": [
    {
     "data": {
      "text/html": [
       "<div>\n",
       "<table border=\"1\" class=\"dataframe\">\n",
       "  <thead>\n",
       "    <tr style=\"text-align: right;\">\n",
       "      <th></th>\n",
       "      <th>count</th>\n",
       "      <th>pick_rate</th>\n",
       "    </tr>\n",
       "    <tr>\n",
       "      <th>item_id</th>\n",
       "      <th></th>\n",
       "      <th></th>\n",
       "    </tr>\n",
       "  </thead>\n",
       "  <tbody>\n",
       "    <tr>\n",
       "      <th>0</th>\n",
       "      <td>5659</td>\n",
       "      <td>0.611784</td>\n",
       "    </tr>\n",
       "    <tr>\n",
       "      <th>1001</th>\n",
       "      <td>459</td>\n",
       "      <td>0.049622</td>\n",
       "    </tr>\n",
       "    <tr>\n",
       "      <th>1004</th>\n",
       "      <td>78</td>\n",
       "      <td>0.008432</td>\n",
       "    </tr>\n",
       "    <tr>\n",
       "      <th>1006</th>\n",
       "      <td>46</td>\n",
       "      <td>0.004973</td>\n",
       "    </tr>\n",
       "    <tr>\n",
       "      <th>1011</th>\n",
       "      <td>269</td>\n",
       "      <td>0.029081</td>\n",
       "    </tr>\n",
       "  </tbody>\n",
       "</table>\n",
       "</div>"
      ],
      "text/plain": [
       "         count  pick_rate\n",
       "item_id                  \n",
       "0         5659   0.611784\n",
       "1001       459   0.049622\n",
       "1004        78   0.008432\n",
       "1006        46   0.004973\n",
       "1011       269   0.029081"
      ]
     },
     "execution_count": 73,
     "metadata": {},
     "output_type": "execute_result"
    }
   ],
   "source": [
    "item_occ['pick_rate'] = item_occ['count']/len(matches_df)\n",
    "item_occ.head()"
   ]
  },
  {
   "cell_type": "markdown",
   "metadata": {},
   "source": [
    "### Champion spread"
   ]
  },
  {
   "cell_type": "code",
   "execution_count": 6,
   "metadata": {
    "collapsed": true
   },
   "outputs": [],
   "source": [
    "match_min_df = pd.DataFrame(matches_df[['championId', 'stats.item0', 'stats.item1', 'stats.item2', 'stats.item3',\n",
    "                                        'stats.item4', 'stats.item5', 'stats.item6']])"
   ]
  },
  {
   "cell_type": "code",
   "execution_count": 7,
   "metadata": {
    "collapsed": true
   },
   "outputs": [],
   "source": [
    "item_stack_sub_dfs = []\n",
    "for col_name in match_min_df.columns[1:]:\n",
    "    sub_df = match_min_df[['championId', col_name]]\n",
    "    sub_df.columns = ['championId', 'item_id']\n",
    "    item_stack_sub_dfs.append(sub_df)\n",
    "    \n",
    "item_stack_df = pd.concat(item_stack_sub_dfs)"
   ]
  },
  {
   "cell_type": "code",
   "execution_count": 8,
   "metadata": {
    "collapsed": false,
    "scrolled": true
   },
   "outputs": [
    {
     "name": "stdout",
     "output_type": "stream",
     "text": [
      "With 925 games at 10 players per game, and 7 items per player, we find 64750 combinations of champions and single items.\n"
     ]
    }
   ],
   "source": [
    "print(\"With \" + str(len(matches_df)/10) + \" games at 10 players per game, and 7 items per player, we find \" +\n",
    "      str(len(item_stack_df)) + \" combinations of champions and single items.\")"
   ]
  },
  {
   "cell_type": "code",
   "execution_count": 9,
   "metadata": {
    "collapsed": false
   },
   "outputs": [
    {
     "name": "stdout",
     "output_type": "stream",
     "text": [
      "However, only 7327 of the combinations are unique.\n"
     ]
    }
   ],
   "source": [
    "print(\"However, only \" + str(len(item_stack_df.drop_duplicates())) + \" of the combinations are unique.\")"
   ]
  },
  {
   "cell_type": "code",
   "execution_count": 79,
   "metadata": {
    "collapsed": true
   },
   "outputs": [],
   "source": [
    "champion_spread = item_stack_df.drop_duplicates().groupby('item_id').size()"
   ]
  },
  {
   "cell_type": "code",
   "execution_count": 80,
   "metadata": {
    "collapsed": true
   },
   "outputs": [],
   "source": [
    "item_occ['spread'] = champion_spread"
   ]
  },
  {
   "cell_type": "code",
   "execution_count": 81,
   "metadata": {
    "collapsed": false
   },
   "outputs": [
    {
     "data": {
      "text/html": [
       "<div>\n",
       "<table border=\"1\" class=\"dataframe\">\n",
       "  <thead>\n",
       "    <tr style=\"text-align: right;\">\n",
       "      <th></th>\n",
       "      <th>count</th>\n",
       "      <th>pick_rate</th>\n",
       "      <th>spread</th>\n",
       "    </tr>\n",
       "    <tr>\n",
       "      <th>item_id</th>\n",
       "      <th></th>\n",
       "      <th></th>\n",
       "      <th></th>\n",
       "    </tr>\n",
       "  </thead>\n",
       "  <tbody>\n",
       "    <tr>\n",
       "      <th>0</th>\n",
       "      <td>5659</td>\n",
       "      <td>0.611784</td>\n",
       "      <td>141</td>\n",
       "    </tr>\n",
       "    <tr>\n",
       "      <th>1001</th>\n",
       "      <td>459</td>\n",
       "      <td>0.049622</td>\n",
       "      <td>113</td>\n",
       "    </tr>\n",
       "    <tr>\n",
       "      <th>1004</th>\n",
       "      <td>78</td>\n",
       "      <td>0.008432</td>\n",
       "      <td>23</td>\n",
       "    </tr>\n",
       "    <tr>\n",
       "      <th>1006</th>\n",
       "      <td>46</td>\n",
       "      <td>0.004973</td>\n",
       "      <td>27</td>\n",
       "    </tr>\n",
       "    <tr>\n",
       "      <th>1011</th>\n",
       "      <td>269</td>\n",
       "      <td>0.029081</td>\n",
       "      <td>70</td>\n",
       "    </tr>\n",
       "  </tbody>\n",
       "</table>\n",
       "</div>"
      ],
      "text/plain": [
       "         count  pick_rate  spread\n",
       "item_id                          \n",
       "0         5659   0.611784     141\n",
       "1001       459   0.049622     113\n",
       "1004        78   0.008432      23\n",
       "1006        46   0.004973      27\n",
       "1011       269   0.029081      70"
      ]
     },
     "execution_count": 81,
     "metadata": {},
     "output_type": "execute_result"
    }
   ],
   "source": [
    "item_occ.head()"
   ]
  },
  {
   "cell_type": "markdown",
   "metadata": {},
   "source": [
    "### Win rate\n",
    "\n",
    "Below, for a single game, one team of five players will win, and the other will lose."
   ]
  },
  {
   "cell_type": "code",
   "execution_count": 82,
   "metadata": {
    "collapsed": false
   },
   "outputs": [
    {
     "data": {
      "text/html": [
       "<div>\n",
       "<table border=\"1\" class=\"dataframe\">\n",
       "  <thead>\n",
       "    <tr style=\"text-align: right;\">\n",
       "      <th></th>\n",
       "      <th>stats.win</th>\n",
       "      <th>stats.item0</th>\n",
       "      <th>stats.item1</th>\n",
       "      <th>stats.item2</th>\n",
       "      <th>stats.item3</th>\n",
       "      <th>stats.item4</th>\n",
       "      <th>stats.item5</th>\n",
       "      <th>stats.item6</th>\n",
       "    </tr>\n",
       "  </thead>\n",
       "  <tbody>\n",
       "    <tr>\n",
       "      <th>0</th>\n",
       "      <td>False</td>\n",
       "      <td>3020</td>\n",
       "      <td>3152</td>\n",
       "      <td>3285</td>\n",
       "      <td>0</td>\n",
       "      <td>1026</td>\n",
       "      <td>3157</td>\n",
       "      <td>3340</td>\n",
       "    </tr>\n",
       "    <tr>\n",
       "      <th>1</th>\n",
       "      <td>False</td>\n",
       "      <td>3117</td>\n",
       "      <td>3107</td>\n",
       "      <td>3092</td>\n",
       "      <td>3024</td>\n",
       "      <td>1029</td>\n",
       "      <td>1029</td>\n",
       "      <td>3340</td>\n",
       "    </tr>\n",
       "    <tr>\n",
       "      <th>2</th>\n",
       "      <td>False</td>\n",
       "      <td>1416</td>\n",
       "      <td>3078</td>\n",
       "      <td>3047</td>\n",
       "      <td>3748</td>\n",
       "      <td>0</td>\n",
       "      <td>0</td>\n",
       "      <td>3340</td>\n",
       "    </tr>\n",
       "    <tr>\n",
       "      <th>3</th>\n",
       "      <td>False</td>\n",
       "      <td>3020</td>\n",
       "      <td>3285</td>\n",
       "      <td>3157</td>\n",
       "      <td>3135</td>\n",
       "      <td>3165</td>\n",
       "      <td>2139</td>\n",
       "      <td>3340</td>\n",
       "    </tr>\n",
       "    <tr>\n",
       "      <th>4</th>\n",
       "      <td>False</td>\n",
       "      <td>3078</td>\n",
       "      <td>3047</td>\n",
       "      <td>3053</td>\n",
       "      <td>3133</td>\n",
       "      <td>0</td>\n",
       "      <td>0</td>\n",
       "      <td>3340</td>\n",
       "    </tr>\n",
       "    <tr>\n",
       "      <th>5</th>\n",
       "      <td>True</td>\n",
       "      <td>2033</td>\n",
       "      <td>3147</td>\n",
       "      <td>3047</td>\n",
       "      <td>3071</td>\n",
       "      <td>3036</td>\n",
       "      <td>3155</td>\n",
       "      <td>3340</td>\n",
       "    </tr>\n",
       "    <tr>\n",
       "      <th>6</th>\n",
       "      <td>True</td>\n",
       "      <td>3155</td>\n",
       "      <td>3095</td>\n",
       "      <td>3031</td>\n",
       "      <td>3006</td>\n",
       "      <td>3094</td>\n",
       "      <td>3072</td>\n",
       "      <td>3340</td>\n",
       "    </tr>\n",
       "    <tr>\n",
       "      <th>7</th>\n",
       "      <td>True</td>\n",
       "      <td>3020</td>\n",
       "      <td>3285</td>\n",
       "      <td>3157</td>\n",
       "      <td>1058</td>\n",
       "      <td>3116</td>\n",
       "      <td>0</td>\n",
       "      <td>3340</td>\n",
       "    </tr>\n",
       "    <tr>\n",
       "      <th>8</th>\n",
       "      <td>True</td>\n",
       "      <td>3401</td>\n",
       "      <td>3190</td>\n",
       "      <td>3107</td>\n",
       "      <td>3117</td>\n",
       "      <td>1029</td>\n",
       "      <td>1029</td>\n",
       "      <td>3364</td>\n",
       "    </tr>\n",
       "    <tr>\n",
       "      <th>9</th>\n",
       "      <td>True</td>\n",
       "      <td>3156</td>\n",
       "      <td>1400</td>\n",
       "      <td>3053</td>\n",
       "      <td>3047</td>\n",
       "      <td>3071</td>\n",
       "      <td>1029</td>\n",
       "      <td>3340</td>\n",
       "    </tr>\n",
       "  </tbody>\n",
       "</table>\n",
       "</div>"
      ],
      "text/plain": [
       "  stats.win  stats.item0  stats.item1  stats.item2  stats.item3  stats.item4  \\\n",
       "0     False         3020         3152         3285            0         1026   \n",
       "1     False         3117         3107         3092         3024         1029   \n",
       "2     False         1416         3078         3047         3748            0   \n",
       "3     False         3020         3285         3157         3135         3165   \n",
       "4     False         3078         3047         3053         3133            0   \n",
       "5      True         2033         3147         3047         3071         3036   \n",
       "6      True         3155         3095         3031         3006         3094   \n",
       "7      True         3020         3285         3157         1058         3116   \n",
       "8      True         3401         3190         3107         3117         1029   \n",
       "9      True         3156         1400         3053         3047         3071   \n",
       "\n",
       "   stats.item5  stats.item6  \n",
       "0         3157         3340  \n",
       "1         1029         3340  \n",
       "2            0         3340  \n",
       "3         2139         3340  \n",
       "4            0         3340  \n",
       "5         3155         3340  \n",
       "6         3072         3340  \n",
       "7            0         3340  \n",
       "8         1029         3364  \n",
       "9         1029         3340  "
      ]
     },
     "execution_count": 82,
     "metadata": {},
     "output_type": "execute_result"
    }
   ],
   "source": [
    "items_and_wins_df = matches_df[['stats.win', 'stats.item0', 'stats.item1', 'stats.item2', 'stats.item3',\n",
    "                                        'stats.item4', 'stats.item5', 'stats.item6']]\n",
    "items_and_wins_df.head(10)"
   ]
  },
  {
   "cell_type": "code",
   "execution_count": 83,
   "metadata": {
    "collapsed": true
   },
   "outputs": [],
   "source": [
    "item_win_sub_dfs = []\n",
    "for col_name in items_and_wins_df.columns[1:]:\n",
    "    sub_df = items_and_wins_df[['stats.win', col_name]]\n",
    "    sub_df.columns = ['stats.win', 'item_id']\n",
    "    item_win_sub_dfs.append(sub_df)"
   ]
  },
  {
   "cell_type": "markdown",
   "metadata": {},
   "source": [
    "DataFrame of # of wins with each item"
   ]
  },
  {
   "cell_type": "code",
   "execution_count": 84,
   "metadata": {
    "collapsed": false
   },
   "outputs": [
    {
     "data": {
      "text/html": [
       "<div>\n",
       "<table border=\"1\" class=\"dataframe\">\n",
       "  <thead>\n",
       "    <tr style=\"text-align: right;\">\n",
       "      <th></th>\n",
       "      <th>count</th>\n",
       "      <th>pick_rate</th>\n",
       "      <th>spread</th>\n",
       "      <th>wins</th>\n",
       "    </tr>\n",
       "    <tr>\n",
       "      <th>item_id</th>\n",
       "      <th></th>\n",
       "      <th></th>\n",
       "      <th></th>\n",
       "      <th></th>\n",
       "    </tr>\n",
       "  </thead>\n",
       "  <tbody>\n",
       "    <tr>\n",
       "      <th>0</th>\n",
       "      <td>5659</td>\n",
       "      <td>0.611784</td>\n",
       "      <td>141</td>\n",
       "      <td>2400</td>\n",
       "    </tr>\n",
       "    <tr>\n",
       "      <th>1001</th>\n",
       "      <td>459</td>\n",
       "      <td>0.049622</td>\n",
       "      <td>113</td>\n",
       "      <td>159</td>\n",
       "    </tr>\n",
       "    <tr>\n",
       "      <th>1004</th>\n",
       "      <td>78</td>\n",
       "      <td>0.008432</td>\n",
       "      <td>23</td>\n",
       "      <td>28</td>\n",
       "    </tr>\n",
       "    <tr>\n",
       "      <th>1006</th>\n",
       "      <td>46</td>\n",
       "      <td>0.004973</td>\n",
       "      <td>27</td>\n",
       "      <td>18</td>\n",
       "    </tr>\n",
       "    <tr>\n",
       "      <th>1011</th>\n",
       "      <td>269</td>\n",
       "      <td>0.029081</td>\n",
       "      <td>70</td>\n",
       "      <td>129</td>\n",
       "    </tr>\n",
       "  </tbody>\n",
       "</table>\n",
       "</div>"
      ],
      "text/plain": [
       "         count  pick_rate  spread  wins\n",
       "item_id                                \n",
       "0         5659   0.611784     141  2400\n",
       "1001       459   0.049622     113   159\n",
       "1004        78   0.008432      23    28\n",
       "1006        46   0.004973      27    18\n",
       "1011       269   0.029081      70   129"
      ]
     },
     "execution_count": 84,
     "metadata": {},
     "output_type": "execute_result"
    }
   ],
   "source": [
    "item_win_df = pd.concat(item_win_sub_dfs)\n",
    "item_win_df.columns = ['wins', 'item_id']\n",
    "item_occ['wins'] = item_win_df.groupby('item_id').sum()['wins']\n",
    "item_occ.head()"
   ]
  },
  {
   "cell_type": "markdown",
   "metadata": {},
   "source": [
    "3400: Your Cut. Not common to see in the end inventory. 3520: Ghost Poro. Not purchasable."
   ]
  },
  {
   "cell_type": "code",
   "execution_count": 85,
   "metadata": {
    "collapsed": false
   },
   "outputs": [
    {
     "data": {
      "text/html": [
       "<div>\n",
       "<table border=\"1\" class=\"dataframe\">\n",
       "  <thead>\n",
       "    <tr style=\"text-align: right;\">\n",
       "      <th></th>\n",
       "      <th>count</th>\n",
       "      <th>pick_rate</th>\n",
       "      <th>spread</th>\n",
       "      <th>wins</th>\n",
       "      <th>win_rate</th>\n",
       "    </tr>\n",
       "    <tr>\n",
       "      <th>item_id</th>\n",
       "      <th></th>\n",
       "      <th></th>\n",
       "      <th></th>\n",
       "      <th></th>\n",
       "      <th></th>\n",
       "    </tr>\n",
       "  </thead>\n",
       "  <tbody>\n",
       "    <tr>\n",
       "      <th>0</th>\n",
       "      <td>5659</td>\n",
       "      <td>0.611784</td>\n",
       "      <td>141</td>\n",
       "      <td>2400</td>\n",
       "      <td>0.424103</td>\n",
       "    </tr>\n",
       "    <tr>\n",
       "      <th>1001</th>\n",
       "      <td>459</td>\n",
       "      <td>0.049622</td>\n",
       "      <td>113</td>\n",
       "      <td>159</td>\n",
       "      <td>0.346405</td>\n",
       "    </tr>\n",
       "    <tr>\n",
       "      <th>1004</th>\n",
       "      <td>78</td>\n",
       "      <td>0.008432</td>\n",
       "      <td>23</td>\n",
       "      <td>28</td>\n",
       "      <td>0.358974</td>\n",
       "    </tr>\n",
       "    <tr>\n",
       "      <th>1006</th>\n",
       "      <td>46</td>\n",
       "      <td>0.004973</td>\n",
       "      <td>27</td>\n",
       "      <td>18</td>\n",
       "      <td>0.391304</td>\n",
       "    </tr>\n",
       "    <tr>\n",
       "      <th>1011</th>\n",
       "      <td>269</td>\n",
       "      <td>0.029081</td>\n",
       "      <td>70</td>\n",
       "      <td>129</td>\n",
       "      <td>0.479554</td>\n",
       "    </tr>\n",
       "  </tbody>\n",
       "</table>\n",
       "</div>"
      ],
      "text/plain": [
       "         count  pick_rate  spread  wins  win_rate\n",
       "item_id                                          \n",
       "0         5659   0.611784     141  2400  0.424103\n",
       "1001       459   0.049622     113   159  0.346405\n",
       "1004        78   0.008432      23    28  0.358974\n",
       "1006        46   0.004973      27    18  0.391304\n",
       "1011       269   0.029081      70   129  0.479554"
      ]
     },
     "execution_count": 85,
     "metadata": {},
     "output_type": "execute_result"
    }
   ],
   "source": [
    "item_occ['win_rate'] = item_occ['wins']/item_occ['count']\n",
    "item_occ.head()"
   ]
  },
  {
   "cell_type": "code",
   "execution_count": 86,
   "metadata": {
    "collapsed": true
   },
   "outputs": [],
   "source": [
    "item_occ.to_csv('item_occurrences_8.22.1.csv', encoding='utf-8')"
   ]
  },
  {
   "cell_type": "markdown",
   "metadata": {},
   "source": [
    "These are all the statistics needed for an initial analysis. Joining to the item table on item_id makes the table readable for me."
   ]
  },
  {
   "cell_type": "code",
   "execution_count": 87,
   "metadata": {
    "collapsed": false
   },
   "outputs": [
    {
     "data": {
      "text/html": [
       "<div>\n",
       "<table border=\"1\" class=\"dataframe\">\n",
       "  <thead>\n",
       "    <tr style=\"text-align: right;\">\n",
       "      <th></th>\n",
       "      <th>count</th>\n",
       "      <th>pick_rate</th>\n",
       "      <th>spread</th>\n",
       "      <th>wins</th>\n",
       "      <th>win_rate</th>\n",
       "      <th>name</th>\n",
       "      <th>full_item</th>\n",
       "      <th>total_gold</th>\n",
       "      <th>tags</th>\n",
       "    </tr>\n",
       "    <tr>\n",
       "      <th>item_id</th>\n",
       "      <th></th>\n",
       "      <th></th>\n",
       "      <th></th>\n",
       "      <th></th>\n",
       "      <th></th>\n",
       "      <th></th>\n",
       "      <th></th>\n",
       "      <th></th>\n",
       "      <th></th>\n",
       "    </tr>\n",
       "  </thead>\n",
       "  <tbody>\n",
       "    <tr>\n",
       "      <th>3812</th>\n",
       "      <td>177</td>\n",
       "      <td>0.019135</td>\n",
       "      <td>36</td>\n",
       "      <td>106</td>\n",
       "      <td>0.598870</td>\n",
       "      <td>Death's Dance</td>\n",
       "      <td>True</td>\n",
       "      <td>3500</td>\n",
       "      <td>[Damage, LifeSteal, CooldownReduction]</td>\n",
       "    </tr>\n",
       "    <tr>\n",
       "      <th>3814</th>\n",
       "      <td>48</td>\n",
       "      <td>0.005189</td>\n",
       "      <td>16</td>\n",
       "      <td>26</td>\n",
       "      <td>0.541667</td>\n",
       "      <td>Edge of Night</td>\n",
       "      <td>True</td>\n",
       "      <td>3000</td>\n",
       "      <td>[Health, Damage, Active, ArmorPenetration]</td>\n",
       "    </tr>\n",
       "    <tr>\n",
       "      <th>3905</th>\n",
       "      <td>96</td>\n",
       "      <td>0.010378</td>\n",
       "      <td>29</td>\n",
       "      <td>46</td>\n",
       "      <td>0.479167</td>\n",
       "      <td>Twin Shadows</td>\n",
       "      <td>True</td>\n",
       "      <td>2400</td>\n",
       "      <td>[SpellDamage, Active, CooldownReduction, Slow,...</td>\n",
       "    </tr>\n",
       "    <tr>\n",
       "      <th>3907</th>\n",
       "      <td>69</td>\n",
       "      <td>0.007459</td>\n",
       "      <td>28</td>\n",
       "      <td>43</td>\n",
       "      <td>0.623188</td>\n",
       "      <td>Spellbinder</td>\n",
       "      <td>True</td>\n",
       "      <td>2900</td>\n",
       "      <td>[SpellDamage, Active, NonbootsMovement]</td>\n",
       "    </tr>\n",
       "    <tr>\n",
       "      <th>3916</th>\n",
       "      <td>159</td>\n",
       "      <td>0.017189</td>\n",
       "      <td>48</td>\n",
       "      <td>82</td>\n",
       "      <td>0.515723</td>\n",
       "      <td>Oblivion Orb</td>\n",
       "      <td>False</td>\n",
       "      <td>1500</td>\n",
       "      <td>[Health, MagicPenetration, SpellDamage]</td>\n",
       "    </tr>\n",
       "  </tbody>\n",
       "</table>\n",
       "</div>"
      ],
      "text/plain": [
       "         count  pick_rate  spread  wins  win_rate           name full_item  \\\n",
       "item_id                                                                      \n",
       "3812       177   0.019135      36   106  0.598870  Death's Dance      True   \n",
       "3814        48   0.005189      16    26  0.541667  Edge of Night      True   \n",
       "3905        96   0.010378      29    46  0.479167   Twin Shadows      True   \n",
       "3907        69   0.007459      28    43  0.623188    Spellbinder      True   \n",
       "3916       159   0.017189      48    82  0.515723   Oblivion Orb     False   \n",
       "\n",
       "         total_gold                                               tags  \n",
       "item_id                                                                 \n",
       "3812           3500             [Damage, LifeSteal, CooldownReduction]  \n",
       "3814           3000         [Health, Damage, Active, ArmorPenetration]  \n",
       "3905           2400  [SpellDamage, Active, CooldownReduction, Slow,...  \n",
       "3907           2900            [SpellDamage, Active, NonbootsMovement]  \n",
       "3916           1500            [Health, MagicPenetration, SpellDamage]  "
      ]
     },
     "execution_count": 87,
     "metadata": {},
     "output_type": "execute_result"
    }
   ],
   "source": [
    "item_occ = item_occ.join(items_df[['name', 'full_item', 'total_gold', 'tags']])\n",
    "item_occ.tail()"
   ]
  },
  {
   "cell_type": "markdown",
   "metadata": {},
   "source": [
    "Examining the most commonly picked items. Players often finish the game with an empty inventory slot (item_id 0).\n",
    "\n",
    "The 7 most common items are all Trinkets (the 3 options for item slot 6) and Boot items (each player generally builds 1 per game)."
   ]
  },
  {
   "cell_type": "code",
   "execution_count": 37,
   "metadata": {
    "collapsed": false,
    "scrolled": false
   },
   "outputs": [
    {
     "data": {
      "text/html": [
       "<div>\n",
       "<style scoped>\n",
       "    .dataframe tbody tr th:only-of-type {\n",
       "        vertical-align: middle;\n",
       "    }\n",
       "\n",
       "    .dataframe tbody tr th {\n",
       "        vertical-align: top;\n",
       "    }\n",
       "\n",
       "    .dataframe thead th {\n",
       "        text-align: right;\n",
       "    }\n",
       "</style>\n",
       "<table border=\"1\" class=\"dataframe\">\n",
       "  <thead>\n",
       "    <tr style=\"text-align: right;\">\n",
       "      <th></th>\n",
       "      <th>count</th>\n",
       "      <th>pick_rate</th>\n",
       "      <th>spread</th>\n",
       "      <th>wins</th>\n",
       "      <th>win_rate</th>\n",
       "      <th>name</th>\n",
       "      <th>full_item</th>\n",
       "      <th>total_gold</th>\n",
       "      <th>tags</th>\n",
       "    </tr>\n",
       "    <tr>\n",
       "      <th>item_id</th>\n",
       "      <th></th>\n",
       "      <th></th>\n",
       "      <th></th>\n",
       "      <th></th>\n",
       "      <th></th>\n",
       "      <th></th>\n",
       "      <th></th>\n",
       "      <th></th>\n",
       "      <th></th>\n",
       "    </tr>\n",
       "  </thead>\n",
       "  <tbody>\n",
       "    <tr>\n",
       "      <th>0</th>\n",
       "      <td>5659</td>\n",
       "      <td>0.611784</td>\n",
       "      <td>141</td>\n",
       "      <td>2400.0</td>\n",
       "      <td>0.424103</td>\n",
       "      <td>NaN</td>\n",
       "      <td>NaN</td>\n",
       "      <td>NaN</td>\n",
       "      <td>NaN</td>\n",
       "    </tr>\n",
       "    <tr>\n",
       "      <th>3340</th>\n",
       "      <td>5270</td>\n",
       "      <td>0.569730</td>\n",
       "      <td>141</td>\n",
       "      <td>2573.0</td>\n",
       "      <td>0.488235</td>\n",
       "      <td>Warding Totem (Trinket)</td>\n",
       "      <td>True</td>\n",
       "      <td>0.0</td>\n",
       "      <td>[Active, Jungle, Lane, Trinket, Vision]</td>\n",
       "    </tr>\n",
       "    <tr>\n",
       "      <th>3364</th>\n",
       "      <td>2444</td>\n",
       "      <td>0.264216</td>\n",
       "      <td>131</td>\n",
       "      <td>1276.0</td>\n",
       "      <td>0.522095</td>\n",
       "      <td>Oracle Lens</td>\n",
       "      <td>True</td>\n",
       "      <td>0.0</td>\n",
       "      <td>[Active, Trinket, Vision]</td>\n",
       "    </tr>\n",
       "    <tr>\n",
       "      <th>3047</th>\n",
       "      <td>1957</td>\n",
       "      <td>0.211568</td>\n",
       "      <td>127</td>\n",
       "      <td>959.0</td>\n",
       "      <td>0.490036</td>\n",
       "      <td>Ninja Tabi</td>\n",
       "      <td>True</td>\n",
       "      <td>1100.0</td>\n",
       "      <td>[Armor, Boots]</td>\n",
       "    </tr>\n",
       "    <tr>\n",
       "      <th>3020</th>\n",
       "      <td>1621</td>\n",
       "      <td>0.175243</td>\n",
       "      <td>68</td>\n",
       "      <td>884.0</td>\n",
       "      <td>0.545342</td>\n",
       "      <td>Sorcerer's Shoes</td>\n",
       "      <td>True</td>\n",
       "      <td>1100.0</td>\n",
       "      <td>[Boots, MagicPenetration]</td>\n",
       "    </tr>\n",
       "    <tr>\n",
       "      <th>3006</th>\n",
       "      <td>1506</td>\n",
       "      <td>0.162811</td>\n",
       "      <td>39</td>\n",
       "      <td>786.0</td>\n",
       "      <td>0.521912</td>\n",
       "      <td>Berserker's Greaves</td>\n",
       "      <td>True</td>\n",
       "      <td>1100.0</td>\n",
       "      <td>[AttackSpeed, Boots]</td>\n",
       "    </tr>\n",
       "    <tr>\n",
       "      <th>3363</th>\n",
       "      <td>1492</td>\n",
       "      <td>0.161297</td>\n",
       "      <td>120</td>\n",
       "      <td>759.0</td>\n",
       "      <td>0.508713</td>\n",
       "      <td>Farsight Alteration</td>\n",
       "      <td>True</td>\n",
       "      <td>0.0</td>\n",
       "      <td>[Active, Trinket, Vision]</td>\n",
       "    </tr>\n",
       "    <tr>\n",
       "      <th>3111</th>\n",
       "      <td>1452</td>\n",
       "      <td>0.156973</td>\n",
       "      <td>129</td>\n",
       "      <td>714.0</td>\n",
       "      <td>0.491736</td>\n",
       "      <td>Mercury's Treads</td>\n",
       "      <td>True</td>\n",
       "      <td>1100.0</td>\n",
       "      <td>[Boots, SpellBlock, Tenacity]</td>\n",
       "    </tr>\n",
       "    <tr>\n",
       "      <th>2031</th>\n",
       "      <td>1227</td>\n",
       "      <td>0.132649</td>\n",
       "      <td>135</td>\n",
       "      <td>555.0</td>\n",
       "      <td>0.452323</td>\n",
       "      <td>Refillable Potion</td>\n",
       "      <td>False</td>\n",
       "      <td>150.0</td>\n",
       "      <td>[HealthRegen, Consumable, Active, Lane, Jungle]</td>\n",
       "    </tr>\n",
       "    <tr>\n",
       "      <th>3071</th>\n",
       "      <td>1132</td>\n",
       "      <td>0.122378</td>\n",
       "      <td>40</td>\n",
       "      <td>615.0</td>\n",
       "      <td>0.543286</td>\n",
       "      <td>The Black Cleaver</td>\n",
       "      <td>False</td>\n",
       "      <td>3000.0</td>\n",
       "      <td>[ArmorPenetration, CooldownReduction, Damage, ...</td>\n",
       "    </tr>\n",
       "    <tr>\n",
       "      <th>1055</th>\n",
       "      <td>1122</td>\n",
       "      <td>0.121297</td>\n",
       "      <td>52</td>\n",
       "      <td>526.0</td>\n",
       "      <td>0.468806</td>\n",
       "      <td>Doran's Blade</td>\n",
       "      <td>True</td>\n",
       "      <td>450.0</td>\n",
       "      <td>[Damage, Health, Lane, LifeSteal]</td>\n",
       "    </tr>\n",
       "    <tr>\n",
       "      <th>3117</th>\n",
       "      <td>1041</td>\n",
       "      <td>0.112541</td>\n",
       "      <td>62</td>\n",
       "      <td>555.0</td>\n",
       "      <td>0.533141</td>\n",
       "      <td>Boots of Mobility</td>\n",
       "      <td>True</td>\n",
       "      <td>900.0</td>\n",
       "      <td>[Boots]</td>\n",
       "    </tr>\n",
       "    <tr>\n",
       "      <th>2055</th>\n",
       "      <td>917</td>\n",
       "      <td>0.099135</td>\n",
       "      <td>125</td>\n",
       "      <td>434.0</td>\n",
       "      <td>0.473282</td>\n",
       "      <td>Control Ward</td>\n",
       "      <td>True</td>\n",
       "      <td>75.0</td>\n",
       "      <td>[Consumable, Lane, Stealth, Vision]</td>\n",
       "    </tr>\n",
       "    <tr>\n",
       "      <th>3095</th>\n",
       "      <td>917</td>\n",
       "      <td>0.099135</td>\n",
       "      <td>40</td>\n",
       "      <td>497.0</td>\n",
       "      <td>0.541985</td>\n",
       "      <td>Stormrazor</td>\n",
       "      <td>True</td>\n",
       "      <td>2800.0</td>\n",
       "      <td>[Damage, CriticalStrike, AttackSpeed, OnHit, N...</td>\n",
       "    </tr>\n",
       "    <tr>\n",
       "      <th>3157</th>\n",
       "      <td>879</td>\n",
       "      <td>0.095027</td>\n",
       "      <td>62</td>\n",
       "      <td>483.0</td>\n",
       "      <td>0.549488</td>\n",
       "      <td>Zhonya's Hourglass</td>\n",
       "      <td>False</td>\n",
       "      <td>2900.0</td>\n",
       "      <td>[Armor, SpellDamage, Active, CooldownReduction]</td>\n",
       "    </tr>\n",
       "  </tbody>\n",
       "</table>\n",
       "</div>"
      ],
      "text/plain": [
       "         count  pick_rate  spread    wins  win_rate                     name  \\\n",
       "item_id                                                                        \n",
       "0         5659   0.611784     141  2400.0  0.424103                      NaN   \n",
       "3340      5270   0.569730     141  2573.0  0.488235  Warding Totem (Trinket)   \n",
       "3364      2444   0.264216     131  1276.0  0.522095              Oracle Lens   \n",
       "3047      1957   0.211568     127   959.0  0.490036               Ninja Tabi   \n",
       "3020      1621   0.175243      68   884.0  0.545342         Sorcerer's Shoes   \n",
       "3006      1506   0.162811      39   786.0  0.521912      Berserker's Greaves   \n",
       "3363      1492   0.161297     120   759.0  0.508713      Farsight Alteration   \n",
       "3111      1452   0.156973     129   714.0  0.491736         Mercury's Treads   \n",
       "2031      1227   0.132649     135   555.0  0.452323        Refillable Potion   \n",
       "3071      1132   0.122378      40   615.0  0.543286        The Black Cleaver   \n",
       "1055      1122   0.121297      52   526.0  0.468806            Doran's Blade   \n",
       "3117      1041   0.112541      62   555.0  0.533141        Boots of Mobility   \n",
       "2055       917   0.099135     125   434.0  0.473282             Control Ward   \n",
       "3095       917   0.099135      40   497.0  0.541985               Stormrazor   \n",
       "3157       879   0.095027      62   483.0  0.549488       Zhonya's Hourglass   \n",
       "\n",
       "        full_item  total_gold  \\\n",
       "item_id                         \n",
       "0             NaN         NaN   \n",
       "3340         True         0.0   \n",
       "3364         True         0.0   \n",
       "3047         True      1100.0   \n",
       "3020         True      1100.0   \n",
       "3006         True      1100.0   \n",
       "3363         True         0.0   \n",
       "3111         True      1100.0   \n",
       "2031        False       150.0   \n",
       "3071        False      3000.0   \n",
       "1055         True       450.0   \n",
       "3117         True       900.0   \n",
       "2055         True        75.0   \n",
       "3095         True      2800.0   \n",
       "3157        False      2900.0   \n",
       "\n",
       "                                                      tags  \n",
       "item_id                                                     \n",
       "0                                                      NaN  \n",
       "3340               [Active, Jungle, Lane, Trinket, Vision]  \n",
       "3364                             [Active, Trinket, Vision]  \n",
       "3047                                        [Armor, Boots]  \n",
       "3020                             [Boots, MagicPenetration]  \n",
       "3006                                  [AttackSpeed, Boots]  \n",
       "3363                             [Active, Trinket, Vision]  \n",
       "3111                         [Boots, SpellBlock, Tenacity]  \n",
       "2031       [HealthRegen, Consumable, Active, Lane, Jungle]  \n",
       "3071     [ArmorPenetration, CooldownReduction, Damage, ...  \n",
       "1055                     [Damage, Health, Lane, LifeSteal]  \n",
       "3117                                               [Boots]  \n",
       "2055                   [Consumable, Lane, Stealth, Vision]  \n",
       "3095     [Damage, CriticalStrike, AttackSpeed, OnHit, N...  \n",
       "3157       [Armor, SpellDamage, Active, CooldownReduction]  "
      ]
     },
     "execution_count": 37,
     "metadata": {},
     "output_type": "execute_result"
    }
   ],
   "source": [
    "item_occ.sort_values('count', ascending=False).head(15)"
   ]
  },
  {
   "cell_type": "markdown",
   "metadata": {},
   "source": [
    "## Plots\n",
    "\n",
    "Let's visualize the distribution of item occurrences."
   ]
  },
  {
   "cell_type": "code",
   "execution_count": 38,
   "metadata": {
    "collapsed": false
   },
   "outputs": [
    {
     "data": {
      "text/plain": [
       "<matplotlib.axes._subplots.AxesSubplot at 0x11c796690>"
      ]
     },
     "execution_count": 38,
     "metadata": {},
     "output_type": "execute_result"
    },
    {
     "data": {
      "image/png": "[encoded data removed]",
      "text/plain": [
       "<Figure size 432x288 with 1 Axes>"
      ]
     },
     "metadata": {
      "needs_background": "light"
     },
     "output_type": "display_data"
    }
   ],
   "source": [
    "item_occ.reset_index().plot(x='item_id' , y='count', kind='scatter', title='Item Occurence vs ID on 9250 Champions',\n",
    "              xlim=[900, 4000])"
   ]
  },
  {
   "cell_type": "code",
   "execution_count": 39,
   "metadata": {
    "collapsed": false
   },
   "outputs": [
    {
     "data": {
      "image/png": "[encoded data removed]",
      "text/plain": [
       "<Figure size 432x288 with 1 Axes>"
      ]
     },
     "metadata": {
      "needs_background": "light"
     },
     "output_type": "display_data"
    }
   ],
   "source": [
    "item_occ['count'].plot.hist(title='Item Occurrence Distribution',\n",
    "                           xlim=[0,3000], bins=50)\n",
    "plt.xlabel('Number of Occurrences per Item')\n",
    "plt.ylabel('Number of Items')\n",
    "plt.savefig('item_occurrence_dist.png')"
   ]
  },
  {
   "cell_type": "markdown",
   "metadata": {},
   "source": [
    "Unsurprisingly, the two most common items are warding trinkets (only 3 options for item slot 6) (the third warding trinket is rank 6)"
   ]
  },
  {
   "cell_type": "markdown",
   "metadata": {},
   "source": [
    "Ranks 3, 4, 5, and 7 are all Boots. This is also unsurprising, because it is traditional for each character (except Cassiopeia) to build one boot item (good cost effectiveness)"
   ]
  },
  {
   "cell_type": "code",
   "execution_count": 40,
   "metadata": {
    "collapsed": false
   },
   "outputs": [
    {
     "data": {
      "image/png": "[encoded data removed]",
      "text/plain": [
       "<Figure size 432x288 with 1 Axes>"
      ]
     },
     "metadata": {
      "needs_background": "light"
     },
     "output_type": "display_data"
    }
   ],
   "source": [
    "item_occ.reset_index().plot(x='item_id' , y='count', kind='scatter',\n",
    "                            title='Item Occurrence vs ID on 9250 Champions',\n",
    "                            xlim=[900, 4000], ylim=[0, 2000])\n",
    "plt.ylabel('# of Occurrences')\n",
    "plt.xlabel('Item ID')\n",
    "plt.savefig('item_occurrence_vs_id.png')"
   ]
  },
  {
   "cell_type": "markdown",
   "metadata": {},
   "source": [
    "### Pick Rate\n",
    "\n",
    "The dotted line should be the pick rate if items were built randomly (taking into account that players can build 6 non-Trinket items)."
   ]
  },
  {
   "cell_type": "code",
   "execution_count": 41,
   "metadata": {
    "collapsed": false
   },
   "outputs": [
    {
     "data": {
      "image/png": "[encoded data removed]",
      "text/plain": [
       "<Figure size 432x288 with 1 Axes>"
      ]
     },
     "metadata": {
      "needs_background": "light"
     },
     "output_type": "display_data"
    }
   ],
   "source": [
    "item_occ.reset_index().plot(x='item_id' , y='pick_rate', kind='scatter',\n",
    "                            title='Item Pick Rate vs ID', xlim=[900, 4000], ylim=[0, 0.2])\n",
    "plt.plot(np.linspace(900, 4000, num=50),\n",
    "         np.full(50, 6.0/len(items_df[items_df['gold_purchasable'] == True])),\n",
    "         'k--')\n",
    "plt.ylabel('Pick Rate')\n",
    "plt.xlabel('Item ID')\n",
    "plt.savefig('item_pick_rate_vs_id.png')"
   ]
  },
  {
   "cell_type": "code",
   "execution_count": 42,
   "metadata": {
    "collapsed": false
   },
   "outputs": [
    {
     "data": {
      "image/png": "[encoded data removed]",
      "text/plain": [
       "<Figure size 432x288 with 1 Axes>"
      ]
     },
     "metadata": {
      "needs_background": "light"
     },
     "output_type": "display_data"
    }
   ],
   "source": [
    "item_occ['pick_rate'].plot.hist(title='Pick Rate Distribution', xlim=[0,0.35], bins=50)\n",
    "plt.xlabel('Pick Rate')\n",
    "plt.ylabel('Number of Items')\n",
    "plt.savefig('item_pick_rate_dist.png')"
   ]
  },
  {
   "cell_type": "markdown",
   "metadata": {},
   "source": [
    "### Champion Spread\n",
    "\n",
    "Champion Spread makes sense to correlate with Pick Rate. If more of the 141 champions can viably build an item, then the item should show up more in general."
   ]
  },
  {
   "cell_type": "code",
   "execution_count": 43,
   "metadata": {
    "collapsed": false
   },
   "outputs": [
    {
     "data": {
      "image/png": "[encoded data removed]",
      "text/plain": [
       "<Figure size 432x288 with 1 Axes>"
      ]
     },
     "metadata": {
      "needs_background": "light"
     },
     "output_type": "display_data"
    }
   ],
   "source": [
    "item_occ.reset_index().plot(x='pick_rate', y='spread', kind='scatter',\n",
    "                            xlim=[-0.05, 0.65], title='Champion Spread vs Item Pick Rate')\n",
    "plt.xlabel('Pick Rate')\n",
    "plt.ylabel('Spread')\n",
    "plt.savefig('champion_spread_vs_pick_rate.png')"
   ]
  },
  {
   "cell_type": "code",
   "execution_count": 44,
   "metadata": {
    "collapsed": false
   },
   "outputs": [
    {
     "data": {
      "image/png": "[encoded data removed]",
      "text/plain": [
       "<Figure size 432x288 with 1 Axes>"
      ]
     },
     "metadata": {
      "needs_background": "light"
     },
     "output_type": "display_data"
    }
   ],
   "source": [
    "item_occ.reset_index().plot(x='pick_rate', y='spread', kind='scatter',\n",
    "                            xlim=[-0.05, 0.3], title='Champion Spread vs Item Pick Rate, Zoomed')\n",
    "plt.xlabel('Pick Rate')\n",
    "plt.ylabel('Spread')\n",
    "plt.savefig('champion_spread_vs_pick_rate_zoomed.png')"
   ]
  },
  {
   "cell_type": "code",
   "execution_count": 45,
   "metadata": {
    "collapsed": false
   },
   "outputs": [
    {
     "data": {
      "image/png": "[encoded data removed]",
      "text/plain": [
       "<Figure size 432x288 with 1 Axes>"
      ]
     },
     "metadata": {
      "needs_background": "light"
     },
     "output_type": "display_data"
    }
   ],
   "source": [
    "item_occ['spread'].plot.hist(title='Champion Spread Distibution', bins=100)\n",
    "plt.xlabel('Spread')\n",
    "plt.savefig('champion_spread_dist.png')"
   ]
  },
  {
   "cell_type": "markdown",
   "metadata": {},
   "source": [
    "### Win Rate\n",
    "\n",
    "\\# of games with item & win / # of games with item. The true average of actual items should be slightly higher than 50%. The average win rate of a missing item (item_id of 0) is about 42%, because players without a full of items tend to lose vs players with full sets of items."
   ]
  },
  {
   "cell_type": "code",
   "execution_count": 46,
   "metadata": {
    "collapsed": false
   },
   "outputs": [
    {
     "data": {
      "image/png": "[encoded data removed]",
      "text/plain": [
       "<Figure size 432x288 with 1 Axes>"
      ]
     },
     "metadata": {
      "needs_background": "light"
     },
     "output_type": "display_data"
    }
   ],
   "source": [
    "centerline_x = np.linspace(0, 4000, num=50)\n",
    "centerline_y = np.full(50, 0.5)\n",
    "\n",
    "item_occ.reset_index().plot(x='item_id', y='win_rate', kind='scatter', xlim=[0, 4000], ylim=[-0.1,1.1], label='data', title='Win Rates vs Item ID')\n",
    "plt.plot(centerline_x, centerline_y, 'r--', label='50%')\n",
    "plt.legend(loc=2)\n",
    "plt.ylabel('Win Rate')\n",
    "plt.xlabel('Item ID')\n",
    "plt.savefig('win_rate_vs_item_id.png')"
   ]
  },
  {
   "cell_type": "code",
   "execution_count": 47,
   "metadata": {
    "collapsed": false
   },
   "outputs": [
    {
     "data": {
      "image/png": "[encoded data removed]",
      "text/plain": [
       "<Figure size 432x288 with 1 Axes>"
      ]
     },
     "metadata": {
      "needs_background": "light"
     },
     "output_type": "display_data"
    }
   ],
   "source": [
    "item_occ['win_rate'].plot.hist(title='Win Rate Distribution', bins=100,\n",
    "                              label='data')\n",
    "fifty_pct_line_y = np.linspace(0, 18, num = 50)\n",
    "fifty_pct_line_x = np.full(50, 0.5)\n",
    "plt.plot(fifty_pct_line_x, fifty_pct_line_y, 'r--', label='50%')\n",
    "plt.legend(loc=2)\n",
    "plt.xlabel('Win Rate')\n",
    "plt.savefig('win_rate_dist.png')"
   ]
  },
  {
   "cell_type": "markdown",
   "metadata": {},
   "source": [
    "Remove items with fewer than 5 games in the dataframe. This gets rid of all the values at 0 and 1.0"
   ]
  },
  {
   "cell_type": "code",
   "execution_count": 48,
   "metadata": {
    "collapsed": false
   },
   "outputs": [
    {
     "data": {
      "image/png": "[encoded data removed]",
      "text/plain": [
       "<Figure size 432x288 with 1 Axes>"
      ]
     },
     "metadata": {
      "needs_background": "light"
     },
     "output_type": "display_data"
    }
   ],
   "source": [
    "item_occ[item_occ['count'] >= 5].reset_index().plot(x='item_id', y='win_rate', kind='scatter',\n",
    "                                                  xlim=[0, 4000], ylim=[-0.1,1.1], label='data', title='Win Rate vs Item ID')\n",
    "plt.plot(centerline_x, centerline_y, 'r--', label='50%')\n",
    "plt.legend(loc=2)\n",
    "plt.ylabel('Win Rate')\n",
    "plt.xlabel('Item ID')\n",
    "plt.savefig('win_rate_vs_item_id_clipped.png')"
   ]
  },
  {
   "cell_type": "code",
   "execution_count": 49,
   "metadata": {
    "collapsed": false
   },
   "outputs": [
    {
     "data": {
      "image/png": "[encoded data removed]",
      "text/plain": [
       "<Figure size 432x288 with 1 Axes>"
      ]
     },
     "metadata": {
      "needs_background": "light"
     },
     "output_type": "display_data"
    }
   ],
   "source": [
    "item_occ[item_occ['count'] >= 5]['win_rate'].plot.hist(title='Win Rate Distribution without # Games < 5',\n",
    "                                                      bins=100, label='data')\n",
    "fifty_pct_line_y = np.linspace(0, 12, num = 50)\n",
    "fifty_pct_line_x = np.full(50, 0.5)\n",
    "plt.plot(fifty_pct_line_x, fifty_pct_line_y, 'r--', label='50%')\n",
    "plt.xlabel('Win Rate')\n",
    "plt.savefig('win_rate_dist_clipped.png')"
   ]
  },
  {
   "cell_type": "markdown",
   "metadata": {},
   "source": [
    "### Pick rate vs win rate\n",
    "\n",
    "My first guess at a correlation is that items that win more often should get picked more often. However, it seems that items that get picked more often are probably more likely to be picked on both teams in a game, and thus will keep closer to a 50% win rate."
   ]
  },
  {
   "cell_type": "code",
   "execution_count": 50,
   "metadata": {
    "collapsed": false
   },
   "outputs": [
    {
     "data": {
      "image/png": "[encoded data removed]",
      "text/plain": [
       "<Figure size 432x288 with 1 Axes>"
      ]
     },
     "metadata": {
      "needs_background": "light"
     },
     "output_type": "display_data"
    }
   ],
   "source": [
    "item_occ.plot(x='pick_rate', y='win_rate', kind='scatter', title='Pick Rate vs Win Rate',\n",
    "             xlim=[-0.05, 0.3], ylim=[-0.05, 1.05], label='data')\n",
    "plt.plot(np.linspace(-0.05, 0.30, num = 50), np.full(50, 0.5), 'r--', label='50%')\n",
    "plt.xlabel('Pick Rate')\n",
    "plt.ylabel('Win Rate')\n",
    "plt.legend(loc='best')\n",
    "plt.savefig('pick_rate_vs_win_rate.png')"
   ]
  },
  {
   "cell_type": "markdown",
   "metadata": {},
   "source": [
    "### Distributions of item costs\n",
    "\n",
    "The final analysis will probably only include the more expensive items (full items), which are generally located in the right lobe of the distribution."
   ]
  },
  {
   "cell_type": "code",
   "execution_count": 51,
   "metadata": {
    "collapsed": false
   },
   "outputs": [
    {
     "data": {
      "text/plain": [
       "<matplotlib.axes._subplots.AxesSubplot at 0x11f6e6d90>"
      ]
     },
     "execution_count": 51,
     "metadata": {},
     "output_type": "execute_result"
    },
    {
     "data": {
      "image/png": "[encoded data removed]",
      "text/plain": [
       "<Figure size 432x288 with 1 Axes>"
      ]
     },
     "metadata": {
      "needs_background": "light"
     },
     "output_type": "display_data"
    }
   ],
   "source": [
    "item_occ['total_gold'].plot.hist(title='Item Cost Distribution', bins=80)"
   ]
  },
  {
   "cell_type": "code",
   "execution_count": 52,
   "metadata": {
    "collapsed": false
   },
   "outputs": [
    {
     "data": {
      "text/plain": [
       "<matplotlib.axes._subplots.AxesSubplot at 0x11fe2ac10>"
      ]
     },
     "execution_count": 52,
     "metadata": {},
     "output_type": "execute_result"
    },
    {
     "data": {
      "image/png": "[encoded data removed]",
      "text/plain": [
       "<Figure size 432x288 with 1 Axes>"
      ]
     },
     "metadata": {
      "needs_background": "light"
     },
     "output_type": "display_data"
    }
   ],
   "source": [
    "item_occ[(item_occ['full_item'] == True) &\n",
    "         (item_occ['total_gold'] != 0)]['total_gold'].plot.hist(title='Full Item Cost Distribution', bins=80)"
   ]
  },
  {
   "cell_type": "markdown",
   "metadata": {},
   "source": [
    "Might be cool to show the following plots with 1 tag colored differently to highlight differences."
   ]
  },
  {
   "cell_type": "markdown",
   "metadata": {},
   "source": [
    "### Pick Rate vs Item Cost\n",
    "\n",
    "Do more expensive items get picked less often? Not really.\n",
    "\n",
    "Players generally buy cheaper items more (especially since they build into more items), but this data only includes the last set of items a player had, so it will lean towards the full items that don't get replaced.\n",
    "\n",
    "The three highest points are the most popular boots. Aside from that, I'm not sure if this is giving me any insights without some information on tags."
   ]
  },
  {
   "cell_type": "code",
   "execution_count": 53,
   "metadata": {
    "collapsed": false
   },
   "outputs": [
    {
     "data": {
      "image/png": "[encoded data removed]",
      "text/plain": [
       "<Figure size 432x288 with 1 Axes>"
      ]
     },
     "metadata": {
      "needs_background": "light"
     },
     "output_type": "display_data"
    }
   ],
   "source": [
    "item_occ[(item_occ['total_gold'] != 0)].plot(x='total_gold', y='pick_rate',\n",
    "                                            title='Pick Rate vs Item Cost', kind='scatter',\n",
    "                                            xlim=[-100,4100], ylim=[-0.01,0.25])\n",
    "plt.xlabel('Item Cost')\n",
    "plt.ylabel('Pick Rate')\n",
    "plt.savefig('pick_rate_vs_item_cost.png')"
   ]
  },
  {
   "cell_type": "markdown",
   "metadata": {},
   "source": [
    "### Champion Spread vs Item Cost\n",
    "\n",
    "This makes sense, as cheaper items generally have more items to build into, so more champions have items they want to build that involve the cheaper items. Note that the Trinkets are not shown here, as they cost 0, but will probably have a maximal value of Spread at 141.\n",
    "\n",
    "If we take away the left half of this graph, there is much less correlation between item cost and spread, it seems."
   ]
  },
  {
   "cell_type": "code",
   "execution_count": 54,
   "metadata": {
    "collapsed": false
   },
   "outputs": [
    {
     "data": {
      "image/png": "[encoded data removed]",
      "text/plain": [
       "<Figure size 432x288 with 1 Axes>"
      ]
     },
     "metadata": {
      "needs_background": "light"
     },
     "output_type": "display_data"
    }
   ],
   "source": [
    "item_occ[(item_occ['total_gold'] != 0)].plot(x='total_gold', y='spread',\n",
    "                                            title='Champion Spread vs Item Cost', kind='scatter',\n",
    "                                            xlim=[-100, 4100], ylim=[-5, 142])\n",
    "plt.xlabel('Item Cost')\n",
    "plt.ylabel('Spread')\n",
    "plt.savefig('champion_spread_vs_item_cost.png')"
   ]
  },
  {
   "cell_type": "markdown",
   "metadata": {},
   "source": [
    "### Win Rate vs Item Cost\n",
    "\n",
    "This graph shows that the items in the groups of \"full item\" (on the right) and \"not full item\" (on the left) have drastically different average win rates. This is because players with incomplete items will probably be weaker than players with complete items, and at a disadvantage."
   ]
  },
  {
   "cell_type": "code",
   "execution_count": 55,
   "metadata": {
    "collapsed": false
   },
   "outputs": [
    {
     "data": {
      "image/png": "[encoded data removed]",
      "text/plain": [
       "<Figure size 432x288 with 1 Axes>"
      ]
     },
     "metadata": {
      "needs_background": "light"
     },
     "output_type": "display_data"
    }
   ],
   "source": [
    "item_occ[(item_occ['total_gold'] != 0)].plot(x='total_gold', y='win_rate',\n",
    "                                            title='Win Rate vs Item Cost', kind='scatter',\n",
    "                                            xlim=[-100,4100], ylim=[-0.01,1.01], label='data')\n",
    "plt.plot(np.linspace(-100, 4100, num = 50),\n",
    "         np.full(50, 0.5), 'r--', label='50%')\n",
    "plt.ylabel('Win Rate')\n",
    "plt.xlabel('Item Cost')\n",
    "plt.savefig('win_rate_vs_item_cost.png')"
   ]
  },
  {
   "cell_type": "markdown",
   "metadata": {},
   "source": [
    "## Tag-Based Statistics\n",
    "\n",
    "Items can be tagged based on the bonuses they give to the champion.\n",
    "\n",
    "Start looking at item tags and break up the previous plots into those groupings.\n",
    "\n",
    "The items I want to focus on are the main set of full items. Items that are tagged as Consumable, Lane, Boots, and Trinkets will not be included for now. Other items that don't fall into these groups are in the other no nos, and are edge cases."
   ]
  },
  {
   "cell_type": "code",
   "execution_count": 100,
   "metadata": {
    "collapsed": true
   },
   "outputs": [],
   "source": [
    "consumable = [True if (type(tags) == list and 'Consumable' in tags) else False for tags in item_occ['tags']]\n",
    "\n",
    "lane_items = [True if (type(tags) == list and 'Lane' in tags) else False for tags in item_occ['tags']]\n",
    "\n",
    "boots = [True if (type(tags) == list and 'Boots' in tags) else False for tags in item_occ['tags']]\n",
    "\n",
    "trinkets = [True if (type(tags) == list and 'Trinket' in tags) else False for tags in item_occ['tags']]\n",
    "\n",
    "other_no_no_ids = [2010, 2057, 2403]\n",
    "other_edge_cases = [True if id in other_no_no_ids else False for id in item_occ.reset_index()['item_id']]\n",
    "\n",
    "edge_cases = [cons or lane or other or boot or trinket for cons, lane, other, boot, trinket in\n",
    "              zip(consumable, lane_items, other_edge_cases, boots, trinkets)]\n",
    "no_edge_cases = [not case for case in edge_cases]"
   ]
  },
  {
   "cell_type": "markdown",
   "metadata": {},
   "source": [
    "Make the set of tags for items that aren't any of the above."
   ]
  },
  {
   "cell_type": "code",
   "execution_count": 106,
   "metadata": {
    "collapsed": false
   },
   "outputs": [
    {
     "data": {
      "text/plain": [
       "{u'Active',\n",
       " u'Armor',\n",
       " u'ArmorPenetration',\n",
       " u'AttackSpeed',\n",
       " u'Aura',\n",
       " u'CooldownReduction',\n",
       " u'CriticalStrike',\n",
       " u'Damage',\n",
       " u'GoldPer',\n",
       " u'Health',\n",
       " u'HealthRegen',\n",
       " u'Jungle',\n",
       " u'LifeSteal',\n",
       " u'MagicPenetration',\n",
       " u'Mana',\n",
       " u'ManaRegen',\n",
       " u'NonbootsMovement',\n",
       " u'OnHit',\n",
       " u'Slow',\n",
       " u'SpellBlock',\n",
       " u'SpellDamage',\n",
       " u'SpellVamp',\n",
       " u'Vision'}"
      ]
     },
     "execution_count": 106,
     "metadata": {},
     "output_type": "execute_result"
    }
   ],
   "source": [
    "tag_list = [tag for tags in item_occ[no_edge_cases]['tags'] if type(tags) != float for tag in tags]\n",
    "tag_list = set(tag_list)\n",
    "tag_list.remove('Bilgewater')\n",
    "tag_list"
   ]
  },
  {
   "cell_type": "markdown",
   "metadata": {},
   "source": [
    "This function takes a table and a tag and gives the entries that include the given tag.\n",
    "\n",
    "Below is the table for all items with the Damage tag."
   ]
  },
  {
   "cell_type": "code",
   "execution_count": 107,
   "metadata": {
    "collapsed": true
   },
   "outputs": [],
   "source": [
    "def get_items_of_tag(df, tag):\n",
    "    if (tag not in tag_list):\n",
    "        raise ValueError('Could not find ' + tag + ' in the tag list')\n",
    "    given_tag_list = []\n",
    "    for tags in df['tags']:\n",
    "        found_tag = True if type(tags) != float and tag in tags else False\n",
    "        given_tag_list.append(found_tag)\n",
    "    return df[given_tag_list]"
   ]
  },
  {
   "cell_type": "code",
   "execution_count": 108,
   "metadata": {
    "collapsed": false
   },
   "outputs": [
    {
     "data": {
      "text/html": [
       "<div>\n",
       "<table border=\"1\" class=\"dataframe\">\n",
       "  <thead>\n",
       "    <tr style=\"text-align: right;\">\n",
       "      <th></th>\n",
       "      <th>count</th>\n",
       "      <th>pick_rate</th>\n",
       "      <th>spread</th>\n",
       "      <th>wins</th>\n",
       "      <th>win_rate</th>\n",
       "      <th>name</th>\n",
       "      <th>full_item</th>\n",
       "      <th>total_gold</th>\n",
       "      <th>tags</th>\n",
       "    </tr>\n",
       "    <tr>\n",
       "      <th>item_id</th>\n",
       "      <th></th>\n",
       "      <th></th>\n",
       "      <th></th>\n",
       "      <th></th>\n",
       "      <th></th>\n",
       "      <th></th>\n",
       "      <th></th>\n",
       "      <th></th>\n",
       "      <th></th>\n",
       "    </tr>\n",
       "  </thead>\n",
       "  <tbody>\n",
       "    <tr>\n",
       "      <th>2140</th>\n",
       "      <td>6</td>\n",
       "      <td>0.000649</td>\n",
       "      <td>6</td>\n",
       "      <td>4</td>\n",
       "      <td>0.666667</td>\n",
       "      <td>Elixir of Wrath</td>\n",
       "      <td>True</td>\n",
       "      <td>500</td>\n",
       "      <td>[Consumable, Damage, LifeSteal, SpellVamp]</td>\n",
       "    </tr>\n",
       "    <tr>\n",
       "      <th>3026</th>\n",
       "      <td>503</td>\n",
       "      <td>0.054378</td>\n",
       "      <td>60</td>\n",
       "      <td>307</td>\n",
       "      <td>0.610338</td>\n",
       "      <td>Guardian Angel</td>\n",
       "      <td>True</td>\n",
       "      <td>2800</td>\n",
       "      <td>[Armor, Damage]</td>\n",
       "    </tr>\n",
       "    <tr>\n",
       "      <th>3053</th>\n",
       "      <td>399</td>\n",
       "      <td>0.043135</td>\n",
       "      <td>41</td>\n",
       "      <td>241</td>\n",
       "      <td>0.604010</td>\n",
       "      <td>Sterak's Gage</td>\n",
       "      <td>True</td>\n",
       "      <td>3200</td>\n",
       "      <td>[Health, Damage]</td>\n",
       "    </tr>\n",
       "    <tr>\n",
       "      <th>3812</th>\n",
       "      <td>177</td>\n",
       "      <td>0.019135</td>\n",
       "      <td>36</td>\n",
       "      <td>106</td>\n",
       "      <td>0.598870</td>\n",
       "      <td>Death's Dance</td>\n",
       "      <td>True</td>\n",
       "      <td>3500</td>\n",
       "      <td>[Damage, LifeSteal, CooldownReduction]</td>\n",
       "    </tr>\n",
       "    <tr>\n",
       "      <th>3036</th>\n",
       "      <td>136</td>\n",
       "      <td>0.014703</td>\n",
       "      <td>29</td>\n",
       "      <td>81</td>\n",
       "      <td>0.595588</td>\n",
       "      <td>Lord Dominik's Regards</td>\n",
       "      <td>True</td>\n",
       "      <td>2800</td>\n",
       "      <td>[Damage, ArmorPenetration]</td>\n",
       "    </tr>\n",
       "    <tr>\n",
       "      <th>3031</th>\n",
       "      <td>697</td>\n",
       "      <td>0.075351</td>\n",
       "      <td>25</td>\n",
       "      <td>412</td>\n",
       "      <td>0.591105</td>\n",
       "      <td>Infinity Edge</td>\n",
       "      <td>True</td>\n",
       "      <td>3400</td>\n",
       "      <td>[CriticalStrike, Damage]</td>\n",
       "    </tr>\n",
       "    <tr>\n",
       "      <th>3124</th>\n",
       "      <td>456</td>\n",
       "      <td>0.049297</td>\n",
       "      <td>26</td>\n",
       "      <td>261</td>\n",
       "      <td>0.572368</td>\n",
       "      <td>Guinsoo's Rageblade</td>\n",
       "      <td>True</td>\n",
       "      <td>3300</td>\n",
       "      <td>[Damage, AttackSpeed, SpellDamage, OnHit]</td>\n",
       "    </tr>\n",
       "    <tr>\n",
       "      <th>3033</th>\n",
       "      <td>77</td>\n",
       "      <td>0.008324</td>\n",
       "      <td>32</td>\n",
       "      <td>44</td>\n",
       "      <td>0.571429</td>\n",
       "      <td>Mortal Reminder</td>\n",
       "      <td>True</td>\n",
       "      <td>2800</td>\n",
       "      <td>[ArmorPenetration, Damage]</td>\n",
       "    </tr>\n",
       "    <tr>\n",
       "      <th>3508</th>\n",
       "      <td>185</td>\n",
       "      <td>0.020000</td>\n",
       "      <td>23</td>\n",
       "      <td>105</td>\n",
       "      <td>0.567568</td>\n",
       "      <td>Essence Reaver</td>\n",
       "      <td>True</td>\n",
       "      <td>3000</td>\n",
       "      <td>[Damage, AttackSpeed, Mana, ManaRegen, Cooldow...</td>\n",
       "    </tr>\n",
       "    <tr>\n",
       "      <th>3072</th>\n",
       "      <td>169</td>\n",
       "      <td>0.018270</td>\n",
       "      <td>20</td>\n",
       "      <td>95</td>\n",
       "      <td>0.562130</td>\n",
       "      <td>The Bloodthirster</td>\n",
       "      <td>True</td>\n",
       "      <td>3500</td>\n",
       "      <td>[Damage, LifeSteal]</td>\n",
       "    </tr>\n",
       "    <tr>\n",
       "      <th>3074</th>\n",
       "      <td>155</td>\n",
       "      <td>0.016757</td>\n",
       "      <td>22</td>\n",
       "      <td>87</td>\n",
       "      <td>0.561290</td>\n",
       "      <td>Ravenous Hydra</td>\n",
       "      <td>True</td>\n",
       "      <td>3500</td>\n",
       "      <td>[Active, Damage, HealthRegen, LifeSteal, OnHit]</td>\n",
       "    </tr>\n",
       "    <tr>\n",
       "      <th>1038</th>\n",
       "      <td>514</td>\n",
       "      <td>0.055568</td>\n",
       "      <td>54</td>\n",
       "      <td>286</td>\n",
       "      <td>0.556420</td>\n",
       "      <td>B. F. Sword</td>\n",
       "      <td>False</td>\n",
       "      <td>1300</td>\n",
       "      <td>[Damage]</td>\n",
       "    </tr>\n",
       "    <tr>\n",
       "      <th>3748</th>\n",
       "      <td>292</td>\n",
       "      <td>0.031568</td>\n",
       "      <td>34</td>\n",
       "      <td>161</td>\n",
       "      <td>0.551370</td>\n",
       "      <td>Titanic Hydra</td>\n",
       "      <td>True</td>\n",
       "      <td>3500</td>\n",
       "      <td>[Health, HealthRegen, Damage, Active, OnHit]</td>\n",
       "    </tr>\n",
       "    <tr>\n",
       "      <th>3139</th>\n",
       "      <td>95</td>\n",
       "      <td>0.010270</td>\n",
       "      <td>35</td>\n",
       "      <td>52</td>\n",
       "      <td>0.547368</td>\n",
       "      <td>Mercurial Scimitar</td>\n",
       "      <td>True</td>\n",
       "      <td>3400</td>\n",
       "      <td>[SpellBlock, Damage, LifeSteal, Active, Nonboo...</td>\n",
       "    </tr>\n",
       "    <tr>\n",
       "      <th>3146</th>\n",
       "      <td>138</td>\n",
       "      <td>0.014919</td>\n",
       "      <td>17</td>\n",
       "      <td>75</td>\n",
       "      <td>0.543478</td>\n",
       "      <td>Hextech Gunblade</td>\n",
       "      <td>True</td>\n",
       "      <td>3400</td>\n",
       "      <td>[Active, Damage, LifeSteal, Slow, SpellDamage,...</td>\n",
       "    </tr>\n",
       "    <tr>\n",
       "      <th>3071</th>\n",
       "      <td>1132</td>\n",
       "      <td>0.122378</td>\n",
       "      <td>40</td>\n",
       "      <td>615</td>\n",
       "      <td>0.543286</td>\n",
       "      <td>The Black Cleaver</td>\n",
       "      <td>True</td>\n",
       "      <td>3000</td>\n",
       "      <td>[ArmorPenetration, CooldownReduction, Damage, ...</td>\n",
       "    </tr>\n",
       "    <tr>\n",
       "      <th>3095</th>\n",
       "      <td>917</td>\n",
       "      <td>0.099135</td>\n",
       "      <td>40</td>\n",
       "      <td>497</td>\n",
       "      <td>0.541985</td>\n",
       "      <td>Stormrazor</td>\n",
       "      <td>True</td>\n",
       "      <td>2800</td>\n",
       "      <td>[Damage, CriticalStrike, AttackSpeed, OnHit, N...</td>\n",
       "    </tr>\n",
       "    <tr>\n",
       "      <th>3147</th>\n",
       "      <td>679</td>\n",
       "      <td>0.073405</td>\n",
       "      <td>33</td>\n",
       "      <td>368</td>\n",
       "      <td>0.541973</td>\n",
       "      <td>Duskblade of Draktharr</td>\n",
       "      <td>True</td>\n",
       "      <td>2900</td>\n",
       "      <td>[Damage, Vision, CooldownReduction, OnHit, Arm...</td>\n",
       "    </tr>\n",
       "    <tr>\n",
       "      <th>3814</th>\n",
       "      <td>48</td>\n",
       "      <td>0.005189</td>\n",
       "      <td>16</td>\n",
       "      <td>26</td>\n",
       "      <td>0.541667</td>\n",
       "      <td>Edge of Night</td>\n",
       "      <td>True</td>\n",
       "      <td>3000</td>\n",
       "      <td>[Health, Damage, Active, ArmorPenetration]</td>\n",
       "    </tr>\n",
       "    <tr>\n",
       "      <th>3142</th>\n",
       "      <td>641</td>\n",
       "      <td>0.069297</td>\n",
       "      <td>39</td>\n",
       "      <td>345</td>\n",
       "      <td>0.538222</td>\n",
       "      <td>Youmuu's Ghostblade</td>\n",
       "      <td>True</td>\n",
       "      <td>2900</td>\n",
       "      <td>[Damage, Active, CooldownReduction, NonbootsMo...</td>\n",
       "    </tr>\n",
       "    <tr>\n",
       "      <th>3153</th>\n",
       "      <td>680</td>\n",
       "      <td>0.073514</td>\n",
       "      <td>40</td>\n",
       "      <td>363</td>\n",
       "      <td>0.533824</td>\n",
       "      <td>Blade of the Ruined King</td>\n",
       "      <td>True</td>\n",
       "      <td>3200</td>\n",
       "      <td>[Damage, AttackSpeed, LifeSteal, Active, Slow,...</td>\n",
       "    </tr>\n",
       "    <tr>\n",
       "      <th>3022</th>\n",
       "      <td>92</td>\n",
       "      <td>0.009946</td>\n",
       "      <td>23</td>\n",
       "      <td>48</td>\n",
       "      <td>0.521739</td>\n",
       "      <td>Frozen Mallet</td>\n",
       "      <td>True</td>\n",
       "      <td>3100</td>\n",
       "      <td>[Damage, Health, OnHit, Slow]</td>\n",
       "    </tr>\n",
       "    <tr>\n",
       "      <th>3156</th>\n",
       "      <td>162</td>\n",
       "      <td>0.017514</td>\n",
       "      <td>47</td>\n",
       "      <td>84</td>\n",
       "      <td>0.518519</td>\n",
       "      <td>Maw of Malmortius</td>\n",
       "      <td>True</td>\n",
       "      <td>3250</td>\n",
       "      <td>[SpellBlock, Damage, LifeSteal, CooldownReduct...</td>\n",
       "    </tr>\n",
       "    <tr>\n",
       "      <th>3078</th>\n",
       "      <td>798</td>\n",
       "      <td>0.086270</td>\n",
       "      <td>40</td>\n",
       "      <td>408</td>\n",
       "      <td>0.511278</td>\n",
       "      <td>Trinity Force</td>\n",
       "      <td>True</td>\n",
       "      <td>3733</td>\n",
       "      <td>[Health, Damage, AttackSpeed, Mana, CooldownRe...</td>\n",
       "    </tr>\n",
       "    <tr>\n",
       "      <th>2060</th>\n",
       "      <td>2</td>\n",
       "      <td>0.000216</td>\n",
       "      <td>2</td>\n",
       "      <td>1</td>\n",
       "      <td>0.500000</td>\n",
       "      <td>Travel Size Elixir of Wrath</td>\n",
       "      <td>True</td>\n",
       "      <td>80</td>\n",
       "      <td>[Consumable, Damage, LifeSteal, SpellVamp]</td>\n",
       "    </tr>\n",
       "    <tr>\n",
       "      <th>1053</th>\n",
       "      <td>236</td>\n",
       "      <td>0.025514</td>\n",
       "      <td>47</td>\n",
       "      <td>115</td>\n",
       "      <td>0.487288</td>\n",
       "      <td>Vampiric Scepter</td>\n",
       "      <td>False</td>\n",
       "      <td>900</td>\n",
       "      <td>[Damage, LifeSteal]</td>\n",
       "    </tr>\n",
       "    <tr>\n",
       "      <th>3052</th>\n",
       "      <td>241</td>\n",
       "      <td>0.026054</td>\n",
       "      <td>47</td>\n",
       "      <td>117</td>\n",
       "      <td>0.485477</td>\n",
       "      <td>Jaurim's Fist</td>\n",
       "      <td>False</td>\n",
       "      <td>1200</td>\n",
       "      <td>[Health, Damage]</td>\n",
       "    </tr>\n",
       "    <tr>\n",
       "      <th>3077</th>\n",
       "      <td>510</td>\n",
       "      <td>0.055135</td>\n",
       "      <td>38</td>\n",
       "      <td>247</td>\n",
       "      <td>0.484314</td>\n",
       "      <td>Tiamat</td>\n",
       "      <td>False</td>\n",
       "      <td>1200</td>\n",
       "      <td>[HealthRegen, Damage, Active]</td>\n",
       "    </tr>\n",
       "    <tr>\n",
       "      <th>3123</th>\n",
       "      <td>62</td>\n",
       "      <td>0.006703</td>\n",
       "      <td>32</td>\n",
       "      <td>30</td>\n",
       "      <td>0.483871</td>\n",
       "      <td>Executioner's Calling</td>\n",
       "      <td>False</td>\n",
       "      <td>800</td>\n",
       "      <td>[Damage]</td>\n",
       "    </tr>\n",
       "    <tr>\n",
       "      <th>1083</th>\n",
       "      <td>40</td>\n",
       "      <td>0.004324</td>\n",
       "      <td>17</td>\n",
       "      <td>19</td>\n",
       "      <td>0.475000</td>\n",
       "      <td>Cull</td>\n",
       "      <td>True</td>\n",
       "      <td>450</td>\n",
       "      <td>[Damage, LifeSteal, Lane]</td>\n",
       "    </tr>\n",
       "    <tr>\n",
       "      <th>3134</th>\n",
       "      <td>166</td>\n",
       "      <td>0.017946</td>\n",
       "      <td>29</td>\n",
       "      <td>78</td>\n",
       "      <td>0.469880</td>\n",
       "      <td>Serrated Dirk</td>\n",
       "      <td>False</td>\n",
       "      <td>1100</td>\n",
       "      <td>[Damage, ArmorPenetration]</td>\n",
       "    </tr>\n",
       "    <tr>\n",
       "      <th>1055</th>\n",
       "      <td>1122</td>\n",
       "      <td>0.121297</td>\n",
       "      <td>52</td>\n",
       "      <td>526</td>\n",
       "      <td>0.468806</td>\n",
       "      <td>Doran's Blade</td>\n",
       "      <td>True</td>\n",
       "      <td>450</td>\n",
       "      <td>[Damage, Health, Lane, LifeSteal]</td>\n",
       "    </tr>\n",
       "    <tr>\n",
       "      <th>1037</th>\n",
       "      <td>330</td>\n",
       "      <td>0.035676</td>\n",
       "      <td>57</td>\n",
       "      <td>148</td>\n",
       "      <td>0.448485</td>\n",
       "      <td>Pickaxe</td>\n",
       "      <td>False</td>\n",
       "      <td>875</td>\n",
       "      <td>[Damage]</td>\n",
       "    </tr>\n",
       "    <tr>\n",
       "      <th>1036</th>\n",
       "      <td>518</td>\n",
       "      <td>0.056000</td>\n",
       "      <td>64</td>\n",
       "      <td>228</td>\n",
       "      <td>0.440154</td>\n",
       "      <td>Long Sword</td>\n",
       "      <td>False</td>\n",
       "      <td>350</td>\n",
       "      <td>[Damage, Lane]</td>\n",
       "    </tr>\n",
       "    <tr>\n",
       "      <th>3133</th>\n",
       "      <td>166</td>\n",
       "      <td>0.017946</td>\n",
       "      <td>39</td>\n",
       "      <td>73</td>\n",
       "      <td>0.439759</td>\n",
       "      <td>Caulfield's Warhammer</td>\n",
       "      <td>False</td>\n",
       "      <td>1100</td>\n",
       "      <td>[Damage, CooldownReduction]</td>\n",
       "    </tr>\n",
       "    <tr>\n",
       "      <th>3155</th>\n",
       "      <td>171</td>\n",
       "      <td>0.018486</td>\n",
       "      <td>44</td>\n",
       "      <td>74</td>\n",
       "      <td>0.432749</td>\n",
       "      <td>Hexdrinker</td>\n",
       "      <td>False</td>\n",
       "      <td>1300</td>\n",
       "      <td>[Damage, SpellBlock]</td>\n",
       "    </tr>\n",
       "    <tr>\n",
       "      <th>3035</th>\n",
       "      <td>94</td>\n",
       "      <td>0.010162</td>\n",
       "      <td>30</td>\n",
       "      <td>40</td>\n",
       "      <td>0.425532</td>\n",
       "      <td>Last Whisper</td>\n",
       "      <td>False</td>\n",
       "      <td>1300</td>\n",
       "      <td>[ArmorPenetration, Damage]</td>\n",
       "    </tr>\n",
       "    <tr>\n",
       "      <th>3144</th>\n",
       "      <td>82</td>\n",
       "      <td>0.008865</td>\n",
       "      <td>31</td>\n",
       "      <td>33</td>\n",
       "      <td>0.402439</td>\n",
       "      <td>Bilgewater Cutlass</td>\n",
       "      <td>False</td>\n",
       "      <td>1500</td>\n",
       "      <td>[Active, Damage, LifeSteal, Slow]</td>\n",
       "    </tr>\n",
       "    <tr>\n",
       "      <th>3044</th>\n",
       "      <td>200</td>\n",
       "      <td>0.021622</td>\n",
       "      <td>45</td>\n",
       "      <td>78</td>\n",
       "      <td>0.390000</td>\n",
       "      <td>Phage</td>\n",
       "      <td>False</td>\n",
       "      <td>1250</td>\n",
       "      <td>[Damage, Health, NonbootsMovement, OnHit]</td>\n",
       "    </tr>\n",
       "    <tr>\n",
       "      <th>3004</th>\n",
       "      <td>13</td>\n",
       "      <td>0.001405</td>\n",
       "      <td>3</td>\n",
       "      <td>4</td>\n",
       "      <td>0.307692</td>\n",
       "      <td>Manamune</td>\n",
       "      <td>True</td>\n",
       "      <td>2400</td>\n",
       "      <td>[Damage, Mana, ManaRegen, OnHit]</td>\n",
       "    </tr>\n",
       "    <tr>\n",
       "      <th>3252</th>\n",
       "      <td>4</td>\n",
       "      <td>0.000432</td>\n",
       "      <td>3</td>\n",
       "      <td>1</td>\n",
       "      <td>0.250000</td>\n",
       "      <td>Poacher's Dirk</td>\n",
       "      <td>True</td>\n",
       "      <td>500</td>\n",
       "      <td>[Damage, ArmorPenetration]</td>\n",
       "    </tr>\n",
       "    <tr>\n",
       "      <th>3380</th>\n",
       "      <td>4</td>\n",
       "      <td>0.000432</td>\n",
       "      <td>3</td>\n",
       "      <td>1</td>\n",
       "      <td>0.250000</td>\n",
       "      <td>The Obsidian Cleaver</td>\n",
       "      <td>True</td>\n",
       "      <td>4000</td>\n",
       "      <td>[ArmorPenetration, CooldownReduction, Damage, ...</td>\n",
       "    </tr>\n",
       "  </tbody>\n",
       "</table>\n",
       "</div>"
      ],
      "text/plain": [
       "         count  pick_rate  spread  wins  win_rate  \\\n",
       "item_id                                             \n",
       "2140         6   0.000649       6     4  0.666667   \n",
       "3026       503   0.054378      60   307  0.610338   \n",
       "3053       399   0.043135      41   241  0.604010   \n",
       "3812       177   0.019135      36   106  0.598870   \n",
       "3036       136   0.014703      29    81  0.595588   \n",
       "3031       697   0.075351      25   412  0.591105   \n",
       "3124       456   0.049297      26   261  0.572368   \n",
       "3033        77   0.008324      32    44  0.571429   \n",
       "3508       185   0.020000      23   105  0.567568   \n",
       "3072       169   0.018270      20    95  0.562130   \n",
       "3074       155   0.016757      22    87  0.561290   \n",
       "1038       514   0.055568      54   286  0.556420   \n",
       "3748       292   0.031568      34   161  0.551370   \n",
       "3139        95   0.010270      35    52  0.547368   \n",
       "3146       138   0.014919      17    75  0.543478   \n",
       "3071      1132   0.122378      40   615  0.543286   \n",
       "3095       917   0.099135      40   497  0.541985   \n",
       "3147       679   0.073405      33   368  0.541973   \n",
       "3814        48   0.005189      16    26  0.541667   \n",
       "3142       641   0.069297      39   345  0.538222   \n",
       "3153       680   0.073514      40   363  0.533824   \n",
       "3022        92   0.009946      23    48  0.521739   \n",
       "3156       162   0.017514      47    84  0.518519   \n",
       "3078       798   0.086270      40   408  0.511278   \n",
       "2060         2   0.000216       2     1  0.500000   \n",
       "1053       236   0.025514      47   115  0.487288   \n",
       "3052       241   0.026054      47   117  0.485477   \n",
       "3077       510   0.055135      38   247  0.484314   \n",
       "3123        62   0.006703      32    30  0.483871   \n",
       "1083        40   0.004324      17    19  0.475000   \n",
       "3134       166   0.017946      29    78  0.469880   \n",
       "1055      1122   0.121297      52   526  0.468806   \n",
       "1037       330   0.035676      57   148  0.448485   \n",
       "1036       518   0.056000      64   228  0.440154   \n",
       "3133       166   0.017946      39    73  0.439759   \n",
       "3155       171   0.018486      44    74  0.432749   \n",
       "3035        94   0.010162      30    40  0.425532   \n",
       "3144        82   0.008865      31    33  0.402439   \n",
       "3044       200   0.021622      45    78  0.390000   \n",
       "3004        13   0.001405       3     4  0.307692   \n",
       "3252         4   0.000432       3     1  0.250000   \n",
       "3380         4   0.000432       3     1  0.250000   \n",
       "\n",
       "                                name full_item  total_gold  \\\n",
       "item_id                                                      \n",
       "2140                 Elixir of Wrath      True         500   \n",
       "3026                  Guardian Angel      True        2800   \n",
       "3053                   Sterak's Gage      True        3200   \n",
       "3812                   Death's Dance      True        3500   \n",
       "3036          Lord Dominik's Regards      True        2800   \n",
       "3031                   Infinity Edge      True        3400   \n",
       "3124             Guinsoo's Rageblade      True        3300   \n",
       "3033                 Mortal Reminder      True        2800   \n",
       "3508                  Essence Reaver      True        3000   \n",
       "3072               The Bloodthirster      True        3500   \n",
       "3074                  Ravenous Hydra      True        3500   \n",
       "1038                     B. F. Sword     False        1300   \n",
       "3748                   Titanic Hydra      True        3500   \n",
       "3139              Mercurial Scimitar      True        3400   \n",
       "3146                Hextech Gunblade      True        3400   \n",
       "3071               The Black Cleaver      True        3000   \n",
       "3095                      Stormrazor      True        2800   \n",
       "3147          Duskblade of Draktharr      True        2900   \n",
       "3814                   Edge of Night      True        3000   \n",
       "3142             Youmuu's Ghostblade      True        2900   \n",
       "3153        Blade of the Ruined King      True        3200   \n",
       "3022                   Frozen Mallet      True        3100   \n",
       "3156               Maw of Malmortius      True        3250   \n",
       "3078                   Trinity Force      True        3733   \n",
       "2060     Travel Size Elixir of Wrath      True          80   \n",
       "1053                Vampiric Scepter     False         900   \n",
       "3052                   Jaurim's Fist     False        1200   \n",
       "3077                          Tiamat     False        1200   \n",
       "3123           Executioner's Calling     False         800   \n",
       "1083                            Cull      True         450   \n",
       "3134                   Serrated Dirk     False        1100   \n",
       "1055                   Doran's Blade      True         450   \n",
       "1037                         Pickaxe     False         875   \n",
       "1036                      Long Sword     False         350   \n",
       "3133           Caulfield's Warhammer     False        1100   \n",
       "3155                      Hexdrinker     False        1300   \n",
       "3035                    Last Whisper     False        1300   \n",
       "3144              Bilgewater Cutlass     False        1500   \n",
       "3044                           Phage     False        1250   \n",
       "3004                        Manamune      True        2400   \n",
       "3252                  Poacher's Dirk      True         500   \n",
       "3380            The Obsidian Cleaver      True        4000   \n",
       "\n",
       "                                                      tags  \n",
       "item_id                                                     \n",
       "2140            [Consumable, Damage, LifeSteal, SpellVamp]  \n",
       "3026                                       [Armor, Damage]  \n",
       "3053                                      [Health, Damage]  \n",
       "3812                [Damage, LifeSteal, CooldownReduction]  \n",
       "3036                            [Damage, ArmorPenetration]  \n",
       "3031                              [CriticalStrike, Damage]  \n",
       "3124             [Damage, AttackSpeed, SpellDamage, OnHit]  \n",
       "3033                            [ArmorPenetration, Damage]  \n",
       "3508     [Damage, AttackSpeed, Mana, ManaRegen, Cooldow...  \n",
       "3072                                   [Damage, LifeSteal]  \n",
       "3074       [Active, Damage, HealthRegen, LifeSteal, OnHit]  \n",
       "1038                                              [Damage]  \n",
       "3748          [Health, HealthRegen, Damage, Active, OnHit]  \n",
       "3139     [SpellBlock, Damage, LifeSteal, Active, Nonboo...  \n",
       "3146     [Active, Damage, LifeSteal, Slow, SpellDamage,...  \n",
       "3071     [ArmorPenetration, CooldownReduction, Damage, ...  \n",
       "3095     [Damage, CriticalStrike, AttackSpeed, OnHit, N...  \n",
       "3147     [Damage, Vision, CooldownReduction, OnHit, Arm...  \n",
       "3814            [Health, Damage, Active, ArmorPenetration]  \n",
       "3142     [Damage, Active, CooldownReduction, NonbootsMo...  \n",
       "3153     [Damage, AttackSpeed, LifeSteal, Active, Slow,...  \n",
       "3022                         [Damage, Health, OnHit, Slow]  \n",
       "3156     [SpellBlock, Damage, LifeSteal, CooldownReduct...  \n",
       "3078     [Health, Damage, AttackSpeed, Mana, CooldownRe...  \n",
       "2060            [Consumable, Damage, LifeSteal, SpellVamp]  \n",
       "1053                                   [Damage, LifeSteal]  \n",
       "3052                                      [Health, Damage]  \n",
       "3077                         [HealthRegen, Damage, Active]  \n",
       "3123                                              [Damage]  \n",
       "1083                             [Damage, LifeSteal, Lane]  \n",
       "3134                            [Damage, ArmorPenetration]  \n",
       "1055                     [Damage, Health, Lane, LifeSteal]  \n",
       "1037                                              [Damage]  \n",
       "1036                                        [Damage, Lane]  \n",
       "3133                           [Damage, CooldownReduction]  \n",
       "3155                                  [Damage, SpellBlock]  \n",
       "3035                            [ArmorPenetration, Damage]  \n",
       "3144                     [Active, Damage, LifeSteal, Slow]  \n",
       "3044             [Damage, Health, NonbootsMovement, OnHit]  \n",
       "3004                      [Damage, Mana, ManaRegen, OnHit]  \n",
       "3252                            [Damage, ArmorPenetration]  \n",
       "3380     [ArmorPenetration, CooldownReduction, Damage, ...  "
      ]
     },
     "execution_count": 108,
     "metadata": {},
     "output_type": "execute_result"
    }
   ],
   "source": [
    "test_fn_df = get_items_of_tag(item_occ, 'Damage').sort_values('win_rate', ascending=False)\n",
    "test_fn_df"
   ]
  },
  {
   "cell_type": "markdown",
   "metadata": {
    "collapsed": true
   },
   "source": [
    "Most of the complete items have win rates higher than 50%. This makes sense, because players with incomplete items at the end of the game are more likely to be behind, and thus lose."
   ]
  },
  {
   "cell_type": "markdown",
   "metadata": {},
   "source": [
    "## Tag-Based Statistics Table\n",
    "\n",
    "With the function above, I loop over all the tags found in full items and compute descriptive statistics for each tag. I should consider computing stds."
   ]
  },
  {
   "cell_type": "code",
   "execution_count": 109,
   "metadata": {
    "collapsed": false
   },
   "outputs": [],
   "source": [
    "tag_based_stats_df = pd.DataFrame()\n",
    "for idx, tag in enumerate(tag_list):\n",
    "    tag_df = get_items_of_tag(item_occ[no_edge_cases], tag)\n",
    "    tag_based_stats_df.loc[idx, 'tag'] = tag\n",
    "    tag_based_stats_df.loc[idx, 'pick_count'] = tag_df['count'].sum()\n",
    "    tag_based_stats_df.loc[idx, 'avg_pick_rate'] = (tag_df['pick_rate'] * tag_df['count']).sum() / tag_df['count'].sum()\n",
    "    #tag_based_stats_df.loc[idx, 'std_pick_rate'] = tag_df['pick_rate'].std()\n",
    "    tag_based_stats_df.loc[idx, 'avg_win_rate'] = (tag_df['win_rate'] * tag_df['count']).sum() / tag_df['count'].sum()\n",
    "    #tag_based_stats_df.loc[idx, 'std_win_rate'] = tag_df['win_rate'].std()\n",
    "    tag_based_stats_df.loc[idx, 'avg_champ_spread'] = tag_df['spread'].mean()\n",
    "    tag_based_stats_df.loc[idx, 'avg_item_cost'] = tag_df['total_gold'].mean()"
   ]
  },
  {
   "cell_type": "code",
   "execution_count": 110,
   "metadata": {
    "collapsed": false
   },
   "outputs": [
    {
     "data": {
      "text/html": [
       "<div>\n",
       "<table border=\"1\" class=\"dataframe\">\n",
       "  <thead>\n",
       "    <tr style=\"text-align: right;\">\n",
       "      <th></th>\n",
       "      <th>tag</th>\n",
       "      <th>pick_count</th>\n",
       "      <th>avg_pick_rate</th>\n",
       "      <th>avg_win_rate</th>\n",
       "      <th>avg_champ_spread</th>\n",
       "      <th>avg_item_cost</th>\n",
       "    </tr>\n",
       "  </thead>\n",
       "  <tbody>\n",
       "    <tr>\n",
       "      <th>12</th>\n",
       "      <td>MagicPenetration</td>\n",
       "      <td>1171</td>\n",
       "      <td>0.044507</td>\n",
       "      <td>0.564475</td>\n",
       "      <td>38.800000</td>\n",
       "      <td>2830.000000</td>\n",
       "    </tr>\n",
       "    <tr>\n",
       "      <th>16</th>\n",
       "      <td>Aura</td>\n",
       "      <td>896</td>\n",
       "      <td>0.022645</td>\n",
       "      <td>0.560268</td>\n",
       "      <td>25.833333</td>\n",
       "      <td>2500.000000</td>\n",
       "    </tr>\n",
       "    <tr>\n",
       "      <th>13</th>\n",
       "      <td>CriticalStrike</td>\n",
       "      <td>3375</td>\n",
       "      <td>0.064845</td>\n",
       "      <td>0.550519</td>\n",
       "      <td>25.750000</td>\n",
       "      <td>2375.000000</td>\n",
       "    </tr>\n",
       "    <tr>\n",
       "      <th>18</th>\n",
       "      <td>Vision</td>\n",
       "      <td>679</td>\n",
       "      <td>0.073405</td>\n",
       "      <td>0.541973</td>\n",
       "      <td>33.000000</td>\n",
       "      <td>2900.000000</td>\n",
       "    </tr>\n",
       "    <tr>\n",
       "      <th>17</th>\n",
       "      <td>SpellDamage</td>\n",
       "      <td>9634</td>\n",
       "      <td>0.047188</td>\n",
       "      <td>0.538821</td>\n",
       "      <td>34.756757</td>\n",
       "      <td>2194.189189</td>\n",
       "    </tr>\n",
       "    <tr>\n",
       "      <th>19</th>\n",
       "      <td>ArmorPenetration</td>\n",
       "      <td>2981</td>\n",
       "      <td>0.080383</td>\n",
       "      <td>0.536397</td>\n",
       "      <td>25.400000</td>\n",
       "      <td>2430.000000</td>\n",
       "    </tr>\n",
       "    <tr>\n",
       "      <th>3</th>\n",
       "      <td>Damage</td>\n",
       "      <td>11421</td>\n",
       "      <td>0.060422</td>\n",
       "      <td>0.534629</td>\n",
       "      <td>32.972973</td>\n",
       "      <td>2451.567568</td>\n",
       "    </tr>\n",
       "    <tr>\n",
       "      <th>15</th>\n",
       "      <td>Mana</td>\n",
       "      <td>4296</td>\n",
       "      <td>0.046418</td>\n",
       "      <td>0.532821</td>\n",
       "      <td>25.750000</td>\n",
       "      <td>2282.625000</td>\n",
       "    </tr>\n",
       "    <tr>\n",
       "      <th>14</th>\n",
       "      <td>OnHit</td>\n",
       "      <td>8317</td>\n",
       "      <td>0.070238</td>\n",
       "      <td>0.532644</td>\n",
       "      <td>25.307692</td>\n",
       "      <td>2441.653846</td>\n",
       "    </tr>\n",
       "    <tr>\n",
       "      <th>2</th>\n",
       "      <td>Armor</td>\n",
       "      <td>5382</td>\n",
       "      <td>0.040696</td>\n",
       "      <td>0.532516</td>\n",
       "      <td>41.666667</td>\n",
       "      <td>2068.750000</td>\n",
       "    </tr>\n",
       "    <tr>\n",
       "      <th>11</th>\n",
       "      <td>Active</td>\n",
       "      <td>7101</td>\n",
       "      <td>0.046221</td>\n",
       "      <td>0.531897</td>\n",
       "      <td>28.090909</td>\n",
       "      <td>2242.424242</td>\n",
       "    </tr>\n",
       "    <tr>\n",
       "      <th>10</th>\n",
       "      <td>SpellVamp</td>\n",
       "      <td>300</td>\n",
       "      <td>0.016320</td>\n",
       "      <td>0.530000</td>\n",
       "      <td>32.000000</td>\n",
       "      <td>3325.000000</td>\n",
       "    </tr>\n",
       "    <tr>\n",
       "      <th>21</th>\n",
       "      <td>NonbootsMovement</td>\n",
       "      <td>8480</td>\n",
       "      <td>0.063088</td>\n",
       "      <td>0.529599</td>\n",
       "      <td>28.142857</td>\n",
       "      <td>2426.178571</td>\n",
       "    </tr>\n",
       "    <tr>\n",
       "      <th>0</th>\n",
       "      <td>CooldownReduction</td>\n",
       "      <td>12141</td>\n",
       "      <td>0.054525</td>\n",
       "      <td>0.526563</td>\n",
       "      <td>30.617021</td>\n",
       "      <td>2367.723404</td>\n",
       "    </tr>\n",
       "    <tr>\n",
       "      <th>9</th>\n",
       "      <td>LifeSteal</td>\n",
       "      <td>2003</td>\n",
       "      <td>0.035959</td>\n",
       "      <td>0.526211</td>\n",
       "      <td>26.769231</td>\n",
       "      <td>2219.230769</td>\n",
       "    </tr>\n",
       "    <tr>\n",
       "      <th>1</th>\n",
       "      <td>AttackSpeed</td>\n",
       "      <td>5491</td>\n",
       "      <td>0.059491</td>\n",
       "      <td>0.526134</td>\n",
       "      <td>26.937500</td>\n",
       "      <td>2314.562500</td>\n",
       "    </tr>\n",
       "    <tr>\n",
       "      <th>6</th>\n",
       "      <td>Health</td>\n",
       "      <td>10822</td>\n",
       "      <td>0.048404</td>\n",
       "      <td>0.516263</td>\n",
       "      <td>37.139535</td>\n",
       "      <td>2299.604651</td>\n",
       "    </tr>\n",
       "    <tr>\n",
       "      <th>4</th>\n",
       "      <td>SpellBlock</td>\n",
       "      <td>2905</td>\n",
       "      <td>0.022449</td>\n",
       "      <td>0.516007</td>\n",
       "      <td>34.681818</td>\n",
       "      <td>2185.000000</td>\n",
       "    </tr>\n",
       "    <tr>\n",
       "      <th>5</th>\n",
       "      <td>Slow</td>\n",
       "      <td>2558</td>\n",
       "      <td>0.036473</td>\n",
       "      <td>0.512901</td>\n",
       "      <td>34.461538</td>\n",
       "      <td>2473.076923</td>\n",
       "    </tr>\n",
       "    <tr>\n",
       "      <th>7</th>\n",
       "      <td>HealthRegen</td>\n",
       "      <td>4113</td>\n",
       "      <td>0.029904</td>\n",
       "      <td>0.507659</td>\n",
       "      <td>25.500000</td>\n",
       "      <td>2040.384615</td>\n",
       "    </tr>\n",
       "    <tr>\n",
       "      <th>8</th>\n",
       "      <td>GoldPer</td>\n",
       "      <td>1770</td>\n",
       "      <td>0.039155</td>\n",
       "      <td>0.503390</td>\n",
       "      <td>24.666667</td>\n",
       "      <td>1275.000000</td>\n",
       "    </tr>\n",
       "    <tr>\n",
       "      <th>22</th>\n",
       "      <td>ManaRegen</td>\n",
       "      <td>3304</td>\n",
       "      <td>0.030615</td>\n",
       "      <td>0.495157</td>\n",
       "      <td>18.200000</td>\n",
       "      <td>1763.000000</td>\n",
       "    </tr>\n",
       "    <tr>\n",
       "      <th>20</th>\n",
       "      <td>Jungle</td>\n",
       "      <td>109</td>\n",
       "      <td>0.003163</td>\n",
       "      <td>0.403670</td>\n",
       "      <td>13.250000</td>\n",
       "      <td>675.000000</td>\n",
       "    </tr>\n",
       "  </tbody>\n",
       "</table>\n",
       "</div>"
      ],
      "text/plain": [
       "                  tag  pick_count  avg_pick_rate  avg_win_rate  \\\n",
       "12   MagicPenetration        1171       0.044507      0.564475   \n",
       "16               Aura         896       0.022645      0.560268   \n",
       "13     CriticalStrike        3375       0.064845      0.550519   \n",
       "18             Vision         679       0.073405      0.541973   \n",
       "17        SpellDamage        9634       0.047188      0.538821   \n",
       "19   ArmorPenetration        2981       0.080383      0.536397   \n",
       "3              Damage       11421       0.060422      0.534629   \n",
       "15               Mana        4296       0.046418      0.532821   \n",
       "14              OnHit        8317       0.070238      0.532644   \n",
       "2               Armor        5382       0.040696      0.532516   \n",
       "11             Active        7101       0.046221      0.531897   \n",
       "10          SpellVamp         300       0.016320      0.530000   \n",
       "21   NonbootsMovement        8480       0.063088      0.529599   \n",
       "0   CooldownReduction       12141       0.054525      0.526563   \n",
       "9           LifeSteal        2003       0.035959      0.526211   \n",
       "1         AttackSpeed        5491       0.059491      0.526134   \n",
       "6              Health       10822       0.048404      0.516263   \n",
       "4          SpellBlock        2905       0.022449      0.516007   \n",
       "5                Slow        2558       0.036473      0.512901   \n",
       "7         HealthRegen        4113       0.029904      0.507659   \n",
       "8             GoldPer        1770       0.039155      0.503390   \n",
       "22          ManaRegen        3304       0.030615      0.495157   \n",
       "20             Jungle         109       0.003163      0.403670   \n",
       "\n",
       "    avg_champ_spread  avg_item_cost  \n",
       "12         38.800000    2830.000000  \n",
       "16         25.833333    2500.000000  \n",
       "13         25.750000    2375.000000  \n",
       "18         33.000000    2900.000000  \n",
       "17         34.756757    2194.189189  \n",
       "19         25.400000    2430.000000  \n",
       "3          32.972973    2451.567568  \n",
       "15         25.750000    2282.625000  \n",
       "14         25.307692    2441.653846  \n",
       "2          41.666667    2068.750000  \n",
       "11         28.090909    2242.424242  \n",
       "10         32.000000    3325.000000  \n",
       "21         28.142857    2426.178571  \n",
       "0          30.617021    2367.723404  \n",
       "9          26.769231    2219.230769  \n",
       "1          26.937500    2314.562500  \n",
       "6          37.139535    2299.604651  \n",
       "4          34.681818    2185.000000  \n",
       "5          34.461538    2473.076923  \n",
       "7          25.500000    2040.384615  \n",
       "8          24.666667    1275.000000  \n",
       "22         18.200000    1763.000000  \n",
       "20         13.250000     675.000000  "
      ]
     },
     "execution_count": 110,
     "metadata": {},
     "output_type": "execute_result"
    }
   ],
   "source": [
    "tag_based_stats_df.sort_values('avg_win_rate', ascending=False)"
   ]
  },
  {
   "cell_type": "code",
   "execution_count": 111,
   "metadata": {
    "collapsed": true
   },
   "outputs": [],
   "source": [
    "tag_based_stats_df.to_csv('tag_based_stats_8.22.1.csv', encoding='utf-8')"
   ]
  },
  {
   "cell_type": "markdown",
   "metadata": {},
   "source": [
    "### Win Rate vs Tag\n",
    "\n",
    "This shows that Magic Penetration items have the highest average win rate, and Jungle items have the lowest average win rate."
   ]
  },
  {
   "cell_type": "code",
   "execution_count": 112,
   "metadata": {
    "collapsed": false
   },
   "outputs": [
    {
     "data": {
      "image/png": "[encoded data removed]",
      "text/plain": [
       "<matplotlib.figure.Figure at 0xef18b70>"
      ]
     },
     "metadata": {},
     "output_type": "display_data"
    }
   ],
   "source": [
    "tag_based_stats_df.sort_values('avg_win_rate').plot(x='tag', y='avg_win_rate', kind='barh', figsize=(10,10),\n",
    "                        color='lightblue', title='Avg Win Rate Per Tag')\n",
    "plt.ylabel('Tag')\n",
    "plt.xlabel('Avg Win Rate')\n",
    "plt.savefig('avg_win_rate_per_tag.png')"
   ]
  },
  {
   "cell_type": "markdown",
   "metadata": {},
   "source": [
    "### Pick Rate vs Tag\n",
    "\n",
    "Armor Penetration Items are picked the most often of any tag, which is surprising. Has this table been remade recently?"
   ]
  },
  {
   "cell_type": "code",
   "execution_count": 113,
   "metadata": {
    "collapsed": false
   },
   "outputs": [
    {
     "data": {
      "image/png": "[encoded data removed]",
      "text/plain": [
       "<matplotlib.figure.Figure at 0xfd45a20>"
      ]
     },
     "metadata": {},
     "output_type": "display_data"
    }
   ],
   "source": [
    "tag_based_stats_df.sort_values('avg_pick_rate').plot(x='tag', y='avg_pick_rate', kind='barh', figsize=(10,10),\n",
    "                        color='lightblue', title='Avg Pick Rate Per Tag')\n",
    "plt.ylabel('Tag')\n",
    "plt.xlabel('Avg Pick Rate')\n",
    "plt.savefig('avg_pick_rate_per_tag.png')"
   ]
  },
  {
   "cell_type": "markdown",
   "metadata": {},
   "source": [
    "### Avg Win Rate vs Avg Item Cost for each Tag\n",
    "\n",
    "It seems like the tags with more expensive items tend to win more often."
   ]
  },
  {
   "cell_type": "code",
   "execution_count": 114,
   "metadata": {
    "collapsed": false
   },
   "outputs": [
    {
     "data": {
      "text/plain": [
       "<matplotlib.axes._subplots.AxesSubplot at 0x1005b748>"
      ]
     },
     "execution_count": 114,
     "metadata": {},
     "output_type": "execute_result"
    },
    {
     "data": {
      "image/png": "[encoded data removed]",
      "text/plain": [
       "<matplotlib.figure.Figure at 0xfd5ba58>"
      ]
     },
     "metadata": {},
     "output_type": "display_data"
    }
   ],
   "source": [
    "tag_based_stats_df.plot(y='avg_win_rate', x='avg_item_cost', kind='scatter', title='Avg Tag Win Rate vs Avg Tag Cost')"
   ]
  },
  {
   "cell_type": "markdown",
   "metadata": {},
   "source": [
    "### Avg Pick Rate vs Avg Item Cost for each Tag"
   ]
  },
  {
   "cell_type": "code",
   "execution_count": 115,
   "metadata": {
    "collapsed": false
   },
   "outputs": [
    {
     "data": {
      "text/plain": [
       "<matplotlib.axes._subplots.AxesSubplot at 0xed318d0>"
      ]
     },
     "execution_count": 115,
     "metadata": {},
     "output_type": "execute_result"
    },
    {
     "data": {
      "image/png": "[encoded data removed]",
      "text/plain": [
       "<matplotlib.figure.Figure at 0xf774fd0>"
      ]
     },
     "metadata": {},
     "output_type": "display_data"
    }
   ],
   "source": [
    "tag_based_stats_df.plot(y='avg_pick_rate', x='avg_item_cost', kind='scatter', title='Avg Tag Pick Rate vs Avg Tag Cost')"
   ]
  },
  {
   "cell_type": "markdown",
   "metadata": {},
   "source": [
    "### Avg Win Rate vs Avg Pick Rate for each Tag\n",
    "\n",
    "These values seem to converge as avg pick rate increases."
   ]
  },
  {
   "cell_type": "code",
   "execution_count": 116,
   "metadata": {
    "collapsed": false
   },
   "outputs": [
    {
     "data": {
      "text/plain": [
       "<matplotlib.axes._subplots.AxesSubplot at 0x1038fda0>"
      ]
     },
     "execution_count": 116,
     "metadata": {},
     "output_type": "execute_result"
    },
    {
     "data": {
      "image/png": "[encoded data removed]",
      "text/plain": [
       "<matplotlib.figure.Figure at 0x103f8b38>"
      ]
     },
     "metadata": {},
     "output_type": "display_data"
    }
   ],
   "source": [
    "tag_based_stats_df.plot(y='avg_win_rate', x='avg_pick_rate', kind='scatter', title='Avg Tag Win Rate vs Avg Tag Pick Rate')"
   ]
  },
  {
   "cell_type": "markdown",
   "metadata": {},
   "source": [
    "### Avg Champion Spread vs Avg Pick Rate for each Tag"
   ]
  },
  {
   "cell_type": "code",
   "execution_count": 117,
   "metadata": {
    "collapsed": false
   },
   "outputs": [
    {
     "data": {
      "text/plain": [
       "<matplotlib.axes._subplots.AxesSubplot at 0x100f1710>"
      ]
     },
     "execution_count": 117,
     "metadata": {},
     "output_type": "execute_result"
    },
    {
     "data": {
      "image/png": "[encoded data removed]",
      "text/plain": [
       "<matplotlib.figure.Figure at 0x10299128>"
      ]
     },
     "metadata": {},
     "output_type": "display_data"
    }
   ],
   "source": [
    "tag_based_stats_df.plot(y='avg_champ_spread', x='avg_pick_rate', kind='scatter',\n",
    "                        title='Avg Tag Champ Spread vs Avg Tag Pick Rate')"
   ]
  },
  {
   "cell_type": "code",
   "execution_count": null,
   "metadata": {
    "collapsed": true
   },
   "outputs": [],
   "source": []
  },
  {
   "cell_type": "code",
   "execution_count": null,
   "metadata": {
    "collapsed": true
   },
   "outputs": [],
   "source": []
  },
  {
   "cell_type": "markdown",
   "metadata": {},
   "source": [
    "# Build a timing dataframe"
   ]
  },
  {
   "cell_type": "markdown",
   "metadata": {},
   "source": [
    "Make a dataframe that has individual game data, but one item with its purchase time per row. With NaN values (in purchase_time) there are 64750 rows. After dropna(), there are 52890. This allows me to see when each item was purchased and whether or not the player won with it. This can be used to see if certain items perform better early or late in the game.\n",
    "\n",
    "Should I put it what item # it is? Does this change if you swap inventory slots, or is it time-ordered?"
   ]
  },
  {
   "cell_type": "code",
   "execution_count": 96,
   "metadata": {
    "collapsed": false
   },
   "outputs": [
    {
     "data": {
      "text/html": [
       "<div>\n",
       "<table border=\"1\" class=\"dataframe\">\n",
       "  <thead>\n",
       "    <tr style=\"text-align: right;\">\n",
       "      <th></th>\n",
       "      <th>item_id</th>\n",
       "      <th>purchase_time</th>\n",
       "      <th>win</th>\n",
       "      <th>name</th>\n",
       "      <th>full_item</th>\n",
       "      <th>total_gold</th>\n",
       "      <th>tags</th>\n",
       "    </tr>\n",
       "  </thead>\n",
       "  <tbody>\n",
       "    <tr>\n",
       "      <th>7357</th>\n",
       "      <td>1056</td>\n",
       "      <td>1793</td>\n",
       "      <td>False</td>\n",
       "      <td>Doran's Ring</td>\n",
       "      <td>True</td>\n",
       "      <td>400</td>\n",
       "      <td>[Health, Lane, ManaRegen, SpellDamage]</td>\n",
       "    </tr>\n",
       "    <tr>\n",
       "      <th>7992</th>\n",
       "      <td>1056</td>\n",
       "      <td>2001</td>\n",
       "      <td>True</td>\n",
       "      <td>Doran's Ring</td>\n",
       "      <td>True</td>\n",
       "      <td>400</td>\n",
       "      <td>[Health, Lane, ManaRegen, SpellDamage]</td>\n",
       "    </tr>\n",
       "    <tr>\n",
       "      <th>8067</th>\n",
       "      <td>1056</td>\n",
       "      <td>2125</td>\n",
       "      <td>True</td>\n",
       "      <td>Doran's Ring</td>\n",
       "      <td>True</td>\n",
       "      <td>400</td>\n",
       "      <td>[Health, Lane, ManaRegen, SpellDamage]</td>\n",
       "    </tr>\n",
       "    <tr>\n",
       "      <th>7894</th>\n",
       "      <td>1056</td>\n",
       "      <td>2185</td>\n",
       "      <td>False</td>\n",
       "      <td>Doran's Ring</td>\n",
       "      <td>True</td>\n",
       "      <td>400</td>\n",
       "      <td>[Health, Lane, ManaRegen, SpellDamage]</td>\n",
       "    </tr>\n",
       "    <tr>\n",
       "      <th>7740</th>\n",
       "      <td>1056</td>\n",
       "      <td>2241</td>\n",
       "      <td>True</td>\n",
       "      <td>Doran's Ring</td>\n",
       "      <td>True</td>\n",
       "      <td>400</td>\n",
       "      <td>[Health, Lane, ManaRegen, SpellDamage]</td>\n",
       "    </tr>\n",
       "  </tbody>\n",
       "</table>\n",
       "</div>"
      ],
      "text/plain": [
       "      item_id  purchase_time    win          name full_item  total_gold  \\\n",
       "7357     1056           1793  False  Doran's Ring      True         400   \n",
       "7992     1056           2001   True  Doran's Ring      True         400   \n",
       "8067     1056           2125   True  Doran's Ring      True         400   \n",
       "7894     1056           2185  False  Doran's Ring      True         400   \n",
       "7740     1056           2241   True  Doran's Ring      True         400   \n",
       "\n",
       "                                        tags  \n",
       "7357  [Health, Lane, ManaRegen, SpellDamage]  \n",
       "7992  [Health, Lane, ManaRegen, SpellDamage]  \n",
       "8067  [Health, Lane, ManaRegen, SpellDamage]  \n",
       "7894  [Health, Lane, ManaRegen, SpellDamage]  \n",
       "7740  [Health, Lane, ManaRegen, SpellDamage]  "
      ]
     },
     "execution_count": 96,
     "metadata": {},
     "output_type": "execute_result"
    }
   ],
   "source": [
    "item_cols = ['stats.item0', 'stats.item1', 'stats.item2', 'stats.item3', 'stats.item4', 'stats.item5', 'stats.item6']\n",
    "timing_cols = ['item0_time', 'item1_time', 'item2_time', 'item3_time', 'item4_time', 'item5_time', 'item6_time']\n",
    "\n",
    "timing_df_list = []\n",
    "for (item, time) in zip(item_cols, timing_cols):\n",
    "    sub_df = matches_df[[item, time, 'stats.win']]\n",
    "    sub_df.columns = ['item_id', 'purchase_time', 'win']\n",
    "    timing_df_list.append(sub_df)\n",
    "\n",
    "timing_df = pd.concat(timing_df_list).dropna().reset_index(drop=True)\n",
    "timing_df = timing_df.set_index('item_id').join(items_df[['name', 'full_item', 'total_gold', 'tags']]).reset_index()\n",
    "timing_df.sort_values('purchase_time').head()"
   ]
  },
  {
   "cell_type": "code",
   "execution_count": 97,
   "metadata": {
    "collapsed": true
   },
   "outputs": [],
   "source": [
    "timing_df.to_csv('item_timing_8.22.1.csv', encoding='utf-8')"
   ]
  },
  {
   "cell_type": "markdown",
   "metadata": {},
   "source": [
    "### Item Purchase Time Distribution\n",
    "\n",
    "This is the overall distribution of purchase times for items that were in a player's inventory when the game ended. If I built the data for all items purchased (and then sold, or overwritten), I would expect more data, especially in the earlier regions of the graph."
   ]
  },
  {
   "cell_type": "code",
   "execution_count": 98,
   "metadata": {
    "collapsed": false
   },
   "outputs": [
    {
     "data": {
      "image/png": "[encoded data removed]",
      "text/plain": [
       "<matplotlib.figure.Figure at 0xb903da0>"
      ]
     },
     "metadata": {},
     "output_type": "display_data"
    }
   ],
   "source": [
    "timing_df.plot(y='purchase_time', kind='hist', rot=45, figsize=(10,10), bins=100,\n",
    "              title='Item Purchase Time Distribution')\n",
    "plt.xlabel('Purchase Time (ms)')\n",
    "plt.savefig('item_purchase_time_dist.png')"
   ]
  },
  {
   "cell_type": "markdown",
   "metadata": {},
   "source": [
    "### Sample Win Rate vs Purchase Time for the item Stormrazor's Surge\n",
    "\n",
    "It seems like this item perform better when purchased later in the game."
   ]
  },
  {
   "cell_type": "code",
   "execution_count": 99,
   "metadata": {
    "collapsed": false
   },
   "outputs": [
    {
     "data": {
      "image/png": "[encoded data removed]",
      "text/plain": [
       "<matplotlib.figure.Figure at 0xb858ba8>"
      ]
     },
     "metadata": {},
     "output_type": "display_data"
    }
   ],
   "source": [
    "timing_df[timing_df['name'] == 'Stormrazor'].groupby(timing_df['purchase_time'] // 300000).mean().plot(y='win')\n",
    "plt.title('Stormrazor\\'s Surge Win Rate vs Purchase Time')\n",
    "plt.xlabel('Purchase Time (5 min)')\n",
    "plt.ylabel('Win Rate')\n",
    "plt.savefig('stormrazor_win_rate_vs_purchase_time.png')"
   ]
  },
  {
   "cell_type": "code",
   "execution_count": null,
   "metadata": {
    "collapsed": true
   },
   "outputs": [],
   "source": []
  },
  {
   "cell_type": "code",
   "execution_count": null,
   "metadata": {
    "collapsed": true
   },
   "outputs": [],
   "source": []
  },
  {
   "cell_type": "markdown",
   "metadata": {},
   "source": [
    "purchase time ranges from 1793.0 to 3,328,290.0"
   ]
  },
  {
   "cell_type": "code",
   "execution_count": 70,
   "metadata": {
    "collapsed": false
   },
   "outputs": [
    {
     "name": "stderr",
     "output_type": "stream",
     "text": [
      "/Users/Stitchclone3/anaconda2/lib/python2.7/site-packages/ipykernel_launcher.py:5: SettingWithCopyWarning: \n",
      "A value is trying to be set on a copy of a slice from a DataFrame.\n",
      "Try using .loc[row_indexer,col_indexer] = value instead\n",
      "\n",
      "See the caveats in the documentation: http://pandas.pydata.org/pandas-docs/stable/indexing.html#indexing-view-versus-copy\n",
      "  \"\"\"\n"
     ]
    },
    {
     "data": {
      "text/html": [
       "<div>\n",
       "<style scoped>\n",
       "    .dataframe tbody tr th:only-of-type {\n",
       "        vertical-align: middle;\n",
       "    }\n",
       "\n",
       "    .dataframe tbody tr th {\n",
       "        vertical-align: top;\n",
       "    }\n",
       "\n",
       "    .dataframe thead th {\n",
       "        text-align: right;\n",
       "    }\n",
       "</style>\n",
       "<table border=\"1\" class=\"dataframe\">\n",
       "  <thead>\n",
       "    <tr style=\"text-align: right;\">\n",
       "      <th></th>\n",
       "      <th>item_id</th>\n",
       "      <th>purchase_time</th>\n",
       "      <th>win</th>\n",
       "      <th>name</th>\n",
       "      <th>full_item</th>\n",
       "      <th>total_gold</th>\n",
       "      <th>tags</th>\n",
       "      <th>tag</th>\n",
       "    </tr>\n",
       "  </thead>\n",
       "  <tbody>\n",
       "    <tr>\n",
       "      <th>14038</th>\n",
       "      <td>2065</td>\n",
       "      <td>1015088.0</td>\n",
       "      <td>True</td>\n",
       "      <td>Shurelya's Reverie</td>\n",
       "      <td>True</td>\n",
       "      <td>2250.0</td>\n",
       "      <td>[Health, SpellDamage, ManaRegen, Active, Coold...</td>\n",
       "      <td>CooldownReduction</td>\n",
       "    </tr>\n",
       "    <tr>\n",
       "      <th>14039</th>\n",
       "      <td>2065</td>\n",
       "      <td>1745323.0</td>\n",
       "      <td>True</td>\n",
       "      <td>Shurelya's Reverie</td>\n",
       "      <td>True</td>\n",
       "      <td>2250.0</td>\n",
       "      <td>[Health, SpellDamage, ManaRegen, Active, Coold...</td>\n",
       "      <td>CooldownReduction</td>\n",
       "    </tr>\n",
       "    <tr>\n",
       "      <th>14040</th>\n",
       "      <td>2065</td>\n",
       "      <td>1220367.0</td>\n",
       "      <td>False</td>\n",
       "      <td>Shurelya's Reverie</td>\n",
       "      <td>True</td>\n",
       "      <td>2250.0</td>\n",
       "      <td>[Health, SpellDamage, ManaRegen, Active, Coold...</td>\n",
       "      <td>CooldownReduction</td>\n",
       "    </tr>\n",
       "    <tr>\n",
       "      <th>14041</th>\n",
       "      <td>2065</td>\n",
       "      <td>1604704.0</td>\n",
       "      <td>True</td>\n",
       "      <td>Shurelya's Reverie</td>\n",
       "      <td>True</td>\n",
       "      <td>2250.0</td>\n",
       "      <td>[Health, SpellDamage, ManaRegen, Active, Coold...</td>\n",
       "      <td>CooldownReduction</td>\n",
       "    </tr>\n",
       "    <tr>\n",
       "      <th>14042</th>\n",
       "      <td>2065</td>\n",
       "      <td>1610208.0</td>\n",
       "      <td>False</td>\n",
       "      <td>Shurelya's Reverie</td>\n",
       "      <td>True</td>\n",
       "      <td>2250.0</td>\n",
       "      <td>[Health, SpellDamage, ManaRegen, Active, Coold...</td>\n",
       "      <td>CooldownReduction</td>\n",
       "    </tr>\n",
       "  </tbody>\n",
       "</table>\n",
       "</div>"
      ],
      "text/plain": [
       "       item_id  purchase_time    win                name full_item  \\\n",
       "14038     2065      1015088.0   True  Shurelya's Reverie      True   \n",
       "14039     2065      1745323.0   True  Shurelya's Reverie      True   \n",
       "14040     2065      1220367.0  False  Shurelya's Reverie      True   \n",
       "14041     2065      1604704.0   True  Shurelya's Reverie      True   \n",
       "14042     2065      1610208.0  False  Shurelya's Reverie      True   \n",
       "\n",
       "       total_gold                                               tags  \\\n",
       "14038      2250.0  [Health, SpellDamage, ManaRegen, Active, Coold...   \n",
       "14039      2250.0  [Health, SpellDamage, ManaRegen, Active, Coold...   \n",
       "14040      2250.0  [Health, SpellDamage, ManaRegen, Active, Coold...   \n",
       "14041      2250.0  [Health, SpellDamage, ManaRegen, Active, Coold...   \n",
       "14042      2250.0  [Health, SpellDamage, ManaRegen, Active, Coold...   \n",
       "\n",
       "                     tag  \n",
       "14038  CooldownReduction  \n",
       "14039  CooldownReduction  \n",
       "14040  CooldownReduction  \n",
       "14041  CooldownReduction  \n",
       "14042  CooldownReduction  "
      ]
     },
     "execution_count": 70,
     "metadata": {},
     "output_type": "execute_result"
    }
   ],
   "source": [
    "tag_labeled_df_list = []\n",
    "\n",
    "for tag in tag_list:\n",
    "    timing_tags_df = get_items_of_tag(timing_df, tag)\n",
    "    timing_tags_df['tag'] = tag\n",
    "    tag_labeled_df_list.append(timing_tags_df)\n",
    "#timing_tags_df[timing_tags_df['win'] == True].plot(y='purchase_time', kind='hist', bins=100, ylim=[0,1000])\n",
    "tag_labeled_df = pd.concat(tag_labeled_df_list)\n",
    "tag_labeled_df.head()"
   ]
  },
  {
   "cell_type": "code",
   "execution_count": 71,
   "metadata": {
    "collapsed": true
   },
   "outputs": [],
   "source": [
    "#timing_tags_df.boxplot(column='purchase_time', by='win')"
   ]
  },
  {
   "cell_type": "markdown",
   "metadata": {},
   "source": [
    "Plot win rate every 5 min? distinguish specific items?"
   ]
  },
  {
   "cell_type": "code",
   "execution_count": 72,
   "metadata": {
    "collapsed": false
   },
   "outputs": [
    {
     "data": {
      "text/plain": [
       "Text(0,0.5,'Win Rate')"
      ]
     },
     "execution_count": 72,
     "metadata": {},
     "output_type": "execute_result"
    },
    {
     "data": {
      "image/png": "[encoded data removed]",
      "text/plain": [
       "<Figure size 1080x1080 with 1 Axes>"
      ]
     },
     "metadata": {
      "needs_background": "light"
     },
     "output_type": "display_data"
    }
   ],
   "source": [
    "tag_based_time_win_rates = tag_labeled_df.groupby([tag_labeled_df['purchase_time'] // 300000, 'tag']).mean().unstack('tag')[['win']]\n",
    "tag_based_time_win_rates.plot(y='win', title='Win Rate vs Purchase Time', figsize=(15,15))\n",
    "plt.xlabel('Purchase Time (5 min)')\n",
    "plt.ylabel('Win Rate')"
   ]
  },
  {
   "cell_type": "markdown",
   "metadata": {},
   "source": [
    "This is gross. I'll do better in a bit."
   ]
  },
  {
   "cell_type": "code",
   "execution_count": null,
   "metadata": {
    "collapsed": true
   },
   "outputs": [],
   "source": []
  },
  {
   "cell_type": "code",
   "execution_count": null,
   "metadata": {
    "collapsed": true
   },
   "outputs": [],
   "source": []
  },
  {
   "cell_type": "code",
   "execution_count": null,
   "metadata": {
    "collapsed": true
   },
   "outputs": [],
   "source": []
  },
  {
   "cell_type": "code",
   "execution_count": null,
   "metadata": {
    "collapsed": true
   },
   "outputs": [],
   "source": []
  },
  {
   "cell_type": "code",
   "execution_count": null,
   "metadata": {
    "collapsed": true
   },
   "outputs": [],
   "source": []
  },
  {
   "cell_type": "code",
   "execution_count": null,
   "metadata": {
    "collapsed": true
   },
   "outputs": [],
   "source": []
  },
  {
   "cell_type": "code",
   "execution_count": null,
   "metadata": {
    "collapsed": true
   },
   "outputs": [],
   "source": []
  },
  {
   "cell_type": "code",
   "execution_count": null,
   "metadata": {
    "collapsed": true
   },
   "outputs": [],
   "source": []
  },
  {
   "cell_type": "code",
   "execution_count": null,
   "metadata": {
    "collapsed": true
   },
   "outputs": [],
   "source": []
  },
  {
   "cell_type": "code",
   "execution_count": null,
   "metadata": {
    "collapsed": true
   },
   "outputs": [],
   "source": []
  },
  {
   "cell_type": "code",
   "execution_count": null,
   "metadata": {
    "collapsed": true
   },
   "outputs": [],
   "source": []
  },
  {
   "cell_type": "code",
   "execution_count": null,
   "metadata": {
    "collapsed": true
   },
   "outputs": [],
   "source": []
  }
 ],
 "metadata": {
  "kernelspec": {
   "display_name": "Python 2",
   "language": "python",
   "name": "python2"
  },
  "language_info": {
   "codemirror_mode": {
    "name": "ipython",
    "version": 2
   },
   "file_extension": ".py",
   "mimetype": "text/x-python",
   "name": "python",
   "nbconvert_exporter": "python",
   "pygments_lexer": "ipython2",
   "version": "2.7.11"
  }
 },
 "nbformat": 4,
 "nbformat_minor": 1
}
