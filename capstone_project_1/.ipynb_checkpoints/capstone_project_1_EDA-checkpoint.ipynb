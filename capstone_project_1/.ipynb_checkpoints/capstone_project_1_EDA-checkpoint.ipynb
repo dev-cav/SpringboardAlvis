{
 "cells": [
  {
   "cell_type": "markdown",
   "metadata": {},
   "source": [
    "# League of Legends Item Balancing\n",
    "\n",
    "The overarching question: How would a developer for this game know when they need to change an item?\n",
    "\n",
    "This is the notebook for the Exploratory Data Analysis for this capstone project."
   ]
  },
  {
   "cell_type": "markdown",
   "metadata": {},
   "source": [
    "## Data\n",
    "\n",
    "Champions: This is information on the playable characters in the game. \n",
    "\n",
    "Items: This is information on the purchasable items in the game.\n",
    "\n",
    "Match Data: This is information on games themselves, including played champions, final items bought, when the final items were bought, etc. "
   ]
  },
  {
   "cell_type": "code",
   "execution_count": 260,
   "metadata": {
    "collapsed": false,
    "scrolled": true
   },
   "outputs": [
    {
     "name": "stderr",
     "output_type": "stream",
     "text": [
      "C:\\Users\\sebia\\Miniconda2\\envs\\tutorial\\lib\\site-packages\\matplotlib\\__init__.py:872: UserWarning: axes.color_cycle is deprecated and replaced with axes.prop_cycle; please use the latter.\n",
      "  warnings.warn(self.msg_depr % (key, alt_key))\n"
     ]
    }
   ],
   "source": [
    "import numpy as np\n",
    "import pandas as pd\n",
    "import matplotlib.pyplot as plt\n",
    "import re\n",
    "import seaborn as sns\n",
    "%matplotlib inline"
   ]
  },
  {
   "cell_type": "markdown",
   "metadata": {},
   "source": [
    "### Load in Data"
   ]
  },
  {
   "cell_type": "code",
   "execution_count": 319,
   "metadata": {
    "collapsed": false,
    "scrolled": true
   },
   "outputs": [
    {
     "data": {
      "text/html": [
       "<div>\n",
       "<table border=\"1\" class=\"dataframe\">\n",
       "  <thead>\n",
       "    <tr style=\"text-align: right;\">\n",
       "      <th></th>\n",
       "      <th>championId</th>\n",
       "      <th>highestAchievedSeasonTier</th>\n",
       "      <th>item0_time</th>\n",
       "      <th>item1_time</th>\n",
       "      <th>item2_time</th>\n",
       "      <th>item3_time</th>\n",
       "      <th>item4_time</th>\n",
       "      <th>item5_time</th>\n",
       "      <th>item6_time</th>\n",
       "      <th>masteries</th>\n",
       "      <th>...</th>\n",
       "      <th>timeline.participantId</th>\n",
       "      <th>timeline.role</th>\n",
       "      <th>timeline.xpDiffPerMinDeltas.0-10</th>\n",
       "      <th>timeline.xpDiffPerMinDeltas.10-20</th>\n",
       "      <th>timeline.xpDiffPerMinDeltas.20-30</th>\n",
       "      <th>timeline.xpDiffPerMinDeltas.30-end</th>\n",
       "      <th>timeline.xpPerMinDeltas.0-10</th>\n",
       "      <th>timeline.xpPerMinDeltas.10-20</th>\n",
       "      <th>timeline.xpPerMinDeltas.20-30</th>\n",
       "      <th>timeline.xpPerMinDeltas.30-end</th>\n",
       "    </tr>\n",
       "  </thead>\n",
       "  <tbody>\n",
       "    <tr>\n",
       "      <th>0</th>\n",
       "      <td>103</td>\n",
       "      <td>SILVER</td>\n",
       "      <td>1442408</td>\n",
       "      <td>1317001</td>\n",
       "      <td>1097684</td>\n",
       "      <td>NaN</td>\n",
       "      <td>1955521</td>\n",
       "      <td>1859933</td>\n",
       "      <td>NaN</td>\n",
       "      <td>NaN</td>\n",
       "      <td>...</td>\n",
       "      <td>1</td>\n",
       "      <td>DUO_CARRY</td>\n",
       "      <td>-19.3</td>\n",
       "      <td>-24.55</td>\n",
       "      <td>-50.25</td>\n",
       "      <td>NaN</td>\n",
       "      <td>332.5</td>\n",
       "      <td>458.8</td>\n",
       "      <td>424.8</td>\n",
       "      <td>NaN</td>\n",
       "    </tr>\n",
       "  </tbody>\n",
       "</table>\n",
       "<p>1 rows × 151 columns</p>\n",
       "</div>"
      ],
      "text/plain": [
       "   championId highestAchievedSeasonTier  item0_time  item1_time  item2_time  \\\n",
       "0         103                    SILVER     1442408     1317001     1097684   \n",
       "\n",
       "   item3_time  item4_time  item5_time  item6_time masteries  \\\n",
       "0         NaN     1955521     1859933         NaN       NaN   \n",
       "\n",
       "                ...                timeline.participantId  timeline.role  \\\n",
       "0               ...                                     1      DUO_CARRY   \n",
       "\n",
       "  timeline.xpDiffPerMinDeltas.0-10  timeline.xpDiffPerMinDeltas.10-20  \\\n",
       "0                            -19.3                             -24.55   \n",
       "\n",
       "   timeline.xpDiffPerMinDeltas.20-30  timeline.xpDiffPerMinDeltas.30-end  \\\n",
       "0                             -50.25                                 NaN   \n",
       "\n",
       "   timeline.xpPerMinDeltas.0-10  timeline.xpPerMinDeltas.10-20  \\\n",
       "0                         332.5                          458.8   \n",
       "\n",
       "   timeline.xpPerMinDeltas.20-30  timeline.xpPerMinDeltas.30-end  \n",
       "0                          424.8                             NaN  \n",
       "\n",
       "[1 rows x 151 columns]"
      ]
     },
     "execution_count": 319,
     "metadata": {},
     "output_type": "execute_result"
    }
   ],
   "source": [
    "matches_df = pd.read_csv('match_data_2.csv', encoding='utf-8', index_col=0)\n",
    "matches_df.head(1)"
   ]
  },
  {
   "cell_type": "code",
   "execution_count": 320,
   "metadata": {
    "collapsed": false
   },
   "outputs": [
    {
     "data": {
      "text/html": [
       "<div>\n",
       "<table border=\"1\" class=\"dataframe\">\n",
       "  <thead>\n",
       "    <tr style=\"text-align: right;\">\n",
       "      <th></th>\n",
       "      <th>name</th>\n",
       "      <th>id</th>\n",
       "      <th>key</th>\n",
       "      <th>tags</th>\n",
       "      <th>info.attack</th>\n",
       "      <th>info.defense</th>\n",
       "      <th>info.difficulty</th>\n",
       "      <th>info.magic</th>\n",
       "    </tr>\n",
       "    <tr>\n",
       "      <th>champion_name</th>\n",
       "      <th></th>\n",
       "      <th></th>\n",
       "      <th></th>\n",
       "      <th></th>\n",
       "      <th></th>\n",
       "      <th></th>\n",
       "      <th></th>\n",
       "      <th></th>\n",
       "    </tr>\n",
       "  </thead>\n",
       "  <tbody>\n",
       "    <tr>\n",
       "      <th>MonkeyKing</th>\n",
       "      <td>Wukong</td>\n",
       "      <td>MonkeyKing</td>\n",
       "      <td>62</td>\n",
       "      <td>[Fighter, Tank]</td>\n",
       "      <td>8</td>\n",
       "      <td>5</td>\n",
       "      <td>3</td>\n",
       "      <td>2</td>\n",
       "    </tr>\n",
       "  </tbody>\n",
       "</table>\n",
       "</div>"
      ],
      "text/plain": [
       "                 name          id  key             tags  info.attack  \\\n",
       "champion_name                                                          \n",
       "MonkeyKing     Wukong  MonkeyKing   62  [Fighter, Tank]            8   \n",
       "\n",
       "               info.defense  info.difficulty  info.magic  \n",
       "champion_name                                             \n",
       "MonkeyKing                5                3           2  "
      ]
     },
     "execution_count": 320,
     "metadata": {},
     "output_type": "execute_result"
    }
   ],
   "source": [
    "champions_min_df = pd.read_csv('champions_min_8.22.1.csv', encoding='utf-8', index_col=0)\n",
    "champions_min_df.head(1)"
   ]
  },
  {
   "cell_type": "code",
   "execution_count": 321,
   "metadata": {
    "collapsed": false
   },
   "outputs": [
    {
     "data": {
      "text/html": [
       "<div>\n",
       "<table border=\"1\" class=\"dataframe\">\n",
       "  <thead>\n",
       "    <tr style=\"text-align: right;\">\n",
       "      <th></th>\n",
       "      <th>name</th>\n",
       "      <th>description</th>\n",
       "      <th>consumed</th>\n",
       "      <th>base_gold</th>\n",
       "      <th>depth</th>\n",
       "      <th>sr</th>\n",
       "      <th>effect1amount</th>\n",
       "      <th>effect2amount</th>\n",
       "      <th>effect3amount</th>\n",
       "      <th>effect4amount</th>\n",
       "      <th>...</th>\n",
       "      <th>flat_hp_regen_mod</th>\n",
       "      <th>flat_magic_dmg_mod</th>\n",
       "      <th>flat_ms_mod</th>\n",
       "      <th>flat_phys_dmg_mod</th>\n",
       "      <th>flat_spellblock_mod</th>\n",
       "      <th>flat_pct_atk_speed_mod</th>\n",
       "      <th>pct_lifesteal_mod</th>\n",
       "      <th>pct_movespeed_mod</th>\n",
       "      <th>tags</th>\n",
       "      <th>full_item</th>\n",
       "    </tr>\n",
       "    <tr>\n",
       "      <th>item_id</th>\n",
       "      <th></th>\n",
       "      <th></th>\n",
       "      <th></th>\n",
       "      <th></th>\n",
       "      <th></th>\n",
       "      <th></th>\n",
       "      <th></th>\n",
       "      <th></th>\n",
       "      <th></th>\n",
       "      <th></th>\n",
       "      <th></th>\n",
       "      <th></th>\n",
       "      <th></th>\n",
       "      <th></th>\n",
       "      <th></th>\n",
       "      <th></th>\n",
       "      <th></th>\n",
       "      <th></th>\n",
       "      <th></th>\n",
       "      <th></th>\n",
       "      <th></th>\n",
       "    </tr>\n",
       "  </thead>\n",
       "  <tbody>\n",
       "    <tr>\n",
       "      <th>1001</th>\n",
       "      <td>Boots of Speed</td>\n",
       "      <td>&lt;groupLimit&gt;Limited to 1 pair of boots.&lt;/group...</td>\n",
       "      <td>0</td>\n",
       "      <td>300</td>\n",
       "      <td>0</td>\n",
       "      <td>True</td>\n",
       "      <td>0</td>\n",
       "      <td>0</td>\n",
       "      <td>0</td>\n",
       "      <td>0</td>\n",
       "      <td>...</td>\n",
       "      <td>0</td>\n",
       "      <td>0</td>\n",
       "      <td>25</td>\n",
       "      <td>0</td>\n",
       "      <td>0</td>\n",
       "      <td>0</td>\n",
       "      <td>0</td>\n",
       "      <td>0</td>\n",
       "      <td>[Boots]</td>\n",
       "      <td>False</td>\n",
       "    </tr>\n",
       "  </tbody>\n",
       "</table>\n",
       "<p>1 rows × 34 columns</p>\n",
       "</div>"
      ],
      "text/plain": [
       "                   name                                        description  \\\n",
       "item_id                                                                      \n",
       "1001     Boots of Speed  <groupLimit>Limited to 1 pair of boots.</group...   \n",
       "\n",
       "        consumed  base_gold  depth    sr  effect1amount  effect2amount  \\\n",
       "item_id                                                                  \n",
       "1001           0        300      0  True              0              0   \n",
       "\n",
       "         effect3amount  effect4amount    ...      flat_hp_regen_mod  \\\n",
       "item_id                                  ...                          \n",
       "1001                 0              0    ...                      0   \n",
       "\n",
       "         flat_magic_dmg_mod  flat_ms_mod  flat_phys_dmg_mod  \\\n",
       "item_id                                                       \n",
       "1001                      0           25                  0   \n",
       "\n",
       "        flat_spellblock_mod flat_pct_atk_speed_mod pct_lifesteal_mod  \\\n",
       "item_id                                                                \n",
       "1001                      0                      0                 0   \n",
       "\n",
       "         pct_movespeed_mod     tags  full_item  \n",
       "item_id                                         \n",
       "1001                     0  [Boots]      False  \n",
       "\n",
       "[1 rows x 34 columns]"
      ]
     },
     "execution_count": 321,
     "metadata": {},
     "output_type": "execute_result"
    }
   ],
   "source": [
    "items_df = pd.read_csv('items.8.22.1.csv', encoding='utf-8', index_col=0)\n",
    "items_df['tags'] = [re.findall('[A-Za-z]\\w*', items_df.loc[item_id, 'tags']) for item_id in items_df.index]\n",
    "items_df.head(1)"
   ]
  },
  {
   "cell_type": "code",
   "execution_count": 322,
   "metadata": {
    "collapsed": false
   },
   "outputs": [
    {
     "data": {
      "text/html": [
       "<div>\n",
       "<table border=\"1\" class=\"dataframe\">\n",
       "  <thead>\n",
       "    <tr style=\"text-align: right;\">\n",
       "      <th></th>\n",
       "      <th>count</th>\n",
       "      <th>pick_rate</th>\n",
       "      <th>spread</th>\n",
       "      <th>wins</th>\n",
       "      <th>win_rate</th>\n",
       "      <th>name</th>\n",
       "      <th>full_item</th>\n",
       "      <th>total_gold</th>\n",
       "      <th>tags</th>\n",
       "    </tr>\n",
       "    <tr>\n",
       "      <th>item_id</th>\n",
       "      <th></th>\n",
       "      <th></th>\n",
       "      <th></th>\n",
       "      <th></th>\n",
       "      <th></th>\n",
       "      <th></th>\n",
       "      <th></th>\n",
       "      <th></th>\n",
       "      <th></th>\n",
       "    </tr>\n",
       "  </thead>\n",
       "  <tbody>\n",
       "    <tr>\n",
       "      <th>0</th>\n",
       "      <td>5659</td>\n",
       "      <td>0.611784</td>\n",
       "      <td>141</td>\n",
       "      <td>2400</td>\n",
       "      <td>0.424103</td>\n",
       "      <td>NaN</td>\n",
       "      <td>NaN</td>\n",
       "      <td>NaN</td>\n",
       "      <td>NaN</td>\n",
       "    </tr>\n",
       "  </tbody>\n",
       "</table>\n",
       "</div>"
      ],
      "text/plain": [
       "         count  pick_rate  spread  wins  win_rate name full_item  total_gold  \\\n",
       "item_id                                                                        \n",
       "0         5659   0.611784     141  2400  0.424103  NaN       NaN         NaN   \n",
       "\n",
       "        tags  \n",
       "item_id       \n",
       "0        NaN  "
      ]
     },
     "execution_count": 322,
     "metadata": {},
     "output_type": "execute_result"
    }
   ],
   "source": [
    "item_occ = pd.read_csv('item_occurrences_8.22.1.csv', encoding='utf-8', index_col=0)\n",
    "item_occ = item_occ.join(items_df[['name', 'full_item', 'total_gold', 'tags']])\n",
    "item_occ.head(1)"
   ]
  },
  {
   "cell_type": "code",
   "execution_count": 323,
   "metadata": {
    "collapsed": false
   },
   "outputs": [
    {
     "data": {
      "text/html": [
       "<div>\n",
       "<table border=\"1\" class=\"dataframe\">\n",
       "  <thead>\n",
       "    <tr style=\"text-align: right;\">\n",
       "      <th></th>\n",
       "      <th>tag</th>\n",
       "      <th>pick_count</th>\n",
       "      <th>avg_pick_rate</th>\n",
       "      <th>avg_win_rate</th>\n",
       "      <th>avg_champ_spread</th>\n",
       "      <th>avg_item_cost</th>\n",
       "    </tr>\n",
       "  </thead>\n",
       "  <tbody>\n",
       "    <tr>\n",
       "      <th>0</th>\n",
       "      <td>CooldownReduction</td>\n",
       "      <td>12141</td>\n",
       "      <td>0.054525</td>\n",
       "      <td>0.526563</td>\n",
       "      <td>30.617021</td>\n",
       "      <td>2367.723404</td>\n",
       "    </tr>\n",
       "  </tbody>\n",
       "</table>\n",
       "</div>"
      ],
      "text/plain": [
       "                 tag  pick_count  avg_pick_rate  avg_win_rate  \\\n",
       "0  CooldownReduction       12141       0.054525      0.526563   \n",
       "\n",
       "   avg_champ_spread  avg_item_cost  \n",
       "0         30.617021    2367.723404  "
      ]
     },
     "execution_count": 323,
     "metadata": {},
     "output_type": "execute_result"
    }
   ],
   "source": [
    "tag_based_stats_df = pd.read_csv('tag_based_stats_8.22.1.csv', encoding='utf-8', index_col=0)\n",
    "tag_based_stats_df.head(1)"
   ]
  },
  {
   "cell_type": "code",
   "execution_count": 324,
   "metadata": {
    "collapsed": false
   },
   "outputs": [
    {
     "data": {
      "text/html": [
       "<div>\n",
       "<table border=\"1\" class=\"dataframe\">\n",
       "  <thead>\n",
       "    <tr style=\"text-align: right;\">\n",
       "      <th></th>\n",
       "      <th>item_id</th>\n",
       "      <th>purchase_time</th>\n",
       "      <th>win</th>\n",
       "      <th>name</th>\n",
       "      <th>full_item</th>\n",
       "      <th>total_gold</th>\n",
       "      <th>tags</th>\n",
       "    </tr>\n",
       "  </thead>\n",
       "  <tbody>\n",
       "    <tr>\n",
       "      <th>0</th>\n",
       "      <td>1001</td>\n",
       "      <td>983808</td>\n",
       "      <td>False</td>\n",
       "      <td>Boots of Speed</td>\n",
       "      <td>False</td>\n",
       "      <td>300</td>\n",
       "      <td>[Boots]</td>\n",
       "    </tr>\n",
       "  </tbody>\n",
       "</table>\n",
       "</div>"
      ],
      "text/plain": [
       "   item_id  purchase_time    win            name full_item  total_gold  \\\n",
       "0     1001         983808  False  Boots of Speed     False         300   \n",
       "\n",
       "      tags  \n",
       "0  [Boots]  "
      ]
     },
     "execution_count": 324,
     "metadata": {},
     "output_type": "execute_result"
    }
   ],
   "source": [
    "timing_df = pd.read_csv('item_timing_8.22.1.csv', encoding='utf-8', index_col=0)\n",
    "timing_df.head(1)"
   ]
  },
  {
   "cell_type": "markdown",
   "metadata": {},
   "source": [
    "# Inferential Statistics Questions\n",
    "\n",
    "\n",
    "## What are the variables most relevant to the final question?\n",
    "\n",
    "In order: win rate, pick rate, champion spread. \n",
    "\n",
    "Win Rate is the easier Bernoulli variable to determine performance. A win rate that deviates considerably from the norm will indicate a poorly balanced item, and suggest that the item be changed. Items with low win rates should be stronger, and items with high win rates should be weaker.\n",
    "\n",
    "Pick Rate is almost a Bernoulli variable (if I divide it by 7, it will be. This is because there are 7 item slots, which influenced how I did the original calculation). High pick rates indicate a relative popularity of an item, and may indicate what appears to be strong. Items with pick rates that are too high make the game stale, and should be weaker. Similarly, if many items aren't picked much at all, then the variety they bring to the game is nonexistent, and they should be stronger. Some of this has to do with the game meta, or what players feel is the most viable strategy for most games.\n",
    "\n",
    "Champion Spread is a measure of how many unique champions build an item. It could be turned into the proportion of champions that build each item by dividing by 141. It is related to Pick Rate, as it is more likely that an item gets built if many different champions can build it and have a decent chance of winning. This variable should be paired with tags to see if there are lots of unexpected champions building items.\n",
    "\n",
    "## Are there strong correlations between pairs of independent variables or between an independent and a dependent variable?\n",
    "\n",
    "Pick rate and champion spread.\n",
    "\n",
    "Win rate and item cost (only if I include incomplete items. The set of full items has much less correlation between these two).\n",
    "\n",
    "## What are the most appropriate tests to use to analyse these relationships?\n",
    "\n",
    "Z-test for the proportion of wins (win rate) vs the mean.\n",
    "\n",
    "Z-test for the proportion of picks (pick rate) vs the mean?"
   ]
  },
  {
   "cell_type": "markdown",
   "metadata": {},
   "source": [
    "## To Do\n",
    "\n",
    "(DONE) Fix Final Item column for Ornn special items.\n",
    "\n",
    "(DONE) Establish mean win rate of all finished item."
   ]
  },
  {
   "cell_type": "markdown",
   "metadata": {},
   "source": [
    "## Potential Hypothesis Tests\n",
    "\n",
    "### Use alpha = 0.05\n",
    "\n",
    "(DONE) The win rate of each item is the same (establish mean of finished items, then compare to that).\n",
    "\n",
    "(DONE) The win rate of each tag is the same (compare to mean found earlier).\n",
    "\n",
    "(DONE) High win rate correlates with high pick rate. (not a test tho?)\n",
    "\n",
    "(DONE) High pick rate correlates with high champion spread. (not a test tho?)\n",
    "\n",
    "Building items earlier increases your win rate (power spike) (probably easier to do with Machine Learning).\n",
    "\n",
    "Items with high champion spread (especially with champions outside the normal tag) are too powerful."
   ]
  },
  {
   "cell_type": "markdown",
   "metadata": {},
   "source": [
    "## Notes\n",
    "\n",
    "Probably won't include boots, trinkets, in the analysis. Could maybe do a small analysis on peripheral tags.\n",
    "\n"
   ]
  },
  {
   "cell_type": "markdown",
   "metadata": {},
   "source": [
    "Cut out consumables, lane items, boots, trinkets, and other edge case items I don't want in the analysis."
   ]
  },
  {
   "cell_type": "code",
   "execution_count": 185,
   "metadata": {
    "collapsed": true
   },
   "outputs": [],
   "source": [
    "consumable = [True if (type(tags) == list and 'Consumable' in tags) else False for tags in item_occ['tags']]\n",
    "\n",
    "lane_items = [True if (type(tags) == list and 'Lane' in tags) else False for tags in item_occ['tags']]\n",
    "\n",
    "boots = [True if (type(tags) == list and 'Boots' in tags) else False for tags in item_occ['tags']]\n",
    "\n",
    "trinkets = [True if (type(tags) == list and 'Trinket' in tags) else False for tags in item_occ['tags']]\n",
    "\n",
    "other_no_no_ids = [2010, 2057, 2403]\n",
    "other_edge_cases = [True if id in other_no_no_ids else False for id in item_occ.reset_index()['item_id']]\n",
    "\n",
    "edge_cases = [cons or lane or other or boot or trinket for cons, lane, other, boot, trinket in\n",
    "              zip(consumable, lane_items, other_edge_cases, boots, trinkets)]\n",
    "no_edge_cases = [not case for case in edge_cases]"
   ]
  },
  {
   "cell_type": "code",
   "execution_count": 186,
   "metadata": {
    "collapsed": false
   },
   "outputs": [
    {
     "data": {
      "text/html": [
       "<div>\n",
       "<table border=\"1\" class=\"dataframe\">\n",
       "  <thead>\n",
       "    <tr style=\"text-align: right;\">\n",
       "      <th></th>\n",
       "      <th>count</th>\n",
       "      <th>pick_rate</th>\n",
       "      <th>spread</th>\n",
       "      <th>wins</th>\n",
       "      <th>win_rate</th>\n",
       "      <th>name</th>\n",
       "      <th>full_item</th>\n",
       "      <th>total_gold</th>\n",
       "      <th>tags</th>\n",
       "    </tr>\n",
       "    <tr>\n",
       "      <th>item_id</th>\n",
       "      <th></th>\n",
       "      <th></th>\n",
       "      <th></th>\n",
       "      <th></th>\n",
       "      <th></th>\n",
       "      <th></th>\n",
       "      <th></th>\n",
       "      <th></th>\n",
       "      <th></th>\n",
       "    </tr>\n",
       "  </thead>\n",
       "  <tbody>\n",
       "    <tr>\n",
       "      <th>2010</th>\n",
       "      <td>52</td>\n",
       "      <td>0.005622</td>\n",
       "      <td>27</td>\n",
       "      <td>18</td>\n",
       "      <td>0.346154</td>\n",
       "      <td>Total Biscuit of Everlasting Will</td>\n",
       "      <td>True</td>\n",
       "      <td>75</td>\n",
       "      <td>[]</td>\n",
       "    </tr>\n",
       "    <tr>\n",
       "      <th>2057</th>\n",
       "      <td>6</td>\n",
       "      <td>0.000649</td>\n",
       "      <td>2</td>\n",
       "      <td>1</td>\n",
       "      <td>0.166667</td>\n",
       "      <td>Peering Farsight Ward</td>\n",
       "      <td>True</td>\n",
       "      <td>60</td>\n",
       "      <td>[Vision, Active]</td>\n",
       "    </tr>\n",
       "    <tr>\n",
       "      <th>2403</th>\n",
       "      <td>18</td>\n",
       "      <td>0.001946</td>\n",
       "      <td>14</td>\n",
       "      <td>8</td>\n",
       "      <td>0.444444</td>\n",
       "      <td>Minion Dematerializer</td>\n",
       "      <td>True</td>\n",
       "      <td>0</td>\n",
       "      <td>[]</td>\n",
       "    </tr>\n",
       "  </tbody>\n",
       "</table>\n",
       "</div>"
      ],
      "text/plain": [
       "         count  pick_rate  spread  wins  win_rate  \\\n",
       "item_id                                             \n",
       "2010        52   0.005622      27    18  0.346154   \n",
       "2057         6   0.000649       2     1  0.166667   \n",
       "2403        18   0.001946      14     8  0.444444   \n",
       "\n",
       "                                      name full_item  total_gold  \\\n",
       "item_id                                                            \n",
       "2010     Total Biscuit of Everlasting Will      True          75   \n",
       "2057                 Peering Farsight Ward      True          60   \n",
       "2403                 Minion Dematerializer      True           0   \n",
       "\n",
       "                     tags  \n",
       "item_id                    \n",
       "2010                   []  \n",
       "2057     [Vision, Active]  \n",
       "2403                   []  "
      ]
     },
     "execution_count": 186,
     "metadata": {},
     "output_type": "execute_result"
    }
   ],
   "source": [
    "item_occ[other_edge_cases]"
   ]
  },
  {
   "cell_type": "markdown",
   "metadata": {},
   "source": [
    "other_no_nos: the Biscuit, Peering Ward, or Dematerializer"
   ]
  },
  {
   "cell_type": "markdown",
   "metadata": {},
   "source": [
    "Found that none of the items found in only 5-10 games were relevant to my analysis (Kleptomancy rewards, lane items), so I set the cutoff there. Include weight for win rates.\n",
    "\n",
    "0.547 is the average win rate for the set of relevant full items. It is expected to be above 50% because incomplete items in a player's final inventory indicate a disadvantage, and thus a lower win rate."
   ]
  },
  {
   "cell_type": "code",
   "execution_count": 203,
   "metadata": {
    "collapsed": false
   },
   "outputs": [
    {
     "data": {
      "text/plain": [
       "0.54733688708758366"
      ]
     },
     "execution_count": 203,
     "metadata": {},
     "output_type": "execute_result"
    }
   ],
   "source": [
    "full_items_df = item_occ[(item_occ['full_item'] == True) &\n",
    "                         (no_edge_cases) &\n",
    "                         (item_occ['count'] > 10)]\n",
    "\n",
    "full_item_avg_win_rate = (full_items_df['win_rate'] * full_items_df['count']).sum() / full_items_df['count'].sum()\n",
    "full_item_avg_win_rate"
   ]
  },
  {
   "cell_type": "markdown",
   "metadata": {},
   "source": [
    "### Win Rate vs Item ID\n",
    "\n",
    "Only the relevant full items are considered here. The dotted red line is this set's average win rate of 0.547."
   ]
  },
  {
   "cell_type": "code",
   "execution_count": 204,
   "metadata": {
    "collapsed": false
   },
   "outputs": [
    {
     "data": {
      "text/plain": [
       "[<matplotlib.lines.Line2D at 0x15d8ef28>]"
      ]
     },
     "execution_count": 204,
     "metadata": {},
     "output_type": "execute_result"
    },
    {
     "data": {
      "image/png": "[encoded data removed]",
      "text/plain": [
       "<matplotlib.figure.Figure at 0x13a95c88>"
      ]
     },
     "metadata": {},
     "output_type": "display_data"
    }
   ],
   "source": [
    "item_occ[(item_occ['full_item'] == True) &\n",
    "         (no_edge_cases) &\n",
    "         (item_occ['count'] > 10)].reset_index().plot(y='win_rate', x='item_id', kind='scatter',\n",
    "                                                     xlim=[1000, 4500])\n",
    "\n",
    "plt.plot(np.linspace(1000, 4500, 50), np.full(50, full_item_avg_win_rate), 'r--')"
   ]
  },
  {
   "cell_type": "markdown",
   "metadata": {},
   "source": [
    "### Test: The win rate of each item is the same (establish mean of finished items, then compare to that).\n",
    "\n",
    "I build a new table to compute the difference of win rate from the mean win rate, and the standard deviation based on the win rate's status as a Bernoulli variable. I also compute the 95% confidence interval of the true win rate for each item, so I can see if it's win rate falls within an expected range."
   ]
  },
  {
   "cell_type": "code",
   "execution_count": 205,
   "metadata": {
    "collapsed": false
   },
   "outputs": [
    {
     "name": "stderr",
     "output_type": "stream",
     "text": [
      "C:\\Users\\sebia\\Miniconda2\\envs\\tutorial\\lib\\site-packages\\ipykernel\\__main__.py:2: SettingWithCopyWarning: \n",
      "A value is trying to be set on a copy of a slice from a DataFrame.\n",
      "Try using .loc[row_indexer,col_indexer] = value instead\n",
      "\n",
      "See the caveats in the documentation: http://pandas.pydata.org/pandas-docs/stable/indexing.html#indexing-view-versus-copy\n",
      "  from ipykernel import kernelapp as app\n"
     ]
    }
   ],
   "source": [
    "wr_stats_df = item_occ[['count', 'pick_rate', 'spread', 'wins', 'win_rate', 'full_item']]\n",
    "wr_stats_df['wr_diff'] = wr_stats_df['win_rate'] - full_item_avg_win_rate"
   ]
  },
  {
   "cell_type": "markdown",
   "metadata": {},
   "source": [
    "We are using an artificial population mean (idk if that is a bad idea, but it speeds up analyis) in full_item_avg_win_rate.\n",
    "\n",
    "I can take each items' win rate's standard deviation to be sqrt(p * (1 - p) / n)."
   ]
  },
  {
   "cell_type": "code",
   "execution_count": 298,
   "metadata": {
    "collapsed": false
   },
   "outputs": [],
   "source": [
    "wr_stats_df['wr_std'] = np.sqrt(full_item_avg_win_rate * (1 - full_item_avg_win_rate) \n",
    "                                / wr_stats_df['count'])\n",
    "wr_stats_df['CI95'] = wr_stats_df['wr_std'] * 1.96"
   ]
  },
  {
   "cell_type": "code",
   "execution_count": 299,
   "metadata": {
    "collapsed": false
   },
   "outputs": [
    {
     "data": {
      "text/html": [
       "<div>\n",
       "<table border=\"1\" class=\"dataframe\">\n",
       "  <thead>\n",
       "    <tr style=\"text-align: right;\">\n",
       "      <th></th>\n",
       "      <th>count</th>\n",
       "      <th>pick_rate</th>\n",
       "      <th>spread</th>\n",
       "      <th>wins</th>\n",
       "      <th>win_rate</th>\n",
       "      <th>full_item</th>\n",
       "      <th>wr_diff</th>\n",
       "      <th>wr_std</th>\n",
       "      <th>CI95</th>\n",
       "    </tr>\n",
       "    <tr>\n",
       "      <th>item_id</th>\n",
       "      <th></th>\n",
       "      <th></th>\n",
       "      <th></th>\n",
       "      <th></th>\n",
       "      <th></th>\n",
       "      <th></th>\n",
       "      <th></th>\n",
       "      <th></th>\n",
       "      <th></th>\n",
       "    </tr>\n",
       "  </thead>\n",
       "  <tbody>\n",
       "    <tr>\n",
       "      <th>0</th>\n",
       "      <td>5659</td>\n",
       "      <td>0.611784</td>\n",
       "      <td>141</td>\n",
       "      <td>2400</td>\n",
       "      <td>0.424103</td>\n",
       "      <td>NaN</td>\n",
       "      <td>-0.123234</td>\n",
       "      <td>0.006617</td>\n",
       "      <td>0.012969</td>\n",
       "    </tr>\n",
       "    <tr>\n",
       "      <th>1001</th>\n",
       "      <td>459</td>\n",
       "      <td>0.049622</td>\n",
       "      <td>113</td>\n",
       "      <td>159</td>\n",
       "      <td>0.346405</td>\n",
       "      <td>False</td>\n",
       "      <td>-0.200932</td>\n",
       "      <td>0.023233</td>\n",
       "      <td>0.045537</td>\n",
       "    </tr>\n",
       "    <tr>\n",
       "      <th>1004</th>\n",
       "      <td>78</td>\n",
       "      <td>0.008432</td>\n",
       "      <td>23</td>\n",
       "      <td>28</td>\n",
       "      <td>0.358974</td>\n",
       "      <td>False</td>\n",
       "      <td>-0.188363</td>\n",
       "      <td>0.056360</td>\n",
       "      <td>0.110465</td>\n",
       "    </tr>\n",
       "    <tr>\n",
       "      <th>1006</th>\n",
       "      <td>46</td>\n",
       "      <td>0.004973</td>\n",
       "      <td>27</td>\n",
       "      <td>18</td>\n",
       "      <td>0.391304</td>\n",
       "      <td>False</td>\n",
       "      <td>-0.156033</td>\n",
       "      <td>0.073390</td>\n",
       "      <td>0.143844</td>\n",
       "    </tr>\n",
       "    <tr>\n",
       "      <th>1011</th>\n",
       "      <td>269</td>\n",
       "      <td>0.029081</td>\n",
       "      <td>70</td>\n",
       "      <td>129</td>\n",
       "      <td>0.479554</td>\n",
       "      <td>False</td>\n",
       "      <td>-0.067783</td>\n",
       "      <td>0.030349</td>\n",
       "      <td>0.059483</td>\n",
       "    </tr>\n",
       "  </tbody>\n",
       "</table>\n",
       "</div>"
      ],
      "text/plain": [
       "         count  pick_rate  spread  wins  win_rate full_item   wr_diff  \\\n",
       "item_id                                                                 \n",
       "0         5659   0.611784     141  2400  0.424103       NaN -0.123234   \n",
       "1001       459   0.049622     113   159  0.346405     False -0.200932   \n",
       "1004        78   0.008432      23    28  0.358974     False -0.188363   \n",
       "1006        46   0.004973      27    18  0.391304     False -0.156033   \n",
       "1011       269   0.029081      70   129  0.479554     False -0.067783   \n",
       "\n",
       "           wr_std      CI95  \n",
       "item_id                      \n",
       "0        0.006617  0.012969  \n",
       "1001     0.023233  0.045537  \n",
       "1004     0.056360  0.110465  \n",
       "1006     0.073390  0.143844  \n",
       "1011     0.030349  0.059483  "
      ]
     },
     "execution_count": 299,
     "metadata": {},
     "output_type": "execute_result"
    }
   ],
   "source": [
    "wr_stats_df.head()"
   ]
  },
  {
   "cell_type": "markdown",
   "metadata": {},
   "source": [
    "The 95% confidence interval is set with z-scores +/- 1.96. The table below shows the items with win rates more than 1.96 standard deviations (CI95) from the average full-item win rate. Items with a negative wr_diff are too weak, and items with a positive wr_diff are too strong."
   ]
  },
  {
   "cell_type": "markdown",
   "metadata": {},
   "source": [
    "Bar graph of wr_diff, maybe normalized by std, for items outside the 95% CI"
   ]
  },
  {
   "cell_type": "code",
   "execution_count": 208,
   "metadata": {
    "collapsed": false
   },
   "outputs": [
    {
     "data": {
      "text/html": [
       "<div>\n",
       "<table border=\"1\" class=\"dataframe\">\n",
       "  <thead>\n",
       "    <tr style=\"text-align: right;\">\n",
       "      <th></th>\n",
       "      <th>count</th>\n",
       "      <th>pick_rate</th>\n",
       "      <th>spread</th>\n",
       "      <th>wins</th>\n",
       "      <th>win_rate</th>\n",
       "      <th>full_item</th>\n",
       "      <th>wr_diff</th>\n",
       "      <th>wr_std</th>\n",
       "      <th>CI95</th>\n",
       "      <th>name</th>\n",
       "      <th>total_gold</th>\n",
       "      <th>tags</th>\n",
       "    </tr>\n",
       "    <tr>\n",
       "      <th>item_id</th>\n",
       "      <th></th>\n",
       "      <th></th>\n",
       "      <th></th>\n",
       "      <th></th>\n",
       "      <th></th>\n",
       "      <th></th>\n",
       "      <th></th>\n",
       "      <th></th>\n",
       "      <th></th>\n",
       "      <th></th>\n",
       "      <th></th>\n",
       "      <th></th>\n",
       "    </tr>\n",
       "  </thead>\n",
       "  <tbody>\n",
       "    <tr>\n",
       "      <th>1401</th>\n",
       "      <td>215</td>\n",
       "      <td>0.023243</td>\n",
       "      <td>26</td>\n",
       "      <td>100</td>\n",
       "      <td>0.465116</td>\n",
       "      <td>True</td>\n",
       "      <td>-0.082221</td>\n",
       "      <td>0.033947</td>\n",
       "      <td>0.066535</td>\n",
       "      <td>Enchantment: Cinderhulk</td>\n",
       "      <td>2500</td>\n",
       "      <td>[]</td>\n",
       "    </tr>\n",
       "    <tr>\n",
       "      <th>1402</th>\n",
       "      <td>180</td>\n",
       "      <td>0.019459</td>\n",
       "      <td>23</td>\n",
       "      <td>82</td>\n",
       "      <td>0.455556</td>\n",
       "      <td>True</td>\n",
       "      <td>-0.091781</td>\n",
       "      <td>0.037100</td>\n",
       "      <td>0.072717</td>\n",
       "      <td>Enchantment: Runic Echoes</td>\n",
       "      <td>2625</td>\n",
       "      <td>[]</td>\n",
       "    </tr>\n",
       "    <tr>\n",
       "      <th>1413</th>\n",
       "      <td>106</td>\n",
       "      <td>0.011459</td>\n",
       "      <td>22</td>\n",
       "      <td>45</td>\n",
       "      <td>0.424528</td>\n",
       "      <td>True</td>\n",
       "      <td>-0.122809</td>\n",
       "      <td>0.048346</td>\n",
       "      <td>0.094758</td>\n",
       "      <td>Enchantment: Cinderhulk</td>\n",
       "      <td>2500</td>\n",
       "      <td>[]</td>\n",
       "    </tr>\n",
       "    <tr>\n",
       "      <th>3026</th>\n",
       "      <td>503</td>\n",
       "      <td>0.054378</td>\n",
       "      <td>60</td>\n",
       "      <td>307</td>\n",
       "      <td>0.610338</td>\n",
       "      <td>True</td>\n",
       "      <td>0.063001</td>\n",
       "      <td>0.022194</td>\n",
       "      <td>0.043500</td>\n",
       "      <td>Guardian Angel</td>\n",
       "      <td>2800</td>\n",
       "      <td>[Armor, Damage]</td>\n",
       "    </tr>\n",
       "    <tr>\n",
       "      <th>3031</th>\n",
       "      <td>697</td>\n",
       "      <td>0.075351</td>\n",
       "      <td>25</td>\n",
       "      <td>412</td>\n",
       "      <td>0.591105</td>\n",
       "      <td>True</td>\n",
       "      <td>0.043768</td>\n",
       "      <td>0.018854</td>\n",
       "      <td>0.036953</td>\n",
       "      <td>Infinity Edge</td>\n",
       "      <td>3400</td>\n",
       "      <td>[CriticalStrike, Damage]</td>\n",
       "    </tr>\n",
       "    <tr>\n",
       "      <th>3041</th>\n",
       "      <td>123</td>\n",
       "      <td>0.013297</td>\n",
       "      <td>45</td>\n",
       "      <td>98</td>\n",
       "      <td>0.796748</td>\n",
       "      <td>True</td>\n",
       "      <td>0.249411</td>\n",
       "      <td>0.044881</td>\n",
       "      <td>0.087967</td>\n",
       "      <td>Mejai's Soulstealer</td>\n",
       "      <td>1400</td>\n",
       "      <td>[SpellDamage, Mana]</td>\n",
       "    </tr>\n",
       "    <tr>\n",
       "      <th>3042</th>\n",
       "      <td>151</td>\n",
       "      <td>0.016324</td>\n",
       "      <td>4</td>\n",
       "      <td>67</td>\n",
       "      <td>0.443709</td>\n",
       "      <td>True</td>\n",
       "      <td>-0.103628</td>\n",
       "      <td>0.040507</td>\n",
       "      <td>0.079393</td>\n",
       "      <td>Muramana</td>\n",
       "      <td>2400</td>\n",
       "      <td>[OnHit]</td>\n",
       "    </tr>\n",
       "    <tr>\n",
       "      <th>3050</th>\n",
       "      <td>140</td>\n",
       "      <td>0.015135</td>\n",
       "      <td>19</td>\n",
       "      <td>93</td>\n",
       "      <td>0.664286</td>\n",
       "      <td>True</td>\n",
       "      <td>0.116949</td>\n",
       "      <td>0.042068</td>\n",
       "      <td>0.082453</td>\n",
       "      <td>Zeke's Convergence</td>\n",
       "      <td>2250</td>\n",
       "      <td>[SpellBlock, Armor, Mana, Aura, Active, Cooldo...</td>\n",
       "    </tr>\n",
       "    <tr>\n",
       "      <th>3053</th>\n",
       "      <td>399</td>\n",
       "      <td>0.043135</td>\n",
       "      <td>41</td>\n",
       "      <td>241</td>\n",
       "      <td>0.604010</td>\n",
       "      <td>True</td>\n",
       "      <td>0.056673</td>\n",
       "      <td>0.024919</td>\n",
       "      <td>0.048841</td>\n",
       "      <td>Sterak's Gage</td>\n",
       "      <td>3200</td>\n",
       "      <td>[Health, Damage]</td>\n",
       "    </tr>\n",
       "    <tr>\n",
       "      <th>3069</th>\n",
       "      <td>228</td>\n",
       "      <td>0.024649</td>\n",
       "      <td>16</td>\n",
       "      <td>103</td>\n",
       "      <td>0.451754</td>\n",
       "      <td>True</td>\n",
       "      <td>-0.095583</td>\n",
       "      <td>0.032965</td>\n",
       "      <td>0.064611</td>\n",
       "      <td>Remnant of the Ascended</td>\n",
       "      <td>1500</td>\n",
       "      <td>[Health, HealthRegen, ManaRegen, Active, GoldP...</td>\n",
       "    </tr>\n",
       "    <tr>\n",
       "      <th>3078</th>\n",
       "      <td>798</td>\n",
       "      <td>0.086270</td>\n",
       "      <td>40</td>\n",
       "      <td>408</td>\n",
       "      <td>0.511278</td>\n",
       "      <td>True</td>\n",
       "      <td>-0.036059</td>\n",
       "      <td>0.017620</td>\n",
       "      <td>0.034536</td>\n",
       "      <td>Trinity Force</td>\n",
       "      <td>3733</td>\n",
       "      <td>[Health, Damage, AttackSpeed, Mana, CooldownRe...</td>\n",
       "    </tr>\n",
       "    <tr>\n",
       "      <th>3089</th>\n",
       "      <td>414</td>\n",
       "      <td>0.044757</td>\n",
       "      <td>60</td>\n",
       "      <td>260</td>\n",
       "      <td>0.628019</td>\n",
       "      <td>True</td>\n",
       "      <td>0.080682</td>\n",
       "      <td>0.024463</td>\n",
       "      <td>0.047948</td>\n",
       "      <td>Rabadon's Deathcap</td>\n",
       "      <td>3600</td>\n",
       "      <td>[SpellDamage]</td>\n",
       "    </tr>\n",
       "    <tr>\n",
       "      <th>3194</th>\n",
       "      <td>95</td>\n",
       "      <td>0.010270</td>\n",
       "      <td>43</td>\n",
       "      <td>41</td>\n",
       "      <td>0.431579</td>\n",
       "      <td>True</td>\n",
       "      <td>-0.115758</td>\n",
       "      <td>0.051069</td>\n",
       "      <td>0.100094</td>\n",
       "      <td>Adaptive Helm</td>\n",
       "      <td>2800</td>\n",
       "      <td>[Health, SpellBlock, HealthRegen, CooldownRedu...</td>\n",
       "    </tr>\n",
       "  </tbody>\n",
       "</table>\n",
       "</div>"
      ],
      "text/plain": [
       "         count  pick_rate  spread  wins  win_rate full_item   wr_diff  \\\n",
       "item_id                                                                 \n",
       "1401       215   0.023243      26   100  0.465116      True -0.082221   \n",
       "1402       180   0.019459      23    82  0.455556      True -0.091781   \n",
       "1413       106   0.011459      22    45  0.424528      True -0.122809   \n",
       "3026       503   0.054378      60   307  0.610338      True  0.063001   \n",
       "3031       697   0.075351      25   412  0.591105      True  0.043768   \n",
       "3041       123   0.013297      45    98  0.796748      True  0.249411   \n",
       "3042       151   0.016324       4    67  0.443709      True -0.103628   \n",
       "3050       140   0.015135      19    93  0.664286      True  0.116949   \n",
       "3053       399   0.043135      41   241  0.604010      True  0.056673   \n",
       "3069       228   0.024649      16   103  0.451754      True -0.095583   \n",
       "3078       798   0.086270      40   408  0.511278      True -0.036059   \n",
       "3089       414   0.044757      60   260  0.628019      True  0.080682   \n",
       "3194        95   0.010270      43    41  0.431579      True -0.115758   \n",
       "\n",
       "           wr_std      CI95                       name  total_gold  \\\n",
       "item_id                                                              \n",
       "1401     0.033947  0.066535    Enchantment: Cinderhulk        2500   \n",
       "1402     0.037100  0.072717  Enchantment: Runic Echoes        2625   \n",
       "1413     0.048346  0.094758    Enchantment: Cinderhulk        2500   \n",
       "3026     0.022194  0.043500             Guardian Angel        2800   \n",
       "3031     0.018854  0.036953              Infinity Edge        3400   \n",
       "3041     0.044881  0.087967        Mejai's Soulstealer        1400   \n",
       "3042     0.040507  0.079393                   Muramana        2400   \n",
       "3050     0.042068  0.082453         Zeke's Convergence        2250   \n",
       "3053     0.024919  0.048841              Sterak's Gage        3200   \n",
       "3069     0.032965  0.064611    Remnant of the Ascended        1500   \n",
       "3078     0.017620  0.034536              Trinity Force        3733   \n",
       "3089     0.024463  0.047948         Rabadon's Deathcap        3600   \n",
       "3194     0.051069  0.100094              Adaptive Helm        2800   \n",
       "\n",
       "                                                      tags  \n",
       "item_id                                                     \n",
       "1401                                                    []  \n",
       "1402                                                    []  \n",
       "1413                                                    []  \n",
       "3026                                       [Armor, Damage]  \n",
       "3031                              [CriticalStrike, Damage]  \n",
       "3041                                   [SpellDamage, Mana]  \n",
       "3042                                               [OnHit]  \n",
       "3050     [SpellBlock, Armor, Mana, Aura, Active, Cooldo...  \n",
       "3053                                      [Health, Damage]  \n",
       "3069     [Health, HealthRegen, ManaRegen, Active, GoldP...  \n",
       "3078     [Health, Damage, AttackSpeed, Mana, CooldownRe...  \n",
       "3089                                         [SpellDamage]  \n",
       "3194     [Health, SpellBlock, HealthRegen, CooldownRedu...  "
      ]
     },
     "execution_count": 208,
     "metadata": {},
     "output_type": "execute_result"
    }
   ],
   "source": [
    "wr_stats_df[(wr_stats_df['full_item'] == True) &\n",
    "            (no_edge_cases) &\n",
    "            (wr_stats_df['count'] > 10) &\n",
    "            (wr_stats_df['wr_diff'].abs() > wr_stats_df['CI95'])].join(items_df[['name', 'total_gold', 'tags']])"
   ]
  },
  {
   "cell_type": "markdown",
   "metadata": {},
   "source": [
    "### Test: High win rate correlates with high pick rate.\n",
    "\n",
    "This is inconclusive. The Pearson correlation coefficient for these values is 0.08. It seems as though more popular items tend to get built by both teams, and bring the win rate closer to 50%."
   ]
  },
  {
   "cell_type": "code",
   "execution_count": 209,
   "metadata": {
    "collapsed": false
   },
   "outputs": [
    {
     "data": {
      "text/plain": [
       "[<matplotlib.lines.Line2D at 0x15d8e278>]"
      ]
     },
     "execution_count": 209,
     "metadata": {},
     "output_type": "execute_result"
    },
    {
     "data": {
      "image/png": "[encoded data removed]",
      "text/plain": [
       "<matplotlib.figure.Figure at 0x15d7fa20>"
      ]
     },
     "metadata": {},
     "output_type": "display_data"
    }
   ],
   "source": [
    "item_occ[(item_occ['full_item'] == True) &\n",
    "         (no_edge_cases) &\n",
    "         (item_occ['count'] > 10)].plot(x='pick_rate', y='win_rate', kind='scatter',\n",
    "                                        xlim=[-0.01, 0.15])\n",
    "\n",
    "plt.plot(np.linspace(-0.01, 0.15, 50), np.full(50, full_item_avg_win_rate), 'r--')"
   ]
  },
  {
   "cell_type": "code",
   "execution_count": 210,
   "metadata": {
    "collapsed": false
   },
   "outputs": [
    {
     "data": {
      "text/html": [
       "<div>\n",
       "<table border=\"1\" class=\"dataframe\">\n",
       "  <thead>\n",
       "    <tr style=\"text-align: right;\">\n",
       "      <th></th>\n",
       "      <th>count</th>\n",
       "      <th>pick_rate</th>\n",
       "      <th>spread</th>\n",
       "      <th>wins</th>\n",
       "      <th>win_rate</th>\n",
       "      <th>total_gold</th>\n",
       "    </tr>\n",
       "  </thead>\n",
       "  <tbody>\n",
       "    <tr>\n",
       "      <th>count</th>\n",
       "      <td>1.000000</td>\n",
       "      <td>1.000000</td>\n",
       "      <td>0.468617</td>\n",
       "      <td>0.996159</td>\n",
       "      <td>0.082005</td>\n",
       "      <td>0.212334</td>\n",
       "    </tr>\n",
       "    <tr>\n",
       "      <th>pick_rate</th>\n",
       "      <td>1.000000</td>\n",
       "      <td>1.000000</td>\n",
       "      <td>0.468617</td>\n",
       "      <td>0.996159</td>\n",
       "      <td>0.082005</td>\n",
       "      <td>0.212334</td>\n",
       "    </tr>\n",
       "    <tr>\n",
       "      <th>spread</th>\n",
       "      <td>0.468617</td>\n",
       "      <td>0.468617</td>\n",
       "      <td>1.000000</td>\n",
       "      <td>0.490501</td>\n",
       "      <td>0.313821</td>\n",
       "      <td>0.241223</td>\n",
       "    </tr>\n",
       "    <tr>\n",
       "      <th>wins</th>\n",
       "      <td>0.996159</td>\n",
       "      <td>0.996159</td>\n",
       "      <td>0.490501</td>\n",
       "      <td>1.000000</td>\n",
       "      <td>0.146090</td>\n",
       "      <td>0.222702</td>\n",
       "    </tr>\n",
       "    <tr>\n",
       "      <th>win_rate</th>\n",
       "      <td>0.082005</td>\n",
       "      <td>0.082005</td>\n",
       "      <td>0.313821</td>\n",
       "      <td>0.146090</td>\n",
       "      <td>1.000000</td>\n",
       "      <td>0.024651</td>\n",
       "    </tr>\n",
       "    <tr>\n",
       "      <th>total_gold</th>\n",
       "      <td>0.212334</td>\n",
       "      <td>0.212334</td>\n",
       "      <td>0.241223</td>\n",
       "      <td>0.222702</td>\n",
       "      <td>0.024651</td>\n",
       "      <td>1.000000</td>\n",
       "    </tr>\n",
       "  </tbody>\n",
       "</table>\n",
       "</div>"
      ],
      "text/plain": [
       "               count  pick_rate    spread      wins  win_rate  total_gold\n",
       "count       1.000000   1.000000  0.468617  0.996159  0.082005    0.212334\n",
       "pick_rate   1.000000   1.000000  0.468617  0.996159  0.082005    0.212334\n",
       "spread      0.468617   0.468617  1.000000  0.490501  0.313821    0.241223\n",
       "wins        0.996159   0.996159  0.490501  1.000000  0.146090    0.222702\n",
       "win_rate    0.082005   0.082005  0.313821  0.146090  1.000000    0.024651\n",
       "total_gold  0.212334   0.212334  0.241223  0.222702  0.024651    1.000000"
      ]
     },
     "execution_count": 210,
     "metadata": {},
     "output_type": "execute_result"
    }
   ],
   "source": [
    "item_occ[(item_occ['full_item'] == True) &\n",
    "         (no_edge_cases) &\n",
    "         (item_occ['count'] > 10)].corr()#['pick_rate']['win_rate']"
   ]
  },
  {
   "cell_type": "code",
   "execution_count": 211,
   "metadata": {
    "collapsed": false
   },
   "outputs": [
    {
     "data": {
      "text/plain": [
       "0.082004789435989947"
      ]
     },
     "execution_count": 211,
     "metadata": {},
     "output_type": "execute_result"
    }
   ],
   "source": [
    "item_occ[(item_occ['full_item'] == True) &\n",
    "         (no_edge_cases) &\n",
    "         (item_occ['count'] > 10)].corr()['pick_rate']['win_rate']"
   ]
  },
  {
   "cell_type": "markdown",
   "metadata": {},
   "source": [
    "### Test: High pick rate correlates with high champion spread.\n",
    "\n",
    "This makes sense. Correlation coefficient of 0.468."
   ]
  },
  {
   "cell_type": "code",
   "execution_count": 212,
   "metadata": {
    "collapsed": false
   },
   "outputs": [
    {
     "data": {
      "text/plain": [
       "<matplotlib.axes._subplots.AxesSubplot at 0x1633cc88>"
      ]
     },
     "execution_count": 212,
     "metadata": {},
     "output_type": "execute_result"
    },
    {
     "data": {
      "image/png": "[encoded data removed]",
      "text/plain": [
       "<matplotlib.figure.Figure at 0x15fe54e0>"
      ]
     },
     "metadata": {},
     "output_type": "display_data"
    }
   ],
   "source": [
    "item_occ[(item_occ['full_item'] == True) &\n",
    "         (no_edge_cases) &\n",
    "         (item_occ['count'] > 10)].plot(x='spread', y='pick_rate', kind='scatter')"
   ]
  },
  {
   "cell_type": "code",
   "execution_count": 213,
   "metadata": {
    "collapsed": false
   },
   "outputs": [
    {
     "data": {
      "text/plain": [
       "0.46861675636655714"
      ]
     },
     "execution_count": 213,
     "metadata": {},
     "output_type": "execute_result"
    }
   ],
   "source": [
    "item_occ[(item_occ['full_item'] == True) &\n",
    "         (no_edge_cases) &\n",
    "         (item_occ['count'] > 10)].corr()['pick_rate']['spread']"
   ]
  },
  {
   "cell_type": "markdown",
   "metadata": {},
   "source": [
    "### Test: Win Rate correlates with item cost\n",
    "\n",
    "Not really. Correlation coefficient is only 0.025"
   ]
  },
  {
   "cell_type": "code",
   "execution_count": 214,
   "metadata": {
    "collapsed": false
   },
   "outputs": [
    {
     "data": {
      "text/plain": [
       "<matplotlib.axes._subplots.AxesSubplot at 0x165a5588>"
      ]
     },
     "execution_count": 214,
     "metadata": {},
     "output_type": "execute_result"
    },
    {
     "data": {
      "image/png": "[encoded data removed]",
      "text/plain": [
       "<matplotlib.figure.Figure at 0x161ee208>"
      ]
     },
     "metadata": {},
     "output_type": "display_data"
    }
   ],
   "source": [
    "item_occ[(item_occ['full_item'] == True) &\n",
    "         (no_edge_cases) &\n",
    "         (item_occ['count'] > 10)].plot(x='total_gold', y='win_rate', kind='scatter')"
   ]
  },
  {
   "cell_type": "code",
   "execution_count": 215,
   "metadata": {
    "collapsed": false
   },
   "outputs": [
    {
     "data": {
      "text/plain": [
       "0.024650911115836106"
      ]
     },
     "execution_count": 215,
     "metadata": {},
     "output_type": "execute_result"
    }
   ],
   "source": [
    "item_occ[(item_occ['full_item'] == True) &\n",
    "         (no_edge_cases) &\n",
    "         (item_occ['count'] > 10)].corr()['total_gold']['win_rate']"
   ]
  },
  {
   "cell_type": "markdown",
   "metadata": {},
   "source": [
    "### Jungle Item Win Rate Conundrum\n",
    "\n",
    "Generally, one person on each team is a Jungler, and will buy 1 Jungle item (particularly in the item_id range around 2500-2600). If one of these items is built per team per game, I would expect the full Jungle items to sit evenly around the average win rate.\n",
    "\n",
    "However, all the jungle items have a win rate that is on par with or below the full item avg win rate. Actually, the win rate seems to sit around 0.50. Since one player per team per game jungles, and makes a jungle item, the overall win rate for full jungle items should sit around 0.50. Incomplete jungle items are uncommon, since a player will only build 1 full jungle item, and it is generally completed first.\n",
    "\n",
    "(Probably not) This suggests that junglers win more games by either never completing their jungle item (and building a normal item instead) or by selling it and buying a different item late game.\n",
    "\n",
    "More statistics in the table below."
   ]
  },
  {
   "cell_type": "code",
   "execution_count": 246,
   "metadata": {
    "collapsed": false
   },
   "outputs": [
    {
     "data": {
      "text/plain": [
       "[<matplotlib.lines.Line2D at 0x170235f8>]"
      ]
     },
     "execution_count": 246,
     "metadata": {},
     "output_type": "execute_result"
    },
    {
     "data": {
      "image/png": "[encoded data removed]",
      "text/plain": [
       "<matplotlib.figure.Figure at 0x171949b0>"
      ]
     },
     "metadata": {},
     "output_type": "display_data"
    }
   ],
   "source": [
    "no_name = [True if type(name) == float else False for name in item_occ.name]\n",
    "named = [not name for name in no_name]\n",
    "named_items = item_occ[named]\n",
    "\n",
    "jungle = [True if (type(tags) == list and 'Jungle' in tags) else False for tags in named_items['tags']]\n",
    "named_items[(((named_items.name.str.contains('Enchantment'))) | (jungle)) &\n",
    "            (named_items['count'] > 5)].plot(x='total_gold', y='win_rate', kind='scatter',\n",
    "                                         xlim=[-100, 3000])\n",
    "\n",
    "plt.plot(np.linspace(-100, 3000, 50), np.full(50, full_item_avg_win_rate), 'r--')"
   ]
  },
  {
   "cell_type": "code",
   "execution_count": 247,
   "metadata": {
    "collapsed": false
   },
   "outputs": [
    {
     "data": {
      "text/html": [
       "<div>\n",
       "<table border=\"1\" class=\"dataframe\">\n",
       "  <thead>\n",
       "    <tr style=\"text-align: right;\">\n",
       "      <th></th>\n",
       "      <th>count</th>\n",
       "      <th>pick_rate</th>\n",
       "      <th>spread</th>\n",
       "      <th>wins</th>\n",
       "      <th>win_rate</th>\n",
       "      <th>name</th>\n",
       "      <th>full_item</th>\n",
       "      <th>total_gold</th>\n",
       "      <th>tags</th>\n",
       "    </tr>\n",
       "    <tr>\n",
       "      <th>item_id</th>\n",
       "      <th></th>\n",
       "      <th></th>\n",
       "      <th></th>\n",
       "      <th></th>\n",
       "      <th></th>\n",
       "      <th></th>\n",
       "      <th></th>\n",
       "      <th></th>\n",
       "      <th></th>\n",
       "    </tr>\n",
       "  </thead>\n",
       "  <tbody>\n",
       "    <tr>\n",
       "      <th>1414</th>\n",
       "      <td>59</td>\n",
       "      <td>0.006378</td>\n",
       "      <td>14</td>\n",
       "      <td>32</td>\n",
       "      <td>0.542373</td>\n",
       "      <td>Enchantment: Runic Echoes</td>\n",
       "      <td>True</td>\n",
       "      <td>2625</td>\n",
       "      <td>[]</td>\n",
       "    </tr>\n",
       "    <tr>\n",
       "      <th>1412</th>\n",
       "      <td>535</td>\n",
       "      <td>0.057838</td>\n",
       "      <td>31</td>\n",
       "      <td>288</td>\n",
       "      <td>0.538318</td>\n",
       "      <td>Enchantment: Warrior</td>\n",
       "      <td>True</td>\n",
       "      <td>2625</td>\n",
       "      <td>[]</td>\n",
       "    </tr>\n",
       "    <tr>\n",
       "      <th>1419</th>\n",
       "      <td>142</td>\n",
       "      <td>0.015351</td>\n",
       "      <td>15</td>\n",
       "      <td>76</td>\n",
       "      <td>0.535211</td>\n",
       "      <td>Enchantment: Bloodrazor</td>\n",
       "      <td>True</td>\n",
       "      <td>2625</td>\n",
       "      <td>[]</td>\n",
       "    </tr>\n",
       "    <tr>\n",
       "      <th>1416</th>\n",
       "      <td>65</td>\n",
       "      <td>0.007027</td>\n",
       "      <td>9</td>\n",
       "      <td>33</td>\n",
       "      <td>0.507692</td>\n",
       "      <td>Enchantment: Bloodrazor</td>\n",
       "      <td>True</td>\n",
       "      <td>2625</td>\n",
       "      <td>[]</td>\n",
       "    </tr>\n",
       "    <tr>\n",
       "      <th>1400</th>\n",
       "      <td>359</td>\n",
       "      <td>0.038811</td>\n",
       "      <td>23</td>\n",
       "      <td>179</td>\n",
       "      <td>0.498607</td>\n",
       "      <td>Enchantment: Warrior</td>\n",
       "      <td>True</td>\n",
       "      <td>2625</td>\n",
       "      <td>[]</td>\n",
       "    </tr>\n",
       "    <tr>\n",
       "      <th>3340</th>\n",
       "      <td>5270</td>\n",
       "      <td>0.569730</td>\n",
       "      <td>141</td>\n",
       "      <td>2573</td>\n",
       "      <td>0.488235</td>\n",
       "      <td>Warding Totem (Trinket)</td>\n",
       "      <td>True</td>\n",
       "      <td>0</td>\n",
       "      <td>[Active, Jungle, Lane, Trinket, Vision]</td>\n",
       "    </tr>\n",
       "    <tr>\n",
       "      <th>2032</th>\n",
       "      <td>45</td>\n",
       "      <td>0.004865</td>\n",
       "      <td>27</td>\n",
       "      <td>21</td>\n",
       "      <td>0.466667</td>\n",
       "      <td>Hunter's Potion</td>\n",
       "      <td>True</td>\n",
       "      <td>400</td>\n",
       "      <td>[HealthRegen, ManaRegen, Consumable, Active, J...</td>\n",
       "    </tr>\n",
       "    <tr>\n",
       "      <th>1401</th>\n",
       "      <td>215</td>\n",
       "      <td>0.023243</td>\n",
       "      <td>26</td>\n",
       "      <td>100</td>\n",
       "      <td>0.465116</td>\n",
       "      <td>Enchantment: Cinderhulk</td>\n",
       "      <td>True</td>\n",
       "      <td>2500</td>\n",
       "      <td>[]</td>\n",
       "    </tr>\n",
       "    <tr>\n",
       "      <th>1039</th>\n",
       "      <td>24</td>\n",
       "      <td>0.002595</td>\n",
       "      <td>11</td>\n",
       "      <td>11</td>\n",
       "      <td>0.458333</td>\n",
       "      <td>Hunter's Talisman</td>\n",
       "      <td>False</td>\n",
       "      <td>350</td>\n",
       "      <td>[LifeSteal, ManaRegen, OnHit, Jungle]</td>\n",
       "    </tr>\n",
       "    <tr>\n",
       "      <th>1402</th>\n",
       "      <td>180</td>\n",
       "      <td>0.019459</td>\n",
       "      <td>23</td>\n",
       "      <td>82</td>\n",
       "      <td>0.455556</td>\n",
       "      <td>Enchantment: Runic Echoes</td>\n",
       "      <td>True</td>\n",
       "      <td>2625</td>\n",
       "      <td>[]</td>\n",
       "    </tr>\n",
       "    <tr>\n",
       "      <th>2031</th>\n",
       "      <td>1227</td>\n",
       "      <td>0.132649</td>\n",
       "      <td>135</td>\n",
       "      <td>555</td>\n",
       "      <td>0.452323</td>\n",
       "      <td>Refillable Potion</td>\n",
       "      <td>False</td>\n",
       "      <td>150</td>\n",
       "      <td>[HealthRegen, Consumable, Active, Lane, Jungle]</td>\n",
       "    </tr>\n",
       "    <tr>\n",
       "      <th>1041</th>\n",
       "      <td>40</td>\n",
       "      <td>0.004324</td>\n",
       "      <td>12</td>\n",
       "      <td>17</td>\n",
       "      <td>0.425000</td>\n",
       "      <td>Hunter's Machete</td>\n",
       "      <td>False</td>\n",
       "      <td>350</td>\n",
       "      <td>[LifeSteal, OnHit, Jungle]</td>\n",
       "    </tr>\n",
       "    <tr>\n",
       "      <th>1413</th>\n",
       "      <td>106</td>\n",
       "      <td>0.011459</td>\n",
       "      <td>22</td>\n",
       "      <td>45</td>\n",
       "      <td>0.424528</td>\n",
       "      <td>Enchantment: Cinderhulk</td>\n",
       "      <td>True</td>\n",
       "      <td>2500</td>\n",
       "      <td>[]</td>\n",
       "    </tr>\n",
       "    <tr>\n",
       "      <th>3706</th>\n",
       "      <td>22</td>\n",
       "      <td>0.002378</td>\n",
       "      <td>16</td>\n",
       "      <td>9</td>\n",
       "      <td>0.409091</td>\n",
       "      <td>Stalker's Blade</td>\n",
       "      <td>False</td>\n",
       "      <td>1000</td>\n",
       "      <td>[LifeSteal, ManaRegen, Slow, OnHit, NonbootsMo...</td>\n",
       "    </tr>\n",
       "    <tr>\n",
       "      <th>2003</th>\n",
       "      <td>226</td>\n",
       "      <td>0.024432</td>\n",
       "      <td>83</td>\n",
       "      <td>80</td>\n",
       "      <td>0.353982</td>\n",
       "      <td>Health Potion</td>\n",
       "      <td>True</td>\n",
       "      <td>50</td>\n",
       "      <td>[Consumable, Jungle, Lane]</td>\n",
       "    </tr>\n",
       "    <tr>\n",
       "      <th>3715</th>\n",
       "      <td>23</td>\n",
       "      <td>0.002486</td>\n",
       "      <td>14</td>\n",
       "      <td>7</td>\n",
       "      <td>0.304348</td>\n",
       "      <td>Skirmisher's Sabre</td>\n",
       "      <td>False</td>\n",
       "      <td>1000</td>\n",
       "      <td>[LifeSteal, ManaRegen, OnHit, Jungle]</td>\n",
       "    </tr>\n",
       "  </tbody>\n",
       "</table>\n",
       "</div>"
      ],
      "text/plain": [
       "         count  pick_rate  spread  wins  win_rate                       name  \\\n",
       "item_id                                                                        \n",
       "1414        59   0.006378      14    32  0.542373  Enchantment: Runic Echoes   \n",
       "1412       535   0.057838      31   288  0.538318       Enchantment: Warrior   \n",
       "1419       142   0.015351      15    76  0.535211    Enchantment: Bloodrazor   \n",
       "1416        65   0.007027       9    33  0.507692    Enchantment: Bloodrazor   \n",
       "1400       359   0.038811      23   179  0.498607       Enchantment: Warrior   \n",
       "3340      5270   0.569730     141  2573  0.488235    Warding Totem (Trinket)   \n",
       "2032        45   0.004865      27    21  0.466667            Hunter's Potion   \n",
       "1401       215   0.023243      26   100  0.465116    Enchantment: Cinderhulk   \n",
       "1039        24   0.002595      11    11  0.458333          Hunter's Talisman   \n",
       "1402       180   0.019459      23    82  0.455556  Enchantment: Runic Echoes   \n",
       "2031      1227   0.132649     135   555  0.452323          Refillable Potion   \n",
       "1041        40   0.004324      12    17  0.425000           Hunter's Machete   \n",
       "1413       106   0.011459      22    45  0.424528    Enchantment: Cinderhulk   \n",
       "3706        22   0.002378      16     9  0.409091            Stalker's Blade   \n",
       "2003       226   0.024432      83    80  0.353982              Health Potion   \n",
       "3715        23   0.002486      14     7  0.304348         Skirmisher's Sabre   \n",
       "\n",
       "        full_item  total_gold  \\\n",
       "item_id                         \n",
       "1414         True        2625   \n",
       "1412         True        2625   \n",
       "1419         True        2625   \n",
       "1416         True        2625   \n",
       "1400         True        2625   \n",
       "3340         True           0   \n",
       "2032         True         400   \n",
       "1401         True        2500   \n",
       "1039        False         350   \n",
       "1402         True        2625   \n",
       "2031        False         150   \n",
       "1041        False         350   \n",
       "1413         True        2500   \n",
       "3706        False        1000   \n",
       "2003         True          50   \n",
       "3715        False        1000   \n",
       "\n",
       "                                                      tags  \n",
       "item_id                                                     \n",
       "1414                                                    []  \n",
       "1412                                                    []  \n",
       "1419                                                    []  \n",
       "1416                                                    []  \n",
       "1400                                                    []  \n",
       "3340               [Active, Jungle, Lane, Trinket, Vision]  \n",
       "2032     [HealthRegen, ManaRegen, Consumable, Active, J...  \n",
       "1401                                                    []  \n",
       "1039                 [LifeSteal, ManaRegen, OnHit, Jungle]  \n",
       "1402                                                    []  \n",
       "2031       [HealthRegen, Consumable, Active, Lane, Jungle]  \n",
       "1041                            [LifeSteal, OnHit, Jungle]  \n",
       "1413                                                    []  \n",
       "3706     [LifeSteal, ManaRegen, Slow, OnHit, NonbootsMo...  \n",
       "2003                            [Consumable, Jungle, Lane]  \n",
       "3715                 [LifeSteal, ManaRegen, OnHit, Jungle]  "
      ]
     },
     "execution_count": 247,
     "metadata": {},
     "output_type": "execute_result"
    }
   ],
   "source": [
    "named_items[(((named_items.name.str.contains('Enchantment'))) | (jungle)) &\n",
    "            (named_items['count'] > 5)].sort_values('win_rate', ascending=False)"
   ]
  },
  {
   "cell_type": "markdown",
   "metadata": {},
   "source": [
    "### Test: The win rate of each tag is the same (compare to mean found earlier)"
   ]
  },
  {
   "cell_type": "code",
   "execution_count": 312,
   "metadata": {
    "collapsed": false
   },
   "outputs": [
    {
     "data": {
      "text/html": [
       "<div>\n",
       "<table border=\"1\" class=\"dataframe\">\n",
       "  <thead>\n",
       "    <tr style=\"text-align: right;\">\n",
       "      <th></th>\n",
       "      <th>tag</th>\n",
       "      <th>pick_count</th>\n",
       "      <th>avg_pick_rate</th>\n",
       "      <th>avg_win_rate</th>\n",
       "      <th>avg_champ_spread</th>\n",
       "      <th>avg_item_cost</th>\n",
       "      <th>std_win_rate</th>\n",
       "    </tr>\n",
       "  </thead>\n",
       "  <tbody>\n",
       "    <tr>\n",
       "      <th>12</th>\n",
       "      <td>MagicPenetration</td>\n",
       "      <td>1171</td>\n",
       "      <td>0.044507</td>\n",
       "      <td>0.564475</td>\n",
       "      <td>38.800000</td>\n",
       "      <td>2830.000000</td>\n",
       "      <td>0.014546</td>\n",
       "    </tr>\n",
       "    <tr>\n",
       "      <th>16</th>\n",
       "      <td>Aura</td>\n",
       "      <td>896</td>\n",
       "      <td>0.022645</td>\n",
       "      <td>0.560268</td>\n",
       "      <td>25.833333</td>\n",
       "      <td>2500.000000</td>\n",
       "      <td>0.016629</td>\n",
       "    </tr>\n",
       "    <tr>\n",
       "      <th>13</th>\n",
       "      <td>CriticalStrike</td>\n",
       "      <td>3375</td>\n",
       "      <td>0.064845</td>\n",
       "      <td>0.550519</td>\n",
       "      <td>25.750000</td>\n",
       "      <td>2375.000000</td>\n",
       "      <td>0.008568</td>\n",
       "    </tr>\n",
       "    <tr>\n",
       "      <th>18</th>\n",
       "      <td>Vision</td>\n",
       "      <td>679</td>\n",
       "      <td>0.073405</td>\n",
       "      <td>0.541973</td>\n",
       "      <td>33.000000</td>\n",
       "      <td>2900.000000</td>\n",
       "      <td>0.019102</td>\n",
       "    </tr>\n",
       "    <tr>\n",
       "      <th>17</th>\n",
       "      <td>SpellDamage</td>\n",
       "      <td>9634</td>\n",
       "      <td>0.047188</td>\n",
       "      <td>0.538821</td>\n",
       "      <td>34.756757</td>\n",
       "      <td>2194.189189</td>\n",
       "      <td>0.005071</td>\n",
       "    </tr>\n",
       "    <tr>\n",
       "      <th>19</th>\n",
       "      <td>ArmorPenetration</td>\n",
       "      <td>2981</td>\n",
       "      <td>0.080383</td>\n",
       "      <td>0.536397</td>\n",
       "      <td>25.400000</td>\n",
       "      <td>2430.000000</td>\n",
       "      <td>0.009117</td>\n",
       "    </tr>\n",
       "    <tr>\n",
       "      <th>3</th>\n",
       "      <td>Damage</td>\n",
       "      <td>11421</td>\n",
       "      <td>0.060422</td>\n",
       "      <td>0.534629</td>\n",
       "      <td>32.972973</td>\n",
       "      <td>2451.567568</td>\n",
       "      <td>0.004658</td>\n",
       "    </tr>\n",
       "    <tr>\n",
       "      <th>15</th>\n",
       "      <td>Mana</td>\n",
       "      <td>4296</td>\n",
       "      <td>0.046418</td>\n",
       "      <td>0.532821</td>\n",
       "      <td>25.750000</td>\n",
       "      <td>2282.625000</td>\n",
       "      <td>0.007594</td>\n",
       "    </tr>\n",
       "    <tr>\n",
       "      <th>14</th>\n",
       "      <td>OnHit</td>\n",
       "      <td>8317</td>\n",
       "      <td>0.070238</td>\n",
       "      <td>0.532644</td>\n",
       "      <td>25.307692</td>\n",
       "      <td>2441.653846</td>\n",
       "      <td>0.005458</td>\n",
       "    </tr>\n",
       "    <tr>\n",
       "      <th>2</th>\n",
       "      <td>Armor</td>\n",
       "      <td>5382</td>\n",
       "      <td>0.040696</td>\n",
       "      <td>0.532516</td>\n",
       "      <td>41.666667</td>\n",
       "      <td>2068.750000</td>\n",
       "      <td>0.006785</td>\n",
       "    </tr>\n",
       "    <tr>\n",
       "      <th>11</th>\n",
       "      <td>Active</td>\n",
       "      <td>7101</td>\n",
       "      <td>0.046221</td>\n",
       "      <td>0.531897</td>\n",
       "      <td>28.090909</td>\n",
       "      <td>2242.424242</td>\n",
       "      <td>0.005907</td>\n",
       "    </tr>\n",
       "    <tr>\n",
       "      <th>10</th>\n",
       "      <td>SpellVamp</td>\n",
       "      <td>300</td>\n",
       "      <td>0.016320</td>\n",
       "      <td>0.530000</td>\n",
       "      <td>32.000000</td>\n",
       "      <td>3325.000000</td>\n",
       "      <td>0.028738</td>\n",
       "    </tr>\n",
       "    <tr>\n",
       "      <th>21</th>\n",
       "      <td>NonbootsMovement</td>\n",
       "      <td>8480</td>\n",
       "      <td>0.063088</td>\n",
       "      <td>0.529599</td>\n",
       "      <td>28.142857</td>\n",
       "      <td>2426.178571</td>\n",
       "      <td>0.005405</td>\n",
       "    </tr>\n",
       "    <tr>\n",
       "      <th>0</th>\n",
       "      <td>CooldownReduction</td>\n",
       "      <td>12141</td>\n",
       "      <td>0.054525</td>\n",
       "      <td>0.526563</td>\n",
       "      <td>30.617021</td>\n",
       "      <td>2367.723404</td>\n",
       "      <td>0.004517</td>\n",
       "    </tr>\n",
       "    <tr>\n",
       "      <th>9</th>\n",
       "      <td>LifeSteal</td>\n",
       "      <td>2003</td>\n",
       "      <td>0.035959</td>\n",
       "      <td>0.526211</td>\n",
       "      <td>26.769231</td>\n",
       "      <td>2219.230769</td>\n",
       "      <td>0.011122</td>\n",
       "    </tr>\n",
       "    <tr>\n",
       "      <th>1</th>\n",
       "      <td>AttackSpeed</td>\n",
       "      <td>5491</td>\n",
       "      <td>0.059491</td>\n",
       "      <td>0.526134</td>\n",
       "      <td>26.937500</td>\n",
       "      <td>2314.562500</td>\n",
       "      <td>0.006717</td>\n",
       "    </tr>\n",
       "    <tr>\n",
       "      <th>6</th>\n",
       "      <td>Health</td>\n",
       "      <td>10822</td>\n",
       "      <td>0.048404</td>\n",
       "      <td>0.516263</td>\n",
       "      <td>37.139535</td>\n",
       "      <td>2299.604651</td>\n",
       "      <td>0.004785</td>\n",
       "    </tr>\n",
       "    <tr>\n",
       "      <th>4</th>\n",
       "      <td>SpellBlock</td>\n",
       "      <td>2905</td>\n",
       "      <td>0.022449</td>\n",
       "      <td>0.516007</td>\n",
       "      <td>34.681818</td>\n",
       "      <td>2185.000000</td>\n",
       "      <td>0.009235</td>\n",
       "    </tr>\n",
       "    <tr>\n",
       "      <th>5</th>\n",
       "      <td>Slow</td>\n",
       "      <td>2558</td>\n",
       "      <td>0.036473</td>\n",
       "      <td>0.512901</td>\n",
       "      <td>34.461538</td>\n",
       "      <td>2473.076923</td>\n",
       "      <td>0.009842</td>\n",
       "    </tr>\n",
       "    <tr>\n",
       "      <th>7</th>\n",
       "      <td>HealthRegen</td>\n",
       "      <td>4113</td>\n",
       "      <td>0.029904</td>\n",
       "      <td>0.507659</td>\n",
       "      <td>25.500000</td>\n",
       "      <td>2040.384615</td>\n",
       "      <td>0.007761</td>\n",
       "    </tr>\n",
       "    <tr>\n",
       "      <th>8</th>\n",
       "      <td>GoldPer</td>\n",
       "      <td>1770</td>\n",
       "      <td>0.039155</td>\n",
       "      <td>0.503390</td>\n",
       "      <td>24.666667</td>\n",
       "      <td>1275.000000</td>\n",
       "      <td>0.011831</td>\n",
       "    </tr>\n",
       "    <tr>\n",
       "      <th>22</th>\n",
       "      <td>ManaRegen</td>\n",
       "      <td>3304</td>\n",
       "      <td>0.030615</td>\n",
       "      <td>0.495157</td>\n",
       "      <td>18.200000</td>\n",
       "      <td>1763.000000</td>\n",
       "      <td>0.008660</td>\n",
       "    </tr>\n",
       "    <tr>\n",
       "      <th>20</th>\n",
       "      <td>Jungle</td>\n",
       "      <td>109</td>\n",
       "      <td>0.003163</td>\n",
       "      <td>0.403670</td>\n",
       "      <td>13.250000</td>\n",
       "      <td>675.000000</td>\n",
       "      <td>0.047676</td>\n",
       "    </tr>\n",
       "  </tbody>\n",
       "</table>\n",
       "</div>"
      ],
      "text/plain": [
       "                  tag  pick_count  avg_pick_rate  avg_win_rate  \\\n",
       "12   MagicPenetration        1171       0.044507      0.564475   \n",
       "16               Aura         896       0.022645      0.560268   \n",
       "13     CriticalStrike        3375       0.064845      0.550519   \n",
       "18             Vision         679       0.073405      0.541973   \n",
       "17        SpellDamage        9634       0.047188      0.538821   \n",
       "19   ArmorPenetration        2981       0.080383      0.536397   \n",
       "3              Damage       11421       0.060422      0.534629   \n",
       "15               Mana        4296       0.046418      0.532821   \n",
       "14              OnHit        8317       0.070238      0.532644   \n",
       "2               Armor        5382       0.040696      0.532516   \n",
       "11             Active        7101       0.046221      0.531897   \n",
       "10          SpellVamp         300       0.016320      0.530000   \n",
       "21   NonbootsMovement        8480       0.063088      0.529599   \n",
       "0   CooldownReduction       12141       0.054525      0.526563   \n",
       "9           LifeSteal        2003       0.035959      0.526211   \n",
       "1         AttackSpeed        5491       0.059491      0.526134   \n",
       "6              Health       10822       0.048404      0.516263   \n",
       "4          SpellBlock        2905       0.022449      0.516007   \n",
       "5                Slow        2558       0.036473      0.512901   \n",
       "7         HealthRegen        4113       0.029904      0.507659   \n",
       "8             GoldPer        1770       0.039155      0.503390   \n",
       "22          ManaRegen        3304       0.030615      0.495157   \n",
       "20             Jungle         109       0.003163      0.403670   \n",
       "\n",
       "    avg_champ_spread  avg_item_cost  std_win_rate  \n",
       "12         38.800000    2830.000000      0.014546  \n",
       "16         25.833333    2500.000000      0.016629  \n",
       "13         25.750000    2375.000000      0.008568  \n",
       "18         33.000000    2900.000000      0.019102  \n",
       "17         34.756757    2194.189189      0.005071  \n",
       "19         25.400000    2430.000000      0.009117  \n",
       "3          32.972973    2451.567568      0.004658  \n",
       "15         25.750000    2282.625000      0.007594  \n",
       "14         25.307692    2441.653846      0.005458  \n",
       "2          41.666667    2068.750000      0.006785  \n",
       "11         28.090909    2242.424242      0.005907  \n",
       "10         32.000000    3325.000000      0.028738  \n",
       "21         28.142857    2426.178571      0.005405  \n",
       "0          30.617021    2367.723404      0.004517  \n",
       "9          26.769231    2219.230769      0.011122  \n",
       "1          26.937500    2314.562500      0.006717  \n",
       "6          37.139535    2299.604651      0.004785  \n",
       "4          34.681818    2185.000000      0.009235  \n",
       "5          34.461538    2473.076923      0.009842  \n",
       "7          25.500000    2040.384615      0.007761  \n",
       "8          24.666667    1275.000000      0.011831  \n",
       "22         18.200000    1763.000000      0.008660  \n",
       "20         13.250000     675.000000      0.047676  "
      ]
     },
     "execution_count": 312,
     "metadata": {},
     "output_type": "execute_result"
    }
   ],
   "source": [
    "tag_based_stats_df['std_win_rate'] = np.sqrt(full_item_avg_win_rate * (1 - full_item_avg_win_rate) \n",
    "                                             / tag_based_stats_df['pick_count'])\n",
    "tag_based_stats_df.sort_values('avg_win_rate', ascending=False)"
   ]
  },
  {
   "cell_type": "code",
   "execution_count": 318,
   "metadata": {
    "collapsed": false
   },
   "outputs": [
    {
     "data": {
      "image/png": "[encoded data removed]",
      "text/plain": [
       "<matplotlib.figure.Figure at 0x1a926be0>"
      ]
     },
     "metadata": {},
     "output_type": "display_data"
    }
   ],
   "source": [
    "_ = tag_based_stats_df.sort_values('avg_win_rate',\n",
    "                                   ascending=True).plot(y='avg_win_rate', kind='barh', xerr='std_win_rate',\n",
    "                                                         xlim=[0.3, 0.6], title='Item Win Rates By Tag', color='cyan')\n",
    "\n",
    "locs, labels = plt.yticks()\n",
    "_ = plt.yticks(locs, list(tag_based_stats_df.sort_values('avg_win_rate', ascending=True).tag))\n",
    "_ = plt.legend(bbox_to_anchor=(1.05, 1), loc=2, borderaxespad=0.)\n",
    "\n",
    "_ = plt.axvline(full_item_avg_win_rate, color='red', linestyle='--')"
   ]
  },
  {
   "cell_type": "markdown",
   "metadata": {},
   "source": [
    "This seems less relevant. I think the standard deviations are too small because the counts are large."
   ]
  },
  {
   "cell_type": "code",
   "execution_count": 311,
   "metadata": {
    "collapsed": false,
    "scrolled": false
   },
   "outputs": [
    {
     "data": {
      "text/html": [
       "<div>\n",
       "<table border=\"1\" class=\"dataframe\">\n",
       "  <thead>\n",
       "    <tr style=\"text-align: right;\">\n",
       "      <th></th>\n",
       "      <th>tag</th>\n",
       "      <th>pick_count</th>\n",
       "      <th>avg_pick_rate</th>\n",
       "      <th>avg_win_rate</th>\n",
       "      <th>avg_champ_spread</th>\n",
       "      <th>avg_item_cost</th>\n",
       "      <th>std_win_rate</th>\n",
       "    </tr>\n",
       "  </thead>\n",
       "  <tbody>\n",
       "    <tr>\n",
       "      <th>3</th>\n",
       "      <td>Damage</td>\n",
       "      <td>11421</td>\n",
       "      <td>0.060422</td>\n",
       "      <td>0.534629</td>\n",
       "      <td>32.972973</td>\n",
       "      <td>2451.567568</td>\n",
       "      <td>0.004658</td>\n",
       "    </tr>\n",
       "    <tr>\n",
       "      <th>14</th>\n",
       "      <td>OnHit</td>\n",
       "      <td>8317</td>\n",
       "      <td>0.070238</td>\n",
       "      <td>0.532644</td>\n",
       "      <td>25.307692</td>\n",
       "      <td>2441.653846</td>\n",
       "      <td>0.005458</td>\n",
       "    </tr>\n",
       "    <tr>\n",
       "      <th>2</th>\n",
       "      <td>Armor</td>\n",
       "      <td>5382</td>\n",
       "      <td>0.040696</td>\n",
       "      <td>0.532516</td>\n",
       "      <td>41.666667</td>\n",
       "      <td>2068.750000</td>\n",
       "      <td>0.006785</td>\n",
       "    </tr>\n",
       "    <tr>\n",
       "      <th>11</th>\n",
       "      <td>Active</td>\n",
       "      <td>7101</td>\n",
       "      <td>0.046221</td>\n",
       "      <td>0.531897</td>\n",
       "      <td>28.090909</td>\n",
       "      <td>2242.424242</td>\n",
       "      <td>0.005907</td>\n",
       "    </tr>\n",
       "    <tr>\n",
       "      <th>21</th>\n",
       "      <td>NonbootsMovement</td>\n",
       "      <td>8480</td>\n",
       "      <td>0.063088</td>\n",
       "      <td>0.529599</td>\n",
       "      <td>28.142857</td>\n",
       "      <td>2426.178571</td>\n",
       "      <td>0.005405</td>\n",
       "    </tr>\n",
       "    <tr>\n",
       "      <th>0</th>\n",
       "      <td>CooldownReduction</td>\n",
       "      <td>12141</td>\n",
       "      <td>0.054525</td>\n",
       "      <td>0.526563</td>\n",
       "      <td>30.617021</td>\n",
       "      <td>2367.723404</td>\n",
       "      <td>0.004517</td>\n",
       "    </tr>\n",
       "    <tr>\n",
       "      <th>1</th>\n",
       "      <td>AttackSpeed</td>\n",
       "      <td>5491</td>\n",
       "      <td>0.059491</td>\n",
       "      <td>0.526134</td>\n",
       "      <td>26.937500</td>\n",
       "      <td>2314.562500</td>\n",
       "      <td>0.006717</td>\n",
       "    </tr>\n",
       "    <tr>\n",
       "      <th>6</th>\n",
       "      <td>Health</td>\n",
       "      <td>10822</td>\n",
       "      <td>0.048404</td>\n",
       "      <td>0.516263</td>\n",
       "      <td>37.139535</td>\n",
       "      <td>2299.604651</td>\n",
       "      <td>0.004785</td>\n",
       "    </tr>\n",
       "    <tr>\n",
       "      <th>4</th>\n",
       "      <td>SpellBlock</td>\n",
       "      <td>2905</td>\n",
       "      <td>0.022449</td>\n",
       "      <td>0.516007</td>\n",
       "      <td>34.681818</td>\n",
       "      <td>2185.000000</td>\n",
       "      <td>0.009235</td>\n",
       "    </tr>\n",
       "    <tr>\n",
       "      <th>5</th>\n",
       "      <td>Slow</td>\n",
       "      <td>2558</td>\n",
       "      <td>0.036473</td>\n",
       "      <td>0.512901</td>\n",
       "      <td>34.461538</td>\n",
       "      <td>2473.076923</td>\n",
       "      <td>0.009842</td>\n",
       "    </tr>\n",
       "    <tr>\n",
       "      <th>7</th>\n",
       "      <td>HealthRegen</td>\n",
       "      <td>4113</td>\n",
       "      <td>0.029904</td>\n",
       "      <td>0.507659</td>\n",
       "      <td>25.500000</td>\n",
       "      <td>2040.384615</td>\n",
       "      <td>0.007761</td>\n",
       "    </tr>\n",
       "    <tr>\n",
       "      <th>8</th>\n",
       "      <td>GoldPer</td>\n",
       "      <td>1770</td>\n",
       "      <td>0.039155</td>\n",
       "      <td>0.503390</td>\n",
       "      <td>24.666667</td>\n",
       "      <td>1275.000000</td>\n",
       "      <td>0.011831</td>\n",
       "    </tr>\n",
       "    <tr>\n",
       "      <th>22</th>\n",
       "      <td>ManaRegen</td>\n",
       "      <td>3304</td>\n",
       "      <td>0.030615</td>\n",
       "      <td>0.495157</td>\n",
       "      <td>18.200000</td>\n",
       "      <td>1763.000000</td>\n",
       "      <td>0.008660</td>\n",
       "    </tr>\n",
       "    <tr>\n",
       "      <th>20</th>\n",
       "      <td>Jungle</td>\n",
       "      <td>109</td>\n",
       "      <td>0.003163</td>\n",
       "      <td>0.403670</td>\n",
       "      <td>13.250000</td>\n",
       "      <td>675.000000</td>\n",
       "      <td>0.047676</td>\n",
       "    </tr>\n",
       "  </tbody>\n",
       "</table>\n",
       "</div>"
      ],
      "text/plain": [
       "                  tag  pick_count  avg_pick_rate  avg_win_rate  \\\n",
       "3              Damage       11421       0.060422      0.534629   \n",
       "14              OnHit        8317       0.070238      0.532644   \n",
       "2               Armor        5382       0.040696      0.532516   \n",
       "11             Active        7101       0.046221      0.531897   \n",
       "21   NonbootsMovement        8480       0.063088      0.529599   \n",
       "0   CooldownReduction       12141       0.054525      0.526563   \n",
       "1         AttackSpeed        5491       0.059491      0.526134   \n",
       "6              Health       10822       0.048404      0.516263   \n",
       "4          SpellBlock        2905       0.022449      0.516007   \n",
       "5                Slow        2558       0.036473      0.512901   \n",
       "7         HealthRegen        4113       0.029904      0.507659   \n",
       "8             GoldPer        1770       0.039155      0.503390   \n",
       "22          ManaRegen        3304       0.030615      0.495157   \n",
       "20             Jungle         109       0.003163      0.403670   \n",
       "\n",
       "    avg_champ_spread  avg_item_cost  std_win_rate  \n",
       "3          32.972973    2451.567568      0.004658  \n",
       "14         25.307692    2441.653846      0.005458  \n",
       "2          41.666667    2068.750000      0.006785  \n",
       "11         28.090909    2242.424242      0.005907  \n",
       "21         28.142857    2426.178571      0.005405  \n",
       "0          30.617021    2367.723404      0.004517  \n",
       "1          26.937500    2314.562500      0.006717  \n",
       "6          37.139535    2299.604651      0.004785  \n",
       "4          34.681818    2185.000000      0.009235  \n",
       "5          34.461538    2473.076923      0.009842  \n",
       "7          25.500000    2040.384615      0.007761  \n",
       "8          24.666667    1275.000000      0.011831  \n",
       "22         18.200000    1763.000000      0.008660  \n",
       "20         13.250000     675.000000      0.047676  "
      ]
     },
     "execution_count": 311,
     "metadata": {},
     "output_type": "execute_result"
    }
   ],
   "source": [
    "tag_based_stats_df[(tag_based_stats_df['avg_win_rate']\n",
    "                    - full_item_avg_win_rate).abs() > 1.96 * tag_based_stats_df['std_win_rate']].sort_values('avg_win_rate',\n",
    "                                                                                                            ascending=False)"
   ]
  },
  {
   "cell_type": "code",
   "execution_count": null,
   "metadata": {
    "collapsed": true
   },
   "outputs": [],
   "source": []
  },
  {
   "cell_type": "code",
   "execution_count": null,
   "metadata": {
    "collapsed": true
   },
   "outputs": [],
   "source": []
  },
  {
   "cell_type": "code",
   "execution_count": null,
   "metadata": {
    "collapsed": true
   },
   "outputs": [],
   "source": []
  },
  {
   "cell_type": "code",
   "execution_count": null,
   "metadata": {
    "collapsed": true
   },
   "outputs": [],
   "source": []
  },
  {
   "cell_type": "code",
   "execution_count": null,
   "metadata": {
    "collapsed": true
   },
   "outputs": [],
   "source": []
  },
  {
   "cell_type": "code",
   "execution_count": null,
   "metadata": {
    "collapsed": true
   },
   "outputs": [],
   "source": []
  },
  {
   "cell_type": "code",
   "execution_count": null,
   "metadata": {
    "collapsed": true
   },
   "outputs": [],
   "source": []
  },
  {
   "cell_type": "code",
   "execution_count": null,
   "metadata": {
    "collapsed": true
   },
   "outputs": [],
   "source": []
  },
  {
   "cell_type": "code",
   "execution_count": null,
   "metadata": {
    "collapsed": true
   },
   "outputs": [],
   "source": []
  },
  {
   "cell_type": "code",
   "execution_count": null,
   "metadata": {
    "collapsed": true
   },
   "outputs": [],
   "source": []
  },
  {
   "cell_type": "code",
   "execution_count": null,
   "metadata": {
    "collapsed": true
   },
   "outputs": [],
   "source": []
  },
  {
   "cell_type": "code",
   "execution_count": null,
   "metadata": {
    "collapsed": true
   },
   "outputs": [],
   "source": []
  }
 ],
 "metadata": {
  "kernelspec": {
   "display_name": "Python 2",
   "language": "python",
   "name": "python2"
  },
  "language_info": {
   "codemirror_mode": {
    "name": "ipython",
    "version": 2
   },
   "file_extension": ".py",
   "mimetype": "text/x-python",
   "name": "python",
   "nbconvert_exporter": "python",
   "pygments_lexer": "ipython2",
   "version": "2.7.11"
  }
 },
 "nbformat": 4,
 "nbformat_minor": 2
}
