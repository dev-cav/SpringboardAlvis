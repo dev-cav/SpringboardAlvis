{
 "cells": [
  {
   "cell_type": "markdown",
   "metadata": {},
   "source": [
    "# League of Legends Item Balancing\n",
    "\n",
    "### Capstone Project 1: In-Depth Analysis\n",
    "\n",
    "This section will be for some final statistical analyses and some machine learning models to help me understand the influence of various item attributes on an item's win rate and pick rate."
   ]
  },
  {
   "cell_type": "code",
   "execution_count": 1,
   "metadata": {},
   "outputs": [],
   "source": [
    "import numpy as np\n",
    "import pandas as pd\n",
    "import matplotlib.pyplot as plt\n",
    "from matplotlib.pyplot import figure\n",
    "import re\n",
    "import seaborn as sns\n",
    "%matplotlib inline\n",
    "\n",
    "sns.set()"
   ]
  },
  {
   "cell_type": "code",
   "execution_count": 2,
   "metadata": {},
   "outputs": [],
   "source": [
    "matches_df = pd.read_csv('../data/match_data_2.csv', encoding='utf-8', index_col=0)\n",
    "matches_df.reset_index(drop=True, inplace=True)\n",
    "\n",
    "champions_min_df = pd.read_csv('../data/champions_min_8.22.1.csv', encoding='utf-8', index_col=0)\n",
    "\n",
    "items_df = pd.read_csv('../data/items.8.22.1.csv', encoding='utf-8', index_col=0)\n",
    "items_df['tags'] = [re.findall('[A-Za-z]\\w*', items_df.loc[item_id, 'tags']) for item_id in items_df.index]\n",
    "\n",
    "item_occ = pd.read_csv('../data/item_occurrences_8.22.1.csv', encoding='utf-8', index_col=0)\n",
    "item_occ['tags'] = items_df['tags']\n",
    "item_occ = item_occ.join(items_df[['name', 'full_item', 'total_gold']])\n",
    "\n",
    "tag_based_stats_df = pd.read_csv('../data/tag_based_stats_8.22.1.csv', encoding='utf-8', index_col=0)\n",
    "\n",
    "timing_df = pd.read_csv('../data/item_timing_8.22.1.csv', encoding='utf-8', index_col=0)"
   ]
  },
  {
   "cell_type": "markdown",
   "metadata": {},
   "source": [
    "Most of the raw data I intend to use is in the Match dataframe.\n",
    "\n",
    "Here is a sample of it."
   ]
  },
  {
   "cell_type": "code",
   "execution_count": 3,
   "metadata": {},
   "outputs": [
    {
     "data": {
      "text/html": [
       "<div>\n",
       "<style scoped>\n",
       "    .dataframe tbody tr th:only-of-type {\n",
       "        vertical-align: middle;\n",
       "    }\n",
       "\n",
       "    .dataframe tbody tr th {\n",
       "        vertical-align: top;\n",
       "    }\n",
       "\n",
       "    .dataframe thead th {\n",
       "        text-align: right;\n",
       "    }\n",
       "</style>\n",
       "<table border=\"1\" class=\"dataframe\">\n",
       "  <thead>\n",
       "    <tr style=\"text-align: right;\">\n",
       "      <th></th>\n",
       "      <th>stats.item0</th>\n",
       "      <th>stats.item1</th>\n",
       "      <th>stats.item2</th>\n",
       "      <th>stats.item3</th>\n",
       "      <th>stats.item4</th>\n",
       "      <th>stats.item5</th>\n",
       "      <th>stats.item6</th>\n",
       "    </tr>\n",
       "  </thead>\n",
       "  <tbody>\n",
       "    <tr>\n",
       "      <th>0</th>\n",
       "      <td>3020</td>\n",
       "      <td>3152</td>\n",
       "      <td>3285</td>\n",
       "      <td>0</td>\n",
       "      <td>1026</td>\n",
       "      <td>3157</td>\n",
       "      <td>3340</td>\n",
       "    </tr>\n",
       "    <tr>\n",
       "      <th>1</th>\n",
       "      <td>3117</td>\n",
       "      <td>3107</td>\n",
       "      <td>3092</td>\n",
       "      <td>3024</td>\n",
       "      <td>1029</td>\n",
       "      <td>1029</td>\n",
       "      <td>3340</td>\n",
       "    </tr>\n",
       "    <tr>\n",
       "      <th>2</th>\n",
       "      <td>1416</td>\n",
       "      <td>3078</td>\n",
       "      <td>3047</td>\n",
       "      <td>3748</td>\n",
       "      <td>0</td>\n",
       "      <td>0</td>\n",
       "      <td>3340</td>\n",
       "    </tr>\n",
       "    <tr>\n",
       "      <th>3</th>\n",
       "      <td>3020</td>\n",
       "      <td>3285</td>\n",
       "      <td>3157</td>\n",
       "      <td>3135</td>\n",
       "      <td>3165</td>\n",
       "      <td>2139</td>\n",
       "      <td>3340</td>\n",
       "    </tr>\n",
       "    <tr>\n",
       "      <th>4</th>\n",
       "      <td>3078</td>\n",
       "      <td>3047</td>\n",
       "      <td>3053</td>\n",
       "      <td>3133</td>\n",
       "      <td>0</td>\n",
       "      <td>0</td>\n",
       "      <td>3340</td>\n",
       "    </tr>\n",
       "    <tr>\n",
       "      <th>5</th>\n",
       "      <td>2033</td>\n",
       "      <td>3147</td>\n",
       "      <td>3047</td>\n",
       "      <td>3071</td>\n",
       "      <td>3036</td>\n",
       "      <td>3155</td>\n",
       "      <td>3340</td>\n",
       "    </tr>\n",
       "    <tr>\n",
       "      <th>6</th>\n",
       "      <td>3155</td>\n",
       "      <td>3095</td>\n",
       "      <td>3031</td>\n",
       "      <td>3006</td>\n",
       "      <td>3094</td>\n",
       "      <td>3072</td>\n",
       "      <td>3340</td>\n",
       "    </tr>\n",
       "    <tr>\n",
       "      <th>7</th>\n",
       "      <td>3020</td>\n",
       "      <td>3285</td>\n",
       "      <td>3157</td>\n",
       "      <td>1058</td>\n",
       "      <td>3116</td>\n",
       "      <td>0</td>\n",
       "      <td>3340</td>\n",
       "    </tr>\n",
       "    <tr>\n",
       "      <th>8</th>\n",
       "      <td>3401</td>\n",
       "      <td>3190</td>\n",
       "      <td>3107</td>\n",
       "      <td>3117</td>\n",
       "      <td>1029</td>\n",
       "      <td>1029</td>\n",
       "      <td>3364</td>\n",
       "    </tr>\n",
       "    <tr>\n",
       "      <th>9</th>\n",
       "      <td>3156</td>\n",
       "      <td>1400</td>\n",
       "      <td>3053</td>\n",
       "      <td>3047</td>\n",
       "      <td>3071</td>\n",
       "      <td>1029</td>\n",
       "      <td>3340</td>\n",
       "    </tr>\n",
       "  </tbody>\n",
       "</table>\n",
       "</div>"
      ],
      "text/plain": [
       "   stats.item0  stats.item1  stats.item2  stats.item3  stats.item4  \\\n",
       "0         3020         3152         3285            0         1026   \n",
       "1         3117         3107         3092         3024         1029   \n",
       "2         1416         3078         3047         3748            0   \n",
       "3         3020         3285         3157         3135         3165   \n",
       "4         3078         3047         3053         3133            0   \n",
       "5         2033         3147         3047         3071         3036   \n",
       "6         3155         3095         3031         3006         3094   \n",
       "7         3020         3285         3157         1058         3116   \n",
       "8         3401         3190         3107         3117         1029   \n",
       "9         3156         1400         3053         3047         3071   \n",
       "\n",
       "   stats.item5  stats.item6  \n",
       "0         3157         3340  \n",
       "1         1029         3340  \n",
       "2            0         3340  \n",
       "3         2139         3340  \n",
       "4            0         3340  \n",
       "5         3155         3340  \n",
       "6         3072         3340  \n",
       "7            0         3340  \n",
       "8         1029         3364  \n",
       "9         1029         3340  "
      ]
     },
     "execution_count": 3,
     "metadata": {},
     "output_type": "execute_result"
    }
   ],
   "source": [
    "matches_df.loc[:,'stats.item0':'stats.item6'].head(10)"
   ]
  },
  {
   "cell_type": "markdown",
   "metadata": {},
   "source": [
    "The other important dataframe has descriptive statistics for each item, and some identifiers from the Items table."
   ]
  },
  {
   "cell_type": "code",
   "execution_count": 4,
   "metadata": {},
   "outputs": [
    {
     "data": {
      "text/html": [
       "<div>\n",
       "<style scoped>\n",
       "    .dataframe tbody tr th:only-of-type {\n",
       "        vertical-align: middle;\n",
       "    }\n",
       "\n",
       "    .dataframe tbody tr th {\n",
       "        vertical-align: top;\n",
       "    }\n",
       "\n",
       "    .dataframe thead th {\n",
       "        text-align: right;\n",
       "    }\n",
       "</style>\n",
       "<table border=\"1\" class=\"dataframe\">\n",
       "  <thead>\n",
       "    <tr style=\"text-align: right;\">\n",
       "      <th></th>\n",
       "      <th>count</th>\n",
       "      <th>pick_rate</th>\n",
       "      <th>spread</th>\n",
       "      <th>wins</th>\n",
       "      <th>win_rate</th>\n",
       "      <th>tags</th>\n",
       "      <th>name</th>\n",
       "      <th>full_item</th>\n",
       "      <th>total_gold</th>\n",
       "    </tr>\n",
       "    <tr>\n",
       "      <th>item_id</th>\n",
       "      <th></th>\n",
       "      <th></th>\n",
       "      <th></th>\n",
       "      <th></th>\n",
       "      <th></th>\n",
       "      <th></th>\n",
       "      <th></th>\n",
       "      <th></th>\n",
       "      <th></th>\n",
       "    </tr>\n",
       "  </thead>\n",
       "  <tbody>\n",
       "    <tr>\n",
       "      <th>3812</th>\n",
       "      <td>177</td>\n",
       "      <td>0.019135</td>\n",
       "      <td>36</td>\n",
       "      <td>106.0</td>\n",
       "      <td>0.598870</td>\n",
       "      <td>[Damage, LifeSteal, CooldownReduction]</td>\n",
       "      <td>Death's Dance</td>\n",
       "      <td>True</td>\n",
       "      <td>3500.0</td>\n",
       "    </tr>\n",
       "    <tr>\n",
       "      <th>3814</th>\n",
       "      <td>48</td>\n",
       "      <td>0.005189</td>\n",
       "      <td>16</td>\n",
       "      <td>26.0</td>\n",
       "      <td>0.541667</td>\n",
       "      <td>[Health, Damage, Active, ArmorPenetration]</td>\n",
       "      <td>Edge of Night</td>\n",
       "      <td>True</td>\n",
       "      <td>3000.0</td>\n",
       "    </tr>\n",
       "    <tr>\n",
       "      <th>3905</th>\n",
       "      <td>96</td>\n",
       "      <td>0.010378</td>\n",
       "      <td>29</td>\n",
       "      <td>46.0</td>\n",
       "      <td>0.479167</td>\n",
       "      <td>[SpellDamage, Active, CooldownReduction, Slow,...</td>\n",
       "      <td>Twin Shadows</td>\n",
       "      <td>True</td>\n",
       "      <td>2400.0</td>\n",
       "    </tr>\n",
       "    <tr>\n",
       "      <th>3907</th>\n",
       "      <td>69</td>\n",
       "      <td>0.007459</td>\n",
       "      <td>28</td>\n",
       "      <td>43.0</td>\n",
       "      <td>0.623188</td>\n",
       "      <td>[SpellDamage, Active, NonbootsMovement]</td>\n",
       "      <td>Spellbinder</td>\n",
       "      <td>True</td>\n",
       "      <td>2900.0</td>\n",
       "    </tr>\n",
       "    <tr>\n",
       "      <th>3916</th>\n",
       "      <td>159</td>\n",
       "      <td>0.017189</td>\n",
       "      <td>48</td>\n",
       "      <td>82.0</td>\n",
       "      <td>0.515723</td>\n",
       "      <td>[Health, MagicPenetration, SpellDamage]</td>\n",
       "      <td>Oblivion Orb</td>\n",
       "      <td>False</td>\n",
       "      <td>1500.0</td>\n",
       "    </tr>\n",
       "  </tbody>\n",
       "</table>\n",
       "</div>"
      ],
      "text/plain": [
       "         count  pick_rate  spread   wins  win_rate  \\\n",
       "item_id                                              \n",
       "3812       177   0.019135      36  106.0  0.598870   \n",
       "3814        48   0.005189      16   26.0  0.541667   \n",
       "3905        96   0.010378      29   46.0  0.479167   \n",
       "3907        69   0.007459      28   43.0  0.623188   \n",
       "3916       159   0.017189      48   82.0  0.515723   \n",
       "\n",
       "                                                      tags           name  \\\n",
       "item_id                                                                     \n",
       "3812                [Damage, LifeSteal, CooldownReduction]  Death's Dance   \n",
       "3814            [Health, Damage, Active, ArmorPenetration]  Edge of Night   \n",
       "3905     [SpellDamage, Active, CooldownReduction, Slow,...   Twin Shadows   \n",
       "3907               [SpellDamage, Active, NonbootsMovement]    Spellbinder   \n",
       "3916               [Health, MagicPenetration, SpellDamage]   Oblivion Orb   \n",
       "\n",
       "        full_item  total_gold  \n",
       "item_id                        \n",
       "3812         True      3500.0  \n",
       "3814         True      3000.0  \n",
       "3905         True      2400.0  \n",
       "3907         True      2900.0  \n",
       "3916        False      1500.0  "
      ]
     },
     "execution_count": 4,
     "metadata": {},
     "output_type": "execute_result"
    }
   ],
   "source": [
    "item_occ.tail()"
   ]
  },
  {
   "cell_type": "markdown",
   "metadata": {},
   "source": [
    "One of the best-visualized results from my EDA was the graph of win-rate outliers.\n",
    "\n",
    "<img src='../analysis_images/win_rate_diff_abnormal.png'>"
   ]
  },
  {
   "cell_type": "markdown",
   "metadata": {},
   "source": [
    "However, I realized there is an interesting noise that can mask the correlation between balance and win rate.\n",
    "\n",
    "It involves the pick rate. In essence, if the same item is built on both teams, one of them is guaranteed to win, and one to lose, and so the win rate for that item drifts towards 0.50. The figure below illustrates this.\n",
    "\n",
    "<img src='../analysis_images/full_item_win_rate_vs_pick_rate.png'>"
   ]
  },
  {
   "cell_type": "markdown",
   "metadata": {},
   "source": [
    "The first step I would like to take in this analysis is to examine this problem more closely. \n",
    "\n",
    "I need to check the win rate of each item ONLY in games when there are more of the item built on one team than the other."
   ]
  },
  {
   "cell_type": "code",
   "execution_count": 5,
   "metadata": {},
   "outputs": [],
   "source": [
    "# Function to get the unmasked number of game results for each item\n",
    "# For a game and an item, check how many of the item each team built\n",
    "# For the team with the higher number of purchases of that item\n",
    "# Return their win result as many times as they built the item in excess of the other team\n",
    "\n",
    "# game_num should start at 0\n",
    "\n",
    "def unmask_item_wins(game_num, item_id):\n",
    "    # Inside the match dataframe\n",
    "    # Each game is sequential\n",
    "    # Each team is grouped together\n",
    "    \n",
    "    if (game_num > len(matches_df) / 10):\n",
    "        raise ValueError('Game number is out of bounds.\\\n",
    "                          There are not that many games.')\n",
    "    \n",
    "    team_1_item_count = 0\n",
    "    team_2_item_count = 0\n",
    "    \n",
    "    # See how many of the item each team built\n",
    "    team_1_items = matches_df.loc[10 * game_num : 10 * game_num + 4,\n",
    "                                  'stats.item0' : 'stats.item6']\\\n",
    "                              .stack().reset_index(drop=True).value_counts()\n",
    "    \n",
    "    team_2_items = matches_df.loc[10 * game_num + 5: 10 * game_num + 9,\n",
    "                                  'stats.item0' : 'stats.item6']\\\n",
    "                             .stack().reset_index(drop=True).value_counts()\n",
    "    \n",
    "    # Check to make sure the requested item was built at all\n",
    "    if (item_id in team_1_items):\n",
    "        team_1_item_count = team_1_items[item_id]\n",
    "    \n",
    "    if (item_id in team_2_items):\n",
    "        team_2_item_count = team_2_items[item_id]\n",
    "    \n",
    "    if (team_1_item_count + team_2_item_count == 0):\n",
    "        return []\n",
    "    \n",
    "    # Logic to return the proper value based on who won the game\n",
    "    team_1_win = matches_df.loc[10 * game_num, 'stats.win']\n",
    "    team_2_win = matches_df.loc[10 * game_num + 5, 'stats.win']\n",
    "    \n",
    "    results = []\n",
    "    \n",
    "    # Want to return the game result for each item in excess of the other team\n",
    "    if (team_1_item_count > team_2_item_count):\n",
    "        results = [team_1_win for _ in range(team_1_item_count - team_2_item_count)]\n",
    "    \n",
    "    if (team_1_item_count < team_2_item_count):\n",
    "        results = [team_2_win for _ in range(team_2_item_count - team_1_item_count)]\n",
    "        \n",
    "    return results"
   ]
  },
  {
   "cell_type": "markdown",
   "metadata": {},
   "source": [
    "Now that this loop has been run, I don't need to run it again (since I saved the table). It takes about 10 minutes, uses only a little RAM, and about 30% of my CPU."
   ]
  },
  {
   "cell_type": "code",
   "execution_count": 6,
   "metadata": {},
   "outputs": [],
   "source": [
    "# Loop to find unmasked match results\n",
    "# Will attach average win rate and std win rate to items_df\n",
    "\n",
    "for item_id in item_occ.index.values:\n",
    "    item_wins_unmasked = []\n",
    "    \n",
    "    # Get match results\n",
    "    for match in range(len(matches_df) / 10):\n",
    "        item_wins_unmasked.append(unmask_item_wins(match, item_id))\n",
    "    \n",
    "    # Concatenate results\n",
    "    # for match wins in item_wins_unmasked\n",
    "    #     for result in match wins\n",
    "    #         append(result)\n",
    "    item_wins_unmasked = [result for match_wins in item_wins_unmasked for result in match_wins]\n",
    "    count = len(item_wins_unmasked)\n",
    "    mean = np.mean(item_wins_unmasked) if count != 0 else 0\n",
    "    std = np.sqrt(mean * (1 - mean) / count) if count != 0 else 0\n",
    "    \n",
    "    item_occ.loc[item_id, 'count_unmasked'] = count\n",
    "    item_occ.loc[item_id, 'wr_unmasked'] = mean\n",
    "    item_occ.loc[item_id, 'wr_std_unmasked'] = std"
   ]
  },
  {
   "cell_type": "code",
   "execution_count": 7,
   "metadata": {},
   "outputs": [],
   "source": [
    "item_occ.to_csv('../data/item_statistics_8.22.1.csv', encoding='utf-8')"
   ]
  },
  {
   "cell_type": "code",
   "execution_count": 8,
   "metadata": {},
   "outputs": [],
   "source": [
    "item_occ = pd.read_csv('../data/item_statistics_8.22.1.csv', encoding='utf-8', index_col=0)\n",
    "item_occ['tags'] = items_df['tags']"
   ]
  },
  {
   "cell_type": "markdown",
   "metadata": {},
   "source": [
    "Now that I've updated the item statistics dataframe, lets compare the win rate and the \"unmasked\" win rate as functions of pick rate.\n",
    "\n",
    "Let's recall that we want to avoid some kinds of items."
   ]
  },
  {
   "cell_type": "code",
   "execution_count": 9,
   "metadata": {},
   "outputs": [],
   "source": [
    "consumable = [True if (type(tags) == list and 'Consumable' in tags) else False for tags in item_occ['tags']]\n",
    "\n",
    "lane_items = [True if (type(tags) == list and 'Lane' in tags) else False for tags in item_occ['tags']]\n",
    "\n",
    "boots = [True if (type(tags) == list and 'Boots' in tags) else False for tags in item_occ['tags']]\n",
    "\n",
    "trinkets = [True if (type(tags) == list and 'Trinket' in tags) else False for tags in item_occ['tags']]\n",
    "\n",
    "other_no_no_ids = [2010, 2057, 2403]\n",
    "other_edge_cases = [True if id in other_no_no_ids else False for id in item_occ.reset_index()['item_id']]\n",
    "\n",
    "edge_cases = [cons or lane or other or boot or trinket for cons, lane, other, boot, trinket in\n",
    "              zip(consumable, lane_items, other_edge_cases, boots, trinkets)]\n",
    "no_edge_cases = [not case for case in edge_cases]"
   ]
  },
  {
   "cell_type": "code",
   "execution_count": 10,
   "metadata": {},
   "outputs": [
    {
     "name": "stdout",
     "output_type": "stream",
     "text": [
      "('Average Win Rate for Full Items Across all Games:', 0.54733688708758366)\n",
      "('Average Win Rate for Full Items Over Games Without Even Item Counts', 0.56297989566848949)\n"
     ]
    }
   ],
   "source": [
    "full_items_df = item_occ[(item_occ['full_item'] == True) &\n",
    "                         (no_edge_cases) &\n",
    "                         (item_occ['count'] > 10)]\n",
    "\n",
    "full_item_avg_win_rate = (full_items_df['win_rate'] *\\\n",
    "                          full_items_df['count']).sum()\\\n",
    "                              / full_items_df['count'].sum()\n",
    "\n",
    "full_item_avg_wr_unmasked = (full_items_df['wr_unmasked'] *\\\n",
    "                             full_items_df['count_unmasked']).sum()\\\n",
    "                                 / full_items_df['count_unmasked'].sum()\n",
    "print(\"Average Win Rate for Full Items Across all Games:\", full_item_avg_win_rate)\n",
    "print(\"Average Win Rate for Full Items Over Games Without Even Item Counts\", full_item_avg_wr_unmasked)"
   ]
  },
  {
   "cell_type": "markdown",
   "metadata": {},
   "source": [
    "Here is the plot from before, Item Win Rates with the aforementioned masking."
   ]
  },
  {
   "cell_type": "code",
   "execution_count": 11,
   "metadata": {},
   "outputs": [
    {
     "data": {
      "text/plain": [
       "<matplotlib.legend.Legend at 0x10553ac8>"
      ]
     },
     "execution_count": 11,
     "metadata": {},
     "output_type": "execute_result"
    },
    {
     "data": {
      "image/png": "[encoded data removed]",
      "text/plain": [
       "<matplotlib.figure.Figure at 0xa753cc0>"
      ]
     },
     "metadata": {
      "needs_background": "light"
     },
     "output_type": "display_data"
    }
   ],
   "source": [
    "full_items_df.plot('pick_rate', 'win_rate', kind='scatter',\n",
    "                   xlim=[-0.01, 0.15], label='data',\n",
    "                   title='Win Rate vs Pick Rate')\n",
    "\n",
    "plt.plot(np.linspace(-0.01, 0.15, 50), np.full(50, full_item_avg_win_rate),\n",
    "         'r--', label='old avg win rate: 0.547')\n",
    "plt.legend()"
   ]
  },
  {
   "cell_type": "markdown",
   "metadata": {},
   "source": [
    "And here are the Item Win Rates unmasked."
   ]
  },
  {
   "cell_type": "code",
   "execution_count": 12,
   "metadata": {},
   "outputs": [
    {
     "data": {
      "image/png": "[encoded data removed]",
      "text/plain": [
       "<matplotlib.figure.Figure at 0xa726160>"
      ]
     },
     "metadata": {
      "needs_background": "light"
     },
     "output_type": "display_data"
    }
   ],
   "source": [
    "full_items_df.plot('pick_rate', 'wr_unmasked', kind='scatter',\n",
    "                   xlim=[-0.01, 0.15], label='data',\n",
    "                   title='Unmasked Win Rate vs Pick Rate')\n",
    "\n",
    "plt.plot(np.linspace(-0.01, 0.15, 50), np.full(50, full_item_avg_win_rate),\n",
    "         'r--', label='old avg win rate: 0.547')\n",
    "plt.plot(np.linspace(-0.01, 0.15, 50), np.full(50, full_item_avg_wr_unmasked),\n",
    "         'y--', label='unmasked: 0.563')\n",
    "plt.legend()\n",
    "plt.savefig('../analysis_images/um_win_rate_vs_pick_rate.png')"
   ]
  },
  {
   "cell_type": "code",
   "execution_count": 13,
   "metadata": {},
   "outputs": [
    {
     "name": "stderr",
     "output_type": "stream",
     "text": [
      "C:\\Users\\sebia\\Miniconda2\\lib\\site-packages\\ipykernel_launcher.py:1: SettingWithCopyWarning: \n",
      "A value is trying to be set on a copy of a slice from a DataFrame.\n",
      "Try using .loc[row_indexer,col_indexer] = value instead\n",
      "\n",
      "See the caveats in the documentation: http://pandas.pydata.org/pandas-docs/stable/indexing.html#indexing-view-versus-copy\n",
      "  \"\"\"Entry point for launching an IPython kernel.\n"
     ]
    }
   ],
   "source": [
    "full_items_df['unmasking_diff'] = full_items_df['wr_unmasked'] - full_items_df['win_rate']"
   ]
  },
  {
   "cell_type": "code",
   "execution_count": 14,
   "metadata": {},
   "outputs": [
    {
     "data": {
      "image/png": "[encoded data removed]",
      "text/plain": [
       "<matplotlib.figure.Figure at 0xa7b5a20>"
      ]
     },
     "metadata": {
      "needs_background": "light"
     },
     "output_type": "display_data"
    }
   ],
   "source": [
    "full_items_df.plot(x='win_rate', y='unmasking_diff', kind='scatter',\n",
    "                  title='Unmasking Pushes the Win Rate Away From 50%',\n",
    "                  xlim=[0.28, 0.82], ylim=[-0.02, 0.075])\n",
    "\n",
    "plt.ylabel('Win Rate Difference after Unmasking')\n",
    "plt.xlabel('Win Rate after Unmasking')\n",
    "\n",
    "plt.plot(np.linspace(0.3, 0.805, 50), np.full(50, 0.0), 'r--')\n",
    "plt.plot(np.full(50, 0.5), np.linspace(-0.0175, 0.07), 'r--')\n",
    "plt.savefig('../analysis_images/win_rate_unmasking.png')"
   ]
  },
  {
   "cell_type": "markdown",
   "metadata": {},
   "source": [
    "As expected, the unmasking pushed win rates away from 0.50, since the masking drew win rates into 0.50.\n",
    "\n",
    "Let's remake the plot of win rate outliers and see if it's different now."
   ]
  },
  {
   "cell_type": "code",
   "execution_count": 15,
   "metadata": {},
   "outputs": [
    {
     "name": "stderr",
     "output_type": "stream",
     "text": [
      "C:\\Users\\sebia\\Miniconda2\\lib\\site-packages\\pandas\\core\\indexing.py:362: SettingWithCopyWarning: \n",
      "A value is trying to be set on a copy of a slice from a DataFrame.\n",
      "Try using .loc[row_indexer,col_indexer] = value instead\n",
      "\n",
      "See the caveats in the documentation: http://pandas.pydata.org/pandas-docs/stable/indexing.html#indexing-view-versus-copy\n",
      "  self.obj[key] = _infer_fill_value(value)\n",
      "C:\\Users\\sebia\\Miniconda2\\lib\\site-packages\\pandas\\core\\indexing.py:543: SettingWithCopyWarning: \n",
      "A value is trying to be set on a copy of a slice from a DataFrame.\n",
      "Try using .loc[row_indexer,col_indexer] = value instead\n",
      "\n",
      "See the caveats in the documentation: http://pandas.pydata.org/pandas-docs/stable/indexing.html#indexing-view-versus-copy\n",
      "  self.obj[item] = s\n"
     ]
    }
   ],
   "source": [
    "wr_stats_df = item_occ[['count', 'pick_rate', 'spread', 'wins', 'win_rate',\n",
    "                        'count_unmasked', 'wr_unmasked', 'wr_std_unmasked',\n",
    "                        'full_item', 'name', 'total_gold', 'tags']]\n",
    "\n",
    "wr_stats_df.loc[:, 'wr_diff'] = wr_stats_df['win_rate'] - full_item_avg_win_rate\n",
    "wr_stats_df.loc[:, 'wr_std'] = np.sqrt(full_item_avg_win_rate * (1 - full_item_avg_win_rate) \n",
    "                                / wr_stats_df['count'])\n",
    "wr_stats_df.loc[:, 'CI95'] = wr_stats_df['wr_std'] * 1.96\n",
    "\n",
    "wr_stats_df.loc[:, 'wr_um_diff'] = wr_stats_df['wr_unmasked'] - full_item_avg_wr_unmasked\n",
    "wr_stats_df.loc[:, 'CI95_um'] = wr_stats_df['wr_std_unmasked'] * 1.96"
   ]
  },
  {
   "cell_type": "code",
   "execution_count": 16,
   "metadata": {
    "scrolled": true
   },
   "outputs": [
    {
     "data": {
      "text/html": [
       "<div>\n",
       "<style scoped>\n",
       "    .dataframe tbody tr th:only-of-type {\n",
       "        vertical-align: middle;\n",
       "    }\n",
       "\n",
       "    .dataframe tbody tr th {\n",
       "        vertical-align: top;\n",
       "    }\n",
       "\n",
       "    .dataframe thead th {\n",
       "        text-align: right;\n",
       "    }\n",
       "</style>\n",
       "<table border=\"1\" class=\"dataframe\">\n",
       "  <thead>\n",
       "    <tr style=\"text-align: right;\">\n",
       "      <th></th>\n",
       "      <th>count</th>\n",
       "      <th>pick_rate</th>\n",
       "      <th>spread</th>\n",
       "      <th>wins</th>\n",
       "      <th>win_rate</th>\n",
       "      <th>count_unmasked</th>\n",
       "      <th>wr_unmasked</th>\n",
       "      <th>wr_std_unmasked</th>\n",
       "      <th>full_item</th>\n",
       "      <th>name</th>\n",
       "      <th>total_gold</th>\n",
       "      <th>tags</th>\n",
       "      <th>wr_diff</th>\n",
       "      <th>wr_std</th>\n",
       "      <th>CI95</th>\n",
       "      <th>wr_um_diff</th>\n",
       "      <th>CI95_um</th>\n",
       "    </tr>\n",
       "    <tr>\n",
       "      <th>item_id</th>\n",
       "      <th></th>\n",
       "      <th></th>\n",
       "      <th></th>\n",
       "      <th></th>\n",
       "      <th></th>\n",
       "      <th></th>\n",
       "      <th></th>\n",
       "      <th></th>\n",
       "      <th></th>\n",
       "      <th></th>\n",
       "      <th></th>\n",
       "      <th></th>\n",
       "      <th></th>\n",
       "      <th></th>\n",
       "      <th></th>\n",
       "      <th></th>\n",
       "      <th></th>\n",
       "    </tr>\n",
       "  </thead>\n",
       "  <tbody>\n",
       "    <tr>\n",
       "      <th>0</th>\n",
       "      <td>5659</td>\n",
       "      <td>0.611784</td>\n",
       "      <td>141</td>\n",
       "      <td>2400.0</td>\n",
       "      <td>0.424103</td>\n",
       "      <td>1751.0</td>\n",
       "      <td>0.254712</td>\n",
       "      <td>0.010412</td>\n",
       "      <td>NaN</td>\n",
       "      <td>NaN</td>\n",
       "      <td>NaN</td>\n",
       "      <td>NaN</td>\n",
       "      <td>-0.123234</td>\n",
       "      <td>0.006617</td>\n",
       "      <td>0.012969</td>\n",
       "      <td>-0.308268</td>\n",
       "      <td>0.020408</td>\n",
       "    </tr>\n",
       "    <tr>\n",
       "      <th>1001</th>\n",
       "      <td>459</td>\n",
       "      <td>0.049622</td>\n",
       "      <td>113</td>\n",
       "      <td>159.0</td>\n",
       "      <td>0.346405</td>\n",
       "      <td>297.0</td>\n",
       "      <td>0.262626</td>\n",
       "      <td>0.025535</td>\n",
       "      <td>False</td>\n",
       "      <td>Boots of Speed</td>\n",
       "      <td>300.0</td>\n",
       "      <td>[Boots]</td>\n",
       "      <td>-0.200932</td>\n",
       "      <td>0.023233</td>\n",
       "      <td>0.045537</td>\n",
       "      <td>-0.300354</td>\n",
       "      <td>0.050048</td>\n",
       "    </tr>\n",
       "    <tr>\n",
       "      <th>1004</th>\n",
       "      <td>78</td>\n",
       "      <td>0.008432</td>\n",
       "      <td>23</td>\n",
       "      <td>28.0</td>\n",
       "      <td>0.358974</td>\n",
       "      <td>70.0</td>\n",
       "      <td>0.342857</td>\n",
       "      <td>0.056733</td>\n",
       "      <td>False</td>\n",
       "      <td>Faerie Charm</td>\n",
       "      <td>125.0</td>\n",
       "      <td>[ManaRegen]</td>\n",
       "      <td>-0.188363</td>\n",
       "      <td>0.056360</td>\n",
       "      <td>0.110465</td>\n",
       "      <td>-0.220123</td>\n",
       "      <td>0.111197</td>\n",
       "    </tr>\n",
       "    <tr>\n",
       "      <th>1006</th>\n",
       "      <td>46</td>\n",
       "      <td>0.004973</td>\n",
       "      <td>27</td>\n",
       "      <td>18.0</td>\n",
       "      <td>0.391304</td>\n",
       "      <td>42.0</td>\n",
       "      <td>0.380952</td>\n",
       "      <td>0.074933</td>\n",
       "      <td>False</td>\n",
       "      <td>Rejuvenation Bead</td>\n",
       "      <td>150.0</td>\n",
       "      <td>[HealthRegen]</td>\n",
       "      <td>-0.156033</td>\n",
       "      <td>0.073390</td>\n",
       "      <td>0.143844</td>\n",
       "      <td>-0.182028</td>\n",
       "      <td>0.146869</td>\n",
       "    </tr>\n",
       "    <tr>\n",
       "      <th>1011</th>\n",
       "      <td>269</td>\n",
       "      <td>0.029081</td>\n",
       "      <td>70</td>\n",
       "      <td>129.0</td>\n",
       "      <td>0.479554</td>\n",
       "      <td>235.0</td>\n",
       "      <td>0.476596</td>\n",
       "      <td>0.032581</td>\n",
       "      <td>False</td>\n",
       "      <td>Giant's Belt</td>\n",
       "      <td>1000.0</td>\n",
       "      <td>[Health]</td>\n",
       "      <td>-0.067783</td>\n",
       "      <td>0.030349</td>\n",
       "      <td>0.059483</td>\n",
       "      <td>-0.086384</td>\n",
       "      <td>0.063858</td>\n",
       "    </tr>\n",
       "  </tbody>\n",
       "</table>\n",
       "</div>"
      ],
      "text/plain": [
       "         count  pick_rate  spread    wins  win_rate  count_unmasked  \\\n",
       "item_id                                                               \n",
       "0         5659   0.611784     141  2400.0  0.424103          1751.0   \n",
       "1001       459   0.049622     113   159.0  0.346405           297.0   \n",
       "1004        78   0.008432      23    28.0  0.358974            70.0   \n",
       "1006        46   0.004973      27    18.0  0.391304            42.0   \n",
       "1011       269   0.029081      70   129.0  0.479554           235.0   \n",
       "\n",
       "         wr_unmasked  wr_std_unmasked full_item               name  \\\n",
       "item_id                                                              \n",
       "0           0.254712         0.010412       NaN                NaN   \n",
       "1001        0.262626         0.025535     False     Boots of Speed   \n",
       "1004        0.342857         0.056733     False       Faerie Charm   \n",
       "1006        0.380952         0.074933     False  Rejuvenation Bead   \n",
       "1011        0.476596         0.032581     False       Giant's Belt   \n",
       "\n",
       "         total_gold           tags   wr_diff    wr_std      CI95  wr_um_diff  \\\n",
       "item_id                                                                        \n",
       "0               NaN            NaN -0.123234  0.006617  0.012969   -0.308268   \n",
       "1001          300.0        [Boots] -0.200932  0.023233  0.045537   -0.300354   \n",
       "1004          125.0    [ManaRegen] -0.188363  0.056360  0.110465   -0.220123   \n",
       "1006          150.0  [HealthRegen] -0.156033  0.073390  0.143844   -0.182028   \n",
       "1011         1000.0       [Health] -0.067783  0.030349  0.059483   -0.086384   \n",
       "\n",
       "          CI95_um  \n",
       "item_id            \n",
       "0        0.020408  \n",
       "1001     0.050048  \n",
       "1004     0.111197  \n",
       "1006     0.146869  \n",
       "1011     0.063858  "
      ]
     },
     "execution_count": 16,
     "metadata": {},
     "output_type": "execute_result"
    }
   ],
   "source": [
    "wr_stats_df.head()"
   ]
  },
  {
   "cell_type": "code",
   "execution_count": 17,
   "metadata": {
    "scrolled": false
   },
   "outputs": [
    {
     "data": {
      "image/png": "[encoded data removed]",
      "text/plain": [
       "<matplotlib.figure.Figure at 0x1057fac8>"
      ]
     },
     "metadata": {
      "needs_background": "light"
     },
     "output_type": "display_data"
    }
   ],
   "source": [
    "plt.rcParams[\"figure.figsize\"] = (12, 6)\n",
    "wr_stats_df[(wr_stats_df['full_item'] == True) &\n",
    "            (no_edge_cases) &\n",
    "            (wr_stats_df['count_unmasked'] > 10) &\n",
    "            (wr_stats_df['wr_um_diff'].abs() > wr_stats_df['CI95_um'])\n",
    "           ].plot(y='wr_um_diff', x='name', kind='barh',\n",
    "                        xerr='wr_std_unmasked', color='cyan',\n",
    "                        title='Items w/ Anomalous Win Rates after Unmasking')\n",
    "\n",
    "plt.xlabel('Win Rate Difference From Avg (0.563)')\n",
    "plt.ylabel('Item Name')\n",
    "plt.tight_layout()\n",
    "plt.savefig('../analysis_images/wr_diff_unmasked_abnormal.png')"
   ]
  },
  {
   "cell_type": "code",
   "execution_count": 18,
   "metadata": {
    "scrolled": true
   },
   "outputs": [
    {
     "data": {
      "text/html": [
       "<div>\n",
       "<style scoped>\n",
       "    .dataframe tbody tr th:only-of-type {\n",
       "        vertical-align: middle;\n",
       "    }\n",
       "\n",
       "    .dataframe tbody tr th {\n",
       "        vertical-align: top;\n",
       "    }\n",
       "\n",
       "    .dataframe thead th {\n",
       "        text-align: right;\n",
       "    }\n",
       "</style>\n",
       "<table border=\"1\" class=\"dataframe\">\n",
       "  <thead>\n",
       "    <tr style=\"text-align: right;\">\n",
       "      <th></th>\n",
       "      <th>count</th>\n",
       "      <th>pick_rate</th>\n",
       "      <th>spread</th>\n",
       "      <th>wins</th>\n",
       "      <th>win_rate</th>\n",
       "      <th>count_unmasked</th>\n",
       "      <th>wr_unmasked</th>\n",
       "      <th>wr_std_unmasked</th>\n",
       "      <th>full_item</th>\n",
       "      <th>name</th>\n",
       "      <th>total_gold</th>\n",
       "      <th>tags</th>\n",
       "      <th>wr_diff</th>\n",
       "      <th>wr_std</th>\n",
       "      <th>CI95</th>\n",
       "      <th>wr_um_diff</th>\n",
       "      <th>CI95_um</th>\n",
       "    </tr>\n",
       "    <tr>\n",
       "      <th>item_id</th>\n",
       "      <th></th>\n",
       "      <th></th>\n",
       "      <th></th>\n",
       "      <th></th>\n",
       "      <th></th>\n",
       "      <th></th>\n",
       "      <th></th>\n",
       "      <th></th>\n",
       "      <th></th>\n",
       "      <th></th>\n",
       "      <th></th>\n",
       "      <th></th>\n",
       "      <th></th>\n",
       "      <th></th>\n",
       "      <th></th>\n",
       "      <th></th>\n",
       "      <th></th>\n",
       "    </tr>\n",
       "  </thead>\n",
       "  <tbody>\n",
       "    <tr>\n",
       "      <th>1400</th>\n",
       "      <td>359</td>\n",
       "      <td>0.038811</td>\n",
       "      <td>23</td>\n",
       "      <td>179.0</td>\n",
       "      <td>0.498607</td>\n",
       "      <td>295.0</td>\n",
       "      <td>0.498305</td>\n",
       "      <td>0.029111</td>\n",
       "      <td>True</td>\n",
       "      <td>Enchantment: Warrior</td>\n",
       "      <td>2625.0</td>\n",
       "      <td>[]</td>\n",
       "      <td>-0.048730</td>\n",
       "      <td>0.026270</td>\n",
       "      <td>0.051490</td>\n",
       "      <td>-0.064675</td>\n",
       "      <td>0.057057</td>\n",
       "    </tr>\n",
       "    <tr>\n",
       "      <th>1401</th>\n",
       "      <td>215</td>\n",
       "      <td>0.023243</td>\n",
       "      <td>26</td>\n",
       "      <td>100.0</td>\n",
       "      <td>0.465116</td>\n",
       "      <td>185.0</td>\n",
       "      <td>0.459459</td>\n",
       "      <td>0.036640</td>\n",
       "      <td>True</td>\n",
       "      <td>Enchantment: Cinderhulk</td>\n",
       "      <td>2500.0</td>\n",
       "      <td>[]</td>\n",
       "      <td>-0.082221</td>\n",
       "      <td>0.033947</td>\n",
       "      <td>0.066535</td>\n",
       "      <td>-0.103520</td>\n",
       "      <td>0.071814</td>\n",
       "    </tr>\n",
       "    <tr>\n",
       "      <th>1402</th>\n",
       "      <td>180</td>\n",
       "      <td>0.019459</td>\n",
       "      <td>23</td>\n",
       "      <td>82.0</td>\n",
       "      <td>0.455556</td>\n",
       "      <td>162.0</td>\n",
       "      <td>0.450617</td>\n",
       "      <td>0.039092</td>\n",
       "      <td>True</td>\n",
       "      <td>Enchantment: Runic Echoes</td>\n",
       "      <td>2625.0</td>\n",
       "      <td>[]</td>\n",
       "      <td>-0.091781</td>\n",
       "      <td>0.037100</td>\n",
       "      <td>0.072717</td>\n",
       "      <td>-0.112363</td>\n",
       "      <td>0.076620</td>\n",
       "    </tr>\n",
       "    <tr>\n",
       "      <th>1413</th>\n",
       "      <td>106</td>\n",
       "      <td>0.011459</td>\n",
       "      <td>22</td>\n",
       "      <td>45.0</td>\n",
       "      <td>0.424528</td>\n",
       "      <td>94.0</td>\n",
       "      <td>0.414894</td>\n",
       "      <td>0.050819</td>\n",
       "      <td>True</td>\n",
       "      <td>Enchantment: Cinderhulk</td>\n",
       "      <td>2500.0</td>\n",
       "      <td>[]</td>\n",
       "      <td>-0.122809</td>\n",
       "      <td>0.048346</td>\n",
       "      <td>0.094758</td>\n",
       "      <td>-0.148086</td>\n",
       "      <td>0.099604</td>\n",
       "    </tr>\n",
       "    <tr>\n",
       "      <th>3004</th>\n",
       "      <td>13</td>\n",
       "      <td>0.001405</td>\n",
       "      <td>3</td>\n",
       "      <td>4.0</td>\n",
       "      <td>0.307692</td>\n",
       "      <td>13.0</td>\n",
       "      <td>0.307692</td>\n",
       "      <td>0.128008</td>\n",
       "      <td>True</td>\n",
       "      <td>Manamune</td>\n",
       "      <td>2400.0</td>\n",
       "      <td>[Damage, Mana, ManaRegen, OnHit]</td>\n",
       "      <td>-0.239645</td>\n",
       "      <td>0.138052</td>\n",
       "      <td>0.270582</td>\n",
       "      <td>-0.255288</td>\n",
       "      <td>0.250895</td>\n",
       "    </tr>\n",
       "    <tr>\n",
       "      <th>3026</th>\n",
       "      <td>503</td>\n",
       "      <td>0.054378</td>\n",
       "      <td>60</td>\n",
       "      <td>307.0</td>\n",
       "      <td>0.610338</td>\n",
       "      <td>311.0</td>\n",
       "      <td>0.678457</td>\n",
       "      <td>0.026485</td>\n",
       "      <td>True</td>\n",
       "      <td>Guardian Angel</td>\n",
       "      <td>2800.0</td>\n",
       "      <td>[Armor, Damage]</td>\n",
       "      <td>0.063001</td>\n",
       "      <td>0.022194</td>\n",
       "      <td>0.043500</td>\n",
       "      <td>0.115477</td>\n",
       "      <td>0.051911</td>\n",
       "    </tr>\n",
       "    <tr>\n",
       "      <th>3031</th>\n",
       "      <td>697</td>\n",
       "      <td>0.075351</td>\n",
       "      <td>25</td>\n",
       "      <td>412.0</td>\n",
       "      <td>0.591105</td>\n",
       "      <td>413.0</td>\n",
       "      <td>0.653753</td>\n",
       "      <td>0.023411</td>\n",
       "      <td>True</td>\n",
       "      <td>Infinity Edge</td>\n",
       "      <td>3400.0</td>\n",
       "      <td>[CriticalStrike, Damage]</td>\n",
       "      <td>0.043768</td>\n",
       "      <td>0.018854</td>\n",
       "      <td>0.036953</td>\n",
       "      <td>0.090773</td>\n",
       "      <td>0.045886</td>\n",
       "    </tr>\n",
       "    <tr>\n",
       "      <th>3041</th>\n",
       "      <td>123</td>\n",
       "      <td>0.013297</td>\n",
       "      <td>45</td>\n",
       "      <td>98.0</td>\n",
       "      <td>0.796748</td>\n",
       "      <td>119.0</td>\n",
       "      <td>0.806723</td>\n",
       "      <td>0.036198</td>\n",
       "      <td>True</td>\n",
       "      <td>Mejai's Soulstealer</td>\n",
       "      <td>1400.0</td>\n",
       "      <td>[SpellDamage, Mana]</td>\n",
       "      <td>0.249411</td>\n",
       "      <td>0.044881</td>\n",
       "      <td>0.087967</td>\n",
       "      <td>0.243743</td>\n",
       "      <td>0.070947</td>\n",
       "    </tr>\n",
       "    <tr>\n",
       "      <th>3042</th>\n",
       "      <td>151</td>\n",
       "      <td>0.016324</td>\n",
       "      <td>4</td>\n",
       "      <td>67.0</td>\n",
       "      <td>0.443709</td>\n",
       "      <td>151.0</td>\n",
       "      <td>0.443709</td>\n",
       "      <td>0.040431</td>\n",
       "      <td>True</td>\n",
       "      <td>Muramana</td>\n",
       "      <td>2400.0</td>\n",
       "      <td>[OnHit]</td>\n",
       "      <td>-0.103628</td>\n",
       "      <td>0.040507</td>\n",
       "      <td>0.079393</td>\n",
       "      <td>-0.119271</td>\n",
       "      <td>0.079244</td>\n",
       "    </tr>\n",
       "    <tr>\n",
       "      <th>3050</th>\n",
       "      <td>140</td>\n",
       "      <td>0.015135</td>\n",
       "      <td>19</td>\n",
       "      <td>93.0</td>\n",
       "      <td>0.664286</td>\n",
       "      <td>118.0</td>\n",
       "      <td>0.694915</td>\n",
       "      <td>0.042387</td>\n",
       "      <td>True</td>\n",
       "      <td>Zeke's Convergence</td>\n",
       "      <td>2250.0</td>\n",
       "      <td>[SpellBlock, Armor, Mana, Aura, Active, Cooldo...</td>\n",
       "      <td>0.116949</td>\n",
       "      <td>0.042068</td>\n",
       "      <td>0.082453</td>\n",
       "      <td>0.131935</td>\n",
       "      <td>0.083079</td>\n",
       "    </tr>\n",
       "    <tr>\n",
       "      <th>3053</th>\n",
       "      <td>399</td>\n",
       "      <td>0.043135</td>\n",
       "      <td>41</td>\n",
       "      <td>241.0</td>\n",
       "      <td>0.604010</td>\n",
       "      <td>293.0</td>\n",
       "      <td>0.641638</td>\n",
       "      <td>0.028014</td>\n",
       "      <td>True</td>\n",
       "      <td>Sterak's Gage</td>\n",
       "      <td>3200.0</td>\n",
       "      <td>[Health, Damage]</td>\n",
       "      <td>0.056673</td>\n",
       "      <td>0.024919</td>\n",
       "      <td>0.048841</td>\n",
       "      <td>0.078658</td>\n",
       "      <td>0.054907</td>\n",
       "    </tr>\n",
       "    <tr>\n",
       "      <th>3069</th>\n",
       "      <td>228</td>\n",
       "      <td>0.024649</td>\n",
       "      <td>16</td>\n",
       "      <td>103.0</td>\n",
       "      <td>0.451754</td>\n",
       "      <td>208.0</td>\n",
       "      <td>0.447115</td>\n",
       "      <td>0.034474</td>\n",
       "      <td>True</td>\n",
       "      <td>Remnant of the Ascended</td>\n",
       "      <td>1500.0</td>\n",
       "      <td>[Health, HealthRegen, ManaRegen, Active, GoldP...</td>\n",
       "      <td>-0.095583</td>\n",
       "      <td>0.032965</td>\n",
       "      <td>0.064611</td>\n",
       "      <td>-0.115865</td>\n",
       "      <td>0.067570</td>\n",
       "    </tr>\n",
       "    <tr>\n",
       "      <th>3078</th>\n",
       "      <td>798</td>\n",
       "      <td>0.086270</td>\n",
       "      <td>40</td>\n",
       "      <td>408.0</td>\n",
       "      <td>0.511278</td>\n",
       "      <td>540.0</td>\n",
       "      <td>0.516667</td>\n",
       "      <td>0.021505</td>\n",
       "      <td>True</td>\n",
       "      <td>Trinity Force</td>\n",
       "      <td>3733.0</td>\n",
       "      <td>[Health, Damage, AttackSpeed, Mana, CooldownRe...</td>\n",
       "      <td>-0.036059</td>\n",
       "      <td>0.017620</td>\n",
       "      <td>0.034536</td>\n",
       "      <td>-0.046313</td>\n",
       "      <td>0.042149</td>\n",
       "    </tr>\n",
       "    <tr>\n",
       "      <th>3087</th>\n",
       "      <td>190</td>\n",
       "      <td>0.020541</td>\n",
       "      <td>29</td>\n",
       "      <td>116.0</td>\n",
       "      <td>0.610526</td>\n",
       "      <td>148.0</td>\n",
       "      <td>0.641892</td>\n",
       "      <td>0.039410</td>\n",
       "      <td>True</td>\n",
       "      <td>Statikk Shiv</td>\n",
       "      <td>2800.0</td>\n",
       "      <td>[AttackSpeed, CriticalStrike, NonbootsMovement...</td>\n",
       "      <td>0.063189</td>\n",
       "      <td>0.036111</td>\n",
       "      <td>0.070777</td>\n",
       "      <td>0.078912</td>\n",
       "      <td>0.077244</td>\n",
       "    </tr>\n",
       "    <tr>\n",
       "      <th>3089</th>\n",
       "      <td>414</td>\n",
       "      <td>0.044757</td>\n",
       "      <td>60</td>\n",
       "      <td>260.0</td>\n",
       "      <td>0.628019</td>\n",
       "      <td>296.0</td>\n",
       "      <td>0.679054</td>\n",
       "      <td>0.027135</td>\n",
       "      <td>True</td>\n",
       "      <td>Rabadon's Deathcap</td>\n",
       "      <td>3600.0</td>\n",
       "      <td>[SpellDamage]</td>\n",
       "      <td>0.080682</td>\n",
       "      <td>0.024463</td>\n",
       "      <td>0.047948</td>\n",
       "      <td>0.116074</td>\n",
       "      <td>0.053184</td>\n",
       "    </tr>\n",
       "    <tr>\n",
       "      <th>3151</th>\n",
       "      <td>387</td>\n",
       "      <td>0.041838</td>\n",
       "      <td>48</td>\n",
       "      <td>230.0</td>\n",
       "      <td>0.594315</td>\n",
       "      <td>299.0</td>\n",
       "      <td>0.622074</td>\n",
       "      <td>0.028041</td>\n",
       "      <td>True</td>\n",
       "      <td>Liandry's Torment</td>\n",
       "      <td>3100.0</td>\n",
       "      <td>[Health, SpellDamage]</td>\n",
       "      <td>0.046978</td>\n",
       "      <td>0.025302</td>\n",
       "      <td>0.049592</td>\n",
       "      <td>0.059094</td>\n",
       "      <td>0.054960</td>\n",
       "    </tr>\n",
       "    <tr>\n",
       "      <th>3152</th>\n",
       "      <td>240</td>\n",
       "      <td>0.025946</td>\n",
       "      <td>27</td>\n",
       "      <td>119.0</td>\n",
       "      <td>0.495833</td>\n",
       "      <td>216.0</td>\n",
       "      <td>0.495370</td>\n",
       "      <td>0.034019</td>\n",
       "      <td>True</td>\n",
       "      <td>Hextech Protobelt-01</td>\n",
       "      <td>2500.0</td>\n",
       "      <td>[Health, SpellDamage, Active, CooldownReduction]</td>\n",
       "      <td>-0.051504</td>\n",
       "      <td>0.032130</td>\n",
       "      <td>0.062975</td>\n",
       "      <td>-0.067610</td>\n",
       "      <td>0.066678</td>\n",
       "    </tr>\n",
       "    <tr>\n",
       "      <th>3194</th>\n",
       "      <td>95</td>\n",
       "      <td>0.010270</td>\n",
       "      <td>43</td>\n",
       "      <td>41.0</td>\n",
       "      <td>0.431579</td>\n",
       "      <td>91.0</td>\n",
       "      <td>0.428571</td>\n",
       "      <td>0.051877</td>\n",
       "      <td>True</td>\n",
       "      <td>Adaptive Helm</td>\n",
       "      <td>2800.0</td>\n",
       "      <td>[Health, SpellBlock, HealthRegen, CooldownRedu...</td>\n",
       "      <td>-0.115758</td>\n",
       "      <td>0.051069</td>\n",
       "      <td>0.100094</td>\n",
       "      <td>-0.134408</td>\n",
       "      <td>0.101678</td>\n",
       "    </tr>\n",
       "  </tbody>\n",
       "</table>\n",
       "</div>"
      ],
      "text/plain": [
       "         count  pick_rate  spread   wins  win_rate  count_unmasked  \\\n",
       "item_id                                                              \n",
       "1400       359   0.038811      23  179.0  0.498607           295.0   \n",
       "1401       215   0.023243      26  100.0  0.465116           185.0   \n",
       "1402       180   0.019459      23   82.0  0.455556           162.0   \n",
       "1413       106   0.011459      22   45.0  0.424528            94.0   \n",
       "3004        13   0.001405       3    4.0  0.307692            13.0   \n",
       "3026       503   0.054378      60  307.0  0.610338           311.0   \n",
       "3031       697   0.075351      25  412.0  0.591105           413.0   \n",
       "3041       123   0.013297      45   98.0  0.796748           119.0   \n",
       "3042       151   0.016324       4   67.0  0.443709           151.0   \n",
       "3050       140   0.015135      19   93.0  0.664286           118.0   \n",
       "3053       399   0.043135      41  241.0  0.604010           293.0   \n",
       "3069       228   0.024649      16  103.0  0.451754           208.0   \n",
       "3078       798   0.086270      40  408.0  0.511278           540.0   \n",
       "3087       190   0.020541      29  116.0  0.610526           148.0   \n",
       "3089       414   0.044757      60  260.0  0.628019           296.0   \n",
       "3151       387   0.041838      48  230.0  0.594315           299.0   \n",
       "3152       240   0.025946      27  119.0  0.495833           216.0   \n",
       "3194        95   0.010270      43   41.0  0.431579            91.0   \n",
       "\n",
       "         wr_unmasked  wr_std_unmasked full_item                       name  \\\n",
       "item_id                                                                      \n",
       "1400        0.498305         0.029111      True       Enchantment: Warrior   \n",
       "1401        0.459459         0.036640      True    Enchantment: Cinderhulk   \n",
       "1402        0.450617         0.039092      True  Enchantment: Runic Echoes   \n",
       "1413        0.414894         0.050819      True    Enchantment: Cinderhulk   \n",
       "3004        0.307692         0.128008      True                   Manamune   \n",
       "3026        0.678457         0.026485      True             Guardian Angel   \n",
       "3031        0.653753         0.023411      True              Infinity Edge   \n",
       "3041        0.806723         0.036198      True        Mejai's Soulstealer   \n",
       "3042        0.443709         0.040431      True                   Muramana   \n",
       "3050        0.694915         0.042387      True         Zeke's Convergence   \n",
       "3053        0.641638         0.028014      True              Sterak's Gage   \n",
       "3069        0.447115         0.034474      True    Remnant of the Ascended   \n",
       "3078        0.516667         0.021505      True              Trinity Force   \n",
       "3087        0.641892         0.039410      True               Statikk Shiv   \n",
       "3089        0.679054         0.027135      True         Rabadon's Deathcap   \n",
       "3151        0.622074         0.028041      True          Liandry's Torment   \n",
       "3152        0.495370         0.034019      True       Hextech Protobelt-01   \n",
       "3194        0.428571         0.051877      True              Adaptive Helm   \n",
       "\n",
       "         total_gold                                               tags  \\\n",
       "item_id                                                                  \n",
       "1400         2625.0                                                 []   \n",
       "1401         2500.0                                                 []   \n",
       "1402         2625.0                                                 []   \n",
       "1413         2500.0                                                 []   \n",
       "3004         2400.0                   [Damage, Mana, ManaRegen, OnHit]   \n",
       "3026         2800.0                                    [Armor, Damage]   \n",
       "3031         3400.0                           [CriticalStrike, Damage]   \n",
       "3041         1400.0                                [SpellDamage, Mana]   \n",
       "3042         2400.0                                            [OnHit]   \n",
       "3050         2250.0  [SpellBlock, Armor, Mana, Aura, Active, Cooldo...   \n",
       "3053         3200.0                                   [Health, Damage]   \n",
       "3069         1500.0  [Health, HealthRegen, ManaRegen, Active, GoldP...   \n",
       "3078         3733.0  [Health, Damage, AttackSpeed, Mana, CooldownRe...   \n",
       "3087         2800.0  [AttackSpeed, CriticalStrike, NonbootsMovement...   \n",
       "3089         3600.0                                      [SpellDamage]   \n",
       "3151         3100.0                              [Health, SpellDamage]   \n",
       "3152         2500.0   [Health, SpellDamage, Active, CooldownReduction]   \n",
       "3194         2800.0  [Health, SpellBlock, HealthRegen, CooldownRedu...   \n",
       "\n",
       "          wr_diff    wr_std      CI95  wr_um_diff   CI95_um  \n",
       "item_id                                                      \n",
       "1400    -0.048730  0.026270  0.051490   -0.064675  0.057057  \n",
       "1401    -0.082221  0.033947  0.066535   -0.103520  0.071814  \n",
       "1402    -0.091781  0.037100  0.072717   -0.112363  0.076620  \n",
       "1413    -0.122809  0.048346  0.094758   -0.148086  0.099604  \n",
       "3004    -0.239645  0.138052  0.270582   -0.255288  0.250895  \n",
       "3026     0.063001  0.022194  0.043500    0.115477  0.051911  \n",
       "3031     0.043768  0.018854  0.036953    0.090773  0.045886  \n",
       "3041     0.249411  0.044881  0.087967    0.243743  0.070947  \n",
       "3042    -0.103628  0.040507  0.079393   -0.119271  0.079244  \n",
       "3050     0.116949  0.042068  0.082453    0.131935  0.083079  \n",
       "3053     0.056673  0.024919  0.048841    0.078658  0.054907  \n",
       "3069    -0.095583  0.032965  0.064611   -0.115865  0.067570  \n",
       "3078    -0.036059  0.017620  0.034536   -0.046313  0.042149  \n",
       "3087     0.063189  0.036111  0.070777    0.078912  0.077244  \n",
       "3089     0.080682  0.024463  0.047948    0.116074  0.053184  \n",
       "3151     0.046978  0.025302  0.049592    0.059094  0.054960  \n",
       "3152    -0.051504  0.032130  0.062975   -0.067610  0.066678  \n",
       "3194    -0.115758  0.051069  0.100094   -0.134408  0.101678  "
      ]
     },
     "execution_count": 18,
     "metadata": {},
     "output_type": "execute_result"
    }
   ],
   "source": [
    "wr_stats_df[(wr_stats_df['full_item'] == True) &\n",
    "            (no_edge_cases) &\n",
    "            (wr_stats_df['count_unmasked'] > 10) &\n",
    "            (wr_stats_df['wr_um_diff'].abs() > wr_stats_df['CI95_um'])\n",
    "           ]"
   ]
  },
  {
   "cell_type": "markdown",
   "metadata": {},
   "source": [
    "From the first win rate abnormality plot, the suspect items were (in order of win rate abnormality) (the average win rate occurs between Infinity Edge and Trinity Force):"
   ]
  },
  {
   "cell_type": "code",
   "execution_count": 19,
   "metadata": {},
   "outputs": [
    {
     "data": {
      "text/plain": [
       "item_id\n",
       "3041          Mejai's Soulstealer\n",
       "3050           Zeke's Convergence\n",
       "3089           Rabadon's Deathcap\n",
       "3026               Guardian Angel\n",
       "3053                Sterak's Gage\n",
       "3031                Infinity Edge\n",
       "3078                Trinity Force\n",
       "1401      Enchantment: Cinderhulk\n",
       "1402    Enchantment: Runic Echoes\n",
       "3069      Remnant of the Ascended\n",
       "3042                     Muramana\n",
       "3194                Adaptive Helm\n",
       "1413      Enchantment: Cinderhulk\n",
       "Name: name, dtype: object"
      ]
     },
     "execution_count": 19,
     "metadata": {},
     "output_type": "execute_result"
    }
   ],
   "source": [
    "abnormal_items = wr_stats_df[(wr_stats_df['full_item'] == True) &\n",
    "                             (no_edge_cases) &\n",
    "                             (wr_stats_df['count'] > 10) &\n",
    "                             (wr_stats_df['wr_diff'].abs() > wr_stats_df['CI95'])\n",
    "                            ].sort_values('wr_diff', ascending=False)['name']\n",
    "abnormal_items"
   ]
  },
  {
   "cell_type": "markdown",
   "metadata": {},
   "source": [
    "This second check on win rate has found the following items (in order of win rate abnormality) (the average win rate occurs between Liandry's Torment and Trinity Force):"
   ]
  },
  {
   "cell_type": "code",
   "execution_count": 20,
   "metadata": {},
   "outputs": [
    {
     "data": {
      "text/plain": [
       "item_id\n",
       "3041          Mejai's Soulstealer\n",
       "3050           Zeke's Convergence\n",
       "3089           Rabadon's Deathcap\n",
       "3026               Guardian Angel\n",
       "3031                Infinity Edge\n",
       "3087                 Statikk Shiv\n",
       "3053                Sterak's Gage\n",
       "3151            Liandry's Torment\n",
       "3078                Trinity Force\n",
       "1400         Enchantment: Warrior\n",
       "3152         Hextech Protobelt-01\n",
       "1401      Enchantment: Cinderhulk\n",
       "1402    Enchantment: Runic Echoes\n",
       "3069      Remnant of the Ascended\n",
       "3042                     Muramana\n",
       "3194                Adaptive Helm\n",
       "1413      Enchantment: Cinderhulk\n",
       "3004                     Manamune\n",
       "Name: name, dtype: object"
      ]
     },
     "execution_count": 20,
     "metadata": {},
     "output_type": "execute_result"
    }
   ],
   "source": [
    "abnormal_items_um = wr_stats_df[(wr_stats_df['full_item'] == True) &\n",
    "                                (no_edge_cases) &\n",
    "                                (wr_stats_df['count_unmasked'] > 10) &\n",
    "                                (wr_stats_df['wr_um_diff'].abs() > wr_stats_df['CI95_um'])\n",
    "                               ].sort_values('wr_um_diff', ascending=False)['name']\n",
    "abnormal_items_um"
   ]
  },
  {
   "cell_type": "markdown",
   "metadata": {},
   "source": [
    "Item ID / Smite colors:\n",
    "\n",
    "1400 / Blue\n",
    "\n",
    "1401 / Blue\n",
    "\n",
    "1402 / Blue\n",
    "\n",
    "1413 / Red\n",
    "\n",
    "1419 / Red"
   ]
  },
  {
   "cell_type": "markdown",
   "metadata": {},
   "source": [
    "The following items were found only via the unmasking."
   ]
  },
  {
   "cell_type": "code",
   "execution_count": 21,
   "metadata": {},
   "outputs": [
    {
     "name": "stdout",
     "output_type": "stream",
     "text": [
      "item_id\n",
      "3087            Statikk Shiv\n",
      "3151       Liandry's Torment\n",
      "1400    Enchantment: Warrior\n",
      "3152    Hextech Protobelt-01\n",
      "3004                Manamune\n",
      "Name: name, dtype: object\n"
     ]
    }
   ],
   "source": [
    "print(abnormal_items_um[abnormal_items_um.isin(abnormal_items) == False])"
   ]
  },
  {
   "cell_type": "markdown",
   "metadata": {},
   "source": [
    "## Machine Learning Time\n",
    "\n",
    "Make sure the data is split with test_train_split.\n",
    "\n",
    "Import your classifiers as well."
   ]
  },
  {
   "cell_type": "code",
   "execution_count": 22,
   "metadata": {},
   "outputs": [],
   "source": [
    "from sklearn.model_selection import train_test_split\n",
    "from sklearn.model_selection import GridSearchCV\n",
    "from sklearn.metrics import accuracy_score\n",
    "from sklearn.metrics import confusion_matrix\n",
    "\n",
    "from sklearn.ensemble import RandomForestClassifier\n",
    "from sklearn.linear_model import LogisticRegression"
   ]
  },
  {
   "cell_type": "code",
   "execution_count": null,
   "metadata": {},
   "outputs": [],
   "source": []
  },
  {
   "cell_type": "code",
   "execution_count": null,
   "metadata": {},
   "outputs": [],
   "source": []
  },
  {
   "cell_type": "markdown",
   "metadata": {},
   "source": [
    "### Analysis 0: Simple Random Forest\n",
    "Make a table of win/loss and individual items by splitting the match data so each item a player has built takes its own row.\n",
    "\n",
    "Call the item_id a categorical variable, and then run a random forest algorithm. Do a version with all the items and a version with only the final items.\n",
    "\n",
    "This basic use of random forest should bring out results similar to my statistical analyses."
   ]
  },
  {
   "cell_type": "code",
   "execution_count": 23,
   "metadata": {},
   "outputs": [
    {
     "name": "stdout",
     "output_type": "stream",
     "text": [
      "64750\n"
     ]
    },
    {
     "data": {
      "text/html": [
       "<div>\n",
       "<style scoped>\n",
       "    .dataframe tbody tr th:only-of-type {\n",
       "        vertical-align: middle;\n",
       "    }\n",
       "\n",
       "    .dataframe tbody tr th {\n",
       "        vertical-align: top;\n",
       "    }\n",
       "\n",
       "    .dataframe thead th {\n",
       "        text-align: right;\n",
       "    }\n",
       "</style>\n",
       "<table border=\"1\" class=\"dataframe\">\n",
       "  <thead>\n",
       "    <tr style=\"text-align: right;\">\n",
       "      <th></th>\n",
       "      <th>win</th>\n",
       "      <th>item_id</th>\n",
       "    </tr>\n",
       "  </thead>\n",
       "  <tbody>\n",
       "    <tr>\n",
       "      <th>0</th>\n",
       "      <td>False</td>\n",
       "      <td>3020</td>\n",
       "    </tr>\n",
       "    <tr>\n",
       "      <th>1</th>\n",
       "      <td>False</td>\n",
       "      <td>3117</td>\n",
       "    </tr>\n",
       "    <tr>\n",
       "      <th>2</th>\n",
       "      <td>False</td>\n",
       "      <td>1416</td>\n",
       "    </tr>\n",
       "    <tr>\n",
       "      <th>3</th>\n",
       "      <td>False</td>\n",
       "      <td>3020</td>\n",
       "    </tr>\n",
       "    <tr>\n",
       "      <th>4</th>\n",
       "      <td>False</td>\n",
       "      <td>3078</td>\n",
       "    </tr>\n",
       "  </tbody>\n",
       "</table>\n",
       "</div>"
      ],
      "text/plain": [
       "     win  item_id\n",
       "0  False     3020\n",
       "1  False     3117\n",
       "2  False     1416\n",
       "3  False     3020\n",
       "4  False     3078"
      ]
     },
     "execution_count": 23,
     "metadata": {},
     "output_type": "execute_result"
    }
   ],
   "source": [
    "# Only need win and item numbers\n",
    "items_and_wins_df = matches_df[['stats.win', 'stats.item0', 'stats.item1', 'stats.item2', 'stats.item3',\n",
    "                                        'stats.item4', 'stats.item5', 'stats.item6']]\n",
    "\n",
    "# Stack the item columns with the win boolean\n",
    "item_win_sub_dfs = []\n",
    "for col_name in items_and_wins_df.columns[1:]:\n",
    "    sub_df = items_and_wins_df[['stats.win', col_name]]\n",
    "    sub_df.columns = ['stats.win', 'item_id']\n",
    "    item_win_sub_dfs.append(sub_df)\n",
    "    \n",
    "item_win_df = pd.concat(item_win_sub_dfs)\n",
    "item_win_df.columns = ['win', 'item_id']\n",
    "print(len(item_win_df))\n",
    "item_win_df.head()"
   ]
  },
  {
   "cell_type": "code",
   "execution_count": 24,
   "metadata": {},
   "outputs": [],
   "source": [
    "# Matrix version of the data\n",
    "X_0 = pd.get_dummies(item_win_df.item_id).values\n",
    "y_0 = item_win_df.win.values\n",
    "\n",
    "# Split the data, keeping even amounts of wins and losses in each set\n",
    "X_0_train, X_0_test, y_0_train, y_0_test = train_test_split(X_0, y_0,\n",
    "                                                            test_size=0.3,\n",
    "                                                            random_state=13,\n",
    "                                                            stratify=y_0)"
   ]
  },
  {
   "cell_type": "code",
   "execution_count": 25,
   "metadata": {},
   "outputs": [],
   "source": [
    "# Classifier\n",
    "# Test against baseline, like just a Random Forest Classifier\n",
    "model_0 = RandomForestClassifier(random_state=13)\n",
    "# Forest Parameters\n",
    "params = {'n_estimators': [5, 25, 50], 'max_depth': [None, 5, 10],\n",
    "          'max_features': ['auto', 4, 7]}\n",
    "\n",
    "# Grid Search for Best Hyperparameters\n",
    "gs_forest = GridSearchCV(model_0, param_grid=params, cv=5)"
   ]
  },
  {
   "cell_type": "markdown",
   "metadata": {},
   "source": [
    "Started at 4:38 PM. Finished by 5:06 PM.\n",
    "\n",
    "Started at 5:13 PM. Finished at 5:18 PM. I removed the option for max_depth = 20, and I think that made the difference.\n",
    "\n",
    "Started at 11:01 AM. Finished at 11:06 AM."
   ]
  },
  {
   "cell_type": "code",
   "execution_count": 26,
   "metadata": {},
   "outputs": [
    {
     "data": {
      "text/plain": [
       "GridSearchCV(cv=5, error_score='raise-deprecating',\n",
       "       estimator=RandomForestClassifier(bootstrap=True, class_weight=None, criterion='gini',\n",
       "            max_depth=None, max_features='auto', max_leaf_nodes=None,\n",
       "            min_impurity_decrease=0.0, min_impurity_split=None,\n",
       "            min_samples_leaf=1, min_samples_split=2,\n",
       "            min_weight_fraction_leaf=0.0, n_estimators='warn', n_jobs=None,\n",
       "            oob_score=False, random_state=13, verbose=0, warm_start=False),\n",
       "       fit_params=None, iid='warn', n_jobs=None,\n",
       "       param_grid={'n_estimators': [5, 25, 50], 'max_features': ['auto', 4, 7], 'max_depth': [None, 5, 10]},\n",
       "       pre_dispatch='2*n_jobs', refit=True, return_train_score='warn',\n",
       "       scoring=None, verbose=0)"
      ]
     },
     "execution_count": 26,
     "metadata": {},
     "output_type": "execute_result"
    }
   ],
   "source": [
    "# First Pass\n",
    "gs_forest.fit(X_0_train, y_0_train)"
   ]
  },
  {
   "cell_type": "code",
   "execution_count": 27,
   "metadata": {},
   "outputs": [
    {
     "data": {
      "text/plain": [
       "RandomForestClassifier(bootstrap=True, class_weight=None, criterion='gini',\n",
       "            max_depth=None, max_features=4, max_leaf_nodes=None,\n",
       "            min_impurity_decrease=0.0, min_impurity_split=None,\n",
       "            min_samples_leaf=1, min_samples_split=2,\n",
       "            min_weight_fraction_leaf=0.0, n_estimators=5, n_jobs=None,\n",
       "            oob_score=False, random_state=13, verbose=0, warm_start=False)"
      ]
     },
     "execution_count": 27,
     "metadata": {},
     "output_type": "execute_result"
    }
   ],
   "source": [
    "gs_forest.best_estimator_"
   ]
  },
  {
   "cell_type": "code",
   "execution_count": 28,
   "metadata": {},
   "outputs": [
    {
     "data": {
      "text/plain": [
       "0.53698841698841704"
      ]
     },
     "execution_count": 28,
     "metadata": {},
     "output_type": "execute_result"
    }
   ],
   "source": [
    "gs_forest.best_score_"
   ]
  },
  {
   "cell_type": "code",
   "execution_count": 29,
   "metadata": {
    "scrolled": true
   },
   "outputs": [
    {
     "data": {
      "text/plain": [
       "array([ 0.53696635,  0.5368781 ,  0.53674573,  0.53698842,  0.53694429,\n",
       "        0.53678985,  0.53698842,  0.53696635,  0.53681191,  0.51898511,\n",
       "        0.52908991,  0.52957529,  0.50477661,  0.52847215,  0.53171539,\n",
       "        0.50404854,  0.5279647 ,  0.53067843,  0.5227358 ,  0.53140651,\n",
       "        0.52977386,  0.51933811,  0.53167126,  0.53325979,  0.5103144 ,\n",
       "        0.52953116,  0.53189189])"
      ]
     },
     "execution_count": 29,
     "metadata": {},
     "output_type": "execute_result"
    }
   ],
   "source": [
    "gs_forest.cv_results_['mean_test_score']"
   ]
  },
  {
   "cell_type": "code",
   "execution_count": 30,
   "metadata": {},
   "outputs": [
    {
     "data": {
      "text/plain": [
       "0.52878919736062591"
      ]
     },
     "execution_count": 30,
     "metadata": {},
     "output_type": "execute_result"
    }
   ],
   "source": [
    "np.mean(gs_forest.cv_results_['mean_test_score'])"
   ]
  },
  {
   "cell_type": "code",
   "execution_count": 31,
   "metadata": {},
   "outputs": [
    {
     "data": {
      "text/plain": [
       "0.53178893178893183"
      ]
     },
     "execution_count": 31,
     "metadata": {},
     "output_type": "execute_result"
    }
   ],
   "source": [
    "accuracy_score(y_0_test, gs_forest.predict(X_0_test))"
   ]
  },
  {
   "cell_type": "markdown",
   "metadata": {},
   "source": [
    "It seems like this algorithm only has a slightly better than 50% chance of predicting a game's results.\n",
    "\n",
    "Instead of gradually increasing the data complexity, I have been recommended to go with the most reliable method.\n",
    "\n",
    "Like a goof, I forgot to test the normal out-of-the-box classifier. Let's do that now."
   ]
  },
  {
   "cell_type": "code",
   "execution_count": 32,
   "metadata": {},
   "outputs": [
    {
     "name": "stderr",
     "output_type": "stream",
     "text": [
      "C:\\Users\\sebia\\Miniconda2\\lib\\site-packages\\sklearn\\ensemble\\forest.py:246: FutureWarning: The default value of n_estimators will change from 10 in version 0.20 to 100 in 0.22.\n",
      "  \"10 in version 0.20 to 100 in 0.22.\", FutureWarning)\n"
     ]
    },
    {
     "data": {
      "text/plain": [
       "RandomForestClassifier(bootstrap=True, class_weight=None, criterion='gini',\n",
       "            max_depth=None, max_features='auto', max_leaf_nodes=None,\n",
       "            min_impurity_decrease=0.0, min_impurity_split=None,\n",
       "            min_samples_leaf=1, min_samples_split=2,\n",
       "            min_weight_fraction_leaf=0.0, n_estimators=10, n_jobs=None,\n",
       "            oob_score=False, random_state=13, verbose=0, warm_start=False)"
      ]
     },
     "execution_count": 32,
     "metadata": {},
     "output_type": "execute_result"
    }
   ],
   "source": [
    "model_0 = RandomForestClassifier(random_state=13)\n",
    "model_0.fit(X_0_train, y_0_train)"
   ]
  },
  {
   "cell_type": "code",
   "execution_count": 33,
   "metadata": {},
   "outputs": [
    {
     "data": {
      "text/plain": [
       "0.53374517374517372"
      ]
     },
     "execution_count": 33,
     "metadata": {},
     "output_type": "execute_result"
    }
   ],
   "source": [
    "model_0.score(X_0_test, y_0_test)"
   ]
  },
  {
   "cell_type": "markdown",
   "metadata": {},
   "source": [
    "The basic random forest classifier does slightly better than the Grid Search CV version of the RF classifier.\n",
    "\n",
    "That indicates that the classifier could perform just as well by guessing the mean, and the data isn't very good."
   ]
  },
  {
   "cell_type": "markdown",
   "metadata": {},
   "source": [
    "### Analysis : Team-wide Item Difference Random Forest\n",
    "\n",
    "Make a table of win/loss and the difference of numbers of each item for each team as categorical variables.\n",
    "\n",
    "This data is probably the most accurate representation of what helps teams win. Since League of Legends is a team game, your team's items and the other team's items overall are probably more important than just your own. Comparing how many of each item each team has is more likely to represent game balance.\n",
    "\n",
    "Focusing on only the full items, not all items."
   ]
  },
  {
   "cell_type": "code",
   "execution_count": 34,
   "metadata": {},
   "outputs": [],
   "source": [
    "# Want to iterate over all games\n",
    "# Have a row for each item\n",
    "# Add one to a cell for each of the item a team had\n",
    "team_items_df = pd.DataFrame(0, index=range(len(matches_df)/10),\n",
    "                             columns=full_items_df.index.values,\n",
    "                             dtype=int)\n",
    "# I may want this line. I expect having 0's to predict very strongly. Maybe I don't want this line then.\n",
    "team_items_df.loc[:, 0] = 0\n",
    "\n",
    "# Match results\n",
    "team_results = np.zeros(len(matches_df)/10)"
   ]
  },
  {
   "cell_type": "markdown",
   "metadata": {},
   "source": [
    "This loop takes only a few seconds to run"
   ]
  },
  {
   "cell_type": "code",
   "execution_count": 35,
   "metadata": {},
   "outputs": [],
   "source": [
    "# Fill dataframe\n",
    "for match in range(len(matches_df)/10):\n",
    "    # Result is a 0 if the first team lost, 1 if they won\n",
    "    team_results[match] = matches_df.loc[10 * match, 'stats.win']\n",
    "    \n",
    "    # Positive # of items for first team\n",
    "    # Negative # of items for second team\n",
    "    team_1_items = matches_df.loc[10 * match : 10 * match + 4, 'stats.item0' : 'stats.item5']\n",
    "    team_2_items = matches_df.loc[10 * match + 5 : 10 * match + 9, 'stats.item0' : 'stats.item5']\n",
    "    \n",
    "    # Compress into a Series\n",
    "    team_1_items = team_1_items.stack().reset_index(drop=True).value_counts()\n",
    "    team_2_items = team_2_items.stack().reset_index(drop=True).value_counts()\n",
    "    \n",
    "    # Add team 1 to dataframe, subtract team 2 from dataframe\n",
    "    # Adding the series to the row of the dataframe causes NaN values anywhere the series doesn't have data\n",
    "    team_items_df.loc[match, :] = (team_items_df.loc[match, :] +\n",
    "                                   team_1_items.subtract(team_2_items, fill_value=0)).fillna(0)"
   ]
  },
  {
   "cell_type": "markdown",
   "metadata": {},
   "source": [
    "Here is some example data where I've filtered out all of the 0 values."
   ]
  },
  {
   "cell_type": "code",
   "execution_count": 36,
   "metadata": {},
   "outputs": [
    {
     "data": {
      "text/plain": [
       " 0.0    66\n",
       "-1.0    10\n",
       " 1.0     4\n",
       " 3.0     1\n",
       "Name: 8, dtype: int64"
      ]
     },
     "execution_count": 36,
     "metadata": {},
     "output_type": "execute_result"
    }
   ],
   "source": [
    "team_items_df.loc[8,:].value_counts()"
   ]
  },
  {
   "cell_type": "code",
   "execution_count": 37,
   "metadata": {
    "scrolled": true
   },
   "outputs": [
    {
     "data": {
      "text/html": [
       "<div>\n",
       "<style scoped>\n",
       "    .dataframe tbody tr th:only-of-type {\n",
       "        vertical-align: middle;\n",
       "    }\n",
       "\n",
       "    .dataframe tbody tr th {\n",
       "        vertical-align: top;\n",
       "    }\n",
       "\n",
       "    .dataframe thead th {\n",
       "        text-align: right;\n",
       "    }\n",
       "</style>\n",
       "<table border=\"1\" class=\"dataframe\">\n",
       "  <thead>\n",
       "    <tr style=\"text-align: right;\">\n",
       "      <th></th>\n",
       "      <th>1402</th>\n",
       "      <th>1412</th>\n",
       "      <th>3027</th>\n",
       "      <th>3068</th>\n",
       "      <th>3069</th>\n",
       "      <th>3071</th>\n",
       "      <th>3092</th>\n",
       "      <th>3100</th>\n",
       "      <th>3153</th>\n",
       "      <th>3157</th>\n",
       "      <th>3285</th>\n",
       "      <th>3504</th>\n",
       "      <th>3800</th>\n",
       "      <th>3814</th>\n",
       "      <th>0</th>\n",
       "    </tr>\n",
       "  </thead>\n",
       "  <tbody>\n",
       "    <tr>\n",
       "      <th>8</th>\n",
       "      <td>1.0</td>\n",
       "      <td>-1.0</td>\n",
       "      <td>-1.0</td>\n",
       "      <td>-1.0</td>\n",
       "      <td>1.0</td>\n",
       "      <td>-1.0</td>\n",
       "      <td>-1.0</td>\n",
       "      <td>-1.0</td>\n",
       "      <td>-1.0</td>\n",
       "      <td>1.0</td>\n",
       "      <td>1.0</td>\n",
       "      <td>-1.0</td>\n",
       "      <td>-1.0</td>\n",
       "      <td>-1.0</td>\n",
       "      <td>3.0</td>\n",
       "    </tr>\n",
       "  </tbody>\n",
       "</table>\n",
       "</div>"
      ],
      "text/plain": [
       "   1402  1412  3027  3068  3069  3071  3092  3100  3153  3157  3285  3504  \\\n",
       "8   1.0  -1.0  -1.0  -1.0   1.0  -1.0  -1.0  -1.0  -1.0   1.0   1.0  -1.0   \n",
       "\n",
       "   3800  3814  0     \n",
       "8  -1.0  -1.0   3.0  "
      ]
     },
     "execution_count": 37,
     "metadata": {},
     "output_type": "execute_result"
    }
   ],
   "source": [
    "row = team_items_df.iloc[8,:]\n",
    "pd.DataFrame(team_items_df.loc[8,:][row != 0]).transpose()"
   ]
  },
  {
   "cell_type": "code",
   "execution_count": 38,
   "metadata": {},
   "outputs": [
    {
     "data": {
      "text/plain": [
       "array([ 0.,  0.,  0.,  0.,  0.,  0.,  1.,  1.,  0.,  1.])"
      ]
     },
     "execution_count": 38,
     "metadata": {},
     "output_type": "execute_result"
    }
   ],
   "source": [
    "team_results[0:10]"
   ]
  },
  {
   "cell_type": "code",
   "execution_count": 39,
   "metadata": {},
   "outputs": [],
   "source": [
    "# Now the data is ready. team_items_df is X, and team_results is y\n",
    "X_1_train, X_1_test, y_1_train, y_1_test = train_test_split(team_items_df.values, team_results,\n",
    "                                                            test_size=0.3,\n",
    "                                                            random_state=13,\n",
    "                                                            stratify=team_results)"
   ]
  },
  {
   "cell_type": "code",
   "execution_count": 40,
   "metadata": {},
   "outputs": [
    {
     "data": {
      "text/plain": [
       "RandomForestClassifier(bootstrap=True, class_weight=None, criterion='gini',\n",
       "            max_depth=None, max_features='auto', max_leaf_nodes=None,\n",
       "            min_impurity_decrease=0.0, min_impurity_split=None,\n",
       "            min_samples_leaf=1, min_samples_split=2,\n",
       "            min_weight_fraction_leaf=0.0, n_estimators=10, n_jobs=None,\n",
       "            oob_score=False, random_state=13, verbose=0, warm_start=False)"
      ]
     },
     "execution_count": 40,
     "metadata": {},
     "output_type": "execute_result"
    }
   ],
   "source": [
    "# Make a basic random forest classifier\n",
    "model_1 = RandomForestClassifier(random_state=13)\n",
    "model_1.fit(X_1_train, y_1_train)"
   ]
  },
  {
   "cell_type": "markdown",
   "metadata": {},
   "source": [
    "This classifier used 'auto' features and 10 trees."
   ]
  },
  {
   "cell_type": "code",
   "execution_count": 41,
   "metadata": {},
   "outputs": [
    {
     "data": {
      "text/plain": [
       "0.69064748201438853"
      ]
     },
     "execution_count": 41,
     "metadata": {},
     "output_type": "execute_result"
    }
   ],
   "source": [
    "model_1.score(X_1_test, y_1_test)"
   ]
  },
  {
   "cell_type": "markdown",
   "metadata": {},
   "source": [
    "That is a significantly better result already. Let's try with some different hyperparameters.\n",
    "\n",
    "Each feature is an item, so I figure that an interesting number of features is a multiple of 6, since each player builds 6 items.\n",
    "\n",
    "The options for n_estimators are guesses."
   ]
  },
  {
   "cell_type": "code",
   "execution_count": 42,
   "metadata": {},
   "outputs": [],
   "source": [
    "model_1 = RandomForestClassifier(random_state=13)\n",
    "\n",
    "params = {'n_estimators': [5, 10, 20, 50],\n",
    "          'max_features': ['auto', 6, 18, 30]}\n",
    "\n",
    "gs_forest_1 = GridSearchCV(model_1, params, cv=5)"
   ]
  },
  {
   "cell_type": "code",
   "execution_count": 43,
   "metadata": {},
   "outputs": [
    {
     "name": "stderr",
     "output_type": "stream",
     "text": [
      "C:\\Users\\sebia\\Miniconda2\\lib\\site-packages\\sklearn\\model_selection\\_search.py:841: DeprecationWarning: The default of the `iid` parameter will change from True to False in version 0.22 and will be removed in 0.24. This will change numeric results when test-set sizes are unequal.\n",
      "  DeprecationWarning)\n"
     ]
    },
    {
     "data": {
      "text/plain": [
       "GridSearchCV(cv=5, error_score='raise-deprecating',\n",
       "       estimator=RandomForestClassifier(bootstrap=True, class_weight=None, criterion='gini',\n",
       "            max_depth=None, max_features='auto', max_leaf_nodes=None,\n",
       "            min_impurity_decrease=0.0, min_impurity_split=None,\n",
       "            min_samples_leaf=1, min_samples_split=2,\n",
       "            min_weight_fraction_leaf=0.0, n_estimators='warn', n_jobs=None,\n",
       "            oob_score=False, random_state=13, verbose=0, warm_start=False),\n",
       "       fit_params=None, iid='warn', n_jobs=None,\n",
       "       param_grid={'n_estimators': [5, 10, 20, 50], 'max_features': ['auto', 6, 18, 30]},\n",
       "       pre_dispatch='2*n_jobs', refit=True, return_train_score='warn',\n",
       "       scoring=None, verbose=0)"
      ]
     },
     "execution_count": 43,
     "metadata": {},
     "output_type": "execute_result"
    }
   ],
   "source": [
    "gs_forest_1.fit(X_1_train, y_1_train)"
   ]
  },
  {
   "cell_type": "code",
   "execution_count": 44,
   "metadata": {
    "scrolled": true
   },
   "outputs": [
    {
     "data": {
      "text/plain": [
       "RandomForestClassifier(bootstrap=True, class_weight=None, criterion='gini',\n",
       "            max_depth=None, max_features='auto', max_leaf_nodes=None,\n",
       "            min_impurity_decrease=0.0, min_impurity_split=None,\n",
       "            min_samples_leaf=1, min_samples_split=2,\n",
       "            min_weight_fraction_leaf=0.0, n_estimators=50, n_jobs=None,\n",
       "            oob_score=False, random_state=13, verbose=0, warm_start=False)"
      ]
     },
     "execution_count": 44,
     "metadata": {},
     "output_type": "execute_result"
    }
   ],
   "source": [
    "gs_forest_1.best_estimator_"
   ]
  },
  {
   "cell_type": "markdown",
   "metadata": {},
   "source": [
    "The best estimator used 50 trees and 'auto' features, and gets up to 73% accuracy on the test data set."
   ]
  },
  {
   "cell_type": "code",
   "execution_count": 45,
   "metadata": {},
   "outputs": [
    {
     "data": {
      "text/plain": [
       "0.73021582733812951"
      ]
     },
     "execution_count": 45,
     "metadata": {},
     "output_type": "execute_result"
    }
   ],
   "source": [
    "accuracy_score(y_1_test, gs_forest_1.predict(X_1_test))"
   ]
  },
  {
   "cell_type": "markdown",
   "metadata": {},
   "source": [
    "#### Let's look at the Grid Search Random Forest's Features"
   ]
  },
  {
   "cell_type": "code",
   "execution_count": 46,
   "metadata": {},
   "outputs": [
    {
     "data": {
      "text/plain": [
       "81"
      ]
     },
     "execution_count": 46,
     "metadata": {},
     "output_type": "execute_result"
    }
   ],
   "source": [
    "len(gs_forest_1.best_estimator_.feature_importances_)"
   ]
  },
  {
   "cell_type": "markdown",
   "metadata": {},
   "source": [
    "Predict who wins based off of the team's items\n",
    "\n",
    "As a dev, how can I tell when I need to change an item"
   ]
  },
  {
   "cell_type": "code",
   "execution_count": 115,
   "metadata": {},
   "outputs": [
    {
     "data": {
      "image/png": "[encoded data removed]",
      "text/plain": [
       "<matplotlib.figure.Figure at 0x1453a160>"
      ]
     },
     "metadata": {
      "needs_background": "light"
     },
     "output_type": "display_data"
    }
   ],
   "source": [
    "plt.rcParams[\"figure.figsize\"] = (18, 6)\n",
    "_ = plt.bar(range(len(gs_forest_1.best_estimator_.feature_importances_)),\n",
    "            gs_forest_1.best_estimator_.feature_importances_,\n",
    "            edgecolor='r')\n",
    "\n",
    "items = [str(item) for item in team_items_df.columns.values]\n",
    "_ = plt.xticks(np.linspace(0, 80, 81), items, rotation=90)\n",
    "_ = plt.title('Random Forest Feature Importance')\n",
    "_ = plt.ylabel('Feature Importance')\n",
    "_ = plt.xlabel('Item ID')\n",
    "plt.savefig('../analysis_images/rf_feature_importances.png')"
   ]
  },
  {
   "cell_type": "markdown",
   "metadata": {},
   "source": [
    "Here, we can see that the most important feature by far is the empty item slot (item id = 0).\n",
    "\n",
    "However, feature importance doesn't tell me which category the feature tends towards. This will be tricky to interpret."
   ]
  },
  {
   "cell_type": "code",
   "execution_count": 48,
   "metadata": {},
   "outputs": [],
   "source": [
    "forest_results_df = pd.DataFrame(data=gs_forest_1.best_estimator_.feature_importances_,\n",
    "                                 columns=['Feature Importance'],\n",
    "                                 index=team_items_df.columns.values)\n",
    "forest_results_df = forest_results_df.join(item_occ['name'])\n",
    "forest_results_df.loc[0, 'name'] = 'Empty'"
   ]
  },
  {
   "cell_type": "code",
   "execution_count": 49,
   "metadata": {},
   "outputs": [
    {
     "data": {
      "image/png": "[encoded data removed]",
      "text/plain": [
       "<matplotlib.figure.Figure at 0xebd5240>"
      ]
     },
     "metadata": {
      "needs_background": "light"
     },
     "output_type": "display_data"
    }
   ],
   "source": [
    "plt.rcParams[\"figure.figsize\"] = (16, 4)\n",
    "_ = forest_results_df.sort_values('Feature Importance', ascending=False\n",
    "                                 ).iloc[:15,:].plot(y='Feature Importance', x='name', kind='barh',\n",
    "                                                    color='b', xlim=[0, 0.11])\n",
    "\n",
    "_ = plt.xlabel('Feature Importance')\n",
    "_ = plt.ylabel('Item Name')\n",
    "_ = plt.title('Top 10 Features in the Random Forest')\n",
    "plt.savefig('../analysis_images/rf_most_important_features.png')"
   ]
  },
  {
   "cell_type": "markdown",
   "metadata": {},
   "source": [
    "These are the top 10 features (according to the algorithm). \n",
    "\n",
    "This means that having more or less of these 10 items (or lack of item) have the most impact on the result of the game.\n",
    "\n",
    "However, this plot doesn't indicate if having more of these items will impact make you more or less likely to win. For instance, having more of the Empty item slot on your team definitely decreases your chances of winning, but it the most important feature.\n",
    "\n",
    "The problem is that just adding one of an item will generally help you win, but this change in win likelihood needs to be compared to a benchmark. We need to know how much better or worse it is to build a given item than any other item."
   ]
  },
  {
   "cell_type": "code",
   "execution_count": 50,
   "metadata": {},
   "outputs": [
    {
     "data": {
      "image/png": "[encoded data removed]",
      "text/plain": [
       "<matplotlib.figure.Figure at 0x149de9b0>"
      ]
     },
     "metadata": {
      "needs_background": "light"
     },
     "output_type": "display_data"
    }
   ],
   "source": [
    "plt.rcParams[\"figure.figsize\"] = (16, 4)\n",
    "_ = forest_results_df.sort_values('Feature Importance'\n",
    "                                 ).iloc[:15,:].plot(y='Feature Importance', x='name', kind='barh',\n",
    "                                                    color='b', xlim=[0, 0.11])\n",
    "\n",
    "_ = plt.xlabel('Feature Importance')\n",
    "_ = plt.ylabel('Item Name')\n",
    "_ = plt.title('Bottom 10 Features in the Random Forest')\n",
    "plt.savefig('../analysis_images/rf_least_important_features.png')"
   ]
  },
  {
   "cell_type": "markdown",
   "metadata": {},
   "source": [
    "These are the 10 least importance features."
   ]
  },
  {
   "cell_type": "code",
   "execution_count": 51,
   "metadata": {},
   "outputs": [
    {
     "data": {
      "text/html": [
       "<div>\n",
       "<style scoped>\n",
       "    .dataframe tbody tr th:only-of-type {\n",
       "        vertical-align: middle;\n",
       "    }\n",
       "\n",
       "    .dataframe tbody tr th {\n",
       "        vertical-align: top;\n",
       "    }\n",
       "\n",
       "    .dataframe thead th {\n",
       "        text-align: right;\n",
       "    }\n",
       "</style>\n",
       "<table border=\"1\" class=\"dataframe\">\n",
       "  <thead>\n",
       "    <tr style=\"text-align: right;\">\n",
       "      <th></th>\n",
       "      <th>Feature Importance</th>\n",
       "      <th>name</th>\n",
       "    </tr>\n",
       "  </thead>\n",
       "  <tbody>\n",
       "    <tr>\n",
       "      <th>0</th>\n",
       "      <td>0.103706</td>\n",
       "      <td>Empty</td>\n",
       "    </tr>\n",
       "    <tr>\n",
       "      <th>3031</th>\n",
       "      <td>0.031686</td>\n",
       "      <td>Infinity Edge</td>\n",
       "    </tr>\n",
       "    <tr>\n",
       "      <th>3089</th>\n",
       "      <td>0.029842</td>\n",
       "      <td>Rabadon's Deathcap</td>\n",
       "    </tr>\n",
       "    <tr>\n",
       "      <th>3071</th>\n",
       "      <td>0.025379</td>\n",
       "      <td>The Black Cleaver</td>\n",
       "    </tr>\n",
       "    <tr>\n",
       "      <th>3095</th>\n",
       "      <td>0.024824</td>\n",
       "      <td>Stormrazor</td>\n",
       "    </tr>\n",
       "    <tr>\n",
       "      <th>3026</th>\n",
       "      <td>0.023970</td>\n",
       "      <td>Guardian Angel</td>\n",
       "    </tr>\n",
       "    <tr>\n",
       "      <th>3165</th>\n",
       "      <td>0.021457</td>\n",
       "      <td>Morellonomicon</td>\n",
       "    </tr>\n",
       "    <tr>\n",
       "      <th>3285</th>\n",
       "      <td>0.019386</td>\n",
       "      <td>Luden's Echo</td>\n",
       "    </tr>\n",
       "    <tr>\n",
       "      <th>3142</th>\n",
       "      <td>0.019308</td>\n",
       "      <td>Youmuu's Ghostblade</td>\n",
       "    </tr>\n",
       "    <tr>\n",
       "      <th>3157</th>\n",
       "      <td>0.019101</td>\n",
       "      <td>Zhonya's Hourglass</td>\n",
       "    </tr>\n",
       "    <tr>\n",
       "      <th>3041</th>\n",
       "      <td>0.018981</td>\n",
       "      <td>Mejai's Soulstealer</td>\n",
       "    </tr>\n",
       "    <tr>\n",
       "      <th>3124</th>\n",
       "      <td>0.018469</td>\n",
       "      <td>Guinsoo's Rageblade</td>\n",
       "    </tr>\n",
       "    <tr>\n",
       "      <th>3147</th>\n",
       "      <td>0.018401</td>\n",
       "      <td>Duskblade of Draktharr</td>\n",
       "    </tr>\n",
       "    <tr>\n",
       "      <th>3053</th>\n",
       "      <td>0.018013</td>\n",
       "      <td>Sterak's Gage</td>\n",
       "    </tr>\n",
       "    <tr>\n",
       "      <th>3078</th>\n",
       "      <td>0.016767</td>\n",
       "      <td>Trinity Force</td>\n",
       "    </tr>\n",
       "  </tbody>\n",
       "</table>\n",
       "</div>"
      ],
      "text/plain": [
       "      Feature Importance                    name\n",
       "0               0.103706                   Empty\n",
       "3031            0.031686           Infinity Edge\n",
       "3089            0.029842      Rabadon's Deathcap\n",
       "3071            0.025379       The Black Cleaver\n",
       "3095            0.024824              Stormrazor\n",
       "3026            0.023970          Guardian Angel\n",
       "3165            0.021457          Morellonomicon\n",
       "3285            0.019386            Luden's Echo\n",
       "3142            0.019308     Youmuu's Ghostblade\n",
       "3157            0.019101      Zhonya's Hourglass\n",
       "3041            0.018981     Mejai's Soulstealer\n",
       "3124            0.018469     Guinsoo's Rageblade\n",
       "3147            0.018401  Duskblade of Draktharr\n",
       "3053            0.018013           Sterak's Gage\n",
       "3078            0.016767           Trinity Force"
      ]
     },
     "execution_count": 51,
     "metadata": {},
     "output_type": "execute_result"
    }
   ],
   "source": [
    "forest_results_df.sort_values('Feature Importance', ascending=False).iloc[:15,:]"
   ]
  },
  {
   "cell_type": "code",
   "execution_count": 52,
   "metadata": {},
   "outputs": [
    {
     "data": {
      "text/plain": [
       "array([[ 0.50566667,  0.49433333]])"
      ]
     },
     "execution_count": 52,
     "metadata": {},
     "output_type": "execute_result"
    }
   ],
   "source": [
    "prediction_test_data = pd.DataFrame(0, index=range(1),\n",
    "                                    columns=full_items_df.index.values,\n",
    "                                    dtype=int)\n",
    "prediction_test_data.loc[0, 0] = 0\n",
    "prediction_test_data.loc[0, 0] = 0\n",
    "gs_forest_1.predict_proba(prediction_test_data.values)"
   ]
  },
  {
   "cell_type": "code",
   "execution_count": null,
   "metadata": {},
   "outputs": [],
   "source": []
  },
  {
   "cell_type": "markdown",
   "metadata": {},
   "source": [
    "To evaluate the performance, can I pick 5 items for each player, predict who wins, and then see how the prediction changes if I add / subtract 1 for a given item?\n",
    "\n",
    "Try the algorithm again without the 0 column\n",
    "\n",
    "Try a Logistic regression with and without the 0 column"
   ]
  },
  {
   "cell_type": "code",
   "execution_count": null,
   "metadata": {},
   "outputs": [],
   "source": []
  },
  {
   "cell_type": "markdown",
   "metadata": {},
   "source": [
    "## Logistic Regression\n",
    "\n",
    "I will use the same data. Let's see it again."
   ]
  },
  {
   "cell_type": "code",
   "execution_count": 53,
   "metadata": {},
   "outputs": [
    {
     "data": {
      "text/html": [
       "<div>\n",
       "<style scoped>\n",
       "    .dataframe tbody tr th:only-of-type {\n",
       "        vertical-align: middle;\n",
       "    }\n",
       "\n",
       "    .dataframe tbody tr th {\n",
       "        vertical-align: top;\n",
       "    }\n",
       "\n",
       "    .dataframe thead th {\n",
       "        text-align: right;\n",
       "    }\n",
       "</style>\n",
       "<table border=\"1\" class=\"dataframe\">\n",
       "  <thead>\n",
       "    <tr style=\"text-align: right;\">\n",
       "      <th></th>\n",
       "      <th>1400</th>\n",
       "      <th>1401</th>\n",
       "      <th>1402</th>\n",
       "      <th>1412</th>\n",
       "      <th>1413</th>\n",
       "      <th>1414</th>\n",
       "      <th>1416</th>\n",
       "      <th>1419</th>\n",
       "      <th>2065</th>\n",
       "      <th>3001</th>\n",
       "      <th>...</th>\n",
       "      <th>3508</th>\n",
       "      <th>3512</th>\n",
       "      <th>3742</th>\n",
       "      <th>3748</th>\n",
       "      <th>3800</th>\n",
       "      <th>3812</th>\n",
       "      <th>3814</th>\n",
       "      <th>3905</th>\n",
       "      <th>3907</th>\n",
       "      <th>0</th>\n",
       "    </tr>\n",
       "  </thead>\n",
       "  <tbody>\n",
       "    <tr>\n",
       "      <th>0</th>\n",
       "      <td>-1.0</td>\n",
       "      <td>0.0</td>\n",
       "      <td>0.0</td>\n",
       "      <td>0.0</td>\n",
       "      <td>0.0</td>\n",
       "      <td>0.0</td>\n",
       "      <td>1.0</td>\n",
       "      <td>0.0</td>\n",
       "      <td>0.0</td>\n",
       "      <td>0.0</td>\n",
       "      <td>...</td>\n",
       "      <td>0.0</td>\n",
       "      <td>0.0</td>\n",
       "      <td>0.0</td>\n",
       "      <td>1.0</td>\n",
       "      <td>0.0</td>\n",
       "      <td>0.0</td>\n",
       "      <td>0.0</td>\n",
       "      <td>0.0</td>\n",
       "      <td>0.0</td>\n",
       "      <td>4.0</td>\n",
       "    </tr>\n",
       "    <tr>\n",
       "      <th>1</th>\n",
       "      <td>0.0</td>\n",
       "      <td>1.0</td>\n",
       "      <td>0.0</td>\n",
       "      <td>-1.0</td>\n",
       "      <td>0.0</td>\n",
       "      <td>0.0</td>\n",
       "      <td>0.0</td>\n",
       "      <td>0.0</td>\n",
       "      <td>0.0</td>\n",
       "      <td>0.0</td>\n",
       "      <td>...</td>\n",
       "      <td>0.0</td>\n",
       "      <td>0.0</td>\n",
       "      <td>0.0</td>\n",
       "      <td>0.0</td>\n",
       "      <td>1.0</td>\n",
       "      <td>-1.0</td>\n",
       "      <td>0.0</td>\n",
       "      <td>0.0</td>\n",
       "      <td>0.0</td>\n",
       "      <td>1.0</td>\n",
       "    </tr>\n",
       "    <tr>\n",
       "      <th>2</th>\n",
       "      <td>1.0</td>\n",
       "      <td>-1.0</td>\n",
       "      <td>0.0</td>\n",
       "      <td>0.0</td>\n",
       "      <td>0.0</td>\n",
       "      <td>0.0</td>\n",
       "      <td>0.0</td>\n",
       "      <td>0.0</td>\n",
       "      <td>0.0</td>\n",
       "      <td>0.0</td>\n",
       "      <td>...</td>\n",
       "      <td>0.0</td>\n",
       "      <td>0.0</td>\n",
       "      <td>0.0</td>\n",
       "      <td>1.0</td>\n",
       "      <td>0.0</td>\n",
       "      <td>0.0</td>\n",
       "      <td>0.0</td>\n",
       "      <td>0.0</td>\n",
       "      <td>0.0</td>\n",
       "      <td>6.0</td>\n",
       "    </tr>\n",
       "    <tr>\n",
       "      <th>3</th>\n",
       "      <td>0.0</td>\n",
       "      <td>0.0</td>\n",
       "      <td>0.0</td>\n",
       "      <td>0.0</td>\n",
       "      <td>0.0</td>\n",
       "      <td>0.0</td>\n",
       "      <td>0.0</td>\n",
       "      <td>0.0</td>\n",
       "      <td>0.0</td>\n",
       "      <td>0.0</td>\n",
       "      <td>...</td>\n",
       "      <td>0.0</td>\n",
       "      <td>0.0</td>\n",
       "      <td>0.0</td>\n",
       "      <td>0.0</td>\n",
       "      <td>0.0</td>\n",
       "      <td>-1.0</td>\n",
       "      <td>0.0</td>\n",
       "      <td>0.0</td>\n",
       "      <td>0.0</td>\n",
       "      <td>0.0</td>\n",
       "    </tr>\n",
       "    <tr>\n",
       "      <th>4</th>\n",
       "      <td>0.0</td>\n",
       "      <td>0.0</td>\n",
       "      <td>0.0</td>\n",
       "      <td>0.0</td>\n",
       "      <td>0.0</td>\n",
       "      <td>1.0</td>\n",
       "      <td>-1.0</td>\n",
       "      <td>0.0</td>\n",
       "      <td>0.0</td>\n",
       "      <td>0.0</td>\n",
       "      <td>...</td>\n",
       "      <td>0.0</td>\n",
       "      <td>0.0</td>\n",
       "      <td>-1.0</td>\n",
       "      <td>0.0</td>\n",
       "      <td>0.0</td>\n",
       "      <td>0.0</td>\n",
       "      <td>0.0</td>\n",
       "      <td>0.0</td>\n",
       "      <td>0.0</td>\n",
       "      <td>3.0</td>\n",
       "    </tr>\n",
       "  </tbody>\n",
       "</table>\n",
       "<p>5 rows × 81 columns</p>\n",
       "</div>"
      ],
      "text/plain": [
       "   1400  1401  1402  1412  1413  1414  1416  1419  2065  3001  ...   3508  \\\n",
       "0  -1.0   0.0   0.0   0.0   0.0   0.0   1.0   0.0   0.0   0.0  ...    0.0   \n",
       "1   0.0   1.0   0.0  -1.0   0.0   0.0   0.0   0.0   0.0   0.0  ...    0.0   \n",
       "2   1.0  -1.0   0.0   0.0   0.0   0.0   0.0   0.0   0.0   0.0  ...    0.0   \n",
       "3   0.0   0.0   0.0   0.0   0.0   0.0   0.0   0.0   0.0   0.0  ...    0.0   \n",
       "4   0.0   0.0   0.0   0.0   0.0   1.0  -1.0   0.0   0.0   0.0  ...    0.0   \n",
       "\n",
       "   3512  3742  3748  3800  3812  3814  3905  3907  0     \n",
       "0   0.0   0.0   1.0   0.0   0.0   0.0   0.0   0.0   4.0  \n",
       "1   0.0   0.0   0.0   1.0  -1.0   0.0   0.0   0.0   1.0  \n",
       "2   0.0   0.0   1.0   0.0   0.0   0.0   0.0   0.0   6.0  \n",
       "3   0.0   0.0   0.0   0.0  -1.0   0.0   0.0   0.0   0.0  \n",
       "4   0.0  -1.0   0.0   0.0   0.0   0.0   0.0   0.0   3.0  \n",
       "\n",
       "[5 rows x 81 columns]"
      ]
     },
     "execution_count": 53,
     "metadata": {},
     "output_type": "execute_result"
    }
   ],
   "source": [
    "team_items_df.head()"
   ]
  },
  {
   "cell_type": "code",
   "execution_count": 54,
   "metadata": {},
   "outputs": [],
   "source": [
    "X_1_train, X_1_test, y_1_train, y_1_test = train_test_split(team_items_df.values, team_results,\n",
    "                                                            test_size=0.3,\n",
    "                                                            random_state=13,\n",
    "                                                            stratify=team_results)"
   ]
  },
  {
   "cell_type": "code",
   "execution_count": 55,
   "metadata": {},
   "outputs": [
    {
     "name": "stderr",
     "output_type": "stream",
     "text": [
      "C:\\Users\\sebia\\Miniconda2\\lib\\site-packages\\sklearn\\linear_model\\logistic.py:433: FutureWarning: Default solver will be changed to 'lbfgs' in 0.22. Specify a solver to silence this warning.\n",
      "  FutureWarning)\n"
     ]
    },
    {
     "data": {
      "text/plain": [
       "LogisticRegression(C=1.0, class_weight=None, dual=False, fit_intercept=True,\n",
       "          intercept_scaling=1, max_iter=100, multi_class='warn',\n",
       "          n_jobs=None, penalty='l2', random_state=13, solver='warn',\n",
       "          tol=0.0001, verbose=0, warm_start=False)"
      ]
     },
     "execution_count": 55,
     "metadata": {},
     "output_type": "execute_result"
    }
   ],
   "source": [
    "lr_model = LogisticRegression(random_state=13)\n",
    "lr_model.fit(X_1_train, y_1_train)"
   ]
  },
  {
   "cell_type": "code",
   "execution_count": 56,
   "metadata": {},
   "outputs": [
    {
     "data": {
      "text/plain": [
       "0.91962905718701704"
      ]
     },
     "execution_count": 56,
     "metadata": {},
     "output_type": "execute_result"
    }
   ],
   "source": [
    "lr_model.score(X_1_train, y_1_train)"
   ]
  },
  {
   "cell_type": "code",
   "execution_count": 57,
   "metadata": {},
   "outputs": [
    {
     "data": {
      "text/plain": [
       "0.88848920863309355"
      ]
     },
     "execution_count": 57,
     "metadata": {},
     "output_type": "execute_result"
    }
   ],
   "source": [
    "lr_model.score(X_1_test, y_1_test)"
   ]
  },
  {
   "cell_type": "markdown",
   "metadata": {},
   "source": [
    "Wow! This model has a much better accuracy than the previous. \n",
    "\n",
    "I suppose Random Forests are not super accurate, but give a good idea of the important features.\n",
    "\n",
    "To do some hyperparameter tuning, we can consider the penalty, the regularization strength C, and maybe the intercept (fit_intercept)?\n",
    "\n",
    "Below is the model's intercept (which should be what it outputs if I give it no data?). I would think that, given an empty matrix of item counts, the model should output a 50/50 chance for either side to win."
   ]
  },
  {
   "cell_type": "code",
   "execution_count": 58,
   "metadata": {},
   "outputs": [
    {
     "data": {
      "text/plain": [
       "array([ 0.28033277])"
      ]
     },
     "execution_count": 58,
     "metadata": {},
     "output_type": "execute_result"
    }
   ],
   "source": [
    "lr_model.intercept_"
   ]
  },
  {
   "cell_type": "code",
   "execution_count": 59,
   "metadata": {
    "scrolled": true
   },
   "outputs": [
    {
     "data": {
      "text/plain": [
       "array([[ 0.0980002 ,  0.34905936, -0.25290086,  0.39459806,  0.2135976 ,\n",
       "         0.5191459 ,  0.35484465, -0.31160697,  0.14108985,  0.86528346,\n",
       "         0.70590727, -0.05656494,  1.11518232,  0.92975683,  0.7658619 ,\n",
       "         0.69113393,  0.05942467,  1.29569907,  1.25647597,  0.79682886,\n",
       "         1.00217977,  0.54095208,  0.28209   ,  0.69833598,  1.09795039,\n",
       "         1.35691736,  0.80979715,  1.06250325,  0.13192074,  0.79614345,\n",
       "         0.89046008,  0.9278439 ,  1.04463767,  0.9292695 ,  0.5648618 ,\n",
       "         0.84287775,  0.96959757,  1.61444515, -0.18502289,  0.35527049,\n",
       "         0.18562241,  1.05072352,  0.97179722,  1.1940411 ,  0.89789156,\n",
       "         0.69347775,  0.89420433,  0.77352342,  0.25888616,  1.12743352,\n",
       "         0.7493776 ,  1.03151347,  0.55808893,  0.78418407,  0.67056858,\n",
       "         1.10934189,  1.52762438,  0.52301203,  0.96097673,  0.82121645,\n",
       "         1.05699475,  1.09852057,  0.05039167,  0.98444418,  1.30911745,\n",
       "         0.58638982,  0.49307434,  0.12655559,  1.06122933,  0.53491982,\n",
       "         1.08802342,  0.74286189,  0.99468773,  0.96044049,  0.9842963 ,\n",
       "         0.98183164,  1.16153992,  1.17912277,  0.2823252 ,  0.80531924,\n",
       "        -0.3463019 ]])"
      ]
     },
     "execution_count": 59,
     "metadata": {},
     "output_type": "execute_result"
    }
   ],
   "source": [
    "lr_model.coef_"
   ]
  },
  {
   "cell_type": "markdown",
   "metadata": {},
   "source": [
    "Interesting. It looks like the last coefficient (Empty item slot) has a strong negative value, but is not the only negative coefficient."
   ]
  },
  {
   "cell_type": "markdown",
   "metadata": {},
   "source": [
    "### Logistic Regression Hyperparameter Tuning\n",
    "\n",
    "Tune the penalty function, the regularization strength C, and using the intercept. Don't know if I should test different solvers."
   ]
  },
  {
   "cell_type": "code",
   "execution_count": 60,
   "metadata": {},
   "outputs": [],
   "source": [
    "lr_model_gs = LogisticRegression(random_state=13)\n",
    "\n",
    "params={'penalty': ['l1', 'l2'],\n",
    "        'C': [0.1, 1.0, 10, 100],\n",
    "        'fit_intercept': [True, False]}\n",
    "\n",
    "lr_gridsearch = GridSearchCV(lr_model_gs, param_grid=params, cv=5)"
   ]
  },
  {
   "cell_type": "code",
   "execution_count": 61,
   "metadata": {},
   "outputs": [
    {
     "name": "stderr",
     "output_type": "stream",
     "text": [
      "C:\\Users\\sebia\\Miniconda2\\lib\\site-packages\\sklearn\\model_selection\\_search.py:841: DeprecationWarning: The default of the `iid` parameter will change from True to False in version 0.22 and will be removed in 0.24. This will change numeric results when test-set sizes are unequal.\n",
      "  DeprecationWarning)\n"
     ]
    },
    {
     "data": {
      "text/plain": [
       "GridSearchCV(cv=5, error_score='raise-deprecating',\n",
       "       estimator=LogisticRegression(C=1.0, class_weight=None, dual=False, fit_intercept=True,\n",
       "          intercept_scaling=1, max_iter=100, multi_class='warn',\n",
       "          n_jobs=None, penalty='l2', random_state=13, solver='warn',\n",
       "          tol=0.0001, verbose=0, warm_start=False),\n",
       "       fit_params=None, iid='warn', n_jobs=None,\n",
       "       param_grid={'penalty': ['l1', 'l2'], 'C': [0.1, 1.0, 10, 100], 'fit_intercept': [True, False]},\n",
       "       pre_dispatch='2*n_jobs', refit=True, return_train_score='warn',\n",
       "       scoring=None, verbose=0)"
      ]
     },
     "execution_count": 61,
     "metadata": {},
     "output_type": "execute_result"
    }
   ],
   "source": [
    "lr_gridsearch.fit(X_1_train, y_1_train)"
   ]
  },
  {
   "cell_type": "code",
   "execution_count": 62,
   "metadata": {},
   "outputs": [
    {
     "data": {
      "text/plain": [
       "LogisticRegression(C=1.0, class_weight=None, dual=False, fit_intercept=True,\n",
       "          intercept_scaling=1, max_iter=100, multi_class='warn',\n",
       "          n_jobs=None, penalty='l2', random_state=13, solver='warn',\n",
       "          tol=0.0001, verbose=0, warm_start=False)"
      ]
     },
     "execution_count": 62,
     "metadata": {},
     "output_type": "execute_result"
    }
   ],
   "source": [
    "lr_gridsearch.best_estimator_"
   ]
  },
  {
   "cell_type": "markdown",
   "metadata": {},
   "source": [
    "The best estimator used l2 penalty, C=1.0, and fit_intercept=True, all default settings."
   ]
  },
  {
   "cell_type": "code",
   "execution_count": 63,
   "metadata": {},
   "outputs": [
    {
     "data": {
      "text/plain": [
       "0.84853168469860896"
      ]
     },
     "execution_count": 63,
     "metadata": {},
     "output_type": "execute_result"
    }
   ],
   "source": [
    "lr_gridsearch.best_score_"
   ]
  },
  {
   "cell_type": "code",
   "execution_count": 64,
   "metadata": {},
   "outputs": [
    {
     "name": "stderr",
     "output_type": "stream",
     "text": [
      "C:\\Users\\sebia\\Miniconda2\\lib\\site-packages\\sklearn\\utils\\deprecation.py:125: FutureWarning: You are accessing a training score ('mean_train_score'), which will not be available by default any more in 0.21. If you need training scores, please set return_train_score=True\n",
      "  warnings.warn(*warn_args, **warn_kwargs)\n",
      "C:\\Users\\sebia\\Miniconda2\\lib\\site-packages\\sklearn\\utils\\deprecation.py:125: FutureWarning: You are accessing a training score ('split0_train_score'), which will not be available by default any more in 0.21. If you need training scores, please set return_train_score=True\n",
      "  warnings.warn(*warn_args, **warn_kwargs)\n",
      "C:\\Users\\sebia\\Miniconda2\\lib\\site-packages\\sklearn\\utils\\deprecation.py:125: FutureWarning: You are accessing a training score ('split1_train_score'), which will not be available by default any more in 0.21. If you need training scores, please set return_train_score=True\n",
      "  warnings.warn(*warn_args, **warn_kwargs)\n",
      "C:\\Users\\sebia\\Miniconda2\\lib\\site-packages\\sklearn\\utils\\deprecation.py:125: FutureWarning: You are accessing a training score ('split2_train_score'), which will not be available by default any more in 0.21. If you need training scores, please set return_train_score=True\n",
      "  warnings.warn(*warn_args, **warn_kwargs)\n",
      "C:\\Users\\sebia\\Miniconda2\\lib\\site-packages\\sklearn\\utils\\deprecation.py:125: FutureWarning: You are accessing a training score ('split3_train_score'), which will not be available by default any more in 0.21. If you need training scores, please set return_train_score=True\n",
      "  warnings.warn(*warn_args, **warn_kwargs)\n",
      "C:\\Users\\sebia\\Miniconda2\\lib\\site-packages\\sklearn\\utils\\deprecation.py:125: FutureWarning: You are accessing a training score ('split4_train_score'), which will not be available by default any more in 0.21. If you need training scores, please set return_train_score=True\n",
      "  warnings.warn(*warn_args, **warn_kwargs)\n",
      "C:\\Users\\sebia\\Miniconda2\\lib\\site-packages\\sklearn\\utils\\deprecation.py:125: FutureWarning: You are accessing a training score ('std_train_score'), which will not be available by default any more in 0.21. If you need training scores, please set return_train_score=True\n",
      "  warnings.warn(*warn_args, **warn_kwargs)\n"
     ]
    },
    {
     "data": {
      "text/plain": [
       "{'mean_fit_time': array([ 0.00120001,  0.00219998,  0.00119996,  0.00140004,  0.00160007,\n",
       "         0.0026    ,  0.00179996,  0.00199995,  0.0046    ,  0.00300002,\n",
       "         0.0046    ,  0.00300002,  0.01239996,  0.00400004,  0.0111999 ,\n",
       "         0.00419993]),\n",
       " 'mean_score_time': array([ 0.00279999,  0.        ,  0.        ,  0.00039997,  0.0006    ,\n",
       "         0.        ,  0.        ,  0.00099998,  0.00040007,  0.00039997,\n",
       "         0.00019999,  0.00040002,  0.00040007,  0.00260005,  0.00019999,  0.        ]),\n",
       " 'mean_test_score': array([ 0.71406491,  0.83771252,  0.71251932,  0.83462133,  0.82689335,\n",
       "         0.84853168,  0.83307573,  0.8438949 ,  0.83462133,  0.83616692,\n",
       "         0.83771252,  0.84544049,  0.83153014,  0.83153014,  0.82225657,\n",
       "         0.82534776]),\n",
       " 'mean_train_score': array([ 0.77201374,  0.89837628,  0.77317279,  0.89180436,  0.92542277,\n",
       "         0.92928229,  0.92155803,  0.9250322 ,  0.93932317,  0.93816263,\n",
       "         0.94086981,  0.93778249,  0.93970778,  0.93932243,  0.94241422,\n",
       "         0.94202886]),\n",
       " 'param_C': masked_array(data = [0.1 0.1 0.1 0.1 1.0 1.0 1.0 1.0 10 10 10 10 100 100 100 100],\n",
       "              mask = [False False False False False False False False False False False False\n",
       "  False False False False],\n",
       "        fill_value = ?),\n",
       " 'param_fit_intercept': masked_array(data = [True True False False True True False False True True False False True\n",
       "  True False False],\n",
       "              mask = [False False False False False False False False False False False False\n",
       "  False False False False],\n",
       "        fill_value = ?),\n",
       " 'param_penalty': masked_array(data = ['l1' 'l2' 'l1' 'l2' 'l1' 'l2' 'l1' 'l2' 'l1' 'l2' 'l1' 'l2' 'l1' 'l2' 'l1'\n",
       "  'l2'],\n",
       "              mask = [False False False False False False False False False False False False\n",
       "  False False False False],\n",
       "        fill_value = ?),\n",
       " 'params': [{'C': 0.1, 'fit_intercept': True, 'penalty': 'l1'},\n",
       "  {'C': 0.1, 'fit_intercept': True, 'penalty': 'l2'},\n",
       "  {'C': 0.1, 'fit_intercept': False, 'penalty': 'l1'},\n",
       "  {'C': 0.1, 'fit_intercept': False, 'penalty': 'l2'},\n",
       "  {'C': 1.0, 'fit_intercept': True, 'penalty': 'l1'},\n",
       "  {'C': 1.0, 'fit_intercept': True, 'penalty': 'l2'},\n",
       "  {'C': 1.0, 'fit_intercept': False, 'penalty': 'l1'},\n",
       "  {'C': 1.0, 'fit_intercept': False, 'penalty': 'l2'},\n",
       "  {'C': 10, 'fit_intercept': True, 'penalty': 'l1'},\n",
       "  {'C': 10, 'fit_intercept': True, 'penalty': 'l2'},\n",
       "  {'C': 10, 'fit_intercept': False, 'penalty': 'l1'},\n",
       "  {'C': 10, 'fit_intercept': False, 'penalty': 'l2'},\n",
       "  {'C': 100, 'fit_intercept': True, 'penalty': 'l1'},\n",
       "  {'C': 100, 'fit_intercept': True, 'penalty': 'l2'},\n",
       "  {'C': 100, 'fit_intercept': False, 'penalty': 'l1'},\n",
       "  {'C': 100, 'fit_intercept': False, 'penalty': 'l2'}],\n",
       " 'rank_test_score': array([15,  4, 16,  7, 12,  1,  9,  3,  7,  6,  4,  2, 10, 10, 14, 13]),\n",
       " 'split0_test_score': array([ 0.76153846,  0.8       ,  0.76153846,  0.81538462,  0.76923077,\n",
       "         0.8       ,  0.78461538,  0.8       ,  0.8       ,  0.8       ,\n",
       "         0.8       ,  0.81538462,  0.79230769,  0.79230769,  0.78461538,\n",
       "         0.79230769]),\n",
       " 'split0_train_score': array([ 0.76402321,  0.90909091,  0.76402321,  0.89748549,  0.93810445,\n",
       "         0.94003868,  0.93230174,  0.93810445,  0.94197292,  0.94197292,\n",
       "         0.94390716,  0.94003868,  0.94390716,  0.94197292,  0.94197292,\n",
       "         0.94197292]),\n",
       " 'split1_test_score': array([ 0.76153846,  0.85384615,  0.76153846,  0.83846154,  0.85384615,\n",
       "         0.87692308,  0.87692308,  0.87692308,  0.86923077,  0.86923077,\n",
       "         0.89230769,  0.88461538,  0.87692308,  0.87692308,  0.86923077,\n",
       "         0.86923077]),\n",
       " 'split1_train_score': array([ 0.77369439,  0.89748549,  0.77369439,  0.88974855,  0.91489362,\n",
       "         0.91295938,  0.91489362,  0.91295938,  0.92263056,  0.92263056,\n",
       "         0.9303675 ,  0.92843327,  0.9245648 ,  0.9245648 ,  0.9303675 ,\n",
       "         0.93230174]),\n",
       " 'split2_test_score': array([ 0.73076923,  0.91538462,  0.73846154,  0.89230769,  0.90769231,\n",
       "         0.9       ,  0.9       ,  0.90769231,  0.89230769,  0.89230769,\n",
       "         0.88461538,  0.88461538,  0.88461538,  0.88461538,  0.87692308,\n",
       "         0.87692308]),\n",
       " 'split2_train_score': array([ 0.7582205 ,  0.88588008,  0.76208897,  0.88201161,  0.92069632,\n",
       "         0.92263056,  0.91489362,  0.91682785,  0.93423598,  0.9303675 ,\n",
       "         0.93230174,  0.93423598,  0.9303675 ,  0.93230174,  0.93617021,\n",
       "         0.93423598]),\n",
       " 'split3_test_score': array([ 0.68217054,  0.86821705,  0.6744186 ,  0.86821705,  0.87596899,\n",
       "         0.89147287,  0.86821705,  0.88372093,  0.84496124,  0.85271318,\n",
       "         0.85271318,  0.87596899,  0.84496124,  0.84496124,  0.82945736,\n",
       "         0.82945736]),\n",
       " 'split3_train_score': array([ 0.78378378,  0.9015444 ,  0.78378378,  0.89382239,  0.92471042,\n",
       "         0.93629344,  0.91891892,  0.92277992,  0.94594595,  0.94208494,\n",
       "         0.94401544,  0.94015444,  0.94401544,  0.94401544,  0.94787645,\n",
       "         0.94787645]),\n",
       " 'split4_test_score': array([ 0.6328125,  0.75     ,  0.625    ,  0.7578125,  0.7265625,\n",
       "         0.7734375,  0.734375 ,  0.75     ,  0.765625 ,  0.765625 ,\n",
       "         0.7578125,  0.765625 ,  0.7578125,  0.7578125,  0.75     ,\n",
       "         0.7578125]),\n",
       " 'split4_train_score': array([ 0.78034682,  0.89788054,  0.7822736 ,  0.89595376,  0.92870906,\n",
       "         0.9344894 ,  0.92678227,  0.9344894 ,  0.95183044,  0.95375723,\n",
       "         0.95375723,  0.9460501 ,  0.95568401,  0.95375723,  0.95568401,\n",
       "         0.95375723]),\n",
       " 'std_fit_time': array([  3.99923339e-04,   9.79744356e-04,   3.99947177e-04,\n",
       "          4.89940316e-04,   4.89920847e-04,   4.89920847e-04,\n",
       "          4.00018706e-04,   1.16800773e-07,   1.35646611e-03,\n",
       "          0.00000000e+00,   1.35643096e-03,   0.00000000e+00,\n",
       "          1.28467447e-02,   6.32485093e-04,   1.19398225e-02,\n",
       "          7.48277239e-04]),\n",
       " 'std_score_time': array([ 0.00559998,  0.        ,  0.        ,  0.00048986,  0.0004899 ,\n",
       "         0.        ,  0.        ,  0.00154917,  0.00048998,  0.00048986,\n",
       "         0.00039997,  0.00048992,  0.00048998,  0.00471595,  0.00039997,  0.        ]),\n",
       " 'std_test_score': array([ 0.04970581,  0.05707742,  0.05390379,  0.04623998,  0.06780457,\n",
       "         0.05148533,  0.0627024 ,  0.05902995,  0.04597016,  0.04641994,\n",
       "         0.05132763,  0.04737472,  0.04899398,  0.04899398,  0.04870059,\n",
       "         0.0452376 ]),\n",
       " 'std_train_score': array([ 0.00964262,  0.00751045,  0.00896946,  0.00554418,  0.00781453,\n",
       "         0.0100265 ,  0.00690672,  0.00978222,  0.01011768,  0.01072477,\n",
       "         0.00858972,  0.00598424,  0.01102707,  0.01004481,  0.00883435,\n",
       "         0.00808824])}"
      ]
     },
     "execution_count": 64,
     "metadata": {},
     "output_type": "execute_result"
    }
   ],
   "source": [
    "lr_gridsearch.cv_results_"
   ]
  },
  {
   "cell_type": "markdown",
   "metadata": {},
   "source": [
    "Mean training scores for the cross-validation were between 0.77 and 0.95, skewed heavily towards the latter.\n",
    "\n",
    "Mean test scores for the cross-validation were between 0.71 and 0.85, skewed heavily towards the latter."
   ]
  },
  {
   "cell_type": "code",
   "execution_count": 65,
   "metadata": {},
   "outputs": [
    {
     "data": {
      "text/plain": [
       "0.88848920863309355"
      ]
     },
     "execution_count": 65,
     "metadata": {},
     "output_type": "execute_result"
    }
   ],
   "source": [
    "lr_gridsearch.score(X_1_test, y_1_test)"
   ]
  },
  {
   "cell_type": "markdown",
   "metadata": {},
   "source": [
    "Unsurprisingly, since the best parameters were the default ones, this model performs identically to the stock Logistic Regression model.\n",
    "\n",
    "Let's look at the coefficients. They are identical to the other model as well. Nice."
   ]
  },
  {
   "cell_type": "code",
   "execution_count": 66,
   "metadata": {},
   "outputs": [
    {
     "data": {
      "text/plain": [
       "array([[ 0.,  0.,  0.,  0.,  0.,  0.,  0.,  0.,  0.,  0.,  0.,  0.,  0.,\n",
       "         0.,  0.,  0.,  0.,  0.,  0.,  0.,  0.,  0.,  0.,  0.,  0.,  0.,\n",
       "         0.,  0.,  0.,  0.,  0.,  0.,  0.,  0.,  0.,  0.,  0.,  0.,  0.,\n",
       "         0.,  0.,  0.,  0.,  0.,  0.,  0.,  0.,  0.,  0.,  0.,  0.,  0.,\n",
       "         0.,  0.,  0.,  0.,  0.,  0.,  0.,  0.,  0.,  0.,  0.,  0.,  0.,\n",
       "         0.,  0.,  0.,  0.,  0.,  0.,  0.,  0.,  0.,  0.,  0.,  0.,  0.,\n",
       "         0.,  0.,  0.]])"
      ]
     },
     "execution_count": 66,
     "metadata": {},
     "output_type": "execute_result"
    }
   ],
   "source": [
    "lr_gridsearch.best_estimator_.coef_ - lr_model.coef_"
   ]
  },
  {
   "cell_type": "code",
   "execution_count": 67,
   "metadata": {},
   "outputs": [],
   "source": [
    "lr_results_df = pd.DataFrame(data=lr_model.coef_[0],\n",
    "                             columns=['Feature Coefficients'],\n",
    "                             index=team_items_df.columns.values)\n",
    "lr_results_df = lr_results_df.join(item_occ['name'])\n",
    "lr_results_df.loc[0, 'name'] = 'Empty'"
   ]
  },
  {
   "cell_type": "code",
   "execution_count": 118,
   "metadata": {},
   "outputs": [
    {
     "data": {
      "image/png": "[encoded data removed]",
      "text/plain": [
       "<matplotlib.figure.Figure at 0x137c4e80>"
      ]
     },
     "metadata": {
      "needs_background": "light"
     },
     "output_type": "display_data"
    }
   ],
   "source": [
    "plt.rcParams[\"figure.figsize\"] = (6, 4)\n",
    "_ = lr_results_df.plot.hist('Feature Coefficients')\n",
    "_ = plt.title('Logistic Regression Feature Coefficients')\n",
    "_ = plt.ylim([0, 20])\n",
    "plt.savefig('../analysis_images/lr_feature_coefs.png')"
   ]
  },
  {
   "cell_type": "code",
   "execution_count": 69,
   "metadata": {},
   "outputs": [
    {
     "data": {
      "image/png": "[encoded data removed]",
      "text/plain": [
       "<matplotlib.figure.Figure at 0x14c936d8>"
      ]
     },
     "metadata": {
      "needs_background": "light"
     },
     "output_type": "display_data"
    }
   ],
   "source": [
    "plt.rcParams[\"figure.figsize\"] = (16, 4)\n",
    "_ = lr_results_df.sort_values('Feature Coefficients', ascending=False\n",
    "                             ).iloc[0:10, :].plot(y='Feature Coefficients', x='name', kind='barh',\n",
    "                                                  color='b', legend=False)\n",
    "_ = plt.title('Top 10 Features in the Logistic Regression')\n",
    "_ = plt.xlabel('Feature Coefficients')\n",
    "plt.savefig('../analysis_images/lr_fcoefs_best.png')"
   ]
  },
  {
   "cell_type": "code",
   "execution_count": 70,
   "metadata": {},
   "outputs": [
    {
     "data": {
      "image/png": "[encoded data removed]",
      "text/plain": [
       "<matplotlib.figure.Figure at 0x1471eb00>"
      ]
     },
     "metadata": {
      "needs_background": "light"
     },
     "output_type": "display_data"
    }
   ],
   "source": [
    "_ = lr_results_df.sort_values('Feature Coefficients', ascending=True\n",
    "                             ).iloc[0:10, :].plot(y='Feature Coefficients', x='name', kind='barh',\n",
    "                                                  color='b', legend=False)\n",
    "_ = plt.title('Bottom 10 Features in the Logistic Regression')\n",
    "_ = plt.xlabel('Feature Coefficients')\n",
    "plt.savefig('../analysis_images/lr_fcoefs_worst.png')"
   ]
  },
  {
   "cell_type": "markdown",
   "metadata": {},
   "source": [
    "So, there are 4 items that this algorithm claims will contribute to losing a game if you buy them.\n",
    "\n",
    "However, the empty item slot is still the strongest indicator of losing a game."
   ]
  },
  {
   "cell_type": "code",
   "execution_count": 71,
   "metadata": {
    "scrolled": false
   },
   "outputs": [],
   "source": [
    "# Attach Machine Learning results to the item statistics df\n",
    "item_occ = item_occ.join(forest_results_df.drop('name', axis=1), how='left'\n",
    "                        ).join(lr_results_df.drop('name', axis=1), how='left')"
   ]
  },
  {
   "cell_type": "code",
   "execution_count": 72,
   "metadata": {
    "scrolled": false
   },
   "outputs": [
    {
     "data": {
      "image/png": "[encoded data removed]",
      "text/plain": [
       "<matplotlib.figure.Figure at 0x14c99080>"
      ]
     },
     "metadata": {
      "needs_background": "light"
     },
     "output_type": "display_data"
    }
   ],
   "source": [
    "plt.rcParams[\"figure.figsize\"] = (8, 6)\n",
    "_ = item_occ.plot(x='Feature Importance', y='Feature Coefficients', kind='scatter')\n",
    "_ = plt.title('Comparing ML Algorithm Results')\n",
    "_ = plt.ylabel('Logistic Regression Feature Coefficients')\n",
    "_ = plt.xlabel('Random Forest Feature Importances')\n",
    "plt.savefig('../analysis_images/ml_model_comparison.png')"
   ]
  },
  {
   "cell_type": "markdown",
   "metadata": {},
   "source": [
    "The algorithms mostly agree that the items that are important are the items that have a stronger chance to make you win. \n",
    "\n",
    "This is to say that there is a strong correlation between items that are more likely to make you win (Logistic Regression Feature Coefficients) and items that were deemed important in the Random Forest (Feature Importances)."
   ]
  },
  {
   "cell_type": "code",
   "execution_count": 73,
   "metadata": {},
   "outputs": [],
   "source": [
    "# Install a boolean column for visualizations of anomalous items vs the whole\n",
    "item_occ['Anomalous Win Rate'] = 'blue'\n",
    "item_occ.loc[(item_occ['full_item'] == True) &\n",
    "             (no_edge_cases) &\n",
    "             (item_occ['count_unmasked'] > 10) &\n",
    "             ((item_occ['wr_unmasked'] - full_item_avg_wr_unmasked).abs() >\n",
    "              (item_occ['wr_std_unmasked'] * 1.96)), 'Anomalous Win Rate'] = 'red'"
   ]
  },
  {
   "cell_type": "code",
   "execution_count": 74,
   "metadata": {},
   "outputs": [
    {
     "data": {
      "text/plain": [
       "blue    190\n",
       "red      18\n",
       "Name: Anomalous Win Rate, dtype: int64"
      ]
     },
     "execution_count": 74,
     "metadata": {},
     "output_type": "execute_result"
    }
   ],
   "source": [
    "item_occ['Anomalous Win Rate'].value_counts()"
   ]
  },
  {
   "cell_type": "markdown",
   "metadata": {},
   "source": [
    "Here are the anomalous win-rate items (the cyan graph) from earlier, plotted with their Logistic Regression Feature Coefficients"
   ]
  },
  {
   "cell_type": "code",
   "execution_count": 75,
   "metadata": {},
   "outputs": [
    {
     "data": {
      "image/png": "[encoded data removed]",
      "text/plain": [
       "<matplotlib.figure.Figure at 0x1296d278>"
      ]
     },
     "metadata": {
      "needs_background": "light"
     },
     "output_type": "display_data"
    }
   ],
   "source": [
    "_ = item_occ[(item_occ['full_item'] == True) &\n",
    "             (no_edge_cases) &\n",
    "             (item_occ['count_unmasked'] > 10) &\n",
    "             ((item_occ['wr_unmasked'] - full_item_avg_wr_unmasked).abs() >\n",
    "              (item_occ['wr_std_unmasked'] * 1.96))].plot(y='Feature Coefficients', x='wr_unmasked',\n",
    "                                                          kind='scatter', xerr='wr_std_unmasked',\n",
    "                                                          label='Items', color='red')\n",
    "_ = plt.plot(np.full(50, full_item_avg_wr_unmasked), np.linspace(-0.30, 1.7, 50), 'r--', label='Avg Win Rate: 0.563')\n",
    "\n",
    "_ = plt.legend()\n",
    "_ = plt.title('Anomalous Win Rate Items w/ Logistic Regression Feature Coefficients')\n",
    "_ = plt.xlabel('Win Rate after Unmasking')\n",
    "_ = plt.ylabel('Logistic Regression Feature Coefficients')\n",
    "plt.savefig('../analysis_images/lr_coefs_vs_win_rate_anomalous.png')"
   ]
  },
  {
   "cell_type": "markdown",
   "metadata": {},
   "source": [
    "For reference, here are the rest of the items. You'll notice they sit much closer to the red line, in general.\n",
    "\n",
    "I should try to color the anomalous points differently."
   ]
  },
  {
   "cell_type": "code",
   "execution_count": 76,
   "metadata": {},
   "outputs": [
    {
     "data": {
      "image/png": "[encoded data removed]",
      "text/plain": [
       "<matplotlib.figure.Figure at 0x151ee080>"
      ]
     },
     "metadata": {
      "needs_background": "light"
     },
     "output_type": "display_data"
    }
   ],
   "source": [
    "# Set up separate df so the code is cleaner\n",
    "plotting_df = item_occ[(item_occ['full_item'] == True) &\n",
    "                       (no_edge_cases) &\n",
    "                       (item_occ['count_unmasked'] > 10)]\n",
    "# Set up ax so that I can make multiple plot calls to the same plot\n",
    "plt.rcParams[\"figure.figsize\"] = (8, 6)\n",
    "fig, ax = plt.subplots()\n",
    "\n",
    "# Data\n",
    "plotting_df[plotting_df['Anomalous Win Rate'] == 'blue'\n",
    "                ].plot(y='Feature Coefficients', x='wr_unmasked', ax=ax,\n",
    "                     kind='scatter', label='Normal Items', xerr='wr_std_unmasked', color='b')\n",
    "plotting_df[plotting_df['Anomalous Win Rate'] == 'red'\n",
    "                ].plot(y='Feature Coefficients', x='wr_unmasked', ax=ax,\n",
    "                     kind='scatter', label='Anomalous Items', xerr='wr_std_unmasked', color='red')\n",
    "# Avg Win Rate Line\n",
    "plt.plot(np.full(50, full_item_avg_wr_unmasked), np.linspace(-0.35, 1.8, 50), 'r--', label='Avg Win Rate: 0.563')\n",
    "\n",
    "plt.legend()\n",
    "plt.title('Logistic Regression Feature Coefficients and Win Rates for All Full Items')\n",
    "plt.xlabel('Win Rate after Unmasking')\n",
    "plt.ylabel('Logistic Regression Feature Coefficients')\n",
    "plt.savefig('../analysis_images/lr_coefs_vs_win_rate_all.png')\n",
    "plt.show()"
   ]
  },
  {
   "cell_type": "markdown",
   "metadata": {},
   "source": [
    "This result is pretty interesting. At first glance, there seems to be an even spread of feature coefficients vs win rate for the anomalous items. However, there does appear to be a correlation between the win rate and the feature coefficient.\n",
    "\n",
    "Most of the anomalously high win rate items have pretty strong feature coefficients, and most of the anomalously low win rate items have fairly weak feature coefficients (a few below 0, even!).\n",
    "\n",
    "However, I have another question now. Not all items are supposed to have the same strength. Some items are stronger, but cost more to buy. Let's visualize this."
   ]
  },
  {
   "cell_type": "code",
   "execution_count": 77,
   "metadata": {},
   "outputs": [
    {
     "data": {
      "image/png": "[encoded data removed]",
      "text/plain": [
       "<matplotlib.figure.Figure at 0x152065c0>"
      ]
     },
     "metadata": {
      "needs_background": "light"
     },
     "output_type": "display_data"
    }
   ],
   "source": [
    "_ = plotting_df.plot('total_gold', 'wr_unmasked', kind='scatter')\n",
    "_ = plt.xlabel('Total Cost of Item (Gold)')\n",
    "_ = plt.ylabel('Item Win Rate')\n",
    "_ = plt.title('Win Rate vs Item Cost')"
   ]
  },
  {
   "cell_type": "markdown",
   "metadata": {},
   "source": [
    "Win Rate does not have an obvious correlation with item cost.\n",
    "\n",
    "However, the feature coefficient does correlate with item cost."
   ]
  },
  {
   "cell_type": "code",
   "execution_count": 78,
   "metadata": {},
   "outputs": [
    {
     "data": {
      "image/png": "[encoded data removed]",
      "text/plain": [
       "<matplotlib.figure.Figure at 0x149ed4a8>"
      ]
     },
     "metadata": {
      "needs_background": "light"
     },
     "output_type": "display_data"
    }
   ],
   "source": [
    "_ = plotting_df.plot('total_gold', 'Feature Coefficients', kind='scatter')\n",
    "_ = plt.xlabel('Total Cost of Item (Gold)')\n",
    "_ = plt.ylabel('Item Feature Coefficient')\n",
    "_ = plt.title('Feature Coefficient vs Item Cost')\n",
    "plt.savefig('../analysis_images/lr_fcoefs_vs_cost.png')"
   ]
  },
  {
   "cell_type": "markdown",
   "metadata": {},
   "source": [
    "I want to normalize the Feature Coefficients by the item's cost, then plot that vs win rate.\n",
    "\n",
    "This is essentially trying to see how much 'bang for your buck' each item has, according to the Logistic Regression."
   ]
  },
  {
   "cell_type": "code",
   "execution_count": 79,
   "metadata": {},
   "outputs": [
    {
     "data": {
      "image/png": "[encoded data removed]",
      "text/plain": [
       "<matplotlib.figure.Figure at 0x10568c88>"
      ]
     },
     "metadata": {
      "needs_background": "light"
     },
     "output_type": "display_data"
    }
   ],
   "source": [
    "plotting_df.loc[:, 'Gold-Normalized Feature Coefficients'] =\\\n",
    "    plotting_df['Feature Coefficients'] / plotting_df['total_gold']\n",
    "\n",
    "fig2, ax = plt.subplots()\n",
    "\n",
    "plotting_df[plotting_df['Anomalous Win Rate'] == 'blue'\n",
    "                ].plot(x='wr_unmasked', y='Gold-Normalized Feature Coefficients', ax=ax,\n",
    "                       kind='scatter', xerr='wr_std_unmasked', ylim=[-0.0002, 0.0006],\n",
    "                       color='b', label='Normal Items')\n",
    "\n",
    "plotting_df[plotting_df['Anomalous Win Rate'] == 'red'\n",
    "                ].plot(x='wr_unmasked', y='Gold-Normalized Feature Coefficients', ax=ax,\n",
    "                       kind='scatter', xerr='wr_std_unmasked', ylim=[-0.0002, 0.0006],\n",
    "                       color='red', label='Abnormal Items')\n",
    "\n",
    "plt.plot(np.full(50, full_item_avg_wr_unmasked), np.linspace(-0.00018, 0.00058, 50), 'r--', label='Avg Win Rate: 0.563')\n",
    "\n",
    "plt.title('Logistic Regression Bang for your Buck')\n",
    "plt.xlabel('Win Rate')\n",
    "plt.legend()\n",
    "plt.savefig('../analysis_images/lr_fcoefs_bang_for_buck.png')\n",
    "plt.show()"
   ]
  },
  {
   "cell_type": "code",
   "execution_count": 80,
   "metadata": {},
   "outputs": [
    {
     "data": {
      "image/png": "[encoded data removed]",
      "text/plain": [
       "<matplotlib.figure.Figure at 0x151ee080>"
      ]
     },
     "execution_count": 80,
     "metadata": {},
     "output_type": "execute_result"
    }
   ],
   "source": [
    "# Compare the gold-normalized plot with the original one\n",
    "fig"
   ]
  },
  {
   "cell_type": "markdown",
   "metadata": {},
   "source": [
    "This does not seem too different. I suppose this means that the items' costs are well-balanced.\n",
    "\n",
    "The most notable outlier (Mejai's Soulstealer, with a post-unmasking win rate of > 0.8), seems not very important to the Logistic Regression. This seems to indicate that the Logistic Regression might favor items that show up more, aka have a large pick rate.\n",
    "\n",
    "Let's see if this is true."
   ]
  },
  {
   "cell_type": "code",
   "execution_count": 81,
   "metadata": {},
   "outputs": [
    {
     "data": {
      "image/png": "[encoded data removed]",
      "text/plain": [
       "<matplotlib.figure.Figure at 0x129d9e48>"
      ]
     },
     "metadata": {
      "needs_background": "light"
     },
     "output_type": "display_data"
    }
   ],
   "source": [
    "plt.rcParams[\"figure.figsize\"] = (10, 10)\n",
    "fig3, (ax1, ax2) = plt.subplots(2, 1)\n",
    "\n",
    "plotting_df[plotting_df['Anomalous Win Rate'] == 'blue'\n",
    "                ].plot(x='pick_rate', y='Feature Coefficients', ax=ax1,\n",
    "                       kind='scatter',\n",
    "                       color='b', label='Normal Items')\n",
    "\n",
    "plotting_df[plotting_df['Anomalous Win Rate'] == 'red'\n",
    "                ].plot(x='pick_rate', y='Feature Coefficients', ax=ax1,\n",
    "                       kind='scatter',\n",
    "                       color='red', label='Abnormal Items')\n",
    "ax1.set_title('Feature Coefficients vs Pick Rate')\n",
    "\n",
    "plotting_df[plotting_df['Anomalous Win Rate'] == 'blue'\n",
    "                ].plot(x='pick_rate', y='Gold-Normalized Feature Coefficients', ax=ax2,\n",
    "                       kind='scatter', ylim=[-0.0002, 0.0006],\n",
    "                       color='b', label='Normal Items')\n",
    "\n",
    "plotting_df[plotting_df['Anomalous Win Rate'] == 'red'\n",
    "                ].plot(x='pick_rate', y='Gold-Normalized Feature Coefficients', ax=ax2,\n",
    "                       kind='scatter', ylim=[-0.0002, 0.0006],\n",
    "                       color='red', label='Abnormal Items')\n",
    "\n",
    "ax2.set_title('Normalized Feature Coefficients vs Pick Rate')\n",
    "plt.show()"
   ]
  },
  {
   "cell_type": "markdown",
   "metadata": {},
   "source": [
    "We can see that there is a slight correlation betwen Feature Coefficients and Pick Rate."
   ]
  },
  {
   "cell_type": "code",
   "execution_count": 82,
   "metadata": {},
   "outputs": [
    {
     "data": {
      "text/html": [
       "<div>\n",
       "<style scoped>\n",
       "    .dataframe tbody tr th:only-of-type {\n",
       "        vertical-align: middle;\n",
       "    }\n",
       "\n",
       "    .dataframe tbody tr th {\n",
       "        vertical-align: top;\n",
       "    }\n",
       "\n",
       "    .dataframe thead th {\n",
       "        text-align: right;\n",
       "    }\n",
       "</style>\n",
       "<table border=\"1\" class=\"dataframe\">\n",
       "  <thead>\n",
       "    <tr style=\"text-align: right;\">\n",
       "      <th></th>\n",
       "      <th>name</th>\n",
       "      <th>wr_unmasked</th>\n",
       "      <th>Feature Coefficients</th>\n",
       "    </tr>\n",
       "    <tr>\n",
       "      <th>item_id</th>\n",
       "      <th></th>\n",
       "      <th></th>\n",
       "      <th></th>\n",
       "    </tr>\n",
       "  </thead>\n",
       "  <tbody>\n",
       "    <tr>\n",
       "      <th>3089</th>\n",
       "      <td>Rabadon's Deathcap</td>\n",
       "      <td>0.679054</td>\n",
       "      <td>1.614445</td>\n",
       "    </tr>\n",
       "    <tr>\n",
       "      <th>3151</th>\n",
       "      <td>Liandry's Torment</td>\n",
       "      <td>0.622074</td>\n",
       "      <td>1.527624</td>\n",
       "    </tr>\n",
       "    <tr>\n",
       "      <th>3053</th>\n",
       "      <td>Sterak's Gage</td>\n",
       "      <td>0.641638</td>\n",
       "      <td>1.356917</td>\n",
       "    </tr>\n",
       "    <tr>\n",
       "      <th>3031</th>\n",
       "      <td>Infinity Edge</td>\n",
       "      <td>0.653753</td>\n",
       "      <td>1.295699</td>\n",
       "    </tr>\n",
       "    <tr>\n",
       "      <th>3050</th>\n",
       "      <td>Zeke's Convergence</td>\n",
       "      <td>0.694915</td>\n",
       "      <td>1.097950</td>\n",
       "    </tr>\n",
       "    <tr>\n",
       "      <th>3087</th>\n",
       "      <td>Statikk Shiv</td>\n",
       "      <td>0.641892</td>\n",
       "      <td>0.969598</td>\n",
       "    </tr>\n",
       "    <tr>\n",
       "      <th>3078</th>\n",
       "      <td>Trinity Force</td>\n",
       "      <td>0.516667</td>\n",
       "      <td>0.929270</td>\n",
       "    </tr>\n",
       "    <tr>\n",
       "      <th>3026</th>\n",
       "      <td>Guardian Angel</td>\n",
       "      <td>0.678457</td>\n",
       "      <td>0.765862</td>\n",
       "    </tr>\n",
       "    <tr>\n",
       "      <th>3194</th>\n",
       "      <td>Adaptive Helm</td>\n",
       "      <td>0.428571</td>\n",
       "      <td>0.586390</td>\n",
       "    </tr>\n",
       "    <tr>\n",
       "      <th>3041</th>\n",
       "      <td>Mejai's Soulstealer</td>\n",
       "      <td>0.806723</td>\n",
       "      <td>0.540952</td>\n",
       "    </tr>\n",
       "    <tr>\n",
       "      <th>3152</th>\n",
       "      <td>Hextech Protobelt-01</td>\n",
       "      <td>0.495370</td>\n",
       "      <td>0.523012</td>\n",
       "    </tr>\n",
       "    <tr>\n",
       "      <th>1401</th>\n",
       "      <td>Enchantment: Cinderhulk</td>\n",
       "      <td>0.459459</td>\n",
       "      <td>0.349059</td>\n",
       "    </tr>\n",
       "    <tr>\n",
       "      <th>3042</th>\n",
       "      <td>Muramana</td>\n",
       "      <td>0.443709</td>\n",
       "      <td>0.282090</td>\n",
       "    </tr>\n",
       "    <tr>\n",
       "      <th>1413</th>\n",
       "      <td>Enchantment: Cinderhulk</td>\n",
       "      <td>0.414894</td>\n",
       "      <td>0.213598</td>\n",
       "    </tr>\n",
       "    <tr>\n",
       "      <th>3069</th>\n",
       "      <td>Remnant of the Ascended</td>\n",
       "      <td>0.447115</td>\n",
       "      <td>0.131921</td>\n",
       "    </tr>\n",
       "    <tr>\n",
       "      <th>1400</th>\n",
       "      <td>Enchantment: Warrior</td>\n",
       "      <td>0.498305</td>\n",
       "      <td>0.098000</td>\n",
       "    </tr>\n",
       "    <tr>\n",
       "      <th>3004</th>\n",
       "      <td>Manamune</td>\n",
       "      <td>0.307692</td>\n",
       "      <td>-0.056565</td>\n",
       "    </tr>\n",
       "    <tr>\n",
       "      <th>1402</th>\n",
       "      <td>Enchantment: Runic Echoes</td>\n",
       "      <td>0.450617</td>\n",
       "      <td>-0.252901</td>\n",
       "    </tr>\n",
       "  </tbody>\n",
       "</table>\n",
       "</div>"
      ],
      "text/plain": [
       "                              name  wr_unmasked  Feature Coefficients\n",
       "item_id                                                              \n",
       "3089            Rabadon's Deathcap     0.679054              1.614445\n",
       "3151             Liandry's Torment     0.622074              1.527624\n",
       "3053                 Sterak's Gage     0.641638              1.356917\n",
       "3031                 Infinity Edge     0.653753              1.295699\n",
       "3050            Zeke's Convergence     0.694915              1.097950\n",
       "3087                  Statikk Shiv     0.641892              0.969598\n",
       "3078                 Trinity Force     0.516667              0.929270\n",
       "3026                Guardian Angel     0.678457              0.765862\n",
       "3194                 Adaptive Helm     0.428571              0.586390\n",
       "3041           Mejai's Soulstealer     0.806723              0.540952\n",
       "3152          Hextech Protobelt-01     0.495370              0.523012\n",
       "1401       Enchantment: Cinderhulk     0.459459              0.349059\n",
       "3042                      Muramana     0.443709              0.282090\n",
       "1413       Enchantment: Cinderhulk     0.414894              0.213598\n",
       "3069       Remnant of the Ascended     0.447115              0.131921\n",
       "1400          Enchantment: Warrior     0.498305              0.098000\n",
       "3004                      Manamune     0.307692             -0.056565\n",
       "1402     Enchantment: Runic Echoes     0.450617             -0.252901"
      ]
     },
     "execution_count": 82,
     "metadata": {},
     "output_type": "execute_result"
    }
   ],
   "source": [
    "plotting_df[plotting_df['Anomalous Win Rate'] == 'red'\n",
    "           ][['name', 'wr_unmasked', 'Feature Coefficients']].sort_values('Feature Coefficients', ascending=False)"
   ]
  },
  {
   "cell_type": "markdown",
   "metadata": {},
   "source": [
    "I should check and make sure I understand what the Logistic Regression Coefficients mean.\n",
    "\n",
    "If I give the model an array of 0s, I expect it predict the intercept.\n",
    "\n",
    "If I give it all 0s and a 1 in column 3089, I should expect a 1.61?"
   ]
  },
  {
   "cell_type": "markdown",
   "metadata": {},
   "source": [
    "Feature generation\n",
    "\n",
    "timing data for each item\n",
    "\n",
    "Look at confusion matrix\n",
    "\n",
    "Adjust LR threshold based on confusion matrix"
   ]
  },
  {
   "cell_type": "code",
   "execution_count": 83,
   "metadata": {},
   "outputs": [
    {
     "data": {
      "text/plain": [
       "array([[291,  27],\n",
       "       [ 25, 304]], dtype=int64)"
      ]
     },
     "execution_count": 83,
     "metadata": {},
     "output_type": "execute_result"
    }
   ],
   "source": [
    "confusion_matrix(y_1_train, lr_model.predict(X_1_train))"
   ]
  },
  {
   "cell_type": "code",
   "execution_count": 84,
   "metadata": {},
   "outputs": [
    {
     "data": {
      "text/plain": [
       "array([[115,  21],\n",
       "       [ 10, 132]], dtype=int64)"
      ]
     },
     "execution_count": 84,
     "metadata": {},
     "output_type": "execute_result"
    }
   ],
   "source": [
    "confusion_matrix(y_1_test, lr_model.predict(X_1_test))"
   ]
  },
  {
   "cell_type": "code",
   "execution_count": 85,
   "metadata": {},
   "outputs": [
    {
     "data": {
      "text/plain": [
       "array([[291,  27],\n",
       "       [ 25, 304]], dtype=int64)"
      ]
     },
     "execution_count": 85,
     "metadata": {},
     "output_type": "execute_result"
    }
   ],
   "source": [
    "confusion_matrix(y_1_train, lr_gridsearch.predict(X_1_train))"
   ]
  },
  {
   "cell_type": "code",
   "execution_count": 86,
   "metadata": {},
   "outputs": [
    {
     "data": {
      "text/plain": [
       "array([[115,  21],\n",
       "       [ 10, 132]], dtype=int64)"
      ]
     },
     "execution_count": 86,
     "metadata": {},
     "output_type": "execute_result"
    }
   ],
   "source": [
    "confusion_matrix(y_1_test, lr_gridsearch.predict(X_1_test))"
   ]
  },
  {
   "cell_type": "markdown",
   "metadata": {},
   "source": [
    "This indicates that the amount of false positives (0,1) is about twice the number of false negatives (1,0).\n",
    "\n",
    "So, I should increase the threshold slightly, so I guess negative more."
   ]
  },
  {
   "cell_type": "markdown",
   "metadata": {},
   "source": [
    "### Logistic Regression Round 2\n",
    "\n",
    "The intercept doesn't make any sense, and the biggest predictor of a match's result is how many empty item slots each team has.\n",
    "\n",
    "I want to run the algorithm again without the empty item column. This should improve the model's gauging of individual items, maybe at the expense of prediction accuracy. \n",
    "\n",
    "It should also allow me to set the intercept to be something meaningful."
   ]
  },
  {
   "cell_type": "code",
   "execution_count": 87,
   "metadata": {},
   "outputs": [],
   "source": [
    "X_2_train, X_2_test, y_2_train, y_2_test = train_test_split(team_items_df.drop(0, axis=1).values,\n",
    "                                                            team_results,\n",
    "                                                            test_size=0.3,\n",
    "                                                            random_state=13,\n",
    "                                                            stratify=team_results)"
   ]
  },
  {
   "cell_type": "code",
   "execution_count": 88,
   "metadata": {},
   "outputs": [],
   "source": [
    "lr_model_no_0 = LogisticRegression(random_state=13)"
   ]
  },
  {
   "cell_type": "code",
   "execution_count": 89,
   "metadata": {},
   "outputs": [
    {
     "data": {
      "text/plain": [
       "LogisticRegression(C=1.0, class_weight=None, dual=False, fit_intercept=True,\n",
       "          intercept_scaling=1, max_iter=100, multi_class='warn',\n",
       "          n_jobs=None, penalty='l2', random_state=13, solver='warn',\n",
       "          tol=0.0001, verbose=0, warm_start=False)"
      ]
     },
     "execution_count": 89,
     "metadata": {},
     "output_type": "execute_result"
    }
   ],
   "source": [
    "lr_model_no_0.fit(X_2_train, y_2_train)"
   ]
  },
  {
   "cell_type": "code",
   "execution_count": 90,
   "metadata": {},
   "outputs": [
    {
     "data": {
      "text/plain": [
       "0.90571870170015456"
      ]
     },
     "execution_count": 90,
     "metadata": {},
     "output_type": "execute_result"
    }
   ],
   "source": [
    "lr_model_no_0.score(X_2_train, y_2_train)"
   ]
  },
  {
   "cell_type": "code",
   "execution_count": 91,
   "metadata": {},
   "outputs": [
    {
     "data": {
      "text/plain": [
       "0.8848920863309353"
      ]
     },
     "execution_count": 91,
     "metadata": {},
     "output_type": "execute_result"
    }
   ],
   "source": [
    "lr_model_no_0.score(X_2_test, y_2_test)"
   ]
  },
  {
   "cell_type": "markdown",
   "metadata": {},
   "source": [
    "The model performs similarly to it's predecessor, who had access to empty item slot counts.\n",
    "\n",
    "The intercept still doesn't make sense, though.\n",
    "\n",
    "From the line below, predicting a game with all 0s for each item shows a 55.8% win chance for team 1. This probability should be 50%."
   ]
  },
  {
   "cell_type": "code",
   "execution_count": 92,
   "metadata": {},
   "outputs": [
    {
     "data": {
      "text/plain": [
       "array([ 0.23509646])"
      ]
     },
     "execution_count": 92,
     "metadata": {},
     "output_type": "execute_result"
    }
   ],
   "source": [
    "lr_model_no_0.intercept_"
   ]
  },
  {
   "cell_type": "code",
   "execution_count": 93,
   "metadata": {},
   "outputs": [
    {
     "data": {
      "text/plain": [
       "array([[ 0.4414951,  0.5585049]])"
      ]
     },
     "execution_count": 93,
     "metadata": {},
     "output_type": "execute_result"
    }
   ],
   "source": [
    "lr_model_no_0.predict_proba(np.zeros(80).reshape(1,-1))"
   ]
  },
  {
   "cell_type": "code",
   "execution_count": 94,
   "metadata": {},
   "outputs": [
    {
     "data": {
      "text/plain": [
       "0.0"
      ]
     },
     "execution_count": 94,
     "metadata": {},
     "output_type": "execute_result"
    }
   ],
   "source": [
    "lr_model_no_intercept = LogisticRegression(random_state=13, fit_intercept=False)\n",
    "lr_model_no_intercept.fit(X_2_train, y_2_train)\n",
    "lr_model_no_intercept.intercept_"
   ]
  },
  {
   "cell_type": "code",
   "execution_count": 95,
   "metadata": {},
   "outputs": [
    {
     "data": {
      "text/plain": [
       "0.89799072642967548"
      ]
     },
     "execution_count": 95,
     "metadata": {},
     "output_type": "execute_result"
    }
   ],
   "source": [
    "lr_model_no_intercept.score(X_2_train, y_2_train)"
   ]
  },
  {
   "cell_type": "code",
   "execution_count": 96,
   "metadata": {},
   "outputs": [
    {
     "data": {
      "text/plain": [
       "0.88129496402877694"
      ]
     },
     "execution_count": 96,
     "metadata": {},
     "output_type": "execute_result"
    }
   ],
   "source": [
    "lr_model_no_intercept.score(X_2_test, y_2_test)"
   ]
  },
  {
   "cell_type": "code",
   "execution_count": 97,
   "metadata": {},
   "outputs": [
    {
     "data": {
      "text/plain": [
       "array([[ 0.5,  0.5]])"
      ]
     },
     "execution_count": 97,
     "metadata": {},
     "output_type": "execute_result"
    }
   ],
   "source": [
    "lr_model_no_intercept.predict_proba(np.zeros(80).reshape(1,-1))"
   ]
  },
  {
   "cell_type": "markdown",
   "metadata": {},
   "source": [
    "Disabling the intercept gets me the probabilities I want (50/50) for the empty input.\n",
    "\n",
    "I think, then, that setting 'intercept_scaling' is similar to changing the threshold?\n",
    "\n",
    "Okay, now we can tune the hyperparameters for this Logistic Regression."
   ]
  },
  {
   "cell_type": "code",
   "execution_count": 98,
   "metadata": {},
   "outputs": [],
   "source": [
    "lr_gs_no_intercept = LogisticRegression(random_state=13, fit_intercept=False)\n",
    "\n",
    "params={'penalty': ['l1', 'l2'],\n",
    "        'C': [0.1, 1.0, 10, 100]}\n",
    "\n",
    "lr_gridsearch_no_int = GridSearchCV(lr_gs_no_intercept, param_grid=params, cv=5)"
   ]
  },
  {
   "cell_type": "code",
   "execution_count": 99,
   "metadata": {},
   "outputs": [
    {
     "name": "stderr",
     "output_type": "stream",
     "text": [
      "C:\\Users\\sebia\\Miniconda2\\lib\\site-packages\\sklearn\\model_selection\\_search.py:841: DeprecationWarning: The default of the `iid` parameter will change from True to False in version 0.22 and will be removed in 0.24. This will change numeric results when test-set sizes are unequal.\n",
      "  DeprecationWarning)\n"
     ]
    },
    {
     "data": {
      "text/plain": [
       "GridSearchCV(cv=5, error_score='raise-deprecating',\n",
       "       estimator=LogisticRegression(C=1.0, class_weight=None, dual=False, fit_intercept=False,\n",
       "          intercept_scaling=1, max_iter=100, multi_class='warn',\n",
       "          n_jobs=None, penalty='l2', random_state=13, solver='warn',\n",
       "          tol=0.0001, verbose=0, warm_start=False),\n",
       "       fit_params=None, iid='warn', n_jobs=None,\n",
       "       param_grid={'penalty': ['l1', 'l2'], 'C': [0.1, 1.0, 10, 100]},\n",
       "       pre_dispatch='2*n_jobs', refit=True, return_train_score='warn',\n",
       "       scoring=None, verbose=0)"
      ]
     },
     "execution_count": 99,
     "metadata": {},
     "output_type": "execute_result"
    }
   ],
   "source": [
    "lr_gridsearch_no_int.fit(X_2_train, y_2_train)"
   ]
  },
  {
   "cell_type": "markdown",
   "metadata": {},
   "source": [
    "The gridsearch found the best parameters to be C = 1.0 and a penalty of L2, the default options again."
   ]
  },
  {
   "cell_type": "code",
   "execution_count": 100,
   "metadata": {},
   "outputs": [
    {
     "data": {
      "text/plain": [
       "0.87769784172661869"
      ]
     },
     "execution_count": 100,
     "metadata": {},
     "output_type": "execute_result"
    }
   ],
   "source": [
    "lr_gridsearch_no_int.score(X_2_test, y_2_test)"
   ]
  },
  {
   "cell_type": "markdown",
   "metadata": {},
   "source": [
    "All prediction accuracies are still in the high 80%s, which is good.\n",
    "\n",
    "Let's look at the results."
   ]
  },
  {
   "cell_type": "code",
   "execution_count": 101,
   "metadata": {},
   "outputs": [],
   "source": [
    "lr_results_no_int = pd.DataFrame(data=lr_model_no_intercept.coef_[0],\n",
    "                                 columns=['Feature Coefficients no Intercept'],\n",
    "                                 index=team_items_df.drop(0, axis=1).columns.values)\n",
    "lr_results_no_int = lr_results_no_int.join(item_occ['name'], how='left')"
   ]
  },
  {
   "cell_type": "code",
   "execution_count": 102,
   "metadata": {},
   "outputs": [],
   "source": [
    "item_occ = item_occ.join(lr_results_no_int.drop('name', axis=1), how='left')"
   ]
  },
  {
   "cell_type": "code",
   "execution_count": 103,
   "metadata": {},
   "outputs": [
    {
     "data": {
      "image/png": "[encoded data removed]",
      "text/plain": [
       "<matplotlib.figure.Figure at 0x145412e8>"
      ]
     },
     "metadata": {
      "needs_background": "light"
     },
     "output_type": "display_data"
    }
   ],
   "source": [
    "_ = item_occ.plot(x='Feature Coefficients', y='Feature Coefficients no Intercept',\n",
    "                  kind='scatter', label='Data', xlim=[-0.5, 2.0], ylim=[-0.5, 2.0])\n",
    "_ = plt.plot(np.linspace(-0.50, 2.0, 50), np.linspace(-0.50, 2.0, 50), 'r--', label='Equal')\n",
    "_ = plt.title('Comparison of Feature Coefficients from LR Models with and without an Intercept')\n",
    "_ = plt.legend()\n",
    "_ = plt.xlabel('Feature Coefficients with Intercept')\n",
    "plt.savefig('../analysis_images/lr_fcoefs_comparison.png')"
   ]
  },
  {
   "cell_type": "markdown",
   "metadata": {},
   "source": [
    "This plot compares the feature coefficients from Logistic Regression models fit with and without an intercept.\n",
    "\n",
    "If a dot is on the red line, then the coefficient didn't change from one model to the other. \n",
    "\n",
    "If a dot is below the red line, then the coefficient decreased from the model with the intercept to the model without.\n",
    "\n",
    "If a dot is above the red line, then the coefficient increased from the model with the intercept to the model without.\n",
    "\n",
    "It seems like most coefficients went up a bit."
   ]
  },
  {
   "cell_type": "code",
   "execution_count": 104,
   "metadata": {},
   "outputs": [
    {
     "data": {
      "image/png": "[encoded data removed]",
      "text/plain": [
       "<matplotlib.figure.Figure at 0x14731a58>"
      ]
     },
     "metadata": {
      "needs_background": "light"
     },
     "output_type": "display_data"
    }
   ],
   "source": [
    "# Set up separate df so the code is cleaner\n",
    "plotting_df = item_occ[(item_occ['full_item'] == True) &\n",
    "                       (no_edge_cases) &\n",
    "                       (item_occ['count_unmasked'] > 10)]\n",
    "# Set up ax so that I can make multiple plot calls to the same plot\n",
    "plt.rcParams[\"figure.figsize\"] = (18, 6)\n",
    "fig, ax = plt.subplots()\n",
    "\n",
    "# Data\n",
    "plotting_df[plotting_df['Anomalous Win Rate'] == 'blue'\n",
    "                ].plot(x='Feature Coefficients', y='wr_unmasked', ax=ax,\n",
    "                     kind='scatter', label='Normal Items', yerr='wr_std_unmasked', color='blue')\n",
    "plotting_df[plotting_df['Anomalous Win Rate'] == 'red'\n",
    "                ].plot(x='Feature Coefficients', y='wr_unmasked', ax=ax,\n",
    "                     kind='scatter', label='Anomalous Items', yerr='wr_std_unmasked', color='red')\n",
    "plotting_df[plotting_df['Anomalous Win Rate'] == 'blue'\n",
    "                ].plot(x='Feature Coefficients no Intercept', y='wr_unmasked', ax=ax,\n",
    "                     kind='scatter', label='Normal Items (no int)', yerr='wr_std_unmasked', color='b')\n",
    "plotting_df[plotting_df['Anomalous Win Rate'] == 'red'\n",
    "                ].plot(x='Feature Coefficients no Intercept', y='wr_unmasked', ax=ax,\n",
    "                     kind='scatter', label='Anomalous Items (no int)', yerr='wr_std_unmasked', color='r')\n",
    "# Avg Win Rate Line\n",
    "plt.plot(np.linspace(-0.35, 1.8, 50), np.full(50, full_item_avg_wr_unmasked), 'r--', label='Avg Win Rate: 0.563')\n",
    "\n",
    "plt.legend()\n",
    "plt.title('Logistic Regression Feature Coefficients and Win Rates for All Full Items')\n",
    "plt.ylabel('Win Rate after Unmasking')\n",
    "plt.xlabel('Logistic Regression Feature Coefficients')\n",
    "plt.show()"
   ]
  },
  {
   "cell_type": "markdown",
   "metadata": {},
   "source": [
    "The plot of all the coefficients is a bit much to look at.\n",
    "\n",
    "Look at the distribution of new coefficients.\n",
    "\n",
    "Looking at the change in coefficients, it seems like none of them changed too much."
   ]
  },
  {
   "cell_type": "code",
   "execution_count": 117,
   "metadata": {},
   "outputs": [
    {
     "data": {
      "image/png": "[encoded data removed]",
      "text/plain": [
       "<matplotlib.figure.Figure at 0x14fa2198>"
      ]
     },
     "metadata": {
      "needs_background": "light"
     },
     "output_type": "display_data"
    }
   ],
   "source": [
    "plt.rcParams[\"figure.figsize\"] = (6, 4)\n",
    "_ = plotting_df[['Feature Coefficients no Intercept']].plot.hist('Feature Coefficients (no Intercept)')\n",
    "_ = plt.title('Logistic Regression Feature Coefficients without Bias')\n",
    "_ = plt.ylim([0, 20])\n",
    "plt.savefig('../analysis_images/lr_feature_coefs_sans_bias.png')"
   ]
  },
  {
   "cell_type": "code",
   "execution_count": 106,
   "metadata": {},
   "outputs": [
    {
     "name": "stderr",
     "output_type": "stream",
     "text": [
      "C:\\Users\\sebia\\Miniconda2\\lib\\site-packages\\ipykernel_launcher.py:1: SettingWithCopyWarning: \n",
      "A value is trying to be set on a copy of a slice from a DataFrame.\n",
      "Try using .loc[row_indexer,col_indexer] = value instead\n",
      "\n",
      "See the caveats in the documentation: http://pandas.pydata.org/pandas-docs/stable/indexing.html#indexing-view-versus-copy\n",
      "  \"\"\"Entry point for launching an IPython kernel.\n",
      "C:\\Users\\sebia\\Miniconda2\\lib\\site-packages\\numpy\\core\\numeric.py:301: FutureWarning: in the future, full(50, 0) will return an array of dtype('int32')\n",
      "  format(shape, fill_value, array(fill_value).dtype), FutureWarning)\n"
     ]
    },
    {
     "data": {
      "image/png": "[encoded data removed]",
      "text/plain": [
       "<matplotlib.figure.Figure at 0x14ee9160>"
      ]
     },
     "metadata": {
      "needs_background": "light"
     },
     "output_type": "display_data"
    }
   ],
   "source": [
    "plotting_df['Feature Coef Difference'] = plotting_df['Feature Coefficients no Intercept'] -\\\n",
    "                                         plotting_df['Feature Coefficients']\n",
    "_ = plotting_df.plot(y='Feature Coef Difference', x='Feature Coefficients',\n",
    "                     kind='scatter', label='Coefficient Change', xlim=[-0.5, 2.0])\n",
    "_ = plt.plot(np.linspace(-0.35, 1.8, 50), np.full(50, 0), 'r--', label='No Change')\n",
    "_ = plt.title('Feature Coefficient Changes with and without the Intercept')\n",
    "_ = plt.xlabel('Feature Coefficients with Intercept')\n",
    "_ = plt.ylabel('Coefficients without Intercept - with Intercept')\n",
    "_ = plt.legend()\n",
    "plt.savefig('../analysis_images/lr_fcoef_changes.png')"
   ]
  },
  {
   "cell_type": "markdown",
   "metadata": {},
   "source": [
    "The overall distribution of Feature Coefficients and Win Rates looks pretty similar with and without the intercept in the Logistic Regression model.\n",
    "\n",
    "There might be a slight correlation, indicating that removing the intercept tended to increase small feature coefficients more than large feature coefficients."
   ]
  },
  {
   "cell_type": "code",
   "execution_count": 107,
   "metadata": {},
   "outputs": [
    {
     "data": {
      "image/png": "[encoded data removed]",
      "text/plain": [
       "<matplotlib.figure.Figure at 0x149ded68>"
      ]
     },
     "metadata": {
      "needs_background": "light"
     },
     "output_type": "display_data"
    }
   ],
   "source": [
    "plt.rcParams[\"figure.figsize\"] = (10, 6)\n",
    "fig, ax = plt.subplots()\n",
    "\n",
    "# Data\n",
    "plotting_df[plotting_df['Anomalous Win Rate'] == 'blue'\n",
    "                ].plot(y='Feature Coefficients', x='wr_unmasked', ax=ax,\n",
    "                     kind='scatter', label='Normal Items', xerr='wr_std_unmasked', color='b')\n",
    "plotting_df[plotting_df['Anomalous Win Rate'] == 'red'\n",
    "                ].plot(y='Feature Coefficients', x='wr_unmasked', ax=ax,\n",
    "                     kind='scatter', label='Anomalous Items', xerr='wr_std_unmasked', color='red')\n",
    "# Avg Win Rate Line\n",
    "plt.plot(np.full(50, full_item_avg_wr_unmasked), np.linspace(-0.35, 1.8, 50), 'r--', label='Avg Win Rate: 0.563')\n",
    "\n",
    "plt.legend()\n",
    "plt.title('Logistic Regression Feature Coefficients and Win Rates for All Full Items')\n",
    "plt.xlabel('Win Rate after Unmasking')\n",
    "plt.ylabel('Logistic Regression Feature Coefficients')\n",
    "plt.show()"
   ]
  },
  {
   "cell_type": "code",
   "execution_count": 108,
   "metadata": {},
   "outputs": [
    {
     "data": {
      "image/png": "[encoded data removed]",
      "text/plain": [
       "<matplotlib.figure.Figure at 0x1453ba20>"
      ]
     },
     "metadata": {
      "needs_background": "light"
     },
     "output_type": "display_data"
    }
   ],
   "source": [
    "plt.rcParams[\"figure.figsize\"] = (8, 6)\n",
    "fig, ax = plt.subplots()\n",
    "\n",
    "# Data\n",
    "plotting_df[plotting_df['Anomalous Win Rate'] == 'blue'\n",
    "                ].plot(y='Feature Coefficients no Intercept', x='wr_unmasked', ax=ax,\n",
    "                     kind='scatter', label='Normal Items', xerr='wr_std_unmasked', color='b')\n",
    "plotting_df[plotting_df['Anomalous Win Rate'] == 'red'\n",
    "                ].plot(y='Feature Coefficients no Intercept', x='wr_unmasked', ax=ax,\n",
    "                     kind='scatter', label='Anomalous Items', xerr='wr_std_unmasked', color='red')\n",
    "# Avg Win Rate Line\n",
    "plt.plot(np.full(50, full_item_avg_wr_unmasked), np.linspace(-0.35, 1.8, 50), 'r--', label='Avg Win Rate: 0.563')\n",
    "\n",
    "plt.legend()\n",
    "plt.title('Logistic Regression Feature Coefficients (w/out bias) and Win Rates for All Full Items')\n",
    "plt.xlabel('Win Rate after Unmasking')\n",
    "plt.ylabel('Logistic Regression Feature Coefficients (w/out bias)')\n",
    "plt.savefig('../analysis_images/lr_fcoefs_vs_win_rate_sans_bias.png')\n",
    "plt.show()"
   ]
  },
  {
   "cell_type": "markdown",
   "metadata": {},
   "source": [
    "## Recommendations: What to Change\n",
    "\n",
    "There are 4 sets of suspect items.\n",
    "\n",
    "Items that have statistically high / low win rates compared to the mean.\n",
    "\n",
    "Items that have logistic regression feature coefficients that are rather high / low (taking top / bottom 10).\n",
    "\n",
    "The intersection of the unusually high-valued sets is a good first pass, and their union is a good second pass for what to nerf.\n",
    "\n",
    "The intersection of the unusually low-valued sets is a good first pass, and their union is a good second pass for what to buff.\n",
    "\n",
    "Jungle items should be manually checked, since their win rates do not sit around the average from the rest of the items.\n",
    "\n",
    "### Too Weak\n",
    "\n",
    "From the Logistic Regression"
   ]
  },
  {
   "cell_type": "code",
   "execution_count": 109,
   "metadata": {},
   "outputs": [
    {
     "data": {
      "text/html": [
       "<div>\n",
       "<style scoped>\n",
       "    .dataframe tbody tr th:only-of-type {\n",
       "        vertical-align: middle;\n",
       "    }\n",
       "\n",
       "    .dataframe tbody tr th {\n",
       "        vertical-align: top;\n",
       "    }\n",
       "\n",
       "    .dataframe thead th {\n",
       "        text-align: right;\n",
       "    }\n",
       "</style>\n",
       "<table border=\"1\" class=\"dataframe\">\n",
       "  <thead>\n",
       "    <tr style=\"text-align: right;\">\n",
       "      <th></th>\n",
       "      <th>name</th>\n",
       "      <th>Feature Coefficients no Intercept</th>\n",
       "      <th>wr_unmasked</th>\n",
       "      <th>wr_std_unmasked</th>\n",
       "    </tr>\n",
       "    <tr>\n",
       "      <th>item_id</th>\n",
       "      <th></th>\n",
       "      <th></th>\n",
       "      <th></th>\n",
       "      <th></th>\n",
       "    </tr>\n",
       "  </thead>\n",
       "  <tbody>\n",
       "    <tr>\n",
       "      <th>1419</th>\n",
       "      <td>Enchantment: Bloodrazor</td>\n",
       "      <td>-0.357105</td>\n",
       "      <td>0.536765</td>\n",
       "      <td>0.042759</td>\n",
       "    </tr>\n",
       "    <tr>\n",
       "      <th>1402</th>\n",
       "      <td>Enchantment: Runic Echoes</td>\n",
       "      <td>-0.193140</td>\n",
       "      <td>0.450617</td>\n",
       "      <td>0.039092</td>\n",
       "    </tr>\n",
       "    <tr>\n",
       "      <th>3091</th>\n",
       "      <td>Wit's End</td>\n",
       "      <td>-0.089383</td>\n",
       "      <td>0.530612</td>\n",
       "      <td>0.071295</td>\n",
       "    </tr>\n",
       "    <tr>\n",
       "      <th>3069</th>\n",
       "      <td>Remnant of the Ascended</td>\n",
       "      <td>0.064347</td>\n",
       "      <td>0.447115</td>\n",
       "      <td>0.034474</td>\n",
       "    </tr>\n",
       "    <tr>\n",
       "      <th>3222</th>\n",
       "      <td>Mikael's Crucible</td>\n",
       "      <td>0.099733</td>\n",
       "      <td>0.550000</td>\n",
       "      <td>0.111243</td>\n",
       "    </tr>\n",
       "    <tr>\n",
       "      <th>3030</th>\n",
       "      <td>Hextech GLP-800</td>\n",
       "      <td>0.133061</td>\n",
       "      <td>0.437500</td>\n",
       "      <td>0.071603</td>\n",
       "    </tr>\n",
       "    <tr>\n",
       "      <th>3174</th>\n",
       "      <td>Athene's Unholy Grail</td>\n",
       "      <td>0.136775</td>\n",
       "      <td>0.522222</td>\n",
       "      <td>0.052653</td>\n",
       "    </tr>\n",
       "    <tr>\n",
       "      <th>1400</th>\n",
       "      <td>Enchantment: Warrior</td>\n",
       "      <td>0.147085</td>\n",
       "      <td>0.498305</td>\n",
       "      <td>0.029111</td>\n",
       "    </tr>\n",
       "    <tr>\n",
       "      <th>3004</th>\n",
       "      <td>Manamune</td>\n",
       "      <td>0.176625</td>\n",
       "      <td>0.307692</td>\n",
       "      <td>0.128008</td>\n",
       "    </tr>\n",
       "    <tr>\n",
       "      <th>1413</th>\n",
       "      <td>Enchantment: Cinderhulk</td>\n",
       "      <td>0.179770</td>\n",
       "      <td>0.414894</td>\n",
       "      <td>0.050819</td>\n",
       "    </tr>\n",
       "  </tbody>\n",
       "</table>\n",
       "</div>"
      ],
      "text/plain": [
       "                              name  Feature Coefficients no Intercept  \\\n",
       "item_id                                                                 \n",
       "1419       Enchantment: Bloodrazor                          -0.357105   \n",
       "1402     Enchantment: Runic Echoes                          -0.193140   \n",
       "3091                     Wit's End                          -0.089383   \n",
       "3069       Remnant of the Ascended                           0.064347   \n",
       "3222             Mikael's Crucible                           0.099733   \n",
       "3030               Hextech GLP-800                           0.133061   \n",
       "3174         Athene's Unholy Grail                           0.136775   \n",
       "1400          Enchantment: Warrior                           0.147085   \n",
       "3004                      Manamune                           0.176625   \n",
       "1413       Enchantment: Cinderhulk                           0.179770   \n",
       "\n",
       "         wr_unmasked  wr_std_unmasked  \n",
       "item_id                                \n",
       "1419        0.536765         0.042759  \n",
       "1402        0.450617         0.039092  \n",
       "3091        0.530612         0.071295  \n",
       "3069        0.447115         0.034474  \n",
       "3222        0.550000         0.111243  \n",
       "3030        0.437500         0.071603  \n",
       "3174        0.522222         0.052653  \n",
       "1400        0.498305         0.029111  \n",
       "3004        0.307692         0.128008  \n",
       "1413        0.414894         0.050819  "
      ]
     },
     "execution_count": 109,
     "metadata": {},
     "output_type": "execute_result"
    }
   ],
   "source": [
    "plotting_df.sort_values('Feature Coefficients no Intercept')[[\n",
    "    'name', 'Feature Coefficients no Intercept', 'wr_unmasked', 'wr_std_unmasked'\n",
    "]].head(10)"
   ]
  },
  {
   "cell_type": "markdown",
   "metadata": {},
   "source": [
    "Checking the red / blue counterparts of the jungle items in this list.\n",
    "\n",
    "Most jungle items probably shouldn't have been flagged by the win rate statistical analysis.\n",
    "\n",
    "I have no idea why 1419 has such a low Feature Coefficient compared to 1416, especially with a higher win rate.\n",
    "\n",
    "1402 has a significantly lower win rate than 1414, so I believe that should be made stronger."
   ]
  },
  {
   "cell_type": "code",
   "execution_count": 110,
   "metadata": {},
   "outputs": [
    {
     "data": {
      "text/html": [
       "<div>\n",
       "<style scoped>\n",
       "    .dataframe tbody tr th:only-of-type {\n",
       "        vertical-align: middle;\n",
       "    }\n",
       "\n",
       "    .dataframe tbody tr th {\n",
       "        vertical-align: top;\n",
       "    }\n",
       "\n",
       "    .dataframe thead th {\n",
       "        text-align: right;\n",
       "    }\n",
       "</style>\n",
       "<table border=\"1\" class=\"dataframe\">\n",
       "  <thead>\n",
       "    <tr style=\"text-align: right;\">\n",
       "      <th></th>\n",
       "      <th>name</th>\n",
       "      <th>wr_unmasked</th>\n",
       "      <th>Feature Coefficients no Intercept</th>\n",
       "    </tr>\n",
       "    <tr>\n",
       "      <th>item_id</th>\n",
       "      <th></th>\n",
       "      <th></th>\n",
       "      <th></th>\n",
       "    </tr>\n",
       "  </thead>\n",
       "  <tbody>\n",
       "    <tr>\n",
       "      <th>1416</th>\n",
       "      <td>Enchantment: Bloodrazor</td>\n",
       "      <td>0.507692</td>\n",
       "      <td>0.390567</td>\n",
       "    </tr>\n",
       "    <tr>\n",
       "      <th>1419</th>\n",
       "      <td>Enchantment: Bloodrazor</td>\n",
       "      <td>0.536765</td>\n",
       "      <td>-0.357105</td>\n",
       "    </tr>\n",
       "  </tbody>\n",
       "</table>\n",
       "</div>"
      ],
      "text/plain": [
       "                            name  wr_unmasked  \\\n",
       "item_id                                         \n",
       "1416     Enchantment: Bloodrazor     0.507692   \n",
       "1419     Enchantment: Bloodrazor     0.536765   \n",
       "\n",
       "         Feature Coefficients no Intercept  \n",
       "item_id                                     \n",
       "1416                              0.390567  \n",
       "1419                             -0.357105  "
      ]
     },
     "execution_count": 110,
     "metadata": {},
     "output_type": "execute_result"
    }
   ],
   "source": [
    "plotting_df[plotting_df['name'].str.contains('Bloodrazor')][[\n",
    "    'name', 'wr_unmasked', 'Feature Coefficients no Intercept'\n",
    "]]"
   ]
  },
  {
   "cell_type": "code",
   "execution_count": 111,
   "metadata": {},
   "outputs": [
    {
     "data": {
      "text/html": [
       "<div>\n",
       "<style scoped>\n",
       "    .dataframe tbody tr th:only-of-type {\n",
       "        vertical-align: middle;\n",
       "    }\n",
       "\n",
       "    .dataframe tbody tr th {\n",
       "        vertical-align: top;\n",
       "    }\n",
       "\n",
       "    .dataframe thead th {\n",
       "        text-align: right;\n",
       "    }\n",
       "</style>\n",
       "<table border=\"1\" class=\"dataframe\">\n",
       "  <thead>\n",
       "    <tr style=\"text-align: right;\">\n",
       "      <th></th>\n",
       "      <th>name</th>\n",
       "      <th>wr_unmasked</th>\n",
       "      <th>Feature Coefficients no Intercept</th>\n",
       "    </tr>\n",
       "    <tr>\n",
       "      <th>item_id</th>\n",
       "      <th></th>\n",
       "      <th></th>\n",
       "      <th></th>\n",
       "    </tr>\n",
       "  </thead>\n",
       "  <tbody>\n",
       "    <tr>\n",
       "      <th>1402</th>\n",
       "      <td>Enchantment: Runic Echoes</td>\n",
       "      <td>0.450617</td>\n",
       "      <td>-0.193140</td>\n",
       "    </tr>\n",
       "    <tr>\n",
       "      <th>1414</th>\n",
       "      <td>Enchantment: Runic Echoes</td>\n",
       "      <td>0.542373</td>\n",
       "      <td>0.654774</td>\n",
       "    </tr>\n",
       "  </tbody>\n",
       "</table>\n",
       "</div>"
      ],
      "text/plain": [
       "                              name  wr_unmasked  \\\n",
       "item_id                                           \n",
       "1402     Enchantment: Runic Echoes     0.450617   \n",
       "1414     Enchantment: Runic Echoes     0.542373   \n",
       "\n",
       "         Feature Coefficients no Intercept  \n",
       "item_id                                     \n",
       "1402                             -0.193140  \n",
       "1414                              0.654774  "
      ]
     },
     "execution_count": 111,
     "metadata": {},
     "output_type": "execute_result"
    }
   ],
   "source": [
    "plotting_df[plotting_df['name'].str.contains('Runic Echoes')][[\n",
    "    'name', 'wr_unmasked', 'Feature Coefficients no Intercept'\n",
    "]]"
   ]
  },
  {
   "cell_type": "markdown",
   "metadata": {},
   "source": [
    "From the win rate statistical analysis"
   ]
  },
  {
   "cell_type": "code",
   "execution_count": 112,
   "metadata": {},
   "outputs": [
    {
     "data": {
      "text/plain": [
       "item_id\n",
       "3078                Trinity Force\n",
       "1400         Enchantment: Warrior\n",
       "3152         Hextech Protobelt-01\n",
       "1401      Enchantment: Cinderhulk\n",
       "1402    Enchantment: Runic Echoes\n",
       "3069      Remnant of the Ascended\n",
       "3042                     Muramana\n",
       "3194                Adaptive Helm\n",
       "1413      Enchantment: Cinderhulk\n",
       "3004                     Manamune\n",
       "Name: name, dtype: object"
      ]
     },
     "execution_count": 112,
     "metadata": {},
     "output_type": "execute_result"
    }
   ],
   "source": [
    "abnormal_items_um[8:]"
   ]
  },
  {
   "cell_type": "markdown",
   "metadata": {},
   "source": [
    "The intersection of these two lists is:\n",
    "\n",
    "Runic Echoes (blue)\n",
    "\n",
    "Remnant of the Ascended\n",
    "\n",
    "Warrior (blue)\n",
    "\n",
    "Manamune\n",
    "\n",
    "Cinderhulk (red)\n",
    "\n",
    "But Warrior (blue) is probably okay, since it's win rate isn't actually that bad."
   ]
  },
  {
   "cell_type": "markdown",
   "metadata": {},
   "source": [
    "### Too Strong\n",
    "\n",
    "From the Logistic Regression"
   ]
  },
  {
   "cell_type": "code",
   "execution_count": 113,
   "metadata": {},
   "outputs": [
    {
     "data": {
      "text/html": [
       "<div>\n",
       "<style scoped>\n",
       "    .dataframe tbody tr th:only-of-type {\n",
       "        vertical-align: middle;\n",
       "    }\n",
       "\n",
       "    .dataframe tbody tr th {\n",
       "        vertical-align: top;\n",
       "    }\n",
       "\n",
       "    .dataframe thead th {\n",
       "        text-align: right;\n",
       "    }\n",
       "</style>\n",
       "<table border=\"1\" class=\"dataframe\">\n",
       "  <thead>\n",
       "    <tr style=\"text-align: right;\">\n",
       "      <th></th>\n",
       "      <th>name</th>\n",
       "      <th>Feature Coefficients no Intercept</th>\n",
       "      <th>wr_unmasked</th>\n",
       "      <th>wr_std_unmasked</th>\n",
       "    </tr>\n",
       "    <tr>\n",
       "      <th>item_id</th>\n",
       "      <th></th>\n",
       "      <th></th>\n",
       "      <th></th>\n",
       "      <th></th>\n",
       "    </tr>\n",
       "  </thead>\n",
       "  <tbody>\n",
       "    <tr>\n",
       "      <th>3089</th>\n",
       "      <td>Rabadon's Deathcap</td>\n",
       "      <td>1.559884</td>\n",
       "      <td>0.679054</td>\n",
       "      <td>0.027135</td>\n",
       "    </tr>\n",
       "    <tr>\n",
       "      <th>3151</th>\n",
       "      <td>Liandry's Torment</td>\n",
       "      <td>1.558140</td>\n",
       "      <td>0.622074</td>\n",
       "      <td>0.028041</td>\n",
       "    </tr>\n",
       "    <tr>\n",
       "      <th>3053</th>\n",
       "      <td>Sterak's Gage</td>\n",
       "      <td>1.373923</td>\n",
       "      <td>0.641638</td>\n",
       "      <td>0.028014</td>\n",
       "    </tr>\n",
       "    <tr>\n",
       "      <th>3031</th>\n",
       "      <td>Infinity Edge</td>\n",
       "      <td>1.344633</td>\n",
       "      <td>0.653753</td>\n",
       "      <td>0.023411</td>\n",
       "    </tr>\n",
       "    <tr>\n",
       "      <th>3033</th>\n",
       "      <td>Mortal Reminder</td>\n",
       "      <td>1.269090</td>\n",
       "      <td>0.579710</td>\n",
       "      <td>0.059423</td>\n",
       "    </tr>\n",
       "    <tr>\n",
       "      <th>3814</th>\n",
       "      <td>Edge of Night</td>\n",
       "      <td>1.267040</td>\n",
       "      <td>0.550000</td>\n",
       "      <td>0.078661</td>\n",
       "    </tr>\n",
       "    <tr>\n",
       "      <th>3193</th>\n",
       "      <td>Gargoyle Stoneplate</td>\n",
       "      <td>1.263636</td>\n",
       "      <td>0.656716</td>\n",
       "      <td>0.058007</td>\n",
       "    </tr>\n",
       "    <tr>\n",
       "      <th>3124</th>\n",
       "      <td>Guinsoo's Rageblade</td>\n",
       "      <td>1.225380</td>\n",
       "      <td>0.592179</td>\n",
       "      <td>0.025973</td>\n",
       "    </tr>\n",
       "    <tr>\n",
       "      <th>3075</th>\n",
       "      <td>Thornmail</td>\n",
       "      <td>1.195582</td>\n",
       "      <td>0.536585</td>\n",
       "      <td>0.038939</td>\n",
       "    </tr>\n",
       "    <tr>\n",
       "      <th>3022</th>\n",
       "      <td>Frozen Mallet</td>\n",
       "      <td>1.168492</td>\n",
       "      <td>0.523810</td>\n",
       "      <td>0.054493</td>\n",
       "    </tr>\n",
       "  </tbody>\n",
       "</table>\n",
       "</div>"
      ],
      "text/plain": [
       "                        name  Feature Coefficients no Intercept  wr_unmasked  \\\n",
       "item_id                                                                        \n",
       "3089      Rabadon's Deathcap                           1.559884     0.679054   \n",
       "3151       Liandry's Torment                           1.558140     0.622074   \n",
       "3053           Sterak's Gage                           1.373923     0.641638   \n",
       "3031           Infinity Edge                           1.344633     0.653753   \n",
       "3033         Mortal Reminder                           1.269090     0.579710   \n",
       "3814           Edge of Night                           1.267040     0.550000   \n",
       "3193     Gargoyle Stoneplate                           1.263636     0.656716   \n",
       "3124     Guinsoo's Rageblade                           1.225380     0.592179   \n",
       "3075               Thornmail                           1.195582     0.536585   \n",
       "3022           Frozen Mallet                           1.168492     0.523810   \n",
       "\n",
       "         wr_std_unmasked  \n",
       "item_id                   \n",
       "3089            0.027135  \n",
       "3151            0.028041  \n",
       "3053            0.028014  \n",
       "3031            0.023411  \n",
       "3033            0.059423  \n",
       "3814            0.078661  \n",
       "3193            0.058007  \n",
       "3124            0.025973  \n",
       "3075            0.038939  \n",
       "3022            0.054493  "
      ]
     },
     "execution_count": 113,
     "metadata": {},
     "output_type": "execute_result"
    }
   ],
   "source": [
    "plotting_df.sort_values('Feature Coefficients no Intercept', ascending=False)[[\n",
    "    'name', 'Feature Coefficients no Intercept', 'wr_unmasked', 'wr_std_unmasked'\n",
    "]].head(10)"
   ]
  },
  {
   "cell_type": "markdown",
   "metadata": {},
   "source": [
    "From the win rate statistical analysis"
   ]
  },
  {
   "cell_type": "code",
   "execution_count": 114,
   "metadata": {},
   "outputs": [
    {
     "data": {
      "text/plain": [
       "item_id\n",
       "3041    Mejai's Soulstealer\n",
       "3050     Zeke's Convergence\n",
       "3089     Rabadon's Deathcap\n",
       "3026         Guardian Angel\n",
       "3031          Infinity Edge\n",
       "3087           Statikk Shiv\n",
       "3053          Sterak's Gage\n",
       "3151      Liandry's Torment\n",
       "Name: name, dtype: object"
      ]
     },
     "execution_count": 114,
     "metadata": {},
     "output_type": "execute_result"
    }
   ],
   "source": [
    "abnormal_items_um[0:8]"
   ]
  },
  {
   "cell_type": "markdown",
   "metadata": {},
   "source": [
    "The intersection of these lists is \n",
    "\n",
    "Rabadon's Deathcap\n",
    "\n",
    "Liandry's Torment\n",
    "\n",
    "Sterak's Gage\n",
    "\n",
    "Infinity Edge"
   ]
  },
  {
   "cell_type": "code",
   "execution_count": null,
   "metadata": {},
   "outputs": [],
   "source": []
  }
 ],
 "metadata": {
  "kernelspec": {
   "display_name": "Python 2",
   "language": "python",
   "name": "python2"
  },
  "language_info": {
   "codemirror_mode": {
    "name": "ipython",
    "version": 2
   },
   "file_extension": ".py",
   "mimetype": "text/x-python",
   "name": "python",
   "nbconvert_exporter": "python",
   "pygments_lexer": "ipython2",
   "version": "2.7.15"
  }
 },
 "nbformat": 4,
 "nbformat_minor": 2
}
