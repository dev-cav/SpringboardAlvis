{
 "cells": [
  {
   "cell_type": "markdown",
   "metadata": {},
   "source": [
    "# League of Legends Item Balancing: Further Work Edition\n",
    "### Capstone Project 1: Data Wrangling\n",
    "\n",
    "This is the same process as the original capstone project, only now on newer data.\n",
    "\n",
    "Some data will be acquired from the Riot Games Static API: https://ddragonexplorer.com/cdn/. This doesn't require a login.\n",
    "\n",
    "The rest will be acquired from the Riot Games API: https://developer.riotgames.com/api-methods/. This does require a login. If you have an account for League of Legends, that will work."
   ]
  },
  {
   "cell_type": "code",
   "execution_count": 2,
   "metadata": {},
   "outputs": [],
   "source": [
    "import requests\n",
    "import json\n",
    "import math\n",
    "import numpy as np\n",
    "import pandas as pd\n",
    "from pandas.io.json import json_normalize\n",
    "import time"
   ]
  },
  {
   "cell_type": "code",
   "execution_count": 308,
   "metadata": {},
   "outputs": [],
   "source": [
    "# Do not store the API Key in a publicly available document :)\n",
    "RIOT_API_KEY = ''"
   ]
  },
  {
   "cell_type": "code",
   "execution_count": 309,
   "metadata": {},
   "outputs": [],
   "source": [
    "params = {'api_key': RIOT_API_KEY}"
   ]
  },
  {
   "cell_type": "markdown",
   "metadata": {
    "collapsed": true
   },
   "source": [
    "## Champion Table "
   ]
  },
  {
   "cell_type": "markdown",
   "metadata": {
    "collapsed": true
   },
   "source": [
    "This imports champion basic data: name, role, championId.\n",
    "\n",
    "I don't end up using it, but it was good practice for extracting the data and manipulating the JSON.\n",
    "\n",
    "The data was extracted from the static API / Data Dragon.\n",
    "\n",
    "Data is from patch 9.8.1"
   ]
  },
  {
   "cell_type": "code",
   "execution_count": 3,
   "metadata": {},
   "outputs": [
    {
     "data": {
      "text/plain": [
       "{u'blurb': u'Once honored defenders of Shurima against the Void, Aatrox and his brethren would eventually become an even greater threat to Runeterra, and were defeated only by cunning mortal sorcery. But after centuries of imprisonment, Aatrox was the first to find...',\n",
       " u'id': u'Aatrox',\n",
       " u'image': {u'full': u'Aatrox.png',\n",
       "  u'group': u'champion',\n",
       "  u'h': 48,\n",
       "  u'sprite': u'champion0.png',\n",
       "  u'w': 48,\n",
       "  u'x': 0,\n",
       "  u'y': 0},\n",
       " u'info': {u'attack': 8, u'defense': 4, u'difficulty': 4, u'magic': 3},\n",
       " u'key': u'266',\n",
       " u'name': u'Aatrox',\n",
       " u'partype': u'Blood Well',\n",
       " u'stats': {u'armor': 33,\n",
       "  u'armorperlevel': 3.25,\n",
       "  u'attackdamage': 60,\n",
       "  u'attackdamageperlevel': 5,\n",
       "  u'attackrange': 175,\n",
       "  u'attackspeed': 0.651,\n",
       "  u'attackspeedperlevel': 2.5,\n",
       "  u'crit': 0,\n",
       "  u'critperlevel': 0,\n",
       "  u'hp': 580,\n",
       "  u'hpperlevel': 80,\n",
       "  u'hpregen': 8,\n",
       "  u'hpregenperlevel': 0.75,\n",
       "  u'movespeed': 345,\n",
       "  u'mp': 0,\n",
       "  u'mpperlevel': 0,\n",
       "  u'mpregen': 0,\n",
       "  u'mpregenperlevel': 0,\n",
       "  u'spellblock': 32.1,\n",
       "  u'spellblockperlevel': 1.25},\n",
       " u'tags': [u'Fighter', u'Tank'],\n",
       " u'title': u'the Darkin Blade',\n",
       " u'version': u'9.8.1'}"
      ]
     },
     "execution_count": 3,
     "metadata": {},
     "output_type": "execute_result"
    }
   ],
   "source": [
    "champions_request = requests.get('https://ddragonexplorer.com/cdn/9.8.1/data/en_US/champion.json')\n",
    "champions_json = champions_request.json()\n",
    "champions_json['data']['Aatrox']"
   ]
  },
  {
   "cell_type": "markdown",
   "metadata": {},
   "source": [
    "I build the champion table here. The tricky part is that in order for the formatting of the index to work, I needed to set it after I built the rest of the table."
   ]
  },
  {
   "cell_type": "code",
   "execution_count": 4,
   "metadata": {
    "scrolled": true
   },
   "outputs": [
    {
     "data": {
      "text/html": [
       "<div>\n",
       "<style scoped>\n",
       "    .dataframe tbody tr th:only-of-type {\n",
       "        vertical-align: middle;\n",
       "    }\n",
       "\n",
       "    .dataframe tbody tr th {\n",
       "        vertical-align: top;\n",
       "    }\n",
       "\n",
       "    .dataframe thead th {\n",
       "        text-align: right;\n",
       "    }\n",
       "</style>\n",
       "<table border=\"1\" class=\"dataframe\">\n",
       "  <thead>\n",
       "    <tr style=\"text-align: right;\">\n",
       "      <th></th>\n",
       "      <th>blurb</th>\n",
       "      <th>id</th>\n",
       "      <th>image.full</th>\n",
       "      <th>image.group</th>\n",
       "      <th>image.h</th>\n",
       "      <th>image.sprite</th>\n",
       "      <th>image.w</th>\n",
       "      <th>image.x</th>\n",
       "      <th>image.y</th>\n",
       "      <th>info.attack</th>\n",
       "      <th>...</th>\n",
       "      <th>stats.movespeed</th>\n",
       "      <th>stats.mp</th>\n",
       "      <th>stats.mpperlevel</th>\n",
       "      <th>stats.mpregen</th>\n",
       "      <th>stats.mpregenperlevel</th>\n",
       "      <th>stats.spellblock</th>\n",
       "      <th>stats.spellblockperlevel</th>\n",
       "      <th>tags</th>\n",
       "      <th>title</th>\n",
       "      <th>version</th>\n",
       "    </tr>\n",
       "    <tr>\n",
       "      <th>champion_name</th>\n",
       "      <th></th>\n",
       "      <th></th>\n",
       "      <th></th>\n",
       "      <th></th>\n",
       "      <th></th>\n",
       "      <th></th>\n",
       "      <th></th>\n",
       "      <th></th>\n",
       "      <th></th>\n",
       "      <th></th>\n",
       "      <th></th>\n",
       "      <th></th>\n",
       "      <th></th>\n",
       "      <th></th>\n",
       "      <th></th>\n",
       "      <th></th>\n",
       "      <th></th>\n",
       "      <th></th>\n",
       "      <th></th>\n",
       "      <th></th>\n",
       "      <th></th>\n",
       "    </tr>\n",
       "  </thead>\n",
       "  <tbody>\n",
       "    <tr>\n",
       "      <th>MonkeyKing</th>\n",
       "      <td>Wukong is a vastayan trickster who uses his st...</td>\n",
       "      <td>MonkeyKing</td>\n",
       "      <td>MonkeyKing.png</td>\n",
       "      <td>champion</td>\n",
       "      <td>48</td>\n",
       "      <td>champion2.png</td>\n",
       "      <td>48</td>\n",
       "      <td>96</td>\n",
       "      <td>48</td>\n",
       "      <td>8</td>\n",
       "      <td>...</td>\n",
       "      <td>345</td>\n",
       "      <td>265.84</td>\n",
       "      <td>38.0</td>\n",
       "      <td>8.042</td>\n",
       "      <td>0.650</td>\n",
       "      <td>32.1</td>\n",
       "      <td>1.25</td>\n",
       "      <td>[Fighter, Tank]</td>\n",
       "      <td>the Monkey King</td>\n",
       "      <td>9.8.1</td>\n",
       "    </tr>\n",
       "    <tr>\n",
       "      <th>Jax</th>\n",
       "      <td>Unmatched in both his skill with unique armame...</td>\n",
       "      <td>Jax</td>\n",
       "      <td>Jax.png</td>\n",
       "      <td>champion</td>\n",
       "      <td>48</td>\n",
       "      <td>champion1.png</td>\n",
       "      <td>48</td>\n",
       "      <td>144</td>\n",
       "      <td>48</td>\n",
       "      <td>7</td>\n",
       "      <td>...</td>\n",
       "      <td>350</td>\n",
       "      <td>338.80</td>\n",
       "      <td>32.0</td>\n",
       "      <td>7.576</td>\n",
       "      <td>0.700</td>\n",
       "      <td>32.1</td>\n",
       "      <td>1.25</td>\n",
       "      <td>[Fighter, Assassin]</td>\n",
       "      <td>Grandmaster at Arms</td>\n",
       "      <td>9.8.1</td>\n",
       "    </tr>\n",
       "    <tr>\n",
       "      <th>Kayn</th>\n",
       "      <td>A peerless practitioner of lethal shadow magic...</td>\n",
       "      <td>Kayn</td>\n",
       "      <td>Kayn.png</td>\n",
       "      <td>champion</td>\n",
       "      <td>48</td>\n",
       "      <td>champion1.png</td>\n",
       "      <td>48</td>\n",
       "      <td>192</td>\n",
       "      <td>96</td>\n",
       "      <td>10</td>\n",
       "      <td>...</td>\n",
       "      <td>340</td>\n",
       "      <td>410.00</td>\n",
       "      <td>50.0</td>\n",
       "      <td>11.500</td>\n",
       "      <td>0.950</td>\n",
       "      <td>32.1</td>\n",
       "      <td>1.25</td>\n",
       "      <td>[Fighter, Assassin]</td>\n",
       "      <td>the Shadow Reaper</td>\n",
       "      <td>9.8.1</td>\n",
       "    </tr>\n",
       "    <tr>\n",
       "      <th>Shaco</th>\n",
       "      <td>Crafted long ago as a plaything for a lonely p...</td>\n",
       "      <td>Shaco</td>\n",
       "      <td>Shaco.png</td>\n",
       "      <td>champion</td>\n",
       "      <td>48</td>\n",
       "      <td>champion3.png</td>\n",
       "      <td>48</td>\n",
       "      <td>384</td>\n",
       "      <td>0</td>\n",
       "      <td>8</td>\n",
       "      <td>...</td>\n",
       "      <td>350</td>\n",
       "      <td>297.20</td>\n",
       "      <td>40.0</td>\n",
       "      <td>7.156</td>\n",
       "      <td>0.450</td>\n",
       "      <td>32.1</td>\n",
       "      <td>1.25</td>\n",
       "      <td>[Assassin]</td>\n",
       "      <td>the Demon Jester</td>\n",
       "      <td>9.8.1</td>\n",
       "    </tr>\n",
       "    <tr>\n",
       "      <th>Warwick</th>\n",
       "      <td>Warwick is a monster who hunts the gray alleys...</td>\n",
       "      <td>Warwick</td>\n",
       "      <td>Warwick.png</td>\n",
       "      <td>champion</td>\n",
       "      <td>48</td>\n",
       "      <td>champion4.png</td>\n",
       "      <td>48</td>\n",
       "      <td>48</td>\n",
       "      <td>48</td>\n",
       "      <td>9</td>\n",
       "      <td>...</td>\n",
       "      <td>335</td>\n",
       "      <td>280.00</td>\n",
       "      <td>35.0</td>\n",
       "      <td>7.466</td>\n",
       "      <td>0.575</td>\n",
       "      <td>32.1</td>\n",
       "      <td>1.25</td>\n",
       "      <td>[Fighter, Tank]</td>\n",
       "      <td>the Uncaged Wrath of Zaun</td>\n",
       "      <td>9.8.1</td>\n",
       "    </tr>\n",
       "  </tbody>\n",
       "</table>\n",
       "<p>5 rows × 39 columns</p>\n",
       "</div>"
      ],
      "text/plain": [
       "                                                           blurb          id  \\\n",
       "champion_name                                                                  \n",
       "MonkeyKing     Wukong is a vastayan trickster who uses his st...  MonkeyKing   \n",
       "Jax            Unmatched in both his skill with unique armame...         Jax   \n",
       "Kayn           A peerless practitioner of lethal shadow magic...        Kayn   \n",
       "Shaco          Crafted long ago as a plaything for a lonely p...       Shaco   \n",
       "Warwick        Warwick is a monster who hunts the gray alleys...     Warwick   \n",
       "\n",
       "                   image.full image.group  image.h   image.sprite  image.w  \\\n",
       "champion_name                                                                \n",
       "MonkeyKing     MonkeyKing.png    champion       48  champion2.png       48   \n",
       "Jax                   Jax.png    champion       48  champion1.png       48   \n",
       "Kayn                 Kayn.png    champion       48  champion1.png       48   \n",
       "Shaco               Shaco.png    champion       48  champion3.png       48   \n",
       "Warwick           Warwick.png    champion       48  champion4.png       48   \n",
       "\n",
       "               image.x  image.y  info.attack   ...     stats.movespeed  \\\n",
       "champion_name                                  ...                       \n",
       "MonkeyKing          96       48            8   ...                 345   \n",
       "Jax                144       48            7   ...                 350   \n",
       "Kayn               192       96           10   ...                 340   \n",
       "Shaco              384        0            8   ...                 350   \n",
       "Warwick             48       48            9   ...                 335   \n",
       "\n",
       "               stats.mp  stats.mpperlevel stats.mpregen stats.mpregenperlevel  \\\n",
       "champion_name                                                                   \n",
       "MonkeyKing       265.84              38.0         8.042                 0.650   \n",
       "Jax              338.80              32.0         7.576                 0.700   \n",
       "Kayn             410.00              50.0        11.500                 0.950   \n",
       "Shaco            297.20              40.0         7.156                 0.450   \n",
       "Warwick          280.00              35.0         7.466                 0.575   \n",
       "\n",
       "              stats.spellblock  stats.spellblockperlevel                 tags  \\\n",
       "champion_name                                                                   \n",
       "MonkeyKing                32.1                      1.25      [Fighter, Tank]   \n",
       "Jax                       32.1                      1.25  [Fighter, Assassin]   \n",
       "Kayn                      32.1                      1.25  [Fighter, Assassin]   \n",
       "Shaco                     32.1                      1.25           [Assassin]   \n",
       "Warwick                   32.1                      1.25      [Fighter, Tank]   \n",
       "\n",
       "                                   title  version  \n",
       "champion_name                                      \n",
       "MonkeyKing               the Monkey King    9.8.1  \n",
       "Jax                  Grandmaster at Arms    9.8.1  \n",
       "Kayn                   the Shadow Reaper    9.8.1  \n",
       "Shaco                   the Demon Jester    9.8.1  \n",
       "Warwick        the Uncaged Wrath of Zaun    9.8.1  \n",
       "\n",
       "[5 rows x 39 columns]"
      ]
     },
     "execution_count": 4,
     "metadata": {},
     "output_type": "execute_result"
    }
   ],
   "source": [
    "# Get index values / champion IDs\n",
    "champions_idx = [str(key) for key in champions_json['data'].keys()]\n",
    "\n",
    "# Rest of the df\n",
    "champions_df = json_normalize(champions_json['data'].values())\n",
    "\n",
    "# Set the index\n",
    "champions_df.index = champions_idx\n",
    "champions_df.index = champions_df.index.rename('champion_name')\n",
    "champions_df.head()"
   ]
  },
  {
   "cell_type": "markdown",
   "metadata": {},
   "source": [
    "This is a nicer way to look at the more relevant parts of this dataframe."
   ]
  },
  {
   "cell_type": "code",
   "execution_count": 5,
   "metadata": {
    "scrolled": true
   },
   "outputs": [
    {
     "data": {
      "text/html": [
       "<div>\n",
       "<style scoped>\n",
       "    .dataframe tbody tr th:only-of-type {\n",
       "        vertical-align: middle;\n",
       "    }\n",
       "\n",
       "    .dataframe tbody tr th {\n",
       "        vertical-align: top;\n",
       "    }\n",
       "\n",
       "    .dataframe thead th {\n",
       "        text-align: right;\n",
       "    }\n",
       "</style>\n",
       "<table border=\"1\" class=\"dataframe\">\n",
       "  <thead>\n",
       "    <tr style=\"text-align: right;\">\n",
       "      <th></th>\n",
       "      <th>name</th>\n",
       "      <th>id</th>\n",
       "      <th>key</th>\n",
       "      <th>tags</th>\n",
       "      <th>info.attack</th>\n",
       "      <th>info.defense</th>\n",
       "      <th>info.difficulty</th>\n",
       "      <th>info.magic</th>\n",
       "    </tr>\n",
       "    <tr>\n",
       "      <th>champion_name</th>\n",
       "      <th></th>\n",
       "      <th></th>\n",
       "      <th></th>\n",
       "      <th></th>\n",
       "      <th></th>\n",
       "      <th></th>\n",
       "      <th></th>\n",
       "      <th></th>\n",
       "    </tr>\n",
       "  </thead>\n",
       "  <tbody>\n",
       "    <tr>\n",
       "      <th>MonkeyKing</th>\n",
       "      <td>Wukong</td>\n",
       "      <td>MonkeyKing</td>\n",
       "      <td>62</td>\n",
       "      <td>[Fighter, Tank]</td>\n",
       "      <td>8</td>\n",
       "      <td>5</td>\n",
       "      <td>3</td>\n",
       "      <td>2</td>\n",
       "    </tr>\n",
       "    <tr>\n",
       "      <th>Jax</th>\n",
       "      <td>Jax</td>\n",
       "      <td>Jax</td>\n",
       "      <td>24</td>\n",
       "      <td>[Fighter, Assassin]</td>\n",
       "      <td>7</td>\n",
       "      <td>5</td>\n",
       "      <td>5</td>\n",
       "      <td>7</td>\n",
       "    </tr>\n",
       "    <tr>\n",
       "      <th>Kayn</th>\n",
       "      <td>Kayn</td>\n",
       "      <td>Kayn</td>\n",
       "      <td>141</td>\n",
       "      <td>[Fighter, Assassin]</td>\n",
       "      <td>10</td>\n",
       "      <td>6</td>\n",
       "      <td>8</td>\n",
       "      <td>1</td>\n",
       "    </tr>\n",
       "    <tr>\n",
       "      <th>Shaco</th>\n",
       "      <td>Shaco</td>\n",
       "      <td>Shaco</td>\n",
       "      <td>35</td>\n",
       "      <td>[Assassin]</td>\n",
       "      <td>8</td>\n",
       "      <td>4</td>\n",
       "      <td>9</td>\n",
       "      <td>6</td>\n",
       "    </tr>\n",
       "    <tr>\n",
       "      <th>Warwick</th>\n",
       "      <td>Warwick</td>\n",
       "      <td>Warwick</td>\n",
       "      <td>19</td>\n",
       "      <td>[Fighter, Tank]</td>\n",
       "      <td>9</td>\n",
       "      <td>5</td>\n",
       "      <td>3</td>\n",
       "      <td>3</td>\n",
       "    </tr>\n",
       "  </tbody>\n",
       "</table>\n",
       "</div>"
      ],
      "text/plain": [
       "                  name          id  key                 tags  info.attack  \\\n",
       "champion_name                                                               \n",
       "MonkeyKing      Wukong  MonkeyKing   62      [Fighter, Tank]            8   \n",
       "Jax                Jax         Jax   24  [Fighter, Assassin]            7   \n",
       "Kayn              Kayn        Kayn  141  [Fighter, Assassin]           10   \n",
       "Shaco            Shaco       Shaco   35           [Assassin]            8   \n",
       "Warwick        Warwick     Warwick   19      [Fighter, Tank]            9   \n",
       "\n",
       "               info.defense  info.difficulty  info.magic  \n",
       "champion_name                                             \n",
       "MonkeyKing                5                3           2  \n",
       "Jax                       5                5           7  \n",
       "Kayn                      6                8           1  \n",
       "Shaco                     4                9           6  \n",
       "Warwick                   5                3           3  "
      ]
     },
     "execution_count": 5,
     "metadata": {},
     "output_type": "execute_result"
    }
   ],
   "source": [
    "champion_cols = ['name', 'id', 'key', 'tags', 'info.attack', 'info.defense', 'info.difficulty', 'info.magic']\n",
    "champions_df_min = champions_df[champion_cols]\n",
    "champions_df_min.head()"
   ]
  },
  {
   "cell_type": "code",
   "execution_count": 6,
   "metadata": {},
   "outputs": [],
   "source": [
    "champions_df_min.to_csv('../data/champions_min_9.8.1.csv')"
   ]
  },
  {
   "cell_type": "markdown",
   "metadata": {
    "collapsed": true
   },
   "source": [
    "## Item Table"
   ]
  },
  {
   "cell_type": "markdown",
   "metadata": {},
   "source": [
    "This imports the item data. I use several columns from it for exploratory data analysis and to help assign item names to otherwise unknown data points.\n",
    "\n",
    "The request gets the JSON for all purchasable items, acquired from the static API / Data Dragon.\n",
    "\n",
    "Here is an example item: Targon's Brace.\n",
    "\n",
    "Data is from patch 9.8.1"
   ]
  },
  {
   "cell_type": "code",
   "execution_count": 14,
   "metadata": {
    "scrolled": true
   },
   "outputs": [
    {
     "data": {
      "text/plain": [
       "{u'colloq': u';lethality',\n",
       " u'depth': 3,\n",
       " u'description': u\"<stats>+70 Attack Damage</stats><br><br><unique>UNIQUE Passive:</unique> +18 <a href='Lethality'>Lethality</a><br><unique>UNIQUE Active:</unique> Mark your current location. After 4 seconds, you will return to the marked location (60 second cooldown).\",\n",
       " u'effect': {u'Effect1Amount': u'18',\n",
       "  u'Effect2Amount': u'4',\n",
       "  u'Effect3Amount': u'60'},\n",
       " u'from': [u'4003', u'3134'],\n",
       " u'gold': {u'base': 400, u'purchasable': True, u'sell': 2100, u'total': 3000},\n",
       " u'image': {u'full': u'4004.png',\n",
       "  u'group': u'item',\n",
       "  u'h': 48,\n",
       "  u'sprite': u'item3.png',\n",
       "  u'w': 48,\n",
       "  u'x': 240,\n",
       "  u'y': 0},\n",
       " u'maps': {u'10': False, u'11': False, u'12': False},\n",
       " u'name': u'Spectral Cutlass',\n",
       " u'plaintext': u'Marks the ground, and returns you there after a few moments',\n",
       " u'stats': {u'FlatPhysicalDamageMod': 70},\n",
       " u'tags': [u'Armor', u'Damage', u'NonbootsMovement', u'ArmorPenetration']}"
      ]
     },
     "execution_count": 14,
     "metadata": {},
     "output_type": "execute_result"
    }
   ],
   "source": [
    "items_request = requests.get('https://ddragonexplorer.com/cdn/9.8.1/data/en_US/item.json')\n",
    "lol_items_json = items_request.json()\n",
    "lol_items_json['data'].values()[5]"
   ]
  },
  {
   "cell_type": "code",
   "execution_count": 19,
   "metadata": {},
   "outputs": [
    {
     "data": {
      "text/plain": [
       "{u'colloq': u';',\n",
       " u'depth': 2,\n",
       " u'description': u\"<stats>+40 Armor</stats><br><br><unique>UNIQUE Passive - Cold Steel:</unique> When hit by basic attacks, reduces the attacker's Attack Speed by 15% for 1 seconds.\",\n",
       " u'effect': {u'Effect1Amount': u'-0.15', u'Effect2Amount': u'1'},\n",
       " u'from': [u'1029', u'1029'],\n",
       " u'gold': {u'base': 400, u'purchasable': True, u'sell': 700, u'total': 1000},\n",
       " u'image': {u'full': u'3082.png',\n",
       "  u'group': u'item',\n",
       "  u'h': 48,\n",
       "  u'sprite': u'item1.png',\n",
       "  u'w': 48,\n",
       "  u'x': 144,\n",
       "  u'y': 96},\n",
       " u'into': [u'3110', u'3143', u'3075'],\n",
       " u'maps': {u'10': True, u'11': True, u'12': True},\n",
       " u'name': u\"Warden's Mail\",\n",
       " u'plaintext': u'Slows Attack Speed of enemy champions when receiving basic attacks',\n",
       " u'stats': {u'FlatArmorMod': 40},\n",
       " u'tags': [u'Armor', u'Slow']}"
      ]
     },
     "execution_count": 19,
     "metadata": {},
     "output_type": "execute_result"
    }
   ],
   "source": [
    "lol_items_json['data'].values()[200]"
   ]
  },
  {
   "cell_type": "code",
   "execution_count": null,
   "metadata": {},
   "outputs": [],
   "source": []
  },
  {
   "cell_type": "markdown",
   "metadata": {},
   "source": [
    "The tricky part for this dataframe was only wanting certain columns. I named them all out manually, both for their keys in the JSON and for what I wanted the dataframe columns to be called."
   ]
  },
  {
   "cell_type": "code",
   "execution_count": 20,
   "metadata": {},
   "outputs": [
    {
     "data": {
      "text/html": [
       "<div>\n",
       "<style scoped>\n",
       "    .dataframe tbody tr th:only-of-type {\n",
       "        vertical-align: middle;\n",
       "    }\n",
       "\n",
       "    .dataframe tbody tr th {\n",
       "        vertical-align: top;\n",
       "    }\n",
       "\n",
       "    .dataframe thead th {\n",
       "        text-align: right;\n",
       "    }\n",
       "</style>\n",
       "<table border=\"1\" class=\"dataframe\">\n",
       "  <thead>\n",
       "    <tr style=\"text-align: right;\">\n",
       "      <th></th>\n",
       "      <th>name</th>\n",
       "      <th>description</th>\n",
       "      <th>consumed</th>\n",
       "      <th>base_gold</th>\n",
       "      <th>depth</th>\n",
       "      <th>sr</th>\n",
       "      <th>effect1amount</th>\n",
       "      <th>effect2amount</th>\n",
       "      <th>effect3amount</th>\n",
       "      <th>effect4amount</th>\n",
       "      <th>...</th>\n",
       "      <th>flat_hp_pool_mod</th>\n",
       "      <th>flat_hp_regen_mod</th>\n",
       "      <th>flat_magic_dmg_mod</th>\n",
       "      <th>flat_ms_mod</th>\n",
       "      <th>flat_phys_dmg_mod</th>\n",
       "      <th>flat_spellblock_mod</th>\n",
       "      <th>flat_pct_atk_speed_mod</th>\n",
       "      <th>pct_lifesteal_mod</th>\n",
       "      <th>pct_movespeed_mod</th>\n",
       "      <th>tags</th>\n",
       "    </tr>\n",
       "  </thead>\n",
       "  <tbody>\n",
       "    <tr>\n",
       "      <th>0</th>\n",
       "      <td>Skirmisher's Sabre</td>\n",
       "      <td>&lt;groupLimit&gt;Limited to 1 Gold Income or Jungle...</td>\n",
       "      <td>NaN</td>\n",
       "      <td>300</td>\n",
       "      <td>2.0</td>\n",
       "      <td>True</td>\n",
       "      <td>80</td>\n",
       "      <td>30</td>\n",
       "      <td>5</td>\n",
       "      <td>8</td>\n",
       "      <td>...</td>\n",
       "      <td>NaN</td>\n",
       "      <td>NaN</td>\n",
       "      <td>NaN</td>\n",
       "      <td>NaN</td>\n",
       "      <td>NaN</td>\n",
       "      <td>NaN</td>\n",
       "      <td>NaN</td>\n",
       "      <td>NaN</td>\n",
       "      <td>NaN</td>\n",
       "      <td>[LifeSteal, ManaRegen, OnHit, Jungle]</td>\n",
       "    </tr>\n",
       "    <tr>\n",
       "      <th>1</th>\n",
       "      <td>Heart of Targon</td>\n",
       "      <td>&lt;stats&gt;+60 Health&lt;br&gt;+50% Base Health Regen &lt;b...</td>\n",
       "      <td>NaN</td>\n",
       "      <td>400</td>\n",
       "      <td>NaN</td>\n",
       "      <td>False</td>\n",
       "      <td>200</td>\n",
       "      <td>10</td>\n",
       "      <td>5</td>\n",
       "      <td>0</td>\n",
       "      <td>...</td>\n",
       "      <td>60.0</td>\n",
       "      <td>NaN</td>\n",
       "      <td>NaN</td>\n",
       "      <td>NaN</td>\n",
       "      <td>NaN</td>\n",
       "      <td>NaN</td>\n",
       "      <td>NaN</td>\n",
       "      <td>NaN</td>\n",
       "      <td>NaN</td>\n",
       "      <td>[Health, HealthRegen, Aura, GoldPer, Lane]</td>\n",
       "    </tr>\n",
       "    <tr>\n",
       "      <th>2</th>\n",
       "      <td>Philosopher's Medallion</td>\n",
       "      <td>&lt;stats&gt;+10% Cooldown Reduction&lt;br&gt;+50% Base He...</td>\n",
       "      <td>NaN</td>\n",
       "      <td>450</td>\n",
       "      <td>NaN</td>\n",
       "      <td>False</td>\n",
       "      <td>50</td>\n",
       "      <td>10</td>\n",
       "      <td>5</td>\n",
       "      <td>0</td>\n",
       "      <td>...</td>\n",
       "      <td>NaN</td>\n",
       "      <td>NaN</td>\n",
       "      <td>NaN</td>\n",
       "      <td>NaN</td>\n",
       "      <td>NaN</td>\n",
       "      <td>NaN</td>\n",
       "      <td>NaN</td>\n",
       "      <td>NaN</td>\n",
       "      <td>NaN</td>\n",
       "      <td>[HealthRegen, ManaRegen, GoldPer, CooldownRedu...</td>\n",
       "    </tr>\n",
       "    <tr>\n",
       "      <th>3</th>\n",
       "      <td>Salvation</td>\n",
       "      <td>&lt;stats&gt;&lt;font color='#FFFFFF'&gt;+300 Health&lt;/font...</td>\n",
       "      <td>NaN</td>\n",
       "      <td>0</td>\n",
       "      <td>4.0</td>\n",
       "      <td>True</td>\n",
       "      <td>0.1</td>\n",
       "      <td>10</td>\n",
       "      <td>20</td>\n",
       "      <td>0.1</td>\n",
       "      <td>...</td>\n",
       "      <td>300.0</td>\n",
       "      <td>NaN</td>\n",
       "      <td>NaN</td>\n",
       "      <td>NaN</td>\n",
       "      <td>NaN</td>\n",
       "      <td>NaN</td>\n",
       "      <td>NaN</td>\n",
       "      <td>NaN</td>\n",
       "      <td>NaN</td>\n",
       "      <td>[Health, HealthRegen, ManaRegen, CooldownReduc...</td>\n",
       "    </tr>\n",
       "    <tr>\n",
       "      <th>4</th>\n",
       "      <td>Ghost Poro</td>\n",
       "      <td>&lt;subtitleLeft&gt;&lt;font color='#FFFFFF'&gt;(Trinket)&lt;...</td>\n",
       "      <td>True</td>\n",
       "      <td>0</td>\n",
       "      <td>NaN</td>\n",
       "      <td>False</td>\n",
       "      <td>240</td>\n",
       "      <td>3.5</td>\n",
       "      <td>42</td>\n",
       "      <td>NaN</td>\n",
       "      <td>...</td>\n",
       "      <td>NaN</td>\n",
       "      <td>NaN</td>\n",
       "      <td>NaN</td>\n",
       "      <td>NaN</td>\n",
       "      <td>NaN</td>\n",
       "      <td>NaN</td>\n",
       "      <td>NaN</td>\n",
       "      <td>NaN</td>\n",
       "      <td>NaN</td>\n",
       "      <td>[Vision, Trinket, Active]</td>\n",
       "    </tr>\n",
       "  </tbody>\n",
       "</table>\n",
       "<p>5 rows × 33 columns</p>\n",
       "</div>"
      ],
      "text/plain": [
       "                      name                                        description  \\\n",
       "0       Skirmisher's Sabre  <groupLimit>Limited to 1 Gold Income or Jungle...   \n",
       "1          Heart of Targon  <stats>+60 Health<br>+50% Base Health Regen <b...   \n",
       "2  Philosopher's Medallion  <stats>+10% Cooldown Reduction<br>+50% Base He...   \n",
       "3                Salvation  <stats><font color='#FFFFFF'>+300 Health</font...   \n",
       "4               Ghost Poro  <subtitleLeft><font color='#FFFFFF'>(Trinket)<...   \n",
       "\n",
       "  consumed  base_gold  depth     sr effect1amount effect2amount effect3amount  \\\n",
       "0      NaN        300    2.0   True            80            30             5   \n",
       "1      NaN        400    NaN  False           200            10             5   \n",
       "2      NaN        450    NaN  False            50            10             5   \n",
       "3      NaN          0    4.0   True           0.1            10            20   \n",
       "4     True          0    NaN  False           240           3.5            42   \n",
       "\n",
       "  effect4amount                        ...                          \\\n",
       "0             8                        ...                           \n",
       "1             0                        ...                           \n",
       "2             0                        ...                           \n",
       "3           0.1                        ...                           \n",
       "4           NaN                        ...                           \n",
       "\n",
       "  flat_hp_pool_mod flat_hp_regen_mod flat_magic_dmg_mod flat_ms_mod  \\\n",
       "0              NaN               NaN                NaN         NaN   \n",
       "1             60.0               NaN                NaN         NaN   \n",
       "2              NaN               NaN                NaN         NaN   \n",
       "3            300.0               NaN                NaN         NaN   \n",
       "4              NaN               NaN                NaN         NaN   \n",
       "\n",
       "  flat_phys_dmg_mod flat_spellblock_mod  flat_pct_atk_speed_mod  \\\n",
       "0               NaN                 NaN                     NaN   \n",
       "1               NaN                 NaN                     NaN   \n",
       "2               NaN                 NaN                     NaN   \n",
       "3               NaN                 NaN                     NaN   \n",
       "4               NaN                 NaN                     NaN   \n",
       "\n",
       "   pct_lifesteal_mod pct_movespeed_mod  \\\n",
       "0                NaN               NaN   \n",
       "1                NaN               NaN   \n",
       "2                NaN               NaN   \n",
       "3                NaN               NaN   \n",
       "4                NaN               NaN   \n",
       "\n",
       "                                                tags  \n",
       "0              [LifeSteal, ManaRegen, OnHit, Jungle]  \n",
       "1         [Health, HealthRegen, Aura, GoldPer, Lane]  \n",
       "2  [HealthRegen, ManaRegen, GoldPer, CooldownRedu...  \n",
       "3  [Health, HealthRegen, ManaRegen, CooldownReduc...  \n",
       "4                          [Vision, Trinket, Active]  \n",
       "\n",
       "[5 rows x 33 columns]"
      ]
     },
     "execution_count": 20,
     "metadata": {},
     "output_type": "execute_result"
    }
   ],
   "source": [
    "item_cols = ['name', 'description', 'consumed', 'gold.base', 'depth', 'maps.11', 'effect.Effect1Amount', 'effect.Effect2Amount',\n",
    "             'effect.Effect3Amount', 'effect.Effect4Amount', 'effect.Effect5Amount','effect.Effect6Amount',\n",
    "             'effect.Effect7Amount', 'effect.Effect8Amount', 'from', 'into', 'gold.purchasable', 'gold.total', 'requiredChampion',\n",
    "             'specialRecipe', 'stacks', 'stats.FlatArmorMod', 'stats.FlatCritChanceMod', 'stats.FlatHPPoolMod',\n",
    "             'stats.FlatHPRegenMod', 'stats.FlatMagicDamageMod', 'stats.FlatMovementSpeedMod', 'stats.FlatPhysicalDamageMod',\n",
    "             'stats.FlatSpellBlockMod', 'stats.PercentAttackSpeedMod', 'stats.PercentLifeStealMod',\n",
    "             'stats.PercentMovementSpeedMod', 'tags']\n",
    "item_col_names = ['name', 'description', 'consumed', 'base_gold', 'depth', 'sr', 'effect1amount', 'effect2amount',\n",
    "                 'effect3amount', 'effect4amount', 'effect5amount', 'effect6amount', 'effect7amount', 'effect8amount', 'from', 'into',\n",
    "                 'gold_purchasable', 'total_gold', 'req_champion', 'special_recipe', 'stacks', 'flat_armor_mod',\n",
    "                 'flat_crit_chance_mod', 'flat_hp_pool_mod', 'flat_hp_regen_mod', 'flat_magic_dmg_mod', 'flat_ms_mod',\n",
    "                 'flat_phys_dmg_mod', 'flat_spellblock_mod', 'flat_pct_atk_speed_mod', 'pct_lifesteal_mod', 'pct_movespeed_mod',\n",
    "                  'tags']\n",
    "lol_items_df = json_normalize(data=lol_items_json['data'].values())[item_cols]\n",
    "lol_items_df.columns = item_col_names\n",
    "lol_items_df.head()"
   ]
  },
  {
   "cell_type": "markdown",
   "metadata": {},
   "source": [
    "As with the champion dataframe, I need to set the set the index separately."
   ]
  },
  {
   "cell_type": "code",
   "execution_count": 21,
   "metadata": {},
   "outputs": [],
   "source": [
    "lol_items_df_idx = [str(key) for key in lol_items_json['data'].keys()]\n",
    "lol_items_df.index = lol_items_df_idx\n",
    "lol_items_df.index = lol_items_df.index.rename('item_id')"
   ]
  },
  {
   "cell_type": "code",
   "execution_count": 22,
   "metadata": {},
   "outputs": [
    {
     "data": {
      "text/html": [
       "<div>\n",
       "<style scoped>\n",
       "    .dataframe tbody tr th:only-of-type {\n",
       "        vertical-align: middle;\n",
       "    }\n",
       "\n",
       "    .dataframe tbody tr th {\n",
       "        vertical-align: top;\n",
       "    }\n",
       "\n",
       "    .dataframe thead th {\n",
       "        text-align: right;\n",
       "    }\n",
       "</style>\n",
       "<table border=\"1\" class=\"dataframe\">\n",
       "  <thead>\n",
       "    <tr style=\"text-align: right;\">\n",
       "      <th></th>\n",
       "      <th>name</th>\n",
       "      <th>description</th>\n",
       "      <th>consumed</th>\n",
       "      <th>base_gold</th>\n",
       "      <th>depth</th>\n",
       "      <th>sr</th>\n",
       "      <th>effect1amount</th>\n",
       "      <th>effect2amount</th>\n",
       "      <th>effect3amount</th>\n",
       "      <th>effect4amount</th>\n",
       "      <th>...</th>\n",
       "      <th>flat_hp_pool_mod</th>\n",
       "      <th>flat_hp_regen_mod</th>\n",
       "      <th>flat_magic_dmg_mod</th>\n",
       "      <th>flat_ms_mod</th>\n",
       "      <th>flat_phys_dmg_mod</th>\n",
       "      <th>flat_spellblock_mod</th>\n",
       "      <th>flat_pct_atk_speed_mod</th>\n",
       "      <th>pct_lifesteal_mod</th>\n",
       "      <th>pct_movespeed_mod</th>\n",
       "      <th>tags</th>\n",
       "    </tr>\n",
       "    <tr>\n",
       "      <th>item_id</th>\n",
       "      <th></th>\n",
       "      <th></th>\n",
       "      <th></th>\n",
       "      <th></th>\n",
       "      <th></th>\n",
       "      <th></th>\n",
       "      <th></th>\n",
       "      <th></th>\n",
       "      <th></th>\n",
       "      <th></th>\n",
       "      <th></th>\n",
       "      <th></th>\n",
       "      <th></th>\n",
       "      <th></th>\n",
       "      <th></th>\n",
       "      <th></th>\n",
       "      <th></th>\n",
       "      <th></th>\n",
       "      <th></th>\n",
       "      <th></th>\n",
       "      <th></th>\n",
       "    </tr>\n",
       "  </thead>\n",
       "  <tbody>\n",
       "    <tr>\n",
       "      <th>1001</th>\n",
       "      <td>Boots of Speed</td>\n",
       "      <td>&lt;groupLimit&gt;Limited to 1 pair of boots.&lt;/group...</td>\n",
       "      <td>0</td>\n",
       "      <td>300</td>\n",
       "      <td>0.0</td>\n",
       "      <td>True</td>\n",
       "      <td>0</td>\n",
       "      <td>0</td>\n",
       "      <td>0</td>\n",
       "      <td>0</td>\n",
       "      <td>...</td>\n",
       "      <td>0.0</td>\n",
       "      <td>0.0</td>\n",
       "      <td>0.0</td>\n",
       "      <td>25.0</td>\n",
       "      <td>0.0</td>\n",
       "      <td>0.0</td>\n",
       "      <td>0.0</td>\n",
       "      <td>0.0</td>\n",
       "      <td>0.0</td>\n",
       "      <td>[Boots]</td>\n",
       "    </tr>\n",
       "    <tr>\n",
       "      <th>1004</th>\n",
       "      <td>Faerie Charm</td>\n",
       "      <td>&lt;stats&gt;&lt;mana&gt;+25% Base Mana Regen &lt;/mana&gt;&lt;/stats&gt;</td>\n",
       "      <td>0</td>\n",
       "      <td>125</td>\n",
       "      <td>0.0</td>\n",
       "      <td>True</td>\n",
       "      <td>0</td>\n",
       "      <td>0</td>\n",
       "      <td>0</td>\n",
       "      <td>0</td>\n",
       "      <td>...</td>\n",
       "      <td>0.0</td>\n",
       "      <td>0.0</td>\n",
       "      <td>0.0</td>\n",
       "      <td>0.0</td>\n",
       "      <td>0.0</td>\n",
       "      <td>0.0</td>\n",
       "      <td>0.0</td>\n",
       "      <td>0.0</td>\n",
       "      <td>0.0</td>\n",
       "      <td>[ManaRegen]</td>\n",
       "    </tr>\n",
       "    <tr>\n",
       "      <th>1006</th>\n",
       "      <td>Rejuvenation Bead</td>\n",
       "      <td>&lt;stats&gt;+50% Base Health Regen &lt;/stats&gt;</td>\n",
       "      <td>0</td>\n",
       "      <td>150</td>\n",
       "      <td>0.0</td>\n",
       "      <td>True</td>\n",
       "      <td>0</td>\n",
       "      <td>0</td>\n",
       "      <td>0</td>\n",
       "      <td>0</td>\n",
       "      <td>...</td>\n",
       "      <td>0.0</td>\n",
       "      <td>0.0</td>\n",
       "      <td>0.0</td>\n",
       "      <td>0.0</td>\n",
       "      <td>0.0</td>\n",
       "      <td>0.0</td>\n",
       "      <td>0.0</td>\n",
       "      <td>0.0</td>\n",
       "      <td>0.0</td>\n",
       "      <td>[HealthRegen]</td>\n",
       "    </tr>\n",
       "    <tr>\n",
       "      <th>1011</th>\n",
       "      <td>Giant's Belt</td>\n",
       "      <td>&lt;stats&gt;+380 Health&lt;/stats&gt;</td>\n",
       "      <td>0</td>\n",
       "      <td>600</td>\n",
       "      <td>2.0</td>\n",
       "      <td>True</td>\n",
       "      <td>0</td>\n",
       "      <td>0</td>\n",
       "      <td>0</td>\n",
       "      <td>0</td>\n",
       "      <td>...</td>\n",
       "      <td>380.0</td>\n",
       "      <td>0.0</td>\n",
       "      <td>0.0</td>\n",
       "      <td>0.0</td>\n",
       "      <td>0.0</td>\n",
       "      <td>0.0</td>\n",
       "      <td>0.0</td>\n",
       "      <td>0.0</td>\n",
       "      <td>0.0</td>\n",
       "      <td>[Health]</td>\n",
       "    </tr>\n",
       "    <tr>\n",
       "      <th>1018</th>\n",
       "      <td>Cloak of Agility</td>\n",
       "      <td>&lt;stats&gt;+20% Critical Strike Chance&lt;/stats&gt;</td>\n",
       "      <td>0</td>\n",
       "      <td>800</td>\n",
       "      <td>0.0</td>\n",
       "      <td>True</td>\n",
       "      <td>0</td>\n",
       "      <td>0</td>\n",
       "      <td>0</td>\n",
       "      <td>0</td>\n",
       "      <td>...</td>\n",
       "      <td>0.0</td>\n",
       "      <td>0.0</td>\n",
       "      <td>0.0</td>\n",
       "      <td>0.0</td>\n",
       "      <td>0.0</td>\n",
       "      <td>0.0</td>\n",
       "      <td>0.0</td>\n",
       "      <td>0.0</td>\n",
       "      <td>0.0</td>\n",
       "      <td>[CriticalStrike]</td>\n",
       "    </tr>\n",
       "  </tbody>\n",
       "</table>\n",
       "<p>5 rows × 33 columns</p>\n",
       "</div>"
      ],
      "text/plain": [
       "                      name                                        description  \\\n",
       "item_id                                                                         \n",
       "1001        Boots of Speed  <groupLimit>Limited to 1 pair of boots.</group...   \n",
       "1004          Faerie Charm  <stats><mana>+25% Base Mana Regen </mana></stats>   \n",
       "1006     Rejuvenation Bead             <stats>+50% Base Health Regen </stats>   \n",
       "1011          Giant's Belt                         <stats>+380 Health</stats>   \n",
       "1018      Cloak of Agility         <stats>+20% Critical Strike Chance</stats>   \n",
       "\n",
       "        consumed  base_gold  depth    sr effect1amount effect2amount  \\\n",
       "item_id                                                                \n",
       "1001           0        300    0.0  True             0             0   \n",
       "1004           0        125    0.0  True             0             0   \n",
       "1006           0        150    0.0  True             0             0   \n",
       "1011           0        600    2.0  True             0             0   \n",
       "1018           0        800    0.0  True             0             0   \n",
       "\n",
       "        effect3amount effect4amount        ...        flat_hp_pool_mod  \\\n",
       "item_id                                    ...                           \n",
       "1001                0             0        ...                     0.0   \n",
       "1004                0             0        ...                     0.0   \n",
       "1006                0             0        ...                     0.0   \n",
       "1011                0             0        ...                   380.0   \n",
       "1018                0             0        ...                     0.0   \n",
       "\n",
       "        flat_hp_regen_mod flat_magic_dmg_mod flat_ms_mod flat_phys_dmg_mod  \\\n",
       "item_id                                                                      \n",
       "1001                  0.0                0.0        25.0               0.0   \n",
       "1004                  0.0                0.0         0.0               0.0   \n",
       "1006                  0.0                0.0         0.0               0.0   \n",
       "1011                  0.0                0.0         0.0               0.0   \n",
       "1018                  0.0                0.0         0.0               0.0   \n",
       "\n",
       "        flat_spellblock_mod  flat_pct_atk_speed_mod  pct_lifesteal_mod  \\\n",
       "item_id                                                                  \n",
       "1001                    0.0                     0.0                0.0   \n",
       "1004                    0.0                     0.0                0.0   \n",
       "1006                    0.0                     0.0                0.0   \n",
       "1011                    0.0                     0.0                0.0   \n",
       "1018                    0.0                     0.0                0.0   \n",
       "\n",
       "        pct_movespeed_mod              tags  \n",
       "item_id                                      \n",
       "1001                  0.0           [Boots]  \n",
       "1004                  0.0       [ManaRegen]  \n",
       "1006                  0.0     [HealthRegen]  \n",
       "1011                  0.0          [Health]  \n",
       "1018                  0.0  [CriticalStrike]  \n",
       "\n",
       "[5 rows x 33 columns]"
      ]
     },
     "execution_count": 22,
     "metadata": {},
     "output_type": "execute_result"
    }
   ],
   "source": [
    "# Filter for only Summoner's Rift items\n",
    "lol_items_df = lol_items_df[lol_items_df['sr'] == True].fillna(0)\n",
    "lol_items_df = lol_items_df.sort_index()\n",
    "\n",
    "# Here is what the data looks like now\n",
    "lol_items_df.head()"
   ]
  },
  {
   "cell_type": "markdown",
   "metadata": {},
   "source": [
    "This is what an item's data looks like from the dataframe."
   ]
  },
  {
   "cell_type": "code",
   "execution_count": 23,
   "metadata": {},
   "outputs": [
    {
     "data": {
      "text/plain": [
       "name                                      Total Biscuit of Everlasting Will\n",
       "description               <consumable>Click to Consume:</consumable> Res...\n",
       "consumed                                                               True\n",
       "base_gold                                                                75\n",
       "depth                                                                     0\n",
       "sr                                                                     True\n",
       "effect1amount                                                            15\n",
       "effect2amount                                                             0\n",
       "effect3amount                                                             0\n",
       "effect4amount                                                             0\n",
       "effect5amount                                                             0\n",
       "effect6amount                                                             0\n",
       "effect7amount                                                             0\n",
       "effect8amount                                                             0\n",
       "from                                                                      0\n",
       "into                                                                      0\n",
       "gold_purchasable                                                      False\n",
       "total_gold                                                               75\n",
       "req_champion                                                              0\n",
       "special_recipe                                                            0\n",
       "stacks                                                                   10\n",
       "flat_armor_mod                                                            0\n",
       "flat_crit_chance_mod                                                      0\n",
       "flat_hp_pool_mod                                                          0\n",
       "flat_hp_regen_mod                                                         0\n",
       "flat_magic_dmg_mod                                                        0\n",
       "flat_ms_mod                                                               0\n",
       "flat_phys_dmg_mod                                                         0\n",
       "flat_spellblock_mod                                                       0\n",
       "flat_pct_atk_speed_mod                                                    0\n",
       "pct_lifesteal_mod                                                         0\n",
       "pct_movespeed_mod                                                         0\n",
       "tags                                                                     []\n",
       "Name: 2010, dtype: object"
      ]
     },
     "execution_count": 23,
     "metadata": {},
     "output_type": "execute_result"
    }
   ],
   "source": [
    "lol_items_df.loc['2010', :]"
   ]
  },
  {
   "cell_type": "code",
   "execution_count": 24,
   "metadata": {},
   "outputs": [],
   "source": [
    "lol_items_df.to_csv('../data/items_9.8.1.csv')"
   ]
  },
  {
   "cell_type": "markdown",
   "metadata": {},
   "source": [
    "## Match Data Acquisition"
   ]
  },
  {
   "cell_type": "markdown",
   "metadata": {
    "scrolled": true
   },
   "source": [
    "Need random players in Platinum and Diamond leagues, and random ranked games from their history. Then get all that match data, and boil it down with the same logic that I used above."
   ]
  },
  {
   "cell_type": "markdown",
   "metadata": {
    "collapsed": true
   },
   "source": [
    "To start, I need to find the Platinum and Diamond leagues.\n",
    "\n",
    "I can acquire players from any league / division with this request: /lol/league/v4/entries/{queue}/{tier}/{division}\n",
    "\n",
    "I can get EVERY player in NA1, in every league / division that I want."
   ]
  },
  {
   "cell_type": "code",
   "execution_count": 3,
   "metadata": {
    "scrolled": true
   },
   "outputs": [
    {
     "data": {
      "text/plain": [
       "[('GOLD', 'IV'),\n",
       " ('GOLD', 'III'),\n",
       " ('GOLD', 'II'),\n",
       " ('GOLD', 'I'),\n",
       " ('PLATINUM', 'IV'),\n",
       " ('PLATINUM', 'III'),\n",
       " ('PLATINUM', 'II'),\n",
       " ('PLATINUM', 'I'),\n",
       " ('DIAMOND', 'IV'),\n",
       " ('DIAMOND', 'III'),\n",
       " ('DIAMOND', 'II'),\n",
       " ('DIAMOND', 'I')]"
      ]
     },
     "execution_count": 3,
     "metadata": {},
     "output_type": "execute_result"
    }
   ],
   "source": [
    "from itertools import repeat, permutations, product\n",
    "\n",
    "queue = 'RANKED_SOLO_5x5'\n",
    "leagues = ['GOLD', 'PLATINUM', 'DIAMOND']\n",
    "divisions = ['IV', 'III', 'II', 'I']\n",
    "\n",
    "leagues_and_divisions = list(product(leagues, divisions))\n",
    "leagues_and_divisions"
   ]
  },
  {
   "cell_type": "markdown",
   "metadata": {},
   "source": [
    "There are many pages of players in each request, I will just have to keep searching until I don't get any more."
   ]
  },
  {
   "cell_type": "code",
   "execution_count": 13,
   "metadata": {
    "scrolled": true
   },
   "outputs": [
    {
     "data": {
      "text/plain": [
       "'https://na1.api.riotgames.com/lol/league/v4/entries/RANKED_SOLO_5x5/DIAMOND/I?page=1'"
      ]
     },
     "execution_count": 13,
     "metadata": {},
     "output_type": "execute_result"
    }
   ],
   "source": [
    "req = 'https://na1.api.riotgames.com/lol/league/v4/entries/'\\\n",
    "        + queue + '/' + leagues[2] + '/' + divisions[3]\n",
    "page = 1\n",
    "req_w_page = req + \"?page=\" + str(page)\n",
    "req_w_page"
   ]
  },
  {
   "cell_type": "markdown",
   "metadata": {},
   "source": [
    "Big loop to get summoner IDs"
   ]
  },
  {
   "cell_type": "code",
   "execution_count": null,
   "metadata": {},
   "outputs": [],
   "source": []
  },
  {
   "cell_type": "code",
   "execution_count": 86,
   "metadata": {
    "scrolled": false
   },
   "outputs": [
    {
     "name": "stdout",
     "output_type": "stream",
     "text": [
      "GOLD IV\n",
      "Page 50.000000\n",
      "GOLD III\n",
      "Page 50.000000\n",
      "GOLD II\n",
      "Page 50.000000\n",
      "GOLD I\n",
      "Page 50.000000\n",
      "PLATINUM IV\n",
      "Page 50.000000\n",
      "PLATINUM III\n",
      "Page 50.000000\n",
      "PLATINUM II\n",
      "Page 50.000000\n",
      "PLATINUM I\n",
      "Page 50.000000\n",
      "DIAMOND IV\n",
      "Page 50.000000\n",
      "DIAMOND III\n",
      "Page 50.000000\n",
      "DIAMOND II\n",
      "Page 50.000000\n",
      "DIAMOND I\n",
      "Page 50.000000\n",
      "Wall time: 14min 5s\n"
     ]
    }
   ],
   "source": [
    "%%time\n",
    "# n is how many requests to run before saving\n",
    "# Each request gets about 200 players, I want 10k players per division\n",
    "n = 50\n",
    "players_df_list = np.array(np.empty(n), dtype=pd.DataFrame)\n",
    "\n",
    "# num_files helps me to name the files uniquely to store them all separately\n",
    "num_files = 0\n",
    "\n",
    "for league, division in leagues_and_divisions:\n",
    "    # Keep track of the loop\n",
    "    print('' + league + ' ' + division)\n",
    "    req = 'https://na1.api.riotgames.com/lol/league/v4/entries/'\\\n",
    "        + queue + '/' + league + '/' + division\n",
    "    page = 0\n",
    "    \n",
    "    # Emulate do-while loop\n",
    "    while True:\n",
    "        # Don't violate the rate limit of 100 req per 2 min\n",
    "        time.sleep(1.2)\n",
    "        page += 1\n",
    "        \n",
    "        # Set up req with page number\n",
    "        req_w_page = req + \"?page=\" + str(page)\n",
    "        players = requests.get(req_w_page, params=params)\n",
    "        players_sub_df = json_normalize(players.json())\n",
    "        \n",
    "        # Empty df is a sign of no more data\n",
    "        #if len(players_sub_df) == 0:\n",
    "            #break\n",
    "        \n",
    "        if (players.status_code != 200):\n",
    "            print(players.status_code)\n",
    "        \n",
    "        # If it's not empty, append the df and go to the next page\n",
    "        players_df_list[page - 1] = players_sub_df\n",
    "        \n",
    "        # Every n entries, check\n",
    "        if page % n == 0:\n",
    "            print(\"Page %f\" % page)\n",
    "            \n",
    "            # Save sub-file\n",
    "            player_df = pd.concat(players_df_list, ignore_index=True)\n",
    "            player_df.to_csv('../data/players_' + league + '_' + division + '.csv', encoding='utf-8')\n",
    "            \n",
    "            # Make new array, reset i\n",
    "            players_df_list = np.array(np.empty(n), dtype=pd.DataFrame)\n",
    "            num_files += 1\n",
    "            break"
   ]
  },
  {
   "cell_type": "markdown",
   "metadata": {},
   "source": [
    "Big loop to obtain account IDs, then match histories.\n",
    "\n",
    "The match histories can be used to obtain matchIDs, for actual match data in a final request\n",
    "\n",
    "If there are 10000 players per division, then this should take ~7 hours."
   ]
  },
  {
   "cell_type": "code",
   "execution_count": 178,
   "metadata": {},
   "outputs": [],
   "source": [
    "def get_match_histories(league, division):\n",
    "    \n",
    "    # Set up data structures\n",
    "    players_df = pd.DataFrame()\n",
    "    match_list = []\n",
    "\n",
    "    # For each league / division, import, get match histories, concatenate\n",
    "    filename = '../data/players_' + league + '_' + division + '.csv'\n",
    "    players_df = pd.read_csv(filename, index_col=0).drop_duplicates(subset=['summonerId'])\n",
    "\n",
    "    # Get account ID, then match history\n",
    "    for summonerId in players_df.summonerId:\n",
    "        time.sleep(2.4)\n",
    "        \n",
    "        # Get account ID\n",
    "        acct_req = 'https://na1.api.riotgames.com/lol/summoner/v4/summoners/' + summonerId\n",
    "        account = requests.get(acct_req, params=params)\n",
    "        \n",
    "        if account.status_code != 200:\n",
    "            print(\"Account Request Error %d\" % account.status_code)\n",
    "            \n",
    "            if account.status_code == 503:\n",
    "                time.sleep(10)\n",
    "                continue\n",
    "            \n",
    "            else:\n",
    "                break\n",
    "        \n",
    "        # Get match history\n",
    "        match_history_req = 'https://na1.api.riotgames.com/lol/match/v4/matchlists/by-account/' + \\\n",
    "            account.json()['accountId'] + '?queue=420&beginIndex=0'\n",
    "        match_history = requests.get(match_history_req, params=params)\n",
    "        \n",
    "        if match_history.status_code != 200:\n",
    "            print(\"Match History Request Error %d\" % match_history.status_code)\n",
    "            \n",
    "            if match_history.status_code == 503:\n",
    "                time.sleep(10)\n",
    "                continue\n",
    "            \n",
    "            else:\n",
    "                break\n",
    "            \n",
    "        if 'matches' not in match_history.json().keys():\n",
    "            continue\n",
    "            \n",
    "        match_list.append(json_normalize(match_history.json()['matches']))\n",
    "    \n",
    "    # Concatenate and save file\n",
    "    match_filename = '../data/matchlist_' + league + '_' + division + '.csv'\n",
    "    match_list_df = pd.concat(match_list, ignore_index=True).drop_duplicates(subset=['gameId'])\n",
    "    match_list_df.to_csv(match_filename)\n",
    "    \n",
    "    # Output\n",
    "    print(\"%d matches\" % len(match_list_df))\n",
    "    print(\"Completed match history for \" + league + \" \" + division)"
   ]
  },
  {
   "cell_type": "code",
   "execution_count": 141,
   "metadata": {},
   "outputs": [
    {
     "data": {
      "text/plain": [
       "{u'accountId': u'3ekz5D9CXBReTkfcLF_4AJjd2FDDjjmtR09AivVCo2Mdq_GgWxcz6XBp',\n",
       " u'id': u'riwzZKHF5eBFDPQJ3K9SjFvmML5L-PXCweqr6CdAOnLlyegJ',\n",
       " u'name': u'Devil',\n",
       " u'profileIconId': 1453,\n",
       " u'puuid': u'T3QOBNhoKAGmqwHilMui_cwF9lNWkOpWoxFvcHHE8Y9BmRfSBibPp9dr1i3EhE3Xsr4Qv9_nfG0I6A',\n",
       " u'revisionDate': 1558241554000L,\n",
       " u'summonerLevel': 65}"
      ]
     },
     "execution_count": 141,
     "metadata": {},
     "output_type": "execute_result"
    }
   ],
   "source": [
    "account.json()"
   ]
  },
  {
   "cell_type": "code",
   "execution_count": 145,
   "metadata": {
    "scrolled": true
   },
   "outputs": [
    {
     "data": {
      "text/plain": [
       "0    QR20MkwwNnqbC8YJs43-sQVVruRh1__OoeEq_mbgjanASbID\n",
       "1    vuV1GcxAXz2y5z3tgbGwimzwsglHJX0K2qzaAofUtedhOVOy\n",
       "2    s1f9kEW7rO_s8UiP7CvRRkwYov721hrRMCmAw-13o_-fr1pu\n",
       "3    WfLVGWbbplJutYN426PHcXFRrRoelDY3WxJ6JN0OOlidG5N8\n",
       "4    riwzZKHF5eBFDPQJ3K9SjFvmML5L-PXCweqr6CdAOnLlyegJ\n",
       "Name: summonerId, dtype: object"
      ]
     },
     "execution_count": 145,
     "metadata": {},
     "output_type": "execute_result"
    }
   ],
   "source": [
    "players_df.summonerId.head()"
   ]
  },
  {
   "cell_type": "code",
   "execution_count": 177,
   "metadata": {},
   "outputs": [
    {
     "data": {
      "text/html": [
       "<div>\n",
       "<style scoped>\n",
       "    .dataframe tbody tr th:only-of-type {\n",
       "        vertical-align: middle;\n",
       "    }\n",
       "\n",
       "    .dataframe tbody tr th {\n",
       "        vertical-align: top;\n",
       "    }\n",
       "\n",
       "    .dataframe thead th {\n",
       "        text-align: right;\n",
       "    }\n",
       "</style>\n",
       "<table border=\"1\" class=\"dataframe\">\n",
       "  <thead>\n",
       "    <tr style=\"text-align: right;\">\n",
       "      <th></th>\n",
       "      <th>champion</th>\n",
       "      <th>gameId</th>\n",
       "      <th>lane</th>\n",
       "      <th>platformId</th>\n",
       "      <th>queue</th>\n",
       "      <th>role</th>\n",
       "      <th>season</th>\n",
       "      <th>timestamp</th>\n",
       "    </tr>\n",
       "  </thead>\n",
       "  <tbody>\n",
       "    <tr>\n",
       "      <th>0</th>\n",
       "      <td>61</td>\n",
       "      <td>3042627899</td>\n",
       "      <td>MID</td>\n",
       "      <td>NA1</td>\n",
       "      <td>420</td>\n",
       "      <td>SOLO</td>\n",
       "      <td>13</td>\n",
       "      <td>1557871660761</td>\n",
       "    </tr>\n",
       "    <tr>\n",
       "      <th>1</th>\n",
       "      <td>39</td>\n",
       "      <td>3042640476</td>\n",
       "      <td>MID</td>\n",
       "      <td>NA1</td>\n",
       "      <td>420</td>\n",
       "      <td>SOLO</td>\n",
       "      <td>13</td>\n",
       "      <td>1557869435152</td>\n",
       "    </tr>\n",
       "    <tr>\n",
       "      <th>2</th>\n",
       "      <td>7</td>\n",
       "      <td>3042593498</td>\n",
       "      <td>MID</td>\n",
       "      <td>NA1</td>\n",
       "      <td>420</td>\n",
       "      <td>SOLO</td>\n",
       "      <td>13</td>\n",
       "      <td>1557866982096</td>\n",
       "    </tr>\n",
       "    <tr>\n",
       "      <th>3</th>\n",
       "      <td>13</td>\n",
       "      <td>3042609850</td>\n",
       "      <td>NONE</td>\n",
       "      <td>NA1</td>\n",
       "      <td>420</td>\n",
       "      <td>DUO_SUPPORT</td>\n",
       "      <td>13</td>\n",
       "      <td>1557865783108</td>\n",
       "    </tr>\n",
       "    <tr>\n",
       "      <th>4</th>\n",
       "      <td>39</td>\n",
       "      <td>3040735766</td>\n",
       "      <td>MID</td>\n",
       "      <td>NA1</td>\n",
       "      <td>420</td>\n",
       "      <td>SOLO</td>\n",
       "      <td>13</td>\n",
       "      <td>1557678704696</td>\n",
       "    </tr>\n",
       "  </tbody>\n",
       "</table>\n",
       "</div>"
      ],
      "text/plain": [
       "   champion      gameId  lane platformId  queue         role  season  \\\n",
       "0        61  3042627899   MID        NA1    420         SOLO      13   \n",
       "1        39  3042640476   MID        NA1    420         SOLO      13   \n",
       "2         7  3042593498   MID        NA1    420         SOLO      13   \n",
       "3        13  3042609850  NONE        NA1    420  DUO_SUPPORT      13   \n",
       "4        39  3040735766   MID        NA1    420         SOLO      13   \n",
       "\n",
       "       timestamp  \n",
       "0  1557871660761  \n",
       "1  1557869435152  \n",
       "2  1557866982096  \n",
       "3  1557865783108  \n",
       "4  1557678704696  "
      ]
     },
     "execution_count": 177,
     "metadata": {},
     "output_type": "execute_result"
    }
   ],
   "source": [
    "match_list_df.head()"
   ]
  },
  {
   "cell_type": "code",
   "execution_count": 179,
   "metadata": {},
   "outputs": [
    {
     "data": {
      "text/plain": [
       "500"
      ]
     },
     "execution_count": 179,
     "metadata": {},
     "output_type": "execute_result"
    }
   ],
   "source": [
    "len(match_list_df)"
   ]
  },
  {
   "cell_type": "code",
   "execution_count": 180,
   "metadata": {},
   "outputs": [
    {
     "data": {
      "text/plain": [
       "500"
      ]
     },
     "execution_count": 180,
     "metadata": {},
     "output_type": "execute_result"
    }
   ],
   "source": [
    "len(match_list_df.drop_duplicates(subset=['gameId']))"
   ]
  },
  {
   "cell_type": "markdown",
   "metadata": {},
   "source": [
    "The first round of data acquisition had some 503 errors. That is 'Service Unavailable' and completely out of my control.\n",
    "\n",
    "The Gold I matches went smoothly until the API key expired, but I think 263k matches is enough, since I only want 1k from each division."
   ]
  },
  {
   "cell_type": "code",
   "execution_count": 149,
   "metadata": {
    "scrolled": false
   },
   "outputs": [
    {
     "name": "stdout",
     "output_type": "stream",
     "text": [
      "Match History Request Error 503\n",
      "Completed match history for GOLD IV\n",
      "Wall time: 11min\n"
     ]
    }
   ],
   "source": [
    "%%time\n",
    "get_match_histories(leagues[0], divisions[0])\n",
    "#get_match_histories(leagues[0], divisions[1])\n",
    "#get_match_histories(leagues[0], divisions[2])"
   ]
  },
  {
   "cell_type": "code",
   "execution_count": 153,
   "metadata": {},
   "outputs": [
    {
     "name": "stdout",
     "output_type": "stream",
     "text": [
      "Match History Request Error 429\n",
      "Completed match history for GOLD III\n"
     ]
    }
   ],
   "source": [
    "get_match_histories(leagues[0], divisions[1])"
   ]
  },
  {
   "cell_type": "code",
   "execution_count": 160,
   "metadata": {},
   "outputs": [
    {
     "name": "stdout",
     "output_type": "stream",
     "text": [
      "Match History Request Error 503\n",
      "34504 matches\n",
      "Completed match history for GOLD II\n",
      "Match History Request Error 403\n",
      "263201 matches\n",
      "Completed match history for GOLD I\n"
     ]
    }
   ],
   "source": [
    "get_match_histories(leagues[0], divisions[2])\n",
    "get_match_histories(leagues[0], divisions[3])"
   ]
  },
  {
   "cell_type": "markdown",
   "metadata": {},
   "source": [
    "I'll keep the Gold I matches as they are but rerun Gold II, III, and IV match history collection."
   ]
  },
  {
   "cell_type": "code",
   "execution_count": 169,
   "metadata": {},
   "outputs": [
    {
     "name": "stdout",
     "output_type": "stream",
     "text": [
      "Match History Request Error 503\n",
      "Match History Request Error 503\n",
      "Match History Request Error 503\n",
      "Match History Request Error 504\n",
      "803839 matches\n",
      "Completed match history for GOLD IV\n",
      "Wall time: 7h 9min 10s\n"
     ]
    }
   ],
   "source": [
    "%%time\n",
    "get_match_histories(leagues[0], divisions[0])"
   ]
  },
  {
   "cell_type": "code",
   "execution_count": 166,
   "metadata": {},
   "outputs": [
    {
     "name": "stdout",
     "output_type": "stream",
     "text": [
      "Match History Request Error 503\n",
      "699840 matches\n",
      "Completed match history for GOLD III\n",
      "Wall time: 5h 37min 21s\n"
     ]
    }
   ],
   "source": [
    "%%time\n",
    "get_match_histories(leagues[0], divisions[1])"
   ]
  },
  {
   "cell_type": "code",
   "execution_count": 167,
   "metadata": {},
   "outputs": [
    {
     "name": "stdout",
     "output_type": "stream",
     "text": [
      "Match History Request Error 503\n",
      "319759 matches\n",
      "Completed match history for GOLD II\n",
      "Wall time: 2h 53min 14s\n"
     ]
    }
   ],
   "source": [
    "%%time\n",
    "get_match_histories(leagues[0], divisions[2])"
   ]
  },
  {
   "cell_type": "markdown",
   "metadata": {},
   "source": [
    "Platinum Match Histories"
   ]
  },
  {
   "cell_type": "code",
   "execution_count": 170,
   "metadata": {},
   "outputs": [
    {
     "name": "stdout",
     "output_type": "stream",
     "text": [
      "Match History Request Error 503\n",
      "Account Request Error 500\n",
      "311029 matches\n",
      "Completed match history for PLATINUM IV\n",
      "Wall time: 2h 33min 31s\n"
     ]
    }
   ],
   "source": [
    "%%time\n",
    "get_match_histories(leagues[1], divisions[0])"
   ]
  },
  {
   "cell_type": "code",
   "execution_count": 171,
   "metadata": {},
   "outputs": [
    {
     "name": "stdout",
     "output_type": "stream",
     "text": [
      "Match History Request Error 503\n",
      "Match History Request Error 503\n",
      "Match History Request Error 403\n",
      "469265 matches\n",
      "Completed match history for PLATINUM III\n",
      "Wall time: 3h 41min 39s\n"
     ]
    }
   ],
   "source": [
    "%%time\n",
    "get_match_histories(leagues[1], divisions[1])"
   ]
  },
  {
   "cell_type": "code",
   "execution_count": 174,
   "metadata": {},
   "outputs": [
    {
     "name": "stdout",
     "output_type": "stream",
     "text": [
      "Match History Request Error 503\n",
      "Match History Request Error 503\n",
      "Match History Request Error 429\n",
      "397366 matches\n",
      "Completed match history for PLATINUM II\n",
      "Wall time: 3h 12min 30s\n"
     ]
    }
   ],
   "source": [
    "%%time\n",
    "get_match_histories(leagues[1], divisions[2])"
   ]
  },
  {
   "cell_type": "code",
   "execution_count": 175,
   "metadata": {},
   "outputs": [
    {
     "name": "stdout",
     "output_type": "stream",
     "text": [
      "Match History Request Error 503\n",
      "Match History Request Error 503\n",
      "Match History Request Error 503\n",
      "Match History Request Error 503\n",
      "Match History Request Error 500\n",
      "125655 matches\n",
      "Completed match history for PLATINUM I\n",
      "Wall time: 1h 2min 29s\n"
     ]
    }
   ],
   "source": [
    "%%time\n",
    "get_match_histories(leagues[1], divisions[3])"
   ]
  },
  {
   "cell_type": "markdown",
   "metadata": {},
   "source": [
    "Diamond Match Histories\n",
    "\n",
    "I was having a problem where leagues[2] divisions[1] was hitting a 429 (Forbidden) error around 11 or 12 minutes in. This error usually means my API key is expired, but I know it is not here. I'm wondering if there is an account I'm not allowed to look at, and this is causing the error.\n",
    "\n",
    "Waiting for the API key to expire and getting a new one helped. The 429 error popped up much later for Diamond III, and not at all for other divisions."
   ]
  },
  {
   "cell_type": "code",
   "execution_count": 181,
   "metadata": {},
   "outputs": [
    {
     "name": "stdout",
     "output_type": "stream",
     "text": [
      "Match History Request Error 503\n",
      "Match History Request Error 503\n",
      "Match History Request Error 503\n",
      "Match History Request Error 503\n",
      "Match History Request Error 503\n",
      "Match History Request Error 503\n",
      "Match History Request Error 503\n",
      "Match History Request Error 504\n",
      "688216 matches\n",
      "Completed match history for DIAMOND IV\n",
      "Wall time: 7h 48min 42s\n"
     ]
    }
   ],
   "source": [
    "%%time\n",
    "get_match_histories(leagues[2], divisions[0])"
   ]
  },
  {
   "cell_type": "code",
   "execution_count": 192,
   "metadata": {},
   "outputs": [
    {
     "name": "stdout",
     "output_type": "stream",
     "text": [
      "Match History Request Error 503\n",
      "Match History Request Error 503\n",
      "Match History Request Error 503\n",
      "Match History Request Error 503\n",
      "Match History Request Error 503\n",
      "Match History Request Error 429\n",
      "333816 matches\n",
      "Completed match history for DIAMOND III\n",
      "Wall time: 4h 4min 54s\n"
     ]
    }
   ],
   "source": [
    "%%time\n",
    "get_match_histories(leagues[2], divisions[1])"
   ]
  },
  {
   "cell_type": "code",
   "execution_count": 193,
   "metadata": {},
   "outputs": [
    {
     "name": "stdout",
     "output_type": "stream",
     "text": [
      "Match History Request Error 500\n",
      "139534 matches\n",
      "Completed match history for DIAMOND II\n",
      "Wall time: 1h 32min 40s\n"
     ]
    }
   ],
   "source": [
    "%%time\n",
    "get_match_histories(leagues[2], divisions[2])"
   ]
  },
  {
   "cell_type": "code",
   "execution_count": 184,
   "metadata": {},
   "outputs": [
    {
     "name": "stdout",
     "output_type": "stream",
     "text": [
      "Match History Request Error 503\n",
      "Match History Request Error 429\n",
      "93045 matches\n",
      "Completed match history for DIAMOND I\n",
      "Wall time: 1h 6min 35s\n"
     ]
    }
   ],
   "source": [
    "%%time\n",
    "get_match_histories(leagues[2], divisions[3])"
   ]
  },
  {
   "cell_type": "markdown",
   "metadata": {},
   "source": [
    "### Select 1000 matches from the Available Data\n",
    "\n",
    "Repeat this for each league and division\n",
    "\n",
    "Only take matches that lasted at least 10 minutes. I can't check that here. Collect 1200 from each division, filter on time in the last request."
   ]
  },
  {
   "cell_type": "code",
   "execution_count": 294,
   "metadata": {},
   "outputs": [
    {
     "data": {
      "text/html": [
       "<div>\n",
       "<style scoped>\n",
       "    .dataframe tbody tr th:only-of-type {\n",
       "        vertical-align: middle;\n",
       "    }\n",
       "\n",
       "    .dataframe tbody tr th {\n",
       "        vertical-align: top;\n",
       "    }\n",
       "\n",
       "    .dataframe thead th {\n",
       "        text-align: right;\n",
       "    }\n",
       "</style>\n",
       "<table border=\"1\" class=\"dataframe\">\n",
       "  <thead>\n",
       "    <tr style=\"text-align: right;\">\n",
       "      <th></th>\n",
       "      <th>champion</th>\n",
       "      <th>gameId</th>\n",
       "      <th>lane</th>\n",
       "      <th>platformId</th>\n",
       "      <th>queue</th>\n",
       "      <th>role</th>\n",
       "      <th>season</th>\n",
       "      <th>timestamp</th>\n",
       "    </tr>\n",
       "  </thead>\n",
       "  <tbody>\n",
       "    <tr>\n",
       "      <th>0</th>\n",
       "      <td>142</td>\n",
       "      <td>3046796305</td>\n",
       "      <td>MID</td>\n",
       "      <td>NA1</td>\n",
       "      <td>420</td>\n",
       "      <td>SOLO</td>\n",
       "      <td>13</td>\n",
       "      <td>1558322465062</td>\n",
       "    </tr>\n",
       "    <tr>\n",
       "      <th>1</th>\n",
       "      <td>25</td>\n",
       "      <td>3046775526</td>\n",
       "      <td>MID</td>\n",
       "      <td>NA1</td>\n",
       "      <td>420</td>\n",
       "      <td>SOLO</td>\n",
       "      <td>13</td>\n",
       "      <td>1558320478569</td>\n",
       "    </tr>\n",
       "    <tr>\n",
       "      <th>2</th>\n",
       "      <td>164</td>\n",
       "      <td>3046745800</td>\n",
       "      <td>TOP</td>\n",
       "      <td>NA1</td>\n",
       "      <td>420</td>\n",
       "      <td>SOLO</td>\n",
       "      <td>13</td>\n",
       "      <td>1558318166083</td>\n",
       "    </tr>\n",
       "    <tr>\n",
       "      <th>3</th>\n",
       "      <td>142</td>\n",
       "      <td>3046529920</td>\n",
       "      <td>MID</td>\n",
       "      <td>NA1</td>\n",
       "      <td>420</td>\n",
       "      <td>SOLO</td>\n",
       "      <td>13</td>\n",
       "      <td>1558299044778</td>\n",
       "    </tr>\n",
       "    <tr>\n",
       "      <th>4</th>\n",
       "      <td>99</td>\n",
       "      <td>3046495669</td>\n",
       "      <td>NONE</td>\n",
       "      <td>NA1</td>\n",
       "      <td>420</td>\n",
       "      <td>DUO</td>\n",
       "      <td>13</td>\n",
       "      <td>1558297544206</td>\n",
       "    </tr>\n",
       "  </tbody>\n",
       "</table>\n",
       "</div>"
      ],
      "text/plain": [
       "   champion      gameId  lane platformId  queue  role  season      timestamp\n",
       "0       142  3046796305   MID        NA1    420  SOLO      13  1558322465062\n",
       "1        25  3046775526   MID        NA1    420  SOLO      13  1558320478569\n",
       "2       164  3046745800   TOP        NA1    420  SOLO      13  1558318166083\n",
       "3       142  3046529920   MID        NA1    420  SOLO      13  1558299044778\n",
       "4        99  3046495669  NONE        NA1    420   DUO      13  1558297544206"
      ]
     },
     "execution_count": 294,
     "metadata": {},
     "output_type": "execute_result"
    }
   ],
   "source": [
    "match_history_df.head()"
   ]
  },
  {
   "cell_type": "code",
   "execution_count": 306,
   "metadata": {},
   "outputs": [],
   "source": [
    "def get_match_samples(league, division):\n",
    "    filepath = '../data/matchlist_' + league + '_' + division + '.csv'\n",
    "    match_history_df = pd.read_csv(filepath, index_col=0).drop_duplicates(subset=['gameId'])\n",
    "    match_sample_df = match_history_df.sample(n=1200, random_state=6)\n",
    "    match_sample_df.to_csv('../data/matches_sample_' + league + '_' + division + '.csv')\n",
    "    print(\"Samples obtained for %s %s\" % (league, division))"
   ]
  },
  {
   "cell_type": "code",
   "execution_count": 307,
   "metadata": {},
   "outputs": [
    {
     "name": "stdout",
     "output_type": "stream",
     "text": [
      "Samples obtained for GOLD IV\n",
      "Samples obtained for GOLD III\n",
      "Samples obtained for GOLD II\n",
      "Samples obtained for GOLD I\n",
      "Samples obtained for PLATINUM IV\n",
      "Samples obtained for PLATINUM III\n",
      "Samples obtained for PLATINUM II\n",
      "Samples obtained for PLATINUM I\n",
      "Samples obtained for DIAMOND IV\n",
      "Samples obtained for DIAMOND III\n",
      "Samples obtained for DIAMOND II\n",
      "Samples obtained for DIAMOND I\n",
      "Wall time: 4.95 s\n"
     ]
    }
   ],
   "source": [
    "%%time\n",
    "for league, division in leagues_and_divisions:\n",
    "    get_match_samples(league, division)"
   ]
  },
  {
   "cell_type": "markdown",
   "metadata": {},
   "source": [
    "### To get matches themselves\n",
    "\n",
    "Filter on match length to make sure all the games last at least 10 minutes."
   ]
  },
  {
   "cell_type": "code",
   "execution_count": 310,
   "metadata": {},
   "outputs": [],
   "source": [
    "match_data_request = 'https://na1.api.riotgames.com/lol/match/v4/matches/'"
   ]
  },
  {
   "cell_type": "code",
   "execution_count": 311,
   "metadata": {},
   "outputs": [],
   "source": [
    "def get_matches(league, division):\n",
    "    \n",
    "    input_filepath = '../data/matches_sample_' + league + '_' + division + '.csv'\n",
    "    output_filepath = '../data/matches_' + league + '_' + division + '.csv'\n",
    "    match_sample_df = pd.read_csv(input_filepath, index_col=0)\n",
    "    \n",
    "    match_data_list = []\n",
    "    \n",
    "    for game_id in match_sample_df.gameId:\n",
    "        \n",
    "        time.sleep(1.2)\n",
    "        \n",
    "        match_data = requests.get(match_data_request + str(game_id), params=params)\n",
    "        \n",
    "        # If the request didn't work properly, move on\n",
    "        if 'participants' not in match_data.json().keys():\n",
    "            continue\n",
    "        \n",
    "        # Ignore games that are under 10 minutes\n",
    "        if match_data.json()['gameDuration'] < 600:\n",
    "            continue\n",
    "        \n",
    "        match_data_df = json_normalize(match_data.json()['participants']).sort_values('participantId')\n",
    "        match_data_list.append(match_data_df)\n",
    "        \n",
    "    matches_df = pd.concat(match_data_list, axis='index', ignore_index=True, sort=False)\n",
    "    matches_df.to_csv(output_filepath)\n",
    "    print('%d Matches Collected for %s %s' % (len(matches_df)/10, league, division))"
   ]
  },
  {
   "cell_type": "code",
   "execution_count": 312,
   "metadata": {
    "scrolled": false
   },
   "outputs": [
    {
     "name": "stdout",
     "output_type": "stream",
     "text": [
      "1165 Matches Collected for GOLD IV\n",
      "1167 Matches Collected for GOLD III\n",
      "1154 Matches Collected for GOLD II\n",
      "1165 Matches Collected for GOLD I\n",
      "1173 Matches Collected for PLATINUM IV\n",
      "1177 Matches Collected for PLATINUM III\n",
      "1175 Matches Collected for PLATINUM II\n",
      "1135 Matches Collected for PLATINUM I\n",
      "1173 Matches Collected for DIAMOND IV\n",
      "1174 Matches Collected for DIAMOND III\n",
      "1178 Matches Collected for DIAMOND II\n",
      "1180 Matches Collected for DIAMOND I\n",
      "Wall time: 5h 44min 11s\n"
     ]
    }
   ],
   "source": [
    "%%time\n",
    "for league, division in leagues_and_divisions:\n",
    "    get_matches(league, division)"
   ]
  },
  {
   "cell_type": "markdown",
   "metadata": {},
   "source": [
    "This project has 11,856 matches across 12 ranked divisions.\n",
    "\n",
    "Though I have a couple million match IDs, if I wanted to expand it."
   ]
  },
  {
   "cell_type": "markdown",
   "metadata": {},
   "source": [
    "### Make Sure Data is Clean"
   ]
  },
  {
   "cell_type": "code",
   "execution_count": 313,
   "metadata": {},
   "outputs": [],
   "source": [
    "def check_column_number(league, division):\n",
    "    \n",
    "    filepath = '../data/matches_' + league + '_' + division + '.csv'\n",
    "    match_df = pd.read_csv(filepath, index_col=0)\n",
    "    \n",
    "    print('%s %s df has %d columns.' % (league, division, len(match_df.columns)))"
   ]
  },
  {
   "cell_type": "code",
   "execution_count": 314,
   "metadata": {},
   "outputs": [
    {
     "name": "stdout",
     "output_type": "stream",
     "text": [
      "GOLD IV df has 143 columns.\n",
      "GOLD III df has 143 columns.\n"
     ]
    },
    {
     "name": "stderr",
     "output_type": "stream",
     "text": [
      "C:\\Users\\sebia\\Miniconda2\\lib\\site-packages\\IPython\\core\\interactiveshell.py:2818: DtypeWarning: Columns (18,19) have mixed types. Specify dtype option on import or set low_memory=False.\n",
      "  if self.run_code(code, result):\n"
     ]
    },
    {
     "name": "stdout",
     "output_type": "stream",
     "text": [
      "GOLD II df has 143 columns.\n",
      "GOLD I df has 143 columns.\n"
     ]
    },
    {
     "name": "stderr",
     "output_type": "stream",
     "text": [
      "C:\\Users\\sebia\\Miniconda2\\lib\\site-packages\\IPython\\core\\interactiveshell.py:2818: DtypeWarning: Columns (18,19,142,143) have mixed types. Specify dtype option on import or set low_memory=False.\n",
      "  if self.run_code(code, result):\n"
     ]
    },
    {
     "name": "stdout",
     "output_type": "stream",
     "text": [
      "PLATINUM IV df has 143 columns.\n",
      "PLATINUM III df has 143 columns.\n",
      "PLATINUM II df has 143 columns.\n",
      "PLATINUM I df has 143 columns.\n",
      "DIAMOND IV df has 143 columns.\n",
      "DIAMOND III df has 143 columns.\n",
      "DIAMOND II df has 141 columns.\n",
      "DIAMOND I df has 143 columns.\n"
     ]
    },
    {
     "name": "stderr",
     "output_type": "stream",
     "text": [
      "C:\\Users\\sebia\\Miniconda2\\lib\\site-packages\\IPython\\core\\interactiveshell.py:2818: DtypeWarning: Columns (142,143) have mixed types. Specify dtype option on import or set low_memory=False.\n",
      "  if self.run_code(code, result):\n"
     ]
    }
   ],
   "source": [
    "for league, division in leagues_and_divisions:\n",
    "    check_column_number(league, division)"
   ]
  },
  {
   "cell_type": "markdown",
   "metadata": {},
   "source": [
    "Diamond 2, why you gotta be like that?\n",
    "\n",
    "The columns missing are masteries and runes, which I don't need right now.\n",
    "\n",
    "### Delete Them\n",
    "\n",
    "at some point"
   ]
  },
  {
   "cell_type": "code",
   "execution_count": 2,
   "metadata": {},
   "outputs": [],
   "source": [
    "def remove_columns(league, division, columns):\n",
    "    input_filepath = '../data/matches_' + league + '_' + division + '.csv'\n",
    "    output_filepath =  '../data/matches_' + league + '_' + division + '.csv'\n",
    "    \n",
    "    df = pd.read_csv(input_filepath, index_col=0)\n",
    "    df = df.drop(columns=columns)\n",
    "    df.to_csv(output_filepath)\n",
    "    \n",
    "    print(\"Columns removed for %s %s\" % (league, division))"
   ]
  },
  {
   "cell_type": "code",
   "execution_count": 5,
   "metadata": {
    "scrolled": true
   },
   "outputs": [
    {
     "name": "stdout",
     "output_type": "stream",
     "text": [
      "Columns removed for GOLD IV\n",
      "Columns removed for GOLD III\n"
     ]
    },
    {
     "name": "stderr",
     "output_type": "stream",
     "text": [
      "C:\\Users\\sebia\\Miniconda2\\lib\\site-packages\\IPython\\core\\interactiveshell.py:2818: DtypeWarning: Columns (18,19) have mixed types. Specify dtype option on import or set low_memory=False.\n",
      "  if self.run_code(code, result):\n"
     ]
    },
    {
     "name": "stdout",
     "output_type": "stream",
     "text": [
      "Columns removed for GOLD II\n",
      "Columns removed for GOLD I\n"
     ]
    },
    {
     "name": "stderr",
     "output_type": "stream",
     "text": [
      "C:\\Users\\sebia\\Miniconda2\\lib\\site-packages\\IPython\\core\\interactiveshell.py:2818: DtypeWarning: Columns (18,19,142,143) have mixed types. Specify dtype option on import or set low_memory=False.\n",
      "  if self.run_code(code, result):\n"
     ]
    },
    {
     "name": "stdout",
     "output_type": "stream",
     "text": [
      "Columns removed for PLATINUM IV\n",
      "Columns removed for PLATINUM III\n",
      "Columns removed for PLATINUM II\n",
      "Columns removed for PLATINUM I\n",
      "Columns removed for DIAMOND IV\n",
      "Columns removed for DIAMOND III\n"
     ]
    },
    {
     "ename": "KeyError",
     "evalue": "\"['masteries' 'runes'] not found in axis\"",
     "output_type": "error",
     "traceback": [
      "\u001b[1;31m---------------------------------------------------------------------------\u001b[0m",
      "\u001b[1;31mKeyError\u001b[0m                                  Traceback (most recent call last)",
      "\u001b[1;32m<ipython-input-5-3d85c3eee126>\u001b[0m in \u001b[0;36m<module>\u001b[1;34m()\u001b[0m\n\u001b[0;32m      1\u001b[0m \u001b[1;32mfor\u001b[0m \u001b[0mleague\u001b[0m\u001b[1;33m,\u001b[0m \u001b[0mdivision\u001b[0m \u001b[1;32min\u001b[0m \u001b[0mleagues_and_divisions\u001b[0m\u001b[1;33m:\u001b[0m\u001b[1;33m\u001b[0m\u001b[0m\n\u001b[1;32m----> 2\u001b[1;33m     \u001b[0mremove_columns\u001b[0m\u001b[1;33m(\u001b[0m\u001b[0mleague\u001b[0m\u001b[1;33m,\u001b[0m \u001b[0mdivision\u001b[0m\u001b[1;33m,\u001b[0m \u001b[1;33m[\u001b[0m\u001b[1;34m'masteries'\u001b[0m\u001b[1;33m,\u001b[0m \u001b[1;34m'runes'\u001b[0m\u001b[1;33m]\u001b[0m\u001b[1;33m)\u001b[0m\u001b[1;33m\u001b[0m\u001b[0m\n\u001b[0m",
      "\u001b[1;32m<ipython-input-2-e307d6d1eed2>\u001b[0m in \u001b[0;36mremove_columns\u001b[1;34m(league, division, columns)\u001b[0m\n\u001b[0;32m      4\u001b[0m \u001b[1;33m\u001b[0m\u001b[0m\n\u001b[0;32m      5\u001b[0m     \u001b[0mdf\u001b[0m \u001b[1;33m=\u001b[0m \u001b[0mpd\u001b[0m\u001b[1;33m.\u001b[0m\u001b[0mread_csv\u001b[0m\u001b[1;33m(\u001b[0m\u001b[0minput_filepath\u001b[0m\u001b[1;33m,\u001b[0m \u001b[0mindex_col\u001b[0m\u001b[1;33m=\u001b[0m\u001b[1;36m0\u001b[0m\u001b[1;33m)\u001b[0m\u001b[1;33m\u001b[0m\u001b[0m\n\u001b[1;32m----> 6\u001b[1;33m     \u001b[0mdf\u001b[0m \u001b[1;33m=\u001b[0m \u001b[0mdf\u001b[0m\u001b[1;33m.\u001b[0m\u001b[0mdrop\u001b[0m\u001b[1;33m(\u001b[0m\u001b[0mcolumns\u001b[0m\u001b[1;33m=\u001b[0m\u001b[0mcolumns\u001b[0m\u001b[1;33m)\u001b[0m\u001b[1;33m\u001b[0m\u001b[0m\n\u001b[0m\u001b[0;32m      7\u001b[0m     \u001b[0mdf\u001b[0m\u001b[1;33m.\u001b[0m\u001b[0mto_csv\u001b[0m\u001b[1;33m(\u001b[0m\u001b[0moutput_filepath\u001b[0m\u001b[1;33m)\u001b[0m\u001b[1;33m\u001b[0m\u001b[0m\n\u001b[0;32m      8\u001b[0m \u001b[1;33m\u001b[0m\u001b[0m\n",
      "\u001b[1;32mC:\\Users\\sebia\\Miniconda2\\lib\\site-packages\\pandas\\core\\frame.pyc\u001b[0m in \u001b[0;36mdrop\u001b[1;34m(self, labels, axis, index, columns, level, inplace, errors)\u001b[0m\n\u001b[0;32m   3695\u001b[0m                                            \u001b[0mindex\u001b[0m\u001b[1;33m=\u001b[0m\u001b[0mindex\u001b[0m\u001b[1;33m,\u001b[0m \u001b[0mcolumns\u001b[0m\u001b[1;33m=\u001b[0m\u001b[0mcolumns\u001b[0m\u001b[1;33m,\u001b[0m\u001b[1;33m\u001b[0m\u001b[0m\n\u001b[0;32m   3696\u001b[0m                                            \u001b[0mlevel\u001b[0m\u001b[1;33m=\u001b[0m\u001b[0mlevel\u001b[0m\u001b[1;33m,\u001b[0m \u001b[0minplace\u001b[0m\u001b[1;33m=\u001b[0m\u001b[0minplace\u001b[0m\u001b[1;33m,\u001b[0m\u001b[1;33m\u001b[0m\u001b[0m\n\u001b[1;32m-> 3697\u001b[1;33m                                            errors=errors)\n\u001b[0m\u001b[0;32m   3698\u001b[0m \u001b[1;33m\u001b[0m\u001b[0m\n\u001b[0;32m   3699\u001b[0m     @rewrite_axis_style_signature('mapper', [('copy', True),\n",
      "\u001b[1;32mC:\\Users\\sebia\\Miniconda2\\lib\\site-packages\\pandas\\core\\generic.pyc\u001b[0m in \u001b[0;36mdrop\u001b[1;34m(self, labels, axis, index, columns, level, inplace, errors)\u001b[0m\n\u001b[0;32m   3109\u001b[0m         \u001b[1;32mfor\u001b[0m \u001b[0maxis\u001b[0m\u001b[1;33m,\u001b[0m \u001b[0mlabels\u001b[0m \u001b[1;32min\u001b[0m \u001b[0maxes\u001b[0m\u001b[1;33m.\u001b[0m\u001b[0mitems\u001b[0m\u001b[1;33m(\u001b[0m\u001b[1;33m)\u001b[0m\u001b[1;33m:\u001b[0m\u001b[1;33m\u001b[0m\u001b[0m\n\u001b[0;32m   3110\u001b[0m             \u001b[1;32mif\u001b[0m \u001b[0mlabels\u001b[0m \u001b[1;32mis\u001b[0m \u001b[1;32mnot\u001b[0m \u001b[0mNone\u001b[0m\u001b[1;33m:\u001b[0m\u001b[1;33m\u001b[0m\u001b[0m\n\u001b[1;32m-> 3111\u001b[1;33m                 \u001b[0mobj\u001b[0m \u001b[1;33m=\u001b[0m \u001b[0mobj\u001b[0m\u001b[1;33m.\u001b[0m\u001b[0m_drop_axis\u001b[0m\u001b[1;33m(\u001b[0m\u001b[0mlabels\u001b[0m\u001b[1;33m,\u001b[0m \u001b[0maxis\u001b[0m\u001b[1;33m,\u001b[0m \u001b[0mlevel\u001b[0m\u001b[1;33m=\u001b[0m\u001b[0mlevel\u001b[0m\u001b[1;33m,\u001b[0m \u001b[0merrors\u001b[0m\u001b[1;33m=\u001b[0m\u001b[0merrors\u001b[0m\u001b[1;33m)\u001b[0m\u001b[1;33m\u001b[0m\u001b[0m\n\u001b[0m\u001b[0;32m   3112\u001b[0m \u001b[1;33m\u001b[0m\u001b[0m\n\u001b[0;32m   3113\u001b[0m         \u001b[1;32mif\u001b[0m \u001b[0minplace\u001b[0m\u001b[1;33m:\u001b[0m\u001b[1;33m\u001b[0m\u001b[0m\n",
      "\u001b[1;32mC:\\Users\\sebia\\Miniconda2\\lib\\site-packages\\pandas\\core\\generic.pyc\u001b[0m in \u001b[0;36m_drop_axis\u001b[1;34m(self, labels, axis, level, errors)\u001b[0m\n\u001b[0;32m   3141\u001b[0m                 \u001b[0mnew_axis\u001b[0m \u001b[1;33m=\u001b[0m \u001b[0maxis\u001b[0m\u001b[1;33m.\u001b[0m\u001b[0mdrop\u001b[0m\u001b[1;33m(\u001b[0m\u001b[0mlabels\u001b[0m\u001b[1;33m,\u001b[0m \u001b[0mlevel\u001b[0m\u001b[1;33m=\u001b[0m\u001b[0mlevel\u001b[0m\u001b[1;33m,\u001b[0m \u001b[0merrors\u001b[0m\u001b[1;33m=\u001b[0m\u001b[0merrors\u001b[0m\u001b[1;33m)\u001b[0m\u001b[1;33m\u001b[0m\u001b[0m\n\u001b[0;32m   3142\u001b[0m             \u001b[1;32melse\u001b[0m\u001b[1;33m:\u001b[0m\u001b[1;33m\u001b[0m\u001b[0m\n\u001b[1;32m-> 3143\u001b[1;33m                 \u001b[0mnew_axis\u001b[0m \u001b[1;33m=\u001b[0m \u001b[0maxis\u001b[0m\u001b[1;33m.\u001b[0m\u001b[0mdrop\u001b[0m\u001b[1;33m(\u001b[0m\u001b[0mlabels\u001b[0m\u001b[1;33m,\u001b[0m \u001b[0merrors\u001b[0m\u001b[1;33m=\u001b[0m\u001b[0merrors\u001b[0m\u001b[1;33m)\u001b[0m\u001b[1;33m\u001b[0m\u001b[0m\n\u001b[0m\u001b[0;32m   3144\u001b[0m             \u001b[0mresult\u001b[0m \u001b[1;33m=\u001b[0m \u001b[0mself\u001b[0m\u001b[1;33m.\u001b[0m\u001b[0mreindex\u001b[0m\u001b[1;33m(\u001b[0m\u001b[1;33m**\u001b[0m\u001b[1;33m{\u001b[0m\u001b[0maxis_name\u001b[0m\u001b[1;33m:\u001b[0m \u001b[0mnew_axis\u001b[0m\u001b[1;33m}\u001b[0m\u001b[1;33m)\u001b[0m\u001b[1;33m\u001b[0m\u001b[0m\n\u001b[0;32m   3145\u001b[0m \u001b[1;33m\u001b[0m\u001b[0m\n",
      "\u001b[1;32mC:\\Users\\sebia\\Miniconda2\\lib\\site-packages\\pandas\\core\\indexes\\base.pyc\u001b[0m in \u001b[0;36mdrop\u001b[1;34m(self, labels, errors)\u001b[0m\n\u001b[0;32m   4402\u001b[0m             \u001b[1;32mif\u001b[0m \u001b[0merrors\u001b[0m \u001b[1;33m!=\u001b[0m \u001b[1;34m'ignore'\u001b[0m\u001b[1;33m:\u001b[0m\u001b[1;33m\u001b[0m\u001b[0m\n\u001b[0;32m   4403\u001b[0m                 raise KeyError(\n\u001b[1;32m-> 4404\u001b[1;33m                     '{} not found in axis'.format(labels[mask]))\n\u001b[0m\u001b[0;32m   4405\u001b[0m             \u001b[0mindexer\u001b[0m \u001b[1;33m=\u001b[0m \u001b[0mindexer\u001b[0m\u001b[1;33m[\u001b[0m\u001b[1;33m~\u001b[0m\u001b[0mmask\u001b[0m\u001b[1;33m]\u001b[0m\u001b[1;33m\u001b[0m\u001b[0m\n\u001b[0;32m   4406\u001b[0m         \u001b[1;32mreturn\u001b[0m \u001b[0mself\u001b[0m\u001b[1;33m.\u001b[0m\u001b[0mdelete\u001b[0m\u001b[1;33m(\u001b[0m\u001b[0mindexer\u001b[0m\u001b[1;33m)\u001b[0m\u001b[1;33m\u001b[0m\u001b[0m\n",
      "\u001b[1;31mKeyError\u001b[0m: \"['masteries' 'runes'] not found in axis\""
     ]
    }
   ],
   "source": [
    "for league, division in leagues_and_divisions:\n",
    "    remove_columns(league, division, ['masteries', 'runes'])"
   ]
  },
  {
   "cell_type": "code",
   "execution_count": 7,
   "metadata": {},
   "outputs": [
    {
     "name": "stderr",
     "output_type": "stream",
     "text": [
      "C:\\Users\\sebia\\Miniconda2\\lib\\site-packages\\IPython\\core\\interactiveshell.py:2824: DtypeWarning: Columns (142,143) have mixed types. Specify dtype option on import or set low_memory=False.\n",
      "  if self.run_code(code, result):\n"
     ]
    },
    {
     "name": "stdout",
     "output_type": "stream",
     "text": [
      "Columns removed for DIAMOND I\n"
     ]
    }
   ],
   "source": [
    "remove_columns(leagues[2], divisions[3], ['masteries', 'runes'])"
   ]
  },
  {
   "cell_type": "markdown",
   "metadata": {},
   "source": [
    "### Finish Data Cleaning Checks"
   ]
  },
  {
   "cell_type": "code",
   "execution_count": 315,
   "metadata": {},
   "outputs": [
    {
     "name": "stderr",
     "output_type": "stream",
     "text": [
      "C:\\Users\\sebia\\Miniconda2\\lib\\site-packages\\IPython\\core\\interactiveshell.py:2714: DtypeWarning: Columns (142,143) have mixed types. Specify dtype option on import or set low_memory=False.\n",
      "  interactivity=interactivity, compiler=compiler, result=result)\n"
     ]
    },
    {
     "data": {
      "text/plain": [
       "{'masteries', 'runes'}"
      ]
     },
     "execution_count": 315,
     "metadata": {},
     "output_type": "execute_result"
    }
   ],
   "source": [
    "diamond_1 = pd.read_csv('../data/matches_DIAMOND_I.csv', index_col=0)\n",
    "diamond_2 = pd.read_csv('../data/matches_DIAMOND_II.csv', index_col=0)\n",
    "set(diamond_1.columns).difference(diamond_2.columns)"
   ]
  },
  {
   "cell_type": "code",
   "execution_count": 10,
   "metadata": {},
   "outputs": [],
   "source": [
    "def check_match_data_quality(league, division):\n",
    "    \n",
    "    filepath = '../data/matches_' + league + '_' + division + '.csv'\n",
    "    match_df = pd.read_csv(filepath, index_col=0)\n",
    "    \n",
    "    # Checks\n",
    "    assert type(match_df.index) == pd.core.indexes.numeric.Int64Index\n",
    "    assert len(match_df.columns) == 141\n",
    "    \n",
    "    # Done\n",
    "    print('%s %s looks good!' % (league, division))"
   ]
  },
  {
   "cell_type": "code",
   "execution_count": 11,
   "metadata": {},
   "outputs": [
    {
     "name": "stdout",
     "output_type": "stream",
     "text": [
      "GOLD IV looks good!\n",
      "GOLD III looks good!\n",
      "GOLD II looks good!\n",
      "GOLD I looks good!\n",
      "PLATINUM IV looks good!\n",
      "PLATINUM III looks good!\n",
      "PLATINUM II looks good!\n",
      "PLATINUM I looks good!\n",
      "DIAMOND IV looks good!\n",
      "DIAMOND III looks good!\n",
      "DIAMOND II looks good!\n",
      "DIAMOND I looks good!\n"
     ]
    }
   ],
   "source": [
    "for league, division in leagues_and_divisions:\n",
    "    check_match_data_quality(league, division)"
   ]
  },
  {
   "cell_type": "markdown",
   "metadata": {},
   "source": [
    "Several of the boolean columns are listed as type 'object' because they have NaN values. However, NaN values make sense in many cases. For example, there is a column for getting an assist on First Blood. If First Blood happens, then these will be true or false. But if First Blood doesn't happen, then this it is inaccurate to say that you 'didn't' help with first blood, because first blood didn't happen. Thus, NaN.\n",
    "\n",
    "However, I am realizing that I need to filter for matches that take at least 10-15 minutes. This may fix some other things."
   ]
  },
  {
   "cell_type": "code",
   "execution_count": 281,
   "metadata": {},
   "outputs": [
    {
     "name": "stderr",
     "output_type": "stream",
     "text": [
      "C:\\Users\\sebia\\Miniconda2\\lib\\site-packages\\IPython\\core\\interactiveshell.py:2714: DtypeWarning: Columns (14,15) have mixed types. Specify dtype option on import or set low_memory=False.\n",
      "  interactivity=interactivity, compiler=compiler, result=result)\n"
     ]
    },
    {
     "data": {
      "text/html": [
       "<div>\n",
       "<style scoped>\n",
       "    .dataframe tbody tr th:only-of-type {\n",
       "        vertical-align: middle;\n",
       "    }\n",
       "\n",
       "    .dataframe tbody tr th {\n",
       "        vertical-align: top;\n",
       "    }\n",
       "\n",
       "    .dataframe thead th {\n",
       "        text-align: right;\n",
       "    }\n",
       "</style>\n",
       "<table border=\"1\" class=\"dataframe\">\n",
       "  <thead>\n",
       "    <tr style=\"text-align: right;\">\n",
       "      <th></th>\n",
       "      <th>championId</th>\n",
       "      <th>highestAchievedSeasonTier</th>\n",
       "      <th>participantId</th>\n",
       "      <th>spell1Id</th>\n",
       "      <th>spell2Id</th>\n",
       "      <th>stats.assists</th>\n",
       "      <th>stats.champLevel</th>\n",
       "      <th>stats.combatPlayerScore</th>\n",
       "      <th>stats.damageDealtToObjectives</th>\n",
       "      <th>stats.damageDealtToTurrets</th>\n",
       "      <th>...</th>\n",
       "      <th>timeline.xpDiffPerMinDeltas.30-end</th>\n",
       "      <th>timeline.xpPerMinDeltas.0-10</th>\n",
       "      <th>timeline.xpPerMinDeltas.10-20</th>\n",
       "      <th>timeline.xpPerMinDeltas.20-30</th>\n",
       "      <th>timeline.xpPerMinDeltas.30-end</th>\n",
       "      <th>stats.statPerk0</th>\n",
       "      <th>stats.statPerk1</th>\n",
       "      <th>stats.statPerk2</th>\n",
       "      <th>masteries</th>\n",
       "      <th>runes</th>\n",
       "    </tr>\n",
       "  </thead>\n",
       "  <tbody>\n",
       "    <tr>\n",
       "      <th>0</th>\n",
       "      <td>54</td>\n",
       "      <td>GOLD</td>\n",
       "      <td>1</td>\n",
       "      <td>12</td>\n",
       "      <td>4</td>\n",
       "      <td>10</td>\n",
       "      <td>17</td>\n",
       "      <td>0</td>\n",
       "      <td>1759</td>\n",
       "      <td>133</td>\n",
       "      <td>...</td>\n",
       "      <td>-25.4</td>\n",
       "      <td>359.3</td>\n",
       "      <td>548.2</td>\n",
       "      <td>476.1</td>\n",
       "      <td>566.8</td>\n",
       "      <td>NaN</td>\n",
       "      <td>NaN</td>\n",
       "      <td>NaN</td>\n",
       "      <td>NaN</td>\n",
       "      <td>NaN</td>\n",
       "    </tr>\n",
       "    <tr>\n",
       "      <th>1</th>\n",
       "      <td>104</td>\n",
       "      <td>PLATINUM</td>\n",
       "      <td>2</td>\n",
       "      <td>4</td>\n",
       "      <td>11</td>\n",
       "      <td>13</td>\n",
       "      <td>17</td>\n",
       "      <td>0</td>\n",
       "      <td>33578</td>\n",
       "      <td>3332</td>\n",
       "      <td>...</td>\n",
       "      <td>176.2</td>\n",
       "      <td>341.4</td>\n",
       "      <td>494.4</td>\n",
       "      <td>561.0</td>\n",
       "      <td>562.4</td>\n",
       "      <td>NaN</td>\n",
       "      <td>NaN</td>\n",
       "      <td>NaN</td>\n",
       "      <td>NaN</td>\n",
       "      <td>NaN</td>\n",
       "    </tr>\n",
       "    <tr>\n",
       "      <th>2</th>\n",
       "      <td>16</td>\n",
       "      <td>DIAMOND</td>\n",
       "      <td>3</td>\n",
       "      <td>21</td>\n",
       "      <td>4</td>\n",
       "      <td>19</td>\n",
       "      <td>14</td>\n",
       "      <td>0</td>\n",
       "      <td>1589</td>\n",
       "      <td>645</td>\n",
       "      <td>...</td>\n",
       "      <td>136.9</td>\n",
       "      <td>292.6</td>\n",
       "      <td>287.5</td>\n",
       "      <td>309.0</td>\n",
       "      <td>573.8</td>\n",
       "      <td>NaN</td>\n",
       "      <td>NaN</td>\n",
       "      <td>NaN</td>\n",
       "      <td>NaN</td>\n",
       "      <td>NaN</td>\n",
       "    </tr>\n",
       "    <tr>\n",
       "      <th>3</th>\n",
       "      <td>21</td>\n",
       "      <td>GOLD</td>\n",
       "      <td>4</td>\n",
       "      <td>7</td>\n",
       "      <td>4</td>\n",
       "      <td>9</td>\n",
       "      <td>17</td>\n",
       "      <td>0</td>\n",
       "      <td>21074</td>\n",
       "      <td>7529</td>\n",
       "      <td>...</td>\n",
       "      <td>136.9</td>\n",
       "      <td>314.1</td>\n",
       "      <td>389.4</td>\n",
       "      <td>543.1</td>\n",
       "      <td>664.0</td>\n",
       "      <td>NaN</td>\n",
       "      <td>NaN</td>\n",
       "      <td>NaN</td>\n",
       "      <td>NaN</td>\n",
       "      <td>NaN</td>\n",
       "    </tr>\n",
       "    <tr>\n",
       "      <th>4</th>\n",
       "      <td>90</td>\n",
       "      <td>PLATINUM</td>\n",
       "      <td>5</td>\n",
       "      <td>4</td>\n",
       "      <td>12</td>\n",
       "      <td>14</td>\n",
       "      <td>17</td>\n",
       "      <td>0</td>\n",
       "      <td>6767</td>\n",
       "      <td>2380</td>\n",
       "      <td>...</td>\n",
       "      <td>143.0</td>\n",
       "      <td>434.3</td>\n",
       "      <td>489.6</td>\n",
       "      <td>489.2</td>\n",
       "      <td>594.2</td>\n",
       "      <td>NaN</td>\n",
       "      <td>NaN</td>\n",
       "      <td>NaN</td>\n",
       "      <td>NaN</td>\n",
       "      <td>NaN</td>\n",
       "    </tr>\n",
       "  </tbody>\n",
       "</table>\n",
       "<p>5 rows × 143 columns</p>\n",
       "</div>"
      ],
      "text/plain": [
       "   championId highestAchievedSeasonTier  participantId  spell1Id  spell2Id  \\\n",
       "0          54                      GOLD              1        12         4   \n",
       "1         104                  PLATINUM              2         4        11   \n",
       "2          16                   DIAMOND              3        21         4   \n",
       "3          21                      GOLD              4         7         4   \n",
       "4          90                  PLATINUM              5         4        12   \n",
       "\n",
       "   stats.assists  stats.champLevel  stats.combatPlayerScore  \\\n",
       "0             10                17                        0   \n",
       "1             13                17                        0   \n",
       "2             19                14                        0   \n",
       "3              9                17                        0   \n",
       "4             14                17                        0   \n",
       "\n",
       "   stats.damageDealtToObjectives  stats.damageDealtToTurrets  ...    \\\n",
       "0                           1759                         133  ...     \n",
       "1                          33578                        3332  ...     \n",
       "2                           1589                         645  ...     \n",
       "3                          21074                        7529  ...     \n",
       "4                           6767                        2380  ...     \n",
       "\n",
       "   timeline.xpDiffPerMinDeltas.30-end  timeline.xpPerMinDeltas.0-10  \\\n",
       "0                               -25.4                         359.3   \n",
       "1                               176.2                         341.4   \n",
       "2                               136.9                         292.6   \n",
       "3                               136.9                         314.1   \n",
       "4                               143.0                         434.3   \n",
       "\n",
       "   timeline.xpPerMinDeltas.10-20 timeline.xpPerMinDeltas.20-30  \\\n",
       "0                          548.2                         476.1   \n",
       "1                          494.4                         561.0   \n",
       "2                          287.5                         309.0   \n",
       "3                          389.4                         543.1   \n",
       "4                          489.6                         489.2   \n",
       "\n",
       "  timeline.xpPerMinDeltas.30-end stats.statPerk0 stats.statPerk1  \\\n",
       "0                          566.8             NaN             NaN   \n",
       "1                          562.4             NaN             NaN   \n",
       "2                          573.8             NaN             NaN   \n",
       "3                          664.0             NaN             NaN   \n",
       "4                          594.2             NaN             NaN   \n",
       "\n",
       "  stats.statPerk2 masteries  runes  \n",
       "0             NaN       NaN    NaN  \n",
       "1             NaN       NaN    NaN  \n",
       "2             NaN       NaN    NaN  \n",
       "3             NaN       NaN    NaN  \n",
       "4             NaN       NaN    NaN  \n",
       "\n",
       "[5 rows x 143 columns]"
      ]
     },
     "execution_count": 281,
     "metadata": {},
     "output_type": "execute_result"
    }
   ],
   "source": [
    "matches_df = pd.read_csv('../data/matches_GOLD_I.csv', index_col=0)\n",
    "matches_df.head()"
   ]
  },
  {
   "cell_type": "code",
   "execution_count": 282,
   "metadata": {},
   "outputs": [
    {
     "data": {
      "text/html": [
       "<div>\n",
       "<style scoped>\n",
       "    .dataframe tbody tr th:only-of-type {\n",
       "        vertical-align: middle;\n",
       "    }\n",
       "\n",
       "    .dataframe tbody tr th {\n",
       "        vertical-align: top;\n",
       "    }\n",
       "\n",
       "    .dataframe thead th {\n",
       "        text-align: right;\n",
       "    }\n",
       "</style>\n",
       "<table border=\"1\" class=\"dataframe\">\n",
       "  <thead>\n",
       "    <tr style=\"text-align: right;\">\n",
       "      <th></th>\n",
       "      <th>stats.firstBloodKill</th>\n",
       "      <th>stats.firstInhibitorAssist</th>\n",
       "    </tr>\n",
       "  </thead>\n",
       "  <tbody>\n",
       "    <tr>\n",
       "      <th>0</th>\n",
       "      <td>True</td>\n",
       "      <td>True</td>\n",
       "    </tr>\n",
       "    <tr>\n",
       "      <th>1</th>\n",
       "      <td>False</td>\n",
       "      <td>False</td>\n",
       "    </tr>\n",
       "    <tr>\n",
       "      <th>2</th>\n",
       "      <td>False</td>\n",
       "      <td>True</td>\n",
       "    </tr>\n",
       "    <tr>\n",
       "      <th>3</th>\n",
       "      <td>False</td>\n",
       "      <td>False</td>\n",
       "    </tr>\n",
       "    <tr>\n",
       "      <th>4</th>\n",
       "      <td>False</td>\n",
       "      <td>False</td>\n",
       "    </tr>\n",
       "  </tbody>\n",
       "</table>\n",
       "</div>"
      ],
      "text/plain": [
       "  stats.firstBloodKill stats.firstInhibitorAssist\n",
       "0                 True                       True\n",
       "1                False                      False\n",
       "2                False                       True\n",
       "3                False                      False\n",
       "4                False                      False"
      ]
     },
     "execution_count": 282,
     "metadata": {},
     "output_type": "execute_result"
    }
   ],
   "source": [
    "matches_df.iloc[:,14:16].head()"
   ]
  },
  {
   "cell_type": "code",
   "execution_count": 283,
   "metadata": {
    "scrolled": true
   },
   "outputs": [
    {
     "data": {
      "text/html": [
       "<div>\n",
       "<style scoped>\n",
       "    .dataframe tbody tr th:only-of-type {\n",
       "        vertical-align: middle;\n",
       "    }\n",
       "\n",
       "    .dataframe tbody tr th {\n",
       "        vertical-align: top;\n",
       "    }\n",
       "\n",
       "    .dataframe thead th {\n",
       "        text-align: right;\n",
       "    }\n",
       "</style>\n",
       "<table border=\"1\" class=\"dataframe\">\n",
       "  <thead>\n",
       "    <tr style=\"text-align: right;\">\n",
       "      <th></th>\n",
       "      <th>championId</th>\n",
       "      <th>participantId</th>\n",
       "      <th>spell1Id</th>\n",
       "      <th>spell2Id</th>\n",
       "      <th>stats.assists</th>\n",
       "      <th>stats.champLevel</th>\n",
       "      <th>stats.combatPlayerScore</th>\n",
       "      <th>stats.damageDealtToObjectives</th>\n",
       "      <th>stats.damageDealtToTurrets</th>\n",
       "      <th>stats.damageSelfMitigated</th>\n",
       "      <th>...</th>\n",
       "      <th>timeline.xpDiffPerMinDeltas.10-20</th>\n",
       "      <th>timeline.xpDiffPerMinDeltas.20-30</th>\n",
       "      <th>timeline.xpDiffPerMinDeltas.30-end</th>\n",
       "      <th>timeline.xpPerMinDeltas.0-10</th>\n",
       "      <th>timeline.xpPerMinDeltas.10-20</th>\n",
       "      <th>timeline.xpPerMinDeltas.20-30</th>\n",
       "      <th>timeline.xpPerMinDeltas.30-end</th>\n",
       "      <th>stats.statPerk0</th>\n",
       "      <th>stats.statPerk1</th>\n",
       "      <th>stats.statPerk2</th>\n",
       "    </tr>\n",
       "  </thead>\n",
       "  <tbody>\n",
       "    <tr>\n",
       "      <th>count</th>\n",
       "      <td>9810.000000</td>\n",
       "      <td>9810.000000</td>\n",
       "      <td>9810.000000</td>\n",
       "      <td>9810.000000</td>\n",
       "      <td>9810.000000</td>\n",
       "      <td>9810.000000</td>\n",
       "      <td>9810.0</td>\n",
       "      <td>9810.000000</td>\n",
       "      <td>9810.000000</td>\n",
       "      <td>9.810000e+03</td>\n",
       "      <td>...</td>\n",
       "      <td>7.144000e+03</td>\n",
       "      <td>3.206000e+03</td>\n",
       "      <td>1.198000e+03</td>\n",
       "      <td>9680.000000</td>\n",
       "      <td>9020.000000</td>\n",
       "      <td>3960.000000</td>\n",
       "      <td>1440.00000</td>\n",
       "      <td>8560.000000</td>\n",
       "      <td>8560.000000</td>\n",
       "      <td>8560.000000</td>\n",
       "    </tr>\n",
       "    <tr>\n",
       "      <th>mean</th>\n",
       "      <td>117.497350</td>\n",
       "      <td>5.500000</td>\n",
       "      <td>7.760449</td>\n",
       "      <td>7.572477</td>\n",
       "      <td>7.749847</td>\n",
       "      <td>13.781142</td>\n",
       "      <td>0.0</td>\n",
       "      <td>8629.141692</td>\n",
       "      <td>2927.535780</td>\n",
       "      <td>1.540663e+04</td>\n",
       "      <td>...</td>\n",
       "      <td>-1.432225e-16</td>\n",
       "      <td>2.216291e-16</td>\n",
       "      <td>-8.066261e-16</td>\n",
       "      <td>353.562025</td>\n",
       "      <td>451.207494</td>\n",
       "      <td>503.039899</td>\n",
       "      <td>539.60750</td>\n",
       "      <td>5006.641939</td>\n",
       "      <td>5006.943341</td>\n",
       "      <td>5001.744977</td>\n",
       "    </tr>\n",
       "    <tr>\n",
       "      <th>std</th>\n",
       "      <td>119.580816</td>\n",
       "      <td>2.872428</td>\n",
       "      <td>4.443332</td>\n",
       "      <td>4.426550</td>\n",
       "      <td>5.419238</td>\n",
       "      <td>2.716553</td>\n",
       "      <td>0.0</td>\n",
       "      <td>9261.886909</td>\n",
       "      <td>3081.858623</td>\n",
       "      <td>2.590573e+04</td>\n",
       "      <td>...</td>\n",
       "      <td>1.283471e+02</td>\n",
       "      <td>1.663371e+02</td>\n",
       "      <td>2.694680e+02</td>\n",
       "      <td>78.654608</td>\n",
       "      <td>102.899345</td>\n",
       "      <td>120.313196</td>\n",
       "      <td>179.04323</td>\n",
       "      <td>1.400330</td>\n",
       "      <td>2.244218</td>\n",
       "      <td>0.707172</td>\n",
       "    </tr>\n",
       "    <tr>\n",
       "      <th>min</th>\n",
       "      <td>1.000000</td>\n",
       "      <td>1.000000</td>\n",
       "      <td>1.000000</td>\n",
       "      <td>1.000000</td>\n",
       "      <td>0.000000</td>\n",
       "      <td>1.000000</td>\n",
       "      <td>0.0</td>\n",
       "      <td>0.000000</td>\n",
       "      <td>0.000000</td>\n",
       "      <td>0.000000e+00</td>\n",
       "      <td>...</td>\n",
       "      <td>-8.017000e+02</td>\n",
       "      <td>-5.739000e+02</td>\n",
       "      <td>-9.558000e+02</td>\n",
       "      <td>0.000000</td>\n",
       "      <td>0.000000</td>\n",
       "      <td>0.000000</td>\n",
       "      <td>0.00000</td>\n",
       "      <td>5005.000000</td>\n",
       "      <td>5002.000000</td>\n",
       "      <td>5001.000000</td>\n",
       "    </tr>\n",
       "    <tr>\n",
       "      <th>25%</th>\n",
       "      <td>37.000000</td>\n",
       "      <td>3.000000</td>\n",
       "      <td>4.000000</td>\n",
       "      <td>4.000000</td>\n",
       "      <td>4.000000</td>\n",
       "      <td>12.000000</td>\n",
       "      <td>0.0</td>\n",
       "      <td>2066.250000</td>\n",
       "      <td>573.000000</td>\n",
       "      <td>6.867250e+03</td>\n",
       "      <td>...</td>\n",
       "      <td>-8.142500e+01</td>\n",
       "      <td>-1.089750e+02</td>\n",
       "      <td>-2.037750e+02</td>\n",
       "      <td>290.875000</td>\n",
       "      <td>381.775000</td>\n",
       "      <td>421.275000</td>\n",
       "      <td>410.95000</td>\n",
       "      <td>5005.000000</td>\n",
       "      <td>5008.000000</td>\n",
       "      <td>5001.000000</td>\n",
       "    </tr>\n",
       "    <tr>\n",
       "      <th>50%</th>\n",
       "      <td>83.000000</td>\n",
       "      <td>5.500000</td>\n",
       "      <td>4.000000</td>\n",
       "      <td>4.000000</td>\n",
       "      <td>7.000000</td>\n",
       "      <td>14.000000</td>\n",
       "      <td>0.0</td>\n",
       "      <td>5480.500000</td>\n",
       "      <td>2034.500000</td>\n",
       "      <td>1.148800e+04</td>\n",
       "      <td>...</td>\n",
       "      <td>0.000000e+00</td>\n",
       "      <td>0.000000e+00</td>\n",
       "      <td>0.000000e+00</td>\n",
       "      <td>341.600000</td>\n",
       "      <td>449.300000</td>\n",
       "      <td>498.400000</td>\n",
       "      <td>524.25000</td>\n",
       "      <td>5007.000000</td>\n",
       "      <td>5008.000000</td>\n",
       "      <td>5002.000000</td>\n",
       "    </tr>\n",
       "    <tr>\n",
       "      <th>75%</th>\n",
       "      <td>143.000000</td>\n",
       "      <td>8.000000</td>\n",
       "      <td>12.000000</td>\n",
       "      <td>12.000000</td>\n",
       "      <td>11.000000</td>\n",
       "      <td>16.000000</td>\n",
       "      <td>0.0</td>\n",
       "      <td>12209.750000</td>\n",
       "      <td>4356.750000</td>\n",
       "      <td>1.928050e+04</td>\n",
       "      <td>...</td>\n",
       "      <td>8.142500e+01</td>\n",
       "      <td>1.089750e+02</td>\n",
       "      <td>2.037750e+02</td>\n",
       "      <td>419.525000</td>\n",
       "      <td>519.100000</td>\n",
       "      <td>578.550000</td>\n",
       "      <td>654.70000</td>\n",
       "      <td>5008.000000</td>\n",
       "      <td>5008.000000</td>\n",
       "      <td>5002.000000</td>\n",
       "    </tr>\n",
       "    <tr>\n",
       "      <th>max</th>\n",
       "      <td>555.000000</td>\n",
       "      <td>10.000000</td>\n",
       "      <td>21.000000</td>\n",
       "      <td>21.000000</td>\n",
       "      <td>41.000000</td>\n",
       "      <td>18.000000</td>\n",
       "      <td>0.0</td>\n",
       "      <td>95297.000000</td>\n",
       "      <td>40649.000000</td>\n",
       "      <td>2.250337e+06</td>\n",
       "      <td>...</td>\n",
       "      <td>8.017000e+02</td>\n",
       "      <td>5.739000e+02</td>\n",
       "      <td>9.558000e+02</td>\n",
       "      <td>595.200000</td>\n",
       "      <td>910.100000</td>\n",
       "      <td>1053.300000</td>\n",
       "      <td>1157.60000</td>\n",
       "      <td>5008.000000</td>\n",
       "      <td>5008.000000</td>\n",
       "      <td>5003.000000</td>\n",
       "    </tr>\n",
       "  </tbody>\n",
       "</table>\n",
       "<p>8 rows × 131 columns</p>\n",
       "</div>"
      ],
      "text/plain": [
       "        championId  participantId     spell1Id     spell2Id  stats.assists  \\\n",
       "count  9810.000000    9810.000000  9810.000000  9810.000000    9810.000000   \n",
       "mean    117.497350       5.500000     7.760449     7.572477       7.749847   \n",
       "std     119.580816       2.872428     4.443332     4.426550       5.419238   \n",
       "min       1.000000       1.000000     1.000000     1.000000       0.000000   \n",
       "25%      37.000000       3.000000     4.000000     4.000000       4.000000   \n",
       "50%      83.000000       5.500000     4.000000     4.000000       7.000000   \n",
       "75%     143.000000       8.000000    12.000000    12.000000      11.000000   \n",
       "max     555.000000      10.000000    21.000000    21.000000      41.000000   \n",
       "\n",
       "       stats.champLevel  stats.combatPlayerScore  \\\n",
       "count       9810.000000                   9810.0   \n",
       "mean          13.781142                      0.0   \n",
       "std            2.716553                      0.0   \n",
       "min            1.000000                      0.0   \n",
       "25%           12.000000                      0.0   \n",
       "50%           14.000000                      0.0   \n",
       "75%           16.000000                      0.0   \n",
       "max           18.000000                      0.0   \n",
       "\n",
       "       stats.damageDealtToObjectives  stats.damageDealtToTurrets  \\\n",
       "count                    9810.000000                 9810.000000   \n",
       "mean                     8629.141692                 2927.535780   \n",
       "std                      9261.886909                 3081.858623   \n",
       "min                         0.000000                    0.000000   \n",
       "25%                      2066.250000                  573.000000   \n",
       "50%                      5480.500000                 2034.500000   \n",
       "75%                     12209.750000                 4356.750000   \n",
       "max                     95297.000000                40649.000000   \n",
       "\n",
       "       stats.damageSelfMitigated       ...         \\\n",
       "count               9.810000e+03       ...          \n",
       "mean                1.540663e+04       ...          \n",
       "std                 2.590573e+04       ...          \n",
       "min                 0.000000e+00       ...          \n",
       "25%                 6.867250e+03       ...          \n",
       "50%                 1.148800e+04       ...          \n",
       "75%                 1.928050e+04       ...          \n",
       "max                 2.250337e+06       ...          \n",
       "\n",
       "       timeline.xpDiffPerMinDeltas.10-20  timeline.xpDiffPerMinDeltas.20-30  \\\n",
       "count                       7.144000e+03                       3.206000e+03   \n",
       "mean                       -1.432225e-16                       2.216291e-16   \n",
       "std                         1.283471e+02                       1.663371e+02   \n",
       "min                        -8.017000e+02                      -5.739000e+02   \n",
       "25%                        -8.142500e+01                      -1.089750e+02   \n",
       "50%                         0.000000e+00                       0.000000e+00   \n",
       "75%                         8.142500e+01                       1.089750e+02   \n",
       "max                         8.017000e+02                       5.739000e+02   \n",
       "\n",
       "       timeline.xpDiffPerMinDeltas.30-end  timeline.xpPerMinDeltas.0-10  \\\n",
       "count                        1.198000e+03                   9680.000000   \n",
       "mean                        -8.066261e-16                    353.562025   \n",
       "std                          2.694680e+02                     78.654608   \n",
       "min                         -9.558000e+02                      0.000000   \n",
       "25%                         -2.037750e+02                    290.875000   \n",
       "50%                          0.000000e+00                    341.600000   \n",
       "75%                          2.037750e+02                    419.525000   \n",
       "max                          9.558000e+02                    595.200000   \n",
       "\n",
       "       timeline.xpPerMinDeltas.10-20  timeline.xpPerMinDeltas.20-30  \\\n",
       "count                    9020.000000                    3960.000000   \n",
       "mean                      451.207494                     503.039899   \n",
       "std                       102.899345                     120.313196   \n",
       "min                         0.000000                       0.000000   \n",
       "25%                       381.775000                     421.275000   \n",
       "50%                       449.300000                     498.400000   \n",
       "75%                       519.100000                     578.550000   \n",
       "max                       910.100000                    1053.300000   \n",
       "\n",
       "       timeline.xpPerMinDeltas.30-end  stats.statPerk0  stats.statPerk1  \\\n",
       "count                      1440.00000      8560.000000      8560.000000   \n",
       "mean                        539.60750      5006.641939      5006.943341   \n",
       "std                         179.04323         1.400330         2.244218   \n",
       "min                           0.00000      5005.000000      5002.000000   \n",
       "25%                         410.95000      5005.000000      5008.000000   \n",
       "50%                         524.25000      5007.000000      5008.000000   \n",
       "75%                         654.70000      5008.000000      5008.000000   \n",
       "max                        1157.60000      5008.000000      5008.000000   \n",
       "\n",
       "       stats.statPerk2  \n",
       "count      8560.000000  \n",
       "mean       5001.744977  \n",
       "std           0.707172  \n",
       "min        5001.000000  \n",
       "25%        5001.000000  \n",
       "50%        5002.000000  \n",
       "75%        5002.000000  \n",
       "max        5003.000000  \n",
       "\n",
       "[8 rows x 131 columns]"
      ]
     },
     "execution_count": 283,
     "metadata": {},
     "output_type": "execute_result"
    }
   ],
   "source": [
    "matches_df.describe()"
   ]
  },
  {
   "cell_type": "code",
   "execution_count": 284,
   "metadata": {},
   "outputs": [
    {
     "name": "stdout",
     "output_type": "stream",
     "text": [
      "<class 'pandas.core.frame.DataFrame'>\n",
      "Int64Index: 9810 entries, 0 to 9809\n",
      "Columns: 143 entries, championId to runes\n",
      "dtypes: bool(1), float64(57), int64(74), object(11)\n",
      "memory usage: 10.7+ MB\n"
     ]
    }
   ],
   "source": [
    "matches_df.info()"
   ]
  },
  {
   "cell_type": "code",
   "execution_count": 285,
   "metadata": {},
   "outputs": [
    {
     "data": {
      "text/plain": [
       "pandas.core.indexes.numeric.Int64Index"
      ]
     },
     "execution_count": 285,
     "metadata": {},
     "output_type": "execute_result"
    }
   ],
   "source": [
    "type(matches_df.index)"
   ]
  },
  {
   "cell_type": "code",
   "execution_count": 286,
   "metadata": {},
   "outputs": [
    {
     "data": {
      "text/plain": [
       "143"
      ]
     },
     "execution_count": 286,
     "metadata": {},
     "output_type": "execute_result"
    }
   ],
   "source": [
    "len(matches_df.columns)"
   ]
  },
  {
   "cell_type": "code",
   "execution_count": null,
   "metadata": {
    "collapsed": true
   },
   "outputs": [],
   "source": []
  }
 ],
 "metadata": {
  "kernelspec": {
   "display_name": "Python 2",
   "language": "python",
   "name": "python2"
  },
  "language_info": {
   "codemirror_mode": {
    "name": "ipython",
    "version": 2
   },
   "file_extension": ".py",
   "mimetype": "text/x-python",
   "name": "python",
   "nbconvert_exporter": "python",
   "pygments_lexer": "ipython2",
   "version": "2.7.15"
  }
 },
 "nbformat": 4,
 "nbformat_minor": 1
}
