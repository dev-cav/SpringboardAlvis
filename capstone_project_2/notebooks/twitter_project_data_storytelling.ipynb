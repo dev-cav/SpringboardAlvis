{
 "cells": [
  {
   "cell_type": "markdown",
   "metadata": {},
   "source": [
    "# Capstone Project 2: Twitter Public Opinion Network Analysis for Bungie\n",
    "\n",
    "This project's goal is to collect and analyze the available Twitter data for Bungie and their main game, Destiny 2.\n",
    "\n",
    "The data are tweets about Bungie and Destiny 2 and the timelines (tweets made by) the Bungie and Destiny 2 official accounts.\n",
    "\n",
    "This notebook is the data storytelling for the project. I'm going to visualize the numerical parts of the data, like retweet and favorite counts, as well as the follower counts of users in my dataset."
   ]
  },
  {
   "cell_type": "code",
   "execution_count": 127,
   "metadata": {
    "scrolled": true
   },
   "outputs": [
    {
     "name": "stdout",
     "output_type": "stream",
     "text": [
      "2019-03-19T15:00:11\n",
      "\n",
      "CPython 2.7.15\n",
      "IPython 5.8.0\n",
      "\n",
      "compiler   : MSC v.1500 64 bit (AMD64)\n",
      "system     : Windows\n",
      "release    : 10\n",
      "machine    : AMD64\n",
      "processor  : Intel64 Family 6 Model 158 Stepping 9, GenuineIntel\n",
      "CPU cores  : 4\n",
      "interpreter: 64bit\n"
     ]
    }
   ],
   "source": [
    "import pandas as pd\n",
    "import numpy as np\n",
    "import matplotlib.pyplot as plt\n",
    "import math\n",
    "from datetime import datetime\n",
    "import seaborn as sns\n",
    "sns.set()\n",
    "\n",
    "%load_ext watermark\n",
    "%watermark"
   ]
  },
  {
   "cell_type": "code",
   "execution_count": 2,
   "metadata": {},
   "outputs": [],
   "source": [
    "# These are the datetime columns\n",
    "# Pandas can convert them all as-is\n",
    "datetime_cols = ['created_at', 'quoted_status.created_at', 'retweeted_status.created_at']"
   ]
  },
  {
   "cell_type": "code",
   "execution_count": 3,
   "metadata": {},
   "outputs": [],
   "source": [
    "destiny_2_tweet_min_df = pd.read_csv(\"../data/destiny_2_tweets_min.csv\",\n",
    "                                     encoding='utf-8', index_col=0, parse_dates=datetime_cols)\n",
    "bungie_tweet_min_df = pd.read_csv(\"../data/bungie_tweets_min.csv\",\n",
    "                                  encoding='utf-8', index_col=0, parse_dates=datetime_cols)\n",
    "bungie_timeline_min_df = pd.read_csv(\"../data/bungie_timeline_min.csv\",\n",
    "                                     encoding='utf-8', index_col=0, parse_dates=datetime_cols)\n",
    "destiny_2_timeline_min_df = pd.read_csv(\"../data/destiny_2_timeline_min.csv\",\n",
    "                                        encoding='utf-8', index_col=0, parse_dates=datetime_cols)"
   ]
  },
  {
   "cell_type": "markdown",
   "metadata": {},
   "source": [
    "### What should I visualize?\n",
    "\n",
    "Let's see what columns look good. All dataframes have the same columns.\n",
    "\n",
    "We should look at created_at, retweet_count, and favorite_count. We can then average the latter two over small periods of time, and then show the averages as functions of tweet creation time.\n",
    "\n",
    "We can also look at the same parameters for retweeted and quoted tweets."
   ]
  },
  {
   "cell_type": "code",
   "execution_count": 4,
   "metadata": {},
   "outputs": [
    {
     "data": {
      "text/plain": [
       "Index([u'id', u'created_at', u'text', u'user.id', u'user.name',\n",
       "       u'user.screen_name', u'user.followers_count', u'user.friends_count',\n",
       "       u'user.statuses_count', u'user.verified', u'favorite_count',\n",
       "       u'retweet_count', u'retweeted', u'in_reply_to_screen_name',\n",
       "       u'in_reply_to_status_id', u'in_reply_to_user_id', u'is_quote_status',\n",
       "       u'quoted_status.id', u'quoted_status.created_at', u'quoted_status.text',\n",
       "       u'quoted_status.user.id', u'quoted_status.user.followers_count',\n",
       "       u'quoted_status.user.friends_count',\n",
       "       u'quoted_status.user.statuses_count', u'quoted_status.user.verified',\n",
       "       u'quoted_status.favorite_count', u'quoted_status.retweet_count',\n",
       "       u'quoted_status.retweeted', u'quoted_status.in_reply_to_screen_name',\n",
       "       u'quoted_status.in_reply_to_status_id',\n",
       "       u'quoted_status.in_reply_to_user_id', u'quoted_status_id',\n",
       "       u'quoted_status.user.following', u'quoted_status.is_quote_status',\n",
       "       u'retweeted_status.id', u'retweeted_status.created_at',\n",
       "       u'retweeted_status.user.id', u'retweeted_status.user.followers_count',\n",
       "       u'retweeted_status.user.friends_count',\n",
       "       u'retweeted_status.user.statuses_count',\n",
       "       u'retweeted_status.user.verified', u'retweeted_status.favorite_count',\n",
       "       u'retweeted_status.retweet_count', u'retweeted_status.retweeted',\n",
       "       u'retweeted_status.in_reply_to_screen_name',\n",
       "       u'retweeted_status.in_reply_to_status_id',\n",
       "       u'retweeted_status.in_reply_to_user_id',\n",
       "       u'retweeted_status.user.following', u'retweeted_status.is_quote_status',\n",
       "       u'retweeted_status.favorited'],\n",
       "      dtype='object')"
      ]
     },
     "execution_count": 4,
     "metadata": {},
     "output_type": "execute_result"
    }
   ],
   "source": [
    "destiny_2_tweet_min_df.columns"
   ]
  },
  {
   "cell_type": "markdown",
   "metadata": {},
   "source": [
    "Name the dataframes so that I can distinguish them more easily if I plot data from all of them together."
   ]
  },
  {
   "cell_type": "code",
   "execution_count": 34,
   "metadata": {},
   "outputs": [],
   "source": [
    "destiny_2_tweet_min_df.name = 'Destiny 2 Tweets'\n",
    "bungie_tweet_min_df.name = 'Bungie Tweets'\n",
    "bungie_timeline_min_df.name = 'Bungie Timeline'\n",
    "destiny_2_timeline_min_df.name = 'Destiny 2 Timeline'"
   ]
  },
  {
   "cell_type": "markdown",
   "metadata": {},
   "source": [
    "#### Distribution of retweet counts"
   ]
  },
  {
   "cell_type": "code",
   "execution_count": 26,
   "metadata": {},
   "outputs": [],
   "source": [
    "def plot_log_hist(df, col):\n",
    "    _ = df.plot.hist(y=col, bins=25)\n",
    "    _ = plt.yscale(\"log\")\n",
    "    \n",
    "    # This helps to visualize single counts on the log scale\n",
    "    _ = plt.ylim(ymin=0.1)\n",
    "    \n",
    "    _ = plt.ylabel('Log-Scaled Frequency')\n",
    "    _ = plt.xlabel(col)\n",
    "    _ = plt.legend()\n",
    "    return _"
   ]
  },
  {
   "cell_type": "code",
   "execution_count": 68,
   "metadata": {},
   "outputs": [
    {
     "data": {
      "text/plain": [
       "134.97200000000001"
      ]
     },
     "execution_count": 68,
     "metadata": {},
     "output_type": "execute_result"
    }
   ],
   "source": [
    "bins = (destiny_2_tweet_min_df['retweet_count'].max() - destiny_2_tweet_min_df['retweet_count'].min()) / 1000\n",
    "bins"
   ]
  },
  {
   "cell_type": "code",
   "execution_count": 131,
   "metadata": {},
   "outputs": [],
   "source": [
    "def plot_all_df_hist(df_list, col, bins):\n",
    "    \"\"\"For each dataframe in the list\n",
    "    Plot the given column on a histogram, overlaid together\n",
    "    \"\"\"\n",
    "    # Find the largest number in the col of any dataframe\n",
    "    # This will be the uppermost bin\n",
    "    max_bin = 0\n",
    "    for df in df_list:\n",
    "        if df[col].max() > max_bin:\n",
    "            max_bin = df[col].max()\n",
    "    \n",
    "    # Set up figure\n",
    "    fig, ax = plt.subplots()\n",
    "    bins = np.linspace(0, max_bin, num=bins)\n",
    "    \n",
    "    # Loop over dataframe list\n",
    "    for df in df_list:\n",
    "        # Get proper bin size \n",
    "        # Since the x-scales aren't necessarily the same\n",
    "        #bins = (df[col].max() - df[col].min()) / binsize\n",
    "        \n",
    "        df.plot.hist(y=col, label=df.name, ax=ax, log=True, bins=bins, alpha=0.7)\n",
    "        \n",
    "    # Set lower y-limit to visualize single counts\n",
    "    ax = plt.ylim(ymin=0.1)\n",
    "    ax = plt.ylabel('Log-Scaled Frequency')\n",
    "    return ax"
   ]
  },
  {
   "cell_type": "code",
   "execution_count": 132,
   "metadata": {},
   "outputs": [
    {
     "data": {
      "image/png": "[encoded data removed]",
      "text/plain": [
       "<matplotlib.figure.Figure at 0x13c8d2b0>"
      ]
     },
     "metadata": {},
     "output_type": "display_data"
    }
   ],
   "source": [
    "df_list = [destiny_2_tweet_min_df, bungie_tweet_min_df, bungie_timeline_min_df, destiny_2_timeline_min_df]\n",
    "_ = plot_all_df_hist(df_list, 'retweet_count', 25)\n",
    "_ = plt.xlabel('Retweet Counts')\n",
    "_ = plt.title('Retweets for Bungie and Destiny 2 Data')"
   ]
  },
  {
   "cell_type": "markdown",
   "metadata": {},
   "source": [
    "This plot shows that the tweets about Destiny 2 have overwhelmingly more retweets than the other 3 dataframes. The Bungie tweets number as many as Destiny 2 tweets, but are heavily concentrated into the first bin. It is a little hard to see, but the Bungie tweets and Destiny 2 tweets almost completely overlap in the first bin.\n",
    "\n",
    "The timeline dataframes are significantly smaller, and also only present in the first bin, but number two orders of magnitude lower than the Bungie tweets."
   ]
  },
  {
   "cell_type": "code",
   "execution_count": 133,
   "metadata": {},
   "outputs": [
    {
     "data": {
      "image/png": "[encoded data removed]",
      "text/plain": [
       "<matplotlib.figure.Figure at 0x135add68>"
      ]
     },
     "metadata": {},
     "output_type": "display_data"
    }
   ],
   "source": [
    "_ = plot_all_df_hist(df_list, 'favorite_count', 25)\n",
    "_ = plt.xlabel('Favorite Counts')\n",
    "_ = plt.title('Favorites for Bungie and Destiny 2 Data')"
   ]
  },
  {
   "cell_type": "markdown",
   "metadata": {},
   "source": [
    "Favorites have a much smaller variance than retweets, and the timeline datasets have some decently high favorite counts. This makes sense, as the official Destiny 2 and Bungie accounts probably have as much, if not more, engagement as any tweet about them from someone else.\n",
    "\n",
    "The first bin still has the majority of the data of each dataframe."
   ]
  },
  {
   "cell_type": "code",
   "execution_count": null,
   "metadata": {},
   "outputs": [],
   "source": []
  },
  {
   "cell_type": "code",
   "execution_count": null,
   "metadata": {},
   "outputs": [],
   "source": []
  },
  {
   "cell_type": "code",
   "execution_count": null,
   "metadata": {},
   "outputs": [],
   "source": []
  },
  {
   "cell_type": "code",
   "execution_count": null,
   "metadata": {},
   "outputs": [],
   "source": []
  },
  {
   "cell_type": "code",
   "execution_count": null,
   "metadata": {},
   "outputs": [],
   "source": []
  }
 ],
 "metadata": {
  "kernelspec": {
   "display_name": "Python 2",
   "language": "python",
   "name": "python2"
  },
  "language_info": {
   "codemirror_mode": {
    "name": "ipython",
    "version": 2
   },
   "file_extension": ".py",
   "mimetype": "text/x-python",
   "name": "python",
   "nbconvert_exporter": "python",
   "pygments_lexer": "ipython2",
   "version": "2.7.15"
  }
 },
 "nbformat": 4,
 "nbformat_minor": 2
}
