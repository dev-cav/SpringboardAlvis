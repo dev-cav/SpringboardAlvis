{
 "cells": [
  {
   "cell_type": "markdown",
   "metadata": {},
   "source": [
    "# Capstone Project 2: Twitter Public Opinion Network Analysis for Bungie\n",
    "\n",
    "This project's goal is to collect and analyze the available Twitter data for Bungie and their main game, Destiny 2.\n",
    "\n",
    "The data are tweets about Bungie and Destiny 2 and the timelines (tweets made by) the Bungie and Destiny 2 official accounts.\n",
    "\n",
    "This notebook is the machine learning analysis for the project."
   ]
  },
  {
   "cell_type": "code",
   "execution_count": 1,
   "metadata": {},
   "outputs": [
    {
     "name": "stdout",
     "output_type": "stream",
     "text": [
      "2019-04-11T13:50:50\n",
      "\n",
      "CPython 2.7.15\n",
      "IPython 5.8.0\n",
      "\n",
      "compiler   : MSC v.1500 64 bit (AMD64)\n",
      "system     : Windows\n",
      "release    : 10\n",
      "machine    : AMD64\n",
      "processor  : Intel64 Family 6 Model 158 Stepping 9, GenuineIntel\n",
      "CPU cores  : 4\n",
      "interpreter: 64bit\n"
     ]
    }
   ],
   "source": [
    "import pandas as pd\n",
    "import numpy as np\n",
    "import matplotlib\n",
    "import matplotlib.pyplot as plt\n",
    "from matplotlib import cm\n",
    "import math\n",
    "from datetime import datetime\n",
    "import seaborn as sns\n",
    "sns.set()\n",
    "\n",
    "%load_ext watermark\n",
    "%watermark"
   ]
  },
  {
   "cell_type": "code",
   "execution_count": null,
   "metadata": {},
   "outputs": [],
   "source": [
    "# These are the datetime columns\n",
    "# Pandas can convert them all as-is\n",
    "datetime_cols = ['created_at', 'quoted_status.created_at', 'retweeted_status.created_at']"
   ]
  },
  {
   "cell_type": "code",
   "execution_count": null,
   "metadata": {},
   "outputs": [],
   "source": [
    "destiny_2_tweet_min_df = pd.read_csv(\"../data/destiny_2_tweets_min.csv\",\n",
    "                                     encoding='utf-8', index_col=0, parse_dates=datetime_cols)\n",
    "bungie_tweet_min_df = pd.read_csv(\"../data/bungie_tweets_min.csv\",\n",
    "                                  encoding='utf-8', index_col=0, parse_dates=datetime_cols)\n",
    "bungie_timeline_min_df = pd.read_csv(\"../data/bungie_timeline_min.csv\",\n",
    "                                     encoding='utf-8', index_col=0, parse_dates=datetime_cols)\n",
    "destiny_2_timeline_min_df = pd.read_csv(\"../data/destiny_2_timeline_min.csv\",\n",
    "                                        encoding='utf-8', index_col=0, parse_dates=datetime_cols)"
   ]
  },
  {
   "cell_type": "markdown",
   "metadata": {},
   "source": [
    "## Models\n",
    "\n",
    "#### Natural Language Processing via Googles NLP API\n",
    "\n",
    "This should give the tweets a sentiment rating, which can be feature generation for other models.\n",
    "\n",
    "Debating between NLTK and spaCy packages for sentiment analysis. Pick NLTK, it has a sentiment package.\n",
    "\n",
    "https://www.nltk.org/api/nltk.sentiment.html?highlight=sentiment#module-nltk.sentiment\n",
    "\n",
    "https://www.geeksforgeeks.org/twitter-sentiment-analysis-using-python/\n",
    "\n",
    "Take note of tfidf? Might be good for topic generation.\n",
    "\n",
    "#### Linear Regression\n",
    "\n",
    "Try to estimate retweet counts, then see what is important. I think I won't attempt to predict favorites, since that is a less accurate (I think) metric of engagement. Retweeting more directly shows a tweet to others, and is thus more important in terms of social media reach.\n",
    "\n",
    "Predict on follower count, inverse / exponential decay of time since last official tweet, sentiment rating, tweet posting frequency (?)(per user), \n",
    "\n",
    "#### Classification Algorithm (Maybe)\n",
    "\n",
    "See what kinds of users there are? Put it more data, see what separates users with huge reach from the average, no-reach Twitter user."
   ]
  },
  {
   "cell_type": "code",
   "execution_count": null,
   "metadata": {},
   "outputs": [],
   "source": []
  },
  {
   "cell_type": "code",
   "execution_count": null,
   "metadata": {},
   "outputs": [],
   "source": []
  },
  {
   "cell_type": "code",
   "execution_count": null,
   "metadata": {},
   "outputs": [],
   "source": []
  },
  {
   "cell_type": "code",
   "execution_count": null,
   "metadata": {},
   "outputs": [],
   "source": []
  },
  {
   "cell_type": "code",
   "execution_count": null,
   "metadata": {},
   "outputs": [],
   "source": []
  },
  {
   "cell_type": "code",
   "execution_count": null,
   "metadata": {},
   "outputs": [],
   "source": []
  },
  {
   "cell_type": "code",
   "execution_count": null,
   "metadata": {},
   "outputs": [],
   "source": []
  },
  {
   "cell_type": "code",
   "execution_count": null,
   "metadata": {},
   "outputs": [],
   "source": []
  },
  {
   "cell_type": "code",
   "execution_count": null,
   "metadata": {},
   "outputs": [],
   "source": []
  }
 ],
 "metadata": {
  "kernelspec": {
   "display_name": "Python 2",
   "language": "python",
   "name": "python2"
  },
  "language_info": {
   "codemirror_mode": {
    "name": "ipython",
    "version": 2
   },
   "file_extension": ".py",
   "mimetype": "text/x-python",
   "name": "python",
   "nbconvert_exporter": "python",
   "pygments_lexer": "ipython2",
   "version": "2.7.15"
  }
 },
 "nbformat": 4,
 "nbformat_minor": 2
}
