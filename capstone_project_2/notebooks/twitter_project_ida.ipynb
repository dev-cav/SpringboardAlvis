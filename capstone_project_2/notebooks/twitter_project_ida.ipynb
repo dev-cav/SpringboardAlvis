{
 "cells": [
  {
   "cell_type": "markdown",
   "metadata": {},
   "source": [
    "# Capstone Project 2: Twitter Public Opinion Network Analysis for Bungie\n",
    "\n",
    "## In-Depth Analysis\n",
    "\n",
    "This project's goal is to collect and analyze the available Twitter data for Bungie and their main game, Destiny 2.\n",
    "\n",
    "This notebook is the machine learning analysis for the project."
   ]
  },
  {
   "cell_type": "code",
   "execution_count": 1,
   "metadata": {},
   "outputs": [
    {
     "name": "stdout",
     "output_type": "stream",
     "text": [
      "2019-04-25T10:29:33\n",
      "\n",
      "CPython 2.7.15\n",
      "IPython 5.8.0\n",
      "\n",
      "compiler   : MSC v.1500 64 bit (AMD64)\n",
      "system     : Windows\n",
      "release    : 10\n",
      "machine    : AMD64\n",
      "processor  : Intel64 Family 6 Model 158 Stepping 9, GenuineIntel\n",
      "CPU cores  : 4\n",
      "interpreter: 64bit\n"
     ]
    }
   ],
   "source": [
    "import pandas as pd\n",
    "import numpy as np\n",
    "import matplotlib\n",
    "import matplotlib.pyplot as plt\n",
    "from matplotlib import cm\n",
    "import math\n",
    "from datetime import datetime\n",
    "import seaborn as sns\n",
    "sns.set()\n",
    "\n",
    "%load_ext watermark\n",
    "%watermark"
   ]
  },
  {
   "cell_type": "code",
   "execution_count": 2,
   "metadata": {},
   "outputs": [],
   "source": [
    "# These are the datetime columns\n",
    "# Pandas can convert them all as-is\n",
    "datetime_cols = ['created_at', 'quoted_status.created_at', 'retweeted_status.created_at']"
   ]
  },
  {
   "cell_type": "code",
   "execution_count": 3,
   "metadata": {},
   "outputs": [],
   "source": [
    "destiny_2_tweet_min_df = pd.read_csv(\"../data/destiny_2_tweets_min.csv\",\n",
    "                                     encoding='utf-8', index_col=0, parse_dates=datetime_cols)\n",
    "bungie_tweet_min_df = pd.read_csv(\"../data/bungie_tweets_min.csv\",\n",
    "                                  encoding='utf-8', index_col=0, parse_dates=datetime_cols)\n",
    "bungie_timeline_min_df = pd.read_csv(\"../data/bungie_timeline_min.csv\",\n",
    "                                     encoding='utf-8', index_col=0, parse_dates=datetime_cols)\n",
    "destiny_2_timeline_min_df = pd.read_csv(\"../data/destiny_2_timeline_min.csv\",\n",
    "                                        encoding='utf-8', index_col=0, parse_dates=datetime_cols)"
   ]
  },
  {
   "cell_type": "markdown",
   "metadata": {},
   "source": [
    "### Natural Language Processing\n",
    "\n",
    "This should give the tweets a sentiment rating, which can be feature generation for other models.\n",
    "\n",
    "Debating between NLTK and spaCy packages for sentiment analysis. Pick NLTK, it has a sentiment package.\n",
    "\n",
    "https://www.nltk.org/api/nltk.sentiment.html?highlight=sentiment#module-nltk.sentiment\n",
    "\n",
    "https://www.geeksforgeeks.org/twitter-sentiment-analysis-using-python/"
   ]
  },
  {
   "cell_type": "code",
   "execution_count": 4,
   "metadata": {},
   "outputs": [
    {
     "name": "stderr",
     "output_type": "stream",
     "text": [
      "[nltk_data] Downloading package vader_lexicon to\n",
      "[nltk_data]     C:\\Users\\sebia\\AppData\\Roaming\\nltk_data...\n",
      "[nltk_data]   Package vader_lexicon is already up-to-date!\n"
     ]
    },
    {
     "data": {
      "text/plain": [
       "True"
      ]
     },
     "execution_count": 4,
     "metadata": {},
     "output_type": "execute_result"
    }
   ],
   "source": [
    "import nltk\n",
    "from nltk.sentiment import SentimentAnalyzer\n",
    "from nltk.sentiment.vader import SentimentIntensityAnalyzer\n",
    "nltk.download('vader_lexicon')"
   ]
  },
  {
   "cell_type": "markdown",
   "metadata": {},
   "source": [
    "VADER sentiment analysis tools are from research. They were made for social media analysis and can handle lots of unusual text.\n",
    "\n",
    "Documentation: https://www.nltk.org/api/nltk.sentiment.html#module-nltk.sentiment.vader\n",
    "\n",
    "Paper: http://comp.social.gatech.edu/papers/icwsm14.vader.hutto.pdf\n",
    "\n",
    "TLDR: http://datameetsmedia.com/vader-sentiment-analysis-explained/\n",
    "\n",
    "GitHub: https://github.com/cjhutto/vaderSentiment\n",
    "\n",
    "I want to try the functions polarity_scores, score_valence, and sentiment_valence"
   ]
  },
  {
   "cell_type": "code",
   "execution_count": 5,
   "metadata": {},
   "outputs": [],
   "source": [
    "vader = SentimentIntensityAnalyzer()"
   ]
  },
  {
   "cell_type": "code",
   "execution_count": 6,
   "metadata": {},
   "outputs": [
    {
     "data": {
      "text/plain": [
       "u\"RT @vinnydafreshest: Alright. I guess I'll watch what Bungie has to say about Destiny 2 on Twitch.\""
      ]
     },
     "execution_count": 6,
     "metadata": {},
     "output_type": "execute_result"
    }
   ],
   "source": [
    "destiny_2_tweet_min_df.loc[0, 'text']"
   ]
  },
  {
   "cell_type": "markdown",
   "metadata": {},
   "source": [
    "Wow. That is really easy to use. Let's do that for all of the tweets when we get the data ready for machine learning."
   ]
  },
  {
   "cell_type": "code",
   "execution_count": 7,
   "metadata": {},
   "outputs": [
    {
     "data": {
      "text/plain": [
       "{'compound': 0.25, 'neg': 0.0, 'neu': 0.875, 'pos': 0.125}"
      ]
     },
     "execution_count": 7,
     "metadata": {},
     "output_type": "execute_result"
    }
   ],
   "source": [
    "vader.polarity_scores(destiny_2_tweet_min_df.loc[0, 'text'])"
   ]
  },
  {
   "cell_type": "markdown",
   "metadata": {},
   "source": [
    "The values aren't in the same order as they are in the dictionary."
   ]
  },
  {
   "cell_type": "code",
   "execution_count": 8,
   "metadata": {},
   "outputs": [
    {
     "data": {
      "text/plain": [
       "[0.0, 0.875, 0.125, 0.25]"
      ]
     },
     "execution_count": 8,
     "metadata": {},
     "output_type": "execute_result"
    }
   ],
   "source": [
    "vader.polarity_scores(destiny_2_tweet_min_df.loc[0, 'text']).values()"
   ]
  },
  {
   "cell_type": "code",
   "execution_count": 9,
   "metadata": {},
   "outputs": [
    {
     "data": {
      "text/plain": [
       "{'compound': -0.1779, 'neg': 0.171, 'neu': 0.683, 'pos': 0.147}"
      ]
     },
     "execution_count": 9,
     "metadata": {},
     "output_type": "execute_result"
    }
   ],
   "source": [
    "vader.polarity_scores(destiny_2_tweet_min_df.loc[516, 'text'])"
   ]
  },
  {
   "cell_type": "markdown",
   "metadata": {},
   "source": [
    "Okay. values() puts them in the order neg, neu, pos, comp"
   ]
  },
  {
   "cell_type": "code",
   "execution_count": 10,
   "metadata": {},
   "outputs": [
    {
     "data": {
      "text/plain": [
       "[0.171, 0.683, 0.147, -0.1779]"
      ]
     },
     "execution_count": 10,
     "metadata": {},
     "output_type": "execute_result"
    }
   ],
   "source": [
    "vader.polarity_scores(destiny_2_tweet_min_df.loc[516, 'text']).values()"
   ]
  },
  {
   "cell_type": "markdown",
   "metadata": {},
   "source": [
    "### Linear Regression\n",
    "\n",
    "Try to estimate retweet counts, then see what is important. I think I won't attempt to predict favorites, since that is a less accurate (I think) metric of engagement. Retweeting more directly shows a tweet to others, and is thus more important in terms of social media reach.\n",
    "\n",
    "Predict on follower count, inverse / exponential decay of time since last official tweet, sentiment rating, tweet posting frequency (?)(per user), "
   ]
  },
  {
   "cell_type": "markdown",
   "metadata": {},
   "source": [
    "Let's set up the data. I will need to redo some steps from the exploratory data analysis, mostly the time_since_last_official_tweet loop."
   ]
  },
  {
   "cell_type": "code",
   "execution_count": 11,
   "metadata": {},
   "outputs": [
    {
     "name": "stdout",
     "output_type": "stream",
     "text": [
      "46168\n"
     ]
    }
   ],
   "source": [
    "normal_tweet_df = pd.concat([destiny_2_tweet_min_df, bungie_tweet_min_df]).reset_index(drop=True)\n",
    "official_tweet_df = pd.concat([bungie_timeline_min_df, destiny_2_timeline_min_df]).reset_index(drop=True)\n",
    "print(len(normal_tweet_df))"
   ]
  },
  {
   "cell_type": "markdown",
   "metadata": {},
   "source": [
    "Remove official account tweets from normal tweet dataframe"
   ]
  },
  {
   "cell_type": "code",
   "execution_count": 12,
   "metadata": {},
   "outputs": [
    {
     "name": "stdout",
     "output_type": "stream",
     "text": [
      "46076\n"
     ]
    }
   ],
   "source": [
    "for user_id in official_tweet_df['user.id'].unique():\n",
    "    normal_tweet_df = normal_tweet_df[normal_tweet_df['user.id'] != user_id]\n",
    "print(len(normal_tweet_df))"
   ]
  },
  {
   "cell_type": "code",
   "execution_count": 13,
   "metadata": {},
   "outputs": [],
   "source": [
    "def set_time_since_official_tweet(original_df, official_df, time_col, new_col_name):\n",
    "    \"\"\"\n",
    "    This function makes a column for the original dataframe\n",
    "    This column will show the time since the most recent tweet in the official dataframe\n",
    "    \"\"\"\n",
    "    \n",
    "    # Make sure the original and official dfs are time-ordered\n",
    "    original_df = original_df.sort_values(time_col)\n",
    "    official_df = official_df.sort_values(time_col)\n",
    "        \n",
    "    # Loop\n",
    "    for og_idx, tweet in original_df.iterrows():\n",
    "        \n",
    "        # There might be some tweets in the original df that are older than the oldest in the official df\n",
    "        # In that case, just set the time diff to be it's posting time - the oldest time in official_df\n",
    "        if (tweet[time_col] < official_df.iloc[0, 1]):\n",
    "            original_df.loc[og_idx, new_col_name] = tweet[time_col] - official_df.iloc[0, 1]\n",
    "            continue\n",
    "        \n",
    "        # This variable will hold the time differences between tweets\n",
    "        # This is the max positive time difference, a good starting value for the minimum\n",
    "        min_time_since_official_tweet = tweet[time_col] - official_df.iloc[-1, 1]\n",
    "        \n",
    "        # Find the closest tweet in official_df with a time less than this one\n",
    "        for off_idx, official_tweet in official_df.iterrows():\n",
    "            \n",
    "            # Check if we've found an official tweet posted after the tweet in question\n",
    "            if (official_tweet[time_col] > tweet[time_col]):                \n",
    "                # The tweet before this official one is what we want\n",
    "                break\n",
    "                \n",
    "            # Only set this if we didn't overstep\n",
    "            min_time_since_official_tweet = tweet[time_col] - official_tweet[time_col]\n",
    "            \n",
    "        # Set the time difference\n",
    "        original_df.loc[og_idx, new_col_name] = min_time_since_official_tweet\n",
    "            \n",
    "    return original_df"
   ]
  },
  {
   "cell_type": "code",
   "execution_count": 14,
   "metadata": {},
   "outputs": [
    {
     "name": "stdout",
     "output_type": "stream",
     "text": [
      "Wall time: 9min 20s\n"
     ]
    }
   ],
   "source": [
    "%%time\n",
    "normal_tweet_df = set_time_since_official_tweet(normal_tweet_df,\n",
    "                                                official_tweet_df,\n",
    "                                                'created_at',\n",
    "                                                'time_since_official_tweet')"
   ]
  },
  {
   "cell_type": "markdown",
   "metadata": {},
   "source": [
    "Columns I want to keep\n",
    "\n",
    "Debating if favorite count should be in there. I don't think so, since it is another metric of engagement. I don't want to predict with it, I should be predicting it.\n",
    "\n",
    "Consider another time col? Will see how well the time since an official tweet works (as linear, as inverse, and as exponential decay)."
   ]
  },
  {
   "cell_type": "code",
   "execution_count": 15,
   "metadata": {},
   "outputs": [],
   "source": [
    "x_cols = ['user.followers_count', 'user.friends_count', 'user.statuses_count',\n",
    "          'user.verified', 'is_quote_status', 'text', 'time_since_official_tweet']"
   ]
  },
  {
   "cell_type": "code",
   "execution_count": 16,
   "metadata": {},
   "outputs": [],
   "source": [
    "y = normal_tweet_df['retweet_count']"
   ]
  },
  {
   "cell_type": "code",
   "execution_count": 377,
   "metadata": {},
   "outputs": [],
   "source": [
    "X = normal_tweet_df[x_cols]"
   ]
  },
  {
   "cell_type": "code",
   "execution_count": 378,
   "metadata": {},
   "outputs": [
    {
     "data": {
      "text/html": [
       "<div>\n",
       "<style scoped>\n",
       "    .dataframe tbody tr th:only-of-type {\n",
       "        vertical-align: middle;\n",
       "    }\n",
       "\n",
       "    .dataframe tbody tr th {\n",
       "        vertical-align: top;\n",
       "    }\n",
       "\n",
       "    .dataframe thead th {\n",
       "        text-align: right;\n",
       "    }\n",
       "</style>\n",
       "<table border=\"1\" class=\"dataframe\">\n",
       "  <thead>\n",
       "    <tr style=\"text-align: right;\">\n",
       "      <th></th>\n",
       "      <th>user.followers_count</th>\n",
       "      <th>user.friends_count</th>\n",
       "      <th>user.statuses_count</th>\n",
       "      <th>user.verified</th>\n",
       "      <th>is_quote_status</th>\n",
       "      <th>text</th>\n",
       "      <th>time_since_official_tweet</th>\n",
       "    </tr>\n",
       "  </thead>\n",
       "  <tbody>\n",
       "    <tr>\n",
       "      <th>21438</th>\n",
       "      <td>648.0</td>\n",
       "      <td>664.0</td>\n",
       "      <td>50382.0</td>\n",
       "      <td>False</td>\n",
       "      <td>0.0</td>\n",
       "      <td>RT @MassivelyOP: The MMO Bookclub devotes Marc...</td>\n",
       "      <td>-1 days +18:11:31</td>\n",
       "    </tr>\n",
       "    <tr>\n",
       "      <th>21437</th>\n",
       "      <td>1724.0</td>\n",
       "      <td>500.0</td>\n",
       "      <td>120258.0</td>\n",
       "      <td>False</td>\n",
       "      <td>0.0</td>\n",
       "      <td>RT @forsungwoon_: 190303 My Moment Fansign\\r\\r...</td>\n",
       "      <td>-1 days +18:18:37</td>\n",
       "    </tr>\n",
       "    <tr>\n",
       "      <th>21436</th>\n",
       "      <td>213109.0</td>\n",
       "      <td>1072.0</td>\n",
       "      <td>17796.0</td>\n",
       "      <td>False</td>\n",
       "      <td>0.0</td>\n",
       "      <td>What did you guys think of the new Destiny 2 V...</td>\n",
       "      <td>-1 days +18:50:10</td>\n",
       "    </tr>\n",
       "    <tr>\n",
       "      <th>21435</th>\n",
       "      <td>10.0</td>\n",
       "      <td>18.0</td>\n",
       "      <td>3686.0</td>\n",
       "      <td>False</td>\n",
       "      <td>0.0</td>\n",
       "      <td>RT @MrRoflWaffles: What did you guys think of ...</td>\n",
       "      <td>-1 days +18:50:35</td>\n",
       "    </tr>\n",
       "    <tr>\n",
       "      <th>21434</th>\n",
       "      <td>123.0</td>\n",
       "      <td>317.0</td>\n",
       "      <td>64673.0</td>\n",
       "      <td>False</td>\n",
       "      <td>0.0</td>\n",
       "      <td>RT @forsungwoon_: 190303 My Moment Fansign\\r\\r...</td>\n",
       "      <td>-1 days +18:51:48</td>\n",
       "    </tr>\n",
       "  </tbody>\n",
       "</table>\n",
       "</div>"
      ],
      "text/plain": [
       "       user.followers_count  user.friends_count  user.statuses_count  \\\n",
       "21438                 648.0               664.0              50382.0   \n",
       "21437                1724.0               500.0             120258.0   \n",
       "21436              213109.0              1072.0              17796.0   \n",
       "21435                  10.0                18.0               3686.0   \n",
       "21434                 123.0               317.0              64673.0   \n",
       "\n",
       "       user.verified  is_quote_status  \\\n",
       "21438          False              0.0   \n",
       "21437          False              0.0   \n",
       "21436          False              0.0   \n",
       "21435          False              0.0   \n",
       "21434          False              0.0   \n",
       "\n",
       "                                                    text  \\\n",
       "21438  RT @MassivelyOP: The MMO Bookclub devotes Marc...   \n",
       "21437  RT @forsungwoon_: 190303 My Moment Fansign\\r\\r...   \n",
       "21436  What did you guys think of the new Destiny 2 V...   \n",
       "21435  RT @MrRoflWaffles: What did you guys think of ...   \n",
       "21434  RT @forsungwoon_: 190303 My Moment Fansign\\r\\r...   \n",
       "\n",
       "      time_since_official_tweet  \n",
       "21438         -1 days +18:11:31  \n",
       "21437         -1 days +18:18:37  \n",
       "21436         -1 days +18:50:10  \n",
       "21435         -1 days +18:50:35  \n",
       "21434         -1 days +18:51:48  "
      ]
     },
     "execution_count": 378,
     "metadata": {},
     "output_type": "execute_result"
    }
   ],
   "source": [
    "X.head()"
   ]
  },
  {
   "cell_type": "markdown",
   "metadata": {},
   "source": [
    "Change time_since_official_tweet to be in minutes"
   ]
  },
  {
   "cell_type": "code",
   "execution_count": 379,
   "metadata": {},
   "outputs": [],
   "source": [
    "X.loc[:, 'time_since_official_tweet'] = X['time_since_official_tweet'].astype('timedelta64[m]')"
   ]
  },
  {
   "cell_type": "markdown",
   "metadata": {},
   "source": [
    "Get the sentiment values from the tweet text"
   ]
  },
  {
   "cell_type": "code",
   "execution_count": 380,
   "metadata": {},
   "outputs": [],
   "source": [
    "def get_vader_sentiment_scores(df, text_col, new_col_names):\n",
    "    \"\"\"\n",
    "    For a dataframe, get the sentiment scores for the text_col using VADER\n",
    "    Assign results to the new columns with new_col_names\n",
    "    \"\"\"\n",
    "    assert len(new_col_names) == 4\n",
    "    \n",
    "    # Set up new columns\n",
    "    for col_name in new_col_names:\n",
    "        df.loc[:, col_name] = 0.0\n",
    "    \n",
    "    df.loc[:, new_col_names] = [vader.polarity_scores(text).values() for text in df[text_col]]\n",
    "    #for idx, row in df.iterrows():\n",
    "        #df.loc[idx, new_col_names] = vader.polarity_scores(row[text_col]).values()\n",
    "    \n",
    "    return df"
   ]
  },
  {
   "cell_type": "markdown",
   "metadata": {},
   "source": [
    "Version with the for loop and iterrows took probably an hour and a half\n",
    "\n",
    "Version with the list comprehension took 8 seconds"
   ]
  },
  {
   "cell_type": "code",
   "execution_count": 381,
   "metadata": {},
   "outputs": [
    {
     "name": "stdout",
     "output_type": "stream",
     "text": [
      "Wall time: 8.7 s\n"
     ]
    }
   ],
   "source": [
    "%%time\n",
    "X = get_vader_sentiment_scores(X, 'text', ['neg_score', 'neu_score', 'pos_score', 'comp_score'])"
   ]
  },
  {
   "cell_type": "code",
   "execution_count": 382,
   "metadata": {},
   "outputs": [
    {
     "data": {
      "text/html": [
       "<div>\n",
       "<style scoped>\n",
       "    .dataframe tbody tr th:only-of-type {\n",
       "        vertical-align: middle;\n",
       "    }\n",
       "\n",
       "    .dataframe tbody tr th {\n",
       "        vertical-align: top;\n",
       "    }\n",
       "\n",
       "    .dataframe thead th {\n",
       "        text-align: right;\n",
       "    }\n",
       "</style>\n",
       "<table border=\"1\" class=\"dataframe\">\n",
       "  <thead>\n",
       "    <tr style=\"text-align: right;\">\n",
       "      <th></th>\n",
       "      <th>user.followers_count</th>\n",
       "      <th>user.friends_count</th>\n",
       "      <th>user.statuses_count</th>\n",
       "      <th>user.verified</th>\n",
       "      <th>is_quote_status</th>\n",
       "      <th>text</th>\n",
       "      <th>time_since_official_tweet</th>\n",
       "      <th>neg_score</th>\n",
       "      <th>neu_score</th>\n",
       "      <th>pos_score</th>\n",
       "      <th>comp_score</th>\n",
       "    </tr>\n",
       "  </thead>\n",
       "  <tbody>\n",
       "    <tr>\n",
       "      <th>21438</th>\n",
       "      <td>648.0</td>\n",
       "      <td>664.0</td>\n",
       "      <td>50382.0</td>\n",
       "      <td>False</td>\n",
       "      <td>0.0</td>\n",
       "      <td>RT @MassivelyOP: The MMO Bookclub devotes Marc...</td>\n",
       "      <td>-349.0</td>\n",
       "      <td>0.0</td>\n",
       "      <td>0.860</td>\n",
       "      <td>0.140</td>\n",
       "      <td>0.3818</td>\n",
       "    </tr>\n",
       "    <tr>\n",
       "      <th>21437</th>\n",
       "      <td>1724.0</td>\n",
       "      <td>500.0</td>\n",
       "      <td>120258.0</td>\n",
       "      <td>False</td>\n",
       "      <td>0.0</td>\n",
       "      <td>RT @forsungwoon_: 190303 My Moment Fansign\\r\\r...</td>\n",
       "      <td>-342.0</td>\n",
       "      <td>0.0</td>\n",
       "      <td>0.764</td>\n",
       "      <td>0.236</td>\n",
       "      <td>0.7574</td>\n",
       "    </tr>\n",
       "    <tr>\n",
       "      <th>21436</th>\n",
       "      <td>213109.0</td>\n",
       "      <td>1072.0</td>\n",
       "      <td>17796.0</td>\n",
       "      <td>False</td>\n",
       "      <td>0.0</td>\n",
       "      <td>What did you guys think of the new Destiny 2 V...</td>\n",
       "      <td>-310.0</td>\n",
       "      <td>0.0</td>\n",
       "      <td>0.890</td>\n",
       "      <td>0.110</td>\n",
       "      <td>0.3527</td>\n",
       "    </tr>\n",
       "    <tr>\n",
       "      <th>21435</th>\n",
       "      <td>10.0</td>\n",
       "      <td>18.0</td>\n",
       "      <td>3686.0</td>\n",
       "      <td>False</td>\n",
       "      <td>0.0</td>\n",
       "      <td>RT @MrRoflWaffles: What did you guys think of ...</td>\n",
       "      <td>-310.0</td>\n",
       "      <td>0.0</td>\n",
       "      <td>0.895</td>\n",
       "      <td>0.105</td>\n",
       "      <td>0.3527</td>\n",
       "    </tr>\n",
       "    <tr>\n",
       "      <th>21434</th>\n",
       "      <td>123.0</td>\n",
       "      <td>317.0</td>\n",
       "      <td>64673.0</td>\n",
       "      <td>False</td>\n",
       "      <td>0.0</td>\n",
       "      <td>RT @forsungwoon_: 190303 My Moment Fansign\\r\\r...</td>\n",
       "      <td>-309.0</td>\n",
       "      <td>0.0</td>\n",
       "      <td>0.764</td>\n",
       "      <td>0.236</td>\n",
       "      <td>0.7574</td>\n",
       "    </tr>\n",
       "  </tbody>\n",
       "</table>\n",
       "</div>"
      ],
      "text/plain": [
       "       user.followers_count  user.friends_count  user.statuses_count  \\\n",
       "21438                 648.0               664.0              50382.0   \n",
       "21437                1724.0               500.0             120258.0   \n",
       "21436              213109.0              1072.0              17796.0   \n",
       "21435                  10.0                18.0               3686.0   \n",
       "21434                 123.0               317.0              64673.0   \n",
       "\n",
       "       user.verified  is_quote_status  \\\n",
       "21438          False              0.0   \n",
       "21437          False              0.0   \n",
       "21436          False              0.0   \n",
       "21435          False              0.0   \n",
       "21434          False              0.0   \n",
       "\n",
       "                                                    text  \\\n",
       "21438  RT @MassivelyOP: The MMO Bookclub devotes Marc...   \n",
       "21437  RT @forsungwoon_: 190303 My Moment Fansign\\r\\r...   \n",
       "21436  What did you guys think of the new Destiny 2 V...   \n",
       "21435  RT @MrRoflWaffles: What did you guys think of ...   \n",
       "21434  RT @forsungwoon_: 190303 My Moment Fansign\\r\\r...   \n",
       "\n",
       "       time_since_official_tweet  neg_score  neu_score  pos_score  comp_score  \n",
       "21438                     -349.0        0.0      0.860      0.140      0.3818  \n",
       "21437                     -342.0        0.0      0.764      0.236      0.7574  \n",
       "21436                     -310.0        0.0      0.890      0.110      0.3527  \n",
       "21435                     -310.0        0.0      0.895      0.105      0.3527  \n",
       "21434                     -309.0        0.0      0.764      0.236      0.7574  "
      ]
     },
     "execution_count": 382,
     "metadata": {},
     "output_type": "execute_result"
    }
   ],
   "source": [
    "X.head()"
   ]
  },
  {
   "cell_type": "markdown",
   "metadata": {},
   "source": [
    "Sanity checks for the sentiment scores\n",
    "\n",
    "Highest negative scores\n",
    "\n",
    "The negative scores seem mostly accurate. FIGHT!! is not a bad tweet, since this is a game with violence. And No problem should be neutral."
   ]
  },
  {
   "cell_type": "code",
   "execution_count": 383,
   "metadata": {},
   "outputs": [
    {
     "data": {
      "text/html": [
       "<div>\n",
       "<style scoped>\n",
       "    .dataframe tbody tr th:only-of-type {\n",
       "        vertical-align: middle;\n",
       "    }\n",
       "\n",
       "    .dataframe tbody tr th {\n",
       "        vertical-align: top;\n",
       "    }\n",
       "\n",
       "    .dataframe thead th {\n",
       "        text-align: right;\n",
       "    }\n",
       "</style>\n",
       "<table border=\"1\" class=\"dataframe\">\n",
       "  <thead>\n",
       "    <tr style=\"text-align: right;\">\n",
       "      <th></th>\n",
       "      <th>neg_score</th>\n",
       "      <th>text</th>\n",
       "    </tr>\n",
       "  </thead>\n",
       "  <tbody>\n",
       "    <tr>\n",
       "      <th>29327</th>\n",
       "      <td>0.815</td>\n",
       "      <td>@Bungie Cancer</td>\n",
       "    </tr>\n",
       "    <tr>\n",
       "      <th>39449</th>\n",
       "      <td>0.797</td>\n",
       "      <td>@Bungie FIGHT!!</td>\n",
       "    </tr>\n",
       "    <tr>\n",
       "      <th>24587</th>\n",
       "      <td>0.779</td>\n",
       "      <td>@LuCKyy_and_BW @Bungie STOP LYING</td>\n",
       "    </tr>\n",
       "    <tr>\n",
       "      <th>7521</th>\n",
       "      <td>0.744</td>\n",
       "      <td>@TheRadicalJawa No wonder Destiny 2 sucked ass.</td>\n",
       "    </tr>\n",
       "    <tr>\n",
       "      <th>41881</th>\n",
       "      <td>0.710</td>\n",
       "      <td>@NikTheGamerDK @Bungie No problem</td>\n",
       "    </tr>\n",
       "  </tbody>\n",
       "</table>\n",
       "</div>"
      ],
      "text/plain": [
       "       neg_score                                             text\n",
       "29327      0.815                                   @Bungie Cancer\n",
       "39449      0.797                                  @Bungie FIGHT!!\n",
       "24587      0.779                @LuCKyy_and_BW @Bungie STOP LYING\n",
       "7521       0.744  @TheRadicalJawa No wonder Destiny 2 sucked ass.\n",
       "41881      0.710                @NikTheGamerDK @Bungie No problem"
      ]
     },
     "execution_count": 383,
     "metadata": {},
     "output_type": "execute_result"
    }
   ],
   "source": [
    "X.sort_values('neg_score', ascending=False).head(5)[['neg_score', 'text']]"
   ]
  },
  {
   "cell_type": "markdown",
   "metadata": {},
   "source": [
    "Most negative compound scores"
   ]
  },
  {
   "cell_type": "code",
   "execution_count": 387,
   "metadata": {},
   "outputs": [
    {
     "data": {
      "text/html": [
       "<div>\n",
       "<style scoped>\n",
       "    .dataframe tbody tr th:only-of-type {\n",
       "        vertical-align: middle;\n",
       "    }\n",
       "\n",
       "    .dataframe tbody tr th {\n",
       "        vertical-align: top;\n",
       "    }\n",
       "\n",
       "    .dataframe thead th {\n",
       "        text-align: right;\n",
       "    }\n",
       "</style>\n",
       "<table border=\"1\" class=\"dataframe\">\n",
       "  <thead>\n",
       "    <tr style=\"text-align: right;\">\n",
       "      <th></th>\n",
       "      <th>comp_score</th>\n",
       "      <th>text</th>\n",
       "    </tr>\n",
       "  </thead>\n",
       "  <tbody>\n",
       "    <tr>\n",
       "      <th>28849</th>\n",
       "      <td>-0.9552</td>\n",
       "      <td>@Bungie It's worst in Gambit Prime killed 3 en...</td>\n",
       "    </tr>\n",
       "    <tr>\n",
       "      <th>28662</th>\n",
       "      <td>-0.9517</td>\n",
       "      <td>@Bungie sorry I had to record it on my phone b...</td>\n",
       "    </tr>\n",
       "    <tr>\n",
       "      <th>5907</th>\n",
       "      <td>-0.9485</td>\n",
       "      <td>Gears of war 2\\r\\r\\r\\nGears of war 3 \\r\\r\\r\\nG...</td>\n",
       "    </tr>\n",
       "    <tr>\n",
       "      <th>26603</th>\n",
       "      <td>-0.9468</td>\n",
       "      <td>@DestinyTheGame @Bungie Yor was no villain, a ...</td>\n",
       "    </tr>\n",
       "    <tr>\n",
       "      <th>20405</th>\n",
       "      <td>-0.9369</td>\n",
       "      <td>why is the eng destiny 2 fandom. so bad and wi...</td>\n",
       "    </tr>\n",
       "  </tbody>\n",
       "</table>\n",
       "</div>"
      ],
      "text/plain": [
       "       comp_score                                               text\n",
       "28849     -0.9552  @Bungie It's worst in Gambit Prime killed 3 en...\n",
       "28662     -0.9517  @Bungie sorry I had to record it on my phone b...\n",
       "5907      -0.9485  Gears of war 2\\r\\r\\r\\nGears of war 3 \\r\\r\\r\\nG...\n",
       "26603     -0.9468  @DestinyTheGame @Bungie Yor was no villain, a ...\n",
       "20405     -0.9369  why is the eng destiny 2 fandom. so bad and wi..."
      ]
     },
     "execution_count": 387,
     "metadata": {},
     "output_type": "execute_result"
    }
   ],
   "source": [
    "X.sort_values('comp_score', ascending=True).head()[['comp_score', 'text']]"
   ]
  },
  {
   "cell_type": "code",
   "execution_count": 388,
   "metadata": {},
   "outputs": [
    {
     "data": {
      "text/plain": [
       "array([ u\"@Bungie It's worst in Gambit Prime killed 3 envoys with hammerhead and we killed the prime evil only 2% increase are we serious \\U0001f633\",\n",
       "       u'@Bungie sorry I had to record it on my phone but the enemy killed their prime evil and like always my teams went aw\\u2026 https://t.co/BI56kLuc42',\n",
       "       u'Gears of war 2\\r\\r\\r\\nGears of war 3 \\r\\r\\r\\nGears of war 3\\r\\r\\r\\nGears of war 3/Bo2\\r\\r\\r\\nBo2/Destiny\\r\\r\\r\\nDestiny\\r\\r\\r\\nDestiny\\r\\r\\r\\nDestiny 1 and 2\\r\\r\\r\\nDestin\\u2026 https://t.co/8OhPg1qtOU',\n",
       "       u'@DestinyTheGame @Bungie Yor was no villain, a villain is someone who wanted to turn bad to do bad, yor was corrupted.',\n",
       "       u'why is the eng destiny 2 fandom. so bad and wild and have such bad fanart and content and want to kill each other a\\u2026 https://t.co/zIb7yAnymJ'], dtype=object)"
      ]
     },
     "execution_count": 388,
     "metadata": {},
     "output_type": "execute_result"
    }
   ],
   "source": [
    "X.sort_values('comp_score', ascending=True).head()['text'].values"
   ]
  },
  {
   "cell_type": "markdown",
   "metadata": {},
   "source": [
    "Highest Positive Scores"
   ]
  },
  {
   "cell_type": "code",
   "execution_count": 385,
   "metadata": {},
   "outputs": [
    {
     "data": {
      "text/html": [
       "<div>\n",
       "<style scoped>\n",
       "    .dataframe tbody tr th:only-of-type {\n",
       "        vertical-align: middle;\n",
       "    }\n",
       "\n",
       "    .dataframe tbody tr th {\n",
       "        vertical-align: top;\n",
       "    }\n",
       "\n",
       "    .dataframe thead th {\n",
       "        text-align: right;\n",
       "    }\n",
       "</style>\n",
       "<table border=\"1\" class=\"dataframe\">\n",
       "  <thead>\n",
       "    <tr style=\"text-align: right;\">\n",
       "      <th></th>\n",
       "      <th>pos_score</th>\n",
       "      <th>text</th>\n",
       "    </tr>\n",
       "  </thead>\n",
       "  <tbody>\n",
       "    <tr>\n",
       "      <th>43357</th>\n",
       "      <td>0.879</td>\n",
       "      <td>@DestinyTheGame @Bungie Yes yes yes yes YES!</td>\n",
       "    </tr>\n",
       "    <tr>\n",
       "      <th>13358</th>\n",
       "      <td>0.863</td>\n",
       "      <td>god i love destiny 2</td>\n",
       "    </tr>\n",
       "    <tr>\n",
       "      <th>44910</th>\n",
       "      <td>0.792</td>\n",
       "      <td>Brilliant https://t.co/wOPuzbMUQe</td>\n",
       "    </tr>\n",
       "    <tr>\n",
       "      <th>36698</th>\n",
       "      <td>0.787</td>\n",
       "      <td>@Bungie Perfect</td>\n",
       "    </tr>\n",
       "    <tr>\n",
       "      <th>9315</th>\n",
       "      <td>0.782</td>\n",
       "      <td>Destiny 2 is pretty wonderful!</td>\n",
       "    </tr>\n",
       "  </tbody>\n",
       "</table>\n",
       "</div>"
      ],
      "text/plain": [
       "       pos_score                                          text\n",
       "43357      0.879  @DestinyTheGame @Bungie Yes yes yes yes YES!\n",
       "13358      0.863                          god i love destiny 2\n",
       "44910      0.792             Brilliant https://t.co/wOPuzbMUQe\n",
       "36698      0.787                               @Bungie Perfect\n",
       "9315       0.782                Destiny 2 is pretty wonderful!"
      ]
     },
     "execution_count": 385,
     "metadata": {},
     "output_type": "execute_result"
    }
   ],
   "source": [
    "X.sort_values('pos_score', ascending=False).head(5)[['pos_score', 'text']]"
   ]
  },
  {
   "cell_type": "markdown",
   "metadata": {},
   "source": [
    "Most positive compound scores"
   ]
  },
  {
   "cell_type": "code",
   "execution_count": 389,
   "metadata": {},
   "outputs": [
    {
     "data": {
      "text/html": [
       "<div>\n",
       "<style scoped>\n",
       "    .dataframe tbody tr th:only-of-type {\n",
       "        vertical-align: middle;\n",
       "    }\n",
       "\n",
       "    .dataframe tbody tr th {\n",
       "        vertical-align: top;\n",
       "    }\n",
       "\n",
       "    .dataframe thead th {\n",
       "        text-align: right;\n",
       "    }\n",
       "</style>\n",
       "<table border=\"1\" class=\"dataframe\">\n",
       "  <thead>\n",
       "    <tr style=\"text-align: right;\">\n",
       "      <th></th>\n",
       "      <th>comp_score</th>\n",
       "      <th>text</th>\n",
       "    </tr>\n",
       "  </thead>\n",
       "  <tbody>\n",
       "    <tr>\n",
       "      <th>14919</th>\n",
       "      <td>0.9836</td>\n",
       "      <td>AAAAAAHHHH I forgot how fun Destiny 2 is. Gamb...</td>\n",
       "    </tr>\n",
       "    <tr>\n",
       "      <th>20220</th>\n",
       "      <td>0.9686</td>\n",
       "      <td>Honestly loved this quote from the speaker in ...</td>\n",
       "    </tr>\n",
       "    <tr>\n",
       "      <th>20219</th>\n",
       "      <td>0.9686</td>\n",
       "      <td>RT @PlutusAE: Honestly loved this quote from t...</td>\n",
       "    </tr>\n",
       "    <tr>\n",
       "      <th>2650</th>\n",
       "      <td>0.9671</td>\n",
       "      <td>Amazing spicy stream tonight! Very happy to be...</td>\n",
       "    </tr>\n",
       "    <tr>\n",
       "      <th>20771</th>\n",
       "      <td>0.9667</td>\n",
       "      <td>Thanks to everyone for a great stream tonight!...</td>\n",
       "    </tr>\n",
       "  </tbody>\n",
       "</table>\n",
       "</div>"
      ],
      "text/plain": [
       "       comp_score                                               text\n",
       "14919      0.9836  AAAAAAHHHH I forgot how fun Destiny 2 is. Gamb...\n",
       "20220      0.9686  Honestly loved this quote from the speaker in ...\n",
       "20219      0.9686  RT @PlutusAE: Honestly loved this quote from t...\n",
       "2650       0.9671  Amazing spicy stream tonight! Very happy to be...\n",
       "20771      0.9667  Thanks to everyone for a great stream tonight!..."
      ]
     },
     "execution_count": 389,
     "metadata": {},
     "output_type": "execute_result"
    }
   ],
   "source": [
    "X.sort_values('comp_score', ascending=False).head()[['comp_score', 'text']]"
   ]
  },
  {
   "cell_type": "code",
   "execution_count": 390,
   "metadata": {},
   "outputs": [
    {
     "data": {
      "text/plain": [
       "array([ u'AAAAAAHHHH I forgot how fun Destiny 2 is. Gambit Prime is intense but super fun. :) :) :) :0 :)',\n",
       "       u'Honestly loved this quote from the speaker in Destiny 2 \\r\\r\\r\\n\\r\\r\\r\\n\"Devotion inspires bravery, bravery inspires sacrifice, s\\u2026 https://t.co/ai0Ghcm3K9',\n",
       "       u'RT @PlutusAE: Honestly loved this quote from the speaker in Destiny 2 \\r\\r\\r\\n\\r\\r\\r\\n\"Devotion inspires bravery, bravery inspires sacrifice, sacrifice l\\u2026',\n",
       "       u'Amazing spicy stream tonight! Very happy to be sponsored by @mvmt! :D Great little bonus stream tonight and we cont\\u2026 https://t.co/m3zsFLXc4a',\n",
       "       u'Thanks to everyone for a great stream tonight! :D @Splitgate is always a great time, love the changes they keep mak\\u2026 https://t.co/AIDNz8UUzZ'], dtype=object)"
      ]
     },
     "execution_count": 390,
     "metadata": {},
     "output_type": "execute_result"
    }
   ],
   "source": [
    "X.sort_values('comp_score', ascending=False).head().text.values"
   ]
  },
  {
   "cell_type": "markdown",
   "metadata": {},
   "source": [
    "The most neutral scores seem accurate. Mostly full of proper nouns. If I had more time, I'd do some named entity recognition to filter those out."
   ]
  },
  {
   "cell_type": "code",
   "execution_count": 386,
   "metadata": {},
   "outputs": [
    {
     "data": {
      "text/html": [
       "<div>\n",
       "<style scoped>\n",
       "    .dataframe tbody tr th:only-of-type {\n",
       "        vertical-align: middle;\n",
       "    }\n",
       "\n",
       "    .dataframe tbody tr th {\n",
       "        vertical-align: top;\n",
       "    }\n",
       "\n",
       "    .dataframe thead th {\n",
       "        text-align: right;\n",
       "    }\n",
       "</style>\n",
       "<table border=\"1\" class=\"dataframe\">\n",
       "  <thead>\n",
       "    <tr style=\"text-align: right;\">\n",
       "      <th></th>\n",
       "      <th>neu_score</th>\n",
       "      <th>text</th>\n",
       "    </tr>\n",
       "  </thead>\n",
       "  <tbody>\n",
       "    <tr>\n",
       "      <th>21439</th>\n",
       "      <td>1.0</td>\n",
       "      <td>RT @DestinyTheGame: Season of the Drifter is u...</td>\n",
       "    </tr>\n",
       "    <tr>\n",
       "      <th>5765</th>\n",
       "      <td>1.0</td>\n",
       "      <td>RT @chibbyranjo: More Destiny 2 right now! Say...</td>\n",
       "    </tr>\n",
       "    <tr>\n",
       "      <th>40401</th>\n",
       "      <td>1.0</td>\n",
       "      <td>@Bungie Full Reaper set, just need Titan mark ...</td>\n",
       "    </tr>\n",
       "    <tr>\n",
       "      <th>5775</th>\n",
       "      <td>1.0</td>\n",
       "      <td>Finally got my Legend of Acrius upgraded in De...</td>\n",
       "    </tr>\n",
       "    <tr>\n",
       "      <th>28344</th>\n",
       "      <td>1.0</td>\n",
       "      <td>@quickhakker @eurogamer Not really. Most have ...</td>\n",
       "    </tr>\n",
       "  </tbody>\n",
       "</table>\n",
       "</div>"
      ],
      "text/plain": [
       "       neu_score                                               text\n",
       "21439        1.0  RT @DestinyTheGame: Season of the Drifter is u...\n",
       "5765         1.0  RT @chibbyranjo: More Destiny 2 right now! Say...\n",
       "40401        1.0  @Bungie Full Reaper set, just need Titan mark ...\n",
       "5775         1.0  Finally got my Legend of Acrius upgraded in De...\n",
       "28344        1.0  @quickhakker @eurogamer Not really. Most have ..."
      ]
     },
     "execution_count": 386,
     "metadata": {},
     "output_type": "execute_result"
    }
   ],
   "source": [
    "X.sort_values('neu_score', ascending=False).head()[['neu_score', 'text']]"
   ]
  },
  {
   "cell_type": "code",
   "execution_count": 78,
   "metadata": {},
   "outputs": [
    {
     "data": {
      "text/plain": [
       "array([ u'RT @DestinyTheGame: Season of the Drifter is underway and the latest Bungie ViDoc outlines what to expect all season long.\\r\\r\\r\\n\\r\\r\\r\\n\\U0001f4a0 https://t.co/\\u2026',\n",
       "       u'RT @chibbyranjo: More Destiny 2 right now! Say hi! https://t.co/JAMDkkgXPi',\n",
       "       u'@Bungie Full Reaper set, just need Titan mark for full invader set. https://t.co/abtL1X081f',\n",
       "       u'Finally got my Legend of Acrius upgraded in Destiny 2.',\n",
       "       u'@quickhakker @eurogamer Not really. Most have evolved into similar shapes. And bungie designed the ps4 controller.'], dtype=object)"
      ]
     },
     "execution_count": 78,
     "metadata": {},
     "output_type": "execute_result"
    }
   ],
   "source": [
    "X.sort_values('neu_score', ascending=False)['text'].head(5).values"
   ]
  },
  {
   "cell_type": "markdown",
   "metadata": {},
   "source": [
    "#### Scale data\n",
    "\n",
    "Weird options for the time since last official tweet? Some negative values.\n",
    "\n",
    "Put into linear regression. Try out the stock LR with the 3 options for the time_since_last_official_tweet. I am realizing I had an off-by-one error for the timeline tweets. Since I calculated time_since_last_official_tweet, I should have made sure the earliest tweet I had was an official tweet, so I couldn't get negative numbers in this column."
   ]
  },
  {
   "cell_type": "code",
   "execution_count": 79,
   "metadata": {},
   "outputs": [],
   "source": [
    "X = X.drop(columns=['text'])"
   ]
  },
  {
   "cell_type": "code",
   "execution_count": 80,
   "metadata": {},
   "outputs": [
    {
     "name": "stderr",
     "output_type": "stream",
     "text": [
      "C:\\Users\\sebia\\Miniconda2\\lib\\site-packages\\sklearn\\preprocessing\\data.py:323: DataConversionWarning: Data with input dtype bool, float64 were all converted to float64 by MinMaxScaler.\n",
      "  return self.partial_fit(X, y)\n"
     ]
    },
    {
     "data": {
      "text/html": [
       "<div>\n",
       "<style scoped>\n",
       "    .dataframe tbody tr th:only-of-type {\n",
       "        vertical-align: middle;\n",
       "    }\n",
       "\n",
       "    .dataframe tbody tr th {\n",
       "        vertical-align: top;\n",
       "    }\n",
       "\n",
       "    .dataframe thead th {\n",
       "        text-align: right;\n",
       "    }\n",
       "</style>\n",
       "<table border=\"1\" class=\"dataframe\">\n",
       "  <thead>\n",
       "    <tr style=\"text-align: right;\">\n",
       "      <th></th>\n",
       "      <th>user.followers_count</th>\n",
       "      <th>user.friends_count</th>\n",
       "      <th>user.statuses_count</th>\n",
       "      <th>user.verified</th>\n",
       "      <th>is_quote_status</th>\n",
       "      <th>time_since_official_tweet</th>\n",
       "      <th>neg_score</th>\n",
       "      <th>neu_score</th>\n",
       "      <th>pos_score</th>\n",
       "      <th>comp_score</th>\n",
       "    </tr>\n",
       "  </thead>\n",
       "  <tbody>\n",
       "    <tr>\n",
       "      <th>count</th>\n",
       "      <td>46076.000000</td>\n",
       "      <td>46076.000000</td>\n",
       "      <td>46076.000000</td>\n",
       "      <td>46076.000000</td>\n",
       "      <td>46076.000000</td>\n",
       "      <td>46076.000000</td>\n",
       "      <td>46076.000000</td>\n",
       "      <td>46076.000000</td>\n",
       "      <td>46076.000000</td>\n",
       "      <td>46076.000000</td>\n",
       "    </tr>\n",
       "    <tr>\n",
       "      <th>mean</th>\n",
       "      <td>0.000386</td>\n",
       "      <td>0.000534</td>\n",
       "      <td>0.006358</td>\n",
       "      <td>0.008877</td>\n",
       "      <td>0.025111</td>\n",
       "      <td>0.227934</td>\n",
       "      <td>0.056382</td>\n",
       "      <td>0.821525</td>\n",
       "      <td>0.126201</td>\n",
       "      <td>0.570790</td>\n",
       "    </tr>\n",
       "    <tr>\n",
       "      <th>std</th>\n",
       "      <td>0.009455</td>\n",
       "      <td>0.005522</td>\n",
       "      <td>0.028566</td>\n",
       "      <td>0.093798</td>\n",
       "      <td>0.156463</td>\n",
       "      <td>0.199942</td>\n",
       "      <td>0.110105</td>\n",
       "      <td>0.174076</td>\n",
       "      <td>0.152786</td>\n",
       "      <td>0.200912</td>\n",
       "    </tr>\n",
       "    <tr>\n",
       "      <th>min</th>\n",
       "      <td>0.000000</td>\n",
       "      <td>0.000000</td>\n",
       "      <td>0.000000</td>\n",
       "      <td>0.000000</td>\n",
       "      <td>0.000000</td>\n",
       "      <td>0.000000</td>\n",
       "      <td>0.000000</td>\n",
       "      <td>0.000000</td>\n",
       "      <td>0.000000</td>\n",
       "      <td>0.000000</td>\n",
       "    </tr>\n",
       "    <tr>\n",
       "      <th>25%</th>\n",
       "      <td>0.000002</td>\n",
       "      <td>0.000068</td>\n",
       "      <td>0.000212</td>\n",
       "      <td>0.000000</td>\n",
       "      <td>0.000000</td>\n",
       "      <td>0.091039</td>\n",
       "      <td>0.000000</td>\n",
       "      <td>0.701934</td>\n",
       "      <td>0.000000</td>\n",
       "      <td>0.492676</td>\n",
       "    </tr>\n",
       "    <tr>\n",
       "      <th>50%</th>\n",
       "      <td>0.000009</td>\n",
       "      <td>0.000180</td>\n",
       "      <td>0.001014</td>\n",
       "      <td>0.000000</td>\n",
       "      <td>0.000000</td>\n",
       "      <td>0.138829</td>\n",
       "      <td>0.000000</td>\n",
       "      <td>0.837315</td>\n",
       "      <td>0.078498</td>\n",
       "      <td>0.492676</td>\n",
       "    </tr>\n",
       "    <tr>\n",
       "      <th>75%</th>\n",
       "      <td>0.000030</td>\n",
       "      <td>0.000432</td>\n",
       "      <td>0.004059</td>\n",
       "      <td>0.000000</td>\n",
       "      <td>0.000000</td>\n",
       "      <td>0.301792</td>\n",
       "      <td>0.090798</td>\n",
       "      <td>1.000000</td>\n",
       "      <td>0.220705</td>\n",
       "      <td>0.729317</td>\n",
       "    </tr>\n",
       "    <tr>\n",
       "      <th>max</th>\n",
       "      <td>1.000000</td>\n",
       "      <td>1.000000</td>\n",
       "      <td>1.000000</td>\n",
       "      <td>1.000000</td>\n",
       "      <td>1.000000</td>\n",
       "      <td>1.000000</td>\n",
       "      <td>1.000000</td>\n",
       "      <td>1.000000</td>\n",
       "      <td>1.000000</td>\n",
       "      <td>1.000000</td>\n",
       "    </tr>\n",
       "  </tbody>\n",
       "</table>\n",
       "</div>"
      ],
      "text/plain": [
       "       user.followers_count  user.friends_count  user.statuses_count  \\\n",
       "count          46076.000000        46076.000000         46076.000000   \n",
       "mean               0.000386            0.000534             0.006358   \n",
       "std                0.009455            0.005522             0.028566   \n",
       "min                0.000000            0.000000             0.000000   \n",
       "25%                0.000002            0.000068             0.000212   \n",
       "50%                0.000009            0.000180             0.001014   \n",
       "75%                0.000030            0.000432             0.004059   \n",
       "max                1.000000            1.000000             1.000000   \n",
       "\n",
       "       user.verified  is_quote_status  time_since_official_tweet  \\\n",
       "count   46076.000000     46076.000000               46076.000000   \n",
       "mean        0.008877         0.025111                   0.227934   \n",
       "std         0.093798         0.156463                   0.199942   \n",
       "min         0.000000         0.000000                   0.000000   \n",
       "25%         0.000000         0.000000                   0.091039   \n",
       "50%         0.000000         0.000000                   0.138829   \n",
       "75%         0.000000         0.000000                   0.301792   \n",
       "max         1.000000         1.000000                   1.000000   \n",
       "\n",
       "          neg_score     neu_score     pos_score    comp_score  \n",
       "count  46076.000000  46076.000000  46076.000000  46076.000000  \n",
       "mean       0.056382      0.821525      0.126201      0.570790  \n",
       "std        0.110105      0.174076      0.152786      0.200912  \n",
       "min        0.000000      0.000000      0.000000      0.000000  \n",
       "25%        0.000000      0.701934      0.000000      0.492676  \n",
       "50%        0.000000      0.837315      0.078498      0.492676  \n",
       "75%        0.090798      1.000000      0.220705      0.729317  \n",
       "max        1.000000      1.000000      1.000000      1.000000  "
      ]
     },
     "execution_count": 80,
     "metadata": {},
     "output_type": "execute_result"
    }
   ],
   "source": [
    "from sklearn.preprocessing import MinMaxScaler\n",
    "\n",
    "scaler = MinMaxScaler()\n",
    "X_scaled = pd.DataFrame(scaler.fit_transform(X), columns=X.columns)\n",
    "X_scaled.describe()"
   ]
  },
  {
   "cell_type": "code",
   "execution_count": 81,
   "metadata": {},
   "outputs": [],
   "source": [
    "from sklearn.model_selection import train_test_split\n",
    "\n",
    "X_train, X_test, y_train, y_test = train_test_split(X_scaled,\n",
    "                                                    y,\n",
    "                                                    test_size=0.3,\n",
    "                                                    random_state=6)"
   ]
  },
  {
   "cell_type": "code",
   "execution_count": 82,
   "metadata": {},
   "outputs": [
    {
     "name": "stdout",
     "output_type": "stream",
     "text": [
      "-2.24379717813e-05\n"
     ]
    }
   ],
   "source": [
    "from sklearn.linear_model import LinearRegression\n",
    "from sklearn.metrics import accuracy_score\n",
    "\n",
    "lr_model = LinearRegression()\n",
    "lr_model.fit(X_train, y_train)\n",
    "print(lr_model.score(X_test, y_test))"
   ]
  },
  {
   "cell_type": "markdown",
   "metadata": {},
   "source": [
    "That score is REALLY bad. It's basically nonsense.\n",
    "\n",
    "Try with unscaled data?"
   ]
  },
  {
   "cell_type": "code",
   "execution_count": 83,
   "metadata": {},
   "outputs": [
    {
     "name": "stdout",
     "output_type": "stream",
     "text": [
      "-2.24379717813e-05\n"
     ]
    }
   ],
   "source": [
    "X_train, X_test, y_train, y_test = train_test_split(X,\n",
    "                                                    y,\n",
    "                                                    test_size=0.3,\n",
    "                                                    random_state=6)\n",
    "lr_model = LinearRegression()\n",
    "lr_model.fit(X_train, y_train)\n",
    "print(lr_model.score(X_test, y_test))"
   ]
  },
  {
   "cell_type": "markdown",
   "metadata": {},
   "source": [
    "Similar Result\n",
    "\n",
    "Let's see if this works better with a different format for the time column"
   ]
  },
  {
   "cell_type": "markdown",
   "metadata": {},
   "source": [
    "Need to make the infinite values finite (since 0 values become infinite when you take the reciprocal)"
   ]
  },
  {
   "cell_type": "code",
   "execution_count": 85,
   "metadata": {},
   "outputs": [
    {
     "name": "stderr",
     "output_type": "stream",
     "text": [
      "C:\\Users\\sebia\\Miniconda2\\lib\\site-packages\\sklearn\\preprocessing\\data.py:323: DataConversionWarning: Data with input dtype bool, float64 were all converted to float64 by MinMaxScaler.\n",
      "  return self.partial_fit(X, y)\n"
     ]
    }
   ],
   "source": [
    "import sys\n",
    "\n",
    "X_time_inv = X\n",
    "X_time_inv.loc[:, 'time_since_official_tweet_inv'] = 1 / X_time_inv['time_since_official_tweet']\n",
    "#X_time_inv = X_time_inv.drop(columns=['time_since_official_tweet'])\n",
    "X_time_inv.loc[X_time_inv['time_since_official_tweet_inv'] == np.inf, 'time_since_official_tweet_inv'] = sys.float_info.max\n",
    "X_time_inv_scaled = pd.DataFrame(scaler.fit_transform(X_time_inv), columns=X_time_inv.columns)"
   ]
  },
  {
   "cell_type": "code",
   "execution_count": 87,
   "metadata": {},
   "outputs": [
    {
     "name": "stdout",
     "output_type": "stream",
     "text": [
      "-0.000375067663674\n"
     ]
    }
   ],
   "source": [
    "X_train, X_test, y_train, y_test = train_test_split(X_time_inv_scaled.drop(columns=['time_since_official_tweet']),\n",
    "                                                    y,\n",
    "                                                    test_size=0.3,\n",
    "                                                    random_state=6)\n",
    "lr_model = LinearRegression()\n",
    "lr_model.fit(X_train, y_train)\n",
    "print(lr_model.score(X_test, y_test))"
   ]
  },
  {
   "cell_type": "markdown",
   "metadata": {},
   "source": [
    "Let's try the exponential decay"
   ]
  },
  {
   "cell_type": "code",
   "execution_count": 91,
   "metadata": {},
   "outputs": [
    {
     "name": "stderr",
     "output_type": "stream",
     "text": [
      "C:\\Users\\sebia\\Miniconda2\\lib\\site-packages\\sklearn\\preprocessing\\data.py:323: DataConversionWarning: Data with input dtype bool, float64 were all converted to float64 by MinMaxScaler.\n",
      "  return self.partial_fit(X, y)\n"
     ]
    }
   ],
   "source": [
    "X_time_exp = X\n",
    "X_time_exp.loc[:, 'time_since_official_tweet_exp'] = np.exp(-X_time_exp['time_since_official_tweet'])\n",
    "#X_time_exp = X_time_exp.drop(columns=['time_since_official_tweet', 'time_since_official_tweet_inv'])\n",
    "X_time_exp.loc[X_time_exp['time_since_official_tweet_exp'] == np.inf, 'time_since_official_tweet_exp'] = sys.float_info.max\n",
    "X_time_exp_scaled = pd.DataFrame(scaler.fit_transform(X_time_exp), columns=X_time_exp.columns)"
   ]
  },
  {
   "cell_type": "code",
   "execution_count": 92,
   "metadata": {},
   "outputs": [
    {
     "name": "stdout",
     "output_type": "stream",
     "text": [
      "-3.14236679566e-05\n"
     ]
    }
   ],
   "source": [
    "X_train, X_test, y_train, y_test = train_test_split(X_time_exp.drop(columns=['time_since_official_tweet', 'time_since_official_tweet_inv']),\n",
    "                                                    y,\n",
    "                                                    test_size=0.3,\n",
    "                                                    random_state=6)\n",
    "lr_model = LinearRegression()\n",
    "lr_model.fit(X_train, y_train)\n",
    "print(lr_model.score(X_test, y_test))"
   ]
  },
  {
   "cell_type": "markdown",
   "metadata": {},
   "source": [
    "Still terrible.\n",
    "\n",
    "I think I should remove the negative time values. They are just causing too many problems with formatting and scaling, and don't constitute a significant portion of the data. Let's drop the negative time values from X and make sure we get the corresponding predictor variables.\n",
    "\n",
    "Also, since the inverse time values are messy when the time values are very small, let's just try the negative linear and exponential decay models."
   ]
  },
  {
   "cell_type": "code",
   "execution_count": 96,
   "metadata": {},
   "outputs": [],
   "source": [
    "y = normal_tweet_df[normal_tweet_df['time_since_official_tweet'].astype('timedelta64[m]') >= 0]['retweet_count']\n",
    "X_no_neg = normal_tweet_df[normal_tweet_df['time_since_official_tweet'].astype('timedelta64[m]') >= 0][x_cols]\n",
    "X_no_neg.loc[:, 'time_since_official_tweet'] = X_no_neg['time_since_official_tweet'].astype('timedelta64[m]')\n",
    "X_no_neg = get_vader_sentiment_scores(X_no_neg, 'text', ['neg_score', 'neu_score', 'pos_score', 'comp_score'])\n",
    "X_no_neg = X_no_neg.drop(columns=['text'])"
   ]
  },
  {
   "cell_type": "code",
   "execution_count": 97,
   "metadata": {},
   "outputs": [
    {
     "data": {
      "text/html": [
       "<div>\n",
       "<style scoped>\n",
       "    .dataframe tbody tr th:only-of-type {\n",
       "        vertical-align: middle;\n",
       "    }\n",
       "\n",
       "    .dataframe tbody tr th {\n",
       "        vertical-align: top;\n",
       "    }\n",
       "\n",
       "    .dataframe thead th {\n",
       "        text-align: right;\n",
       "    }\n",
       "</style>\n",
       "<table border=\"1\" class=\"dataframe\">\n",
       "  <thead>\n",
       "    <tr style=\"text-align: right;\">\n",
       "      <th></th>\n",
       "      <th>user.followers_count</th>\n",
       "      <th>user.friends_count</th>\n",
       "      <th>user.statuses_count</th>\n",
       "      <th>user.verified</th>\n",
       "      <th>is_quote_status</th>\n",
       "      <th>time_since_official_tweet</th>\n",
       "      <th>neg_score</th>\n",
       "      <th>neu_score</th>\n",
       "      <th>pos_score</th>\n",
       "      <th>comp_score</th>\n",
       "    </tr>\n",
       "  </thead>\n",
       "  <tbody>\n",
       "    <tr>\n",
       "      <th>21174</th>\n",
       "      <td>1451.0</td>\n",
       "      <td>2179.0</td>\n",
       "      <td>38287.0</td>\n",
       "      <td>False</td>\n",
       "      <td>0.0</td>\n",
       "      <td>1.0</td>\n",
       "      <td>0.000</td>\n",
       "      <td>1.000</td>\n",
       "      <td>0.000</td>\n",
       "      <td>0.0000</td>\n",
       "    </tr>\n",
       "    <tr>\n",
       "      <th>21173</th>\n",
       "      <td>28.0</td>\n",
       "      <td>81.0</td>\n",
       "      <td>570.0</td>\n",
       "      <td>False</td>\n",
       "      <td>0.0</td>\n",
       "      <td>1.0</td>\n",
       "      <td>0.093</td>\n",
       "      <td>0.848</td>\n",
       "      <td>0.059</td>\n",
       "      <td>-0.2144</td>\n",
       "    </tr>\n",
       "    <tr>\n",
       "      <th>21172</th>\n",
       "      <td>663.0</td>\n",
       "      <td>1987.0</td>\n",
       "      <td>6231.0</td>\n",
       "      <td>False</td>\n",
       "      <td>0.0</td>\n",
       "      <td>2.0</td>\n",
       "      <td>0.000</td>\n",
       "      <td>1.000</td>\n",
       "      <td>0.000</td>\n",
       "      <td>0.0000</td>\n",
       "    </tr>\n",
       "    <tr>\n",
       "      <th>21171</th>\n",
       "      <td>1086.0</td>\n",
       "      <td>499.0</td>\n",
       "      <td>9351.0</td>\n",
       "      <td>False</td>\n",
       "      <td>0.0</td>\n",
       "      <td>3.0</td>\n",
       "      <td>0.000</td>\n",
       "      <td>0.793</td>\n",
       "      <td>0.207</td>\n",
       "      <td>0.2714</td>\n",
       "    </tr>\n",
       "    <tr>\n",
       "      <th>21170</th>\n",
       "      <td>1469.0</td>\n",
       "      <td>671.0</td>\n",
       "      <td>6912.0</td>\n",
       "      <td>False</td>\n",
       "      <td>0.0</td>\n",
       "      <td>4.0</td>\n",
       "      <td>0.000</td>\n",
       "      <td>1.000</td>\n",
       "      <td>0.000</td>\n",
       "      <td>0.0000</td>\n",
       "    </tr>\n",
       "  </tbody>\n",
       "</table>\n",
       "</div>"
      ],
      "text/plain": [
       "       user.followers_count  user.friends_count  user.statuses_count  \\\n",
       "21174                1451.0              2179.0              38287.0   \n",
       "21173                  28.0                81.0                570.0   \n",
       "21172                 663.0              1987.0               6231.0   \n",
       "21171                1086.0               499.0               9351.0   \n",
       "21170                1469.0               671.0               6912.0   \n",
       "\n",
       "       user.verified  is_quote_status  time_since_official_tweet  neg_score  \\\n",
       "21174          False              0.0                        1.0      0.000   \n",
       "21173          False              0.0                        1.0      0.093   \n",
       "21172          False              0.0                        2.0      0.000   \n",
       "21171          False              0.0                        3.0      0.000   \n",
       "21170          False              0.0                        4.0      0.000   \n",
       "\n",
       "       neu_score  pos_score  comp_score  \n",
       "21174      1.000      0.000      0.0000  \n",
       "21173      0.848      0.059     -0.2144  \n",
       "21172      1.000      0.000      0.0000  \n",
       "21171      0.793      0.207      0.2714  \n",
       "21170      1.000      0.000      0.0000  "
      ]
     },
     "execution_count": 97,
     "metadata": {},
     "output_type": "execute_result"
    }
   ],
   "source": [
    "X_no_neg.head()"
   ]
  },
  {
   "cell_type": "code",
   "execution_count": 98,
   "metadata": {},
   "outputs": [
    {
     "name": "stdout",
     "output_type": "stream",
     "text": [
      "0.000434505457134\n"
     ]
    },
    {
     "name": "stderr",
     "output_type": "stream",
     "text": [
      "C:\\Users\\sebia\\Miniconda2\\lib\\site-packages\\sklearn\\preprocessing\\data.py:323: DataConversionWarning: Data with input dtype bool, float64 were all converted to float64 by MinMaxScaler.\n",
      "  return self.partial_fit(X, y)\n"
     ]
    }
   ],
   "source": [
    "scaler = MinMaxScaler()\n",
    "X_no_neg_scaled = pd.DataFrame(scaler.fit_transform(X_no_neg), columns=X_no_neg.columns)\n",
    "X_train, X_test, y_train, y_test = train_test_split(X_no_neg_scaled,\n",
    "                                                    y,\n",
    "                                                    test_size=0.3,\n",
    "                                                    random_state=6)\n",
    "lr_model = LinearRegression()\n",
    "lr_model.fit(X_train, y_train)\n",
    "print(lr_model.score(X_test, y_test))"
   ]
  },
  {
   "cell_type": "code",
   "execution_count": 102,
   "metadata": {},
   "outputs": [
    {
     "name": "stdout",
     "output_type": "stream",
     "text": [
      "0.000634154774387\n"
     ]
    },
    {
     "name": "stderr",
     "output_type": "stream",
     "text": [
      "C:\\Users\\sebia\\Miniconda2\\lib\\site-packages\\sklearn\\preprocessing\\data.py:323: DataConversionWarning: Data with input dtype bool, float64 were all converted to float64 by MinMaxScaler.\n",
      "  return self.partial_fit(X, y)\n"
     ]
    }
   ],
   "source": [
    "X_exp_no_neg = X_no_neg\n",
    "X_exp_no_neg.loc[:, 'time_since_official_tweet_exp'] = np.exp(-X_exp_no_neg['time_since_official_tweet'])\n",
    "\n",
    "scaler = MinMaxScaler()\n",
    "X_exp_no_neg_scaled = pd.DataFrame(scaler.fit_transform(X_exp_no_neg), columns=X_exp_no_neg.columns)\n",
    "X_train, X_test, y_train, y_test = train_test_split(X_exp_no_neg_scaled.drop(columns=['time_since_official_tweet']),\n",
    "                                                    y,\n",
    "                                                    test_size=0.3,\n",
    "                                                    random_state=6)\n",
    "\n",
    "lr_model = LinearRegression()\n",
    "lr_model.fit(X_train, y_train)\n",
    "print(lr_model.score(X_test, y_test))"
   ]
  },
  {
   "cell_type": "markdown",
   "metadata": {},
   "source": [
    "### Linear Regression Didn't Work\n",
    "\n",
    "The linear regressions did not pan out AT ALL. It's too difficult to predict exact retweet numbers. I think part of this is that a lot of popularity on Twitter can be random / lucky. \n",
    "\n",
    "So\n",
    "\n",
    "It was suggested to try a Random Forest Regression."
   ]
  },
  {
   "cell_type": "code",
   "execution_count": 104,
   "metadata": {},
   "outputs": [
    {
     "name": "stdout",
     "output_type": "stream",
     "text": [
      "-0.0725622946657\n"
     ]
    }
   ],
   "source": [
    "from sklearn.ensemble import RandomForestRegressor\n",
    "\n",
    "rfr = RandomForestRegressor(random_state=6)\n",
    "rfr.fit(X_train, y_train)\n",
    "print(rfr.score(X_test, y_test))"
   ]
  },
  {
   "cell_type": "markdown",
   "metadata": {},
   "source": [
    "Ow. That's not very good either."
   ]
  },
  {
   "cell_type": "markdown",
   "metadata": {},
   "source": [
    "## Classification Algorithm\n",
    "\n",
    "I want to change this to a classification algorithm. Predict whether the number of retweets will fall into one of the following ranges (categories):\n",
    "\n",
    "    Class 0: 0 - 99 retweets\n",
    "    Class 1: 100 - 9999 retweets\n",
    "    Class 2: 10000+ retweets\n",
    "    \n",
    "I will try algorithms kNN and random forests.\n",
    "\n",
    "I need to make the new class predictor variables. I don't have to do this to the tweet dataframe, I can just change y. This also allows me to keep my features from before."
   ]
  },
  {
   "cell_type": "code",
   "execution_count": 120,
   "metadata": {},
   "outputs": [
    {
     "data": {
      "text/plain": [
       "array([  0.,   0.,   3., ...,  40.,  40.,  40.])"
      ]
     },
     "execution_count": 120,
     "metadata": {},
     "output_type": "execute_result"
    }
   ],
   "source": [
    "y.values"
   ]
  },
  {
   "cell_type": "code",
   "execution_count": 121,
   "metadata": {},
   "outputs": [
    {
     "data": {
      "text/plain": [
       "array([0, 0, 0, ..., 0, 0, 0], dtype=int64)"
      ]
     },
     "execution_count": 121,
     "metadata": {},
     "output_type": "execute_result"
    }
   ],
   "source": [
    "y_classes = y.apply(lambda x: 0 if x < 100 else (1 if x < 10000 else 2))\n",
    "y_classes.values"
   ]
  },
  {
   "cell_type": "code",
   "execution_count": 122,
   "metadata": {},
   "outputs": [
    {
     "data": {
      "text/plain": [
       "0    37874\n",
       "1     7824\n",
       "2      114\n",
       "Name: retweet_count, dtype: int64"
      ]
     },
     "execution_count": 122,
     "metadata": {},
     "output_type": "execute_result"
    }
   ],
   "source": [
    "y_classes.value_counts()"
   ]
  },
  {
   "cell_type": "markdown",
   "metadata": {},
   "source": [
    "Here are the features again with the exponential decay of the time column"
   ]
  },
  {
   "cell_type": "code",
   "execution_count": 125,
   "metadata": {},
   "outputs": [
    {
     "data": {
      "text/html": [
       "<div>\n",
       "<style scoped>\n",
       "    .dataframe tbody tr th:only-of-type {\n",
       "        vertical-align: middle;\n",
       "    }\n",
       "\n",
       "    .dataframe tbody tr th {\n",
       "        vertical-align: top;\n",
       "    }\n",
       "\n",
       "    .dataframe thead th {\n",
       "        text-align: right;\n",
       "    }\n",
       "</style>\n",
       "<table border=\"1\" class=\"dataframe\">\n",
       "  <thead>\n",
       "    <tr style=\"text-align: right;\">\n",
       "      <th></th>\n",
       "      <th>user.followers_count</th>\n",
       "      <th>user.friends_count</th>\n",
       "      <th>user.statuses_count</th>\n",
       "      <th>user.verified</th>\n",
       "      <th>is_quote_status</th>\n",
       "      <th>time_since_official_tweet</th>\n",
       "      <th>neg_score</th>\n",
       "      <th>neu_score</th>\n",
       "      <th>pos_score</th>\n",
       "      <th>comp_score</th>\n",
       "      <th>time_since_official_tweet_exp</th>\n",
       "    </tr>\n",
       "  </thead>\n",
       "  <tbody>\n",
       "    <tr>\n",
       "      <th>21174</th>\n",
       "      <td>1451.0</td>\n",
       "      <td>2179.0</td>\n",
       "      <td>38287.0</td>\n",
       "      <td>False</td>\n",
       "      <td>0.0</td>\n",
       "      <td>1.0</td>\n",
       "      <td>0.000</td>\n",
       "      <td>1.000</td>\n",
       "      <td>0.000</td>\n",
       "      <td>0.0000</td>\n",
       "      <td>0.367879</td>\n",
       "    </tr>\n",
       "    <tr>\n",
       "      <th>21173</th>\n",
       "      <td>28.0</td>\n",
       "      <td>81.0</td>\n",
       "      <td>570.0</td>\n",
       "      <td>False</td>\n",
       "      <td>0.0</td>\n",
       "      <td>1.0</td>\n",
       "      <td>0.093</td>\n",
       "      <td>0.848</td>\n",
       "      <td>0.059</td>\n",
       "      <td>-0.2144</td>\n",
       "      <td>0.367879</td>\n",
       "    </tr>\n",
       "    <tr>\n",
       "      <th>21172</th>\n",
       "      <td>663.0</td>\n",
       "      <td>1987.0</td>\n",
       "      <td>6231.0</td>\n",
       "      <td>False</td>\n",
       "      <td>0.0</td>\n",
       "      <td>2.0</td>\n",
       "      <td>0.000</td>\n",
       "      <td>1.000</td>\n",
       "      <td>0.000</td>\n",
       "      <td>0.0000</td>\n",
       "      <td>0.135335</td>\n",
       "    </tr>\n",
       "    <tr>\n",
       "      <th>21171</th>\n",
       "      <td>1086.0</td>\n",
       "      <td>499.0</td>\n",
       "      <td>9351.0</td>\n",
       "      <td>False</td>\n",
       "      <td>0.0</td>\n",
       "      <td>3.0</td>\n",
       "      <td>0.000</td>\n",
       "      <td>0.793</td>\n",
       "      <td>0.207</td>\n",
       "      <td>0.2714</td>\n",
       "      <td>0.049787</td>\n",
       "    </tr>\n",
       "    <tr>\n",
       "      <th>21170</th>\n",
       "      <td>1469.0</td>\n",
       "      <td>671.0</td>\n",
       "      <td>6912.0</td>\n",
       "      <td>False</td>\n",
       "      <td>0.0</td>\n",
       "      <td>4.0</td>\n",
       "      <td>0.000</td>\n",
       "      <td>1.000</td>\n",
       "      <td>0.000</td>\n",
       "      <td>0.0000</td>\n",
       "      <td>0.018316</td>\n",
       "    </tr>\n",
       "  </tbody>\n",
       "</table>\n",
       "</div>"
      ],
      "text/plain": [
       "       user.followers_count  user.friends_count  user.statuses_count  \\\n",
       "21174                1451.0              2179.0              38287.0   \n",
       "21173                  28.0                81.0                570.0   \n",
       "21172                 663.0              1987.0               6231.0   \n",
       "21171                1086.0               499.0               9351.0   \n",
       "21170                1469.0               671.0               6912.0   \n",
       "\n",
       "       user.verified  is_quote_status  time_since_official_tweet  neg_score  \\\n",
       "21174          False              0.0                        1.0      0.000   \n",
       "21173          False              0.0                        1.0      0.093   \n",
       "21172          False              0.0                        2.0      0.000   \n",
       "21171          False              0.0                        3.0      0.000   \n",
       "21170          False              0.0                        4.0      0.000   \n",
       "\n",
       "       neu_score  pos_score  comp_score  time_since_official_tweet_exp  \n",
       "21174      1.000      0.000      0.0000                       0.367879  \n",
       "21173      0.848      0.059     -0.2144                       0.367879  \n",
       "21172      1.000      0.000      0.0000                       0.135335  \n",
       "21171      0.793      0.207      0.2714                       0.049787  \n",
       "21170      1.000      0.000      0.0000                       0.018316  "
      ]
     },
     "execution_count": 125,
     "metadata": {},
     "output_type": "execute_result"
    }
   ],
   "source": [
    "X_exp_no_neg.head()"
   ]
  },
  {
   "cell_type": "code",
   "execution_count": 127,
   "metadata": {},
   "outputs": [
    {
     "name": "stderr",
     "output_type": "stream",
     "text": [
      "C:\\Users\\sebia\\Miniconda2\\lib\\site-packages\\sklearn\\preprocessing\\data.py:323: DataConversionWarning: Data with input dtype bool, float64 were all converted to float64 by MinMaxScaler.\n",
      "  return self.partial_fit(X, y)\n"
     ]
    },
    {
     "name": "stdout",
     "output_type": "stream",
     "text": [
      "0.901484284051\n"
     ]
    }
   ],
   "source": [
    "from sklearn.neighbors import KNeighborsClassifier\n",
    "\n",
    "scaler = MinMaxScaler()\n",
    "X_exp_no_neg_scaled = pd.DataFrame(scaler.fit_transform(X_exp_no_neg), columns=X_exp_no_neg.columns)\n",
    "X_train, X_test, y_train, y_test = train_test_split(X_exp_no_neg_scaled.drop(columns=['time_since_official_tweet']),\n",
    "                                                    y_classes,\n",
    "                                                    test_size=0.3,\n",
    "                                                    random_state=6,\n",
    "                                                    stratify=y_classes)\n",
    "\n",
    "knc = KNeighborsClassifier()\n",
    "knc.fit(X_train, y_train)\n",
    "print(knc.score(X_test, y_test))"
   ]
  },
  {
   "cell_type": "markdown",
   "metadata": {},
   "source": [
    "Much better! Let's do some hyperparameter tuning."
   ]
  },
  {
   "cell_type": "code",
   "execution_count": 129,
   "metadata": {},
   "outputs": [
    {
     "data": {
      "text/plain": [
       "GridSearchCV(cv=5, error_score='raise-deprecating',\n",
       "       estimator=KNeighborsClassifier(algorithm='auto', leaf_size=30, metric='minkowski',\n",
       "           metric_params=None, n_jobs=None, n_neighbors=5, p=2,\n",
       "           weights='uniform'),\n",
       "       fit_params=None, iid='warn', n_jobs=None,\n",
       "       param_grid={'n_neighbors': [5, 10, 50], 'weights': ['uniform', 'distance'], 'algorithm': ['auto', 'ball_tree', 'kd_tree', 'brute']},\n",
       "       pre_dispatch='2*n_jobs', refit=True, return_train_score=True,\n",
       "       scoring=None, verbose=0)"
      ]
     },
     "execution_count": 129,
     "metadata": {},
     "output_type": "execute_result"
    }
   ],
   "source": [
    "from sklearn.model_selection import GridSearchCV\n",
    "\n",
    "knc_params = {'n_neighbors': [5, 10, 50],\n",
    "              'weights': ['uniform', 'distance'],\n",
    "              'algorithm': ['auto', 'ball_tree', 'kd_tree', 'brute']}\n",
    "\n",
    "knc_gs = GridSearchCV(KNeighborsClassifier(),\n",
    "                      param_grid=knc_params,\n",
    "                      cv=5,\n",
    "                      return_train_score=True)\n",
    "\n",
    "# Make sure to stratify the data\n",
    "knc_gs.fit(X_train, y_train, groups=y_train)"
   ]
  },
  {
   "cell_type": "code",
   "execution_count": 130,
   "metadata": {},
   "outputs": [
    {
     "data": {
      "text/plain": [
       "KNeighborsClassifier(algorithm='ball_tree', leaf_size=30, metric='minkowski',\n",
       "           metric_params=None, n_jobs=None, n_neighbors=10, p=2,\n",
       "           weights='distance')"
      ]
     },
     "execution_count": 130,
     "metadata": {},
     "output_type": "execute_result"
    }
   ],
   "source": [
    "knc_gs.best_estimator_"
   ]
  },
  {
   "cell_type": "code",
   "execution_count": 132,
   "metadata": {},
   "outputs": [
    {
     "data": {
      "text/plain": [
       "0.91427591368342276"
      ]
     },
     "execution_count": 132,
     "metadata": {},
     "output_type": "execute_result"
    }
   ],
   "source": [
    "knc_gs.best_score_"
   ]
  },
  {
   "cell_type": "code",
   "execution_count": 133,
   "metadata": {},
   "outputs": [
    {
     "data": {
      "text/plain": [
       "0.91494470314318976"
      ]
     },
     "execution_count": 133,
     "metadata": {},
     "output_type": "execute_result"
    }
   ],
   "source": [
    "knc_gs.score(X_test, y_test)"
   ]
  },
  {
   "cell_type": "code",
   "execution_count": 139,
   "metadata": {},
   "outputs": [],
   "source": [
    "from sklearn.metrics import confusion_matrix, classification_report\n",
    "\n",
    "y_classes_pred = knc_gs.predict(X_test)"
   ]
  },
  {
   "cell_type": "markdown",
   "metadata": {},
   "source": [
    "C_i,j is the number of predictions of class i that were predicted to be class j.\n",
    "\n",
    "ie False negatives are C_0,1 for classes 0 and 1.\n",
    "\n",
    "The confusion matrix predicts class 0 incorrectly more often than other classes, which makes sense, because class 0 is most of the data.\n",
    "\n",
    "There was a huge chunk of class 2 tweets that were predicted to be class 0. Looking at the classification report, the precision and recall are worse for class 1 than class 0, and worse for class 2 than any other class."
   ]
  },
  {
   "cell_type": "code",
   "execution_count": 136,
   "metadata": {},
   "outputs": [
    {
     "data": {
      "text/plain": [
       "array([[11020,   340,     3],\n",
       "       [  800,  1546,     1],\n",
       "       [   25,     0,     9]], dtype=int64)"
      ]
     },
     "execution_count": 136,
     "metadata": {},
     "output_type": "execute_result"
    }
   ],
   "source": [
    "confusion_matrix(y_test, y_classes_pred)"
   ]
  },
  {
   "cell_type": "code",
   "execution_count": 141,
   "metadata": {},
   "outputs": [
    {
     "name": "stdout",
     "output_type": "stream",
     "text": [
      "              precision    recall  f1-score   support\n",
      "\n",
      "           0       0.93      0.97      0.95     11363\n",
      "           1       0.82      0.66      0.73      2347\n",
      "           2       0.69      0.26      0.38        34\n",
      "\n",
      "   micro avg       0.91      0.91      0.91     13744\n",
      "   macro avg       0.81      0.63      0.69     13744\n",
      "weighted avg       0.91      0.91      0.91     13744\n",
      "\n"
     ]
    }
   ],
   "source": [
    "print(classification_report(y_test, y_classes_pred))"
   ]
  },
  {
   "cell_type": "markdown",
   "metadata": {},
   "source": [
    "These results are not accurate for the 2nd or 3rd class. For reference, if the algorithm guessed class 0 every time, the accuracy would be ~82.6%. If the algorithm guessed the 0th or 1st classes correctly, but never the 2nd class, the accuracy would be ~99.7%."
   ]
  },
  {
   "cell_type": "markdown",
   "metadata": {},
   "source": [
    "### Interpretation Problem\n",
    "\n",
    "Wait. How do I get the results of the fit? What did it use to make the classification predictions?\n",
    "\n",
    "I could remove features and see which ones make it the worst, but that is a lot of work.\n",
    "\n",
    "I will try a random forest algorithm with and without upsampled data. The random forest has feature importances, so I can extract insights from the algorithm needed to answer the data science questions. Hopefully, the random forest predicts similarly to the kNN algorithm."
   ]
  },
  {
   "cell_type": "code",
   "execution_count": 143,
   "metadata": {},
   "outputs": [
    {
     "data": {
      "text/plain": [
       "0    37874\n",
       "1     7824\n",
       "2      114\n",
       "Name: retweet_count, dtype: int64"
      ]
     },
     "execution_count": 143,
     "metadata": {},
     "output_type": "execute_result"
    }
   ],
   "source": [
    "y_classes.value_counts()"
   ]
  },
  {
   "cell_type": "code",
   "execution_count": 149,
   "metadata": {},
   "outputs": [
    {
     "name": "stdout",
     "output_type": "stream",
     "text": [
      "There is 4.84 times more data in class 0 than class 1.\n"
     ]
    }
   ],
   "source": [
    "print(\"There is %.2f times more data in class 0 than class 1.\" % (y_classes.value_counts()[0] /\n",
    "                                                                  (1.0 * y_classes.value_counts()[1])))"
   ]
  },
  {
   "cell_type": "code",
   "execution_count": 153,
   "metadata": {},
   "outputs": [
    {
     "name": "stdout",
     "output_type": "stream",
     "text": [
      "There is 332.23 times more data in class 0 than class 2.\n"
     ]
    }
   ],
   "source": [
    "print(\"There is %.2f times more data in class 0 than class 2.\" % (y_classes.value_counts()[0] /\n",
    "                                                                  (1.0 * y_classes.value_counts()[2])))"
   ]
  },
  {
   "cell_type": "markdown",
   "metadata": {},
   "source": [
    "### Upsample the Data\n",
    "\n",
    "I can repeat the class 1 data 5 times and the class 2 data 332 time.\n",
    "\n",
    "This acquires all the class 0 data. The boolean list 'y_classes == 0' can be used to extract the proper feature rows from X."
   ]
  },
  {
   "cell_type": "code",
   "execution_count": 156,
   "metadata": {},
   "outputs": [
    {
     "data": {
      "text/plain": [
       "0    37874\n",
       "Name: retweet_count, dtype: int64"
      ]
     },
     "execution_count": 156,
     "metadata": {},
     "output_type": "execute_result"
    }
   ],
   "source": [
    "y_classes[y_classes == 0].value_counts()"
   ]
  },
  {
   "cell_type": "code",
   "execution_count": 158,
   "metadata": {},
   "outputs": [
    {
     "data": {
      "text/plain": [
       "37874"
      ]
     },
     "execution_count": 158,
     "metadata": {},
     "output_type": "execute_result"
    }
   ],
   "source": [
    "len(X_exp_no_neg[y_classes == 0])"
   ]
  },
  {
   "cell_type": "markdown",
   "metadata": {},
   "source": [
    "For class 1, I want to add 4 copies of the corresponding data to the existing data."
   ]
  },
  {
   "cell_type": "code",
   "execution_count": 165,
   "metadata": {},
   "outputs": [
    {
     "data": {
      "text/plain": [
       "1    7824\n",
       "Name: retweet_count, dtype: int64"
      ]
     },
     "execution_count": 165,
     "metadata": {},
     "output_type": "execute_result"
    }
   ],
   "source": [
    "y_classes[y_classes == 1].value_counts()"
   ]
  },
  {
   "cell_type": "code",
   "execution_count": 169,
   "metadata": {},
   "outputs": [
    {
     "data": {
      "text/plain": [
       "1    39120\n",
       "Name: retweet_count, dtype: int64"
      ]
     },
     "execution_count": 169,
     "metadata": {},
     "output_type": "execute_result"
    }
   ],
   "source": [
    "y_classes[y_classes == 1].append([y_classes[y_classes == 1]]*4, ignore_index=True).value_counts()"
   ]
  },
  {
   "cell_type": "code",
   "execution_count": 170,
   "metadata": {},
   "outputs": [
    {
     "data": {
      "text/plain": [
       "39120"
      ]
     },
     "execution_count": 170,
     "metadata": {},
     "output_type": "execute_result"
    }
   ],
   "source": [
    "len(X_exp_no_neg[y_classes == 1].append([X_exp_no_neg[y_classes == 1]]*4, ignore_index=True))"
   ]
  },
  {
   "cell_type": "code",
   "execution_count": 171,
   "metadata": {},
   "outputs": [
    {
     "data": {
      "text/html": [
       "<div>\n",
       "<style scoped>\n",
       "    .dataframe tbody tr th:only-of-type {\n",
       "        vertical-align: middle;\n",
       "    }\n",
       "\n",
       "    .dataframe tbody tr th {\n",
       "        vertical-align: top;\n",
       "    }\n",
       "\n",
       "    .dataframe thead th {\n",
       "        text-align: right;\n",
       "    }\n",
       "</style>\n",
       "<table border=\"1\" class=\"dataframe\">\n",
       "  <thead>\n",
       "    <tr style=\"text-align: right;\">\n",
       "      <th></th>\n",
       "      <th>user.followers_count</th>\n",
       "      <th>user.friends_count</th>\n",
       "      <th>user.statuses_count</th>\n",
       "      <th>user.verified</th>\n",
       "      <th>is_quote_status</th>\n",
       "      <th>time_since_official_tweet</th>\n",
       "      <th>neg_score</th>\n",
       "      <th>neu_score</th>\n",
       "      <th>pos_score</th>\n",
       "      <th>comp_score</th>\n",
       "      <th>time_since_official_tweet_exp</th>\n",
       "    </tr>\n",
       "  </thead>\n",
       "  <tbody>\n",
       "    <tr>\n",
       "      <th>39115</th>\n",
       "      <td>4.0</td>\n",
       "      <td>56.0</td>\n",
       "      <td>88.0</td>\n",
       "      <td>False</td>\n",
       "      <td>0.0</td>\n",
       "      <td>10.0</td>\n",
       "      <td>0.0</td>\n",
       "      <td>0.682</td>\n",
       "      <td>0.318</td>\n",
       "      <td>0.8271</td>\n",
       "      <td>4.539993e-05</td>\n",
       "    </tr>\n",
       "    <tr>\n",
       "      <th>39116</th>\n",
       "      <td>6.0</td>\n",
       "      <td>206.0</td>\n",
       "      <td>293.0</td>\n",
       "      <td>False</td>\n",
       "      <td>0.0</td>\n",
       "      <td>13.0</td>\n",
       "      <td>0.0</td>\n",
       "      <td>1.000</td>\n",
       "      <td>0.000</td>\n",
       "      <td>0.0000</td>\n",
       "      <td>2.260329e-06</td>\n",
       "    </tr>\n",
       "    <tr>\n",
       "      <th>39117</th>\n",
       "      <td>3041.0</td>\n",
       "      <td>4968.0</td>\n",
       "      <td>17279.0</td>\n",
       "      <td>False</td>\n",
       "      <td>0.0</td>\n",
       "      <td>1.0</td>\n",
       "      <td>0.0</td>\n",
       "      <td>0.645</td>\n",
       "      <td>0.355</td>\n",
       "      <td>0.6808</td>\n",
       "      <td>3.678794e-01</td>\n",
       "    </tr>\n",
       "    <tr>\n",
       "      <th>39118</th>\n",
       "      <td>59.0</td>\n",
       "      <td>349.0</td>\n",
       "      <td>2860.0</td>\n",
       "      <td>False</td>\n",
       "      <td>0.0</td>\n",
       "      <td>9.0</td>\n",
       "      <td>0.0</td>\n",
       "      <td>0.645</td>\n",
       "      <td>0.355</td>\n",
       "      <td>0.6808</td>\n",
       "      <td>1.234098e-04</td>\n",
       "    </tr>\n",
       "    <tr>\n",
       "      <th>39119</th>\n",
       "      <td>25.0</td>\n",
       "      <td>91.0</td>\n",
       "      <td>1098.0</td>\n",
       "      <td>False</td>\n",
       "      <td>0.0</td>\n",
       "      <td>17.0</td>\n",
       "      <td>0.0</td>\n",
       "      <td>0.645</td>\n",
       "      <td>0.355</td>\n",
       "      <td>0.6808</td>\n",
       "      <td>4.139938e-08</td>\n",
       "    </tr>\n",
       "  </tbody>\n",
       "</table>\n",
       "</div>"
      ],
      "text/plain": [
       "       user.followers_count  user.friends_count  user.statuses_count  \\\n",
       "39115                   4.0                56.0                 88.0   \n",
       "39116                   6.0               206.0                293.0   \n",
       "39117                3041.0              4968.0              17279.0   \n",
       "39118                  59.0               349.0               2860.0   \n",
       "39119                  25.0                91.0               1098.0   \n",
       "\n",
       "       user.verified  is_quote_status  time_since_official_tweet  neg_score  \\\n",
       "39115          False              0.0                       10.0        0.0   \n",
       "39116          False              0.0                       13.0        0.0   \n",
       "39117          False              0.0                        1.0        0.0   \n",
       "39118          False              0.0                        9.0        0.0   \n",
       "39119          False              0.0                       17.0        0.0   \n",
       "\n",
       "       neu_score  pos_score  comp_score  time_since_official_tweet_exp  \n",
       "39115      0.682      0.318      0.8271                   4.539993e-05  \n",
       "39116      1.000      0.000      0.0000                   2.260329e-06  \n",
       "39117      0.645      0.355      0.6808                   3.678794e-01  \n",
       "39118      0.645      0.355      0.6808                   1.234098e-04  \n",
       "39119      0.645      0.355      0.6808                   4.139938e-08  "
      ]
     },
     "execution_count": 171,
     "metadata": {},
     "output_type": "execute_result"
    }
   ],
   "source": [
    "X_exp_no_neg[y_classes == 1].append([X_exp_no_neg[y_classes == 1]]*4, ignore_index=True).tail()"
   ]
  },
  {
   "cell_type": "markdown",
   "metadata": {},
   "source": [
    "For class 2, I want to add 331 copies of the corresponding data to the existing data."
   ]
  },
  {
   "cell_type": "code",
   "execution_count": 161,
   "metadata": {
    "scrolled": true
   },
   "outputs": [
    {
     "data": {
      "text/plain": [
       "2    114\n",
       "Name: retweet_count, dtype: int64"
      ]
     },
     "execution_count": 161,
     "metadata": {},
     "output_type": "execute_result"
    }
   ],
   "source": [
    "y_classes[y_classes == 2].append([y_classes[y_classes == 2]]*331, ignore_index=True).value_counts()"
   ]
  },
  {
   "cell_type": "code",
   "execution_count": 172,
   "metadata": {},
   "outputs": [
    {
     "data": {
      "text/plain": [
       "37848"
      ]
     },
     "execution_count": 172,
     "metadata": {},
     "output_type": "execute_result"
    }
   ],
   "source": [
    "len(X_exp_no_neg[y_classes == 2].append([X_exp_no_neg[y_classes == 2]]*331, ignore_index=True))"
   ]
  },
  {
   "cell_type": "markdown",
   "metadata": {},
   "source": [
    "Okay. This all works. Now I can actually make the upsampled data.\n",
    "\n",
    "The data looks much more balanced now!"
   ]
  },
  {
   "cell_type": "code",
   "execution_count": 177,
   "metadata": {},
   "outputs": [
    {
     "data": {
      "text/plain": [
       "1    39120\n",
       "0    37874\n",
       "2    37848\n",
       "Name: retweet_count, dtype: int64"
      ]
     },
     "execution_count": 177,
     "metadata": {},
     "output_type": "execute_result"
    }
   ],
   "source": [
    "y_classes_upsampled = y_classes.copy()\n",
    "y_classes_upsampled = y_classes_upsampled.append([y_classes[y_classes == 1]]*4, ignore_index=True)\n",
    "y_classes_upsampled = y_classes_upsampled.append([y_classes[y_classes == 2]]*331, ignore_index=True)\n",
    "y_classes_upsampled.value_counts()"
   ]
  },
  {
   "cell_type": "code",
   "execution_count": 178,
   "metadata": {},
   "outputs": [
    {
     "data": {
      "text/plain": [
       "114842"
      ]
     },
     "execution_count": 178,
     "metadata": {},
     "output_type": "execute_result"
    }
   ],
   "source": [
    "len(y_classes_upsampled)"
   ]
  },
  {
   "cell_type": "code",
   "execution_count": 179,
   "metadata": {},
   "outputs": [
    {
     "data": {
      "text/plain": [
       "114842"
      ]
     },
     "execution_count": 179,
     "metadata": {},
     "output_type": "execute_result"
    }
   ],
   "source": [
    "X_exp_no_neg_upsampled = X_exp_no_neg.copy()\n",
    "X_exp_no_neg_upsampled = X_exp_no_neg_upsampled.append([X_exp_no_neg[y_classes == 1]]*4, ignore_index=True)\n",
    "X_exp_no_neg_upsampled = X_exp_no_neg_upsampled.append([X_exp_no_neg[y_classes == 2]]*331, ignore_index=True)\n",
    "len(X_exp_no_neg_upsampled)"
   ]
  },
  {
   "cell_type": "code",
   "execution_count": 180,
   "metadata": {},
   "outputs": [
    {
     "data": {
      "text/html": [
       "<div>\n",
       "<style scoped>\n",
       "    .dataframe tbody tr th:only-of-type {\n",
       "        vertical-align: middle;\n",
       "    }\n",
       "\n",
       "    .dataframe tbody tr th {\n",
       "        vertical-align: top;\n",
       "    }\n",
       "\n",
       "    .dataframe thead th {\n",
       "        text-align: right;\n",
       "    }\n",
       "</style>\n",
       "<table border=\"1\" class=\"dataframe\">\n",
       "  <thead>\n",
       "    <tr style=\"text-align: right;\">\n",
       "      <th></th>\n",
       "      <th>user.followers_count</th>\n",
       "      <th>user.friends_count</th>\n",
       "      <th>user.statuses_count</th>\n",
       "      <th>user.verified</th>\n",
       "      <th>is_quote_status</th>\n",
       "      <th>time_since_official_tweet</th>\n",
       "      <th>neg_score</th>\n",
       "      <th>neu_score</th>\n",
       "      <th>pos_score</th>\n",
       "      <th>comp_score</th>\n",
       "      <th>time_since_official_tweet_exp</th>\n",
       "    </tr>\n",
       "  </thead>\n",
       "  <tbody>\n",
       "    <tr>\n",
       "      <th>114837</th>\n",
       "      <td>151.0</td>\n",
       "      <td>156.0</td>\n",
       "      <td>3325.0</td>\n",
       "      <td>False</td>\n",
       "      <td>0.0</td>\n",
       "      <td>120.0</td>\n",
       "      <td>0.000</td>\n",
       "      <td>0.815</td>\n",
       "      <td>0.185</td>\n",
       "      <td>0.3612</td>\n",
       "      <td>7.667648e-53</td>\n",
       "    </tr>\n",
       "    <tr>\n",
       "      <th>114838</th>\n",
       "      <td>458.0</td>\n",
       "      <td>433.0</td>\n",
       "      <td>13865.0</td>\n",
       "      <td>False</td>\n",
       "      <td>0.0</td>\n",
       "      <td>134.0</td>\n",
       "      <td>0.092</td>\n",
       "      <td>0.833</td>\n",
       "      <td>0.075</td>\n",
       "      <td>-0.1027</td>\n",
       "      <td>6.375870e-59</td>\n",
       "    </tr>\n",
       "    <tr>\n",
       "      <th>114839</th>\n",
       "      <td>377.0</td>\n",
       "      <td>435.0</td>\n",
       "      <td>3538.0</td>\n",
       "      <td>False</td>\n",
       "      <td>0.0</td>\n",
       "      <td>421.0</td>\n",
       "      <td>0.000</td>\n",
       "      <td>1.000</td>\n",
       "      <td>0.000</td>\n",
       "      <td>0.0000</td>\n",
       "      <td>1.452189e-183</td>\n",
       "    </tr>\n",
       "    <tr>\n",
       "      <th>114840</th>\n",
       "      <td>540.0</td>\n",
       "      <td>454.0</td>\n",
       "      <td>27653.0</td>\n",
       "      <td>False</td>\n",
       "      <td>1.0</td>\n",
       "      <td>979.0</td>\n",
       "      <td>0.236</td>\n",
       "      <td>0.764</td>\n",
       "      <td>0.000</td>\n",
       "      <td>-0.5719</td>\n",
       "      <td>0.000000e+00</td>\n",
       "    </tr>\n",
       "    <tr>\n",
       "      <th>114841</th>\n",
       "      <td>352.0</td>\n",
       "      <td>256.0</td>\n",
       "      <td>7118.0</td>\n",
       "      <td>False</td>\n",
       "      <td>0.0</td>\n",
       "      <td>1082.0</td>\n",
       "      <td>0.000</td>\n",
       "      <td>0.815</td>\n",
       "      <td>0.185</td>\n",
       "      <td>0.3612</td>\n",
       "      <td>0.000000e+00</td>\n",
       "    </tr>\n",
       "  </tbody>\n",
       "</table>\n",
       "</div>"
      ],
      "text/plain": [
       "        user.followers_count  user.friends_count  user.statuses_count  \\\n",
       "114837                 151.0               156.0               3325.0   \n",
       "114838                 458.0               433.0              13865.0   \n",
       "114839                 377.0               435.0               3538.0   \n",
       "114840                 540.0               454.0              27653.0   \n",
       "114841                 352.0               256.0               7118.0   \n",
       "\n",
       "        user.verified  is_quote_status  time_since_official_tweet  neg_score  \\\n",
       "114837          False              0.0                      120.0      0.000   \n",
       "114838          False              0.0                      134.0      0.092   \n",
       "114839          False              0.0                      421.0      0.000   \n",
       "114840          False              1.0                      979.0      0.236   \n",
       "114841          False              0.0                     1082.0      0.000   \n",
       "\n",
       "        neu_score  pos_score  comp_score  time_since_official_tweet_exp  \n",
       "114837      0.815      0.185      0.3612                   7.667648e-53  \n",
       "114838      0.833      0.075     -0.1027                   6.375870e-59  \n",
       "114839      1.000      0.000      0.0000                  1.452189e-183  \n",
       "114840      0.764      0.000     -0.5719                   0.000000e+00  \n",
       "114841      0.815      0.185      0.3612                   0.000000e+00  "
      ]
     },
     "execution_count": 180,
     "metadata": {},
     "output_type": "execute_result"
    }
   ],
   "source": [
    "X_exp_no_neg_upsampled.tail()"
   ]
  },
  {
   "cell_type": "markdown",
   "metadata": {},
   "source": [
    "### kNN with Upsampled Data\n",
    "\n",
    "With the data now upsampled, I can rescale it, do train_test_split, and re-run the model!"
   ]
  },
  {
   "cell_type": "code",
   "execution_count": 299,
   "metadata": {
    "scrolled": true
   },
   "outputs": [
    {
     "name": "stderr",
     "output_type": "stream",
     "text": [
      "C:\\Users\\sebia\\Miniconda2\\lib\\site-packages\\sklearn\\preprocessing\\data.py:323: DataConversionWarning: Data with input dtype bool, float64 were all converted to float64 by MinMaxScaler.\n",
      "  return self.partial_fit(X, y)\n"
     ]
    },
    {
     "name": "stdout",
     "output_type": "stream",
     "text": [
      "0.920964792616\n"
     ]
    }
   ],
   "source": [
    "from sklearn.neighbors import KNeighborsClassifier\n",
    "\n",
    "scaler = MinMaxScaler()\n",
    "X_exp_no_neg_scaled_up = pd.DataFrame(scaler.fit_transform(X_exp_no_neg_upsampled),\n",
    "                                   columns=X_exp_no_neg_upsampled.columns)\n",
    "\n",
    "X_train_up, X_test_up, y_train_up, y_test_up = train_test_split(X_exp_no_neg_scaled_up.drop(columns=\n",
    "                                                                                            ['time_since_official_tweet']),\n",
    "                                                                y_classes_upsampled,\n",
    "                                                                test_size=0.3,\n",
    "                                                                random_state=6,\n",
    "                                                                stratify=y_classes_upsampled)\n",
    "\n",
    "knc = KNeighborsClassifier()\n",
    "knc.fit(X_train_up, y_train_up)\n",
    "print(knc.score(X_test_up, y_test_up))"
   ]
  },
  {
   "cell_type": "markdown",
   "metadata": {},
   "source": [
    "The base accuracy is higher than the base accuracy without upsampled data!"
   ]
  },
  {
   "cell_type": "code",
   "execution_count": 300,
   "metadata": {},
   "outputs": [
    {
     "data": {
      "text/plain": [
       "GridSearchCV(cv=5, error_score='raise-deprecating',\n",
       "       estimator=KNeighborsClassifier(algorithm='auto', leaf_size=30, metric='minkowski',\n",
       "           metric_params=None, n_jobs=None, n_neighbors=5, p=2,\n",
       "           weights='uniform'),\n",
       "       fit_params=None, iid='warn', n_jobs=None,\n",
       "       param_grid={'n_neighbors': [5, 10, 50], 'weights': ['uniform', 'distance'], 'algorithm': ['auto', 'ball_tree', 'kd_tree', 'brute']},\n",
       "       pre_dispatch='2*n_jobs', refit=True, return_train_score=True,\n",
       "       scoring=None, verbose=0)"
      ]
     },
     "execution_count": 300,
     "metadata": {},
     "output_type": "execute_result"
    }
   ],
   "source": [
    "from sklearn.model_selection import GridSearchCV\n",
    "\n",
    "knc_params = {'n_neighbors': [5, 10, 50],\n",
    "              'weights': ['uniform', 'distance'],\n",
    "              'algorithm': ['auto', 'ball_tree', 'kd_tree', 'brute']}\n",
    "\n",
    "knc_gs = GridSearchCV(KNeighborsClassifier(),\n",
    "                      param_grid=knc_params,\n",
    "                      cv=5,\n",
    "                      return_train_score=True)\n",
    "\n",
    "# Make sure to stratify the data\n",
    "knc_gs.fit(X_train_up, y_train_up, groups=y_train_up)"
   ]
  },
  {
   "cell_type": "code",
   "execution_count": 301,
   "metadata": {},
   "outputs": [
    {
     "data": {
      "text/plain": [
       "KNeighborsClassifier(algorithm='ball_tree', leaf_size=30, metric='minkowski',\n",
       "           metric_params=None, n_jobs=None, n_neighbors=5, p=2,\n",
       "           weights='distance')"
      ]
     },
     "execution_count": 301,
     "metadata": {},
     "output_type": "execute_result"
    }
   ],
   "source": [
    "knc_gs.best_estimator_"
   ]
  },
  {
   "cell_type": "code",
   "execution_count": 302,
   "metadata": {},
   "outputs": [
    {
     "data": {
      "text/plain": [
       "0.94740573959123764"
      ]
     },
     "execution_count": 302,
     "metadata": {},
     "output_type": "execute_result"
    }
   ],
   "source": [
    "knc_gs.best_score_"
   ]
  },
  {
   "cell_type": "code",
   "execution_count": 303,
   "metadata": {},
   "outputs": [
    {
     "data": {
      "text/plain": [
       "0.95057034220532322"
      ]
     },
     "execution_count": 303,
     "metadata": {},
     "output_type": "execute_result"
    }
   ],
   "source": [
    "knc_gs.score(X_test_up, y_test_up)"
   ]
  },
  {
   "cell_type": "markdown",
   "metadata": {},
   "source": [
    "The tuned accuracy is very good!"
   ]
  },
  {
   "cell_type": "code",
   "execution_count": 304,
   "metadata": {},
   "outputs": [],
   "source": [
    "y_classes_pred = knc_gs.predict(X_test_up)"
   ]
  },
  {
   "cell_type": "markdown",
   "metadata": {},
   "source": [
    "C_i,j is the number of predictions of class i that were predicted to be class j.\n",
    "\n",
    "Interesting. This algorithm now makes the opposite kind of prediction errors. It predicts a lot of class 0 tweets are class 1. It also predicts class 2 with incredible accuracy. Is this because there are so few unique class 2 tweets?"
   ]
  },
  {
   "cell_type": "code",
   "execution_count": 305,
   "metadata": {},
   "outputs": [
    {
     "data": {
      "text/plain": [
       "array([[ 9714,  1596,    52],\n",
       "       [   52, 11681,     3],\n",
       "       [    0,     0, 11355]], dtype=int64)"
      ]
     },
     "execution_count": 305,
     "metadata": {},
     "output_type": "execute_result"
    }
   ],
   "source": [
    "confusion_matrix(y_test_up, y_classes_pred)"
   ]
  },
  {
   "cell_type": "markdown",
   "metadata": {},
   "source": [
    "Now the average precisions, recalls, and f1s are all much higher. The main error is predicting a class 0 tweet to be class 1."
   ]
  },
  {
   "cell_type": "code",
   "execution_count": 306,
   "metadata": {},
   "outputs": [
    {
     "name": "stdout",
     "output_type": "stream",
     "text": [
      "              precision    recall  f1-score   support\n",
      "\n",
      "           0       0.99      0.85      0.92     11362\n",
      "           1       0.88      1.00      0.93     11736\n",
      "           2       1.00      1.00      1.00     11355\n",
      "\n",
      "   micro avg       0.95      0.95      0.95     34453\n",
      "   macro avg       0.96      0.95      0.95     34453\n",
      "weighted avg       0.96      0.95      0.95     34453\n",
      "\n"
     ]
    }
   ],
   "source": [
    "print(classification_report(y_test_up, y_classes_pred))"
   ]
  },
  {
   "cell_type": "markdown",
   "metadata": {},
   "source": [
    "### Random Forest\n",
    "\n",
    "I need an algorithm that can tell me feature importances, so I can extract conclusions from it for the business impacts.\n",
    "\n",
    "All of the previous data is still available. Use it."
   ]
  },
  {
   "cell_type": "code",
   "execution_count": 189,
   "metadata": {},
   "outputs": [
    {
     "name": "stdout",
     "output_type": "stream",
     "text": [
      "0.919819557625\n"
     ]
    }
   ],
   "source": [
    "from sklearn.ensemble import RandomForestClassifier\n",
    "\n",
    "rfc = RandomForestClassifier(random_state=6)\n",
    "rfc.fit(X_train, y_train)\n",
    "print(rfc.score(X_test, y_test))"
   ]
  },
  {
   "cell_type": "markdown",
   "metadata": {},
   "source": [
    "That's very good, right off of the bat."
   ]
  },
  {
   "cell_type": "code",
   "execution_count": 190,
   "metadata": {},
   "outputs": [
    {
     "data": {
      "text/plain": [
       "GridSearchCV(cv=5, error_score='raise-deprecating',\n",
       "       estimator=RandomForestClassifier(bootstrap=True, class_weight=None, criterion='gini',\n",
       "            max_depth=None, max_features='auto', max_leaf_nodes=None,\n",
       "            min_impurity_decrease=0.0, min_impurity_split=None,\n",
       "            min_samples_leaf=1, min_samples_split=2,\n",
       "            min_weight_fraction_leaf=0.0, n_estimators='warn', n_jobs=None,\n",
       "            oob_score=False, random_state=6, verbose=0, warm_start=False),\n",
       "       fit_params=None, iid='warn', n_jobs=None,\n",
       "       param_grid={'n_estimators': [10, 50, 100], 'max_features': ['auto', 'log2', 6], 'max_depth': [None, 5, 10]},\n",
       "       pre_dispatch='2*n_jobs', refit=True, return_train_score=True,\n",
       "       scoring=None, verbose=0)"
      ]
     },
     "execution_count": 190,
     "metadata": {},
     "output_type": "execute_result"
    }
   ],
   "source": [
    "rfc_params = {\n",
    "    'n_estimators': [10, 50, 100],\n",
    "    'max_depth': [None, 5, 10],\n",
    "    'max_features': ['auto', 'log2', 6]\n",
    "}\n",
    "\n",
    "rfc_gs = GridSearchCV(RandomForestClassifier(random_state=6),\n",
    "                      param_grid=rfc_params,\n",
    "                      cv=5,\n",
    "                      return_train_score=True)\n",
    "\n",
    "rfc_gs.fit(X_train, y_train)"
   ]
  },
  {
   "cell_type": "code",
   "execution_count": 191,
   "metadata": {},
   "outputs": [
    {
     "data": {
      "text/plain": [
       "RandomForestClassifier(bootstrap=True, class_weight=None, criterion='gini',\n",
       "            max_depth=None, max_features='auto', max_leaf_nodes=None,\n",
       "            min_impurity_decrease=0.0, min_impurity_split=None,\n",
       "            min_samples_leaf=1, min_samples_split=2,\n",
       "            min_weight_fraction_leaf=0.0, n_estimators=50, n_jobs=None,\n",
       "            oob_score=False, random_state=6, verbose=0, warm_start=False)"
      ]
     },
     "execution_count": 191,
     "metadata": {},
     "output_type": "execute_result"
    }
   ],
   "source": [
    "rfc_gs.best_estimator_"
   ]
  },
  {
   "cell_type": "code",
   "execution_count": 192,
   "metadata": {},
   "outputs": [
    {
     "data": {
      "text/plain": [
       "0.92547087439191722"
      ]
     },
     "execution_count": 192,
     "metadata": {},
     "output_type": "execute_result"
    }
   ],
   "source": [
    "rfc_gs.best_score_"
   ]
  },
  {
   "cell_type": "code",
   "execution_count": 193,
   "metadata": {},
   "outputs": [
    {
     "data": {
      "text/plain": [
       "0.92374854481955759"
      ]
     },
     "execution_count": 193,
     "metadata": {},
     "output_type": "execute_result"
    }
   ],
   "source": [
    "rfc_gs.score(X_test, y_test)"
   ]
  },
  {
   "cell_type": "code",
   "execution_count": 194,
   "metadata": {},
   "outputs": [
    {
     "data": {
      "text/plain": [
       "array([[11206,   157,     0],\n",
       "       [  860,  1487,     0],\n",
       "       [   31,     0,     3]], dtype=int64)"
      ]
     },
     "execution_count": 194,
     "metadata": {},
     "output_type": "execute_result"
    }
   ],
   "source": [
    "confusion_matrix(y_test, rfc_gs.predict(X_test))"
   ]
  },
  {
   "cell_type": "code",
   "execution_count": 195,
   "metadata": {},
   "outputs": [
    {
     "name": "stdout",
     "output_type": "stream",
     "text": [
      "              precision    recall  f1-score   support\n",
      "\n",
      "           0       0.93      0.99      0.96     11363\n",
      "           1       0.90      0.63      0.75      2347\n",
      "           2       1.00      0.09      0.16        34\n",
      "\n",
      "   micro avg       0.92      0.92      0.92     13744\n",
      "   macro avg       0.94      0.57      0.62     13744\n",
      "weighted avg       0.92      0.92      0.92     13744\n",
      "\n"
     ]
    }
   ],
   "source": [
    "print(classification_report(y_test, rfc_gs.predict(X_test)))"
   ]
  },
  {
   "cell_type": "markdown",
   "metadata": {},
   "source": [
    "### Random Forest with Upsampled Data"
   ]
  },
  {
   "cell_type": "code",
   "execution_count": 307,
   "metadata": {},
   "outputs": [
    {
     "name": "stdout",
     "output_type": "stream",
     "text": [
      "0.972861579543\n"
     ]
    }
   ],
   "source": [
    "rfc_up = RandomForestClassifier(random_state=6)\n",
    "rfc_up.fit(X_train_up, y_train_up)\n",
    "print(rfc_up.score(X_test_up, y_test_up))"
   ]
  },
  {
   "cell_type": "code",
   "execution_count": 308,
   "metadata": {},
   "outputs": [
    {
     "data": {
      "text/plain": [
       "GridSearchCV(cv=5, error_score='raise-deprecating',\n",
       "       estimator=RandomForestClassifier(bootstrap=True, class_weight=None, criterion='gini',\n",
       "            max_depth=None, max_features='auto', max_leaf_nodes=None,\n",
       "            min_impurity_decrease=0.0, min_impurity_split=None,\n",
       "            min_samples_leaf=1, min_samples_split=2,\n",
       "            min_weight_fraction_leaf=0.0, n_estimators='warn', n_jobs=None,\n",
       "            oob_score=False, random_state=6, verbose=0, warm_start=False),\n",
       "       fit_params=None, iid='warn', n_jobs=None,\n",
       "       param_grid={'n_estimators': [10, 50, 100], 'max_features': ['auto', 'log2', 6], 'max_depth': [None, 5, 10]},\n",
       "       pre_dispatch='2*n_jobs', refit=True, return_train_score=True,\n",
       "       scoring=None, verbose=0)"
      ]
     },
     "execution_count": 308,
     "metadata": {},
     "output_type": "execute_result"
    }
   ],
   "source": [
    "rfc_gs_up = GridSearchCV(RandomForestClassifier(random_state=6),\n",
    "                         param_grid=rfc_params,\n",
    "                         cv=5,\n",
    "                         return_train_score=True)\n",
    "\n",
    "rfc_gs_up.fit(X_train_up, y_train_up)"
   ]
  },
  {
   "cell_type": "code",
   "execution_count": 309,
   "metadata": {},
   "outputs": [
    {
     "data": {
      "text/plain": [
       "RandomForestClassifier(bootstrap=True, class_weight=None, criterion='gini',\n",
       "            max_depth=None, max_features='auto', max_leaf_nodes=None,\n",
       "            min_impurity_decrease=0.0, min_impurity_split=None,\n",
       "            min_samples_leaf=1, min_samples_split=2,\n",
       "            min_weight_fraction_leaf=0.0, n_estimators=50, n_jobs=None,\n",
       "            oob_score=False, random_state=6, verbose=0, warm_start=False)"
      ]
     },
     "execution_count": 309,
     "metadata": {},
     "output_type": "execute_result"
    }
   ],
   "source": [
    "rfc_gs_up.best_estimator_"
   ]
  },
  {
   "cell_type": "code",
   "execution_count": 310,
   "metadata": {},
   "outputs": [
    {
     "data": {
      "text/plain": [
       "0.96985906031919789"
      ]
     },
     "execution_count": 310,
     "metadata": {},
     "output_type": "execute_result"
    }
   ],
   "source": [
    "rfc_gs_up.best_score_"
   ]
  },
  {
   "cell_type": "code",
   "execution_count": 311,
   "metadata": {},
   "outputs": [
    {
     "data": {
      "text/plain": [
       "0.9748062578004818"
      ]
     },
     "execution_count": 311,
     "metadata": {},
     "output_type": "execute_result"
    }
   ],
   "source": [
    "rfc_gs_up.score(X_test_up, y_test_up)"
   ]
  },
  {
   "cell_type": "markdown",
   "metadata": {},
   "source": [
    "This classifier is insanely good. 97.5%?? No way.\n",
    "\n",
    "The confusion matrix shows that this classifier predicts class 2 tweets very VERY well. The main error is misclassifying class 0 as class 1, as it was for the Nearest Neighbors algorithm with upsampled data."
   ]
  },
  {
   "cell_type": "code",
   "execution_count": 312,
   "metadata": {},
   "outputs": [
    {
     "data": {
      "text/plain": [
       "array([[10583,   771,     8],\n",
       "       [   84, 11647,     5],\n",
       "       [    0,     0, 11355]], dtype=int64)"
      ]
     },
     "execution_count": 312,
     "metadata": {},
     "output_type": "execute_result"
    }
   ],
   "source": [
    "confusion_matrix(y_test_up, rfc_gs_up.predict(X_test_up))"
   ]
  },
  {
   "cell_type": "markdown",
   "metadata": {},
   "source": [
    "I'm wondering if each class 2 tweet being copied 331 times helps the agorithm focus on their exact values, increasing predictive power for class 2 tweets.\n",
    "\n",
    "Regardless, class 2 tweet classification performs the best. Class 0 tweet classification is the worst, but only by ~5%. A 93% recall is still quite good."
   ]
  },
  {
   "cell_type": "code",
   "execution_count": 313,
   "metadata": {},
   "outputs": [
    {
     "name": "stdout",
     "output_type": "stream",
     "text": [
      "              precision    recall  f1-score   support\n",
      "\n",
      "           0       0.99      0.93      0.96     11362\n",
      "           1       0.94      0.99      0.96     11736\n",
      "           2       1.00      1.00      1.00     11355\n",
      "\n",
      "   micro avg       0.97      0.97      0.97     34453\n",
      "   macro avg       0.98      0.97      0.97     34453\n",
      "weighted avg       0.98      0.97      0.97     34453\n",
      "\n"
     ]
    }
   ],
   "source": [
    "print(classification_report(y_test_up, rfc_gs_up.predict(X_test_up)))"
   ]
  },
  {
   "cell_type": "markdown",
   "metadata": {},
   "source": [
    "### Get Random Forest Feature Importances\n",
    "\n",
    "Can compare the base random forest and the optimized one."
   ]
  },
  {
   "cell_type": "code",
   "execution_count": 314,
   "metadata": {},
   "outputs": [],
   "source": [
    "rf_features = pd.DataFrame({'base_rf': rfc_up.feature_importances_,\n",
    "                            'grid_rf': rfc_gs_up.best_estimator_.feature_importances_},\n",
    "                           index=X_exp_no_neg_upsampled.drop(columns=['time_since_official_tweet']).columns)"
   ]
  },
  {
   "cell_type": "code",
   "execution_count": 315,
   "metadata": {},
   "outputs": [
    {
     "data": {
      "text/html": [
       "<div>\n",
       "<style scoped>\n",
       "    .dataframe tbody tr th:only-of-type {\n",
       "        vertical-align: middle;\n",
       "    }\n",
       "\n",
       "    .dataframe tbody tr th {\n",
       "        vertical-align: top;\n",
       "    }\n",
       "\n",
       "    .dataframe thead th {\n",
       "        text-align: right;\n",
       "    }\n",
       "</style>\n",
       "<table border=\"1\" class=\"dataframe\">\n",
       "  <thead>\n",
       "    <tr style=\"text-align: right;\">\n",
       "      <th></th>\n",
       "      <th>base_rf</th>\n",
       "      <th>grid_rf</th>\n",
       "    </tr>\n",
       "  </thead>\n",
       "  <tbody>\n",
       "    <tr>\n",
       "      <th>user.followers_count</th>\n",
       "      <td>0.136110</td>\n",
       "      <td>0.128683</td>\n",
       "    </tr>\n",
       "    <tr>\n",
       "      <th>user.friends_count</th>\n",
       "      <td>0.148081</td>\n",
       "      <td>0.152646</td>\n",
       "    </tr>\n",
       "    <tr>\n",
       "      <th>user.statuses_count</th>\n",
       "      <td>0.166625</td>\n",
       "      <td>0.165674</td>\n",
       "    </tr>\n",
       "    <tr>\n",
       "      <th>user.verified</th>\n",
       "      <td>0.000605</td>\n",
       "      <td>0.000483</td>\n",
       "    </tr>\n",
       "    <tr>\n",
       "      <th>is_quote_status</th>\n",
       "      <td>0.015847</td>\n",
       "      <td>0.018157</td>\n",
       "    </tr>\n",
       "    <tr>\n",
       "      <th>neg_score</th>\n",
       "      <td>0.076857</td>\n",
       "      <td>0.070974</td>\n",
       "    </tr>\n",
       "    <tr>\n",
       "      <th>neu_score</th>\n",
       "      <td>0.133358</td>\n",
       "      <td>0.139831</td>\n",
       "    </tr>\n",
       "    <tr>\n",
       "      <th>pos_score</th>\n",
       "      <td>0.114661</td>\n",
       "      <td>0.118165</td>\n",
       "    </tr>\n",
       "    <tr>\n",
       "      <th>comp_score</th>\n",
       "      <td>0.165064</td>\n",
       "      <td>0.165577</td>\n",
       "    </tr>\n",
       "    <tr>\n",
       "      <th>time_since_official_tweet_exp</th>\n",
       "      <td>0.042792</td>\n",
       "      <td>0.039810</td>\n",
       "    </tr>\n",
       "  </tbody>\n",
       "</table>\n",
       "</div>"
      ],
      "text/plain": [
       "                                base_rf   grid_rf\n",
       "user.followers_count           0.136110  0.128683\n",
       "user.friends_count             0.148081  0.152646\n",
       "user.statuses_count            0.166625  0.165674\n",
       "user.verified                  0.000605  0.000483\n",
       "is_quote_status                0.015847  0.018157\n",
       "neg_score                      0.076857  0.070974\n",
       "neu_score                      0.133358  0.139831\n",
       "pos_score                      0.114661  0.118165\n",
       "comp_score                     0.165064  0.165577\n",
       "time_since_official_tweet_exp  0.042792  0.039810"
      ]
     },
     "execution_count": 315,
     "metadata": {},
     "output_type": "execute_result"
    }
   ],
   "source": [
    "rf_features"
   ]
  },
  {
   "cell_type": "code",
   "execution_count": 367,
   "metadata": {},
   "outputs": [
    {
     "data": {
      "image/png": "[encoded data removed]",
      "text/plain": [
       "<matplotlib.figure.Figure at 0x26003588>"
      ]
     },
     "metadata": {
      "needs_background": "light"
     },
     "output_type": "display_data"
    }
   ],
   "source": [
    "plt.rcParams[\"figure.figsize\"] = (9,4)\n",
    "_ = rf_features.plot.bar(rot=45)\n",
    "_ = plt.ylabel('Feature Importance')\n",
    "_ = plt.title('Random Forest Feature Importances')\n",
    "_ = plt.tight_layout()\n",
    "_ = plt.savefig('../analysis_images/rf_feature_imp.png')"
   ]
  },
  {
   "cell_type": "markdown",
   "metadata": {},
   "source": [
    "Right off the bat, we can see that a user being verified doesn't matter.\n",
    "\n",
    "Positive sentiment scores help the classifier more than negative scores, but neutral scores are better than both, and compound scores are the best.\n",
    "\n",
    "Looking the the vader sentiment analysis GitHub page (https://github.com/cjhutto/vaderSentiment#about-the-scoring ), I've realized that the compound score is a summary of the positive / negative / neutral scores. This probably means that there is some correlation between the compound score and the positive / negative scores.\n",
    "\n",
    "The time since the last tweet (run through a decaying exponential) helps to classify a little. So Bungie and Destiny official twitter accounts do help boost the engagement of their company and game on Twitter.\n",
    "\n",
    "The # of followers, # following, and # of statuses a user has posted all seem to contribute to prediction power. This makes sense, since people with larger networks on Twitter should have more engagement on their tweets."
   ]
  },
  {
   "cell_type": "markdown",
   "metadata": {},
   "source": [
    "The plot below definitely shows a positive correlation between the positive score and the compound score."
   ]
  },
  {
   "cell_type": "code",
   "execution_count": 317,
   "metadata": {},
   "outputs": [
    {
     "data": {
      "image/png": "[encoded data removed]",
      "text/plain": [
       "<matplotlib.figure.Figure at 0x2488beb8>"
      ]
     },
     "metadata": {
      "needs_background": "light"
     },
     "output_type": "display_data"
    }
   ],
   "source": [
    "_ = X_exp_no_neg.plot.scatter('pos_score', 'comp_score')"
   ]
  },
  {
   "cell_type": "markdown",
   "metadata": {},
   "source": [
    "And there is a negative correlation between the negative score and the compound score."
   ]
  },
  {
   "cell_type": "code",
   "execution_count": 318,
   "metadata": {},
   "outputs": [
    {
     "data": {
      "image/png": "[encoded data removed]",
      "text/plain": [
       "<matplotlib.figure.Figure at 0x1d75a780>"
      ]
     },
     "metadata": {
      "needs_background": "light"
     },
     "output_type": "display_data"
    }
   ],
   "source": [
    "_ = X_exp_no_neg.plot.scatter('neg_score', 'comp_score')"
   ]
  },
  {
   "cell_type": "markdown",
   "metadata": {},
   "source": [
    "The more neutral a score is, the closer the compound score should go to 0."
   ]
  },
  {
   "cell_type": "code",
   "execution_count": 319,
   "metadata": {},
   "outputs": [
    {
     "data": {
      "image/png": "[encoded data removed]",
      "text/plain": [
       "<matplotlib.figure.Figure at 0x30211240>"
      ]
     },
     "metadata": {
      "needs_background": "light"
     },
     "output_type": "display_data"
    }
   ],
   "source": [
    "_ = X_exp_no_neg.plot.scatter('neu_score', 'comp_score')"
   ]
  },
  {
   "cell_type": "code",
   "execution_count": 333,
   "metadata": {},
   "outputs": [
    {
     "data": {
      "image/png": "[encoded data removed]",
      "text/plain": [
       "<matplotlib.figure.Figure at 0x301ead30>"
      ]
     },
     "metadata": {
      "needs_background": "light"
     },
     "output_type": "display_data"
    }
   ],
   "source": [
    "_ = X_exp_no_neg.plot.scatter('neg_score', 'pos_score')"
   ]
  },
  {
   "cell_type": "markdown",
   "metadata": {},
   "source": [
    "### Re-run the analysis with either the compound score or the 3 other scores\n",
    "\n",
    "From the GitHub ReadME:\n",
    "\n",
    "\"The pos, neu, and neg scores are ratios for proportions of text that fall in each category (so these should all add up to be 1... or close to it with float operation). These are the most useful metrics if you want multidimensional measures of sentiment for a given sentence.\"\n",
    "\n",
    "Since I want to see if positive or negative tweets are more important, I can run with only the positive score and negative score.\n",
    "\n",
    "I'll use the best Random Forest Classifier that my GridSearch found."
   ]
  },
  {
   "cell_type": "code",
   "execution_count": 320,
   "metadata": {},
   "outputs": [],
   "source": [
    "X_train_up, X_test_up, y_train_up, y_test_up = \\\n",
    "    train_test_split(X_exp_no_neg_upsampled.drop(columns=['time_since_official_tweet', 'neu_score', 'comp_score']),\n",
    "                     y_classes_upsampled,\n",
    "                     test_size=0.3,\n",
    "                     random_state=6,\n",
    "                     stratify=y_classes_upsampled)"
   ]
  },
  {
   "cell_type": "code",
   "execution_count": 321,
   "metadata": {},
   "outputs": [
    {
     "name": "stdout",
     "output_type": "stream",
     "text": [
      "0.970974951383\n"
     ]
    }
   ],
   "source": [
    "rfc_no_corr = RandomForestClassifier(random_state=6, n_estimators=100, max_features='auto', max_depth=None)\n",
    "rfc_no_corr.fit(X_train_up, y_train_up)\n",
    "print(rfc_no_corr.score(X_test_up, y_test_up))"
   ]
  },
  {
   "cell_type": "code",
   "execution_count": 322,
   "metadata": {},
   "outputs": [
    {
     "data": {
      "text/html": [
       "<div>\n",
       "<style scoped>\n",
       "    .dataframe tbody tr th:only-of-type {\n",
       "        vertical-align: middle;\n",
       "    }\n",
       "\n",
       "    .dataframe tbody tr th {\n",
       "        vertical-align: top;\n",
       "    }\n",
       "\n",
       "    .dataframe thead th {\n",
       "        text-align: right;\n",
       "    }\n",
       "</style>\n",
       "<table border=\"1\" class=\"dataframe\">\n",
       "  <thead>\n",
       "    <tr style=\"text-align: right;\">\n",
       "      <th></th>\n",
       "      <th>Feature Importance</th>\n",
       "    </tr>\n",
       "  </thead>\n",
       "  <tbody>\n",
       "    <tr>\n",
       "      <th>user.followers_count</th>\n",
       "      <td>0.195857</td>\n",
       "    </tr>\n",
       "    <tr>\n",
       "      <th>user.friends_count</th>\n",
       "      <td>0.202316</td>\n",
       "    </tr>\n",
       "    <tr>\n",
       "      <th>user.statuses_count</th>\n",
       "      <td>0.210289</td>\n",
       "    </tr>\n",
       "    <tr>\n",
       "      <th>user.verified</th>\n",
       "      <td>0.001178</td>\n",
       "    </tr>\n",
       "    <tr>\n",
       "      <th>is_quote_status</th>\n",
       "      <td>0.014981</td>\n",
       "    </tr>\n",
       "    <tr>\n",
       "      <th>neg_score</th>\n",
       "      <td>0.131526</td>\n",
       "    </tr>\n",
       "    <tr>\n",
       "      <th>pos_score</th>\n",
       "      <td>0.196163</td>\n",
       "    </tr>\n",
       "    <tr>\n",
       "      <th>time_since_official_tweet_exp</th>\n",
       "      <td>0.047690</td>\n",
       "    </tr>\n",
       "  </tbody>\n",
       "</table>\n",
       "</div>"
      ],
      "text/plain": [
       "                               Feature Importance\n",
       "user.followers_count                     0.195857\n",
       "user.friends_count                       0.202316\n",
       "user.statuses_count                      0.210289\n",
       "user.verified                            0.001178\n",
       "is_quote_status                          0.014981\n",
       "neg_score                                0.131526\n",
       "pos_score                                0.196163\n",
       "time_since_official_tweet_exp            0.047690"
      ]
     },
     "execution_count": 322,
     "metadata": {},
     "output_type": "execute_result"
    }
   ],
   "source": [
    "rfc_features_no_corr = pd.DataFrame({'Feature Importance': rfc_no_corr.feature_importances_},\n",
    "                                    index=X_exp_no_neg_upsampled.drop(columns=['time_since_official_tweet',\n",
    "                                                                               'neu_score',\n",
    "                                                                               'comp_score']).columns)\n",
    "rfc_features_no_corr"
   ]
  },
  {
   "cell_type": "code",
   "execution_count": 368,
   "metadata": {},
   "outputs": [
    {
     "data": {
      "image/png": "[encoded data removed]",
      "text/plain": [
       "<matplotlib.figure.Figure at 0x267f4a20>"
      ]
     },
     "metadata": {
      "needs_background": "light"
     },
     "output_type": "display_data"
    }
   ],
   "source": [
    "plt.rcParams[\"figure.figsize\"] = (6,6)\n",
    "_ = rfc_features_no_corr.plot.bar(rot=45)\n",
    "_ = plt.ylabel('Feature Coefficients')\n",
    "_ = plt.title('Positive Tweets are almost as Important as Twitter Reach')\n",
    "_ = plt.tight_layout()\n",
    "_ = plt.savefig('../analysis_images/rf_feature_imps_2.png')"
   ]
  },
  {
   "cell_type": "markdown",
   "metadata": {},
   "source": [
    "Now, we see that the positive score is much more importance than the negative score. That is a very good sign."
   ]
  },
  {
   "cell_type": "markdown",
   "metadata": {},
   "source": [
    "### Use Predict Proba to see the difference between positive and negative tweets\n",
    "\n",
    "Using predict_proba, I can see that a tweet with a very positive sentiment has a much better chance of being in class 1 or 2 than a tweet with a very negative sentiment. This holds true across several values of other input features.\n",
    "\n",
    "Tweet from someone with minimum values for followers, friends, and statuses"
   ]
  },
  {
   "cell_type": "code",
   "execution_count": 324,
   "metadata": {},
   "outputs": [
    {
     "data": {
      "text/plain": [
       "array([[ 0.93,  0.07,  0.  ]])"
      ]
     },
     "execution_count": 324,
     "metadata": {},
     "output_type": "execute_result"
    }
   ],
   "source": [
    "# Positive tweet\n",
    "rfc_no_corr.predict_proba([[0, 0, 0, 0, 0, 0, 1, 0.01]])"
   ]
  },
  {
   "cell_type": "code",
   "execution_count": 325,
   "metadata": {},
   "outputs": [
    {
     "data": {
      "text/plain": [
       "array([[ 1.,  0.,  0.]])"
      ]
     },
     "execution_count": 325,
     "metadata": {},
     "output_type": "execute_result"
    }
   ],
   "source": [
    "# Negative tweet\n",
    "rfc_no_corr.predict_proba([[0, 0, 0, 0, 0, 1, 0, 0.01]])"
   ]
  },
  {
   "cell_type": "markdown",
   "metadata": {},
   "source": [
    "Tweet from someone with values for followers, friends, and statuses that are 50% of the max."
   ]
  },
  {
   "cell_type": "code",
   "execution_count": 326,
   "metadata": {},
   "outputs": [
    {
     "data": {
      "text/plain": [
       "array([[ 0.93,  0.07,  0.  ]])"
      ]
     },
     "execution_count": 326,
     "metadata": {},
     "output_type": "execute_result"
    }
   ],
   "source": [
    "# Positive tweet\n",
    "rfc_no_corr.predict_proba([[0.5, 0.5, 0.5, 0, 0, 0, 1, 0.01]])"
   ]
  },
  {
   "cell_type": "code",
   "execution_count": 327,
   "metadata": {},
   "outputs": [
    {
     "data": {
      "text/plain": [
       "array([[ 1.,  0.,  0.]])"
      ]
     },
     "execution_count": 327,
     "metadata": {},
     "output_type": "execute_result"
    }
   ],
   "source": [
    "# Negative tweet\n",
    "rfc_no_corr.predict_proba([[0.5, 0.5, 0.5, 0, 0, 1, 0, 0.01]])"
   ]
  },
  {
   "cell_type": "markdown",
   "metadata": {},
   "source": [
    "Tweet from someone with values for followers, friends, and statuses that are 75% of the max."
   ]
  },
  {
   "cell_type": "code",
   "execution_count": 328,
   "metadata": {},
   "outputs": [
    {
     "data": {
      "text/plain": [
       "array([[ 0.86,  0.14,  0.  ]])"
      ]
     },
     "execution_count": 328,
     "metadata": {},
     "output_type": "execute_result"
    }
   ],
   "source": [
    "# Positive tweet\n",
    "rfc_no_corr.predict_proba([[0.75, 0.75, 0.75, 0, 1, 0, 1, 0.01]])"
   ]
  },
  {
   "cell_type": "code",
   "execution_count": 329,
   "metadata": {},
   "outputs": [
    {
     "data": {
      "text/plain": [
       "array([[ 1.,  0.,  0.]])"
      ]
     },
     "execution_count": 329,
     "metadata": {},
     "output_type": "execute_result"
    }
   ],
   "source": [
    "# Negative tweet\n",
    "rfc_no_corr.predict_proba([[0.75, 0.75, 0.75, 0, 0, 1, 0, 0.01]])"
   ]
  },
  {
   "cell_type": "markdown",
   "metadata": {},
   "source": [
    "Turn the results into a list and add to the list, for the function below"
   ]
  },
  {
   "cell_type": "code",
   "execution_count": 330,
   "metadata": {},
   "outputs": [
    {
     "data": {
      "text/plain": [
       "[0.85999999999999999, 0.14000000000000001, 0.0, 1.0, 0.75]"
      ]
     },
     "execution_count": 330,
     "metadata": {},
     "output_type": "execute_result"
    }
   ],
   "source": [
    "a = list(rfc_no_corr.predict_proba([[0.75, 0.75, 0.75, 0, 0, 0, 1, 0.01]])[0])\n",
    "a.append(1.0)\n",
    "a.append(0.75)\n",
    "a"
   ]
  },
  {
   "cell_type": "markdown",
   "metadata": {},
   "source": [
    "Let's make a nice chart to summarize this."
   ]
  },
  {
   "cell_type": "code",
   "execution_count": 356,
   "metadata": {},
   "outputs": [],
   "source": [
    "def predict_probas_for_df(reach_pcts):\n",
    "    columns=['Class 0 %', 'Class 1 %', 'Class 2 %', 'Sentiment', '% Reach of Max']\n",
    "    df = pd.DataFrame(columns=columns)\n",
    "    \n",
    "    for reach in reach_pcts:\n",
    "        # Positive Tweet\n",
    "        pos_input_data = [[reach, reach, reach, 0, 0, 0, 0.75, 0.01]]\n",
    "        pos_predictions = rfc_no_corr.predict_proba(pos_input_data)\n",
    "        \n",
    "        pos_row = list(pos_predictions[0])\n",
    "        pos_row.append(1.0)\n",
    "        pos_row.append(reach)\n",
    "        \n",
    "        df.loc[len(df)] = pos_row\n",
    "              \n",
    "        # Negative tweet\n",
    "        neg_input_data = [[reach, reach, reach, 0, 0, 0.75, 0, 0.01]]\n",
    "        neg_predictions = rfc_no_corr.predict_proba(neg_input_data)\n",
    "        \n",
    "        neg_row = list(neg_predictions[0])\n",
    "        neg_row.append(0.0)\n",
    "        neg_row.append(reach)\n",
    "        \n",
    "        df.loc[len(df)] = neg_row\n",
    "    \n",
    "    return df"
   ]
  },
  {
   "cell_type": "code",
   "execution_count": 374,
   "metadata": {},
   "outputs": [
    {
     "data": {
      "image/png": "[encoded data removed]",
      "text/plain": [
       "<matplotlib.figure.Figure at 0x24d10e48>"
      ]
     },
     "metadata": {
      "needs_background": "light"
     },
     "output_type": "display_data"
    }
   ],
   "source": [
    "plt.rcParams[\"figure.figsize\"] = (6, 4)\n",
    "df = predict_probas_for_df(np.arange(0, 1.1, 0.1))\n",
    "fig, ax = plt.subplots()\n",
    "_ = df[df['Sentiment'] == 1].plot(x='% Reach of Max', y='Class 1 %', label='Positive Tweet', ax=ax, style='-bo')\n",
    "_ = df[df['Sentiment'] == 0].plot(x='% Reach of Max', y='Class 1 %', label='Negative Tweet', ax=ax, style='-ro')\n",
    "_ = plt.ylabel('% Chance to be Class 1')\n",
    "_ = plt.title('Positive Tweets Always Have a Much Better Chance to get more Engagement')\n",
    "_ = plt.tight_layout()\n",
    "_ = plt.savefig('../analysis_images/test_tweet_predictions.png')"
   ]
  },
  {
   "cell_type": "markdown",
   "metadata": {},
   "source": [
    "This plot is showing the percent probability for an input tweet to be of Class 1 (instead of Class 0). % Reach of Max is the scaled version of Follower count, Friend count, and Status count (all the same number, here). The graph shows that when controlling for all other factors, positive tweets have a much higher chance to be Class 1 instead of Class 0 than negative tweets. "
   ]
  },
  {
   "cell_type": "code",
   "execution_count": null,
   "metadata": {},
   "outputs": [],
   "source": []
  },
  {
   "cell_type": "code",
   "execution_count": null,
   "metadata": {},
   "outputs": [],
   "source": []
  },
  {
   "cell_type": "code",
   "execution_count": null,
   "metadata": {},
   "outputs": [],
   "source": []
  },
  {
   "cell_type": "code",
   "execution_count": null,
   "metadata": {},
   "outputs": [],
   "source": []
  }
 ],
 "metadata": {
  "kernelspec": {
   "display_name": "Python 2",
   "language": "python",
   "name": "python2"
  },
  "language_info": {
   "codemirror_mode": {
    "name": "ipython",
    "version": 2
   },
   "file_extension": ".py",
   "mimetype": "text/x-python",
   "name": "python",
   "nbconvert_exporter": "python",
   "pygments_lexer": "ipython2",
   "version": "2.7.15"
  }
 },
 "nbformat": 4,
 "nbformat_minor": 2
}
