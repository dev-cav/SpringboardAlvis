{
 "cells": [
  {
   "cell_type": "markdown",
   "metadata": {},
   "source": [
    "# Capstone Project 2: Twitter Public Opinion Network Analysis for Bungie\n",
    "\n",
    "This project's goal is to collect and analyze the available Twitter data for Bungie and their main game, Destiny 2.\n",
    "\n",
    "The data are tweets about Bungie and Destiny 2 and the timelines (tweets made by) the Bungie and Destiny 2 official accounts.\n",
    "\n",
    "This notebook is the machine learning analysis for the project."
   ]
  },
  {
   "cell_type": "code",
   "execution_count": 1,
   "metadata": {},
   "outputs": [
    {
     "name": "stdout",
     "output_type": "stream",
     "text": [
      "2019-04-18T10:16:31\n",
      "\n",
      "CPython 2.7.15\n",
      "IPython 5.8.0\n",
      "\n",
      "compiler   : MSC v.1500 64 bit (AMD64)\n",
      "system     : Windows\n",
      "release    : 10\n",
      "machine    : AMD64\n",
      "processor  : Intel64 Family 6 Model 158 Stepping 9, GenuineIntel\n",
      "CPU cores  : 4\n",
      "interpreter: 64bit\n"
     ]
    }
   ],
   "source": [
    "import pandas as pd\n",
    "import numpy as np\n",
    "import matplotlib\n",
    "import matplotlib.pyplot as plt\n",
    "from matplotlib import cm\n",
    "import math\n",
    "from datetime import datetime\n",
    "import seaborn as sns\n",
    "sns.set()\n",
    "\n",
    "%load_ext watermark\n",
    "%watermark"
   ]
  },
  {
   "cell_type": "code",
   "execution_count": 2,
   "metadata": {},
   "outputs": [],
   "source": [
    "# These are the datetime columns\n",
    "# Pandas can convert them all as-is\n",
    "datetime_cols = ['created_at', 'quoted_status.created_at', 'retweeted_status.created_at']"
   ]
  },
  {
   "cell_type": "code",
   "execution_count": 3,
   "metadata": {},
   "outputs": [],
   "source": [
    "destiny_2_tweet_min_df = pd.read_csv(\"../data/destiny_2_tweets_min.csv\",\n",
    "                                     encoding='utf-8', index_col=0, parse_dates=datetime_cols)\n",
    "bungie_tweet_min_df = pd.read_csv(\"../data/bungie_tweets_min.csv\",\n",
    "                                  encoding='utf-8', index_col=0, parse_dates=datetime_cols)\n",
    "bungie_timeline_min_df = pd.read_csv(\"../data/bungie_timeline_min.csv\",\n",
    "                                     encoding='utf-8', index_col=0, parse_dates=datetime_cols)\n",
    "destiny_2_timeline_min_df = pd.read_csv(\"../data/destiny_2_timeline_min.csv\",\n",
    "                                        encoding='utf-8', index_col=0, parse_dates=datetime_cols)"
   ]
  },
  {
   "cell_type": "markdown",
   "metadata": {},
   "source": [
    "## Models\n",
    "\n",
    "#### Natural Language Processing\n",
    "\n",
    "This should give the tweets a sentiment rating, which can be feature generation for other models.\n",
    "\n",
    "Debating between NLTK and spaCy packages for sentiment analysis. Pick NLTK, it has a sentiment package.\n",
    "\n",
    "https://www.nltk.org/api/nltk.sentiment.html?highlight=sentiment#module-nltk.sentiment\n",
    "\n",
    "https://www.geeksforgeeks.org/twitter-sentiment-analysis-using-python/\n",
    "\n",
    "Take note of tfidf? Might be good for topic generation."
   ]
  },
  {
   "cell_type": "code",
   "execution_count": 11,
   "metadata": {},
   "outputs": [
    {
     "name": "stderr",
     "output_type": "stream",
     "text": [
      "[nltk_data] Downloading package vader_lexicon to\n",
      "[nltk_data]     C:\\Users\\sebia\\AppData\\Roaming\\nltk_data...\n"
     ]
    },
    {
     "data": {
      "text/plain": [
       "True"
      ]
     },
     "execution_count": 11,
     "metadata": {},
     "output_type": "execute_result"
    }
   ],
   "source": [
    "import nltk\n",
    "from nltk.sentiment import SentimentAnalyzer\n",
    "from nltk.sentiment.vader import SentimentIntensityAnalyzer\n",
    "nltk.download('vader_lexicon')"
   ]
  },
  {
   "cell_type": "markdown",
   "metadata": {},
   "source": [
    "VADER sentiment analysis tools are from a paper. They were made for social media analysis and can handle lots of unusual text.\n",
    "\n",
    "Documentation: https://www.nltk.org/api/nltk.sentiment.html#module-nltk.sentiment.vader\n",
    "\n",
    "Paper: http://comp.social.gatech.edu/papers/icwsm14.vader.hutto.pdf\n",
    "\n",
    "I want to try the functions polarity_scores, score_valence, and sentiment_valence"
   ]
  },
  {
   "cell_type": "code",
   "execution_count": 13,
   "metadata": {},
   "outputs": [],
   "source": [
    "vader = SentimentIntensityAnalyzer()"
   ]
  },
  {
   "cell_type": "code",
   "execution_count": 17,
   "metadata": {},
   "outputs": [
    {
     "data": {
      "text/plain": [
       "u\"RT @vinnydafreshest: Alright. I guess I'll watch what Bungie has to say about Destiny 2 on Twitch.\""
      ]
     },
     "execution_count": 17,
     "metadata": {},
     "output_type": "execute_result"
    }
   ],
   "source": [
    "destiny_2_tweet_min_df.loc[0, 'text']"
   ]
  },
  {
   "cell_type": "markdown",
   "metadata": {},
   "source": [
    "Wow. That is really easy to use. Let's do that for all of the tweets when we get the data ready for machine learning."
   ]
  },
  {
   "cell_type": "code",
   "execution_count": 18,
   "metadata": {},
   "outputs": [
    {
     "data": {
      "text/plain": [
       "{'compound': 0.25, 'neg': 0.0, 'neu': 0.875, 'pos': 0.125}"
      ]
     },
     "execution_count": 18,
     "metadata": {},
     "output_type": "execute_result"
    }
   ],
   "source": [
    "vader.polarity_scores(destiny_2_tweet_min_df.loc[0, 'text'])"
   ]
  },
  {
   "cell_type": "markdown",
   "metadata": {},
   "source": [
    "The values aren't in the same order as they are in the dictionary."
   ]
  },
  {
   "cell_type": "code",
   "execution_count": 38,
   "metadata": {},
   "outputs": [
    {
     "data": {
      "text/plain": [
       "[0.0, 0.875, 0.125, 0.25]"
      ]
     },
     "execution_count": 38,
     "metadata": {},
     "output_type": "execute_result"
    }
   ],
   "source": [
    "vader.polarity_scores(destiny_2_tweet_min_df.loc[0, 'text']).values()"
   ]
  },
  {
   "cell_type": "code",
   "execution_count": 45,
   "metadata": {},
   "outputs": [
    {
     "data": {
      "text/plain": [
       "{'compound': -0.1779, 'neg': 0.171, 'neu': 0.683, 'pos': 0.147}"
      ]
     },
     "execution_count": 45,
     "metadata": {},
     "output_type": "execute_result"
    }
   ],
   "source": [
    "vader.polarity_scores(destiny_2_tweet_min_df.loc[516, 'text'])"
   ]
  },
  {
   "cell_type": "markdown",
   "metadata": {},
   "source": [
    "Okay. values() puts them in the order neg, neu, pos, comp"
   ]
  },
  {
   "cell_type": "code",
   "execution_count": 46,
   "metadata": {},
   "outputs": [
    {
     "data": {
      "text/plain": [
       "[0.171, 0.683, 0.147, -0.1779]"
      ]
     },
     "execution_count": 46,
     "metadata": {},
     "output_type": "execute_result"
    }
   ],
   "source": [
    "vader.polarity_scores(destiny_2_tweet_min_df.loc[516, 'text']).values()"
   ]
  },
  {
   "cell_type": "markdown",
   "metadata": {},
   "source": [
    "#### Linear Regression\n",
    "\n",
    "Try to estimate retweet counts, then see what is important. I think I won't attempt to predict favorites, since that is a less accurate (I think) metric of engagement. Retweeting more directly shows a tweet to others, and is thus more important in terms of social media reach.\n",
    "\n",
    "Predict on follower count, inverse / exponential decay of time since last official tweet, sentiment rating, tweet posting frequency (?)(per user), "
   ]
  },
  {
   "cell_type": "markdown",
   "metadata": {},
   "source": [
    "Let's set up the data. I will need to redo some steps from the exploratory data analysis, mostly the time_since_last_official_tweet loop."
   ]
  },
  {
   "cell_type": "code",
   "execution_count": 21,
   "metadata": {},
   "outputs": [
    {
     "name": "stdout",
     "output_type": "stream",
     "text": [
      "46168\n"
     ]
    }
   ],
   "source": [
    "normal_tweet_df = pd.concat([destiny_2_tweet_min_df, bungie_tweet_min_df]).reset_index(drop=True)\n",
    "official_tweet_df = pd.concat([bungie_timeline_min_df, destiny_2_timeline_min_df]).reset_index(drop=True)\n",
    "print(len(normal_tweet_df))"
   ]
  },
  {
   "cell_type": "markdown",
   "metadata": {},
   "source": [
    "Remove official account tweets from normal tweet dataframe"
   ]
  },
  {
   "cell_type": "code",
   "execution_count": 22,
   "metadata": {},
   "outputs": [
    {
     "name": "stdout",
     "output_type": "stream",
     "text": [
      "46076\n"
     ]
    }
   ],
   "source": [
    "for user_id in official_tweet_df['user.id'].unique():\n",
    "    normal_tweet_df = normal_tweet_df[normal_tweet_df['user.id'] != user_id]\n",
    "print(len(normal_tweet_df))"
   ]
  },
  {
   "cell_type": "code",
   "execution_count": 23,
   "metadata": {},
   "outputs": [],
   "source": [
    "def set_time_since_official_tweet(original_df, official_df, time_col, new_col_name):\n",
    "    \"\"\"\n",
    "    This function makes a column for the original dataframe\n",
    "    This column will show the time since the most recent tweet in the official dataframe\n",
    "    \"\"\"\n",
    "    \n",
    "    # Make sure the original and official dfs are time-ordered\n",
    "    original_df = original_df.sort_values(time_col)\n",
    "    official_df = official_df.sort_values(time_col)\n",
    "        \n",
    "    # Loop\n",
    "    for og_idx, tweet in original_df.iterrows():\n",
    "        \n",
    "        # There might be some tweets in the original df that are older than the oldest in the official df\n",
    "        # In that case, just set the time diff to be it's posting time - the oldest time in official_df\n",
    "        if (tweet[time_col] < official_df.iloc[0, 1]):\n",
    "            original_df.loc[og_idx, new_col_name] = tweet[time_col] - official_df.iloc[0, 1]\n",
    "            continue\n",
    "        \n",
    "        # This variable will hold the time differences between tweets\n",
    "        # This is the max positive time difference, a good starting value for the minimum\n",
    "        min_time_since_official_tweet = tweet[time_col] - official_df.iloc[-1, 1]\n",
    "        \n",
    "        # Find the closest tweet in official_df with a time less than this one\n",
    "        for off_idx, official_tweet in official_df.iterrows():\n",
    "            \n",
    "            # Check if we've found an official tweet posted after the tweet in question\n",
    "            if (official_tweet[time_col] > tweet[time_col]):                \n",
    "                # The tweet before this official one is what we want\n",
    "                break\n",
    "                \n",
    "            # Only set this if we didn't overstep\n",
    "            min_time_since_official_tweet = tweet[time_col] - official_tweet[time_col]\n",
    "            \n",
    "        # Set the time difference\n",
    "        original_df.loc[og_idx, new_col_name] = min_time_since_official_tweet\n",
    "            \n",
    "    return original_df"
   ]
  },
  {
   "cell_type": "code",
   "execution_count": 24,
   "metadata": {},
   "outputs": [
    {
     "name": "stdout",
     "output_type": "stream",
     "text": [
      "Wall time: 8min 56s\n"
     ]
    }
   ],
   "source": [
    "%%time\n",
    "normal_tweet_df = set_time_since_official_tweet(normal_tweet_df,\n",
    "                                                official_tweet_df,\n",
    "                                                'created_at',\n",
    "                                                'time_since_official_tweet')"
   ]
  },
  {
   "cell_type": "markdown",
   "metadata": {},
   "source": [
    "Columns I want to keep\n",
    "\n",
    "Debating if favorite count should be in there. I don't think so, since it is another metric of engagement. I don't want to predict with it, I should be predicting it.\n",
    "\n",
    "Consider another time col? Will see how well the time since an official tweet works (as linear, as inverse, and as exponential decay)."
   ]
  },
  {
   "cell_type": "code",
   "execution_count": 81,
   "metadata": {},
   "outputs": [],
   "source": [
    "x_cols = ['user.followers_count', 'user.friends_count', 'user.statuses_count',\n",
    "          'user.verified', 'is_quote_status', 'text', 'time_since_official_tweet']"
   ]
  },
  {
   "cell_type": "code",
   "execution_count": 82,
   "metadata": {},
   "outputs": [],
   "source": [
    "y = normal_tweet_df['retweet_count']"
   ]
  },
  {
   "cell_type": "code",
   "execution_count": 83,
   "metadata": {},
   "outputs": [],
   "source": [
    "X = normal_tweet_df[x_cols]"
   ]
  },
  {
   "cell_type": "code",
   "execution_count": 84,
   "metadata": {},
   "outputs": [
    {
     "data": {
      "text/html": [
       "<div>\n",
       "<style scoped>\n",
       "    .dataframe tbody tr th:only-of-type {\n",
       "        vertical-align: middle;\n",
       "    }\n",
       "\n",
       "    .dataframe tbody tr th {\n",
       "        vertical-align: top;\n",
       "    }\n",
       "\n",
       "    .dataframe thead th {\n",
       "        text-align: right;\n",
       "    }\n",
       "</style>\n",
       "<table border=\"1\" class=\"dataframe\">\n",
       "  <thead>\n",
       "    <tr style=\"text-align: right;\">\n",
       "      <th></th>\n",
       "      <th>user.followers_count</th>\n",
       "      <th>user.friends_count</th>\n",
       "      <th>user.statuses_count</th>\n",
       "      <th>user.verified</th>\n",
       "      <th>is_quote_status</th>\n",
       "      <th>text</th>\n",
       "      <th>time_since_official_tweet</th>\n",
       "    </tr>\n",
       "  </thead>\n",
       "  <tbody>\n",
       "    <tr>\n",
       "      <th>21438</th>\n",
       "      <td>648.0</td>\n",
       "      <td>664.0</td>\n",
       "      <td>50382.0</td>\n",
       "      <td>False</td>\n",
       "      <td>0.0</td>\n",
       "      <td>RT @MassivelyOP: The MMO Bookclub devotes Marc...</td>\n",
       "      <td>-1 days +18:11:31</td>\n",
       "    </tr>\n",
       "    <tr>\n",
       "      <th>21437</th>\n",
       "      <td>1724.0</td>\n",
       "      <td>500.0</td>\n",
       "      <td>120258.0</td>\n",
       "      <td>False</td>\n",
       "      <td>0.0</td>\n",
       "      <td>RT @forsungwoon_: 190303 My Moment Fansign\\r\\r...</td>\n",
       "      <td>-1 days +18:18:37</td>\n",
       "    </tr>\n",
       "    <tr>\n",
       "      <th>21436</th>\n",
       "      <td>213109.0</td>\n",
       "      <td>1072.0</td>\n",
       "      <td>17796.0</td>\n",
       "      <td>False</td>\n",
       "      <td>0.0</td>\n",
       "      <td>What did you guys think of the new Destiny 2 V...</td>\n",
       "      <td>-1 days +18:50:10</td>\n",
       "    </tr>\n",
       "    <tr>\n",
       "      <th>21435</th>\n",
       "      <td>10.0</td>\n",
       "      <td>18.0</td>\n",
       "      <td>3686.0</td>\n",
       "      <td>False</td>\n",
       "      <td>0.0</td>\n",
       "      <td>RT @MrRoflWaffles: What did you guys think of ...</td>\n",
       "      <td>-1 days +18:50:35</td>\n",
       "    </tr>\n",
       "    <tr>\n",
       "      <th>21434</th>\n",
       "      <td>123.0</td>\n",
       "      <td>317.0</td>\n",
       "      <td>64673.0</td>\n",
       "      <td>False</td>\n",
       "      <td>0.0</td>\n",
       "      <td>RT @forsungwoon_: 190303 My Moment Fansign\\r\\r...</td>\n",
       "      <td>-1 days +18:51:48</td>\n",
       "    </tr>\n",
       "  </tbody>\n",
       "</table>\n",
       "</div>"
      ],
      "text/plain": [
       "       user.followers_count  user.friends_count  user.statuses_count  \\\n",
       "21438                 648.0               664.0              50382.0   \n",
       "21437                1724.0               500.0             120258.0   \n",
       "21436              213109.0              1072.0              17796.0   \n",
       "21435                  10.0                18.0               3686.0   \n",
       "21434                 123.0               317.0              64673.0   \n",
       "\n",
       "       user.verified  is_quote_status  \\\n",
       "21438          False              0.0   \n",
       "21437          False              0.0   \n",
       "21436          False              0.0   \n",
       "21435          False              0.0   \n",
       "21434          False              0.0   \n",
       "\n",
       "                                                    text  \\\n",
       "21438  RT @MassivelyOP: The MMO Bookclub devotes Marc...   \n",
       "21437  RT @forsungwoon_: 190303 My Moment Fansign\\r\\r...   \n",
       "21436  What did you guys think of the new Destiny 2 V...   \n",
       "21435  RT @MrRoflWaffles: What did you guys think of ...   \n",
       "21434  RT @forsungwoon_: 190303 My Moment Fansign\\r\\r...   \n",
       "\n",
       "      time_since_official_tweet  \n",
       "21438         -1 days +18:11:31  \n",
       "21437         -1 days +18:18:37  \n",
       "21436         -1 days +18:50:10  \n",
       "21435         -1 days +18:50:35  \n",
       "21434         -1 days +18:51:48  "
      ]
     },
     "execution_count": 84,
     "metadata": {},
     "output_type": "execute_result"
    }
   ],
   "source": [
    "X.head()"
   ]
  },
  {
   "cell_type": "markdown",
   "metadata": {},
   "source": [
    "Change time_since_official_tweet to be in minutes"
   ]
  },
  {
   "cell_type": "code",
   "execution_count": 85,
   "metadata": {},
   "outputs": [],
   "source": [
    "X.loc[:, 'time_since_official_tweet'] = X['time_since_official_tweet'].astype('timedelta64[m]')"
   ]
  },
  {
   "cell_type": "markdown",
   "metadata": {},
   "source": [
    "Get the sentiment values from the tweet text"
   ]
  },
  {
   "cell_type": "code",
   "execution_count": 86,
   "metadata": {},
   "outputs": [],
   "source": [
    "def get_vader_sentiment_scores(df, text_col, new_col_names):\n",
    "    \"\"\"\n",
    "    For a dataframe, get the sentiment scores for the text_col using VADER\n",
    "    Assign results to the new columns with new_col_names\n",
    "    \"\"\"\n",
    "    assert len(new_col_names) == 4\n",
    "    \n",
    "    # Set up new columns\n",
    "    for col_name in new_col_names:\n",
    "        df.loc[:, col_name] = 0.0\n",
    "    \n",
    "    df.loc[:, new_col_names] = [vader.polarity_scores(text).values() for text in df[text_col]]\n",
    "    #for idx, row in df.iterrows():\n",
    "        #df.loc[idx, new_col_names] = vader.polarity_scores(row[text_col]).values()\n",
    "    \n",
    "    return df"
   ]
  },
  {
   "cell_type": "markdown",
   "metadata": {},
   "source": [
    "Version with the for loop and iterrows took probably an hour and a half\n",
    "\n",
    "Version with the list comprehension took 8 seconds"
   ]
  },
  {
   "cell_type": "code",
   "execution_count": 87,
   "metadata": {},
   "outputs": [
    {
     "name": "stdout",
     "output_type": "stream",
     "text": [
      "Wall time: 8.26 s\n"
     ]
    }
   ],
   "source": [
    "%%time\n",
    "X = get_vader_sentiment_scores(X, 'text', ['neg_score', 'neu_score', 'pos_score', 'comp_score'])"
   ]
  },
  {
   "cell_type": "code",
   "execution_count": 88,
   "metadata": {},
   "outputs": [
    {
     "data": {
      "text/html": [
       "<div>\n",
       "<style scoped>\n",
       "    .dataframe tbody tr th:only-of-type {\n",
       "        vertical-align: middle;\n",
       "    }\n",
       "\n",
       "    .dataframe tbody tr th {\n",
       "        vertical-align: top;\n",
       "    }\n",
       "\n",
       "    .dataframe thead th {\n",
       "        text-align: right;\n",
       "    }\n",
       "</style>\n",
       "<table border=\"1\" class=\"dataframe\">\n",
       "  <thead>\n",
       "    <tr style=\"text-align: right;\">\n",
       "      <th></th>\n",
       "      <th>user.followers_count</th>\n",
       "      <th>user.friends_count</th>\n",
       "      <th>user.statuses_count</th>\n",
       "      <th>user.verified</th>\n",
       "      <th>is_quote_status</th>\n",
       "      <th>text</th>\n",
       "      <th>time_since_official_tweet</th>\n",
       "      <th>neg_score</th>\n",
       "      <th>neu_score</th>\n",
       "      <th>pos_score</th>\n",
       "      <th>comp_score</th>\n",
       "    </tr>\n",
       "  </thead>\n",
       "  <tbody>\n",
       "    <tr>\n",
       "      <th>21438</th>\n",
       "      <td>648.0</td>\n",
       "      <td>664.0</td>\n",
       "      <td>50382.0</td>\n",
       "      <td>False</td>\n",
       "      <td>0.0</td>\n",
       "      <td>RT @MassivelyOP: The MMO Bookclub devotes Marc...</td>\n",
       "      <td>-349.0</td>\n",
       "      <td>0.0</td>\n",
       "      <td>0.860</td>\n",
       "      <td>0.140</td>\n",
       "      <td>0.3818</td>\n",
       "    </tr>\n",
       "    <tr>\n",
       "      <th>21437</th>\n",
       "      <td>1724.0</td>\n",
       "      <td>500.0</td>\n",
       "      <td>120258.0</td>\n",
       "      <td>False</td>\n",
       "      <td>0.0</td>\n",
       "      <td>RT @forsungwoon_: 190303 My Moment Fansign\\r\\r...</td>\n",
       "      <td>-342.0</td>\n",
       "      <td>0.0</td>\n",
       "      <td>0.764</td>\n",
       "      <td>0.236</td>\n",
       "      <td>0.7574</td>\n",
       "    </tr>\n",
       "    <tr>\n",
       "      <th>21436</th>\n",
       "      <td>213109.0</td>\n",
       "      <td>1072.0</td>\n",
       "      <td>17796.0</td>\n",
       "      <td>False</td>\n",
       "      <td>0.0</td>\n",
       "      <td>What did you guys think of the new Destiny 2 V...</td>\n",
       "      <td>-310.0</td>\n",
       "      <td>0.0</td>\n",
       "      <td>0.890</td>\n",
       "      <td>0.110</td>\n",
       "      <td>0.3527</td>\n",
       "    </tr>\n",
       "    <tr>\n",
       "      <th>21435</th>\n",
       "      <td>10.0</td>\n",
       "      <td>18.0</td>\n",
       "      <td>3686.0</td>\n",
       "      <td>False</td>\n",
       "      <td>0.0</td>\n",
       "      <td>RT @MrRoflWaffles: What did you guys think of ...</td>\n",
       "      <td>-310.0</td>\n",
       "      <td>0.0</td>\n",
       "      <td>0.895</td>\n",
       "      <td>0.105</td>\n",
       "      <td>0.3527</td>\n",
       "    </tr>\n",
       "    <tr>\n",
       "      <th>21434</th>\n",
       "      <td>123.0</td>\n",
       "      <td>317.0</td>\n",
       "      <td>64673.0</td>\n",
       "      <td>False</td>\n",
       "      <td>0.0</td>\n",
       "      <td>RT @forsungwoon_: 190303 My Moment Fansign\\r\\r...</td>\n",
       "      <td>-309.0</td>\n",
       "      <td>0.0</td>\n",
       "      <td>0.764</td>\n",
       "      <td>0.236</td>\n",
       "      <td>0.7574</td>\n",
       "    </tr>\n",
       "  </tbody>\n",
       "</table>\n",
       "</div>"
      ],
      "text/plain": [
       "       user.followers_count  user.friends_count  user.statuses_count  \\\n",
       "21438                 648.0               664.0              50382.0   \n",
       "21437                1724.0               500.0             120258.0   \n",
       "21436              213109.0              1072.0              17796.0   \n",
       "21435                  10.0                18.0               3686.0   \n",
       "21434                 123.0               317.0              64673.0   \n",
       "\n",
       "       user.verified  is_quote_status  \\\n",
       "21438          False              0.0   \n",
       "21437          False              0.0   \n",
       "21436          False              0.0   \n",
       "21435          False              0.0   \n",
       "21434          False              0.0   \n",
       "\n",
       "                                                    text  \\\n",
       "21438  RT @MassivelyOP: The MMO Bookclub devotes Marc...   \n",
       "21437  RT @forsungwoon_: 190303 My Moment Fansign\\r\\r...   \n",
       "21436  What did you guys think of the new Destiny 2 V...   \n",
       "21435  RT @MrRoflWaffles: What did you guys think of ...   \n",
       "21434  RT @forsungwoon_: 190303 My Moment Fansign\\r\\r...   \n",
       "\n",
       "       time_since_official_tweet  neg_score  neu_score  pos_score  comp_score  \n",
       "21438                     -349.0        0.0      0.860      0.140      0.3818  \n",
       "21437                     -342.0        0.0      0.764      0.236      0.7574  \n",
       "21436                     -310.0        0.0      0.890      0.110      0.3527  \n",
       "21435                     -310.0        0.0      0.895      0.105      0.3527  \n",
       "21434                     -309.0        0.0      0.764      0.236      0.7574  "
      ]
     },
     "execution_count": 88,
     "metadata": {},
     "output_type": "execute_result"
    }
   ],
   "source": [
    "X.head()"
   ]
  },
  {
   "cell_type": "markdown",
   "metadata": {},
   "source": [
    "Sanity checks for the sentiment scores\n",
    "\n",
    "The negative scores seem mostly accurate. FIGHT!! is not a bad tweet, since this is a game with violence. And No problem should be neutral."
   ]
  },
  {
   "cell_type": "code",
   "execution_count": 93,
   "metadata": {},
   "outputs": [
    {
     "data": {
      "text/plain": [
       "29327                                     @Bungie Cancer\n",
       "39449                                    @Bungie FIGHT!!\n",
       "24587                  @LuCKyy_and_BW @Bungie STOP LYING\n",
       "7521     @TheRadicalJawa No wonder Destiny 2 sucked ass.\n",
       "41881                  @NikTheGamerDK @Bungie No problem\n",
       "Name: text, dtype: object"
      ]
     },
     "execution_count": 93,
     "metadata": {},
     "output_type": "execute_result"
    }
   ],
   "source": [
    "X.sort_values('neg_score', ascending=False).head(5)['text']"
   ]
  },
  {
   "cell_type": "markdown",
   "metadata": {},
   "source": [
    "The positive scores look accurate"
   ]
  },
  {
   "cell_type": "code",
   "execution_count": 94,
   "metadata": {},
   "outputs": [
    {
     "data": {
      "text/plain": [
       "43357    @DestinyTheGame @Bungie Yes yes yes yes YES!\n",
       "13358                            god i love destiny 2\n",
       "44910               Brilliant https://t.co/wOPuzbMUQe\n",
       "36698                                 @Bungie Perfect\n",
       "9315                   Destiny 2 is pretty wonderful!\n",
       "Name: text, dtype: object"
      ]
     },
     "execution_count": 94,
     "metadata": {},
     "output_type": "execute_result"
    }
   ],
   "source": [
    "X.sort_values('pos_score', ascending=False).head(5)['text']"
   ]
  },
  {
   "cell_type": "markdown",
   "metadata": {},
   "source": [
    "The most neutral scores seem accurate. Mostly full of proper nouns. If I had more time, I'd do some named entity recognition to filter those out."
   ]
  },
  {
   "cell_type": "code",
   "execution_count": 99,
   "metadata": {},
   "outputs": [
    {
     "data": {
      "text/plain": [
       "array([ u'RT @DestinyTheGame: Season of the Drifter is underway and the latest Bungie ViDoc outlines what to expect all season long.\\r\\r\\r\\n\\r\\r\\r\\n\\U0001f4a0 https://t.co/\\u2026',\n",
       "       u'RT @chibbyranjo: More Destiny 2 right now! Say hi! https://t.co/JAMDkkgXPi',\n",
       "       u'@Bungie Full Reaper set, just need Titan mark for full invader set. https://t.co/abtL1X081f',\n",
       "       u'Finally got my Legend of Acrius upgraded in Destiny 2.',\n",
       "       u'@quickhakker @eurogamer Not really. Most have evolved into similar shapes. And bungie designed the ps4 controller.'], dtype=object)"
      ]
     },
     "execution_count": 99,
     "metadata": {},
     "output_type": "execute_result"
    }
   ],
   "source": [
    "X.sort_values('neu_score', ascending=False)['text'].head(5).values"
   ]
  },
  {
   "cell_type": "markdown",
   "metadata": {},
   "source": [
    "Scale data. Weird options for the time since last official tweet? Some negative values.\n",
    "\n",
    "Put into linear regression. Try out the stock LR with the 3 options for the time_since_last_official_tweet.\n",
    "\n",
    "Hyperparameter tuning."
   ]
  },
  {
   "cell_type": "code",
   "execution_count": null,
   "metadata": {},
   "outputs": [],
   "source": []
  },
  {
   "cell_type": "code",
   "execution_count": null,
   "metadata": {},
   "outputs": [],
   "source": []
  },
  {
   "cell_type": "code",
   "execution_count": null,
   "metadata": {},
   "outputs": [],
   "source": []
  },
  {
   "cell_type": "code",
   "execution_count": null,
   "metadata": {},
   "outputs": [],
   "source": []
  },
  {
   "cell_type": "code",
   "execution_count": null,
   "metadata": {},
   "outputs": [],
   "source": []
  },
  {
   "cell_type": "code",
   "execution_count": null,
   "metadata": {},
   "outputs": [],
   "source": []
  },
  {
   "cell_type": "code",
   "execution_count": null,
   "metadata": {},
   "outputs": [],
   "source": []
  },
  {
   "cell_type": "code",
   "execution_count": null,
   "metadata": {},
   "outputs": [],
   "source": []
  },
  {
   "cell_type": "code",
   "execution_count": null,
   "metadata": {},
   "outputs": [],
   "source": []
  },
  {
   "cell_type": "markdown",
   "metadata": {},
   "source": [
    "#### Classification Algorithm (Maybe)\n",
    "\n",
    "See what kinds of users there are? Put it more data, see what separates users with huge reach from the average, no-reach Twitter user."
   ]
  },
  {
   "cell_type": "code",
   "execution_count": null,
   "metadata": {},
   "outputs": [],
   "source": []
  },
  {
   "cell_type": "code",
   "execution_count": null,
   "metadata": {},
   "outputs": [],
   "source": []
  }
 ],
 "metadata": {
  "kernelspec": {
   "display_name": "Python 2",
   "language": "python",
   "name": "python2"
  },
  "language_info": {
   "codemirror_mode": {
    "name": "ipython",
    "version": 2
   },
   "file_extension": ".py",
   "mimetype": "text/x-python",
   "name": "python",
   "nbconvert_exporter": "python",
   "pygments_lexer": "ipython2",
   "version": "2.7.15"
  }
 },
 "nbformat": 4,
 "nbformat_minor": 2
}
