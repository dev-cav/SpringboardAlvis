{
 "cells": [
  {
   "cell_type": "markdown",
   "metadata": {},
   "source": [
    "# Capstone Project 2: Twitter Public Opinion Network Analysis for Bungie\n",
    "\n",
    "This project's goal is to collect and analyze the available Twitter data for Bungie and their main game, Destiny 2.\n",
    "\n",
    "The data I am collecting are tweets about Bungie and Destiny 2 and the timelines (tweets made by) the Bungie and Destiny 2 official accounts.\n",
    "\n",
    "This notebook is the data wrangling for the project, mostly calls to the Twitter API (https://developer.twitter.com/en/docs/tweets/search/api-reference/get-search-tweets.html )."
   ]
  },
  {
   "cell_type": "code",
   "execution_count": 1,
   "metadata": {},
   "outputs": [],
   "source": [
    "import pandas as pd\n",
    "from pandas.io.json import json_normalize\n",
    "\n",
    "import requests\n",
    "from requests_oauthlib import OAuth1\n",
    "import json\n",
    "import numpy as np\n",
    "import matplotlib.pyplot as plt\n",
    "import time\n",
    "import math\n",
    "from datetime import datetime"
   ]
  },
  {
   "cell_type": "markdown",
   "metadata": {},
   "source": [
    "### Testing Requests\n",
    "\n",
    "The user rate limit is 180 requests per 15 min for the default api\n",
    "\n",
    "Here are all of the other rate limits: https://developer.twitter.com/en/docs/basics/rate-limits"
   ]
  },
  {
   "cell_type": "markdown",
   "metadata": {},
   "source": [
    "This is the base url for the Twitter API"
   ]
  },
  {
   "cell_type": "code",
   "execution_count": 2,
   "metadata": {},
   "outputs": [],
   "source": [
    "twitter_url = 'https://api.twitter.com/1.1/search/tweets.json'"
   ]
  },
  {
   "cell_type": "markdown",
   "metadata": {},
   "source": [
    "I will need an API key, secret, token, and token secret, but I will never save them in this file."
   ]
  },
  {
   "cell_type": "markdown",
   "metadata": {},
   "source": [
    "There are a couple different authentication methods\n",
    "\n",
    "I will see which ones I need\n",
    "\n",
    "https://developer.twitter.com/en/docs/basics/authentication/overview/oauth\n",
    "\n",
    "The one below is OAuth1"
   ]
  },
  {
   "cell_type": "code",
   "execution_count": 3,
   "metadata": {},
   "outputs": [],
   "source": [
    "\"\"\"\n",
    "OAuth1('API_KEY',\n",
    "'API_SECRET_KEY',\n",
    "'ACCESS_TOKEN',\n",
    "'ACCESS_TOKEN_SECRET')\n",
    "\"\"\"   \n",
    "auth = OAuth1()"
   ]
  },
  {
   "cell_type": "markdown",
   "metadata": {},
   "source": [
    "These are some of the parameters I can use in my requests:\n",
    "\n",
    "The 'max_id' parameter is very important. max_id roughly correlates with time, so a tweet that has a higher ID than another tweet was made after that tweet. Assigning max_id repeatedly within a loop allows me to prevent repeatedly pulling the same tweets."
   ]
  },
  {
   "cell_type": "code",
   "execution_count": 86,
   "metadata": {},
   "outputs": [],
   "source": [
    "params = {\n",
    "    # General search term\n",
    "    'q': 'destiny 2',\n",
    "    \n",
    "    # Others\n",
    "    'lang': 'en',\n",
    "    'result_type': 'recent',\n",
    "    'count': '100',\n",
    "    'include_entities': 'false'\n",
    "}"
   ]
  },
  {
   "cell_type": "code",
   "execution_count": 87,
   "metadata": {},
   "outputs": [
    {
     "data": {
      "text/plain": [
       "{'count': '100',\n",
       " 'include_entities': 'false',\n",
       " 'lang': 'en',\n",
       " 'max_id': 1100761992720134144L,\n",
       " 'q': 'destiny 2',\n",
       " 'result_type': 'recent'}"
      ]
     },
     "execution_count": 87,
     "metadata": {},
     "output_type": "execute_result"
    }
   ],
   "source": [
    "params"
   ]
  },
  {
   "cell_type": "markdown",
   "metadata": {},
   "source": [
    "This request can be used to verify that my credentials worked.\n",
    "\n",
    "I want to see Response code 200"
   ]
  },
  {
   "cell_type": "code",
   "execution_count": 72,
   "metadata": {},
   "outputs": [],
   "source": [
    "credential_url = 'https://api.twitter.com/1.1/account/verify_credentials.json'"
   ]
  },
  {
   "cell_type": "code",
   "execution_count": 73,
   "metadata": {},
   "outputs": [
    {
     "data": {
      "text/plain": [
       "<Response [200]>"
      ]
     },
     "execution_count": 73,
     "metadata": {},
     "output_type": "execute_result"
    }
   ],
   "source": [
    "requests.get(credential_url, auth=auth)"
   ]
  },
  {
   "cell_type": "markdown",
   "metadata": {},
   "source": [
    "Okay, let's pull some tweets"
   ]
  },
  {
   "cell_type": "code",
   "execution_count": 88,
   "metadata": {},
   "outputs": [
    {
     "data": {
      "text/plain": [
       "<Response [200]>"
      ]
     },
     "execution_count": 88,
     "metadata": {},
     "output_type": "execute_result"
    }
   ],
   "source": [
    "tweets = requests.get(twitter_url, params=params, auth=auth)\n",
    "tweets"
   ]
  },
  {
   "cell_type": "markdown",
   "metadata": {},
   "source": [
    "Here's the raw JSON"
   ]
  },
  {
   "cell_type": "code",
   "execution_count": 89,
   "metadata": {},
   "outputs": [
    {
     "data": {
      "text/plain": [
       "{u'search_metadata': {u'completed_in': 0.004,\n",
       "  u'count': 100,\n",
       "  u'max_id': 1100761992720134144L,\n",
       "  u'max_id_str': u'1100761992720134144',\n",
       "  u'query': u'destiny+2',\n",
       "  u'refresh_url': u'?since_id=1100761992720134144&q=destiny%202&lang=en&result_type=recent',\n",
       "  u'since_id': 0,\n",
       "  u'since_id_str': u'0'},\n",
       " u'statuses': []}"
      ]
     },
     "execution_count": 89,
     "metadata": {},
     "output_type": "execute_result"
    }
   ],
   "source": [
    "tweets.json()"
   ]
  },
  {
   "cell_type": "markdown",
   "metadata": {},
   "source": [
    "The json only has 2 top-level keys"
   ]
  },
  {
   "cell_type": "code",
   "execution_count": 90,
   "metadata": {},
   "outputs": [
    {
     "data": {
      "text/plain": [
       "[u'search_metadata', u'statuses']"
      ]
     },
     "execution_count": 90,
     "metadata": {},
     "output_type": "execute_result"
    }
   ],
   "source": [
    "tweets.json().keys()"
   ]
  },
  {
   "cell_type": "markdown",
   "metadata": {},
   "source": [
    "I don't really need the search metadata. Isolate the tweets themselves"
   ]
  },
  {
   "cell_type": "code",
   "execution_count": 96,
   "metadata": {},
   "outputs": [
    {
     "data": {
      "text/plain": [
       "True"
      ]
     },
     "execution_count": 96,
     "metadata": {},
     "output_type": "execute_result"
    }
   ],
   "source": [
    "tweets.json()['statuses']"
   ]
  },
  {
   "cell_type": "code",
   "execution_count": 12,
   "metadata": {
    "scrolled": false
   },
   "outputs": [
    {
     "data": {
      "text/plain": [
       "{'content-length': '42276', 'x-rate-limit-reset': '1552439965', 'x-rate-limit-remaining': '179', 'x-xss-protection': '1; mode=block; report=https://twitter.com/i/xss_report', 'x-content-type-options': 'nosniff', 'x-connection-hash': '0506205efaffbeec6b95fd84b15e8532', 'x-twitter-response-tags': 'BouncerCompliant', 'cache-control': 'no-cache, no-store, must-revalidate, pre-check=0, post-check=0', 'status': '200 OK', 'content-disposition': 'attachment; filename=json.json', 'set-cookie': 'personalization_id=\"v1_0zeROWLiRk16aknnlJ4lxg==\"; Max-Age=63072000; Expires=Fri, 12 Mar 2021 01:04:25 GMT; Path=/; Domain=.twitter.com, guest_id=v1%3A155243906564739627; Max-Age=63072000; Expires=Fri, 12 Mar 2021 01:04:25 GMT; Path=/; Domain=.twitter.com', 'expires': 'Tue, 31 Mar 1981 05:00:00 GMT', 'x-access-level': 'read-write', 'last-modified': 'Wed, 13 Mar 2019 01:04:25 GMT', 'pragma': 'no-cache', 'date': 'Wed, 13 Mar 2019 01:04:25 GMT', 'x-rate-limit-limit': '180', 'x-response-time': '324', 'x-transaction': '003ab716007b072a', 'content-encoding': 'gzip', 'strict-transport-security': 'max-age=631138519', 'server': 'tsa_a', 'x-frame-options': 'SAMEORIGIN', 'content-type': 'application/json;charset=utf-8'}"
      ]
     },
     "execution_count": 12,
     "metadata": {},
     "output_type": "execute_result"
    }
   ],
   "source": [
    "tweets.headers"
   ]
  },
  {
   "cell_type": "markdown",
   "metadata": {},
   "source": [
    "Each entry has these fields. Some of the fields (like entities) have several sub-fields.\n",
    "\n",
    "Some of the engagement metrics are 'favorite_count' and 'retweet_count'\n",
    "\n",
    "'Created_at' / 'id' will be important for my time-ordering\n",
    "\n",
    "should I restrict my language to English?\n",
    "\n",
    "I don't think I can see how many comments there are. Oh I think those are replies. I can self-join or make the network based on 'in_reply_to_status_id_str', I think."
   ]
  },
  {
   "cell_type": "code",
   "execution_count": 13,
   "metadata": {
    "scrolled": false
   },
   "outputs": [
    {
     "data": {
      "text/plain": [
       "[u'contributors',\n",
       " u'truncated',\n",
       " u'text',\n",
       " u'is_quote_status',\n",
       " u'in_reply_to_status_id',\n",
       " u'id',\n",
       " u'favorite_count',\n",
       " u'retweeted',\n",
       " u'coordinates',\n",
       " u'source',\n",
       " u'in_reply_to_screen_name',\n",
       " u'in_reply_to_user_id',\n",
       " u'retweet_count',\n",
       " u'id_str',\n",
       " u'favorited',\n",
       " u'retweeted_status',\n",
       " u'user',\n",
       " u'geo',\n",
       " u'in_reply_to_user_id_str',\n",
       " u'lang',\n",
       " u'created_at',\n",
       " u'in_reply_to_status_id_str',\n",
       " u'place',\n",
       " u'metadata']"
      ]
     },
     "execution_count": 13,
     "metadata": {},
     "output_type": "execute_result"
    }
   ],
   "source": [
    "tweets.json()['statuses'][0].keys()"
   ]
  },
  {
   "cell_type": "code",
   "execution_count": 14,
   "metadata": {},
   "outputs": [
    {
     "data": {
      "text/plain": [
       "{u'iso_language_code': u'en', u'result_type': u'recent'}"
      ]
     },
     "execution_count": 14,
     "metadata": {},
     "output_type": "execute_result"
    }
   ],
   "source": [
    "tweets.json()['statuses'][0]['metadata']"
   ]
  },
  {
   "cell_type": "markdown",
   "metadata": {},
   "source": [
    "Make a dataframe of the tweets"
   ]
  },
  {
   "cell_type": "code",
   "execution_count": 15,
   "metadata": {},
   "outputs": [
    {
     "data": {
      "text/html": [
       "<div>\n",
       "<style scoped>\n",
       "    .dataframe tbody tr th:only-of-type {\n",
       "        vertical-align: middle;\n",
       "    }\n",
       "\n",
       "    .dataframe tbody tr th {\n",
       "        vertical-align: top;\n",
       "    }\n",
       "\n",
       "    .dataframe thead th {\n",
       "        text-align: right;\n",
       "    }\n",
       "</style>\n",
       "<table border=\"1\" class=\"dataframe\">\n",
       "  <thead>\n",
       "    <tr style=\"text-align: right;\">\n",
       "      <th></th>\n",
       "      <th>contributors</th>\n",
       "      <th>coordinates</th>\n",
       "      <th>created_at</th>\n",
       "      <th>favorite_count</th>\n",
       "      <th>favorited</th>\n",
       "      <th>geo</th>\n",
       "      <th>id</th>\n",
       "      <th>id_str</th>\n",
       "      <th>in_reply_to_screen_name</th>\n",
       "      <th>in_reply_to_status_id</th>\n",
       "      <th>...</th>\n",
       "      <th>user.profile_text_color</th>\n",
       "      <th>user.profile_use_background_image</th>\n",
       "      <th>user.protected</th>\n",
       "      <th>user.screen_name</th>\n",
       "      <th>user.statuses_count</th>\n",
       "      <th>user.time_zone</th>\n",
       "      <th>user.translator_type</th>\n",
       "      <th>user.url</th>\n",
       "      <th>user.utc_offset</th>\n",
       "      <th>user.verified</th>\n",
       "    </tr>\n",
       "  </thead>\n",
       "  <tbody>\n",
       "    <tr>\n",
       "      <th>0</th>\n",
       "      <td>None</td>\n",
       "      <td>None</td>\n",
       "      <td>Wed Mar 13 01:03:25 +0000 2019</td>\n",
       "      <td>0</td>\n",
       "      <td>False</td>\n",
       "      <td>None</td>\n",
       "      <td>1105635439904473088</td>\n",
       "      <td>1105635439904473088</td>\n",
       "      <td>None</td>\n",
       "      <td>NaN</td>\n",
       "      <td>...</td>\n",
       "      <td>333333</td>\n",
       "      <td>True</td>\n",
       "      <td>False</td>\n",
       "      <td>Germain58055796</td>\n",
       "      <td>62</td>\n",
       "      <td>None</td>\n",
       "      <td>none</td>\n",
       "      <td>None</td>\n",
       "      <td>None</td>\n",
       "      <td>False</td>\n",
       "    </tr>\n",
       "    <tr>\n",
       "      <th>1</th>\n",
       "      <td>None</td>\n",
       "      <td>None</td>\n",
       "      <td>Wed Mar 13 01:02:49 +0000 2019</td>\n",
       "      <td>0</td>\n",
       "      <td>False</td>\n",
       "      <td>None</td>\n",
       "      <td>1105635291375656960</td>\n",
       "      <td>1105635291375656960</td>\n",
       "      <td>None</td>\n",
       "      <td>NaN</td>\n",
       "      <td>...</td>\n",
       "      <td>333333</td>\n",
       "      <td>True</td>\n",
       "      <td>False</td>\n",
       "      <td>Cygamerok</td>\n",
       "      <td>8065</td>\n",
       "      <td>None</td>\n",
       "      <td>none</td>\n",
       "      <td>https://t.co/DTbLRNRmOm</td>\n",
       "      <td>None</td>\n",
       "      <td>False</td>\n",
       "    </tr>\n",
       "    <tr>\n",
       "      <th>2</th>\n",
       "      <td>None</td>\n",
       "      <td>None</td>\n",
       "      <td>Wed Mar 13 01:02:24 +0000 2019</td>\n",
       "      <td>2</td>\n",
       "      <td>False</td>\n",
       "      <td>None</td>\n",
       "      <td>1105635187071700992</td>\n",
       "      <td>1105635187071700992</td>\n",
       "      <td>None</td>\n",
       "      <td>NaN</td>\n",
       "      <td>...</td>\n",
       "      <td>333333</td>\n",
       "      <td>False</td>\n",
       "      <td>False</td>\n",
       "      <td>loadingreadyrun</td>\n",
       "      <td>16532</td>\n",
       "      <td>None</td>\n",
       "      <td>none</td>\n",
       "      <td>http://t.co/p69e6Lcx7H</td>\n",
       "      <td>None</td>\n",
       "      <td>False</td>\n",
       "    </tr>\n",
       "    <tr>\n",
       "      <th>3</th>\n",
       "      <td>None</td>\n",
       "      <td>None</td>\n",
       "      <td>Wed Mar 13 01:02:01 +0000 2019</td>\n",
       "      <td>0</td>\n",
       "      <td>False</td>\n",
       "      <td>None</td>\n",
       "      <td>1105635090263142400</td>\n",
       "      <td>1105635090263142400</td>\n",
       "      <td>None</td>\n",
       "      <td>NaN</td>\n",
       "      <td>...</td>\n",
       "      <td>3394C8</td>\n",
       "      <td>False</td>\n",
       "      <td>False</td>\n",
       "      <td>techradar</td>\n",
       "      <td>57882</td>\n",
       "      <td>None</td>\n",
       "      <td>none</td>\n",
       "      <td>https://t.co/bjLoW5yMKX</td>\n",
       "      <td>None</td>\n",
       "      <td>True</td>\n",
       "    </tr>\n",
       "    <tr>\n",
       "      <th>4</th>\n",
       "      <td>None</td>\n",
       "      <td>None</td>\n",
       "      <td>Wed Mar 13 01:01:00 +0000 2019</td>\n",
       "      <td>1</td>\n",
       "      <td>False</td>\n",
       "      <td>None</td>\n",
       "      <td>1105634831004766210</td>\n",
       "      <td>1105634831004766210</td>\n",
       "      <td>None</td>\n",
       "      <td>NaN</td>\n",
       "      <td>...</td>\n",
       "      <td>000000</td>\n",
       "      <td>False</td>\n",
       "      <td>False</td>\n",
       "      <td>shutterman1801</td>\n",
       "      <td>215</td>\n",
       "      <td>None</td>\n",
       "      <td>none</td>\n",
       "      <td>https://t.co/bu71D3JnJz</td>\n",
       "      <td>None</td>\n",
       "      <td>False</td>\n",
       "    </tr>\n",
       "    <tr>\n",
       "      <th>5</th>\n",
       "      <td>None</td>\n",
       "      <td>None</td>\n",
       "      <td>Wed Mar 13 01:00:46 +0000 2019</td>\n",
       "      <td>0</td>\n",
       "      <td>False</td>\n",
       "      <td>None</td>\n",
       "      <td>1105634774146797568</td>\n",
       "      <td>1105634774146797568</td>\n",
       "      <td>None</td>\n",
       "      <td>NaN</td>\n",
       "      <td>...</td>\n",
       "      <td>000000</td>\n",
       "      <td>False</td>\n",
       "      <td>False</td>\n",
       "      <td>OdinRa_</td>\n",
       "      <td>5273</td>\n",
       "      <td>None</td>\n",
       "      <td>none</td>\n",
       "      <td>https://t.co/0xdUheHGjY</td>\n",
       "      <td>None</td>\n",
       "      <td>False</td>\n",
       "    </tr>\n",
       "    <tr>\n",
       "      <th>6</th>\n",
       "      <td>None</td>\n",
       "      <td>None</td>\n",
       "      <td>Wed Mar 13 01:00:44 +0000 2019</td>\n",
       "      <td>0</td>\n",
       "      <td>False</td>\n",
       "      <td>None</td>\n",
       "      <td>1105634764483190784</td>\n",
       "      <td>1105634764483190784</td>\n",
       "      <td>None</td>\n",
       "      <td>NaN</td>\n",
       "      <td>...</td>\n",
       "      <td>000000</td>\n",
       "      <td>False</td>\n",
       "      <td>False</td>\n",
       "      <td>barf_ebooks</td>\n",
       "      <td>4468</td>\n",
       "      <td>None</td>\n",
       "      <td>none</td>\n",
       "      <td>None</td>\n",
       "      <td>None</td>\n",
       "      <td>False</td>\n",
       "    </tr>\n",
       "    <tr>\n",
       "      <th>7</th>\n",
       "      <td>None</td>\n",
       "      <td>None</td>\n",
       "      <td>Wed Mar 13 01:00:31 +0000 2019</td>\n",
       "      <td>0</td>\n",
       "      <td>False</td>\n",
       "      <td>None</td>\n",
       "      <td>1105634711811043328</td>\n",
       "      <td>1105634711811043328</td>\n",
       "      <td>None</td>\n",
       "      <td>NaN</td>\n",
       "      <td>...</td>\n",
       "      <td>666666</td>\n",
       "      <td>True</td>\n",
       "      <td>False</td>\n",
       "      <td>OPM_UK</td>\n",
       "      <td>38109</td>\n",
       "      <td>None</td>\n",
       "      <td>none</td>\n",
       "      <td>https://t.co/fcMu5TmiLX</td>\n",
       "      <td>None</td>\n",
       "      <td>True</td>\n",
       "    </tr>\n",
       "    <tr>\n",
       "      <th>8</th>\n",
       "      <td>None</td>\n",
       "      <td>None</td>\n",
       "      <td>Wed Mar 13 01:00:04 +0000 2019</td>\n",
       "      <td>0</td>\n",
       "      <td>False</td>\n",
       "      <td>None</td>\n",
       "      <td>1105634596102832129</td>\n",
       "      <td>1105634596102832129</td>\n",
       "      <td>None</td>\n",
       "      <td>NaN</td>\n",
       "      <td>...</td>\n",
       "      <td>000000</td>\n",
       "      <td>False</td>\n",
       "      <td>False</td>\n",
       "      <td>StreamSupport3</td>\n",
       "      <td>48003</td>\n",
       "      <td>None</td>\n",
       "      <td>none</td>\n",
       "      <td>https://t.co/DkXgW9FQxS</td>\n",
       "      <td>None</td>\n",
       "      <td>False</td>\n",
       "    </tr>\n",
       "    <tr>\n",
       "      <th>9</th>\n",
       "      <td>None</td>\n",
       "      <td>None</td>\n",
       "      <td>Wed Mar 13 01:00:01 +0000 2019</td>\n",
       "      <td>0</td>\n",
       "      <td>False</td>\n",
       "      <td>None</td>\n",
       "      <td>1105634585495437313</td>\n",
       "      <td>1105634585495437313</td>\n",
       "      <td>None</td>\n",
       "      <td>NaN</td>\n",
       "      <td>...</td>\n",
       "      <td>333333</td>\n",
       "      <td>True</td>\n",
       "      <td>False</td>\n",
       "      <td>StormyElitist</td>\n",
       "      <td>2063</td>\n",
       "      <td>None</td>\n",
       "      <td>none</td>\n",
       "      <td>None</td>\n",
       "      <td>None</td>\n",
       "      <td>False</td>\n",
       "    </tr>\n",
       "    <tr>\n",
       "      <th>10</th>\n",
       "      <td>None</td>\n",
       "      <td>None</td>\n",
       "      <td>Wed Mar 13 00:57:39 +0000 2019</td>\n",
       "      <td>0</td>\n",
       "      <td>False</td>\n",
       "      <td>None</td>\n",
       "      <td>1105633991040925697</td>\n",
       "      <td>1105633991040925697</td>\n",
       "      <td>None</td>\n",
       "      <td>NaN</td>\n",
       "      <td>...</td>\n",
       "      <td>0084B4</td>\n",
       "      <td>True</td>\n",
       "      <td>False</td>\n",
       "      <td>Kaiju115</td>\n",
       "      <td>206337</td>\n",
       "      <td>None</td>\n",
       "      <td>none</td>\n",
       "      <td>http://t.co/d7wxrvKVF3</td>\n",
       "      <td>None</td>\n",
       "      <td>False</td>\n",
       "    </tr>\n",
       "    <tr>\n",
       "      <th>11</th>\n",
       "      <td>None</td>\n",
       "      <td>None</td>\n",
       "      <td>Wed Mar 13 00:57:06 +0000 2019</td>\n",
       "      <td>0</td>\n",
       "      <td>False</td>\n",
       "      <td>None</td>\n",
       "      <td>1105633851303448577</td>\n",
       "      <td>1105633851303448577</td>\n",
       "      <td>None</td>\n",
       "      <td>NaN</td>\n",
       "      <td>...</td>\n",
       "      <td>000000</td>\n",
       "      <td>False</td>\n",
       "      <td>False</td>\n",
       "      <td>DavidPeniel</td>\n",
       "      <td>25075</td>\n",
       "      <td>None</td>\n",
       "      <td>none</td>\n",
       "      <td>None</td>\n",
       "      <td>None</td>\n",
       "      <td>False</td>\n",
       "    </tr>\n",
       "    <tr>\n",
       "      <th>12</th>\n",
       "      <td>None</td>\n",
       "      <td>None</td>\n",
       "      <td>Wed Mar 13 00:56:49 +0000 2019</td>\n",
       "      <td>0</td>\n",
       "      <td>False</td>\n",
       "      <td>None</td>\n",
       "      <td>1105633779329179650</td>\n",
       "      <td>1105633779329179650</td>\n",
       "      <td>None</td>\n",
       "      <td>NaN</td>\n",
       "      <td>...</td>\n",
       "      <td>333333</td>\n",
       "      <td>True</td>\n",
       "      <td>False</td>\n",
       "      <td>Veethah</td>\n",
       "      <td>15259</td>\n",
       "      <td>None</td>\n",
       "      <td>none</td>\n",
       "      <td>None</td>\n",
       "      <td>None</td>\n",
       "      <td>False</td>\n",
       "    </tr>\n",
       "    <tr>\n",
       "      <th>13</th>\n",
       "      <td>None</td>\n",
       "      <td>None</td>\n",
       "      <td>Wed Mar 13 00:55:36 +0000 2019</td>\n",
       "      <td>0</td>\n",
       "      <td>False</td>\n",
       "      <td>None</td>\n",
       "      <td>1105633475124707330</td>\n",
       "      <td>1105633475124707330</td>\n",
       "      <td>None</td>\n",
       "      <td>NaN</td>\n",
       "      <td>...</td>\n",
       "      <td>333333</td>\n",
       "      <td>True</td>\n",
       "      <td>False</td>\n",
       "      <td>coolironman97</td>\n",
       "      <td>325</td>\n",
       "      <td>None</td>\n",
       "      <td>none</td>\n",
       "      <td>https://t.co/tPzHLrvKrC</td>\n",
       "      <td>None</td>\n",
       "      <td>False</td>\n",
       "    </tr>\n",
       "    <tr>\n",
       "      <th>14</th>\n",
       "      <td>None</td>\n",
       "      <td>None</td>\n",
       "      <td>Wed Mar 13 00:55:15 +0000 2019</td>\n",
       "      <td>0</td>\n",
       "      <td>False</td>\n",
       "      <td>None</td>\n",
       "      <td>1105633384750034946</td>\n",
       "      <td>1105633384750034946</td>\n",
       "      <td>None</td>\n",
       "      <td>NaN</td>\n",
       "      <td>...</td>\n",
       "      <td>333333</td>\n",
       "      <td>True</td>\n",
       "      <td>False</td>\n",
       "      <td>cryinmillennial</td>\n",
       "      <td>6669</td>\n",
       "      <td>None</td>\n",
       "      <td>none</td>\n",
       "      <td>None</td>\n",
       "      <td>None</td>\n",
       "      <td>False</td>\n",
       "    </tr>\n",
       "    <tr>\n",
       "      <th>15</th>\n",
       "      <td>None</td>\n",
       "      <td>None</td>\n",
       "      <td>Wed Mar 13 00:54:37 +0000 2019</td>\n",
       "      <td>0</td>\n",
       "      <td>False</td>\n",
       "      <td>None</td>\n",
       "      <td>1105633227333689345</td>\n",
       "      <td>1105633227333689345</td>\n",
       "      <td>None</td>\n",
       "      <td>NaN</td>\n",
       "      <td>...</td>\n",
       "      <td>C6875B</td>\n",
       "      <td>True</td>\n",
       "      <td>False</td>\n",
       "      <td>J_Skally</td>\n",
       "      <td>78613</td>\n",
       "      <td>None</td>\n",
       "      <td>none</td>\n",
       "      <td>https://t.co/T7Lof0BldL</td>\n",
       "      <td>None</td>\n",
       "      <td>False</td>\n",
       "    </tr>\n",
       "    <tr>\n",
       "      <th>16</th>\n",
       "      <td>None</td>\n",
       "      <td>None</td>\n",
       "      <td>Wed Mar 13 00:54:27 +0000 2019</td>\n",
       "      <td>0</td>\n",
       "      <td>False</td>\n",
       "      <td>None</td>\n",
       "      <td>1105633183465385995</td>\n",
       "      <td>1105633183465385995</td>\n",
       "      <td>DeeJ_BNG</td>\n",
       "      <td>1.105526e+18</td>\n",
       "      <td>...</td>\n",
       "      <td>333333</td>\n",
       "      <td>True</td>\n",
       "      <td>False</td>\n",
       "      <td>BazFunnyBunny</td>\n",
       "      <td>25679</td>\n",
       "      <td>None</td>\n",
       "      <td>none</td>\n",
       "      <td>None</td>\n",
       "      <td>None</td>\n",
       "      <td>False</td>\n",
       "    </tr>\n",
       "    <tr>\n",
       "      <th>17</th>\n",
       "      <td>None</td>\n",
       "      <td>None</td>\n",
       "      <td>Wed Mar 13 00:53:05 +0000 2019</td>\n",
       "      <td>0</td>\n",
       "      <td>False</td>\n",
       "      <td>None</td>\n",
       "      <td>1105632840501334018</td>\n",
       "      <td>1105632840501334018</td>\n",
       "      <td>None</td>\n",
       "      <td>NaN</td>\n",
       "      <td>...</td>\n",
       "      <td>333333</td>\n",
       "      <td>True</td>\n",
       "      <td>False</td>\n",
       "      <td>PazziaElias</td>\n",
       "      <td>81</td>\n",
       "      <td>None</td>\n",
       "      <td>none</td>\n",
       "      <td>None</td>\n",
       "      <td>None</td>\n",
       "      <td>False</td>\n",
       "    </tr>\n",
       "    <tr>\n",
       "      <th>18</th>\n",
       "      <td>None</td>\n",
       "      <td>None</td>\n",
       "      <td>Wed Mar 13 00:52:48 +0000 2019</td>\n",
       "      <td>0</td>\n",
       "      <td>False</td>\n",
       "      <td>None</td>\n",
       "      <td>1105632770645217281</td>\n",
       "      <td>1105632770645217281</td>\n",
       "      <td>None</td>\n",
       "      <td>NaN</td>\n",
       "      <td>...</td>\n",
       "      <td>EBE017</td>\n",
       "      <td>True</td>\n",
       "      <td>False</td>\n",
       "      <td>2Mylesperhour</td>\n",
       "      <td>45035</td>\n",
       "      <td>None</td>\n",
       "      <td>none</td>\n",
       "      <td>None</td>\n",
       "      <td>None</td>\n",
       "      <td>False</td>\n",
       "    </tr>\n",
       "    <tr>\n",
       "      <th>19</th>\n",
       "      <td>None</td>\n",
       "      <td>None</td>\n",
       "      <td>Wed Mar 13 00:52:24 +0000 2019</td>\n",
       "      <td>0</td>\n",
       "      <td>False</td>\n",
       "      <td>None</td>\n",
       "      <td>1105632668346212353</td>\n",
       "      <td>1105632668346212353</td>\n",
       "      <td>None</td>\n",
       "      <td>NaN</td>\n",
       "      <td>...</td>\n",
       "      <td>000000</td>\n",
       "      <td>False</td>\n",
       "      <td>False</td>\n",
       "      <td>KingofShadows06</td>\n",
       "      <td>247</td>\n",
       "      <td>None</td>\n",
       "      <td>none</td>\n",
       "      <td>None</td>\n",
       "      <td>None</td>\n",
       "      <td>False</td>\n",
       "    </tr>\n",
       "    <tr>\n",
       "      <th>20</th>\n",
       "      <td>None</td>\n",
       "      <td>None</td>\n",
       "      <td>Wed Mar 13 00:51:54 +0000 2019</td>\n",
       "      <td>2</td>\n",
       "      <td>False</td>\n",
       "      <td>None</td>\n",
       "      <td>1105632541510459392</td>\n",
       "      <td>1105632541510459392</td>\n",
       "      <td>None</td>\n",
       "      <td>NaN</td>\n",
       "      <td>...</td>\n",
       "      <td>000000</td>\n",
       "      <td>False</td>\n",
       "      <td>False</td>\n",
       "      <td>CarEliteNCorg</td>\n",
       "      <td>2017</td>\n",
       "      <td>None</td>\n",
       "      <td>none</td>\n",
       "      <td>https://t.co/HSzbMIhSBD</td>\n",
       "      <td>None</td>\n",
       "      <td>False</td>\n",
       "    </tr>\n",
       "    <tr>\n",
       "      <th>21</th>\n",
       "      <td>None</td>\n",
       "      <td>None</td>\n",
       "      <td>Wed Mar 13 00:51:32 +0000 2019</td>\n",
       "      <td>0</td>\n",
       "      <td>False</td>\n",
       "      <td>None</td>\n",
       "      <td>1105632450170912768</td>\n",
       "      <td>1105632450170912768</td>\n",
       "      <td>None</td>\n",
       "      <td>NaN</td>\n",
       "      <td>...</td>\n",
       "      <td>000000</td>\n",
       "      <td>False</td>\n",
       "      <td>False</td>\n",
       "      <td>R3MGG</td>\n",
       "      <td>247</td>\n",
       "      <td>None</td>\n",
       "      <td>none</td>\n",
       "      <td>https://t.co/H0VtGKM8aM</td>\n",
       "      <td>None</td>\n",
       "      <td>False</td>\n",
       "    </tr>\n",
       "    <tr>\n",
       "      <th>22</th>\n",
       "      <td>None</td>\n",
       "      <td>None</td>\n",
       "      <td>Wed Mar 13 00:51:31 +0000 2019</td>\n",
       "      <td>0</td>\n",
       "      <td>False</td>\n",
       "      <td>None</td>\n",
       "      <td>1105632444865175552</td>\n",
       "      <td>1105632444865175552</td>\n",
       "      <td>None</td>\n",
       "      <td>NaN</td>\n",
       "      <td>...</td>\n",
       "      <td>000000</td>\n",
       "      <td>False</td>\n",
       "      <td>False</td>\n",
       "      <td>DanielsWeek1</td>\n",
       "      <td>155</td>\n",
       "      <td>None</td>\n",
       "      <td>none</td>\n",
       "      <td>https://t.co/RwGrtIBLO9</td>\n",
       "      <td>None</td>\n",
       "      <td>False</td>\n",
       "    </tr>\n",
       "    <tr>\n",
       "      <th>23</th>\n",
       "      <td>None</td>\n",
       "      <td>None</td>\n",
       "      <td>Wed Mar 13 00:51:26 +0000 2019</td>\n",
       "      <td>1</td>\n",
       "      <td>False</td>\n",
       "      <td>None</td>\n",
       "      <td>1105632423243583488</td>\n",
       "      <td>1105632423243583488</td>\n",
       "      <td>None</td>\n",
       "      <td>NaN</td>\n",
       "      <td>...</td>\n",
       "      <td>333333</td>\n",
       "      <td>True</td>\n",
       "      <td>False</td>\n",
       "      <td>Maggiexox814</td>\n",
       "      <td>361</td>\n",
       "      <td>None</td>\n",
       "      <td>none</td>\n",
       "      <td>https://t.co/SyT7xGJ99o</td>\n",
       "      <td>None</td>\n",
       "      <td>False</td>\n",
       "    </tr>\n",
       "    <tr>\n",
       "      <th>24</th>\n",
       "      <td>None</td>\n",
       "      <td>None</td>\n",
       "      <td>Wed Mar 13 00:50:50 +0000 2019</td>\n",
       "      <td>0</td>\n",
       "      <td>False</td>\n",
       "      <td>None</td>\n",
       "      <td>1105632274849001474</td>\n",
       "      <td>1105632274849001474</td>\n",
       "      <td>None</td>\n",
       "      <td>NaN</td>\n",
       "      <td>...</td>\n",
       "      <td>000000</td>\n",
       "      <td>False</td>\n",
       "      <td>False</td>\n",
       "      <td>Trib3zz</td>\n",
       "      <td>8052</td>\n",
       "      <td>None</td>\n",
       "      <td>none</td>\n",
       "      <td>https://t.co/n6DEHY1WsY</td>\n",
       "      <td>None</td>\n",
       "      <td>False</td>\n",
       "    </tr>\n",
       "    <tr>\n",
       "      <th>25</th>\n",
       "      <td>None</td>\n",
       "      <td>None</td>\n",
       "      <td>Wed Mar 13 00:50:27 +0000 2019</td>\n",
       "      <td>0</td>\n",
       "      <td>False</td>\n",
       "      <td>None</td>\n",
       "      <td>1105632175808929792</td>\n",
       "      <td>1105632175808929792</td>\n",
       "      <td>None</td>\n",
       "      <td>NaN</td>\n",
       "      <td>...</td>\n",
       "      <td>333333</td>\n",
       "      <td>True</td>\n",
       "      <td>False</td>\n",
       "      <td>raffie89</td>\n",
       "      <td>70</td>\n",
       "      <td>None</td>\n",
       "      <td>none</td>\n",
       "      <td>None</td>\n",
       "      <td>None</td>\n",
       "      <td>False</td>\n",
       "    </tr>\n",
       "    <tr>\n",
       "      <th>26</th>\n",
       "      <td>None</td>\n",
       "      <td>None</td>\n",
       "      <td>Wed Mar 13 00:50:22 +0000 2019</td>\n",
       "      <td>1</td>\n",
       "      <td>False</td>\n",
       "      <td>None</td>\n",
       "      <td>1105632157920358400</td>\n",
       "      <td>1105632157920358400</td>\n",
       "      <td>BluPainter</td>\n",
       "      <td>NaN</td>\n",
       "      <td>...</td>\n",
       "      <td>000000</td>\n",
       "      <td>False</td>\n",
       "      <td>False</td>\n",
       "      <td>RichBoiRafe</td>\n",
       "      <td>1775</td>\n",
       "      <td>None</td>\n",
       "      <td>none</td>\n",
       "      <td>https://t.co/DYDXRA4gXc</td>\n",
       "      <td>None</td>\n",
       "      <td>False</td>\n",
       "    </tr>\n",
       "    <tr>\n",
       "      <th>27</th>\n",
       "      <td>None</td>\n",
       "      <td>None</td>\n",
       "      <td>Wed Mar 13 00:50:22 +0000 2019</td>\n",
       "      <td>9</td>\n",
       "      <td>False</td>\n",
       "      <td>None</td>\n",
       "      <td>1105632156267790337</td>\n",
       "      <td>1105632156267790337</td>\n",
       "      <td>None</td>\n",
       "      <td>NaN</td>\n",
       "      <td>...</td>\n",
       "      <td>000000</td>\n",
       "      <td>False</td>\n",
       "      <td>False</td>\n",
       "      <td>KyleTaylor416</td>\n",
       "      <td>4162</td>\n",
       "      <td>None</td>\n",
       "      <td>none</td>\n",
       "      <td>https://t.co/8g1gpFGg1c</td>\n",
       "      <td>None</td>\n",
       "      <td>False</td>\n",
       "    </tr>\n",
       "    <tr>\n",
       "      <th>28</th>\n",
       "      <td>None</td>\n",
       "      <td>None</td>\n",
       "      <td>Wed Mar 13 00:49:56 +0000 2019</td>\n",
       "      <td>1</td>\n",
       "      <td>False</td>\n",
       "      <td>None</td>\n",
       "      <td>1105632047480037377</td>\n",
       "      <td>1105632047480037377</td>\n",
       "      <td>None</td>\n",
       "      <td>NaN</td>\n",
       "      <td>...</td>\n",
       "      <td>333333</td>\n",
       "      <td>True</td>\n",
       "      <td>False</td>\n",
       "      <td>AirworthyPrince</td>\n",
       "      <td>20</td>\n",
       "      <td>None</td>\n",
       "      <td>none</td>\n",
       "      <td>https://t.co/ZM2AZZtJfa</td>\n",
       "      <td>None</td>\n",
       "      <td>False</td>\n",
       "    </tr>\n",
       "    <tr>\n",
       "      <th>29</th>\n",
       "      <td>None</td>\n",
       "      <td>None</td>\n",
       "      <td>Wed Mar 13 00:49:30 +0000 2019</td>\n",
       "      <td>0</td>\n",
       "      <td>False</td>\n",
       "      <td>None</td>\n",
       "      <td>1105631938897895424</td>\n",
       "      <td>1105631938897895424</td>\n",
       "      <td>None</td>\n",
       "      <td>NaN</td>\n",
       "      <td>...</td>\n",
       "      <td>000000</td>\n",
       "      <td>False</td>\n",
       "      <td>False</td>\n",
       "      <td>JL_MacEachern</td>\n",
       "      <td>2463</td>\n",
       "      <td>None</td>\n",
       "      <td>none</td>\n",
       "      <td>None</td>\n",
       "      <td>None</td>\n",
       "      <td>False</td>\n",
       "    </tr>\n",
       "    <tr>\n",
       "      <th>...</th>\n",
       "      <td>...</td>\n",
       "      <td>...</td>\n",
       "      <td>...</td>\n",
       "      <td>...</td>\n",
       "      <td>...</td>\n",
       "      <td>...</td>\n",
       "      <td>...</td>\n",
       "      <td>...</td>\n",
       "      <td>...</td>\n",
       "      <td>...</td>\n",
       "      <td>...</td>\n",
       "      <td>...</td>\n",
       "      <td>...</td>\n",
       "      <td>...</td>\n",
       "      <td>...</td>\n",
       "      <td>...</td>\n",
       "      <td>...</td>\n",
       "      <td>...</td>\n",
       "      <td>...</td>\n",
       "      <td>...</td>\n",
       "      <td>...</td>\n",
       "    </tr>\n",
       "    <tr>\n",
       "      <th>70</th>\n",
       "      <td>None</td>\n",
       "      <td>None</td>\n",
       "      <td>Wed Mar 13 00:21:31 +0000 2019</td>\n",
       "      <td>0</td>\n",
       "      <td>False</td>\n",
       "      <td>None</td>\n",
       "      <td>1105624898582470656</td>\n",
       "      <td>1105624898582470656</td>\n",
       "      <td>None</td>\n",
       "      <td>NaN</td>\n",
       "      <td>...</td>\n",
       "      <td>000000</td>\n",
       "      <td>False</td>\n",
       "      <td>False</td>\n",
       "      <td>SmileySteve2</td>\n",
       "      <td>41</td>\n",
       "      <td>None</td>\n",
       "      <td>none</td>\n",
       "      <td>None</td>\n",
       "      <td>None</td>\n",
       "      <td>False</td>\n",
       "    </tr>\n",
       "    <tr>\n",
       "      <th>71</th>\n",
       "      <td>None</td>\n",
       "      <td>None</td>\n",
       "      <td>Wed Mar 13 00:21:16 +0000 2019</td>\n",
       "      <td>0</td>\n",
       "      <td>False</td>\n",
       "      <td>None</td>\n",
       "      <td>1105624833709301761</td>\n",
       "      <td>1105624833709301761</td>\n",
       "      <td>None</td>\n",
       "      <td>NaN</td>\n",
       "      <td>...</td>\n",
       "      <td>333333</td>\n",
       "      <td>True</td>\n",
       "      <td>False</td>\n",
       "      <td>AscendingGaming</td>\n",
       "      <td>865</td>\n",
       "      <td>None</td>\n",
       "      <td>none</td>\n",
       "      <td>None</td>\n",
       "      <td>None</td>\n",
       "      <td>False</td>\n",
       "    </tr>\n",
       "    <tr>\n",
       "      <th>72</th>\n",
       "      <td>None</td>\n",
       "      <td>None</td>\n",
       "      <td>Wed Mar 13 00:21:02 +0000 2019</td>\n",
       "      <td>0</td>\n",
       "      <td>False</td>\n",
       "      <td>None</td>\n",
       "      <td>1105624774347313152</td>\n",
       "      <td>1105624774347313152</td>\n",
       "      <td>None</td>\n",
       "      <td>NaN</td>\n",
       "      <td>...</td>\n",
       "      <td>333333</td>\n",
       "      <td>True</td>\n",
       "      <td>False</td>\n",
       "      <td>Chattermeister</td>\n",
       "      <td>17807</td>\n",
       "      <td>None</td>\n",
       "      <td>none</td>\n",
       "      <td>http://t.co/uyp6y4Ri</td>\n",
       "      <td>None</td>\n",
       "      <td>False</td>\n",
       "    </tr>\n",
       "    <tr>\n",
       "      <th>73</th>\n",
       "      <td>None</td>\n",
       "      <td>None</td>\n",
       "      <td>Wed Mar 13 00:20:51 +0000 2019</td>\n",
       "      <td>3</td>\n",
       "      <td>False</td>\n",
       "      <td>None</td>\n",
       "      <td>1105624729585700869</td>\n",
       "      <td>1105624729585700869</td>\n",
       "      <td>None</td>\n",
       "      <td>NaN</td>\n",
       "      <td>...</td>\n",
       "      <td>000000</td>\n",
       "      <td>False</td>\n",
       "      <td>False</td>\n",
       "      <td>R3M_Strik3</td>\n",
       "      <td>398</td>\n",
       "      <td>None</td>\n",
       "      <td>none</td>\n",
       "      <td>https://t.co/s7v1aWRqKL</td>\n",
       "      <td>None</td>\n",
       "      <td>False</td>\n",
       "    </tr>\n",
       "    <tr>\n",
       "      <th>74</th>\n",
       "      <td>None</td>\n",
       "      <td>None</td>\n",
       "      <td>Wed Mar 13 00:20:49 +0000 2019</td>\n",
       "      <td>0</td>\n",
       "      <td>False</td>\n",
       "      <td>None</td>\n",
       "      <td>1105624720869748736</td>\n",
       "      <td>1105624720869748736</td>\n",
       "      <td>None</td>\n",
       "      <td>NaN</td>\n",
       "      <td>...</td>\n",
       "      <td>009999</td>\n",
       "      <td>True</td>\n",
       "      <td>False</td>\n",
       "      <td>HiramMcDaniels</td>\n",
       "      <td>1156</td>\n",
       "      <td>None</td>\n",
       "      <td>none</td>\n",
       "      <td>None</td>\n",
       "      <td>None</td>\n",
       "      <td>False</td>\n",
       "    </tr>\n",
       "    <tr>\n",
       "      <th>75</th>\n",
       "      <td>None</td>\n",
       "      <td>None</td>\n",
       "      <td>Wed Mar 13 00:20:48 +0000 2019</td>\n",
       "      <td>2</td>\n",
       "      <td>False</td>\n",
       "      <td>None</td>\n",
       "      <td>1105624714683113472</td>\n",
       "      <td>1105624714683113472</td>\n",
       "      <td>erosfortones</td>\n",
       "      <td>1.105624e+18</td>\n",
       "      <td>...</td>\n",
       "      <td>000000</td>\n",
       "      <td>True</td>\n",
       "      <td>False</td>\n",
       "      <td>Ofmorse</td>\n",
       "      <td>16703</td>\n",
       "      <td>None</td>\n",
       "      <td>none</td>\n",
       "      <td>https://t.co/pjqimuHkRS</td>\n",
       "      <td>None</td>\n",
       "      <td>False</td>\n",
       "    </tr>\n",
       "    <tr>\n",
       "      <th>76</th>\n",
       "      <td>None</td>\n",
       "      <td>None</td>\n",
       "      <td>Wed Mar 13 00:20:43 +0000 2019</td>\n",
       "      <td>3</td>\n",
       "      <td>False</td>\n",
       "      <td>None</td>\n",
       "      <td>1105624693149712385</td>\n",
       "      <td>1105624693149712385</td>\n",
       "      <td>None</td>\n",
       "      <td>NaN</td>\n",
       "      <td>...</td>\n",
       "      <td>827972</td>\n",
       "      <td>True</td>\n",
       "      <td>False</td>\n",
       "      <td>rajaasurgeon</td>\n",
       "      <td>3373</td>\n",
       "      <td>None</td>\n",
       "      <td>none</td>\n",
       "      <td>https://t.co/Ba9F941lwE</td>\n",
       "      <td>None</td>\n",
       "      <td>False</td>\n",
       "    </tr>\n",
       "    <tr>\n",
       "      <th>77</th>\n",
       "      <td>None</td>\n",
       "      <td>None</td>\n",
       "      <td>Wed Mar 13 00:19:55 +0000 2019</td>\n",
       "      <td>0</td>\n",
       "      <td>False</td>\n",
       "      <td>None</td>\n",
       "      <td>1105624494184587270</td>\n",
       "      <td>1105624494184587270</td>\n",
       "      <td>None</td>\n",
       "      <td>NaN</td>\n",
       "      <td>...</td>\n",
       "      <td>000000</td>\n",
       "      <td>False</td>\n",
       "      <td>False</td>\n",
       "      <td>punkyliar</td>\n",
       "      <td>2014</td>\n",
       "      <td>None</td>\n",
       "      <td>none</td>\n",
       "      <td>None</td>\n",
       "      <td>None</td>\n",
       "      <td>False</td>\n",
       "    </tr>\n",
       "    <tr>\n",
       "      <th>78</th>\n",
       "      <td>None</td>\n",
       "      <td>None</td>\n",
       "      <td>Wed Mar 13 00:19:27 +0000 2019</td>\n",
       "      <td>0</td>\n",
       "      <td>False</td>\n",
       "      <td>None</td>\n",
       "      <td>1105624376462979072</td>\n",
       "      <td>1105624376462979072</td>\n",
       "      <td>None</td>\n",
       "      <td>NaN</td>\n",
       "      <td>...</td>\n",
       "      <td>000000</td>\n",
       "      <td>False</td>\n",
       "      <td>False</td>\n",
       "      <td>BrandonGouldHS</td>\n",
       "      <td>32975</td>\n",
       "      <td>None</td>\n",
       "      <td>none</td>\n",
       "      <td>https://t.co/eOqVFsrwkF</td>\n",
       "      <td>None</td>\n",
       "      <td>True</td>\n",
       "    </tr>\n",
       "    <tr>\n",
       "      <th>79</th>\n",
       "      <td>None</td>\n",
       "      <td>None</td>\n",
       "      <td>Wed Mar 13 00:19:21 +0000 2019</td>\n",
       "      <td>7</td>\n",
       "      <td>False</td>\n",
       "      <td>None</td>\n",
       "      <td>1105624352626749446</td>\n",
       "      <td>1105624352626749446</td>\n",
       "      <td>None</td>\n",
       "      <td>NaN</td>\n",
       "      <td>...</td>\n",
       "      <td>333333</td>\n",
       "      <td>True</td>\n",
       "      <td>False</td>\n",
       "      <td>BrianDeakyne</td>\n",
       "      <td>23146</td>\n",
       "      <td>None</td>\n",
       "      <td>none</td>\n",
       "      <td>https://t.co/SeMPNP0Qux</td>\n",
       "      <td>None</td>\n",
       "      <td>True</td>\n",
       "    </tr>\n",
       "    <tr>\n",
       "      <th>80</th>\n",
       "      <td>None</td>\n",
       "      <td>None</td>\n",
       "      <td>Wed Mar 13 00:18:24 +0000 2019</td>\n",
       "      <td>0</td>\n",
       "      <td>False</td>\n",
       "      <td>None</td>\n",
       "      <td>1105624111043301378</td>\n",
       "      <td>1105624111043301378</td>\n",
       "      <td>None</td>\n",
       "      <td>NaN</td>\n",
       "      <td>...</td>\n",
       "      <td>666666</td>\n",
       "      <td>True</td>\n",
       "      <td>False</td>\n",
       "      <td>MaMaMia_21</td>\n",
       "      <td>41709</td>\n",
       "      <td>None</td>\n",
       "      <td>none</td>\n",
       "      <td>None</td>\n",
       "      <td>None</td>\n",
       "      <td>False</td>\n",
       "    </tr>\n",
       "    <tr>\n",
       "      <th>81</th>\n",
       "      <td>None</td>\n",
       "      <td>None</td>\n",
       "      <td>Wed Mar 13 00:18:15 +0000 2019</td>\n",
       "      <td>0</td>\n",
       "      <td>False</td>\n",
       "      <td>None</td>\n",
       "      <td>1105624075475578883</td>\n",
       "      <td>1105624075475578883</td>\n",
       "      <td>None</td>\n",
       "      <td>NaN</td>\n",
       "      <td>...</td>\n",
       "      <td>333333</td>\n",
       "      <td>True</td>\n",
       "      <td>False</td>\n",
       "      <td>gamerix_net</td>\n",
       "      <td>6133</td>\n",
       "      <td>None</td>\n",
       "      <td>none</td>\n",
       "      <td>https://t.co/CcQkOU6LfK</td>\n",
       "      <td>None</td>\n",
       "      <td>False</td>\n",
       "    </tr>\n",
       "    <tr>\n",
       "      <th>82</th>\n",
       "      <td>None</td>\n",
       "      <td>None</td>\n",
       "      <td>Wed Mar 13 00:16:41 +0000 2019</td>\n",
       "      <td>1</td>\n",
       "      <td>False</td>\n",
       "      <td>None</td>\n",
       "      <td>1105623681982758913</td>\n",
       "      <td>1105623681982758913</td>\n",
       "      <td>JulesthesuperRN</td>\n",
       "      <td>1.105624e+18</td>\n",
       "      <td>...</td>\n",
       "      <td>333333</td>\n",
       "      <td>True</td>\n",
       "      <td>False</td>\n",
       "      <td>JulesthesuperRN</td>\n",
       "      <td>634</td>\n",
       "      <td>None</td>\n",
       "      <td>none</td>\n",
       "      <td>None</td>\n",
       "      <td>None</td>\n",
       "      <td>False</td>\n",
       "    </tr>\n",
       "    <tr>\n",
       "      <th>83</th>\n",
       "      <td>None</td>\n",
       "      <td>None</td>\n",
       "      <td>Wed Mar 13 00:16:10 +0000 2019</td>\n",
       "      <td>1</td>\n",
       "      <td>False</td>\n",
       "      <td>None</td>\n",
       "      <td>1105623549631303680</td>\n",
       "      <td>1105623549631303680</td>\n",
       "      <td>Be11eBunny</td>\n",
       "      <td>1.105621e+18</td>\n",
       "      <td>...</td>\n",
       "      <td>333333</td>\n",
       "      <td>True</td>\n",
       "      <td>False</td>\n",
       "      <td>DrJazzyBebop</td>\n",
       "      <td>5699</td>\n",
       "      <td>None</td>\n",
       "      <td>none</td>\n",
       "      <td>https://t.co/z7NcNHcJtX</td>\n",
       "      <td>None</td>\n",
       "      <td>False</td>\n",
       "    </tr>\n",
       "    <tr>\n",
       "      <th>84</th>\n",
       "      <td>None</td>\n",
       "      <td>None</td>\n",
       "      <td>Wed Mar 13 00:16:04 +0000 2019</td>\n",
       "      <td>0</td>\n",
       "      <td>False</td>\n",
       "      <td>None</td>\n",
       "      <td>1105623523563921409</td>\n",
       "      <td>1105623523563921409</td>\n",
       "      <td>None</td>\n",
       "      <td>NaN</td>\n",
       "      <td>...</td>\n",
       "      <td>000000</td>\n",
       "      <td>False</td>\n",
       "      <td>False</td>\n",
       "      <td>PotatoSquad2019</td>\n",
       "      <td>256</td>\n",
       "      <td>None</td>\n",
       "      <td>none</td>\n",
       "      <td>https://t.co/Z5eMZvTDsW</td>\n",
       "      <td>None</td>\n",
       "      <td>False</td>\n",
       "    </tr>\n",
       "    <tr>\n",
       "      <th>85</th>\n",
       "      <td>None</td>\n",
       "      <td>None</td>\n",
       "      <td>Wed Mar 13 00:15:40 +0000 2019</td>\n",
       "      <td>0</td>\n",
       "      <td>False</td>\n",
       "      <td>None</td>\n",
       "      <td>1105623425228386304</td>\n",
       "      <td>1105623425228386304</td>\n",
       "      <td>None</td>\n",
       "      <td>NaN</td>\n",
       "      <td>...</td>\n",
       "      <td>000000</td>\n",
       "      <td>True</td>\n",
       "      <td>False</td>\n",
       "      <td>GustavitoSivori</td>\n",
       "      <td>11071</td>\n",
       "      <td>None</td>\n",
       "      <td>none</td>\n",
       "      <td>None</td>\n",
       "      <td>None</td>\n",
       "      <td>False</td>\n",
       "    </tr>\n",
       "    <tr>\n",
       "      <th>86</th>\n",
       "      <td>None</td>\n",
       "      <td>None</td>\n",
       "      <td>Wed Mar 13 00:15:34 +0000 2019</td>\n",
       "      <td>1</td>\n",
       "      <td>False</td>\n",
       "      <td>None</td>\n",
       "      <td>1105623399374581767</td>\n",
       "      <td>1105623399374581767</td>\n",
       "      <td>None</td>\n",
       "      <td>NaN</td>\n",
       "      <td>...</td>\n",
       "      <td>000000</td>\n",
       "      <td>False</td>\n",
       "      <td>False</td>\n",
       "      <td>pcinvasion</td>\n",
       "      <td>44125</td>\n",
       "      <td>None</td>\n",
       "      <td>none</td>\n",
       "      <td>http://t.co/5alII7XZ3v</td>\n",
       "      <td>None</td>\n",
       "      <td>False</td>\n",
       "    </tr>\n",
       "    <tr>\n",
       "      <th>87</th>\n",
       "      <td>None</td>\n",
       "      <td>None</td>\n",
       "      <td>Wed Mar 13 00:14:52 +0000 2019</td>\n",
       "      <td>1</td>\n",
       "      <td>False</td>\n",
       "      <td>None</td>\n",
       "      <td>1105623222484168711</td>\n",
       "      <td>1105623222484168711</td>\n",
       "      <td>AndInkBlossoms</td>\n",
       "      <td>1.105622e+18</td>\n",
       "      <td>...</td>\n",
       "      <td>000000</td>\n",
       "      <td>False</td>\n",
       "      <td>False</td>\n",
       "      <td>lcdavisauthor</td>\n",
       "      <td>6364</td>\n",
       "      <td>None</td>\n",
       "      <td>none</td>\n",
       "      <td>https://t.co/93DTnoiya7</td>\n",
       "      <td>None</td>\n",
       "      <td>False</td>\n",
       "    </tr>\n",
       "    <tr>\n",
       "      <th>88</th>\n",
       "      <td>None</td>\n",
       "      <td>None</td>\n",
       "      <td>Wed Mar 13 00:14:35 +0000 2019</td>\n",
       "      <td>0</td>\n",
       "      <td>False</td>\n",
       "      <td>None</td>\n",
       "      <td>1105623149738106883</td>\n",
       "      <td>1105623149738106883</td>\n",
       "      <td>None</td>\n",
       "      <td>NaN</td>\n",
       "      <td>...</td>\n",
       "      <td>000000</td>\n",
       "      <td>False</td>\n",
       "      <td>False</td>\n",
       "      <td>timbosliceBTW</td>\n",
       "      <td>10758</td>\n",
       "      <td>None</td>\n",
       "      <td>none</td>\n",
       "      <td>None</td>\n",
       "      <td>None</td>\n",
       "      <td>False</td>\n",
       "    </tr>\n",
       "    <tr>\n",
       "      <th>89</th>\n",
       "      <td>None</td>\n",
       "      <td>None</td>\n",
       "      <td>Wed Mar 13 00:13:59 +0000 2019</td>\n",
       "      <td>0</td>\n",
       "      <td>False</td>\n",
       "      <td>None</td>\n",
       "      <td>1105622999456194562</td>\n",
       "      <td>1105622999456194562</td>\n",
       "      <td>None</td>\n",
       "      <td>NaN</td>\n",
       "      <td>...</td>\n",
       "      <td>333333</td>\n",
       "      <td>True</td>\n",
       "      <td>False</td>\n",
       "      <td>DR_Ray0</td>\n",
       "      <td>741</td>\n",
       "      <td>None</td>\n",
       "      <td>none</td>\n",
       "      <td>None</td>\n",
       "      <td>None</td>\n",
       "      <td>False</td>\n",
       "    </tr>\n",
       "    <tr>\n",
       "      <th>90</th>\n",
       "      <td>None</td>\n",
       "      <td>None</td>\n",
       "      <td>Wed Mar 13 00:13:54 +0000 2019</td>\n",
       "      <td>0</td>\n",
       "      <td>False</td>\n",
       "      <td>None</td>\n",
       "      <td>1105622978497310720</td>\n",
       "      <td>1105622978497310720</td>\n",
       "      <td>None</td>\n",
       "      <td>NaN</td>\n",
       "      <td>...</td>\n",
       "      <td>333333</td>\n",
       "      <td>True</td>\n",
       "      <td>False</td>\n",
       "      <td>I_am_cat_bread</td>\n",
       "      <td>25852</td>\n",
       "      <td>None</td>\n",
       "      <td>none</td>\n",
       "      <td>None</td>\n",
       "      <td>None</td>\n",
       "      <td>False</td>\n",
       "    </tr>\n",
       "    <tr>\n",
       "      <th>91</th>\n",
       "      <td>None</td>\n",
       "      <td>None</td>\n",
       "      <td>Wed Mar 13 00:13:43 +0000 2019</td>\n",
       "      <td>0</td>\n",
       "      <td>False</td>\n",
       "      <td>None</td>\n",
       "      <td>1105622932343214080</td>\n",
       "      <td>1105622932343214080</td>\n",
       "      <td>None</td>\n",
       "      <td>NaN</td>\n",
       "      <td>...</td>\n",
       "      <td>000000</td>\n",
       "      <td>False</td>\n",
       "      <td>False</td>\n",
       "      <td>bboy_koolaid</td>\n",
       "      <td>6627</td>\n",
       "      <td>None</td>\n",
       "      <td>none</td>\n",
       "      <td>https://t.co/ycjqOuDgrE</td>\n",
       "      <td>None</td>\n",
       "      <td>False</td>\n",
       "    </tr>\n",
       "    <tr>\n",
       "      <th>92</th>\n",
       "      <td>None</td>\n",
       "      <td>None</td>\n",
       "      <td>Wed Mar 13 00:13:42 +0000 2019</td>\n",
       "      <td>2</td>\n",
       "      <td>False</td>\n",
       "      <td>None</td>\n",
       "      <td>1105622928639569921</td>\n",
       "      <td>1105622928639569921</td>\n",
       "      <td>None</td>\n",
       "      <td>NaN</td>\n",
       "      <td>...</td>\n",
       "      <td>333333</td>\n",
       "      <td>True</td>\n",
       "      <td>False</td>\n",
       "      <td>GeppettoA</td>\n",
       "      <td>1046</td>\n",
       "      <td>None</td>\n",
       "      <td>none</td>\n",
       "      <td>https://t.co/xfHZND4FPj</td>\n",
       "      <td>None</td>\n",
       "      <td>False</td>\n",
       "    </tr>\n",
       "    <tr>\n",
       "      <th>93</th>\n",
       "      <td>None</td>\n",
       "      <td>None</td>\n",
       "      <td>Wed Mar 13 00:13:00 +0000 2019</td>\n",
       "      <td>1</td>\n",
       "      <td>False</td>\n",
       "      <td>None</td>\n",
       "      <td>1105622754429030400</td>\n",
       "      <td>1105622754429030400</td>\n",
       "      <td>None</td>\n",
       "      <td>NaN</td>\n",
       "      <td>...</td>\n",
       "      <td>333333</td>\n",
       "      <td>True</td>\n",
       "      <td>False</td>\n",
       "      <td>Batman_8307</td>\n",
       "      <td>1221</td>\n",
       "      <td>None</td>\n",
       "      <td>none</td>\n",
       "      <td>https://t.co/WJIszCxy4O</td>\n",
       "      <td>None</td>\n",
       "      <td>False</td>\n",
       "    </tr>\n",
       "    <tr>\n",
       "      <th>94</th>\n",
       "      <td>None</td>\n",
       "      <td>None</td>\n",
       "      <td>Wed Mar 13 00:12:31 +0000 2019</td>\n",
       "      <td>0</td>\n",
       "      <td>False</td>\n",
       "      <td>None</td>\n",
       "      <td>1105622630965698560</td>\n",
       "      <td>1105622630965698560</td>\n",
       "      <td>None</td>\n",
       "      <td>NaN</td>\n",
       "      <td>...</td>\n",
       "      <td>333333</td>\n",
       "      <td>True</td>\n",
       "      <td>False</td>\n",
       "      <td>WeKeepChoppin</td>\n",
       "      <td>408</td>\n",
       "      <td>None</td>\n",
       "      <td>none</td>\n",
       "      <td>None</td>\n",
       "      <td>None</td>\n",
       "      <td>False</td>\n",
       "    </tr>\n",
       "    <tr>\n",
       "      <th>95</th>\n",
       "      <td>None</td>\n",
       "      <td>None</td>\n",
       "      <td>Wed Mar 13 00:12:22 +0000 2019</td>\n",
       "      <td>0</td>\n",
       "      <td>False</td>\n",
       "      <td>None</td>\n",
       "      <td>1105622593132945414</td>\n",
       "      <td>1105622593132945414</td>\n",
       "      <td>None</td>\n",
       "      <td>NaN</td>\n",
       "      <td>...</td>\n",
       "      <td>333333</td>\n",
       "      <td>True</td>\n",
       "      <td>False</td>\n",
       "      <td>RandomMexican08</td>\n",
       "      <td>3592</td>\n",
       "      <td>None</td>\n",
       "      <td>none</td>\n",
       "      <td>None</td>\n",
       "      <td>None</td>\n",
       "      <td>False</td>\n",
       "    </tr>\n",
       "    <tr>\n",
       "      <th>96</th>\n",
       "      <td>None</td>\n",
       "      <td>None</td>\n",
       "      <td>Wed Mar 13 00:10:43 +0000 2019</td>\n",
       "      <td>0</td>\n",
       "      <td>False</td>\n",
       "      <td>None</td>\n",
       "      <td>1105622177263554560</td>\n",
       "      <td>1105622177263554560</td>\n",
       "      <td>None</td>\n",
       "      <td>NaN</td>\n",
       "      <td>...</td>\n",
       "      <td>000000</td>\n",
       "      <td>False</td>\n",
       "      <td>False</td>\n",
       "      <td>bpdlimited</td>\n",
       "      <td>51101</td>\n",
       "      <td>None</td>\n",
       "      <td>none</td>\n",
       "      <td>https://t.co/DDRJagHl7h</td>\n",
       "      <td>None</td>\n",
       "      <td>False</td>\n",
       "    </tr>\n",
       "    <tr>\n",
       "      <th>97</th>\n",
       "      <td>None</td>\n",
       "      <td>None</td>\n",
       "      <td>Wed Mar 13 00:10:35 +0000 2019</td>\n",
       "      <td>1</td>\n",
       "      <td>False</td>\n",
       "      <td>None</td>\n",
       "      <td>1105622146334838787</td>\n",
       "      <td>1105622146334838787</td>\n",
       "      <td>None</td>\n",
       "      <td>NaN</td>\n",
       "      <td>...</td>\n",
       "      <td>000000</td>\n",
       "      <td>False</td>\n",
       "      <td>False</td>\n",
       "      <td>MintWolfTV</td>\n",
       "      <td>1049</td>\n",
       "      <td>None</td>\n",
       "      <td>none</td>\n",
       "      <td>https://t.co/pPm3Ro5iS1</td>\n",
       "      <td>None</td>\n",
       "      <td>False</td>\n",
       "    </tr>\n",
       "    <tr>\n",
       "      <th>98</th>\n",
       "      <td>None</td>\n",
       "      <td>None</td>\n",
       "      <td>Wed Mar 13 00:10:29 +0000 2019</td>\n",
       "      <td>0</td>\n",
       "      <td>False</td>\n",
       "      <td>None</td>\n",
       "      <td>1105622120896225280</td>\n",
       "      <td>1105622120896225280</td>\n",
       "      <td>None</td>\n",
       "      <td>NaN</td>\n",
       "      <td>...</td>\n",
       "      <td>000000</td>\n",
       "      <td>False</td>\n",
       "      <td>False</td>\n",
       "      <td>chronostrider39</td>\n",
       "      <td>7101</td>\n",
       "      <td>None</td>\n",
       "      <td>none</td>\n",
       "      <td>https://t.co/Sf2xtX7N11</td>\n",
       "      <td>None</td>\n",
       "      <td>False</td>\n",
       "    </tr>\n",
       "    <tr>\n",
       "      <th>99</th>\n",
       "      <td>None</td>\n",
       "      <td>None</td>\n",
       "      <td>Wed Mar 13 00:10:16 +0000 2019</td>\n",
       "      <td>0</td>\n",
       "      <td>False</td>\n",
       "      <td>None</td>\n",
       "      <td>1105622065724444673</td>\n",
       "      <td>1105622065724444673</td>\n",
       "      <td>None</td>\n",
       "      <td>NaN</td>\n",
       "      <td>...</td>\n",
       "      <td>333333</td>\n",
       "      <td>True</td>\n",
       "      <td>False</td>\n",
       "      <td>CChristopherNJ</td>\n",
       "      <td>3547</td>\n",
       "      <td>None</td>\n",
       "      <td>none</td>\n",
       "      <td>None</td>\n",
       "      <td>None</td>\n",
       "      <td>False</td>\n",
       "    </tr>\n",
       "  </tbody>\n",
       "</table>\n",
       "<p>100 rows × 214 columns</p>\n",
       "</div>"
      ],
      "text/plain": [
       "   contributors coordinates                      created_at  favorite_count  \\\n",
       "0          None        None  Wed Mar 13 01:03:25 +0000 2019               0   \n",
       "1          None        None  Wed Mar 13 01:02:49 +0000 2019               0   \n",
       "2          None        None  Wed Mar 13 01:02:24 +0000 2019               2   \n",
       "3          None        None  Wed Mar 13 01:02:01 +0000 2019               0   \n",
       "4          None        None  Wed Mar 13 01:01:00 +0000 2019               1   \n",
       "5          None        None  Wed Mar 13 01:00:46 +0000 2019               0   \n",
       "6          None        None  Wed Mar 13 01:00:44 +0000 2019               0   \n",
       "7          None        None  Wed Mar 13 01:00:31 +0000 2019               0   \n",
       "8          None        None  Wed Mar 13 01:00:04 +0000 2019               0   \n",
       "9          None        None  Wed Mar 13 01:00:01 +0000 2019               0   \n",
       "10         None        None  Wed Mar 13 00:57:39 +0000 2019               0   \n",
       "11         None        None  Wed Mar 13 00:57:06 +0000 2019               0   \n",
       "12         None        None  Wed Mar 13 00:56:49 +0000 2019               0   \n",
       "13         None        None  Wed Mar 13 00:55:36 +0000 2019               0   \n",
       "14         None        None  Wed Mar 13 00:55:15 +0000 2019               0   \n",
       "15         None        None  Wed Mar 13 00:54:37 +0000 2019               0   \n",
       "16         None        None  Wed Mar 13 00:54:27 +0000 2019               0   \n",
       "17         None        None  Wed Mar 13 00:53:05 +0000 2019               0   \n",
       "18         None        None  Wed Mar 13 00:52:48 +0000 2019               0   \n",
       "19         None        None  Wed Mar 13 00:52:24 +0000 2019               0   \n",
       "20         None        None  Wed Mar 13 00:51:54 +0000 2019               2   \n",
       "21         None        None  Wed Mar 13 00:51:32 +0000 2019               0   \n",
       "22         None        None  Wed Mar 13 00:51:31 +0000 2019               0   \n",
       "23         None        None  Wed Mar 13 00:51:26 +0000 2019               1   \n",
       "24         None        None  Wed Mar 13 00:50:50 +0000 2019               0   \n",
       "25         None        None  Wed Mar 13 00:50:27 +0000 2019               0   \n",
       "26         None        None  Wed Mar 13 00:50:22 +0000 2019               1   \n",
       "27         None        None  Wed Mar 13 00:50:22 +0000 2019               9   \n",
       "28         None        None  Wed Mar 13 00:49:56 +0000 2019               1   \n",
       "29         None        None  Wed Mar 13 00:49:30 +0000 2019               0   \n",
       "..          ...         ...                             ...             ...   \n",
       "70         None        None  Wed Mar 13 00:21:31 +0000 2019               0   \n",
       "71         None        None  Wed Mar 13 00:21:16 +0000 2019               0   \n",
       "72         None        None  Wed Mar 13 00:21:02 +0000 2019               0   \n",
       "73         None        None  Wed Mar 13 00:20:51 +0000 2019               3   \n",
       "74         None        None  Wed Mar 13 00:20:49 +0000 2019               0   \n",
       "75         None        None  Wed Mar 13 00:20:48 +0000 2019               2   \n",
       "76         None        None  Wed Mar 13 00:20:43 +0000 2019               3   \n",
       "77         None        None  Wed Mar 13 00:19:55 +0000 2019               0   \n",
       "78         None        None  Wed Mar 13 00:19:27 +0000 2019               0   \n",
       "79         None        None  Wed Mar 13 00:19:21 +0000 2019               7   \n",
       "80         None        None  Wed Mar 13 00:18:24 +0000 2019               0   \n",
       "81         None        None  Wed Mar 13 00:18:15 +0000 2019               0   \n",
       "82         None        None  Wed Mar 13 00:16:41 +0000 2019               1   \n",
       "83         None        None  Wed Mar 13 00:16:10 +0000 2019               1   \n",
       "84         None        None  Wed Mar 13 00:16:04 +0000 2019               0   \n",
       "85         None        None  Wed Mar 13 00:15:40 +0000 2019               0   \n",
       "86         None        None  Wed Mar 13 00:15:34 +0000 2019               1   \n",
       "87         None        None  Wed Mar 13 00:14:52 +0000 2019               1   \n",
       "88         None        None  Wed Mar 13 00:14:35 +0000 2019               0   \n",
       "89         None        None  Wed Mar 13 00:13:59 +0000 2019               0   \n",
       "90         None        None  Wed Mar 13 00:13:54 +0000 2019               0   \n",
       "91         None        None  Wed Mar 13 00:13:43 +0000 2019               0   \n",
       "92         None        None  Wed Mar 13 00:13:42 +0000 2019               2   \n",
       "93         None        None  Wed Mar 13 00:13:00 +0000 2019               1   \n",
       "94         None        None  Wed Mar 13 00:12:31 +0000 2019               0   \n",
       "95         None        None  Wed Mar 13 00:12:22 +0000 2019               0   \n",
       "96         None        None  Wed Mar 13 00:10:43 +0000 2019               0   \n",
       "97         None        None  Wed Mar 13 00:10:35 +0000 2019               1   \n",
       "98         None        None  Wed Mar 13 00:10:29 +0000 2019               0   \n",
       "99         None        None  Wed Mar 13 00:10:16 +0000 2019               0   \n",
       "\n",
       "    favorited   geo                   id               id_str  \\\n",
       "0       False  None  1105635439904473088  1105635439904473088   \n",
       "1       False  None  1105635291375656960  1105635291375656960   \n",
       "2       False  None  1105635187071700992  1105635187071700992   \n",
       "3       False  None  1105635090263142400  1105635090263142400   \n",
       "4       False  None  1105634831004766210  1105634831004766210   \n",
       "5       False  None  1105634774146797568  1105634774146797568   \n",
       "6       False  None  1105634764483190784  1105634764483190784   \n",
       "7       False  None  1105634711811043328  1105634711811043328   \n",
       "8       False  None  1105634596102832129  1105634596102832129   \n",
       "9       False  None  1105634585495437313  1105634585495437313   \n",
       "10      False  None  1105633991040925697  1105633991040925697   \n",
       "11      False  None  1105633851303448577  1105633851303448577   \n",
       "12      False  None  1105633779329179650  1105633779329179650   \n",
       "13      False  None  1105633475124707330  1105633475124707330   \n",
       "14      False  None  1105633384750034946  1105633384750034946   \n",
       "15      False  None  1105633227333689345  1105633227333689345   \n",
       "16      False  None  1105633183465385995  1105633183465385995   \n",
       "17      False  None  1105632840501334018  1105632840501334018   \n",
       "18      False  None  1105632770645217281  1105632770645217281   \n",
       "19      False  None  1105632668346212353  1105632668346212353   \n",
       "20      False  None  1105632541510459392  1105632541510459392   \n",
       "21      False  None  1105632450170912768  1105632450170912768   \n",
       "22      False  None  1105632444865175552  1105632444865175552   \n",
       "23      False  None  1105632423243583488  1105632423243583488   \n",
       "24      False  None  1105632274849001474  1105632274849001474   \n",
       "25      False  None  1105632175808929792  1105632175808929792   \n",
       "26      False  None  1105632157920358400  1105632157920358400   \n",
       "27      False  None  1105632156267790337  1105632156267790337   \n",
       "28      False  None  1105632047480037377  1105632047480037377   \n",
       "29      False  None  1105631938897895424  1105631938897895424   \n",
       "..        ...   ...                  ...                  ...   \n",
       "70      False  None  1105624898582470656  1105624898582470656   \n",
       "71      False  None  1105624833709301761  1105624833709301761   \n",
       "72      False  None  1105624774347313152  1105624774347313152   \n",
       "73      False  None  1105624729585700869  1105624729585700869   \n",
       "74      False  None  1105624720869748736  1105624720869748736   \n",
       "75      False  None  1105624714683113472  1105624714683113472   \n",
       "76      False  None  1105624693149712385  1105624693149712385   \n",
       "77      False  None  1105624494184587270  1105624494184587270   \n",
       "78      False  None  1105624376462979072  1105624376462979072   \n",
       "79      False  None  1105624352626749446  1105624352626749446   \n",
       "80      False  None  1105624111043301378  1105624111043301378   \n",
       "81      False  None  1105624075475578883  1105624075475578883   \n",
       "82      False  None  1105623681982758913  1105623681982758913   \n",
       "83      False  None  1105623549631303680  1105623549631303680   \n",
       "84      False  None  1105623523563921409  1105623523563921409   \n",
       "85      False  None  1105623425228386304  1105623425228386304   \n",
       "86      False  None  1105623399374581767  1105623399374581767   \n",
       "87      False  None  1105623222484168711  1105623222484168711   \n",
       "88      False  None  1105623149738106883  1105623149738106883   \n",
       "89      False  None  1105622999456194562  1105622999456194562   \n",
       "90      False  None  1105622978497310720  1105622978497310720   \n",
       "91      False  None  1105622932343214080  1105622932343214080   \n",
       "92      False  None  1105622928639569921  1105622928639569921   \n",
       "93      False  None  1105622754429030400  1105622754429030400   \n",
       "94      False  None  1105622630965698560  1105622630965698560   \n",
       "95      False  None  1105622593132945414  1105622593132945414   \n",
       "96      False  None  1105622177263554560  1105622177263554560   \n",
       "97      False  None  1105622146334838787  1105622146334838787   \n",
       "98      False  None  1105622120896225280  1105622120896225280   \n",
       "99      False  None  1105622065724444673  1105622065724444673   \n",
       "\n",
       "   in_reply_to_screen_name  in_reply_to_status_id      ...       \\\n",
       "0                     None                    NaN      ...        \n",
       "1                     None                    NaN      ...        \n",
       "2                     None                    NaN      ...        \n",
       "3                     None                    NaN      ...        \n",
       "4                     None                    NaN      ...        \n",
       "5                     None                    NaN      ...        \n",
       "6                     None                    NaN      ...        \n",
       "7                     None                    NaN      ...        \n",
       "8                     None                    NaN      ...        \n",
       "9                     None                    NaN      ...        \n",
       "10                    None                    NaN      ...        \n",
       "11                    None                    NaN      ...        \n",
       "12                    None                    NaN      ...        \n",
       "13                    None                    NaN      ...        \n",
       "14                    None                    NaN      ...        \n",
       "15                    None                    NaN      ...        \n",
       "16                DeeJ_BNG           1.105526e+18      ...        \n",
       "17                    None                    NaN      ...        \n",
       "18                    None                    NaN      ...        \n",
       "19                    None                    NaN      ...        \n",
       "20                    None                    NaN      ...        \n",
       "21                    None                    NaN      ...        \n",
       "22                    None                    NaN      ...        \n",
       "23                    None                    NaN      ...        \n",
       "24                    None                    NaN      ...        \n",
       "25                    None                    NaN      ...        \n",
       "26              BluPainter                    NaN      ...        \n",
       "27                    None                    NaN      ...        \n",
       "28                    None                    NaN      ...        \n",
       "29                    None                    NaN      ...        \n",
       "..                     ...                    ...      ...        \n",
       "70                    None                    NaN      ...        \n",
       "71                    None                    NaN      ...        \n",
       "72                    None                    NaN      ...        \n",
       "73                    None                    NaN      ...        \n",
       "74                    None                    NaN      ...        \n",
       "75            erosfortones           1.105624e+18      ...        \n",
       "76                    None                    NaN      ...        \n",
       "77                    None                    NaN      ...        \n",
       "78                    None                    NaN      ...        \n",
       "79                    None                    NaN      ...        \n",
       "80                    None                    NaN      ...        \n",
       "81                    None                    NaN      ...        \n",
       "82         JulesthesuperRN           1.105624e+18      ...        \n",
       "83              Be11eBunny           1.105621e+18      ...        \n",
       "84                    None                    NaN      ...        \n",
       "85                    None                    NaN      ...        \n",
       "86                    None                    NaN      ...        \n",
       "87          AndInkBlossoms           1.105622e+18      ...        \n",
       "88                    None                    NaN      ...        \n",
       "89                    None                    NaN      ...        \n",
       "90                    None                    NaN      ...        \n",
       "91                    None                    NaN      ...        \n",
       "92                    None                    NaN      ...        \n",
       "93                    None                    NaN      ...        \n",
       "94                    None                    NaN      ...        \n",
       "95                    None                    NaN      ...        \n",
       "96                    None                    NaN      ...        \n",
       "97                    None                    NaN      ...        \n",
       "98                    None                    NaN      ...        \n",
       "99                    None                    NaN      ...        \n",
       "\n",
       "   user.profile_text_color  user.profile_use_background_image user.protected  \\\n",
       "0                   333333                               True          False   \n",
       "1                   333333                               True          False   \n",
       "2                   333333                              False          False   \n",
       "3                   3394C8                              False          False   \n",
       "4                   000000                              False          False   \n",
       "5                   000000                              False          False   \n",
       "6                   000000                              False          False   \n",
       "7                   666666                               True          False   \n",
       "8                   000000                              False          False   \n",
       "9                   333333                               True          False   \n",
       "10                  0084B4                               True          False   \n",
       "11                  000000                              False          False   \n",
       "12                  333333                               True          False   \n",
       "13                  333333                               True          False   \n",
       "14                  333333                               True          False   \n",
       "15                  C6875B                               True          False   \n",
       "16                  333333                               True          False   \n",
       "17                  333333                               True          False   \n",
       "18                  EBE017                               True          False   \n",
       "19                  000000                              False          False   \n",
       "20                  000000                              False          False   \n",
       "21                  000000                              False          False   \n",
       "22                  000000                              False          False   \n",
       "23                  333333                               True          False   \n",
       "24                  000000                              False          False   \n",
       "25                  333333                               True          False   \n",
       "26                  000000                              False          False   \n",
       "27                  000000                              False          False   \n",
       "28                  333333                               True          False   \n",
       "29                  000000                              False          False   \n",
       "..                     ...                                ...            ...   \n",
       "70                  000000                              False          False   \n",
       "71                  333333                               True          False   \n",
       "72                  333333                               True          False   \n",
       "73                  000000                              False          False   \n",
       "74                  009999                               True          False   \n",
       "75                  000000                               True          False   \n",
       "76                  827972                               True          False   \n",
       "77                  000000                              False          False   \n",
       "78                  000000                              False          False   \n",
       "79                  333333                               True          False   \n",
       "80                  666666                               True          False   \n",
       "81                  333333                               True          False   \n",
       "82                  333333                               True          False   \n",
       "83                  333333                               True          False   \n",
       "84                  000000                              False          False   \n",
       "85                  000000                               True          False   \n",
       "86                  000000                              False          False   \n",
       "87                  000000                              False          False   \n",
       "88                  000000                              False          False   \n",
       "89                  333333                               True          False   \n",
       "90                  333333                               True          False   \n",
       "91                  000000                              False          False   \n",
       "92                  333333                               True          False   \n",
       "93                  333333                               True          False   \n",
       "94                  333333                               True          False   \n",
       "95                  333333                               True          False   \n",
       "96                  000000                              False          False   \n",
       "97                  000000                              False          False   \n",
       "98                  000000                              False          False   \n",
       "99                  333333                               True          False   \n",
       "\n",
       "    user.screen_name user.statuses_count user.time_zone user.translator_type  \\\n",
       "0    Germain58055796                  62           None                 none   \n",
       "1          Cygamerok                8065           None                 none   \n",
       "2    loadingreadyrun               16532           None                 none   \n",
       "3          techradar               57882           None                 none   \n",
       "4     shutterman1801                 215           None                 none   \n",
       "5            OdinRa_                5273           None                 none   \n",
       "6        barf_ebooks                4468           None                 none   \n",
       "7             OPM_UK               38109           None                 none   \n",
       "8     StreamSupport3               48003           None                 none   \n",
       "9      StormyElitist                2063           None                 none   \n",
       "10          Kaiju115              206337           None                 none   \n",
       "11       DavidPeniel               25075           None                 none   \n",
       "12           Veethah               15259           None                 none   \n",
       "13     coolironman97                 325           None                 none   \n",
       "14   cryinmillennial                6669           None                 none   \n",
       "15          J_Skally               78613           None                 none   \n",
       "16     BazFunnyBunny               25679           None                 none   \n",
       "17       PazziaElias                  81           None                 none   \n",
       "18     2Mylesperhour               45035           None                 none   \n",
       "19   KingofShadows06                 247           None                 none   \n",
       "20     CarEliteNCorg                2017           None                 none   \n",
       "21             R3MGG                 247           None                 none   \n",
       "22      DanielsWeek1                 155           None                 none   \n",
       "23      Maggiexox814                 361           None                 none   \n",
       "24           Trib3zz                8052           None                 none   \n",
       "25          raffie89                  70           None                 none   \n",
       "26       RichBoiRafe                1775           None                 none   \n",
       "27     KyleTaylor416                4162           None                 none   \n",
       "28   AirworthyPrince                  20           None                 none   \n",
       "29     JL_MacEachern                2463           None                 none   \n",
       "..               ...                 ...            ...                  ...   \n",
       "70      SmileySteve2                  41           None                 none   \n",
       "71   AscendingGaming                 865           None                 none   \n",
       "72    Chattermeister               17807           None                 none   \n",
       "73        R3M_Strik3                 398           None                 none   \n",
       "74    HiramMcDaniels                1156           None                 none   \n",
       "75           Ofmorse               16703           None                 none   \n",
       "76      rajaasurgeon                3373           None                 none   \n",
       "77         punkyliar                2014           None                 none   \n",
       "78    BrandonGouldHS               32975           None                 none   \n",
       "79      BrianDeakyne               23146           None                 none   \n",
       "80        MaMaMia_21               41709           None                 none   \n",
       "81       gamerix_net                6133           None                 none   \n",
       "82   JulesthesuperRN                 634           None                 none   \n",
       "83      DrJazzyBebop                5699           None                 none   \n",
       "84   PotatoSquad2019                 256           None                 none   \n",
       "85   GustavitoSivori               11071           None                 none   \n",
       "86        pcinvasion               44125           None                 none   \n",
       "87     lcdavisauthor                6364           None                 none   \n",
       "88     timbosliceBTW               10758           None                 none   \n",
       "89           DR_Ray0                 741           None                 none   \n",
       "90    I_am_cat_bread               25852           None                 none   \n",
       "91      bboy_koolaid                6627           None                 none   \n",
       "92         GeppettoA                1046           None                 none   \n",
       "93       Batman_8307                1221           None                 none   \n",
       "94     WeKeepChoppin                 408           None                 none   \n",
       "95   RandomMexican08                3592           None                 none   \n",
       "96        bpdlimited               51101           None                 none   \n",
       "97        MintWolfTV                1049           None                 none   \n",
       "98   chronostrider39                7101           None                 none   \n",
       "99    CChristopherNJ                3547           None                 none   \n",
       "\n",
       "                   user.url user.utc_offset user.verified  \n",
       "0                      None            None         False  \n",
       "1   https://t.co/DTbLRNRmOm            None         False  \n",
       "2    http://t.co/p69e6Lcx7H            None         False  \n",
       "3   https://t.co/bjLoW5yMKX            None          True  \n",
       "4   https://t.co/bu71D3JnJz            None         False  \n",
       "5   https://t.co/0xdUheHGjY            None         False  \n",
       "6                      None            None         False  \n",
       "7   https://t.co/fcMu5TmiLX            None          True  \n",
       "8   https://t.co/DkXgW9FQxS            None         False  \n",
       "9                      None            None         False  \n",
       "10   http://t.co/d7wxrvKVF3            None         False  \n",
       "11                     None            None         False  \n",
       "12                     None            None         False  \n",
       "13  https://t.co/tPzHLrvKrC            None         False  \n",
       "14                     None            None         False  \n",
       "15  https://t.co/T7Lof0BldL            None         False  \n",
       "16                     None            None         False  \n",
       "17                     None            None         False  \n",
       "18                     None            None         False  \n",
       "19                     None            None         False  \n",
       "20  https://t.co/HSzbMIhSBD            None         False  \n",
       "21  https://t.co/H0VtGKM8aM            None         False  \n",
       "22  https://t.co/RwGrtIBLO9            None         False  \n",
       "23  https://t.co/SyT7xGJ99o            None         False  \n",
       "24  https://t.co/n6DEHY1WsY            None         False  \n",
       "25                     None            None         False  \n",
       "26  https://t.co/DYDXRA4gXc            None         False  \n",
       "27  https://t.co/8g1gpFGg1c            None         False  \n",
       "28  https://t.co/ZM2AZZtJfa            None         False  \n",
       "29                     None            None         False  \n",
       "..                      ...             ...           ...  \n",
       "70                     None            None         False  \n",
       "71                     None            None         False  \n",
       "72     http://t.co/uyp6y4Ri            None         False  \n",
       "73  https://t.co/s7v1aWRqKL            None         False  \n",
       "74                     None            None         False  \n",
       "75  https://t.co/pjqimuHkRS            None         False  \n",
       "76  https://t.co/Ba9F941lwE            None         False  \n",
       "77                     None            None         False  \n",
       "78  https://t.co/eOqVFsrwkF            None          True  \n",
       "79  https://t.co/SeMPNP0Qux            None          True  \n",
       "80                     None            None         False  \n",
       "81  https://t.co/CcQkOU6LfK            None         False  \n",
       "82                     None            None         False  \n",
       "83  https://t.co/z7NcNHcJtX            None         False  \n",
       "84  https://t.co/Z5eMZvTDsW            None         False  \n",
       "85                     None            None         False  \n",
       "86   http://t.co/5alII7XZ3v            None         False  \n",
       "87  https://t.co/93DTnoiya7            None         False  \n",
       "88                     None            None         False  \n",
       "89                     None            None         False  \n",
       "90                     None            None         False  \n",
       "91  https://t.co/ycjqOuDgrE            None         False  \n",
       "92  https://t.co/xfHZND4FPj            None         False  \n",
       "93  https://t.co/WJIszCxy4O            None         False  \n",
       "94                     None            None         False  \n",
       "95                     None            None         False  \n",
       "96  https://t.co/DDRJagHl7h            None         False  \n",
       "97  https://t.co/pPm3Ro5iS1            None         False  \n",
       "98  https://t.co/Sf2xtX7N11            None         False  \n",
       "99                     None            None         False  \n",
       "\n",
       "[100 rows x 214 columns]"
      ]
     },
     "execution_count": 15,
     "metadata": {},
     "output_type": "execute_result"
    }
   ],
   "source": [
    "df = json_normalize(tweets.json()['statuses'])\n",
    "df"
   ]
  },
  {
   "cell_type": "markdown",
   "metadata": {},
   "source": [
    "Here is the text of the 100 tweets"
   ]
  },
  {
   "cell_type": "code",
   "execution_count": 16,
   "metadata": {
    "scrolled": true
   },
   "outputs": [
    {
     "data": {
      "text/plain": [
       "0     RT @TPHDallas: Are you feeling uncertain for w...\n",
       "1     RT @TheOGPatriotX: Lets get this ball rolling....\n",
       "2     On tonight's Talking Simulator, Cameron and sp...\n",
       "3     Destiny 2 news, updates and DLC https://t.co/k...\n",
       "4     Check out my broadcast from my PlayStation 4! ...\n",
       "5     Check out my broadcast from my PlayStation 4! ...\n",
       "6     I WATCHED TOY STORY 1 FOR THE FIRST 3 HOURS OF...\n",
       "7     An incoming Destiny 2 update will finally buff...\n",
       "8     Kappa @janpiert1 is playing Destiny 2 at https...\n",
       "9     RT @TheOGPatriotX: Lets get this ball rolling....\n",
       "10    RT @FateStayNightUS: The crossroads of destiny...\n",
       "11    RT @TPHDallas: Are you feeling uncertain for w...\n",
       "12    Thorn quest and comp #PS4live (Destiny 2)  liv...\n",
       "13    Check out coolironman97   plays  destiny 2 htt...\n",
       "14    RT @BPELive: What's does a badass metal man do...\n",
       "15    👍 on @YouTube: Destiny 2 Lore - Allegiance Qu...\n",
       "16           @DeeJ_BNG Re-Skin large scale = Destiny 2.\n",
       "17    RT @TPHDallas: Are you feeling uncertain for w...\n",
       "18              THE LAST WORD IS IN DESTINY 2 NOW!!!!!!\n",
       "19    Check out my broadcast from my PlayStation 4! ...\n",
       "20    Congrats to our Destiny Brown (2022 OF) Who we...\n",
       "21    RT @R3M_Strik3: Live\\n\\nEvening Stream W/ @Itz...\n",
       "22    RT @DanielsWeek1: 'U a #Space #Traveler'?\\nAs ...\n",
       "23    Check out Destiny 2 fun with friends! &lt;3 !f...\n",
       "24    RT @R3M_Strik3: Live\\n\\nEvening Stream W/ @Itz...\n",
       "25    Sorry haven’t been live for a couple of days b...\n",
       "26    @BluPainter &amp; i managed to do our first Es...\n",
       "27    Messing with my stream settings and playing De...\n",
       "28    Been super busy with school but now it's time ...\n",
       "29    2 flights down, 1 more to go. Soon I will be h...\n",
       "                            ...                        \n",
       "70    RT @R3M_Strik3: Live\\n\\nEvening Stream W/ @Itz...\n",
       "71    RT @GeppettoA: Check out my broadcast from my ...\n",
       "72    RT @BrianDeakyne: FINAL: No. 2 Manchester Town...\n",
       "73    Live\\n\\nEvening Stream W/ @ItzStrikke\\nPlaying...\n",
       "74    Destiny released a new v important questline t...\n",
       "75    @erosfortones @CalebMickel Borderlands 2 &gt; ...\n",
       "76    Back on Destiny 2 running some Gambit! A girl ...\n",
       "77    Alongside this week's Destiny 2 reset came Hot...\n",
       "78    RT @BrianDeakyne: FINAL: No. 2 Manchester Town...\n",
       "79    FINAL: No. 2 Manchester Township 74, Mainland ...\n",
       "80    Can’t wait to sing Destiny’s child Cater 2 you...\n",
       "81    Destiny 2 Thorn Quest Trolls Fans With Fake Gj...\n",
       "82                             In relation to Destiny 2\n",
       "83    @Be11eBunny @Halo What an awesome, fun idea fo...\n",
       "84    The potato JimRacer\\\\\\_77 just went live - [PC...\n",
       "85    RT @BPELive: What's does a badass metal man do...\n",
       "86    Thorn Is Back In Destiny 2, Here’s How To Get ...\n",
       "87    @AndInkBlossoms I just finished playing Destin...\n",
       "88    So many vidja games. New content in Destiny 2,...\n",
       "89    RT @GeppettoA: Check out my broadcast from my ...\n",
       "90    RT @PatrckStatic: Gonna be finishing up some l...\n",
       "91    Bboy Koolaid wanted to share this moment in De...\n",
       "92    Check out my broadcast from my PlayStation 4! ...\n",
       "93    So what is your first impression of today’s De...\n",
       "94    Cherokee JV  0  (Pitching: #11 Destiny Trevino...\n",
       "95    RT @tha_rami: I had to sit down my mom for two...\n",
       "96    Destiny - The Ghost Edition &amp; Destiny The ...\n",
       "97    I'm now streaming on Twitch! Playing Destiny 2...\n",
       "98    Today has been an excellent day for gaming. Ha...\n",
       "99    Destiny Adams: 16 points, 7-12 field, includin...\n",
       "Name: text, Length: 100, dtype: object"
      ]
     },
     "execution_count": 16,
     "metadata": {},
     "output_type": "execute_result"
    }
   ],
   "source": [
    "df.text"
   ]
  },
  {
   "cell_type": "markdown",
   "metadata": {},
   "source": [
    "Plotting favorites vs retweets"
   ]
  },
  {
   "cell_type": "code",
   "execution_count": 17,
   "metadata": {
    "scrolled": true
   },
   "outputs": [
    {
     "data": {
      "image/png": "[encoded data removed]",
      "text/plain": [
       "<matplotlib.figure.Figure at 0xade7ac8>"
      ]
     },
     "metadata": {
      "needs_background": "light"
     },
     "output_type": "display_data"
    }
   ],
   "source": [
    "df.plot.scatter(x='favorite_count', y='retweet_count')\n",
    "plt.show()"
   ]
  },
  {
   "cell_type": "markdown",
   "metadata": {},
   "source": [
    "Here is how I can access the highest and lowest IDs in a dataframe of tweets."
   ]
  },
  {
   "cell_type": "code",
   "execution_count": 18,
   "metadata": {
    "scrolled": true
   },
   "outputs": [
    {
     "data": {
      "text/plain": [
       "1105622065724444673"
      ]
     },
     "execution_count": 18,
     "metadata": {},
     "output_type": "execute_result"
    }
   ],
   "source": [
    "df.sort_values('id', ascending=True).iloc[0, 6]#.head(1)['id'].values[0]"
   ]
  },
  {
   "cell_type": "code",
   "execution_count": 19,
   "metadata": {},
   "outputs": [
    {
     "data": {
      "text/plain": [
       "1105635439904473088"
      ]
     },
     "execution_count": 19,
     "metadata": {},
     "output_type": "execute_result"
    }
   ],
   "source": [
    "df.sort_values('id', ascending=False).iloc[0, 6]#.head(1)['id'].values[0]"
   ]
  },
  {
   "cell_type": "code",
   "execution_count": 54,
   "metadata": {},
   "outputs": [
    {
     "data": {
      "text/plain": [
       "1105622065724444673"
      ]
     },
     "execution_count": 54,
     "metadata": {},
     "output_type": "execute_result"
    }
   ],
   "source": [
    "df.id.min()"
   ]
  },
  {
   "cell_type": "code",
   "execution_count": 55,
   "metadata": {},
   "outputs": [
    {
     "data": {
      "text/plain": [
       "1105635439904473088"
      ]
     },
     "execution_count": 55,
     "metadata": {},
     "output_type": "execute_result"
    }
   ],
   "source": [
    "df.id.max()"
   ]
  },
  {
   "cell_type": "markdown",
   "metadata": {},
   "source": [
    "### Bias?\n",
    "\n",
    "I need to have a way to get a representative sample of tweets. I am concerned that if I order tweets by time, this may have bias.\n",
    "\n",
    "But then the question becomes: How many tweets do I need? I probably shouldn't take them all, since that violates the independence condition of statistical analyses."
   ]
  },
  {
   "cell_type": "markdown",
   "metadata": {},
   "source": [
    "### Consideration about IDs\n",
    "\n",
    "https://developer.twitter.com/en/docs/tweets/timelines/guides/working-with-timelines\n",
    "\n",
    "The search API will return an ordering based on ID. You should set max_id or since_id to make sure calls aren't redundant.\n",
    "\n",
    "This seems like it depends on a temporal ordering, like for timelines. "
   ]
  },
  {
   "cell_type": "markdown",
   "metadata": {},
   "source": [
    "### Followers\n",
    "\n",
    "If I want to make a network, I can get accounts' followers. This does depend on having a complete-ish set of data, which may not be possible with the Standard Twitter Search API.\n",
    "\n",
    "There are a couple requests explained in here: https://developer.twitter.com/en/docs/accounts-and-users/follow-search-get-users/api-reference\n",
    "\n",
    "Get Followers: Will get all the user IDs for people that follow the account in question\n",
    "\n",
    "Get Friends: Will get all the user IDs for people that the account in question in following"
   ]
  },
  {
   "cell_type": "markdown",
   "metadata": {},
   "source": [
    "### Time Sensitivity\n",
    "\n",
    "Try to get 25k - 50k tweets. I will try to get 20k tweets from each block (Destiny / Bungie).\n",
    "\n",
    "I can only pull tweets from the last week ish. Getting followers / friendships can happen at any time."
   ]
  },
  {
   "cell_type": "markdown",
   "metadata": {},
   "source": [
    "The pokemon / nintendo project idea will be scrapped, since it took too long to figure the duplicate tweet problem out, and the free, standard twitter api only allows access to the last week of data.\n",
    "\n",
    "I need to figure out how to make sure I get all independent tweets in my data collection."
   ]
  },
  {
   "cell_type": "markdown",
   "metadata": {},
   "source": [
    "### Tweet duplication problem\n",
    "\n",
    "I'm trying to redo and test the loop to eradicate duplicates. \n",
    "\n",
    "Testing: does the value for max_id need to be an int or a string? INT\n",
    "\n",
    "Does the starting value matter? DON\"T HAVE A STARTING VALUE\n",
    "\n",
    "Are there actually just not enough tweets? At len 50, I only had duplicates of some tweets, nothing higher.\n",
    "\n",
    "at len 100, I only had triples of tweets.\n",
    "\n",
    "PROBLEM: I was doing a weird dataframe ordering and .iloc to get the lowest tweet, when I should have just taken the ID column as a series and done .min()."
   ]
  },
  {
   "cell_type": "markdown",
   "metadata": {},
   "source": [
    "#### Code Refactoring\n",
    "\n",
    "Let's make a function so that this all runs cleaner"
   ]
  },
  {
   "cell_type": "code",
   "execution_count": 114,
   "metadata": {},
   "outputs": [],
   "source": [
    "def find_tweets_on_topic(topic, block_size, block_num):\n",
    "    \n",
    "    # This block should search for any recent tweets involving the input topic\n",
    "    params = {\n",
    "        # General search term\n",
    "        'q': topic,\n",
    "    \n",
    "        # Others\n",
    "        'lang': 'en',\n",
    "        'result_type': 'recent',\n",
    "        'count': block_size,\n",
    "        'include_entities': 'false'\n",
    "    }\n",
    "    \n",
    "    # Set up variables for input later\n",
    "    twitter_url = 'https://api.twitter.com/1.1/search/tweets.json'\n",
    "    current_min = float(\"inf\")\n",
    "    tweets_list = []\n",
    "\n",
    "    while (len(tweets_list) < block_num):\n",
    "        # Get the tweets\n",
    "        tweets = requests.get(twitter_url, params=params, auth=auth)\n",
    "        \n",
    "        # If I can't get anymore tweets, be done\n",
    "        if tweets.json()['statuses'] == []:\n",
    "            print(\"Empty Response Found. Exiting Loop.\")\n",
    "            break\n",
    "            \n",
    "        # Add tweets to the list\n",
    "        sub_df = json_normalize(tweets.json()['statuses'])\n",
    "        tweets_list.append(sub_df)\n",
    "        \n",
    "        # Set up max_id on the first time through\n",
    "        if 'max_id' not in params.keys():\n",
    "            current_min = sub_df.id.min()\n",
    "            params['max_id'] = current_min\n",
    "            # The following line was the old way I found current_min, and is wrong\n",
    "            #params['max_id'] = sub_df.sort_values('id', ascending=True).iloc[0, 7]\n",
    "        \n",
    "        # Change max_id if it is lower than what we currently have\n",
    "        else:\n",
    "            new_min = sub_df.id.min()\n",
    "            if new_min < current_min :\n",
    "                current_min = new_min\n",
    "                params['max_id'] = current_min\n",
    "    \n",
    "        # I can do 180 requests per 15 minutes\n",
    "        # This is the same as a request every 5 seconds\n",
    "        # I will go a little slower than that\n",
    "        time.sleep(6)\n",
    "        \n",
    "    # Make the final dataframe\n",
    "    tweet_df = pd.concat(tweets_list, sort=False)\n",
    "    \n",
    "    # Print statements for performance\n",
    "    print(\"Number of tweets: %d\" % len(tweet_df.id))\n",
    "    print(\"Number of unique tweets: %d\" % len(tweet_df.id.drop_duplicates()))\n",
    "    print(\"Max number of duplicates: %d\" % tweet_df.id.value_counts().values.max())\n",
    "    \n",
    "    # Return the dataframe\n",
    "    return tweet_df"
   ]
  },
  {
   "cell_type": "code",
   "execution_count": 31,
   "metadata": {
    "scrolled": true
   },
   "outputs": [
    {
     "name": "stdout",
     "output_type": "stream",
     "text": [
      "Number of tweets: 46\n",
      "Number of unique tweets: 46\n",
      "Max number of duplicates: 1\n"
     ]
    }
   ],
   "source": [
    "destiny_2_tweet_df = find_tweets_on_topic(\"destiny 2\", 5, 10)"
   ]
  },
  {
   "cell_type": "code",
   "execution_count": 34,
   "metadata": {},
   "outputs": [
    {
     "data": {
      "text/plain": [
       "<matplotlib.axes._subplots.AxesSubplot at 0xc03bf98>"
      ]
     },
     "execution_count": 34,
     "metadata": {},
     "output_type": "execute_result"
    },
    {
     "data": {
      "image/png": "[encoded data removed]",
      "text/plain": [
       "<matplotlib.figure.Figure at 0xbc22278>"
      ]
     },
     "metadata": {
      "needs_background": "light"
     },
     "output_type": "display_data"
    }
   ],
   "source": [
    "destiny_2_tweet_df.reset_index().plot(y='id')"
   ]
  },
  {
   "cell_type": "markdown",
   "metadata": {},
   "source": [
    "Result using ID as an int"
   ]
  },
  {
   "cell_type": "code",
   "execution_count": 35,
   "metadata": {},
   "outputs": [
    {
     "name": "stdout",
     "output_type": "stream",
     "text": [
      "Number of tweets: 9994\n",
      "Number of unique tweets: 1122\n",
      "Max number of duplicates: 10\n"
     ]
    }
   ],
   "source": [
    "destiny_2_tweet_df = find_tweets_on_topic(\"destiny 2\", 100, 100)"
   ]
  },
  {
   "cell_type": "markdown",
   "metadata": {},
   "source": [
    "Result using ID as a string"
   ]
  },
  {
   "cell_type": "code",
   "execution_count": 40,
   "metadata": {},
   "outputs": [
    {
     "name": "stdout",
     "output_type": "stream",
     "text": [
      "Number of tweets: 9999\n",
      "Number of unique tweets: 1109\n",
      "Max number of duplicates: 11\n"
     ]
    }
   ],
   "source": [
    "destiny_2_tweet_df = find_tweets_on_topic(\"destiny 2\", 100, 100)"
   ]
  },
  {
   "cell_type": "code",
   "execution_count": 41,
   "metadata": {
    "scrolled": true
   },
   "outputs": [
    {
     "data": {
      "text/plain": [
       "<matplotlib.axes._subplots.AxesSubplot at 0x1349e2b0>"
      ]
     },
     "execution_count": 41,
     "metadata": {},
     "output_type": "execute_result"
    },
    {
     "data": {
      "image/png": "[encoded data removed]",
      "text/plain": [
       "<matplotlib.figure.Figure at 0xbfb6f28>"
      ]
     },
     "metadata": {
      "needs_background": "light"
     },
     "output_type": "display_data"
    }
   ],
   "source": [
    "destiny_2_tweet_df.reset_index().plot(y='id')"
   ]
  },
  {
   "cell_type": "markdown",
   "metadata": {},
   "source": [
    "The oldest tweet in this database is from today, a little earlier than 6 pm. I ran the code around 7:30 pm. I should be able to access tweets older than this."
   ]
  },
  {
   "cell_type": "code",
   "execution_count": 44,
   "metadata": {},
   "outputs": [
    {
     "data": {
      "text/html": [
       "<div>\n",
       "<style scoped>\n",
       "    .dataframe tbody tr th:only-of-type {\n",
       "        vertical-align: middle;\n",
       "    }\n",
       "\n",
       "    .dataframe tbody tr th {\n",
       "        vertical-align: top;\n",
       "    }\n",
       "\n",
       "    .dataframe thead th {\n",
       "        text-align: right;\n",
       "    }\n",
       "</style>\n",
       "<table border=\"1\" class=\"dataframe\">\n",
       "  <thead>\n",
       "    <tr style=\"text-align: right;\">\n",
       "      <th></th>\n",
       "      <th>contributors</th>\n",
       "      <th>coordinates</th>\n",
       "      <th>created_at</th>\n",
       "      <th>favorite_count</th>\n",
       "      <th>favorited</th>\n",
       "      <th>geo</th>\n",
       "      <th>id</th>\n",
       "      <th>id_str</th>\n",
       "      <th>in_reply_to_screen_name</th>\n",
       "      <th>in_reply_to_status_id</th>\n",
       "      <th>...</th>\n",
       "      <th>retweeted_status.place.country_code</th>\n",
       "      <th>retweeted_status.place.full_name</th>\n",
       "      <th>retweeted_status.place.id</th>\n",
       "      <th>retweeted_status.place.name</th>\n",
       "      <th>retweeted_status.place.place_type</th>\n",
       "      <th>retweeted_status.place.url</th>\n",
       "      <th>coordinates.coordinates</th>\n",
       "      <th>coordinates.type</th>\n",
       "      <th>geo.coordinates</th>\n",
       "      <th>geo.type</th>\n",
       "    </tr>\n",
       "  </thead>\n",
       "  <tbody>\n",
       "    <tr>\n",
       "      <th>99</th>\n",
       "      <td>None</td>\n",
       "      <td>NaN</td>\n",
       "      <td>Tue Mar 12 17:49:37 +0000 2019</td>\n",
       "      <td>0</td>\n",
       "      <td>False</td>\n",
       "      <td>NaN</td>\n",
       "      <td>1105526272854237190</td>\n",
       "      <td>1105526272854237190</td>\n",
       "      <td>None</td>\n",
       "      <td>NaN</td>\n",
       "      <td>...</td>\n",
       "      <td>NaN</td>\n",
       "      <td>NaN</td>\n",
       "      <td>NaN</td>\n",
       "      <td>NaN</td>\n",
       "      <td>NaN</td>\n",
       "      <td>NaN</td>\n",
       "      <td>NaN</td>\n",
       "      <td>NaN</td>\n",
       "      <td>NaN</td>\n",
       "      <td>NaN</td>\n",
       "    </tr>\n",
       "  </tbody>\n",
       "</table>\n",
       "<p>1 rows × 296 columns</p>\n",
       "</div>"
      ],
      "text/plain": [
       "   contributors coordinates                      created_at  favorite_count  \\\n",
       "99         None         NaN  Tue Mar 12 17:49:37 +0000 2019               0   \n",
       "\n",
       "    favorited  geo                   id               id_str  \\\n",
       "99      False  NaN  1105526272854237190  1105526272854237190   \n",
       "\n",
       "   in_reply_to_screen_name  in_reply_to_status_id   ...     \\\n",
       "99                    None                    NaN   ...      \n",
       "\n",
       "   retweeted_status.place.country_code  retweeted_status.place.full_name  \\\n",
       "99                                 NaN                               NaN   \n",
       "\n",
       "   retweeted_status.place.id  retweeted_status.place.name  \\\n",
       "99                       NaN                          NaN   \n",
       "\n",
       "   retweeted_status.place.place_type retweeted_status.place.url  \\\n",
       "99                               NaN                        NaN   \n",
       "\n",
       "   coordinates.coordinates coordinates.type geo.coordinates geo.type  \n",
       "99                     NaN              NaN             NaN      NaN  \n",
       "\n",
       "[1 rows x 296 columns]"
      ]
     },
     "execution_count": 44,
     "metadata": {},
     "output_type": "execute_result"
    }
   ],
   "source": [
    "destiny_2_tweet_df[destiny_2_tweet_df['id'] == destiny_2_tweet_df.id.min()]"
   ]
  },
  {
   "cell_type": "code",
   "execution_count": 49,
   "metadata": {},
   "outputs": [
    {
     "name": "stdout",
     "output_type": "stream",
     "text": [
      "Number of tweets: 2500\n",
      "Number of unique tweets: 1093\n",
      "Max number of duplicates: 4\n"
     ]
    }
   ],
   "source": [
    "destiny_2_tweet_df = find_tweets_on_topic(\"destiny 2\", 100, 25)"
   ]
  },
  {
   "cell_type": "code",
   "execution_count": 53,
   "metadata": {},
   "outputs": [
    {
     "data": {
      "text/plain": [
       "<matplotlib.axes._subplots.AxesSubplot at 0x1283bef0>"
      ]
     },
     "execution_count": 53,
     "metadata": {},
     "output_type": "execute_result"
    },
    {
     "data": {
      "image/png": "[encoded data removed]",
      "text/plain": [
       "<matplotlib.figure.Figure at 0x129e3748>"
      ]
     },
     "metadata": {
      "needs_background": "light"
     },
     "output_type": "display_data"
    }
   ],
   "source": [
    "destiny_2_tweet_df.plot(y='id')"
   ]
  },
  {
   "cell_type": "markdown",
   "metadata": {},
   "source": [
    "Change function to only change the max id if it is lower than the previous one\n",
    "\n",
    "Since I appear to be gathering repeating tweets"
   ]
  },
  {
   "cell_type": "code",
   "execution_count": 61,
   "metadata": {},
   "outputs": [
    {
     "name": "stdout",
     "output_type": "stream",
     "text": [
      "Number of tweets: 2500\n",
      "Number of unique tweets: 1194\n",
      "Max number of duplicates: 14\n"
     ]
    }
   ],
   "source": [
    "destiny_2_tweet_df = find_tweets_on_topic(\"destiny 2\", 100, 25)"
   ]
  },
  {
   "cell_type": "code",
   "execution_count": 64,
   "metadata": {},
   "outputs": [
    {
     "data": {
      "text/plain": [
       "<matplotlib.axes._subplots.AxesSubplot at 0xca67b38>"
      ]
     },
     "execution_count": 64,
     "metadata": {},
     "output_type": "execute_result"
    },
    {
     "data": {
      "image/png": "[encoded data removed]",
      "text/plain": [
       "<matplotlib.figure.Figure at 0x121920b8>"
      ]
     },
     "metadata": {
      "needs_background": "light"
     },
     "output_type": "display_data"
    }
   ],
   "source": [
    "destiny_2_tweet_df.reset_index().plot(y='id')"
   ]
  },
  {
   "cell_type": "markdown",
   "metadata": {},
   "source": [
    "Changing the max_id parameter to be an integer again."
   ]
  },
  {
   "cell_type": "code",
   "execution_count": 66,
   "metadata": {},
   "outputs": [
    {
     "name": "stdout",
     "output_type": "stream",
     "text": [
      "Number of tweets: 2433\n",
      "Number of unique tweets: 2409\n",
      "Max number of duplicates: 2\n"
     ]
    }
   ],
   "source": [
    "destiny_2_tweet_df = find_tweets_on_topic(\"destiny 2\", 100, 25)"
   ]
  },
  {
   "cell_type": "code",
   "execution_count": 67,
   "metadata": {},
   "outputs": [
    {
     "data": {
      "text/plain": [
       "<matplotlib.axes._subplots.AxesSubplot at 0x121feb38>"
      ]
     },
     "execution_count": 67,
     "metadata": {},
     "output_type": "execute_result"
    },
    {
     "data": {
      "image/png": "[encoded data removed]",
      "text/plain": [
       "<matplotlib.figure.Figure at 0x1ab35b38>"
      ]
     },
     "metadata": {
      "needs_background": "light"
     },
     "output_type": "display_data"
    }
   ],
   "source": [
    "destiny_2_tweet_df.reset_index().plot(y='id')"
   ]
  },
  {
   "cell_type": "markdown",
   "metadata": {},
   "source": [
    "Hoooooly cow this actually worked."
   ]
  },
  {
   "cell_type": "code",
   "execution_count": 68,
   "metadata": {},
   "outputs": [
    {
     "name": "stdout",
     "output_type": "stream",
     "text": [
      "Number of tweets: 9807\n",
      "Number of unique tweets: 9708\n",
      "Max number of duplicates: 2\n"
     ]
    }
   ],
   "source": [
    "destiny_2_tweet_df = find_tweets_on_topic(\"destiny 2\", 100, 100)"
   ]
  },
  {
   "cell_type": "markdown",
   "metadata": {},
   "source": [
    "What happens when I run out of tweets to collect? What do I check?\n",
    "\n",
    "Let's pass a max_id that I know is over a week old."
   ]
  },
  {
   "cell_type": "code",
   "execution_count": 111,
   "metadata": {},
   "outputs": [],
   "source": [
    "params = {\n",
    "    # General search term\n",
    "    'q': 'destiny 2',\n",
    "    \n",
    "    # Others\n",
    "    'lang': 'en',\n",
    "    'result_type': 'recent',\n",
    "    'count': '100',\n",
    "    'include_entities': 'false',\n",
    "    'max_id': 1100761992720134144\n",
    "}"
   ]
  },
  {
   "cell_type": "code",
   "execution_count": 112,
   "metadata": {},
   "outputs": [
    {
     "data": {
      "text/plain": [
       "<Response [200]>"
      ]
     },
     "execution_count": 112,
     "metadata": {},
     "output_type": "execute_result"
    }
   ],
   "source": [
    "tweets = requests.get(twitter_url, params=params, auth=auth)\n",
    "tweets\n",
    "#tweets.json()['statuses']"
   ]
  },
  {
   "cell_type": "code",
   "execution_count": 113,
   "metadata": {},
   "outputs": [
    {
     "data": {
      "text/plain": [
       "{'content-length': '201', 'x-rate-limit-reset': '1552499104', 'x-rate-limit-remaining': '179', 'x-xss-protection': '1; mode=block; report=https://twitter.com/i/xss_report', 'x-content-type-options': 'nosniff', 'x-connection-hash': '0db5c9d9d4ff547d4ce9ae0e057bf6ab', 'x-twitter-response-tags': 'BouncerCompliant', 'cache-control': 'no-cache, no-store, must-revalidate, pre-check=0, post-check=0', 'status': '200 OK', 'content-disposition': 'attachment; filename=json.json', 'set-cookie': 'personalization_id=\"v1_h8549UZMcp7p2hA9yYEnAw==\"; Max-Age=63072000; Expires=Fri, 12 Mar 2021 17:30:04 GMT; Path=/; Domain=.twitter.com, guest_id=v1%3A155249820492196462; Max-Age=63072000; Expires=Fri, 12 Mar 2021 17:30:04 GMT; Path=/; Domain=.twitter.com', 'expires': 'Tue, 31 Mar 1981 05:00:00 GMT', 'x-access-level': 'read-write', 'last-modified': 'Wed, 13 Mar 2019 17:30:04 GMT', 'pragma': 'no-cache', 'date': 'Wed, 13 Mar 2019 17:30:04 GMT', 'x-rate-limit-limit': '180', 'x-response-time': '20', 'x-transaction': '00cc9bea0076d5b6', 'content-encoding': 'gzip', 'strict-transport-security': 'max-age=631138519', 'server': 'tsa_a', 'x-frame-options': 'SAMEORIGIN', 'content-type': 'application/json;charset=utf-8'}"
      ]
     },
     "execution_count": 113,
     "metadata": {},
     "output_type": "execute_result"
    }
   ],
   "source": [
    "tweets.headers"
   ]
  },
  {
   "cell_type": "markdown",
   "metadata": {},
   "source": [
    "Okay. So the top-level keys are still present, but the 'statuses' block where the tweets should be is an empty list. I can check for that."
   ]
  },
  {
   "cell_type": "markdown",
   "metadata": {},
   "source": [
    "#### Collect official data"
   ]
  },
  {
   "cell_type": "code",
   "execution_count": 115,
   "metadata": {},
   "outputs": [
    {
     "name": "stdout",
     "output_type": "stream",
     "text": [
      "Empty Response\n",
      "Number of tweets: 21661\n",
      "Number of unique tweets: 21442\n",
      "Max number of duplicates: 2\n"
     ]
    }
   ],
   "source": [
    "destiny_2_tweet_df = find_tweets_on_topic(\"destiny 2\", 100, 250)"
   ]
  },
  {
   "cell_type": "code",
   "execution_count": 116,
   "metadata": {},
   "outputs": [
    {
     "name": "stdout",
     "output_type": "stream",
     "text": [
      "Number of tweets: 24984\n",
      "Number of unique tweets: 24735\n",
      "Max number of duplicates: 2\n"
     ]
    }
   ],
   "source": [
    "bungie_tweet_df = find_tweets_on_topic(\"bungie\", 100, 250)"
   ]
  },
  {
   "cell_type": "markdown",
   "metadata": {},
   "source": [
    "Cool! I got a lot of tweets. Let's cull the duplicates, reset the index, and make the created_at column a datetime object."
   ]
  },
  {
   "cell_type": "code",
   "execution_count": 126,
   "metadata": {},
   "outputs": [
    {
     "data": {
      "text/plain": [
       "21442"
      ]
     },
     "execution_count": 126,
     "metadata": {},
     "output_type": "execute_result"
    }
   ],
   "source": [
    "destiny_2_tweet_df = destiny_2_tweet_df.reset_index(drop=True).drop_duplicates(subset=['id'])\n",
    "len(destiny_2_tweet_df)"
   ]
  },
  {
   "cell_type": "code",
   "execution_count": 137,
   "metadata": {},
   "outputs": [],
   "source": [
    "destiny_2_tweet_df.loc[:, 'created_at'] = \\\n",
    "  [datetime.strptime(destiny_2_tweet_df.loc[i, 'created_at'][0:-11],\n",
    "                     \"%a %b %d %H:%M:%S\").replace(year=2019) for i in destiny_2_tweet_df.index]"
   ]
  },
  {
   "cell_type": "code",
   "execution_count": 140,
   "metadata": {},
   "outputs": [
    {
     "data": {
      "text/plain": [
       "24735"
      ]
     },
     "execution_count": 140,
     "metadata": {},
     "output_type": "execute_result"
    }
   ],
   "source": [
    "bungie_tweet_df = bungie_tweet_df.reset_index(drop=True).drop_duplicates(subset=['id'])\n",
    "len(bungie_tweet_df)"
   ]
  },
  {
   "cell_type": "code",
   "execution_count": 142,
   "metadata": {},
   "outputs": [],
   "source": [
    "bungie_tweet_df.loc[:, 'created_at'] = \\\n",
    "  [datetime.strptime(bungie_tweet_df.loc[i, 'created_at'][0:-11],\n",
    "                     \"%a %b %d %H:%M:%S\").replace(year=2019) for i in bungie_tweet_df.index]"
   ]
  },
  {
   "cell_type": "markdown",
   "metadata": {},
   "source": [
    "Save this data!"
   ]
  },
  {
   "cell_type": "code",
   "execution_count": 144,
   "metadata": {},
   "outputs": [],
   "source": [
    "destiny_2_tweet_df.to_csv('..\\\\data\\\\destiny_2_tweets.csv', encoding='utf-8')\n",
    "bungie_tweet_df.to_csv('..\\\\data\\\\bungie_tweets.csv', encoding='utf-8')"
   ]
  },
  {
   "cell_type": "markdown",
   "metadata": {},
   "source": [
    "What is the earliest tweet found in these dataframes?"
   ]
  },
  {
   "cell_type": "code",
   "execution_count": 159,
   "metadata": {},
   "outputs": [
    {
     "name": "stdout",
     "output_type": "stream",
     "text": [
      "1102240804469379075\n",
      "1102953113022091264\n"
     ]
    }
   ],
   "source": [
    "print(destiny_2_tweet_df.id.min())\n",
    "print(bungie_tweet_df.id.min())"
   ]
  },
  {
   "cell_type": "markdown",
   "metadata": {},
   "source": [
    "### Timelines\n",
    "\n",
    "I want to get the Twitter timelines for the twitter accounts of Destiny 2 (@DestinyTheGame) and Bungie (@Bungie).\n",
    "\n",
    "Let's modify the function above to use the different request. The response json is also different. I don't need to get the statuses in the json, as this response is effectively a list of statuses."
   ]
  },
  {
   "cell_type": "code",
   "execution_count": 160,
   "metadata": {},
   "outputs": [],
   "source": [
    "def find_timeline_by_user(screen_name, block_size, block_num):\n",
    "    \n",
    "    # This block should search for any recent tweets involving the input topic\n",
    "    params = {\n",
    "        # General search term\n",
    "        'screen_name': screen_name,\n",
    "    \n",
    "        # This request can go further back than a week,\n",
    "        # So I should stop it from doing so\n",
    "        # This is the earliest tweet in my previous 2 dataframes\n",
    "        'since_id': 1102240804469379075,\n",
    "        'count': block_size,\n",
    "        'exclude_replies': 'false'\n",
    "    }\n",
    "    \n",
    "    # Set up variables for input later\n",
    "    twitter_url = 'https://api.twitter.com/1.1/statuses/user_timeline.json'\n",
    "    current_min = float(\"inf\")\n",
    "    tweets_list = []\n",
    "\n",
    "    while (len(tweets_list) < block_num):\n",
    "        # Get the tweets\n",
    "        tweets = requests.get(twitter_url, params=params, auth=auth)\n",
    "        \n",
    "        # If I can't get anymore tweets, be done\n",
    "        if tweets.json() == []:\n",
    "            print(\"Empty Response Found. Exiting Loop.\")\n",
    "            break\n",
    "            \n",
    "        # Add tweets to the list\n",
    "        sub_df = json_normalize(tweets.json())\n",
    "        tweets_list.append(sub_df)\n",
    "        \n",
    "        # Set up max_id on the first time through\n",
    "        if 'max_id' not in params.keys():\n",
    "            current_min = sub_df.id.min()\n",
    "            params['max_id'] = current_min\n",
    "            # The following line was the old way I found current_min, and is wrong\n",
    "            #params['max_id'] = sub_df.sort_values('id', ascending=True).iloc[0, 7]\n",
    "        \n",
    "        # Change max_id if it is lower than what we currently have\n",
    "        else:\n",
    "            new_min = sub_df.id.min()\n",
    "            if new_min < current_min :\n",
    "                current_min = new_min\n",
    "                params['max_id'] = current_min\n",
    "    \n",
    "        # I can do 900 requests per 15 minutes\n",
    "        # This is the same as a request every 1 second\n",
    "        # I will go a little slower than that\n",
    "        time.sleep(1.2)\n",
    "        \n",
    "    # Make the final dataframe\n",
    "    tweet_df = pd.concat(tweets_list, sort=False)\n",
    "    \n",
    "    # Print statements for performance\n",
    "    print(\"Number of tweets: %d\" % len(tweet_df.id))\n",
    "    print(\"Number of unique tweets: %d\" % len(tweet_df.id.drop_duplicates()))\n",
    "    print(\"Max number of duplicates: %d\" % tweet_df.id.value_counts().values.max())\n",
    "    \n",
    "    # Return the dataframe\n",
    "    return tweet_df"
   ]
  },
  {
   "cell_type": "markdown",
   "metadata": {},
   "source": [
    "Get timelines for @Bungie and @DestinyTheGame, reset index, insure tweet uniqueness, and set datetimes."
   ]
  },
  {
   "cell_type": "code",
   "execution_count": 161,
   "metadata": {},
   "outputs": [
    {
     "name": "stdout",
     "output_type": "stream",
     "text": [
      "Number of tweets: 206\n",
      "Number of unique tweets: 107\n",
      "Max number of duplicates: 100\n"
     ]
    }
   ],
   "source": [
    "bungie_timeline_df = find_timeline_by_user('Bungie', 200, 100)"
   ]
  },
  {
   "cell_type": "code",
   "execution_count": 166,
   "metadata": {},
   "outputs": [
    {
     "data": {
      "text/plain": [
       "107"
      ]
     },
     "execution_count": 166,
     "metadata": {},
     "output_type": "execute_result"
    }
   ],
   "source": [
    "bungie_timeline_df = bungie_timeline_df.reset_index(drop=True).drop_duplicates(subset=['id'])\n",
    "len(bungie_timeline_df)"
   ]
  },
  {
   "cell_type": "code",
   "execution_count": 167,
   "metadata": {},
   "outputs": [],
   "source": [
    "bungie_timeline_df.loc[:, 'created_at'] = \\\n",
    "  [datetime.strptime(bungie_timeline_df.loc[i, 'created_at'][0:-11],\n",
    "                     \"%a %b %d %H:%M:%S\").replace(year=2019) for i in bungie_timeline_df.index]"
   ]
  },
  {
   "cell_type": "code",
   "execution_count": 170,
   "metadata": {},
   "outputs": [],
   "source": [
    "bungie_timeline_df.to_csv('..\\\\data\\\\bungie_timeline.csv', encoding='utf-8')"
   ]
  },
  {
   "cell_type": "code",
   "execution_count": 171,
   "metadata": {},
   "outputs": [
    {
     "name": "stdout",
     "output_type": "stream",
     "text": [
      "Number of tweets: 145\n",
      "Number of unique tweets: 46\n",
      "Max number of duplicates: 100\n"
     ]
    }
   ],
   "source": [
    "destiny_2_timeline_df = find_timeline_by_user('DestinyTheGame', 200, 100)"
   ]
  },
  {
   "cell_type": "code",
   "execution_count": 173,
   "metadata": {},
   "outputs": [
    {
     "data": {
      "text/plain": [
       "46"
      ]
     },
     "execution_count": 173,
     "metadata": {},
     "output_type": "execute_result"
    }
   ],
   "source": [
    "destiny_2_timeline_df = destiny_2_timeline_df.reset_index(drop=True).drop_duplicates(subset=['id'])\n",
    "len(destiny_2_timeline_df)"
   ]
  },
  {
   "cell_type": "code",
   "execution_count": 174,
   "metadata": {},
   "outputs": [],
   "source": [
    "destiny_2_timeline_df.loc[:, 'created_at'] = \\\n",
    "  [datetime.strptime(destiny_2_timeline_df.loc[i, 'created_at'][0:-11],\n",
    "                     \"%a %b %d %H:%M:%S\").replace(year=2019) for i in destiny_2_timeline_df.index]"
   ]
  },
  {
   "cell_type": "code",
   "execution_count": 175,
   "metadata": {},
   "outputs": [],
   "source": [
    "destiny_2_timeline_df.to_csv('..\\\\data\\\\destiny_2_timeline.csv', encoding='utf-8')"
   ]
  },
  {
   "cell_type": "markdown",
   "metadata": {},
   "source": [
    "### Import the dataframes back in \n",
    "\n",
    "to do some data cleaning.\n",
    "\n",
    "Get rid of some of the columns so that the data is smaller."
   ]
  },
  {
   "cell_type": "code",
   "execution_count": 2,
   "metadata": {},
   "outputs": [
    {
     "name": "stderr",
     "output_type": "stream",
     "text": [
      "C:\\Users\\sebia\\Miniconda2\\lib\\site-packages\\IPython\\core\\interactiveshell.py:2714: DtypeWarning: Columns (0,1,2,3,4,6,7,8,9,10,12,15,16,17,18,19,20,22,23,24,25,26,27,28,29,30,31,32,33,34,35,36,37,38,40,41,42,43,44,45,46,47,48,49,50,52,54,56,57,60,61,62,64,65,66,67,68,69,70,71,72,73,74,75,76,77,78,79,80,83,84,86,90,93,95,99,104,105,106,107,109,111,112,113,114,115,116,117,118,119,120,121,123,125,127,128,131,132,133,135,136,137,138,139,140,141,142,143,144,145,146,147,148,149,150,151,154,155,157,158,159,160,161,162,163,164,165,166,167,169,171,173,174,177,178,179,181,182,183,184,185,186,187,188,189,190,191,192,193,194,195,196,197,200,201,203,204,205,206,207,208,209,210,211,212,213,214,215,216,217,218,219,220,221,222,223,226,228,232,237,238,239,240,242,244,245,246,247,248,249,250,251,252,253,254,256,258,260,261,264,265,266,268,269,270,271,272,273,274,275,276,277,278,279,280,281,282,283,284,287,288,290,293,294,295,296,297,298,299,300,301,302,307,308,309,310,311,312,313,314,315,316,317,318,319,320,321) have mixed types. Specify dtype option on import or set low_memory=False.\n",
      "  interactivity=interactivity, compiler=compiler, result=result)\n",
      "C:\\Users\\sebia\\Miniconda2\\lib\\site-packages\\IPython\\core\\interactiveshell.py:2714: DtypeWarning: Columns (0,1,2,4,5,6,8,12,13,14,18,20,21,23,25,26,27,28,30,31,32,69,79,92,120,156,159,168,169,219,231,232,234,235,240,242,244,245,248,249,254,258,266,267,274,275,276,277,278,279,280,281,282,283,284,295,296,297,298,299,300,301,302,303,304,305,306,307,308,311,312,313,314,315,316,317,318,319,320) have mixed types. Specify dtype option on import or set low_memory=False.\n",
      "  interactivity=interactivity, compiler=compiler, result=result)\n"
     ]
    }
   ],
   "source": [
    "destiny_2_tweet_df = pd.read_csv('..\\\\data\\\\destiny_2_tweets.csv', encoding='utf-8', index_col=0)\n",
    "bungie_tweet_df = pd.read_csv('..\\\\data\\\\bungie_tweets.csv', encoding='utf-8', index_col=0)\n",
    "bungie_timeline_df = pd.read_csv('..\\\\data\\\\bungie_timeline.csv', encoding='utf-8', index_col=0)\n",
    "destiny_2_timeline_df = pd.read_csv('..\\\\data\\\\destiny_2_timeline.csv', encoding='utf-8', index_col=0)"
   ]
  },
  {
   "cell_type": "markdown",
   "metadata": {},
   "source": [
    "Interesting. The destiny tweet df has one more column than the bungie tweet df.\n",
    "\n",
    "the two timeline dfs have the same number of columns, but with different distributions of dtypes."
   ]
  },
  {
   "cell_type": "code",
   "execution_count": 4,
   "metadata": {
    "scrolled": true
   },
   "outputs": [
    {
     "name": "stdout",
     "output_type": "stream",
     "text": [
      "<class 'pandas.core.frame.DataFrame'>\n",
      "Index: 39294 entries, 0 to 21660\n",
      "Columns: 321 entries, contributors to retweeted_status.quoted_status.place.url\n",
      "dtypes: float64(75), object(246)\n",
      "memory usage: 96.5+ MB\n"
     ]
    }
   ],
   "source": [
    "destiny_2_tweet_df.info()"
   ]
  },
  {
   "cell_type": "code",
   "execution_count": 5,
   "metadata": {},
   "outputs": [
    {
     "name": "stdout",
     "output_type": "stream",
     "text": [
      "<class 'pandas.core.frame.DataFrame'>\n",
      "Index: 28335 entries, 0 to 24983\n",
      "Columns: 320 entries, contributors to retweeted_status.quoted_status.place.url\n",
      "dtypes: float64(74), int64(1), object(245)\n",
      "memory usage: 69.4+ MB\n"
     ]
    }
   ],
   "source": [
    "bungie_tweet_df.info()"
   ]
  },
  {
   "cell_type": "code",
   "execution_count": 6,
   "metadata": {},
   "outputs": [
    {
     "name": "stdout",
     "output_type": "stream",
     "text": [
      "<class 'pandas.core.frame.DataFrame'>\n",
      "Int64Index: 107 entries, 0 to 106\n",
      "Columns: 215 entries, contributors to user.verified\n",
      "dtypes: bool(18), float64(59), int64(13), object(125)\n",
      "memory usage: 167.4+ KB\n"
     ]
    }
   ],
   "source": [
    "bungie_timeline_df.info()"
   ]
  },
  {
   "cell_type": "code",
   "execution_count": 7,
   "metadata": {},
   "outputs": [
    {
     "name": "stdout",
     "output_type": "stream",
     "text": [
      "<class 'pandas.core.frame.DataFrame'>\n",
      "Int64Index: 46 entries, 0 to 45\n",
      "Columns: 215 entries, contributors to user.verified\n",
      "dtypes: bool(18), float64(62), int64(13), object(122)\n",
      "memory usage: 72.0+ KB\n"
     ]
    }
   ],
   "source": [
    "destiny_2_timeline_df.info()"
   ]
  },
  {
   "cell_type": "markdown",
   "metadata": {},
   "source": [
    "Let's check column names"
   ]
  },
  {
   "cell_type": "markdown",
   "metadata": {},
   "source": [
    "This is the column missing from the bungie tweet dataframe. "
   ]
  },
  {
   "cell_type": "code",
   "execution_count": 20,
   "metadata": {},
   "outputs": [
    {
     "data": {
      "text/plain": [
       "{u'retweeted_status.scopes.followers'}"
      ]
     },
     "execution_count": 20,
     "metadata": {},
     "output_type": "execute_result"
    }
   ],
   "source": [
    "set(destiny_2_tweet_df.columns).difference(set(bungie_tweet_df.columns))"
   ]
  },
  {
   "cell_type": "markdown",
   "metadata": {},
   "source": [
    "The timeline dataframe has some columns not included in the normal tweet dataframes.\n",
    "\n",
    "This is because I used a flag in my request parameters to not return entities."
   ]
  },
  {
   "cell_type": "code",
   "execution_count": 22,
   "metadata": {},
   "outputs": [
    {
     "data": {
      "text/plain": [
       "{u'entities.hashtags',\n",
       " u'entities.media',\n",
       " u'entities.symbols',\n",
       " u'entities.urls',\n",
       " u'entities.user_mentions',\n",
       " u'extended_entities.media',\n",
       " u'quoted_status.entities.hashtags',\n",
       " u'quoted_status.entities.media',\n",
       " u'quoted_status.entities.symbols',\n",
       " u'quoted_status.entities.urls',\n",
       " u'quoted_status.entities.user_mentions',\n",
       " u'quoted_status.extended_entities.media',\n",
       " u'retweeted_status.entities.hashtags',\n",
       " u'retweeted_status.entities.media',\n",
       " u'retweeted_status.entities.symbols',\n",
       " u'retweeted_status.entities.urls',\n",
       " u'retweeted_status.entities.user_mentions',\n",
       " u'retweeted_status.extended_entities.media'}"
      ]
     },
     "execution_count": 22,
     "metadata": {},
     "output_type": "execute_result"
    }
   ],
   "source": [
    "set(bungie_timeline_df.columns).difference(set(bungie_tweet_df.columns))"
   ]
  },
  {
   "cell_type": "markdown",
   "metadata": {},
   "source": [
    "The tweet dataframe has a lot of columns not present in the timeline dataframe.\n",
    "\n",
    "Most notable is that none of the timeline tweets appear to be retweets, since a huge chunk of the column names not present in the timeline dataframe start with 'retweeted_status.'"
   ]
  },
  {
   "cell_type": "code",
   "execution_count": 23,
   "metadata": {},
   "outputs": [
    {
     "data": {
      "text/plain": [
       "{u'coordinates.coordinates',\n",
       " u'coordinates.type',\n",
       " u'geo.coordinates',\n",
       " u'geo.type',\n",
       " u'metadata.iso_language_code',\n",
       " u'metadata.result_type',\n",
       " u'place.bounding_box.coordinates',\n",
       " u'place.bounding_box.type',\n",
       " u'place.contained_within',\n",
       " u'place.country',\n",
       " u'place.country_code',\n",
       " u'place.full_name',\n",
       " u'place.id',\n",
       " u'place.name',\n",
       " u'place.place_type',\n",
       " u'place.url',\n",
       " u'quoted_status.metadata.iso_language_code',\n",
       " u'quoted_status.metadata.result_type',\n",
       " u'quoted_status.place.bounding_box.coordinates',\n",
       " u'quoted_status.place.bounding_box.type',\n",
       " u'quoted_status.place.contained_within',\n",
       " u'quoted_status.place.country',\n",
       " u'quoted_status.place.country_code',\n",
       " u'quoted_status.place.full_name',\n",
       " u'quoted_status.place.id',\n",
       " u'quoted_status.place.name',\n",
       " u'quoted_status.place.place_type',\n",
       " u'quoted_status.place.url',\n",
       " u'quoted_status.quoted_status_id',\n",
       " u'quoted_status.quoted_status_id_str',\n",
       " u'retweeted_status.metadata.iso_language_code',\n",
       " u'retweeted_status.metadata.result_type',\n",
       " u'retweeted_status.place.bounding_box.coordinates',\n",
       " u'retweeted_status.place.bounding_box.type',\n",
       " u'retweeted_status.place.contained_within',\n",
       " u'retweeted_status.place.country',\n",
       " u'retweeted_status.place.country_code',\n",
       " u'retweeted_status.place.full_name',\n",
       " u'retweeted_status.place.id',\n",
       " u'retweeted_status.place.name',\n",
       " u'retweeted_status.place.place_type',\n",
       " u'retweeted_status.place.url',\n",
       " u'retweeted_status.quoted_status.contributors',\n",
       " u'retweeted_status.quoted_status.coordinates',\n",
       " u'retweeted_status.quoted_status.created_at',\n",
       " u'retweeted_status.quoted_status.favorite_count',\n",
       " u'retweeted_status.quoted_status.favorited',\n",
       " u'retweeted_status.quoted_status.geo',\n",
       " u'retweeted_status.quoted_status.id',\n",
       " u'retweeted_status.quoted_status.id_str',\n",
       " u'retweeted_status.quoted_status.in_reply_to_screen_name',\n",
       " u'retweeted_status.quoted_status.in_reply_to_status_id',\n",
       " u'retweeted_status.quoted_status.in_reply_to_status_id_str',\n",
       " u'retweeted_status.quoted_status.in_reply_to_user_id',\n",
       " u'retweeted_status.quoted_status.in_reply_to_user_id_str',\n",
       " u'retweeted_status.quoted_status.is_quote_status',\n",
       " u'retweeted_status.quoted_status.lang',\n",
       " u'retweeted_status.quoted_status.metadata.iso_language_code',\n",
       " u'retweeted_status.quoted_status.metadata.result_type',\n",
       " u'retweeted_status.quoted_status.place',\n",
       " u'retweeted_status.quoted_status.place.bounding_box.coordinates',\n",
       " u'retweeted_status.quoted_status.place.bounding_box.type',\n",
       " u'retweeted_status.quoted_status.place.contained_within',\n",
       " u'retweeted_status.quoted_status.place.country',\n",
       " u'retweeted_status.quoted_status.place.country_code',\n",
       " u'retweeted_status.quoted_status.place.full_name',\n",
       " u'retweeted_status.quoted_status.place.id',\n",
       " u'retweeted_status.quoted_status.place.name',\n",
       " u'retweeted_status.quoted_status.place.place_type',\n",
       " u'retweeted_status.quoted_status.place.url',\n",
       " u'retweeted_status.quoted_status.possibly_sensitive',\n",
       " u'retweeted_status.quoted_status.quoted_status_id',\n",
       " u'retweeted_status.quoted_status.quoted_status_id_str',\n",
       " u'retweeted_status.quoted_status.retweet_count',\n",
       " u'retweeted_status.quoted_status.retweeted',\n",
       " u'retweeted_status.quoted_status.source',\n",
       " u'retweeted_status.quoted_status.text',\n",
       " u'retweeted_status.quoted_status.truncated',\n",
       " u'retweeted_status.quoted_status.user.contributors_enabled',\n",
       " u'retweeted_status.quoted_status.user.created_at',\n",
       " u'retweeted_status.quoted_status.user.default_profile',\n",
       " u'retweeted_status.quoted_status.user.default_profile_image',\n",
       " u'retweeted_status.quoted_status.user.description',\n",
       " u'retweeted_status.quoted_status.user.entities.description.urls',\n",
       " u'retweeted_status.quoted_status.user.entities.url.urls',\n",
       " u'retweeted_status.quoted_status.user.favourites_count',\n",
       " u'retweeted_status.quoted_status.user.follow_request_sent',\n",
       " u'retweeted_status.quoted_status.user.followers_count',\n",
       " u'retweeted_status.quoted_status.user.following',\n",
       " u'retweeted_status.quoted_status.user.friends_count',\n",
       " u'retweeted_status.quoted_status.user.geo_enabled',\n",
       " u'retweeted_status.quoted_status.user.has_extended_profile',\n",
       " u'retweeted_status.quoted_status.user.id',\n",
       " u'retweeted_status.quoted_status.user.id_str',\n",
       " u'retweeted_status.quoted_status.user.is_translation_enabled',\n",
       " u'retweeted_status.quoted_status.user.is_translator',\n",
       " u'retweeted_status.quoted_status.user.lang',\n",
       " u'retweeted_status.quoted_status.user.listed_count',\n",
       " u'retweeted_status.quoted_status.user.location',\n",
       " u'retweeted_status.quoted_status.user.name',\n",
       " u'retweeted_status.quoted_status.user.notifications',\n",
       " u'retweeted_status.quoted_status.user.profile_background_color',\n",
       " u'retweeted_status.quoted_status.user.profile_background_image_url',\n",
       " u'retweeted_status.quoted_status.user.profile_background_image_url_https',\n",
       " u'retweeted_status.quoted_status.user.profile_background_tile',\n",
       " u'retweeted_status.quoted_status.user.profile_banner_url',\n",
       " u'retweeted_status.quoted_status.user.profile_image_url',\n",
       " u'retweeted_status.quoted_status.user.profile_image_url_https',\n",
       " u'retweeted_status.quoted_status.user.profile_link_color',\n",
       " u'retweeted_status.quoted_status.user.profile_sidebar_border_color',\n",
       " u'retweeted_status.quoted_status.user.profile_sidebar_fill_color',\n",
       " u'retweeted_status.quoted_status.user.profile_text_color',\n",
       " u'retweeted_status.quoted_status.user.profile_use_background_image',\n",
       " u'retweeted_status.quoted_status.user.protected',\n",
       " u'retweeted_status.quoted_status.user.screen_name',\n",
       " u'retweeted_status.quoted_status.user.statuses_count',\n",
       " u'retweeted_status.quoted_status.user.time_zone',\n",
       " u'retweeted_status.quoted_status.user.translator_type',\n",
       " u'retweeted_status.quoted_status.user.url',\n",
       " u'retweeted_status.quoted_status.user.utc_offset',\n",
       " u'retweeted_status.quoted_status.user.verified',\n",
       " u'retweeted_status.quoted_status_id',\n",
       " u'retweeted_status.quoted_status_id_str'}"
      ]
     },
     "execution_count": 23,
     "metadata": {},
     "output_type": "execute_result"
    }
   ],
   "source": [
    "set(bungie_tweet_df.columns).difference(set(bungie_timeline_df.columns))"
   ]
  },
  {
   "cell_type": "markdown",
   "metadata": {},
   "source": [
    "Look at all of the column names"
   ]
  },
  {
   "cell_type": "code",
   "execution_count": 25,
   "metadata": {},
   "outputs": [
    {
     "name": "stdout",
     "output_type": "stream",
     "text": [
      "[u'contributors' u'coordinates' u'created_at' u'favorite_count'\n",
      " u'favorited' u'geo' u'id' u'id_str' u'in_reply_to_screen_name'\n",
      " u'in_reply_to_status_id' u'in_reply_to_status_id_str'\n",
      " u'in_reply_to_user_id' u'in_reply_to_user_id_str' u'is_quote_status'\n",
      " u'lang' u'metadata.iso_language_code' u'metadata.result_type' u'place'\n",
      " u'possibly_sensitive' u'quoted_status.contributors'\n",
      " u'quoted_status.coordinates' u'quoted_status.created_at'\n",
      " u'quoted_status.favorite_count' u'quoted_status.favorited'\n",
      " u'quoted_status.geo' u'quoted_status.id' u'quoted_status.id_str'\n",
      " u'quoted_status.in_reply_to_screen_name'\n",
      " u'quoted_status.in_reply_to_status_id'\n",
      " u'quoted_status.in_reply_to_status_id_str'\n",
      " u'quoted_status.in_reply_to_user_id'\n",
      " u'quoted_status.in_reply_to_user_id_str' u'quoted_status.is_quote_status'\n",
      " u'quoted_status.lang' u'quoted_status.metadata.iso_language_code'\n",
      " u'quoted_status.metadata.result_type' u'quoted_status.place'\n",
      " u'quoted_status.possibly_sensitive' u'quoted_status.retweet_count'\n",
      " u'quoted_status.retweeted' u'quoted_status.source' u'quoted_status.text'\n",
      " u'quoted_status.truncated' u'quoted_status.user.contributors_enabled'\n",
      " u'quoted_status.user.created_at' u'quoted_status.user.default_profile'\n",
      " u'quoted_status.user.default_profile_image'\n",
      " u'quoted_status.user.description'\n",
      " u'quoted_status.user.entities.description.urls'\n",
      " u'quoted_status.user.entities.url.urls'\n",
      " u'quoted_status.user.favourites_count'\n",
      " u'quoted_status.user.follow_request_sent'\n",
      " u'quoted_status.user.followers_count' u'quoted_status.user.following'\n",
      " u'quoted_status.user.friends_count' u'quoted_status.user.geo_enabled'\n",
      " u'quoted_status.user.has_extended_profile' u'quoted_status.user.id'\n",
      " u'quoted_status.user.id_str' u'quoted_status.user.is_translation_enabled'\n",
      " u'quoted_status.user.is_translator' u'quoted_status.user.lang'\n",
      " u'quoted_status.user.listed_count' u'quoted_status.user.location'\n",
      " u'quoted_status.user.name' u'quoted_status.user.notifications'\n",
      " u'quoted_status.user.profile_background_color'\n",
      " u'quoted_status.user.profile_background_image_url'\n",
      " u'quoted_status.user.profile_background_image_url_https'\n",
      " u'quoted_status.user.profile_background_tile'\n",
      " u'quoted_status.user.profile_banner_url'\n",
      " u'quoted_status.user.profile_image_url'\n",
      " u'quoted_status.user.profile_image_url_https'\n",
      " u'quoted_status.user.profile_link_color'\n",
      " u'quoted_status.user.profile_sidebar_border_color'\n",
      " u'quoted_status.user.profile_sidebar_fill_color'\n",
      " u'quoted_status.user.profile_text_color'\n",
      " u'quoted_status.user.profile_use_background_image'\n",
      " u'quoted_status.user.protected' u'quoted_status.user.screen_name'\n",
      " u'quoted_status.user.statuses_count' u'quoted_status.user.time_zone'\n",
      " u'quoted_status.user.translator_type' u'quoted_status.user.url'\n",
      " u'quoted_status.user.utc_offset' u'quoted_status.user.verified'\n",
      " u'quoted_status_id' u'quoted_status_id_str' u'retweet_count' u'retweeted'\n",
      " u'retweeted_status.contributors' u'retweeted_status.coordinates'\n",
      " u'retweeted_status.created_at' u'retweeted_status.favorite_count'\n",
      " u'retweeted_status.favorited' u'retweeted_status.geo'\n",
      " u'retweeted_status.id' u'retweeted_status.id_str'\n",
      " u'retweeted_status.in_reply_to_screen_name'\n",
      " u'retweeted_status.in_reply_to_status_id'\n",
      " u'retweeted_status.in_reply_to_status_id_str'\n",
      " u'retweeted_status.in_reply_to_user_id'\n",
      " u'retweeted_status.in_reply_to_user_id_str'\n",
      " u'retweeted_status.is_quote_status' u'retweeted_status.lang'\n",
      " u'retweeted_status.metadata.iso_language_code'\n",
      " u'retweeted_status.metadata.result_type' u'retweeted_status.place'\n",
      " u'retweeted_status.possibly_sensitive' u'retweeted_status.retweet_count'\n",
      " u'retweeted_status.retweeted' u'retweeted_status.source'\n",
      " u'retweeted_status.text' u'retweeted_status.truncated'\n",
      " u'retweeted_status.user.contributors_enabled'\n",
      " u'retweeted_status.user.created_at'\n",
      " u'retweeted_status.user.default_profile'\n",
      " u'retweeted_status.user.default_profile_image'\n",
      " u'retweeted_status.user.description'\n",
      " u'retweeted_status.user.entities.description.urls'\n",
      " u'retweeted_status.user.entities.url.urls'\n",
      " u'retweeted_status.user.favourites_count'\n",
      " u'retweeted_status.user.follow_request_sent'\n",
      " u'retweeted_status.user.followers_count'\n",
      " u'retweeted_status.user.following' u'retweeted_status.user.friends_count'\n",
      " u'retweeted_status.user.geo_enabled'\n",
      " u'retweeted_status.user.has_extended_profile' u'retweeted_status.user.id'\n",
      " u'retweeted_status.user.id_str'\n",
      " u'retweeted_status.user.is_translation_enabled'\n",
      " u'retweeted_status.user.is_translator' u'retweeted_status.user.lang'\n",
      " u'retweeted_status.user.listed_count' u'retweeted_status.user.location'\n",
      " u'retweeted_status.user.name' u'retweeted_status.user.notifications'\n",
      " u'retweeted_status.user.profile_background_color'\n",
      " u'retweeted_status.user.profile_background_image_url'\n",
      " u'retweeted_status.user.profile_background_image_url_https'\n",
      " u'retweeted_status.user.profile_background_tile'\n",
      " u'retweeted_status.user.profile_banner_url'\n",
      " u'retweeted_status.user.profile_image_url'\n",
      " u'retweeted_status.user.profile_image_url_https'\n",
      " u'retweeted_status.user.profile_link_color'\n",
      " u'retweeted_status.user.profile_sidebar_border_color'\n",
      " u'retweeted_status.user.profile_sidebar_fill_color'\n",
      " u'retweeted_status.user.profile_text_color'\n",
      " u'retweeted_status.user.profile_use_background_image'\n",
      " u'retweeted_status.user.protected' u'retweeted_status.user.screen_name'\n",
      " u'retweeted_status.user.statuses_count' u'retweeted_status.user.time_zone'\n",
      " u'retweeted_status.user.translator_type' u'retweeted_status.user.url'\n",
      " u'retweeted_status.user.utc_offset' u'retweeted_status.user.verified'\n",
      " u'source' u'text' u'truncated' u'user.contributors_enabled'\n",
      " u'user.created_at' u'user.default_profile' u'user.default_profile_image'\n",
      " u'user.description' u'user.entities.description.urls'\n",
      " u'user.entities.url.urls' u'user.favourites_count'\n",
      " u'user.follow_request_sent' u'user.followers_count' u'user.following'\n",
      " u'user.friends_count' u'user.geo_enabled' u'user.has_extended_profile'\n",
      " u'user.id' u'user.id_str' u'user.is_translation_enabled'\n",
      " u'user.is_translator' u'user.lang' u'user.listed_count' u'user.location'\n",
      " u'user.name' u'user.notifications' u'user.profile_background_color'\n",
      " u'user.profile_background_image_url'\n",
      " u'user.profile_background_image_url_https' u'user.profile_background_tile'\n",
      " u'user.profile_banner_url' u'user.profile_image_url'\n",
      " u'user.profile_image_url_https' u'user.profile_link_color'\n",
      " u'user.profile_sidebar_border_color' u'user.profile_sidebar_fill_color'\n",
      " u'user.profile_text_color' u'user.profile_use_background_image'\n",
      " u'user.protected' u'user.screen_name' u'user.statuses_count'\n",
      " u'user.time_zone' u'user.translator_type' u'user.url' u'user.utc_offset'\n",
      " u'user.verified' u'place.bounding_box.coordinates'\n",
      " u'place.bounding_box.type' u'place.contained_within' u'place.country'\n",
      " u'place.country_code' u'place.full_name' u'place.id' u'place.name'\n",
      " u'place.place_type' u'place.url'\n",
      " u'quoted_status.place.bounding_box.coordinates'\n",
      " u'quoted_status.place.bounding_box.type'\n",
      " u'quoted_status.place.contained_within' u'quoted_status.place.country'\n",
      " u'quoted_status.place.country_code' u'quoted_status.place.full_name'\n",
      " u'quoted_status.place.id' u'quoted_status.place.name'\n",
      " u'quoted_status.place.place_type' u'quoted_status.place.url'\n",
      " u'retweeted_status.quoted_status.contributors'\n",
      " u'retweeted_status.quoted_status.coordinates'\n",
      " u'retweeted_status.quoted_status.created_at'\n",
      " u'retweeted_status.quoted_status.favorite_count'\n",
      " u'retweeted_status.quoted_status.favorited'\n",
      " u'retweeted_status.quoted_status.geo' u'retweeted_status.quoted_status.id'\n",
      " u'retweeted_status.quoted_status.id_str'\n",
      " u'retweeted_status.quoted_status.in_reply_to_screen_name'\n",
      " u'retweeted_status.quoted_status.in_reply_to_status_id'\n",
      " u'retweeted_status.quoted_status.in_reply_to_status_id_str'\n",
      " u'retweeted_status.quoted_status.in_reply_to_user_id'\n",
      " u'retweeted_status.quoted_status.in_reply_to_user_id_str'\n",
      " u'retweeted_status.quoted_status.is_quote_status'\n",
      " u'retweeted_status.quoted_status.lang'\n",
      " u'retweeted_status.quoted_status.metadata.iso_language_code'\n",
      " u'retweeted_status.quoted_status.metadata.result_type'\n",
      " u'retweeted_status.quoted_status.place'\n",
      " u'retweeted_status.quoted_status.possibly_sensitive'\n",
      " u'retweeted_status.quoted_status.retweet_count'\n",
      " u'retweeted_status.quoted_status.retweeted'\n",
      " u'retweeted_status.quoted_status.source'\n",
      " u'retweeted_status.quoted_status.text'\n",
      " u'retweeted_status.quoted_status.truncated'\n",
      " u'retweeted_status.quoted_status.user.contributors_enabled'\n",
      " u'retweeted_status.quoted_status.user.created_at'\n",
      " u'retweeted_status.quoted_status.user.default_profile'\n",
      " u'retweeted_status.quoted_status.user.default_profile_image'\n",
      " u'retweeted_status.quoted_status.user.description'\n",
      " u'retweeted_status.quoted_status.user.entities.description.urls'\n",
      " u'retweeted_status.quoted_status.user.entities.url.urls'\n",
      " u'retweeted_status.quoted_status.user.favourites_count'\n",
      " u'retweeted_status.quoted_status.user.follow_request_sent'\n",
      " u'retweeted_status.quoted_status.user.followers_count'\n",
      " u'retweeted_status.quoted_status.user.following'\n",
      " u'retweeted_status.quoted_status.user.friends_count'\n",
      " u'retweeted_status.quoted_status.user.geo_enabled'\n",
      " u'retweeted_status.quoted_status.user.has_extended_profile'\n",
      " u'retweeted_status.quoted_status.user.id'\n",
      " u'retweeted_status.quoted_status.user.id_str'\n",
      " u'retweeted_status.quoted_status.user.is_translation_enabled'\n",
      " u'retweeted_status.quoted_status.user.is_translator'\n",
      " u'retweeted_status.quoted_status.user.lang'\n",
      " u'retweeted_status.quoted_status.user.listed_count'\n",
      " u'retweeted_status.quoted_status.user.location'\n",
      " u'retweeted_status.quoted_status.user.name'\n",
      " u'retweeted_status.quoted_status.user.notifications'\n",
      " u'retweeted_status.quoted_status.user.profile_background_color'\n",
      " u'retweeted_status.quoted_status.user.profile_background_image_url'\n",
      " u'retweeted_status.quoted_status.user.profile_background_image_url_https'\n",
      " u'retweeted_status.quoted_status.user.profile_background_tile'\n",
      " u'retweeted_status.quoted_status.user.profile_banner_url'\n",
      " u'retweeted_status.quoted_status.user.profile_image_url'\n",
      " u'retweeted_status.quoted_status.user.profile_image_url_https'\n",
      " u'retweeted_status.quoted_status.user.profile_link_color'\n",
      " u'retweeted_status.quoted_status.user.profile_sidebar_border_color'\n",
      " u'retweeted_status.quoted_status.user.profile_sidebar_fill_color'\n",
      " u'retweeted_status.quoted_status.user.profile_text_color'\n",
      " u'retweeted_status.quoted_status.user.profile_use_background_image'\n",
      " u'retweeted_status.quoted_status.user.protected'\n",
      " u'retweeted_status.quoted_status.user.screen_name'\n",
      " u'retweeted_status.quoted_status.user.statuses_count'\n",
      " u'retweeted_status.quoted_status.user.time_zone'\n",
      " u'retweeted_status.quoted_status.user.translator_type'\n",
      " u'retweeted_status.quoted_status.user.url'\n",
      " u'retweeted_status.quoted_status.user.utc_offset'\n",
      " u'retweeted_status.quoted_status.user.verified'\n",
      " u'retweeted_status.quoted_status_id'\n",
      " u'retweeted_status.quoted_status_id_str'\n",
      " u'retweeted_status.place.bounding_box.coordinates'\n",
      " u'retweeted_status.place.bounding_box.type'\n",
      " u'retweeted_status.place.contained_within'\n",
      " u'retweeted_status.place.country' u'retweeted_status.place.country_code'\n",
      " u'retweeted_status.place.full_name' u'retweeted_status.place.id'\n",
      " u'retweeted_status.place.name' u'retweeted_status.place.place_type'\n",
      " u'retweeted_status.place.url' u'quoted_status.quoted_status_id'\n",
      " u'quoted_status.quoted_status_id_str'\n",
      " u'retweeted_status.quoted_status.quoted_status_id'\n",
      " u'retweeted_status.quoted_status.quoted_status_id_str'\n",
      " u'coordinates.coordinates' u'coordinates.type' u'geo.coordinates'\n",
      " u'geo.type' u'retweeted_status.scopes.followers'\n",
      " u'retweeted_status.quoted_status.place.bounding_box.coordinates'\n",
      " u'retweeted_status.quoted_status.place.bounding_box.type'\n",
      " u'retweeted_status.quoted_status.place.contained_within'\n",
      " u'retweeted_status.quoted_status.place.country'\n",
      " u'retweeted_status.quoted_status.place.country_code'\n",
      " u'retweeted_status.quoted_status.place.full_name'\n",
      " u'retweeted_status.quoted_status.place.id'\n",
      " u'retweeted_status.quoted_status.place.name'\n",
      " u'retweeted_status.quoted_status.place.place_type'\n",
      " u'retweeted_status.quoted_status.place.url']\n"
     ]
    }
   ],
   "source": [
    "print(destiny_2_tweet_df.columns.values)"
   ]
  },
  {
   "cell_type": "code",
   "execution_count": 111,
   "metadata": {},
   "outputs": [
    {
     "name": "stdout",
     "output_type": "stream",
     "text": [
      "[u'contributors' u'coordinates' u'created_at' u'entities.hashtags'\n",
      " u'entities.media' u'entities.symbols' u'entities.urls'\n",
      " u'entities.user_mentions' u'extended_entities.media' u'favorite_count'\n",
      " u'favorited' u'geo' u'id' u'id_str' u'in_reply_to_screen_name'\n",
      " u'in_reply_to_status_id' u'in_reply_to_status_id_str'\n",
      " u'in_reply_to_user_id' u'in_reply_to_user_id_str' u'is_quote_status'\n",
      " u'lang' u'place' u'possibly_sensitive' u'quoted_status.contributors'\n",
      " u'quoted_status.coordinates' u'quoted_status.created_at'\n",
      " u'quoted_status.entities.hashtags' u'quoted_status.entities.media'\n",
      " u'quoted_status.entities.symbols' u'quoted_status.entities.urls'\n",
      " u'quoted_status.entities.user_mentions'\n",
      " u'quoted_status.extended_entities.media' u'quoted_status.favorite_count'\n",
      " u'quoted_status.favorited' u'quoted_status.geo' u'quoted_status.id'\n",
      " u'quoted_status.id_str' u'quoted_status.in_reply_to_screen_name'\n",
      " u'quoted_status.in_reply_to_status_id'\n",
      " u'quoted_status.in_reply_to_status_id_str'\n",
      " u'quoted_status.in_reply_to_user_id'\n",
      " u'quoted_status.in_reply_to_user_id_str' u'quoted_status.is_quote_status'\n",
      " u'quoted_status.lang' u'quoted_status.place'\n",
      " u'quoted_status.possibly_sensitive' u'quoted_status.retweet_count'\n",
      " u'quoted_status.retweeted' u'quoted_status.source' u'quoted_status.text'\n",
      " u'quoted_status.truncated' u'quoted_status.user.contributors_enabled'\n",
      " u'quoted_status.user.created_at' u'quoted_status.user.default_profile'\n",
      " u'quoted_status.user.default_profile_image'\n",
      " u'quoted_status.user.description'\n",
      " u'quoted_status.user.entities.description.urls'\n",
      " u'quoted_status.user.entities.url.urls'\n",
      " u'quoted_status.user.favourites_count'\n",
      " u'quoted_status.user.follow_request_sent'\n",
      " u'quoted_status.user.followers_count' u'quoted_status.user.following'\n",
      " u'quoted_status.user.friends_count' u'quoted_status.user.geo_enabled'\n",
      " u'quoted_status.user.has_extended_profile' u'quoted_status.user.id'\n",
      " u'quoted_status.user.id_str' u'quoted_status.user.is_translation_enabled'\n",
      " u'quoted_status.user.is_translator' u'quoted_status.user.lang'\n",
      " u'quoted_status.user.listed_count' u'quoted_status.user.location'\n",
      " u'quoted_status.user.name' u'quoted_status.user.notifications'\n",
      " u'quoted_status.user.profile_background_color'\n",
      " u'quoted_status.user.profile_background_image_url'\n",
      " u'quoted_status.user.profile_background_image_url_https'\n",
      " u'quoted_status.user.profile_background_tile'\n",
      " u'quoted_status.user.profile_banner_url'\n",
      " u'quoted_status.user.profile_image_url'\n",
      " u'quoted_status.user.profile_image_url_https'\n",
      " u'quoted_status.user.profile_link_color'\n",
      " u'quoted_status.user.profile_sidebar_border_color'\n",
      " u'quoted_status.user.profile_sidebar_fill_color'\n",
      " u'quoted_status.user.profile_text_color'\n",
      " u'quoted_status.user.profile_use_background_image'\n",
      " u'quoted_status.user.protected' u'quoted_status.user.screen_name'\n",
      " u'quoted_status.user.statuses_count' u'quoted_status.user.time_zone'\n",
      " u'quoted_status.user.translator_type' u'quoted_status.user.url'\n",
      " u'quoted_status.user.utc_offset' u'quoted_status.user.verified'\n",
      " u'quoted_status_id' u'quoted_status_id_str' u'retweet_count' u'retweeted'\n",
      " u'retweeted_status.contributors' u'retweeted_status.coordinates'\n",
      " u'retweeted_status.created_at' u'retweeted_status.entities.hashtags'\n",
      " u'retweeted_status.entities.media' u'retweeted_status.entities.symbols'\n",
      " u'retweeted_status.entities.urls'\n",
      " u'retweeted_status.entities.user_mentions'\n",
      " u'retweeted_status.extended_entities.media'\n",
      " u'retweeted_status.favorite_count' u'retweeted_status.favorited'\n",
      " u'retweeted_status.geo' u'retweeted_status.id' u'retweeted_status.id_str'\n",
      " u'retweeted_status.in_reply_to_screen_name'\n",
      " u'retweeted_status.in_reply_to_status_id'\n",
      " u'retweeted_status.in_reply_to_status_id_str'\n",
      " u'retweeted_status.in_reply_to_user_id'\n",
      " u'retweeted_status.in_reply_to_user_id_str'\n",
      " u'retweeted_status.is_quote_status' u'retweeted_status.lang'\n",
      " u'retweeted_status.place' u'retweeted_status.possibly_sensitive'\n",
      " u'retweeted_status.retweet_count' u'retweeted_status.retweeted'\n",
      " u'retweeted_status.source' u'retweeted_status.text'\n",
      " u'retweeted_status.truncated'\n",
      " u'retweeted_status.user.contributors_enabled'\n",
      " u'retweeted_status.user.created_at'\n",
      " u'retweeted_status.user.default_profile'\n",
      " u'retweeted_status.user.default_profile_image'\n",
      " u'retweeted_status.user.description'\n",
      " u'retweeted_status.user.entities.description.urls'\n",
      " u'retweeted_status.user.entities.url.urls'\n",
      " u'retweeted_status.user.favourites_count'\n",
      " u'retweeted_status.user.follow_request_sent'\n",
      " u'retweeted_status.user.followers_count'\n",
      " u'retweeted_status.user.following' u'retweeted_status.user.friends_count'\n",
      " u'retweeted_status.user.geo_enabled'\n",
      " u'retweeted_status.user.has_extended_profile' u'retweeted_status.user.id'\n",
      " u'retweeted_status.user.id_str'\n",
      " u'retweeted_status.user.is_translation_enabled'\n",
      " u'retweeted_status.user.is_translator' u'retweeted_status.user.lang'\n",
      " u'retweeted_status.user.listed_count' u'retweeted_status.user.location'\n",
      " u'retweeted_status.user.name' u'retweeted_status.user.notifications'\n",
      " u'retweeted_status.user.profile_background_color'\n",
      " u'retweeted_status.user.profile_background_image_url'\n",
      " u'retweeted_status.user.profile_background_image_url_https'\n",
      " u'retweeted_status.user.profile_background_tile'\n",
      " u'retweeted_status.user.profile_banner_url'\n",
      " u'retweeted_status.user.profile_image_url'\n",
      " u'retweeted_status.user.profile_image_url_https'\n",
      " u'retweeted_status.user.profile_link_color'\n",
      " u'retweeted_status.user.profile_sidebar_border_color'\n",
      " u'retweeted_status.user.profile_sidebar_fill_color'\n",
      " u'retweeted_status.user.profile_text_color'\n",
      " u'retweeted_status.user.profile_use_background_image'\n",
      " u'retweeted_status.user.protected' u'retweeted_status.user.screen_name'\n",
      " u'retweeted_status.user.statuses_count' u'retweeted_status.user.time_zone'\n",
      " u'retweeted_status.user.translator_type' u'retweeted_status.user.url'\n",
      " u'retweeted_status.user.utc_offset' u'retweeted_status.user.verified'\n",
      " u'source' u'text' u'truncated' u'user.contributors_enabled'\n",
      " u'user.created_at' u'user.default_profile' u'user.default_profile_image'\n",
      " u'user.description' u'user.entities.description.urls'\n",
      " u'user.entities.url.urls' u'user.favourites_count'\n",
      " u'user.follow_request_sent' u'user.followers_count' u'user.following'\n",
      " u'user.friends_count' u'user.geo_enabled' u'user.has_extended_profile'\n",
      " u'user.id' u'user.id_str' u'user.is_translation_enabled'\n",
      " u'user.is_translator' u'user.lang' u'user.listed_count' u'user.location'\n",
      " u'user.name' u'user.notifications' u'user.profile_background_color'\n",
      " u'user.profile_background_image_url'\n",
      " u'user.profile_background_image_url_https' u'user.profile_background_tile'\n",
      " u'user.profile_banner_url' u'user.profile_image_url'\n",
      " u'user.profile_image_url_https' u'user.profile_link_color'\n",
      " u'user.profile_sidebar_border_color' u'user.profile_sidebar_fill_color'\n",
      " u'user.profile_text_color' u'user.profile_use_background_image'\n",
      " u'user.protected' u'user.screen_name' u'user.statuses_count'\n",
      " u'user.time_zone' u'user.translator_type' u'user.url' u'user.utc_offset'\n",
      " u'user.verified']\n"
     ]
    }
   ],
   "source": [
    "print(destiny_2_timeline_df.columns.values)"
   ]
  },
  {
   "cell_type": "markdown",
   "metadata": {},
   "source": [
    "Let's see if there are NaN values anywhere.\n",
    "\n",
    "So apparently there are a lot more tweets than I thought there would be. The data collection function said I had 21661 tweets in the destiny_2_tweet_df, and 21444 were unique. I saved the dataframe after I called drop_duplicates on the id column, so I don't know why I have more tweets now.\n",
    "\n",
    "This is also true of bungie_tweet_df, but at a smaller scale.\n",
    "\n",
    "The timeline dataframes have as many tweets as I expect.\n",
    "\n",
    "There are also NaN values in every row. "
   ]
  },
  {
   "cell_type": "code",
   "execution_count": 32,
   "metadata": {},
   "outputs": [
    {
     "name": "stdout",
     "output_type": "stream",
     "text": [
      "There are 39294 entries in the dataframe, 0 of which do not have any NaN values, and 21444 of which are unique.\n"
     ]
    }
   ],
   "source": [
    "print(\"There are %d entries in the dataframe, %d of which do not have any NaN values, and %d of which are unique.\" %\n",
    "    (len(destiny_2_tweet_df), len(destiny_2_tweet_df.dropna()), len(destiny_2_tweet_df.drop_duplicates(subset=['id']))))"
   ]
  },
  {
   "cell_type": "code",
   "execution_count": 33,
   "metadata": {},
   "outputs": [
    {
     "name": "stdout",
     "output_type": "stream",
     "text": [
      "There are 28335 entries in the dataframe, 0 of which do not have any NaN values, and 24738 of which are unique.\n"
     ]
    }
   ],
   "source": [
    "print(\"There are %d entries in the dataframe, %d of which do not have any NaN values, and %d of which are unique.\" %\n",
    "    (len(bungie_tweet_df), len(bungie_tweet_df.dropna()), len(bungie_tweet_df.drop_duplicates(subset=['id']))))"
   ]
  },
  {
   "cell_type": "code",
   "execution_count": 34,
   "metadata": {},
   "outputs": [
    {
     "name": "stdout",
     "output_type": "stream",
     "text": [
      "There are 107 entries in the dataframe, 0 of which do not have any NaN values, and 107 of which are unique.\n"
     ]
    }
   ],
   "source": [
    "print(\"There are %d entries in the dataframe, %d of which do not have any NaN values, and %d of which are unique.\" %\n",
    "    (len(bungie_timeline_df), len(bungie_timeline_df.dropna()), len(bungie_timeline_df.drop_duplicates(subset=['id']))))"
   ]
  },
  {
   "cell_type": "code",
   "execution_count": 35,
   "metadata": {},
   "outputs": [
    {
     "name": "stdout",
     "output_type": "stream",
     "text": [
      "There are 46 entries in the dataframe, 0 of which do not have any NaN values, and 46 of which are unique.\n"
     ]
    }
   ],
   "source": [
    "print(\"There are %d entries in the dataframe, %d of which do not have any NaN values, and %d of which are unique.\" %\n",
    "    (len(destiny_2_timeline_df), len(destiny_2_timeline_df.dropna()), len(destiny_2_timeline_df.drop_duplicates(subset=['id']))))"
   ]
  },
  {
   "cell_type": "markdown",
   "metadata": {},
   "source": [
    "Drop duplicates seems to fix the problem"
   ]
  },
  {
   "cell_type": "code",
   "execution_count": 38,
   "metadata": {},
   "outputs": [
    {
     "data": {
      "text/plain": [
       "21444"
      ]
     },
     "execution_count": 38,
     "metadata": {},
     "output_type": "execute_result"
    }
   ],
   "source": [
    "destiny_2_tweet_df = destiny_2_tweet_df.drop_duplicates(subset=['id'])\n",
    "len(destiny_2_tweet_df)"
   ]
  },
  {
   "cell_type": "code",
   "execution_count": 39,
   "metadata": {},
   "outputs": [
    {
     "data": {
      "text/plain": [
       "24738"
      ]
     },
     "execution_count": 39,
     "metadata": {},
     "output_type": "execute_result"
    }
   ],
   "source": [
    "bungie_tweet_df = bungie_tweet_df.drop_duplicates(subset=['id'])\n",
    "len(bungie_tweet_df)"
   ]
  },
  {
   "cell_type": "markdown",
   "metadata": {},
   "source": [
    "### Trim Down the Dataframes\n",
    "\n",
    "I should make only the dataframes involve a smaller number of columns.\n",
    "\n",
    "I ran through the columns 20 at a time to see what seemed relevant. If I needed clarification on the data in that column, I would look at it in the cell below my list of columns_desired.\n",
    "\n",
    "Most of the columns are objects like users and tweet parameters (text, retweet count, favorite count, etc) repeated for tweets that are retweets, quotes, and combinations of the two."
   ]
  },
  {
   "cell_type": "code",
   "execution_count": 108,
   "metadata": {},
   "outputs": [
    {
     "data": {
      "text/plain": [
       "Index([u'retweeted_status.place.place_type', u'retweeted_status.place.url',\n",
       "       u'quoted_status.quoted_status_id',\n",
       "       u'quoted_status.quoted_status_id_str',\n",
       "       u'retweeted_status.quoted_status.quoted_status_id',\n",
       "       u'retweeted_status.quoted_status.quoted_status_id_str',\n",
       "       u'coordinates.coordinates', u'coordinates.type', u'geo.coordinates',\n",
       "       u'geo.type', u'retweeted_status.scopes.followers',\n",
       "       u'retweeted_status.quoted_status.place.bounding_box.coordinates',\n",
       "       u'retweeted_status.quoted_status.place.bounding_box.type',\n",
       "       u'retweeted_status.quoted_status.place.contained_within',\n",
       "       u'retweeted_status.quoted_status.place.country',\n",
       "       u'retweeted_status.quoted_status.place.country_code',\n",
       "       u'retweeted_status.quoted_status.place.full_name',\n",
       "       u'retweeted_status.quoted_status.place.id',\n",
       "       u'retweeted_status.quoted_status.place.name',\n",
       "       u'retweeted_status.quoted_status.place.place_type',\n",
       "       u'retweeted_status.quoted_status.place.url'],\n",
       "      dtype='object')"
      ]
     },
     "execution_count": 108,
     "metadata": {},
     "output_type": "execute_result"
    }
   ],
   "source": [
    "destiny_2_tweet_df.columns[300:]"
   ]
  },
  {
   "cell_type": "markdown",
   "metadata": {},
   "source": [
    "These columns are for retweets of quotes, in case I really want them."
   ]
  },
  {
   "cell_type": "code",
   "execution_count": 107,
   "metadata": {},
   "outputs": [],
   "source": [
    "columns_desired = ['retweeted_status.quoted_status.created_at',\n",
    "                   'retweeted_status.quoted_status.favorite_count', 'retweeted_status.quoted_status.id',\n",
    "                   'retweeted_status.quoted_status.in_reply_to_screen_name', 'retweeted_status.quoted_status.in_reply_to_status_id',\n",
    "                   'retweeted_status.quoted_status.retweet_count', 'retweeted_status.quoted_status.text', \n",
    "                   'retweeted_status.quoted_status.user.followers_count', 'retweeted_status.quoted_status.user.friends_count',\n",
    "                   'retweeted_status.quoted_status.user.following', 'retweeted_status.quoted_status.user.id', \n",
    "                   'retweeted_status.quoted_status.user.name', 'retweeted_status.quoted_status.user.verified',\n",
    "                   'retweeted_status.quoted_status_id']"
   ]
  },
  {
   "cell_type": "markdown",
   "metadata": {},
   "source": [
    "These columns are the ones I want."
   ]
  },
  {
   "cell_type": "code",
   "execution_count": 122,
   "metadata": {},
   "outputs": [],
   "source": [
    "# Start with columns for basic tweets\n",
    "columns_desired = ['id', 'created_at', 'text', 'user.id', 'user.name', 'user.screen_name',\n",
    "                   'user.followers_count', 'user.friends_count', 'user.statuses_count', 'user.verified', 'favorite_count',\n",
    "                   'retweet_count', 'retweeted', 'in_reply_to_screen_name', 'in_reply_to_status_id', 'in_reply_to_user_id',\n",
    "                   # Columns for quoted tweets\n",
    "                   'is_quote_status', 'quoted_status.id', 'quoted_status.created_at',\n",
    "                   'quoted_status.text', 'quoted_status.user.id', 'quoted_status.user.followers_count', \n",
    "                   'quoted_status.user.friends_count', 'quoted_status.user.statuses_count', 'quoted_status.user.verified',\n",
    "                   'quoted_status.favorite_count', 'quoted_status.retweet_count', 'quoted_status.retweeted',\n",
    "                   'quoted_status.in_reply_to_screen_name', 'quoted_status.in_reply_to_status_id',\n",
    "                   'quoted_status.in_reply_to_user_id', 'quoted_status_id',\n",
    "                   'quoted_status.user.following', 'quoted_status.is_quote_status', \n",
    "                   # Columns for retweets\n",
    "                   'retweeted_status.id', 'retweeted_status.created_at', \n",
    "                   'retweeted_status.user.id', 'retweeted_status.user.followers_count', \n",
    "                   'retweeted_status.user.friends_count', 'retweeted_status.user.statuses_count', \n",
    "                   'retweeted_status.user.verified', 'retweeted_status.favorite_count', 'retweeted_status.retweet_count',\n",
    "                   'retweeted_status.retweeted', 'retweeted_status.in_reply_to_screen_name',\n",
    "                   'retweeted_status.in_reply_to_status_id', 'retweeted_status.in_reply_to_user_id', \n",
    "                   'retweeted_status.user.following', 'retweeted_status.is_quote_status', 'retweeted_status.favorited'\n",
    "                   # Columns for retweets of quotes\n",
    "                   # Do I really need these?\n",
    "                   # There are only 400 ish\n",
    "                   # NVM, I've decided this isn't worth it.\n",
    "                  ]"
   ]
  },
  {
   "cell_type": "markdown",
   "metadata": {},
   "source": [
    "This cell is where I check the details of certain columns, if it isn't clear to me what the column is."
   ]
  },
  {
   "cell_type": "code",
   "execution_count": 116,
   "metadata": {
    "scrolled": true
   },
   "outputs": [
    {
     "data": {
      "text/plain": [
       "127      Wed Mar 13 13:54:18 +0000 2019\n",
       "180      Tue Mar 12 14:07:49 +0000 2019\n",
       "185      Wed Mar 13 13:54:18 +0000 2019\n",
       "227      Wed Mar 13 13:54:18 +0000 2019\n",
       "299      Tue Mar 12 16:18:08 +0000 2019\n",
       "342      Tue Mar 12 14:07:49 +0000 2019\n",
       "369      Wed Mar 13 03:34:49 +0000 2019\n",
       "455      Wed Mar 13 11:17:33 +0000 2019\n",
       "624      Wed Mar 13 07:55:59 +0000 2019\n",
       "626      Wed Mar 13 07:55:59 +0000 2019\n",
       "653      Tue Mar 12 22:28:54 +0000 2019\n",
       "673      Mon Feb 18 16:01:40 +0000 2019\n",
       "812      Mon Feb 18 16:01:40 +0000 2019\n",
       "828      Mon Feb 18 16:01:40 +0000 2019\n",
       "874      Tue Mar 12 23:28:47 +0000 2019\n",
       "990      Mon Feb 18 16:01:40 +0000 2019\n",
       "1026     Mon Feb 18 16:01:40 +0000 2019\n",
       "1081     Wed Mar 13 01:06:59 +0000 2019\n",
       "1101     Mon Feb 18 16:01:40 +0000 2019\n",
       "1191     Mon Feb 18 16:01:40 +0000 2019\n",
       "1230     Mon Feb 18 16:01:40 +0000 2019\n",
       "1317     Mon Feb 18 16:01:40 +0000 2019\n",
       "1369     Tue Mar 12 14:07:49 +0000 2019\n",
       "1409     Sat Oct 13 10:34:12 +0000 2018\n",
       "1417     Sat Oct 13 10:34:12 +0000 2018\n",
       "1422     Mon Feb 18 16:01:40 +0000 2019\n",
       "1510     Mon Feb 18 16:01:40 +0000 2019\n",
       "1631     Tue Mar 12 14:07:49 +0000 2019\n",
       "1680     Mon Feb 18 16:01:40 +0000 2019\n",
       "1688     Mon Feb 18 16:01:40 +0000 2019\n",
       "                      ...              \n",
       "15271    Wed Mar 06 01:49:20 +0000 2019\n",
       "15364    Wed Mar 06 01:49:20 +0000 2019\n",
       "15880    Mon Mar 04 21:41:13 +0000 2019\n",
       "15916    Tue Mar 05 22:16:01 +0000 2019\n",
       "15924    Tue Mar 05 17:33:02 +0000 2019\n",
       "15965    Tue Mar 05 17:33:02 +0000 2019\n",
       "15969    Tue Mar 05 17:33:02 +0000 2019\n",
       "15980    Tue Mar 05 22:16:01 +0000 2019\n",
       "16229    Tue Mar 05 09:43:34 +0000 2019\n",
       "16505    Tue Mar 05 18:13:41 +0000 2019\n",
       "16532    Tue Mar 05 18:13:41 +0000 2019\n",
       "17380    Tue Mar 05 16:29:01 +0000 2019\n",
       "17940    Mon Mar 04 16:42:15 +0000 2019\n",
       "18338    Tue Mar 05 06:03:51 +0000 2019\n",
       "19815    Sat Oct 13 10:34:12 +0000 2018\n",
       "19829    Fri Mar 01 00:29:34 +0000 2019\n",
       "20046    Mon Mar 04 13:38:22 +0000 2019\n",
       "20151    Mon Mar 04 18:05:24 +0000 2019\n",
       "20424    Mon Mar 04 14:07:31 +0000 2019\n",
       "20850    Sun Mar 03 19:42:46 +0000 2019\n",
       "21110    Sat Oct 13 10:34:12 +0000 2018\n",
       "21259    Fri Mar 01 15:13:24 +0000 2019\n",
       "21286    Sat Mar 02 09:52:00 +0000 2019\n",
       "21354    Mon Feb 04 19:44:06 +0000 2019\n",
       "21451    Sun Mar 03 19:11:05 +0000 2019\n",
       "21452    Sun Mar 03 19:11:05 +0000 2019\n",
       "21484    Sat Oct 13 10:34:12 +0000 2018\n",
       "21494    Sat Oct 13 10:34:12 +0000 2018\n",
       "21506    Sat Oct 13 10:34:12 +0000 2018\n",
       "21585    Fri Mar 01 15:13:24 +0000 2019\n",
       "Name: retweeted_status.quoted_status.created_at, Length: 397, dtype: object"
      ]
     },
     "execution_count": 116,
     "metadata": {},
     "output_type": "execute_result"
    }
   ],
   "source": [
    "destiny_2_tweet_df['retweeted_status.quoted_status.created_at'].dropna()"
   ]
  },
  {
   "cell_type": "markdown",
   "metadata": {},
   "source": [
    "What on Earth is this?? I think the data got misaligned or something, so I need to throw this piece of data out."
   ]
  },
  {
   "cell_type": "code",
   "execution_count": 57,
   "metadata": {
    "scrolled": true
   },
   "outputs": [
    {
     "data": {
      "text/html": [
       "<div>\n",
       "<style scoped>\n",
       "    .dataframe tbody tr th:only-of-type {\n",
       "        vertical-align: middle;\n",
       "    }\n",
       "\n",
       "    .dataframe tbody tr th {\n",
       "        vertical-align: top;\n",
       "    }\n",
       "\n",
       "    .dataframe thead th {\n",
       "        text-align: right;\n",
       "    }\n",
       "</style>\n",
       "<table border=\"1\" class=\"dataframe\">\n",
       "  <thead>\n",
       "    <tr style=\"text-align: right;\">\n",
       "      <th></th>\n",
       "      <th>contributors</th>\n",
       "      <th>coordinates</th>\n",
       "      <th>created_at</th>\n",
       "      <th>favorite_count</th>\n",
       "      <th>favorited</th>\n",
       "      <th>geo</th>\n",
       "      <th>id</th>\n",
       "      <th>id_str</th>\n",
       "      <th>in_reply_to_screen_name</th>\n",
       "      <th>in_reply_to_status_id</th>\n",
       "      <th>...</th>\n",
       "      <th>retweeted_status.quoted_status.place.bounding_box.coordinates</th>\n",
       "      <th>retweeted_status.quoted_status.place.bounding_box.type</th>\n",
       "      <th>retweeted_status.quoted_status.place.contained_within</th>\n",
       "      <th>retweeted_status.quoted_status.place.country</th>\n",
       "      <th>retweeted_status.quoted_status.place.country_code</th>\n",
       "      <th>retweeted_status.quoted_status.place.full_name</th>\n",
       "      <th>retweeted_status.quoted_status.place.id</th>\n",
       "      <th>retweeted_status.quoted_status.place.name</th>\n",
       "      <th>retweeted_status.quoted_status.place.place_type</th>\n",
       "      <th>retweeted_status.quoted_status.place.url</th>\n",
       "    </tr>\n",
       "  </thead>\n",
       "  <tbody>\n",
       "    <tr>\n",
       "      <th>@ShoutGamers @ShoutRTs @FameRTR @DNRCREWx… https://t.co/X5Hd2Hf7ZG</th>\n",
       "      <td>True</td>\n",
       "      <td>False</td>\n",
       "      <td>Mon Jan 11 00:19:53 +0000 2016</td>\n",
       "      <td>True</td>\n",
       "      <td>0.0</td>\n",
       "      <td>The cheapest games on the internet! (UP TO 90%...</td>\n",
       "      <td>[]</td>\n",
       "      <td>[{u'url': u'https://t.co/CRHriqCRjB', u'indice...</td>\n",
       "      <td>245</td>\n",
       "      <td>False</td>\n",
       "      <td>...</td>\n",
       "      <td>NaN</td>\n",
       "      <td>NaN</td>\n",
       "      <td>NaN</td>\n",
       "      <td>NaN</td>\n",
       "      <td>NaN</td>\n",
       "      <td>NaN</td>\n",
       "      <td>NaN</td>\n",
       "      <td>NaN</td>\n",
       "      <td>NaN</td>\n",
       "      <td>NaN</td>\n",
       "    </tr>\n",
       "  </tbody>\n",
       "</table>\n",
       "<p>1 rows × 321 columns</p>\n",
       "</div>"
      ],
      "text/plain": [
       "                                                   contributors coordinates  \\\n",
       " @ShoutGamers @ShoutRTs @FameRTR @DNRCREWx… htt...         True       False   \n",
       "\n",
       "                                                                        created_at  \\\n",
       " @ShoutGamers @ShoutRTs @FameRTR @DNRCREWx… htt...  Mon Jan 11 00:19:53 +0000 2016   \n",
       "\n",
       "                                                   favorite_count  favorited  \\\n",
       " @ShoutGamers @ShoutRTs @FameRTR @DNRCREWx… htt...           True        0.0   \n",
       "\n",
       "                                                                                                  geo  \\\n",
       " @ShoutGamers @ShoutRTs @FameRTR @DNRCREWx… htt...  The cheapest games on the internet! (UP TO 90%...   \n",
       "\n",
       "                                                    id  \\\n",
       " @ShoutGamers @ShoutRTs @FameRTR @DNRCREWx… htt...  []   \n",
       "\n",
       "                                                                                               id_str  \\\n",
       " @ShoutGamers @ShoutRTs @FameRTR @DNRCREWx… htt...  [{u'url': u'https://t.co/CRHriqCRjB', u'indice...   \n",
       "\n",
       "                                                   in_reply_to_screen_name  \\\n",
       " @ShoutGamers @ShoutRTs @FameRTR @DNRCREWx… htt...                     245   \n",
       "\n",
       "                                                   in_reply_to_status_id  \\\n",
       " @ShoutGamers @ShoutRTs @FameRTR @DNRCREWx… htt...                 False   \n",
       "\n",
       "                                                                     ...                     \\\n",
       " @ShoutGamers @ShoutRTs @FameRTR @DNRCREWx… htt...                   ...                      \n",
       "\n",
       "                                                    retweeted_status.quoted_status.place.bounding_box.coordinates  \\\n",
       " @ShoutGamers @ShoutRTs @FameRTR @DNRCREWx… htt...                                                NaN               \n",
       "\n",
       "                                                   retweeted_status.quoted_status.place.bounding_box.type  \\\n",
       " @ShoutGamers @ShoutRTs @FameRTR @DNRCREWx… htt...                                                NaN       \n",
       "\n",
       "                                                    retweeted_status.quoted_status.place.contained_within  \\\n",
       " @ShoutGamers @ShoutRTs @FameRTR @DNRCREWx… htt...                                                NaN       \n",
       "\n",
       "                                                    retweeted_status.quoted_status.place.country  \\\n",
       " @ShoutGamers @ShoutRTs @FameRTR @DNRCREWx… htt...                                           NaN   \n",
       "\n",
       "                                                   retweeted_status.quoted_status.place.country_code  \\\n",
       " @ShoutGamers @ShoutRTs @FameRTR @DNRCREWx… htt...                                               NaN   \n",
       "\n",
       "                                                   retweeted_status.quoted_status.place.full_name  \\\n",
       " @ShoutGamers @ShoutRTs @FameRTR @DNRCREWx… htt...                                            NaN   \n",
       "\n",
       "                                                   retweeted_status.quoted_status.place.id  \\\n",
       " @ShoutGamers @ShoutRTs @FameRTR @DNRCREWx… htt...                                     NaN   \n",
       "\n",
       "                                                   retweeted_status.quoted_status.place.name  \\\n",
       " @ShoutGamers @ShoutRTs @FameRTR @DNRCREWx… htt...                                       NaN   \n",
       "\n",
       "                                                   retweeted_status.quoted_status.place.place_type  \\\n",
       " @ShoutGamers @ShoutRTs @FameRTR @DNRCREWx… htt...                                             NaN   \n",
       "\n",
       "                                                   retweeted_status.quoted_status.place.url  \n",
       " @ShoutGamers @ShoutRTs @FameRTR @DNRCREWx… htt...                                      NaN  \n",
       "\n",
       "[1 rows x 321 columns]"
      ]
     },
     "execution_count": 57,
     "metadata": {},
     "output_type": "execute_result"
    }
   ],
   "source": [
    "destiny_2_tweet_df[destiny_2_tweet_df['metadata.result_type'] == 4740701623]"
   ]
  },
  {
   "cell_type": "code",
   "execution_count": 59,
   "metadata": {},
   "outputs": [],
   "source": [
    "destiny_2_tweet_df = destiny_2_tweet_df.drop(destiny_2_tweet_df[destiny_2_tweet_df['metadata.result_type'] == 4740701623].index\n",
    "                                             , axis=0)"
   ]
  },
  {
   "cell_type": "markdown",
   "metadata": {},
   "source": [
    "#### Time to get the column subset\n",
    "\n",
    "Useful, I have found out that all the coordinates and contributor columns are entirely null, so I can take them out."
   ]
  },
  {
   "cell_type": "code",
   "execution_count": 121,
   "metadata": {},
   "outputs": [
    {
     "name": "stdout",
     "output_type": "stream",
     "text": [
      "<class 'pandas.core.frame.DataFrame'>\n",
      "Index: 21443 entries, 0 to 21660\n",
      "Data columns (total 54 columns):\n",
      "id                                          21442 non-null object\n",
      "created_at                                  21442 non-null object\n",
      "contributors                                0 non-null object\n",
      "coordinates                                 0 non-null object\n",
      "text                                        21440 non-null object\n",
      "user.id                                     21439 non-null float64\n",
      "user.name                                   21439 non-null object\n",
      "user.screen_name                            21439 non-null object\n",
      "user.followers_count                        21439 non-null float64\n",
      "user.friends_count                          21439 non-null float64\n",
      "user.statuses_count                         21439 non-null float64\n",
      "user.verified                               21439 non-null object\n",
      "favorite_count                              21442 non-null object\n",
      "retweet_count                               21442 non-null float64\n",
      "retweeted                                   21442 non-null object\n",
      "in_reply_to_screen_name                     3374 non-null object\n",
      "in_reply_to_status_id                       3026 non-null object\n",
      "in_reply_to_user_id                         3374 non-null object\n",
      "is_quote_status                             21442 non-null float64\n",
      "quoted_status.id                            209 non-null object\n",
      "quoted_status.created_at                    209 non-null object\n",
      "quoted_status.contributors                  0 non-null object\n",
      "quoted_status.text                          209 non-null object\n",
      "quoted_status.user.id                       209 non-null float64\n",
      "quoted_status.user.followers_count          209 non-null float64\n",
      "quoted_status.user.friends_count            209 non-null float64\n",
      "quoted_status.user.statuses_count           209 non-null float64\n",
      "quoted_status.user.verified                 209 non-null object\n",
      "quoted_status.favorite_count                209 non-null object\n",
      "quoted_status.retweet_count                 209 non-null float64\n",
      "quoted_status.retweeted                     209 non-null object\n",
      "quoted_status.in_reply_to_screen_name       16 non-null object\n",
      "quoted_status.in_reply_to_status_id         14 non-null object\n",
      "quoted_status.in_reply_to_user_id           16 non-null object\n",
      "quoted_status_id                            606 non-null float64\n",
      "quoted_status.user.following                209 non-null object\n",
      "quoted_status.is_quote_status               209 non-null object\n",
      "retweeted_status.id                         8765 non-null float64\n",
      "retweeted_status.created_at                 8765 non-null object\n",
      "retweeted_status.contributors               0 non-null float64\n",
      "retweeted_status.user.id                    8763 non-null float64\n",
      "retweeted_status.user.followers_count       8763 non-null float64\n",
      "retweeted_status.user.friends_count         8763 non-null float64\n",
      "retweeted_status.user.statuses_count        8763 non-null float64\n",
      "retweeted_status.user.verified              8763 non-null object\n",
      "retweeted_status.favorite_count             8765 non-null float64\n",
      "retweeted_status.retweet_count              8765 non-null float64\n",
      "retweeted_status.retweeted                  8765 non-null object\n",
      "retweeted_status.in_reply_to_screen_name    535 non-null object\n",
      "retweeted_status.in_reply_to_status_id      505 non-null float64\n",
      "retweeted_status.in_reply_to_user_id        535 non-null float64\n",
      "retweeted_status.user.following             8763 non-null object\n",
      "retweeted_status.is_quote_status            8765 non-null object\n",
      "retweeted_status.favorited                  8765 non-null object\n",
      "dtypes: float64(22), object(32)\n",
      "memory usage: 9.6+ MB\n"
     ]
    }
   ],
   "source": [
    "destiny_2_tweet_min_df = destiny_2_tweet_df[columns_desired]\n",
    "destiny_2_tweet_min_df.info()"
   ]
  },
  {
   "cell_type": "markdown",
   "metadata": {},
   "source": [
    "Take 2"
   ]
  },
  {
   "cell_type": "code",
   "execution_count": 125,
   "metadata": {},
   "outputs": [
    {
     "name": "stdout",
     "output_type": "stream",
     "text": [
      "<class 'pandas.core.frame.DataFrame'>\n",
      "Index: 21443 entries, 0 to 21660\n",
      "Data columns (total 50 columns):\n",
      "id                                          21442 non-null object\n",
      "created_at                                  21442 non-null object\n",
      "text                                        21440 non-null object\n",
      "user.id                                     21439 non-null float64\n",
      "user.name                                   21439 non-null object\n",
      "user.screen_name                            21439 non-null object\n",
      "user.followers_count                        21439 non-null float64\n",
      "user.friends_count                          21439 non-null float64\n",
      "user.statuses_count                         21439 non-null float64\n",
      "user.verified                               21439 non-null object\n",
      "favorite_count                              21442 non-null object\n",
      "retweet_count                               21442 non-null float64\n",
      "retweeted                                   21442 non-null object\n",
      "in_reply_to_screen_name                     3374 non-null object\n",
      "in_reply_to_status_id                       3026 non-null object\n",
      "in_reply_to_user_id                         3374 non-null object\n",
      "is_quote_status                             21442 non-null float64\n",
      "quoted_status.id                            209 non-null object\n",
      "quoted_status.created_at                    209 non-null object\n",
      "quoted_status.text                          209 non-null object\n",
      "quoted_status.user.id                       209 non-null float64\n",
      "quoted_status.user.followers_count          209 non-null float64\n",
      "quoted_status.user.friends_count            209 non-null float64\n",
      "quoted_status.user.statuses_count           209 non-null float64\n",
      "quoted_status.user.verified                 209 non-null object\n",
      "quoted_status.favorite_count                209 non-null object\n",
      "quoted_status.retweet_count                 209 non-null float64\n",
      "quoted_status.retweeted                     209 non-null object\n",
      "quoted_status.in_reply_to_screen_name       16 non-null object\n",
      "quoted_status.in_reply_to_status_id         14 non-null object\n",
      "quoted_status.in_reply_to_user_id           16 non-null object\n",
      "quoted_status_id                            606 non-null float64\n",
      "quoted_status.user.following                209 non-null object\n",
      "quoted_status.is_quote_status               209 non-null object\n",
      "retweeted_status.id                         8765 non-null float64\n",
      "retweeted_status.created_at                 8765 non-null object\n",
      "retweeted_status.user.id                    8763 non-null float64\n",
      "retweeted_status.user.followers_count       8763 non-null float64\n",
      "retweeted_status.user.friends_count         8763 non-null float64\n",
      "retweeted_status.user.statuses_count        8763 non-null float64\n",
      "retweeted_status.user.verified              8763 non-null object\n",
      "retweeted_status.favorite_count             8765 non-null float64\n",
      "retweeted_status.retweet_count              8765 non-null float64\n",
      "retweeted_status.retweeted                  8765 non-null object\n",
      "retweeted_status.in_reply_to_screen_name    535 non-null object\n",
      "retweeted_status.in_reply_to_status_id      505 non-null float64\n",
      "retweeted_status.in_reply_to_user_id        535 non-null float64\n",
      "retweeted_status.user.following             8763 non-null object\n",
      "retweeted_status.is_quote_status            8765 non-null object\n",
      "retweeted_status.favorited                  8765 non-null object\n",
      "dtypes: float64(21), object(29)\n",
      "memory usage: 9.0+ MB\n"
     ]
    }
   ],
   "source": [
    "destiny_2_tweet_min_df = destiny_2_tweet_df[columns_desired]\n",
    "destiny_2_tweet_min_df.info()"
   ]
  },
  {
   "cell_type": "code",
   "execution_count": 126,
   "metadata": {},
   "outputs": [
    {
     "name": "stdout",
     "output_type": "stream",
     "text": [
      "<class 'pandas.core.frame.DataFrame'>\n",
      "Index: 24738 entries, 0 to 24983\n",
      "Data columns (total 50 columns):\n",
      "id                                          24738 non-null int64\n",
      "created_at                                  24738 non-null object\n",
      "text                                        24735 non-null object\n",
      "user.id                                     24730 non-null float64\n",
      "user.name                                   24729 non-null object\n",
      "user.screen_name                            24730 non-null object\n",
      "user.followers_count                        24730 non-null float64\n",
      "user.friends_count                          24730 non-null float64\n",
      "user.statuses_count                         24730 non-null float64\n",
      "user.verified                               24730 non-null object\n",
      "favorite_count                              24738 non-null object\n",
      "retweet_count                               24735 non-null float64\n",
      "retweeted                                   24735 non-null object\n",
      "in_reply_to_screen_name                     13124 non-null object\n",
      "in_reply_to_status_id                       10846 non-null float64\n",
      "in_reply_to_user_id                         13124 non-null object\n",
      "is_quote_status                             24738 non-null object\n",
      "quoted_status.id                            401 non-null object\n",
      "quoted_status.created_at                    401 non-null object\n",
      "quoted_status.text                          398 non-null object\n",
      "quoted_status.user.id                       398 non-null float64\n",
      "quoted_status.user.followers_count          398 non-null float64\n",
      "quoted_status.user.friends_count            398 non-null float64\n",
      "quoted_status.user.statuses_count           398 non-null float64\n",
      "quoted_status.user.verified                 398 non-null object\n",
      "quoted_status.favorite_count                401 non-null object\n",
      "quoted_status.retweet_count                 398 non-null float64\n",
      "quoted_status.retweeted                     398 non-null object\n",
      "quoted_status.in_reply_to_screen_name       36 non-null object\n",
      "quoted_status.in_reply_to_status_id         32 non-null float64\n",
      "quoted_status.in_reply_to_user_id           36 non-null object\n",
      "quoted_status_id                            556 non-null float64\n",
      "quoted_status.user.following                398 non-null object\n",
      "quoted_status.is_quote_status               401 non-null object\n",
      "retweeted_status.id                         8135 non-null float64\n",
      "retweeted_status.created_at                 8135 non-null object\n",
      "retweeted_status.user.id                    8135 non-null float64\n",
      "retweeted_status.user.followers_count       8135 non-null float64\n",
      "retweeted_status.user.friends_count         8135 non-null float64\n",
      "retweeted_status.user.statuses_count        8135 non-null float64\n",
      "retweeted_status.user.verified              8135 non-null object\n",
      "retweeted_status.favorite_count             8135 non-null float64\n",
      "retweeted_status.retweet_count              8135 non-null float64\n",
      "retweeted_status.retweeted                  8135 non-null object\n",
      "retweeted_status.in_reply_to_screen_name    586 non-null object\n",
      "retweeted_status.in_reply_to_status_id      480 non-null float64\n",
      "retweeted_status.in_reply_to_user_id        586 non-null float64\n",
      "retweeted_status.user.following             8135 non-null object\n",
      "retweeted_status.is_quote_status            8135 non-null object\n",
      "retweeted_status.favorited                  8135 non-null object\n",
      "dtypes: float64(22), int64(1), object(27)\n",
      "memory usage: 9.6+ MB\n"
     ]
    }
   ],
   "source": [
    "bungie_tweet_min_df = bungie_tweet_df[columns_desired]\n",
    "bungie_tweet_min_df.info()"
   ]
  },
  {
   "cell_type": "code",
   "execution_count": 128,
   "metadata": {},
   "outputs": [
    {
     "name": "stdout",
     "output_type": "stream",
     "text": [
      "<class 'pandas.core.frame.DataFrame'>\n",
      "Int64Index: 107 entries, 0 to 106\n",
      "Data columns (total 50 columns):\n",
      "id                                          107 non-null int64\n",
      "created_at                                  107 non-null object\n",
      "text                                        107 non-null object\n",
      "user.id                                     107 non-null int64\n",
      "user.name                                   107 non-null object\n",
      "user.screen_name                            107 non-null object\n",
      "user.followers_count                        107 non-null int64\n",
      "user.friends_count                          107 non-null int64\n",
      "user.statuses_count                         107 non-null int64\n",
      "user.verified                               107 non-null bool\n",
      "favorite_count                              107 non-null int64\n",
      "retweet_count                               107 non-null int64\n",
      "retweeted                                   107 non-null bool\n",
      "in_reply_to_screen_name                     79 non-null object\n",
      "in_reply_to_status_id                       79 non-null float64\n",
      "in_reply_to_user_id                         79 non-null float64\n",
      "is_quote_status                             107 non-null bool\n",
      "quoted_status.id                            12 non-null float64\n",
      "quoted_status.created_at                    12 non-null object\n",
      "quoted_status.text                          12 non-null object\n",
      "quoted_status.user.id                       12 non-null float64\n",
      "quoted_status.user.followers_count          12 non-null float64\n",
      "quoted_status.user.friends_count            12 non-null float64\n",
      "quoted_status.user.statuses_count           12 non-null float64\n",
      "quoted_status.user.verified                 12 non-null object\n",
      "quoted_status.favorite_count                12 non-null float64\n",
      "quoted_status.retweet_count                 12 non-null float64\n",
      "quoted_status.retweeted                     12 non-null object\n",
      "quoted_status.in_reply_to_screen_name       0 non-null float64\n",
      "quoted_status.in_reply_to_status_id         0 non-null float64\n",
      "quoted_status.in_reply_to_user_id           0 non-null float64\n",
      "quoted_status_id                            12 non-null float64\n",
      "quoted_status.user.following                12 non-null object\n",
      "quoted_status.is_quote_status               12 non-null object\n",
      "retweeted_status.id                         17 non-null float64\n",
      "retweeted_status.created_at                 17 non-null object\n",
      "retweeted_status.user.id                    17 non-null float64\n",
      "retweeted_status.user.followers_count       17 non-null float64\n",
      "retweeted_status.user.friends_count         17 non-null float64\n",
      "retweeted_status.user.statuses_count        17 non-null float64\n",
      "retweeted_status.user.verified              17 non-null object\n",
      "retweeted_status.favorite_count             17 non-null float64\n",
      "retweeted_status.retweet_count              17 non-null float64\n",
      "retweeted_status.retweeted                  17 non-null object\n",
      "retweeted_status.in_reply_to_screen_name    0 non-null float64\n",
      "retweeted_status.in_reply_to_status_id      0 non-null float64\n",
      "retweeted_status.in_reply_to_user_id        0 non-null float64\n",
      "retweeted_status.user.following             17 non-null object\n",
      "retweeted_status.is_quote_status            17 non-null object\n",
      "retweeted_status.favorited                  17 non-null object\n",
      "dtypes: bool(3), float64(23), int64(7), object(17)\n",
      "memory usage: 40.4+ KB\n"
     ]
    }
   ],
   "source": [
    "bungie_timeline_min_df = bungie_timeline_df[columns_desired]\n",
    "bungie_timeline_min_df.info()"
   ]
  },
  {
   "cell_type": "code",
   "execution_count": 129,
   "metadata": {},
   "outputs": [
    {
     "name": "stdout",
     "output_type": "stream",
     "text": [
      "<class 'pandas.core.frame.DataFrame'>\n",
      "Int64Index: 46 entries, 0 to 45\n",
      "Data columns (total 50 columns):\n",
      "id                                          46 non-null int64\n",
      "created_at                                  46 non-null object\n",
      "text                                        46 non-null object\n",
      "user.id                                     46 non-null int64\n",
      "user.name                                   46 non-null object\n",
      "user.screen_name                            46 non-null object\n",
      "user.followers_count                        46 non-null int64\n",
      "user.friends_count                          46 non-null int64\n",
      "user.statuses_count                         46 non-null int64\n",
      "user.verified                               46 non-null bool\n",
      "favorite_count                              46 non-null int64\n",
      "retweet_count                               46 non-null int64\n",
      "retweeted                                   46 non-null bool\n",
      "in_reply_to_screen_name                     29 non-null object\n",
      "in_reply_to_status_id                       29 non-null float64\n",
      "in_reply_to_user_id                         29 non-null float64\n",
      "is_quote_status                             46 non-null bool\n",
      "quoted_status.id                            1 non-null float64\n",
      "quoted_status.created_at                    1 non-null object\n",
      "quoted_status.text                          1 non-null object\n",
      "quoted_status.user.id                       1 non-null float64\n",
      "quoted_status.user.followers_count          1 non-null float64\n",
      "quoted_status.user.friends_count            1 non-null float64\n",
      "quoted_status.user.statuses_count           1 non-null float64\n",
      "quoted_status.user.verified                 1 non-null object\n",
      "quoted_status.favorite_count                1 non-null float64\n",
      "quoted_status.retweet_count                 1 non-null float64\n",
      "quoted_status.retweeted                     1 non-null object\n",
      "quoted_status.in_reply_to_screen_name       0 non-null float64\n",
      "quoted_status.in_reply_to_status_id         0 non-null float64\n",
      "quoted_status.in_reply_to_user_id           0 non-null float64\n",
      "quoted_status_id                            1 non-null float64\n",
      "quoted_status.user.following                1 non-null object\n",
      "quoted_status.is_quote_status               1 non-null object\n",
      "retweeted_status.id                         4 non-null float64\n",
      "retweeted_status.created_at                 4 non-null object\n",
      "retweeted_status.user.id                    4 non-null float64\n",
      "retweeted_status.user.followers_count       4 non-null float64\n",
      "retweeted_status.user.friends_count         4 non-null float64\n",
      "retweeted_status.user.statuses_count        4 non-null float64\n",
      "retweeted_status.user.verified              4 non-null object\n",
      "retweeted_status.favorite_count             4 non-null float64\n",
      "retweeted_status.retweet_count              4 non-null float64\n",
      "retweeted_status.retweeted                  4 non-null object\n",
      "retweeted_status.in_reply_to_screen_name    0 non-null float64\n",
      "retweeted_status.in_reply_to_status_id      0 non-null float64\n",
      "retweeted_status.in_reply_to_user_id        0 non-null float64\n",
      "retweeted_status.user.following             4 non-null object\n",
      "retweeted_status.is_quote_status            4 non-null object\n",
      "retweeted_status.favorited                  4 non-null object\n",
      "dtypes: bool(3), float64(23), int64(7), object(17)\n",
      "memory usage: 17.4+ KB\n"
     ]
    }
   ],
   "source": [
    "destiny_2_timeline_min_df = destiny_2_timeline_df[columns_desired]\n",
    "destiny_2_timeline_min_df.info()"
   ]
  },
  {
   "cell_type": "markdown",
   "metadata": {},
   "source": [
    "Excellent. I have gone from 200-300 columns in each dataframe to 50, and they all have the same columns now. That will be very useful.\n",
    "\n",
    "I can tell that most tweets aren't retweets or quotes, since most of the entries in those columns are null. What should I put those entries as?\n",
    "\n",
    "#### Save the new data\n",
    "\n",
    "I accidentally overwrote bungie_tweets.csv, oh well."
   ]
  },
  {
   "cell_type": "code",
   "execution_count": 131,
   "metadata": {},
   "outputs": [],
   "source": [
    "destiny_2_tweet_min_df.to_csv(\"..\\\\data\\\\destiny_2_tweets_min.csv\", encoding='utf-8')\n",
    "bungie_tweet_min_df.to_csv(\"..\\\\data\\\\bungie_tweets_min.csv\", encoding='utf-8')\n",
    "bungie_timeline_min_df.to_csv(\"..\\\\data\\\\bungie_timeline_min.csv\", encoding='utf-8')\n",
    "destiny_2_timeline_min_df.to_csv(\"..\\\\data\\\\destiny_2_timeline_min.csv\", encoding='utf-8')"
   ]
  },
  {
   "cell_type": "code",
   "execution_count": null,
   "metadata": {},
   "outputs": [],
   "source": []
  },
  {
   "cell_type": "code",
   "execution_count": null,
   "metadata": {},
   "outputs": [],
   "source": []
  },
  {
   "cell_type": "code",
   "execution_count": null,
   "metadata": {},
   "outputs": [],
   "source": []
  },
  {
   "cell_type": "code",
   "execution_count": null,
   "metadata": {},
   "outputs": [],
   "source": []
  },
  {
   "cell_type": "code",
   "execution_count": null,
   "metadata": {},
   "outputs": [],
   "source": []
  },
  {
   "cell_type": "code",
   "execution_count": null,
   "metadata": {},
   "outputs": [],
   "source": []
  }
 ],
 "metadata": {
  "kernelspec": {
   "display_name": "Python 2",
   "language": "python",
   "name": "python2"
  },
  "language_info": {
   "codemirror_mode": {
    "name": "ipython",
    "version": 2
   },
   "file_extension": ".py",
   "mimetype": "text/x-python",
   "name": "python",
   "nbconvert_exporter": "python",
   "pygments_lexer": "ipython2",
   "version": "2.7.15"
  }
 },
 "nbformat": 4,
 "nbformat_minor": 2
}
